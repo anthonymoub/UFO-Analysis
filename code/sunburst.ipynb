{
 "cells": [
  {
   "cell_type": "code",
   "execution_count": 1,
   "metadata": {},
   "outputs": [],
   "source": [
    "import plotly.graph_objs as go\n",
    "from plotly.subplots import make_subplots\n",
    "import pandas as pd\n",
    "import numpy as np\n",
    "\n"
   ]
  },
  {
   "cell_type": "code",
   "execution_count": 17,
   "metadata": {},
   "outputs": [
    {
     "name": "stderr",
     "output_type": "stream",
     "text": [
      "/var/folders/r6/q0qh39ts70582wth4g1dhjhm0000gn/T/ipykernel_28356/3796397136.py:3: DtypeWarning:\n",
      "\n",
      "Columns (8) have mixed types. Specify dtype option on import or set low_memory=False.\n",
      "\n",
      "/var/folders/r6/q0qh39ts70582wth4g1dhjhm0000gn/T/ipykernel_28356/3796397136.py:5: FutureWarning:\n",
      "\n",
      "The default value of regex will change from True to False in a future version.\n",
      "\n"
     ]
    }
   ],
   "source": [
    "# Import data \n",
    "\n",
    "df = pd.read_csv(\"../data/ufo_data_nuforc.csv\")\n",
    "\n",
    "df['duration'] = df['duration'].str.replace(r'[-.]', ' ')\n",
    "# drop NaN values from the 'duration' column\n",
    "df = df.dropna(subset=['duration'])\n"
   ]
  },
  {
   "cell_type": "code",
   "execution_count": 18,
   "metadata": {},
   "outputs": [],
   "source": [
    "# Clean duration column \n",
    "\n",
    "import re\n",
    "\n",
    "# define regular expression patterns to extract duration information\n",
    "pattern_minutes = re.compile(r'(\\d+[\\.\\d]*)\\s*(min|mins|minutes)', re.IGNORECASE)\n",
    "pattern_seconds = re.compile(r'(\\d+[\\.\\d]*)\\s*(sec|secs|seconds)', re.IGNORECASE)\n",
    "pattern_hours = re.compile(r'(\\d+[\\.\\d]*)\\s*(hr|hrs|hours)', re.IGNORECASE)\n",
    "\n",
    "# loop over rows of the dataframe\n",
    "for index, row in df.iterrows():\n",
    "    # extract duration information from the 'duration' column using regular expressions\n",
    "    matches_minutes = pattern_minutes.findall(row['duration'])\n",
    "    matches_seconds = pattern_seconds.findall(row['duration'])\n",
    "    matches_hours = pattern_hours.findall(row['duration'])\n",
    "    \n",
    "    # keep only the last duration element found in the row\n",
    "    duration = ''\n",
    "    if matches_minutes:\n",
    "        duration = matches_minutes[-1][0] + ' minutes'\n",
    "    elif matches_seconds:\n",
    "        duration = matches_seconds[-1][0] + ' seconds'\n",
    "    elif matches_hours:\n",
    "        duration = matches_hours[-1][0] + ' hours'\n",
    "    \n",
    "    # update the 'duration' column with the cleaned duration value\n",
    "    df.at[index, 'duration'] = duration\n",
    "\n",
    "# drop rows that don't have any number in the 'duration' column\n",
    "df = df[df['duration'].str.contains(r'\\d')]\n"
   ]
  },
  {
   "cell_type": "code",
   "execution_count": 19,
   "metadata": {},
   "outputs": [
    {
     "data": {
      "text/html": [
       "<div>\n",
       "<style scoped>\n",
       "    .dataframe tbody tr th:only-of-type {\n",
       "        vertical-align: middle;\n",
       "    }\n",
       "\n",
       "    .dataframe tbody tr th {\n",
       "        vertical-align: top;\n",
       "    }\n",
       "\n",
       "    .dataframe thead th {\n",
       "        text-align: right;\n",
       "    }\n",
       "</style>\n",
       "<table border=\"1\" class=\"dataframe\">\n",
       "  <thead>\n",
       "    <tr style=\"text-align: right;\">\n",
       "      <th></th>\n",
       "      <th>index</th>\n",
       "      <th>posted</th>\n",
       "      <th>date</th>\n",
       "      <th>time</th>\n",
       "      <th>city</th>\n",
       "      <th>state</th>\n",
       "      <th>shape</th>\n",
       "      <th>duration</th>\n",
       "      <th>summary</th>\n",
       "      <th>images</th>\n",
       "      <th>Minutes</th>\n",
       "    </tr>\n",
       "  </thead>\n",
       "  <tbody>\n",
       "    <tr>\n",
       "      <th>0</th>\n",
       "      <td>0</td>\n",
       "      <td>12/22/22</td>\n",
       "      <td>12/22/22</td>\n",
       "      <td>09:29:00</td>\n",
       "      <td>Newark</td>\n",
       "      <td>DE</td>\n",
       "      <td>Light</td>\n",
       "      <td>30 seconds</td>\n",
       "      <td>I saw a light that was not flashing moving the...</td>\n",
       "      <td>NaN</td>\n",
       "      <td>0.5</td>\n",
       "    </tr>\n",
       "    <tr>\n",
       "      <th>1</th>\n",
       "      <td>1</td>\n",
       "      <td>12/22/22</td>\n",
       "      <td>12/21/22</td>\n",
       "      <td>21:33:00</td>\n",
       "      <td>Columbus</td>\n",
       "      <td>OH</td>\n",
       "      <td>Light</td>\n",
       "      <td>2 minutes</td>\n",
       "      <td>4-5 orange balls of light in a straight line</td>\n",
       "      <td>NaN</td>\n",
       "      <td>2</td>\n",
       "    </tr>\n",
       "    <tr>\n",
       "      <th>2</th>\n",
       "      <td>2</td>\n",
       "      <td>12/22/22</td>\n",
       "      <td>12/21/22</td>\n",
       "      <td>04:11:00</td>\n",
       "      <td>Franklin</td>\n",
       "      <td>ME</td>\n",
       "      <td>Light</td>\n",
       "      <td>2 hours</td>\n",
       "      <td>Hovering bright light with satellite lights ex...</td>\n",
       "      <td>NaN</td>\n",
       "      <td>120</td>\n",
       "    </tr>\n",
       "    <tr>\n",
       "      <th>3</th>\n",
       "      <td>3</td>\n",
       "      <td>12/22/22</td>\n",
       "      <td>12/20/22</td>\n",
       "      <td>23:30:00</td>\n",
       "      <td>East Greenwich</td>\n",
       "      <td>RI</td>\n",
       "      <td>Light</td>\n",
       "      <td>3 seconds</td>\n",
       "      <td>I was driving the interstate at night with my ...</td>\n",
       "      <td>NaN</td>\n",
       "      <td>0.05</td>\n",
       "    </tr>\n",
       "    <tr>\n",
       "      <th>4</th>\n",
       "      <td>5</td>\n",
       "      <td>12/22/22</td>\n",
       "      <td>12/20/22</td>\n",
       "      <td>02:30:00</td>\n",
       "      <td>Washington DC</td>\n",
       "      <td>WA</td>\n",
       "      <td>Triangle</td>\n",
       "      <td>2 minutes</td>\n",
       "      <td>Object hovering 1-2 minutes, then disappeared ...</td>\n",
       "      <td>NaN</td>\n",
       "      <td>2</td>\n",
       "    </tr>\n",
       "    <tr>\n",
       "      <th>...</th>\n",
       "      <td>...</td>\n",
       "      <td>...</td>\n",
       "      <td>...</td>\n",
       "      <td>...</td>\n",
       "      <td>...</td>\n",
       "      <td>...</td>\n",
       "      <td>...</td>\n",
       "      <td>...</td>\n",
       "      <td>...</td>\n",
       "      <td>...</td>\n",
       "      <td>...</td>\n",
       "    </tr>\n",
       "    <tr>\n",
       "      <th>99212</th>\n",
       "      <td>117823</td>\n",
       "      <td>03/07/98</td>\n",
       "      <td>08/15/79</td>\n",
       "      <td>22:10:00</td>\n",
       "      <td>Beach Haven Terrace (Long Beach Island)</td>\n",
       "      <td>NJ</td>\n",
       "      <td>Fireball</td>\n",
       "      <td>5 seconds</td>\n",
       "      <td>Fireball flying parellel with the horizen,then...</td>\n",
       "      <td>NaN</td>\n",
       "      <td>0.083333</td>\n",
       "    </tr>\n",
       "    <tr>\n",
       "      <th>99213</th>\n",
       "      <td>117824</td>\n",
       "      <td>03/07/98</td>\n",
       "      <td>07/01/79</td>\n",
       "      <td>03:00:00</td>\n",
       "      <td>Chico</td>\n",
       "      <td>CA</td>\n",
       "      <td>Rectangle</td>\n",
       "      <td>7 minutes</td>\n",
       "      <td>A huge solid black mass, silently glided direc...</td>\n",
       "      <td>NaN</td>\n",
       "      <td>7</td>\n",
       "    </tr>\n",
       "    <tr>\n",
       "      <th>99214</th>\n",
       "      <td>117825</td>\n",
       "      <td>03/07/98</td>\n",
       "      <td>12/20/78</td>\n",
       "      <td>17:00:00</td>\n",
       "      <td>Huntington Park</td>\n",
       "      <td>CA</td>\n",
       "      <td>Disk</td>\n",
       "      <td>20 minutes</td>\n",
       "      <td>My Father and I watched a silver object, shape...</td>\n",
       "      <td>NaN</td>\n",
       "      <td>20</td>\n",
       "    </tr>\n",
       "    <tr>\n",
       "      <th>99215</th>\n",
       "      <td>117827</td>\n",
       "      <td>03/07/98</td>\n",
       "      <td>08/01/73</td>\n",
       "      <td>04:00:00</td>\n",
       "      <td>Kittery</td>\n",
       "      <td>ME</td>\n",
       "      <td>Formation</td>\n",
       "      <td>10 seconds</td>\n",
       "      <td>A VERY fast light point object that was viewed...</td>\n",
       "      <td>NaN</td>\n",
       "      <td>0.166667</td>\n",
       "    </tr>\n",
       "    <tr>\n",
       "      <th>99216</th>\n",
       "      <td>117828</td>\n",
       "      <td>03/07/98</td>\n",
       "      <td>07/24/73</td>\n",
       "      <td>02:24:00</td>\n",
       "      <td>Blackfoot</td>\n",
       "      <td>ID</td>\n",
       "      <td>Triangle</td>\n",
       "      <td>4 minutes</td>\n",
       "      <td>Smooth, rounded triangular object, stone grey,...</td>\n",
       "      <td>NaN</td>\n",
       "      <td>4</td>\n",
       "    </tr>\n",
       "  </tbody>\n",
       "</table>\n",
       "<p>99217 rows × 11 columns</p>\n",
       "</div>"
      ],
      "text/plain": [
       "        index    posted      date      time  \\\n",
       "0           0  12/22/22  12/22/22  09:29:00   \n",
       "1           1  12/22/22  12/21/22  21:33:00   \n",
       "2           2  12/22/22  12/21/22  04:11:00   \n",
       "3           3  12/22/22  12/20/22  23:30:00   \n",
       "4           5  12/22/22  12/20/22  02:30:00   \n",
       "...       ...       ...       ...       ...   \n",
       "99212  117823  03/07/98  08/15/79  22:10:00   \n",
       "99213  117824  03/07/98  07/01/79  03:00:00   \n",
       "99214  117825  03/07/98  12/20/78  17:00:00   \n",
       "99215  117827  03/07/98  08/01/73  04:00:00   \n",
       "99216  117828  03/07/98  07/24/73  02:24:00   \n",
       "\n",
       "                                          city state      shape    duration  \\\n",
       "0                                       Newark    DE      Light  30 seconds   \n",
       "1                                     Columbus    OH      Light   2 minutes   \n",
       "2                                     Franklin    ME      Light     2 hours   \n",
       "3                               East Greenwich    RI      Light   3 seconds   \n",
       "4                                Washington DC    WA   Triangle   2 minutes   \n",
       "...                                        ...   ...        ...         ...   \n",
       "99212  Beach Haven Terrace (Long Beach Island)    NJ   Fireball   5 seconds   \n",
       "99213                                    Chico    CA  Rectangle   7 minutes   \n",
       "99214                          Huntington Park    CA       Disk  20 minutes   \n",
       "99215                                  Kittery    ME  Formation  10 seconds   \n",
       "99216                                Blackfoot    ID   Triangle   4 minutes   \n",
       "\n",
       "                                                 summary images   Minutes  \n",
       "0      I saw a light that was not flashing moving the...    NaN       0.5  \n",
       "1           4-5 orange balls of light in a straight line    NaN         2  \n",
       "2      Hovering bright light with satellite lights ex...    NaN       120  \n",
       "3      I was driving the interstate at night with my ...    NaN      0.05  \n",
       "4      Object hovering 1-2 minutes, then disappeared ...    NaN         2  \n",
       "...                                                  ...    ...       ...  \n",
       "99212  Fireball flying parellel with the horizen,then...    NaN  0.083333  \n",
       "99213  A huge solid black mass, silently glided direc...    NaN         7  \n",
       "99214  My Father and I watched a silver object, shape...    NaN        20  \n",
       "99215  A VERY fast light point object that was viewed...    NaN  0.166667  \n",
       "99216  Smooth, rounded triangular object, stone grey,...    NaN         4  \n",
       "\n",
       "[99217 rows x 11 columns]"
      ]
     },
     "execution_count": 19,
     "metadata": {},
     "output_type": "execute_result"
    }
   ],
   "source": [
    "# Convert duration column to numeric values (minutes scale)\n",
    "\n",
    "df= df.reset_index()\n",
    "\n",
    "# Create a new column for that \n",
    "\n",
    "df['Minutes'] = ''\n",
    "\n",
    "for i in range(0,len(df)):\n",
    "    try:\n",
    "        duration = df['duration'][i].split()\n",
    "\n",
    "        if duration[1][0] == 's':\n",
    "            scaler = 1/60\n",
    "        elif duration[1][0] == 'm':\n",
    "            scaler = 1\n",
    "        else:\n",
    "            scaler = 60\n",
    "\n",
    "        minutes = int(duration[0]) * scaler\n",
    "        df.at[i, 'Minutes'] = minutes\n",
    "    except:\n",
    "        df.drop(i, inplace=True)\n",
    "\n",
    "df\n",
    "\n",
    "    "
   ]
  },
  {
   "cell_type": "code",
   "execution_count": 20,
   "metadata": {},
   "outputs": [
    {
     "data": {
      "text/plain": [
       "<AxesSubplot: >"
      ]
     },
     "execution_count": 20,
     "metadata": {},
     "output_type": "execute_result"
    },
    {
     "data": {
      "image/png": "[encoded data removed]",
      "text/plain": [
       "<Figure size 640x480 with 1 Axes>"
      ]
     },
     "metadata": {},
     "output_type": "display_data"
    }
   ],
   "source": [
    "# Get a sense of distribution\n",
    "\n",
    "# Remove all sightings greater than 2 hrs (outliers)\n",
    "df = df[df['Minutes'] <= 120]\n",
    "\n",
    "df['Minutes'].hist()"
   ]
  },
  {
   "attachments": {},
   "cell_type": "markdown",
   "metadata": {},
   "source": [
    "A good way to partition the data would be:\n",
    "\n",
    "_ Less than 20 min <br>\n",
    "_ Between 20 and 60 min <br>\n",
    "_ > 60 min "
   ]
  },
  {
   "cell_type": "code",
   "execution_count": 21,
   "metadata": {},
   "outputs": [
    {
     "name": "stderr",
     "output_type": "stream",
     "text": [
      "/var/folders/r6/q0qh39ts70582wth4g1dhjhm0000gn/T/ipykernel_28356/602099826.py:1: SettingWithCopyWarning:\n",
      "\n",
      "\n",
      "A value is trying to be set on a copy of a slice from a DataFrame.\n",
      "Try using .loc[row_indexer,col_indexer] = value instead\n",
      "\n",
      "See the caveats in the documentation: https://pandas.pydata.org/pandas-docs/stable/user_guide/indexing.html#returning-a-view-versus-a-copy\n",
      "\n"
     ]
    }
   ],
   "source": [
    "df['Duration_slot'] = ''\n",
    "\n"
   ]
  },
  {
   "cell_type": "code",
   "execution_count": 22,
   "metadata": {},
   "outputs": [
    {
     "name": "stderr",
     "output_type": "stream",
     "text": [
      "/var/folders/r6/q0qh39ts70582wth4g1dhjhm0000gn/T/ipykernel_28356/3013992012.py:15: SettingWithCopyWarning:\n",
      "\n",
      "\n",
      "A value is trying to be set on a copy of a slice from a DataFrame.\n",
      "Try using .loc[row_indexer,col_indexer] = value instead\n",
      "\n",
      "See the caveats in the documentation: https://pandas.pydata.org/pandas-docs/stable/user_guide/indexing.html#returning-a-view-versus-a-copy\n",
      "\n"
     ]
    }
   ],
   "source": [
    "# create a function to map the duration to a duration slot\n",
    "def map_duration(duration):\n",
    "    \n",
    "    if duration < 5:\n",
    "        return \"Less than 5 minutes\"\n",
    "    \n",
    "    elif duration < 20:\n",
    "        return \"Between 5 and 20 minutes\"\n",
    "    elif duration < 40:\n",
    "        return \"Between 20 and 40 minutes\"\n",
    "    else:\n",
    "        return \"Greater than 40 minutes\"\n",
    "\n",
    "# apply the function to the 'Minutes' column\n",
    "df['Duration_slot'] = df['Minutes'].apply(map_duration)\n"
   ]
  },
  {
   "cell_type": "code",
   "execution_count": 23,
   "metadata": {},
   "outputs": [
    {
     "name": "stderr",
     "output_type": "stream",
     "text": [
      "/var/folders/r6/q0qh39ts70582wth4g1dhjhm0000gn/T/ipykernel_28356/4115582749.py:1: SettingWithCopyWarning:\n",
      "\n",
      "\n",
      "A value is trying to be set on a copy of a slice from a DataFrame.\n",
      "Try using .loc[row_indexer,col_indexer] = value instead\n",
      "\n",
      "See the caveats in the documentation: https://pandas.pydata.org/pandas-docs/stable/user_guide/indexing.html#returning-a-view-versus-a-copy\n",
      "\n",
      "/var/folders/r6/q0qh39ts70582wth4g1dhjhm0000gn/T/ipykernel_28356/4115582749.py:19: SettingWithCopyWarning:\n",
      "\n",
      "\n",
      "A value is trying to be set on a copy of a slice from a DataFrame.\n",
      "Try using .loc[row_indexer,col_indexer] = value instead\n",
      "\n",
      "See the caveats in the documentation: https://pandas.pydata.org/pandas-docs/stable/user_guide/indexing.html#returning-a-view-versus-a-copy\n",
      "\n"
     ]
    }
   ],
   "source": [
    "df['Shape_slot'] = ''\n",
    "#df = df.reset_index()\n",
    "\n",
    "# create a function to map the duration to a duration slot\n",
    "def map_shape(shape):\n",
    "    \n",
    "    if shape == 'Light':\n",
    "        return \"Light\"\n",
    "    elif shape == \"Circle\":\n",
    "        return \"Circle\"\n",
    "    elif shape == \"Triangle\":\n",
    "        return \"Triangle\"\n",
    "    elif shape == \"Fireball\":\n",
    "        return \"Fireball\"\n",
    "    else:\n",
    "        return \"Other\"\n",
    "\n",
    "# apply the function to the 'Minutes' column\n",
    "df['Shape_slot'] = df['shape'].apply(map_shape)\n"
   ]
  },
  {
   "cell_type": "code",
   "execution_count": 24,
   "metadata": {},
   "outputs": [],
   "source": [
    "# Group by 'Duration_slot', 'Shape_slot', and 'state', and count the number of rows for each group\n",
    "grouped = df.groupby(['Duration_slot', 'Shape_slot', 'state']).count().reset_index()\n",
    "\n"
   ]
  },
  {
   "cell_type": "code",
   "execution_count": 25,
   "metadata": {},
   "outputs": [
    {
     "data": {
      "text/html": [
       "<div>\n",
       "<style scoped>\n",
       "    .dataframe tbody tr th:only-of-type {\n",
       "        vertical-align: middle;\n",
       "    }\n",
       "\n",
       "    .dataframe tbody tr th {\n",
       "        vertical-align: top;\n",
       "    }\n",
       "\n",
       "    .dataframe thead th {\n",
       "        text-align: right;\n",
       "    }\n",
       "</style>\n",
       "<table border=\"1\" class=\"dataframe\">\n",
       "  <thead>\n",
       "    <tr style=\"text-align: right;\">\n",
       "      <th></th>\n",
       "      <th>Duration_slot</th>\n",
       "      <th>Shape_slot</th>\n",
       "      <th>state</th>\n",
       "    </tr>\n",
       "  </thead>\n",
       "  <tbody>\n",
       "    <tr>\n",
       "      <th>0</th>\n",
       "      <td>Between 20 and 40 minutes</td>\n",
       "      <td>Circle</td>\n",
       "      <td>AK</td>\n",
       "    </tr>\n",
       "    <tr>\n",
       "      <th>1</th>\n",
       "      <td>Between 20 and 40 minutes</td>\n",
       "      <td>Circle</td>\n",
       "      <td>AL</td>\n",
       "    </tr>\n",
       "    <tr>\n",
       "      <th>2</th>\n",
       "      <td>Between 20 and 40 minutes</td>\n",
       "      <td>Circle</td>\n",
       "      <td>AR</td>\n",
       "    </tr>\n",
       "    <tr>\n",
       "      <th>3</th>\n",
       "      <td>Between 20 and 40 minutes</td>\n",
       "      <td>Circle</td>\n",
       "      <td>AZ</td>\n",
       "    </tr>\n",
       "    <tr>\n",
       "      <th>4</th>\n",
       "      <td>Between 20 and 40 minutes</td>\n",
       "      <td>Circle</td>\n",
       "      <td>CA</td>\n",
       "    </tr>\n",
       "    <tr>\n",
       "      <th>...</th>\n",
       "      <td>...</td>\n",
       "      <td>...</td>\n",
       "      <td>...</td>\n",
       "    </tr>\n",
       "    <tr>\n",
       "      <th>998</th>\n",
       "      <td>Less than 5 minutes</td>\n",
       "      <td>Triangle</td>\n",
       "      <td>VT</td>\n",
       "    </tr>\n",
       "    <tr>\n",
       "      <th>999</th>\n",
       "      <td>Less than 5 minutes</td>\n",
       "      <td>Triangle</td>\n",
       "      <td>WA</td>\n",
       "    </tr>\n",
       "    <tr>\n",
       "      <th>1000</th>\n",
       "      <td>Less than 5 minutes</td>\n",
       "      <td>Triangle</td>\n",
       "      <td>WI</td>\n",
       "    </tr>\n",
       "    <tr>\n",
       "      <th>1001</th>\n",
       "      <td>Less than 5 minutes</td>\n",
       "      <td>Triangle</td>\n",
       "      <td>WV</td>\n",
       "    </tr>\n",
       "    <tr>\n",
       "      <th>1002</th>\n",
       "      <td>Less than 5 minutes</td>\n",
       "      <td>Triangle</td>\n",
       "      <td>WY</td>\n",
       "    </tr>\n",
       "  </tbody>\n",
       "</table>\n",
       "<p>1003 rows × 3 columns</p>\n",
       "</div>"
      ],
      "text/plain": [
       "                  Duration_slot Shape_slot state\n",
       "0     Between 20 and 40 minutes     Circle    AK\n",
       "1     Between 20 and 40 minutes     Circle    AL\n",
       "2     Between 20 and 40 minutes     Circle    AR\n",
       "3     Between 20 and 40 minutes     Circle    AZ\n",
       "4     Between 20 and 40 minutes     Circle    CA\n",
       "...                         ...        ...   ...\n",
       "998         Less than 5 minutes   Triangle    VT\n",
       "999         Less than 5 minutes   Triangle    WA\n",
       "1000        Less than 5 minutes   Triangle    WI\n",
       "1001        Less than 5 minutes   Triangle    WV\n",
       "1002        Less than 5 minutes   Triangle    WY\n",
       "\n",
       "[1003 rows x 3 columns]"
      ]
     },
     "execution_count": 25,
     "metadata": {},
     "output_type": "execute_result"
    }
   ],
   "source": [
    "new_df = grouped[['Duration_slot' , 'Shape_slot', 'state']]\n",
    "\n",
    "new_df"
   ]
  },
  {
   "cell_type": "code",
   "execution_count": 26,
   "metadata": {},
   "outputs": [
    {
     "data": {
      "text/html": [
       "<div>\n",
       "<style scoped>\n",
       "    .dataframe tbody tr th:only-of-type {\n",
       "        vertical-align: middle;\n",
       "    }\n",
       "\n",
       "    .dataframe tbody tr th {\n",
       "        vertical-align: top;\n",
       "    }\n",
       "\n",
       "    .dataframe thead th {\n",
       "        text-align: right;\n",
       "    }\n",
       "</style>\n",
       "<table border=\"1\" class=\"dataframe\">\n",
       "  <thead>\n",
       "    <tr style=\"text-align: right;\">\n",
       "      <th></th>\n",
       "      <th>city</th>\n",
       "      <th>state</th>\n",
       "    </tr>\n",
       "  </thead>\n",
       "  <tbody>\n",
       "    <tr>\n",
       "      <th>0</th>\n",
       "      <td>Newark</td>\n",
       "      <td>DE</td>\n",
       "    </tr>\n",
       "    <tr>\n",
       "      <th>1</th>\n",
       "      <td>Columbus</td>\n",
       "      <td>OH</td>\n",
       "    </tr>\n",
       "    <tr>\n",
       "      <th>2</th>\n",
       "      <td>Franklin</td>\n",
       "      <td>ME</td>\n",
       "    </tr>\n",
       "    <tr>\n",
       "      <th>3</th>\n",
       "      <td>East Greenwich</td>\n",
       "      <td>RI</td>\n",
       "    </tr>\n",
       "    <tr>\n",
       "      <th>4</th>\n",
       "      <td>Washington DC</td>\n",
       "      <td>WA</td>\n",
       "    </tr>\n",
       "  </tbody>\n",
       "</table>\n",
       "</div>"
      ],
      "text/plain": [
       "             city state\n",
       "0          Newark    DE\n",
       "1        Columbus    OH\n",
       "2        Franklin    ME\n",
       "3  East Greenwich    RI\n",
       "4   Washington DC    WA"
      ]
     },
     "execution_count": 26,
     "metadata": {},
     "output_type": "execute_result"
    }
   ],
   "source": [
    "geo_info = df[['city' , 'state', 'Duration_slot']]\n",
    "geo_info2 = geo_info[['city' , 'state']]\n",
    "geo_info2.head()"
   ]
  },
  {
   "cell_type": "code",
   "execution_count": 27,
   "metadata": {},
   "outputs": [],
   "source": [
    "state_to_region = {\n",
    "    'AL': 'South',\n",
    "    'AK': 'West',\n",
    "    'AZ': 'West',\n",
    "    'AR': 'South',\n",
    "    'CA': 'West',\n",
    "    'CO': 'West',\n",
    "    'CT': 'East',\n",
    "    'DE': 'East',\n",
    "    'FL': 'South',\n",
    "    'GA': 'South',\n",
    "    'HI': 'West',\n",
    "    'ID': 'West',\n",
    "    'IL': 'Midwest',\n",
    "    'IN': 'Midwest',\n",
    "    'IA': 'Midwest',\n",
    "    'KS': 'Midwest',\n",
    "    'KY': 'South',\n",
    "    'LA': 'South',\n",
    "    'ME': 'North',\n",
    "    'MD': 'East',\n",
    "    'MA': 'East',\n",
    "    'MI': 'Midwest',\n",
    "    'MN': 'Midwest',\n",
    "    'MS': 'South',\n",
    "    'MO': 'Midwest',\n",
    "    'MT': 'West',\n",
    "    'NE': 'Midwest',\n",
    "    'NV': 'West',\n",
    "    'NH': 'North',\n",
    "    'NJ': 'East',\n",
    "    'NM': 'West',\n",
    "    'NY': 'East',\n",
    "    'NC': 'South',\n",
    "    'ND': 'Midwest',\n",
    "    'OH': 'Midwest',\n",
    "    'OK': 'South',\n",
    "    'OR': 'West',\n",
    "    'PA': 'East',\n",
    "    'RI': 'North',\n",
    "    'SC': 'South',\n",
    "    'SD': 'Midwest',\n",
    "    'TN': 'South',\n",
    "    'TX': 'South',\n",
    "    'UT': 'West',\n",
    "    'VT': 'North',\n",
    "    'VA': 'South',\n",
    "    'WA': 'West',\n",
    "    'WV': 'South',\n",
    "    'WI': 'Midwest',\n",
    "    'WY': 'West',\n",
    "    'AS': 'Other',\n",
    "    'DC': 'East',\n",
    "    'FM': 'Other',\n",
    "    'GU': 'Other',\n",
    "    'MH': 'Other',\n",
    "    'MP': 'Other',\n",
    "    'PW': 'Other',\n",
    "    'PR': 'Other',\n",
    "    'VI': 'Other'\n",
    "}\n"
   ]
  },
  {
   "cell_type": "code",
   "execution_count": 28,
   "metadata": {},
   "outputs": [],
   "source": [
    "# map the state codes to regions and create a new column \"region\"\n",
    "geo_info2['region'] = geo_info2['state'].map(state_to_region)\n"
   ]
  },
  {
   "cell_type": "code",
   "execution_count": 29,
   "metadata": {},
   "outputs": [
    {
     "data": {
      "text/html": [
       "<div>\n",
       "<style scoped>\n",
       "    .dataframe tbody tr th:only-of-type {\n",
       "        vertical-align: middle;\n",
       "    }\n",
       "\n",
       "    .dataframe tbody tr th {\n",
       "        vertical-align: top;\n",
       "    }\n",
       "\n",
       "    .dataframe thead th {\n",
       "        text-align: right;\n",
       "    }\n",
       "</style>\n",
       "<table border=\"1\" class=\"dataframe\">\n",
       "  <thead>\n",
       "    <tr style=\"text-align: right;\">\n",
       "      <th></th>\n",
       "      <th>city</th>\n",
       "      <th>state</th>\n",
       "      <th>Duration_slot</th>\n",
       "    </tr>\n",
       "  </thead>\n",
       "  <tbody>\n",
       "    <tr>\n",
       "      <th>0</th>\n",
       "      <td>Newark</td>\n",
       "      <td>DE</td>\n",
       "      <td>Less than 5 minutes</td>\n",
       "    </tr>\n",
       "    <tr>\n",
       "      <th>1</th>\n",
       "      <td>Columbus</td>\n",
       "      <td>OH</td>\n",
       "      <td>Less than 5 minutes</td>\n",
       "    </tr>\n",
       "    <tr>\n",
       "      <th>2</th>\n",
       "      <td>Franklin</td>\n",
       "      <td>ME</td>\n",
       "      <td>Greater than 40 minutes</td>\n",
       "    </tr>\n",
       "    <tr>\n",
       "      <th>3</th>\n",
       "      <td>East Greenwich</td>\n",
       "      <td>RI</td>\n",
       "      <td>Less than 5 minutes</td>\n",
       "    </tr>\n",
       "    <tr>\n",
       "      <th>4</th>\n",
       "      <td>Washington DC</td>\n",
       "      <td>WA</td>\n",
       "      <td>Less than 5 minutes</td>\n",
       "    </tr>\n",
       "    <tr>\n",
       "      <th>...</th>\n",
       "      <td>...</td>\n",
       "      <td>...</td>\n",
       "      <td>...</td>\n",
       "    </tr>\n",
       "    <tr>\n",
       "      <th>99212</th>\n",
       "      <td>Beach Haven Terrace (Long Beach Island)</td>\n",
       "      <td>NJ</td>\n",
       "      <td>Less than 5 minutes</td>\n",
       "    </tr>\n",
       "    <tr>\n",
       "      <th>99213</th>\n",
       "      <td>Chico</td>\n",
       "      <td>CA</td>\n",
       "      <td>Between 5 and 20 minutes</td>\n",
       "    </tr>\n",
       "    <tr>\n",
       "      <th>99214</th>\n",
       "      <td>Huntington Park</td>\n",
       "      <td>CA</td>\n",
       "      <td>Between 20 and 40 minutes</td>\n",
       "    </tr>\n",
       "    <tr>\n",
       "      <th>99215</th>\n",
       "      <td>Kittery</td>\n",
       "      <td>ME</td>\n",
       "      <td>Less than 5 minutes</td>\n",
       "    </tr>\n",
       "    <tr>\n",
       "      <th>99216</th>\n",
       "      <td>Blackfoot</td>\n",
       "      <td>ID</td>\n",
       "      <td>Less than 5 minutes</td>\n",
       "    </tr>\n",
       "  </tbody>\n",
       "</table>\n",
       "<p>97560 rows × 3 columns</p>\n",
       "</div>"
      ],
      "text/plain": [
       "                                          city state  \\\n",
       "0                                       Newark    DE   \n",
       "1                                     Columbus    OH   \n",
       "2                                     Franklin    ME   \n",
       "3                               East Greenwich    RI   \n",
       "4                                Washington DC    WA   \n",
       "...                                        ...   ...   \n",
       "99212  Beach Haven Terrace (Long Beach Island)    NJ   \n",
       "99213                                    Chico    CA   \n",
       "99214                          Huntington Park    CA   \n",
       "99215                                  Kittery    ME   \n",
       "99216                                Blackfoot    ID   \n",
       "\n",
       "                   Duration_slot  \n",
       "0            Less than 5 minutes  \n",
       "1            Less than 5 minutes  \n",
       "2        Greater than 40 minutes  \n",
       "3            Less than 5 minutes  \n",
       "4            Less than 5 minutes  \n",
       "...                          ...  \n",
       "99212        Less than 5 minutes  \n",
       "99213   Between 5 and 20 minutes  \n",
       "99214  Between 20 and 40 minutes  \n",
       "99215        Less than 5 minutes  \n",
       "99216        Less than 5 minutes  \n",
       "\n",
       "[97560 rows x 3 columns]"
      ]
     },
     "execution_count": 29,
     "metadata": {},
     "output_type": "execute_result"
    }
   ],
   "source": [
    "geo_info"
   ]
  },
  {
   "cell_type": "code",
   "execution_count": 30,
   "metadata": {},
   "outputs": [],
   "source": [
    "grouped = geo_info2.groupby(['region' , 'state']).count().reset_index()"
   ]
  },
  {
   "cell_type": "code",
   "execution_count": 31,
   "metadata": {},
   "outputs": [
    {
     "data": {
      "text/html": [
       "<div>\n",
       "<style scoped>\n",
       "    .dataframe tbody tr th:only-of-type {\n",
       "        vertical-align: middle;\n",
       "    }\n",
       "\n",
       "    .dataframe tbody tr th {\n",
       "        vertical-align: top;\n",
       "    }\n",
       "\n",
       "    .dataframe thead th {\n",
       "        text-align: right;\n",
       "    }\n",
       "</style>\n",
       "<table border=\"1\" class=\"dataframe\">\n",
       "  <thead>\n",
       "    <tr style=\"text-align: right;\">\n",
       "      <th></th>\n",
       "      <th>region</th>\n",
       "      <th>state</th>\n",
       "      <th>city</th>\n",
       "    </tr>\n",
       "  </thead>\n",
       "  <tbody>\n",
       "    <tr>\n",
       "      <th>0</th>\n",
       "      <td>East</td>\n",
       "      <td>CT</td>\n",
       "      <td>1396</td>\n",
       "    </tr>\n",
       "    <tr>\n",
       "      <th>1</th>\n",
       "      <td>East</td>\n",
       "      <td>DC</td>\n",
       "      <td>100</td>\n",
       "    </tr>\n",
       "    <tr>\n",
       "      <th>2</th>\n",
       "      <td>East</td>\n",
       "      <td>DE</td>\n",
       "      <td>310</td>\n",
       "    </tr>\n",
       "    <tr>\n",
       "      <th>3</th>\n",
       "      <td>East</td>\n",
       "      <td>MA</td>\n",
       "      <td>1995</td>\n",
       "    </tr>\n",
       "    <tr>\n",
       "      <th>4</th>\n",
       "      <td>East</td>\n",
       "      <td>MD</td>\n",
       "      <td>1354</td>\n",
       "    </tr>\n",
       "    <tr>\n",
       "      <th>5</th>\n",
       "      <td>East</td>\n",
       "      <td>NJ</td>\n",
       "      <td>2122</td>\n",
       "    </tr>\n",
       "    <tr>\n",
       "      <th>6</th>\n",
       "      <td>East</td>\n",
       "      <td>NY</td>\n",
       "      <td>4333</td>\n",
       "    </tr>\n",
       "    <tr>\n",
       "      <th>7</th>\n",
       "      <td>East</td>\n",
       "      <td>PA</td>\n",
       "      <td>3705</td>\n",
       "    </tr>\n",
       "    <tr>\n",
       "      <th>8</th>\n",
       "      <td>Midwest</td>\n",
       "      <td>IA</td>\n",
       "      <td>917</td>\n",
       "    </tr>\n",
       "    <tr>\n",
       "      <th>9</th>\n",
       "      <td>Midwest</td>\n",
       "      <td>IL</td>\n",
       "      <td>3214</td>\n",
       "    </tr>\n",
       "    <tr>\n",
       "      <th>10</th>\n",
       "      <td>Midwest</td>\n",
       "      <td>IN</td>\n",
       "      <td>1784</td>\n",
       "    </tr>\n",
       "    <tr>\n",
       "      <th>11</th>\n",
       "      <td>Midwest</td>\n",
       "      <td>KS</td>\n",
       "      <td>895</td>\n",
       "    </tr>\n",
       "    <tr>\n",
       "      <th>12</th>\n",
       "      <td>Midwest</td>\n",
       "      <td>MI</td>\n",
       "      <td>2683</td>\n",
       "    </tr>\n",
       "    <tr>\n",
       "      <th>13</th>\n",
       "      <td>Midwest</td>\n",
       "      <td>MN</td>\n",
       "      <td>1593</td>\n",
       "    </tr>\n",
       "    <tr>\n",
       "      <th>14</th>\n",
       "      <td>Midwest</td>\n",
       "      <td>MO</td>\n",
       "      <td>2045</td>\n",
       "    </tr>\n",
       "    <tr>\n",
       "      <th>15</th>\n",
       "      <td>Midwest</td>\n",
       "      <td>ND</td>\n",
       "      <td>194</td>\n",
       "    </tr>\n",
       "    <tr>\n",
       "      <th>16</th>\n",
       "      <td>Midwest</td>\n",
       "      <td>NE</td>\n",
       "      <td>518</td>\n",
       "    </tr>\n",
       "    <tr>\n",
       "      <th>17</th>\n",
       "      <td>Midwest</td>\n",
       "      <td>OH</td>\n",
       "      <td>3276</td>\n",
       "    </tr>\n",
       "    <tr>\n",
       "      <th>18</th>\n",
       "      <td>Midwest</td>\n",
       "      <td>SD</td>\n",
       "      <td>287</td>\n",
       "    </tr>\n",
       "    <tr>\n",
       "      <th>19</th>\n",
       "      <td>Midwest</td>\n",
       "      <td>WI</td>\n",
       "      <td>1909</td>\n",
       "    </tr>\n",
       "    <tr>\n",
       "      <th>20</th>\n",
       "      <td>North</td>\n",
       "      <td>ME</td>\n",
       "      <td>881</td>\n",
       "    </tr>\n",
       "    <tr>\n",
       "      <th>21</th>\n",
       "      <td>North</td>\n",
       "      <td>NH</td>\n",
       "      <td>895</td>\n",
       "    </tr>\n",
       "    <tr>\n",
       "      <th>22</th>\n",
       "      <td>North</td>\n",
       "      <td>RI</td>\n",
       "      <td>465</td>\n",
       "    </tr>\n",
       "    <tr>\n",
       "      <th>23</th>\n",
       "      <td>North</td>\n",
       "      <td>VT</td>\n",
       "      <td>482</td>\n",
       "    </tr>\n",
       "    <tr>\n",
       "      <th>24</th>\n",
       "      <td>Other</td>\n",
       "      <td>PR</td>\n",
       "      <td>28</td>\n",
       "    </tr>\n",
       "    <tr>\n",
       "      <th>25</th>\n",
       "      <td>Other</td>\n",
       "      <td>VI</td>\n",
       "      <td>1</td>\n",
       "    </tr>\n",
       "    <tr>\n",
       "      <th>26</th>\n",
       "      <td>South</td>\n",
       "      <td>AL</td>\n",
       "      <td>1002</td>\n",
       "    </tr>\n",
       "    <tr>\n",
       "      <th>27</th>\n",
       "      <td>South</td>\n",
       "      <td>AR</td>\n",
       "      <td>862</td>\n",
       "    </tr>\n",
       "    <tr>\n",
       "      <th>28</th>\n",
       "      <td>South</td>\n",
       "      <td>FL</td>\n",
       "      <td>6196</td>\n",
       "    </tr>\n",
       "    <tr>\n",
       "      <th>29</th>\n",
       "      <td>South</td>\n",
       "      <td>GA</td>\n",
       "      <td>1977</td>\n",
       "    </tr>\n",
       "    <tr>\n",
       "      <th>30</th>\n",
       "      <td>South</td>\n",
       "      <td>KY</td>\n",
       "      <td>1248</td>\n",
       "    </tr>\n",
       "    <tr>\n",
       "      <th>31</th>\n",
       "      <td>South</td>\n",
       "      <td>LA</td>\n",
       "      <td>843</td>\n",
       "    </tr>\n",
       "    <tr>\n",
       "      <th>32</th>\n",
       "      <td>South</td>\n",
       "      <td>MS</td>\n",
       "      <td>562</td>\n",
       "    </tr>\n",
       "    <tr>\n",
       "      <th>33</th>\n",
       "      <td>South</td>\n",
       "      <td>NC</td>\n",
       "      <td>2790</td>\n",
       "    </tr>\n",
       "    <tr>\n",
       "      <th>34</th>\n",
       "      <td>South</td>\n",
       "      <td>OK</td>\n",
       "      <td>1123</td>\n",
       "    </tr>\n",
       "    <tr>\n",
       "      <th>35</th>\n",
       "      <td>South</td>\n",
       "      <td>SC</td>\n",
       "      <td>1730</td>\n",
       "    </tr>\n",
       "    <tr>\n",
       "      <th>36</th>\n",
       "      <td>South</td>\n",
       "      <td>TN</td>\n",
       "      <td>1710</td>\n",
       "    </tr>\n",
       "    <tr>\n",
       "      <th>37</th>\n",
       "      <td>South</td>\n",
       "      <td>TX</td>\n",
       "      <td>4470</td>\n",
       "    </tr>\n",
       "    <tr>\n",
       "      <th>38</th>\n",
       "      <td>South</td>\n",
       "      <td>VA</td>\n",
       "      <td>1994</td>\n",
       "    </tr>\n",
       "    <tr>\n",
       "      <th>39</th>\n",
       "      <td>South</td>\n",
       "      <td>WV</td>\n",
       "      <td>665</td>\n",
       "    </tr>\n",
       "    <tr>\n",
       "      <th>40</th>\n",
       "      <td>West</td>\n",
       "      <td>AK</td>\n",
       "      <td>484</td>\n",
       "    </tr>\n",
       "    <tr>\n",
       "      <th>41</th>\n",
       "      <td>West</td>\n",
       "      <td>AZ</td>\n",
       "      <td>3741</td>\n",
       "    </tr>\n",
       "    <tr>\n",
       "      <th>42</th>\n",
       "      <td>West</td>\n",
       "      <td>CA</td>\n",
       "      <td>12361</td>\n",
       "    </tr>\n",
       "    <tr>\n",
       "      <th>43</th>\n",
       "      <td>West</td>\n",
       "      <td>CO</td>\n",
       "      <td>2380</td>\n",
       "    </tr>\n",
       "    <tr>\n",
       "      <th>44</th>\n",
       "      <td>West</td>\n",
       "      <td>HI</td>\n",
       "      <td>519</td>\n",
       "    </tr>\n",
       "    <tr>\n",
       "      <th>45</th>\n",
       "      <td>West</td>\n",
       "      <td>ID</td>\n",
       "      <td>1011</td>\n",
       "    </tr>\n",
       "    <tr>\n",
       "      <th>46</th>\n",
       "      <td>West</td>\n",
       "      <td>MT</td>\n",
       "      <td>708</td>\n",
       "    </tr>\n",
       "    <tr>\n",
       "      <th>47</th>\n",
       "      <td>West</td>\n",
       "      <td>NM</td>\n",
       "      <td>1169</td>\n",
       "    </tr>\n",
       "    <tr>\n",
       "      <th>48</th>\n",
       "      <td>West</td>\n",
       "      <td>NV</td>\n",
       "      <td>1254</td>\n",
       "    </tr>\n",
       "    <tr>\n",
       "      <th>49</th>\n",
       "      <td>West</td>\n",
       "      <td>OR</td>\n",
       "      <td>2658</td>\n",
       "    </tr>\n",
       "    <tr>\n",
       "      <th>50</th>\n",
       "      <td>West</td>\n",
       "      <td>UT</td>\n",
       "      <td>1171</td>\n",
       "    </tr>\n",
       "    <tr>\n",
       "      <th>51</th>\n",
       "      <td>West</td>\n",
       "      <td>WA</td>\n",
       "      <td>5260</td>\n",
       "    </tr>\n",
       "    <tr>\n",
       "      <th>52</th>\n",
       "      <td>West</td>\n",
       "      <td>WY</td>\n",
       "      <td>290</td>\n",
       "    </tr>\n",
       "  </tbody>\n",
       "</table>\n",
       "</div>"
      ],
      "text/plain": [
       "     region state   city\n",
       "0      East    CT   1396\n",
       "1      East    DC    100\n",
       "2      East    DE    310\n",
       "3      East    MA   1995\n",
       "4      East    MD   1354\n",
       "5      East    NJ   2122\n",
       "6      East    NY   4333\n",
       "7      East    PA   3705\n",
       "8   Midwest    IA    917\n",
       "9   Midwest    IL   3214\n",
       "10  Midwest    IN   1784\n",
       "11  Midwest    KS    895\n",
       "12  Midwest    MI   2683\n",
       "13  Midwest    MN   1593\n",
       "14  Midwest    MO   2045\n",
       "15  Midwest    ND    194\n",
       "16  Midwest    NE    518\n",
       "17  Midwest    OH   3276\n",
       "18  Midwest    SD    287\n",
       "19  Midwest    WI   1909\n",
       "20    North    ME    881\n",
       "21    North    NH    895\n",
       "22    North    RI    465\n",
       "23    North    VT    482\n",
       "24    Other    PR     28\n",
       "25    Other    VI      1\n",
       "26    South    AL   1002\n",
       "27    South    AR    862\n",
       "28    South    FL   6196\n",
       "29    South    GA   1977\n",
       "30    South    KY   1248\n",
       "31    South    LA    843\n",
       "32    South    MS    562\n",
       "33    South    NC   2790\n",
       "34    South    OK   1123\n",
       "35    South    SC   1730\n",
       "36    South    TN   1710\n",
       "37    South    TX   4470\n",
       "38    South    VA   1994\n",
       "39    South    WV    665\n",
       "40     West    AK    484\n",
       "41     West    AZ   3741\n",
       "42     West    CA  12361\n",
       "43     West    CO   2380\n",
       "44     West    HI    519\n",
       "45     West    ID   1011\n",
       "46     West    MT    708\n",
       "47     West    NM   1169\n",
       "48     West    NV   1254\n",
       "49     West    OR   2658\n",
       "50     West    UT   1171\n",
       "51     West    WA   5260\n",
       "52     West    WY    290"
      ]
     },
     "execution_count": 31,
     "metadata": {},
     "output_type": "execute_result"
    }
   ],
   "source": [
    "grouped"
   ]
  },
  {
   "cell_type": "code",
   "execution_count": 32,
   "metadata": {},
   "outputs": [
    {
     "name": "stderr",
     "output_type": "stream",
     "text": [
      "/var/folders/r6/q0qh39ts70582wth4g1dhjhm0000gn/T/ipykernel_28356/415683147.py:30: FutureWarning:\n",
      "\n",
      "The frame.append method is deprecated and will be removed from pandas in a future version. Use pandas.concat instead.\n",
      "\n",
      "/var/folders/r6/q0qh39ts70582wth4g1dhjhm0000gn/T/ipykernel_28356/415683147.py:21: FutureWarning:\n",
      "\n",
      "The default value of numeric_only in DataFrameGroupBy.sum is deprecated. In a future version, numeric_only will default to False. Either specify numeric_only or select only columns which should be valid for the function.\n",
      "\n",
      "/var/folders/r6/q0qh39ts70582wth4g1dhjhm0000gn/T/ipykernel_28356/415683147.py:30: FutureWarning:\n",
      "\n",
      "The frame.append method is deprecated and will be removed from pandas in a future version. Use pandas.concat instead.\n",
      "\n",
      "/var/folders/r6/q0qh39ts70582wth4g1dhjhm0000gn/T/ipykernel_28356/415683147.py:34: FutureWarning:\n",
      "\n",
      "The frame.append method is deprecated and will be removed from pandas in a future version. Use pandas.concat instead.\n",
      "\n"
     ]
    },
    {
     "data": {
      "application/vnd.plotly.v1+json": {
       "config": {
        "plotlyServerURL": "https://plotly.com"
       },
       "data": [
        {
         "branchvalues": "total",
         "domain": {
          "x": [
           0,
           0.45
          ],
          "y": [
           0,
           1
          ]
         },
         "hovertemplate": "<b>%{label} </b> <br> Sightings: %{value}",
         "labels": [
          "AK",
          "AL",
          "AR",
          "AZ",
          "CA",
          "CO",
          "CT",
          "DC",
          "DE",
          "FL",
          "GA",
          "HI",
          "IA",
          "ID",
          "IL",
          "IN",
          "KS",
          "KY",
          "LA",
          "MA",
          "MD",
          "ME",
          "MI",
          "MN",
          "MO",
          "MS",
          "MT",
          "NC",
          "ND",
          "NE",
          "NH",
          "NJ",
          "NM",
          "NV",
          "NY",
          "OH",
          "OK",
          "OR",
          "PA",
          "PR",
          "RI",
          "SC",
          "SD",
          "TN",
          "TX",
          "UT",
          "VA",
          "VI",
          "VT",
          "WA",
          "WI",
          "WV",
          "WY",
          "East",
          "Midwest",
          "North",
          "Other",
          "South",
          "West",
          "total"
         ],
         "marker": {
          "cmid": 0.5310344827586206,
          "colors": [
           1,
           1,
           1,
           1,
           1,
           1,
           1,
           1,
           1,
           1,
           1,
           1,
           1,
           1,
           1,
           1,
           1,
           1,
           1,
           1,
           1,
           1,
           1,
           1,
           1,
           1,
           1,
           1,
           1,
           1,
           1,
           1,
           1,
           1,
           1,
           1,
           1,
           1,
           1,
           1,
           1,
           1,
           1,
           1,
           1,
           1,
           1,
           1,
           1,
           1,
           1,
           1,
           1,
           1,
           1,
           1,
           1,
           1,
           1,
           1
          ],
          "colorscale": [
           [
            0,
            "rgb(103,0,31)"
           ],
           [
            0.1,
            "rgb(178,24,43)"
           ],
           [
            0.2,
            "rgb(214,96,77)"
           ],
           [
            0.3,
            "rgb(244,165,130)"
           ],
           [
            0.4,
            "rgb(253,219,199)"
           ],
           [
            0.5,
            "rgb(247,247,247)"
           ],
           [
            0.6,
            "rgb(209,229,240)"
           ],
           [
            0.7,
            "rgb(146,197,222)"
           ],
           [
            0.8,
            "rgb(67,147,195)"
           ],
           [
            0.9,
            "rgb(33,102,172)"
           ],
           [
            1,
            "rgb(5,48,97)"
           ]
          ]
         },
         "name": "",
         "parents": [
          "West",
          "South",
          "South",
          "West",
          "West",
          "West",
          "East",
          "East",
          "East",
          "South",
          "South",
          "West",
          "Midwest",
          "West",
          "Midwest",
          "Midwest",
          "Midwest",
          "South",
          "South",
          "East",
          "East",
          "North",
          "Midwest",
          "Midwest",
          "Midwest",
          "South",
          "West",
          "South",
          "Midwest",
          "Midwest",
          "North",
          "East",
          "West",
          "West",
          "East",
          "Midwest",
          "South",
          "West",
          "East",
          "Other",
          "North",
          "South",
          "Midwest",
          "South",
          "South",
          "West",
          "South",
          "Other",
          "North",
          "West",
          "Midwest",
          "South",
          "West",
          "total",
          "total",
          "total",
          "total",
          "total",
          "total",
          ""
         ],
         "type": "sunburst",
         "values": [
          484,
          1002,
          862,
          3741,
          12361,
          2380,
          1396,
          100,
          310,
          6196,
          1977,
          519,
          917,
          1011,
          3214,
          1784,
          895,
          1248,
          843,
          1995,
          1354,
          881,
          2683,
          1593,
          2045,
          562,
          708,
          2790,
          194,
          518,
          895,
          2122,
          1169,
          1254,
          4333,
          3276,
          1123,
          2658,
          3705,
          28,
          465,
          1730,
          287,
          1710,
          4470,
          1171,
          1994,
          1,
          482,
          5260,
          1909,
          665,
          290,
          15315,
          19315,
          2723,
          29,
          27172,
          33006,
          97560
         ]
        },
        {
         "branchvalues": "total",
         "domain": {
          "x": [
           0.55,
           1
          ],
          "y": [
           0,
           1
          ]
         },
         "hovertemplate": "<b>%{label} </b> <br> Sightings: %{value}",
         "labels": [
          "AK",
          "AL",
          "AR",
          "AZ",
          "CA",
          "CO",
          "CT",
          "DC",
          "DE",
          "FL",
          "GA",
          "HI",
          "IA",
          "ID",
          "IL",
          "IN",
          "KS",
          "KY",
          "LA",
          "MA",
          "MD",
          "ME",
          "MI",
          "MN",
          "MO",
          "MS",
          "MT",
          "NC",
          "ND",
          "NE",
          "NH",
          "NJ",
          "NM",
          "NV",
          "NY",
          "OH",
          "OK",
          "OR",
          "PA",
          "PR",
          "RI",
          "SC",
          "SD",
          "TN",
          "TX",
          "UT",
          "VA",
          "VI",
          "VT",
          "WA",
          "WI",
          "WV",
          "WY",
          "East",
          "Midwest",
          "North",
          "Other",
          "South",
          "West",
          "total"
         ],
         "marker": {
          "cmid": 0.5310344827586206,
          "colors": [
           1,
           1,
           1,
           1,
           1,
           1,
           1,
           1,
           1,
           1,
           1,
           1,
           1,
           1,
           1,
           1,
           1,
           1,
           1,
           1,
           1,
           1,
           1,
           1,
           1,
           1,
           1,
           1,
           1,
           1,
           1,
           1,
           1,
           1,
           1,
           1,
           1,
           1,
           1,
           1,
           1,
           1,
           1,
           1,
           1,
           1,
           1,
           1,
           1,
           1,
           1,
           1,
           1,
           1,
           1,
           1,
           1,
           1,
           1,
           1
          ],
          "colorscale": [
           [
            0,
            "rgb(103,0,31)"
           ],
           [
            0.1,
            "rgb(178,24,43)"
           ],
           [
            0.2,
            "rgb(214,96,77)"
           ],
           [
            0.3,
            "rgb(244,165,130)"
           ],
           [
            0.4,
            "rgb(253,219,199)"
           ],
           [
            0.5,
            "rgb(247,247,247)"
           ],
           [
            0.6,
            "rgb(209,229,240)"
           ],
           [
            0.7,
            "rgb(146,197,222)"
           ],
           [
            0.8,
            "rgb(67,147,195)"
           ],
           [
            0.9,
            "rgb(33,102,172)"
           ],
           [
            1,
            "rgb(5,48,97)"
           ]
          ]
         },
         "maxdepth": 2,
         "parents": [
          "West",
          "South",
          "South",
          "West",
          "West",
          "West",
          "East",
          "East",
          "East",
          "South",
          "South",
          "West",
          "Midwest",
          "West",
          "Midwest",
          "Midwest",
          "Midwest",
          "South",
          "South",
          "East",
          "East",
          "North",
          "Midwest",
          "Midwest",
          "Midwest",
          "South",
          "West",
          "South",
          "Midwest",
          "Midwest",
          "North",
          "East",
          "West",
          "West",
          "East",
          "Midwest",
          "South",
          "West",
          "East",
          "Other",
          "North",
          "South",
          "Midwest",
          "South",
          "South",
          "West",
          "South",
          "Other",
          "North",
          "West",
          "Midwest",
          "South",
          "West",
          "total",
          "total",
          "total",
          "total",
          "total",
          "total",
          ""
         ],
         "type": "sunburst",
         "values": [
          484,
          1002,
          862,
          3741,
          12361,
          2380,
          1396,
          100,
          310,
          6196,
          1977,
          519,
          917,
          1011,
          3214,
          1784,
          895,
          1248,
          843,
          1995,
          1354,
          881,
          2683,
          1593,
          2045,
          562,
          708,
          2790,
          194,
          518,
          895,
          2122,
          1169,
          1254,
          4333,
          3276,
          1123,
          2658,
          3705,
          28,
          465,
          1730,
          287,
          1710,
          4470,
          1171,
          1994,
          1,
          482,
          5260,
          1909,
          665,
          290,
          15315,
          19315,
          2723,
          29,
          27172,
          33006,
          97560
         ]
        }
       ],
       "layout": {
        "margin": {
         "b": 10,
         "l": 10,
         "r": 10,
         "t": 10
        },
        "template": {
         "data": {
          "bar": [
           {
            "error_x": {
             "color": "#2a3f5f"
            },
            "error_y": {
             "color": "#2a3f5f"
            },
            "marker": {
             "line": {
              "color": "#E5ECF6",
              "width": 0.5
             },
             "pattern": {
              "fillmode": "overlay",
              "size": 10,
              "solidity": 0.2
             }
            },
            "type": "bar"
           }
          ],
          "barpolar": [
           {
            "marker": {
             "line": {
              "color": "#E5ECF6",
              "width": 0.5
             },
             "pattern": {
              "fillmode": "overlay",
              "size": 10,
              "solidity": 0.2
             }
            },
            "type": "barpolar"
           }
          ],
          "carpet": [
           {
            "aaxis": {
             "endlinecolor": "#2a3f5f",
             "gridcolor": "white",
             "linecolor": "white",
             "minorgridcolor": "white",
             "startlinecolor": "#2a3f5f"
            },
            "baxis": {
             "endlinecolor": "#2a3f5f",
             "gridcolor": "white",
             "linecolor": "white",
             "minorgridcolor": "white",
             "startlinecolor": "#2a3f5f"
            },
            "type": "carpet"
           }
          ],
          "choropleth": [
           {
            "colorbar": {
             "outlinewidth": 0,
             "ticks": ""
            },
            "type": "choropleth"
           }
          ],
          "contour": [
           {
            "colorbar": {
             "outlinewidth": 0,
             "ticks": ""
            },
            "colorscale": [
             [
              0,
              "#0d0887"
             ],
             [
              0.1111111111111111,
              "#46039f"
             ],
             [
              0.2222222222222222,
              "#7201a8"
             ],
             [
              0.3333333333333333,
              "#9c179e"
             ],
             [
              0.4444444444444444,
              "#bd3786"
             ],
             [
              0.5555555555555556,
              "#d8576b"
             ],
             [
              0.6666666666666666,
              "#ed7953"
             ],
             [
              0.7777777777777778,
              "#fb9f3a"
             ],
             [
              0.8888888888888888,
              "#fdca26"
             ],
             [
              1,
              "#f0f921"
             ]
            ],
            "type": "contour"
           }
          ],
          "contourcarpet": [
           {
            "colorbar": {
             "outlinewidth": 0,
             "ticks": ""
            },
            "type": "contourcarpet"
           }
          ],
          "heatmap": [
           {
            "colorbar": {
             "outlinewidth": 0,
             "ticks": ""
            },
            "colorscale": [
             [
              0,
              "#0d0887"
             ],
             [
              0.1111111111111111,
              "#46039f"
             ],
             [
              0.2222222222222222,
              "#7201a8"
             ],
             [
              0.3333333333333333,
              "#9c179e"
             ],
             [
              0.4444444444444444,
              "#bd3786"
             ],
             [
              0.5555555555555556,
              "#d8576b"
             ],
             [
              0.6666666666666666,
              "#ed7953"
             ],
             [
              0.7777777777777778,
              "#fb9f3a"
             ],
             [
              0.8888888888888888,
              "#fdca26"
             ],
             [
              1,
              "#f0f921"
             ]
            ],
            "type": "heatmap"
           }
          ],
          "heatmapgl": [
           {
            "colorbar": {
             "outlinewidth": 0,
             "ticks": ""
            },
            "colorscale": [
             [
              0,
              "#0d0887"
             ],
             [
              0.1111111111111111,
              "#46039f"
             ],
             [
              0.2222222222222222,
              "#7201a8"
             ],
             [
              0.3333333333333333,
              "#9c179e"
             ],
             [
              0.4444444444444444,
              "#bd3786"
             ],
             [
              0.5555555555555556,
              "#d8576b"
             ],
             [
              0.6666666666666666,
              "#ed7953"
             ],
             [
              0.7777777777777778,
              "#fb9f3a"
             ],
             [
              0.8888888888888888,
              "#fdca26"
             ],
             [
              1,
              "#f0f921"
             ]
            ],
            "type": "heatmapgl"
           }
          ],
          "histogram": [
           {
            "marker": {
             "pattern": {
              "fillmode": "overlay",
              "size": 10,
              "solidity": 0.2
             }
            },
            "type": "histogram"
           }
          ],
          "histogram2d": [
           {
            "colorbar": {
             "outlinewidth": 0,
             "ticks": ""
            },
            "colorscale": [
             [
              0,
              "#0d0887"
             ],
             [
              0.1111111111111111,
              "#46039f"
             ],
             [
              0.2222222222222222,
              "#7201a8"
             ],
             [
              0.3333333333333333,
              "#9c179e"
             ],
             [
              0.4444444444444444,
              "#bd3786"
             ],
             [
              0.5555555555555556,
              "#d8576b"
             ],
             [
              0.6666666666666666,
              "#ed7953"
             ],
             [
              0.7777777777777778,
              "#fb9f3a"
             ],
             [
              0.8888888888888888,
              "#fdca26"
             ],
             [
              1,
              "#f0f921"
             ]
            ],
            "type": "histogram2d"
           }
          ],
          "histogram2dcontour": [
           {
            "colorbar": {
             "outlinewidth": 0,
             "ticks": ""
            },
            "colorscale": [
             [
              0,
              "#0d0887"
             ],
             [
              0.1111111111111111,
              "#46039f"
             ],
             [
              0.2222222222222222,
              "#7201a8"
             ],
             [
              0.3333333333333333,
              "#9c179e"
             ],
             [
              0.4444444444444444,
              "#bd3786"
             ],
             [
              0.5555555555555556,
              "#d8576b"
             ],
             [
              0.6666666666666666,
              "#ed7953"
             ],
             [
              0.7777777777777778,
              "#fb9f3a"
             ],
             [
              0.8888888888888888,
              "#fdca26"
             ],
             [
              1,
              "#f0f921"
             ]
            ],
            "type": "histogram2dcontour"
           }
          ],
          "mesh3d": [
           {
            "colorbar": {
             "outlinewidth": 0,
             "ticks": ""
            },
            "type": "mesh3d"
           }
          ],
          "parcoords": [
           {
            "line": {
             "colorbar": {
              "outlinewidth": 0,
              "ticks": ""
             }
            },
            "type": "parcoords"
           }
          ],
          "pie": [
           {
            "automargin": true,
            "type": "pie"
           }
          ],
          "scatter": [
           {
            "fillpattern": {
             "fillmode": "overlay",
             "size": 10,
             "solidity": 0.2
            },
            "type": "scatter"
           }
          ],
          "scatter3d": [
           {
            "line": {
             "colorbar": {
              "outlinewidth": 0,
              "ticks": ""
             }
            },
            "marker": {
             "colorbar": {
              "outlinewidth": 0,
              "ticks": ""
             }
            },
            "type": "scatter3d"
           }
          ],
          "scattercarpet": [
           {
            "marker": {
             "colorbar": {
              "outlinewidth": 0,
              "ticks": ""
             }
            },
            "type": "scattercarpet"
           }
          ],
          "scattergeo": [
           {
            "marker": {
             "colorbar": {
              "outlinewidth": 0,
              "ticks": ""
             }
            },
            "type": "scattergeo"
           }
          ],
          "scattergl": [
           {
            "marker": {
             "colorbar": {
              "outlinewidth": 0,
              "ticks": ""
             }
            },
            "type": "scattergl"
           }
          ],
          "scattermapbox": [
           {
            "marker": {
             "colorbar": {
              "outlinewidth": 0,
              "ticks": ""
             }
            },
            "type": "scattermapbox"
           }
          ],
          "scatterpolar": [
           {
            "marker": {
             "colorbar": {
              "outlinewidth": 0,
              "ticks": ""
             }
            },
            "type": "scatterpolar"
           }
          ],
          "scatterpolargl": [
           {
            "marker": {
             "colorbar": {
              "outlinewidth": 0,
              "ticks": ""
             }
            },
            "type": "scatterpolargl"
           }
          ],
          "scatterternary": [
           {
            "marker": {
             "colorbar": {
              "outlinewidth": 0,
              "ticks": ""
             }
            },
            "type": "scatterternary"
           }
          ],
          "surface": [
           {
            "colorbar": {
             "outlinewidth": 0,
             "ticks": ""
            },
            "colorscale": [
             [
              0,
              "#0d0887"
             ],
             [
              0.1111111111111111,
              "#46039f"
             ],
             [
              0.2222222222222222,
              "#7201a8"
             ],
             [
              0.3333333333333333,
              "#9c179e"
             ],
             [
              0.4444444444444444,
              "#bd3786"
             ],
             [
              0.5555555555555556,
              "#d8576b"
             ],
             [
              0.6666666666666666,
              "#ed7953"
             ],
             [
              0.7777777777777778,
              "#fb9f3a"
             ],
             [
              0.8888888888888888,
              "#fdca26"
             ],
             [
              1,
              "#f0f921"
             ]
            ],
            "type": "surface"
           }
          ],
          "table": [
           {
            "cells": {
             "fill": {
              "color": "#EBF0F8"
             },
             "line": {
              "color": "white"
             }
            },
            "header": {
             "fill": {
              "color": "#C8D4E3"
             },
             "line": {
              "color": "white"
             }
            },
            "type": "table"
           }
          ]
         },
         "layout": {
          "annotationdefaults": {
           "arrowcolor": "#2a3f5f",
           "arrowhead": 0,
           "arrowwidth": 1
          },
          "autotypenumbers": "strict",
          "coloraxis": {
           "colorbar": {
            "outlinewidth": 0,
            "ticks": ""
           }
          },
          "colorscale": {
           "diverging": [
            [
             0,
             "#8e0152"
            ],
            [
             0.1,
             "#c51b7d"
            ],
            [
             0.2,
             "#de77ae"
            ],
            [
             0.3,
             "#f1b6da"
            ],
            [
             0.4,
             "#fde0ef"
            ],
            [
             0.5,
             "#f7f7f7"
            ],
            [
             0.6,
             "#e6f5d0"
            ],
            [
             0.7,
             "#b8e186"
            ],
            [
             0.8,
             "#7fbc41"
            ],
            [
             0.9,
             "#4d9221"
            ],
            [
             1,
             "#276419"
            ]
           ],
           "sequential": [
            [
             0,
             "#0d0887"
            ],
            [
             0.1111111111111111,
             "#46039f"
            ],
            [
             0.2222222222222222,
             "#7201a8"
            ],
            [
             0.3333333333333333,
             "#9c179e"
            ],
            [
             0.4444444444444444,
             "#bd3786"
            ],
            [
             0.5555555555555556,
             "#d8576b"
            ],
            [
             0.6666666666666666,
             "#ed7953"
            ],
            [
             0.7777777777777778,
             "#fb9f3a"
            ],
            [
             0.8888888888888888,
             "#fdca26"
            ],
            [
             1,
             "#f0f921"
            ]
           ],
           "sequentialminus": [
            [
             0,
             "#0d0887"
            ],
            [
             0.1111111111111111,
             "#46039f"
            ],
            [
             0.2222222222222222,
             "#7201a8"
            ],
            [
             0.3333333333333333,
             "#9c179e"
            ],
            [
             0.4444444444444444,
             "#bd3786"
            ],
            [
             0.5555555555555556,
             "#d8576b"
            ],
            [
             0.6666666666666666,
             "#ed7953"
            ],
            [
             0.7777777777777778,
             "#fb9f3a"
            ],
            [
             0.8888888888888888,
             "#fdca26"
            ],
            [
             1,
             "#f0f921"
            ]
           ]
          },
          "colorway": [
           "#636efa",
           "#EF553B",
           "#00cc96",
           "#ab63fa",
           "#FFA15A",
           "#19d3f3",
           "#FF6692",
           "#B6E880",
           "#FF97FF",
           "#FECB52"
          ],
          "font": {
           "color": "#2a3f5f"
          },
          "geo": {
           "bgcolor": "white",
           "lakecolor": "white",
           "landcolor": "#E5ECF6",
           "showlakes": true,
           "showland": true,
           "subunitcolor": "white"
          },
          "hoverlabel": {
           "align": "left"
          },
          "hovermode": "closest",
          "mapbox": {
           "style": "light"
          },
          "paper_bgcolor": "white",
          "plot_bgcolor": "#E5ECF6",
          "polar": {
           "angularaxis": {
            "gridcolor": "white",
            "linecolor": "white",
            "ticks": ""
           },
           "bgcolor": "#E5ECF6",
           "radialaxis": {
            "gridcolor": "white",
            "linecolor": "white",
            "ticks": ""
           }
          },
          "scene": {
           "xaxis": {
            "backgroundcolor": "#E5ECF6",
            "gridcolor": "white",
            "gridwidth": 2,
            "linecolor": "white",
            "showbackground": true,
            "ticks": "",
            "zerolinecolor": "white"
           },
           "yaxis": {
            "backgroundcolor": "#E5ECF6",
            "gridcolor": "white",
            "gridwidth": 2,
            "linecolor": "white",
            "showbackground": true,
            "ticks": "",
            "zerolinecolor": "white"
           },
           "zaxis": {
            "backgroundcolor": "#E5ECF6",
            "gridcolor": "white",
            "gridwidth": 2,
            "linecolor": "white",
            "showbackground": true,
            "ticks": "",
            "zerolinecolor": "white"
           }
          },
          "shapedefaults": {
           "line": {
            "color": "#2a3f5f"
           }
          },
          "ternary": {
           "aaxis": {
            "gridcolor": "white",
            "linecolor": "white",
            "ticks": ""
           },
           "baxis": {
            "gridcolor": "white",
            "linecolor": "white",
            "ticks": ""
           },
           "bgcolor": "#E5ECF6",
           "caxis": {
            "gridcolor": "white",
            "linecolor": "white",
            "ticks": ""
           }
          },
          "title": {
           "x": 0.05
          },
          "xaxis": {
           "automargin": true,
           "gridcolor": "white",
           "linecolor": "white",
           "ticks": "",
           "title": {
            "standoff": 15
           },
           "zerolinecolor": "white",
           "zerolinewidth": 2
          },
          "yaxis": {
           "automargin": true,
           "gridcolor": "white",
           "linecolor": "white",
           "ticks": "",
           "title": {
            "standoff": 15
           },
           "zerolinecolor": "white",
           "zerolinewidth": 2
          }
         }
        }
       }
      }
     },
     "metadata": {},
     "output_type": "display_data"
    }
   ],
   "source": [
    "import plotly.graph_objects as go\n",
    "from plotly.subplots import make_subplots\n",
    "import pandas as pd\n",
    "\n",
    "\n",
    "\n",
    "levels = ['state', 'region'] # levels used for the hierarchical chart\n",
    "color_columns = ['city', 'city']\n",
    "value_column = 'city'\n",
    "\n",
    "def build_hierarchical_dataframe(df, levels, value_column, color_columns=None):\n",
    "    \"\"\"\n",
    "    Build a hierarchy of levels for Sunburst or Treemap charts.\n",
    "\n",
    "    Levels are given starting from the bottom to the top of the hierarchy,\n",
    "    ie the last level corresponds to the root.\n",
    "    \"\"\"\n",
    "    df_all_trees = pd.DataFrame(columns=['id', 'parent', 'value', 'color'])\n",
    "    for i, level in enumerate(levels):\n",
    "        df_tree = pd.DataFrame(columns=['id', 'parent', 'value', 'color'])\n",
    "        dfg = df.groupby(levels[i:]).sum()\n",
    "        dfg = dfg.reset_index()\n",
    "        df_tree['id'] = dfg[level].copy()\n",
    "        if i < len(levels) - 1:\n",
    "            df_tree['parent'] = dfg[levels[i+1]].copy()\n",
    "        else:\n",
    "            df_tree['parent'] = 'total'\n",
    "        df_tree['value'] = dfg[value_column]\n",
    "        df_tree['color'] = dfg[color_columns[0]] / dfg[color_columns[1]]\n",
    "        df_all_trees = df_all_trees.append(df_tree, ignore_index=True)\n",
    "    total = pd.Series(dict(id='total', parent='',\n",
    "                              value=df[value_column].sum(),\n",
    "                              color=df[color_columns[0]].sum() / df[color_columns[1]].sum()))\n",
    "    df_all_trees = df_all_trees.append(total, ignore_index=True)\n",
    "    return df_all_trees\n",
    "\n",
    "\n",
    "df_all_trees = build_hierarchical_dataframe(grouped, levels, value_column, color_columns)\n",
    "#average_score = grouped['sales'].sum() / grouped['calls'].sum()\n",
    "\n",
    "fig = make_subplots(1, 2, specs=[[{\"type\": \"domain\"}, {\"type\": \"domain\"}]],)\n",
    "\n",
    "fig.add_trace(go.Sunburst(\n",
    "    labels=df_all_trees['id'],\n",
    "    parents=df_all_trees['parent'],\n",
    "    values=df_all_trees['value'],\n",
    "    branchvalues='total',\n",
    "    marker=dict(\n",
    "        colors=df_all_trees['color'],\n",
    "        colorscale='RdBu',\n",
    "        cmid=average_score),\n",
    "    hovertemplate='<b>%{label} </b> <br> Sightings: %{value}',\n",
    "    name=''\n",
    "    ), 1, 1)\n",
    "\n",
    "fig.add_trace(go.Sunburst(\n",
    "    labels=df_all_trees['id'],\n",
    "    parents=df_all_trees['parent'],\n",
    "    values=df_all_trees['value'],\n",
    "    branchvalues='total',\n",
    "    marker=dict(\n",
    "        colors=df_all_trees['color'],\n",
    "        colorscale='RdBu',\n",
    "        cmid=average_score),\n",
    "    hovertemplate='<b>%{label} </b> <br> Sightings: %{value}',\n",
    "    maxdepth=2\n",
    "    ), 1, 2)\n",
    "\n",
    "fig.update_layout(margin=dict(t=10, b=10, r=10, l=10))\n",
    "fig.show()"
   ]
  },
  {
   "cell_type": "code",
   "execution_count": 33,
   "metadata": {},
   "outputs": [],
   "source": [
    "# Clean duration column \n",
    "\n",
    "import re\n",
    "\n",
    "# define regular expression patterns to extract duration information\n",
    "pattern_minutes = re.compile(r'(\\d+[\\.\\d]*)\\s*(min|mins|minutes)', re.IGNORECASE)\n",
    "pattern_seconds = re.compile(r'(\\d+[\\.\\d]*)\\s*(sec|secs|seconds)', re.IGNORECASE)\n",
    "pattern_hours = re.compile(r'(\\d+[\\.\\d]*)\\s*(hr|hrs|hours)', re.IGNORECASE)\n",
    "\n",
    "# loop over rows of the dataframe\n",
    "for index, row in df.iterrows():\n",
    "    # extract duration information from the 'duration' column using regular expressions\n",
    "    matches_minutes = pattern_minutes.findall(row['duration'])\n",
    "    matches_seconds = pattern_seconds.findall(row['duration'])\n",
    "    matches_hours = pattern_hours.findall(row['duration'])\n",
    "    \n",
    "    # keep only the last duration element found in the row\n",
    "    duration = ''\n",
    "    if matches_minutes:\n",
    "        duration = matches_minutes[-1][0] + ' minutes'\n",
    "    elif matches_seconds:\n",
    "        duration = matches_seconds[-1][0] + ' seconds'\n",
    "    elif matches_hours:\n",
    "        duration = matches_hours[-1][0] + ' hours'\n",
    "    \n",
    "    # update the 'duration' column with the cleaned duration value\n",
    "    df.at[index, 'duration'] = duration\n",
    "\n",
    "# drop rows that don't have any number in the 'duration' column\n",
    "df = df[df['duration'].str.contains(r'\\d')]\n",
    "\n",
    "# Convert duration column to numeric values (minutes scale)\n",
    "\n",
    "df= df.reset_index()\n",
    "\n",
    "# Create a new column for that \n",
    "\n",
    "df['Minutes'] = ''\n",
    "\n",
    "for i in range(0,len(df)):\n",
    "    try:\n",
    "        duration = df['duration'][i].split()\n",
    "\n",
    "        if duration[1][0] == 's':\n",
    "            scaler = 1/60\n",
    "        elif duration[1][0] == 'm':\n",
    "            scaler = 1\n",
    "        else:\n",
    "            scaler = 60\n",
    "\n",
    "        minutes = int(duration[0]) * scaler\n",
    "        df.at[i, 'Minutes'] = minutes\n",
    "    except:\n",
    "        df.drop(i, inplace=True)\n"
   ]
  },
  {
   "cell_type": "code",
   "execution_count": 34,
   "metadata": {},
   "outputs": [
    {
     "data": {
      "text/html": [
       "<div>\n",
       "<style scoped>\n",
       "    .dataframe tbody tr th:only-of-type {\n",
       "        vertical-align: middle;\n",
       "    }\n",
       "\n",
       "    .dataframe tbody tr th {\n",
       "        vertical-align: top;\n",
       "    }\n",
       "\n",
       "    .dataframe thead th {\n",
       "        text-align: right;\n",
       "    }\n",
       "</style>\n",
       "<table border=\"1\" class=\"dataframe\">\n",
       "  <thead>\n",
       "    <tr style=\"text-align: right;\">\n",
       "      <th></th>\n",
       "      <th>city</th>\n",
       "      <th>state</th>\n",
       "    </tr>\n",
       "  </thead>\n",
       "  <tbody>\n",
       "    <tr>\n",
       "      <th>0</th>\n",
       "      <td>Newark</td>\n",
       "      <td>DE</td>\n",
       "    </tr>\n",
       "    <tr>\n",
       "      <th>1</th>\n",
       "      <td>Columbus</td>\n",
       "      <td>OH</td>\n",
       "    </tr>\n",
       "    <tr>\n",
       "      <th>2</th>\n",
       "      <td>Franklin</td>\n",
       "      <td>ME</td>\n",
       "    </tr>\n",
       "    <tr>\n",
       "      <th>3</th>\n",
       "      <td>East Greenwich</td>\n",
       "      <td>RI</td>\n",
       "    </tr>\n",
       "    <tr>\n",
       "      <th>4</th>\n",
       "      <td>Washington DC</td>\n",
       "      <td>WA</td>\n",
       "    </tr>\n",
       "  </tbody>\n",
       "</table>\n",
       "</div>"
      ],
      "text/plain": [
       "             city state\n",
       "0          Newark    DE\n",
       "1        Columbus    OH\n",
       "2        Franklin    ME\n",
       "3  East Greenwich    RI\n",
       "4   Washington DC    WA"
      ]
     },
     "execution_count": 34,
     "metadata": {},
     "output_type": "execute_result"
    }
   ],
   "source": [
    "geo_info = df[['city' , 'state', 'Duration_slot']]\n",
    "geo_info2 = geo_info[['city' , 'state']]\n",
    "geo_info2.head()"
   ]
  },
  {
   "cell_type": "code",
   "execution_count": 51,
   "metadata": {},
   "outputs": [],
   "source": [
    "import warnings\n",
    "warnings.filterwarnings('ignore')"
   ]
  },
  {
   "cell_type": "code",
   "execution_count": 58,
   "metadata": {},
   "outputs": [
    {
     "data": {
      "application/vnd.plotly.v1+json": {
       "config": {
        "plotlyServerURL": "https://plotly.com"
       },
       "data": [
        {
         "branchvalues": "total",
         "domain": {
          "x": [
           0,
           1
          ],
          "y": [
           0,
           1
          ]
         },
         "hovertemplate": "<b>%{label} </b> <br> Sightings: %{value}",
         "labels": [
          "AK",
          "AL",
          "AR",
          "AZ",
          "CA",
          "CO",
          "CT",
          "DC",
          "DE",
          "FL",
          "GA",
          "HI",
          "IA",
          "ID",
          "IL",
          "IN",
          "KS",
          "KY",
          "LA",
          "MA",
          "MD",
          "ME",
          "MI",
          "MN",
          "MO",
          "MS",
          "MT",
          "NC",
          "ND",
          "NE",
          "NH",
          "NJ",
          "NM",
          "NV",
          "NY",
          "OH",
          "OK",
          "OR",
          "PA",
          "PR",
          "RI",
          "SC",
          "SD",
          "TN",
          "TX",
          "UT",
          "VA",
          "VI",
          "VT",
          "WA",
          "WI",
          "WV",
          "WY",
          "East",
          "Midwest",
          "North",
          "Other",
          "South",
          "West",
          "total"
         ],
         "marker": {
          "cmid": 0.5310344827586206,
          "colors": [
           "#A8DFF7",
           "#57899C",
           "#57899C",
           "#A8DFF7",
           "#A8DFF7",
           "#A8DFF7",
           "#25536D",
           "#25536D",
           "#25536D",
           "#57899C",
           "#57899C",
           "#A8DFF7",
           "#B5D1D4",
           "#A8DFF7",
           "#B5D1D4",
           "#B5D1D4",
           "#B5D1D4",
           "#57899C",
           "#57899C",
           "#25536D",
           "#25536D",
           "#3E93AB",
           "#B5D1D4",
           "#B5D1D4",
           "#B5D1D4",
           "#57899C",
           "#A8DFF7",
           "#57899C",
           "#B5D1D4",
           "#B5D1D4",
           "#3E93AB",
           "#25536D",
           "#A8DFF7",
           "#A8DFF7",
           "#25536D",
           "#B5D1D4",
           "#57899C",
           "#A8DFF7",
           "#25536D",
           "#2F4E48",
           "#3E93AB",
           "#57899C",
           "#B5D1D4",
           "#57899C",
           "#57899C",
           "#A8DFF7",
           "#57899C",
           "#2F4E48",
           "#3E93AB",
           "#A8DFF7",
           "#B5D1D4",
           "#57899C",
           "#A8DFF7",
           "#25536D",
           "#B5D1D4",
           "#3E93AB",
           "#2F4E48",
           "#57899C",
           "#A8DFF7",
           "white"
          ],
          "colorscale": [
           [
            0,
            "rgb(103,0,31)"
           ],
           [
            0.1,
            "rgb(178,24,43)"
           ],
           [
            0.2,
            "rgb(214,96,77)"
           ],
           [
            0.3,
            "rgb(244,165,130)"
           ],
           [
            0.4,
            "rgb(253,219,199)"
           ],
           [
            0.5,
            "rgb(247,247,247)"
           ],
           [
            0.6,
            "rgb(209,229,240)"
           ],
           [
            0.7,
            "rgb(146,197,222)"
           ],
           [
            0.8,
            "rgb(67,147,195)"
           ],
           [
            0.9,
            "rgb(33,102,172)"
           ],
           [
            1,
            "rgb(5,48,97)"
           ]
          ]
         },
         "name": "",
         "parents": [
          "West",
          "South",
          "South",
          "West",
          "West",
          "West",
          "East",
          "East",
          "East",
          "South",
          "South",
          "West",
          "Midwest",
          "West",
          "Midwest",
          "Midwest",
          "Midwest",
          "South",
          "South",
          "East",
          "East",
          "North",
          "Midwest",
          "Midwest",
          "Midwest",
          "South",
          "West",
          "South",
          "Midwest",
          "Midwest",
          "North",
          "East",
          "West",
          "West",
          "East",
          "Midwest",
          "South",
          "West",
          "East",
          "Other",
          "North",
          "South",
          "Midwest",
          "South",
          "South",
          "West",
          "South",
          "Other",
          "North",
          "West",
          "Midwest",
          "South",
          "West",
          "total",
          "total",
          "total",
          "total",
          "total",
          "total",
          ""
         ],
         "type": "sunburst",
         "values": [
          484,
          1002,
          862,
          3741,
          12361,
          2380,
          1396,
          100,
          310,
          6196,
          1977,
          519,
          917,
          1011,
          3214,
          1784,
          895,
          1248,
          843,
          1995,
          1354,
          881,
          2683,
          1593,
          2045,
          562,
          708,
          2790,
          194,
          518,
          895,
          2122,
          1169,
          1254,
          4333,
          3276,
          1123,
          2658,
          3705,
          28,
          465,
          1730,
          287,
          1710,
          4470,
          1171,
          1994,
          1,
          482,
          5260,
          1909,
          665,
          290,
          15315,
          19315,
          2723,
          29,
          27172,
          33006,
          97560
         ]
        },
        {
         "branchvalues": "total",
         "domain": {
          "x": [
           0,
           1
          ],
          "y": [
           0,
           1
          ]
         },
         "hovertemplate": "<b>%{label} </b> <br> Sightings: %{value}",
         "labels": [
          "AK",
          "AL",
          "AR",
          "AZ",
          "CA",
          "CO",
          "CT",
          "DC",
          "DE",
          "FL",
          "GA",
          "HI",
          "IA",
          "ID",
          "IL",
          "IN",
          "KS",
          "KY",
          "LA",
          "MA",
          "MD",
          "ME",
          "MI",
          "MN",
          "MO",
          "MS",
          "MT",
          "NC",
          "ND",
          "NE",
          "NH",
          "NJ",
          "NM",
          "NV",
          "NY",
          "OH",
          "OK",
          "OR",
          "PA",
          "PR",
          "RI",
          "SC",
          "SD",
          "TN",
          "TX",
          "UT",
          "VA",
          "VI",
          "VT",
          "WA",
          "WI",
          "WV",
          "WY",
          "East",
          "Midwest",
          "North",
          "Other",
          "South",
          "West",
          "total"
         ],
         "marker": {
          "cmid": 0.5310344827586206,
          "colors": [
           "#A8DFF7",
           "#57899C",
           "#57899C",
           "#A8DFF7",
           "#A8DFF7",
           "#A8DFF7",
           "#25536D",
           "#25536D",
           "#25536D",
           "#57899C",
           "#57899C",
           "#A8DFF7",
           "#B5D1D4",
           "#A8DFF7",
           "#B5D1D4",
           "#B5D1D4",
           "#B5D1D4",
           "#57899C",
           "#57899C",
           "#25536D",
           "#25536D",
           "#3E93AB",
           "#B5D1D4",
           "#B5D1D4",
           "#B5D1D4",
           "#57899C",
           "#A8DFF7",
           "#57899C",
           "#B5D1D4",
           "#B5D1D4",
           "#3E93AB",
           "#25536D",
           "#A8DFF7",
           "#A8DFF7",
           "#25536D",
           "#B5D1D4",
           "#57899C",
           "#A8DFF7",
           "#25536D",
           "#2F4E48",
           "#3E93AB",
           "#57899C",
           "#B5D1D4",
           "#57899C",
           "#57899C",
           "#A8DFF7",
           "#57899C",
           "#2F4E48",
           "#3E93AB",
           "#A8DFF7",
           "#B5D1D4",
           "#57899C",
           "#A8DFF7",
           "#25536D",
           "#B5D1D4",
           "#3E93AB",
           "#2F4E48",
           "#57899C",
           "#A8DFF7",
           "white"
          ],
          "colorscale": [
           [
            0,
            "rgb(103,0,31)"
           ],
           [
            0.1,
            "rgb(178,24,43)"
           ],
           [
            0.2,
            "rgb(214,96,77)"
           ],
           [
            0.3,
            "rgb(244,165,130)"
           ],
           [
            0.4,
            "rgb(253,219,199)"
           ],
           [
            0.5,
            "rgb(247,247,247)"
           ],
           [
            0.6,
            "rgb(209,229,240)"
           ],
           [
            0.7,
            "rgb(146,197,222)"
           ],
           [
            0.8,
            "rgb(67,147,195)"
           ],
           [
            0.9,
            "rgb(33,102,172)"
           ],
           [
            1,
            "rgb(5,48,97)"
           ]
          ]
         },
         "name": "",
         "parents": [
          "West",
          "South",
          "South",
          "West",
          "West",
          "West",
          "East",
          "East",
          "East",
          "South",
          "South",
          "West",
          "Midwest",
          "West",
          "Midwest",
          "Midwest",
          "Midwest",
          "South",
          "South",
          "East",
          "East",
          "North",
          "Midwest",
          "Midwest",
          "Midwest",
          "South",
          "West",
          "South",
          "Midwest",
          "Midwest",
          "North",
          "East",
          "West",
          "West",
          "East",
          "Midwest",
          "South",
          "West",
          "East",
          "Other",
          "North",
          "South",
          "Midwest",
          "South",
          "South",
          "West",
          "South",
          "Other",
          "North",
          "West",
          "Midwest",
          "South",
          "West",
          "total",
          "total",
          "total",
          "total",
          "total",
          "total",
          ""
         ],
         "type": "sunburst",
         "values": [
          484,
          1002,
          862,
          3741,
          12361,
          2380,
          1396,
          100,
          310,
          6196,
          1977,
          519,
          917,
          1011,
          3214,
          1784,
          895,
          1248,
          843,
          1995,
          1354,
          881,
          2683,
          1593,
          2045,
          562,
          708,
          2790,
          194,
          518,
          895,
          2122,
          1169,
          1254,
          4333,
          3276,
          1123,
          2658,
          3705,
          28,
          465,
          1730,
          287,
          1710,
          4470,
          1171,
          1994,
          1,
          482,
          5260,
          1909,
          665,
          290,
          15315,
          19315,
          2723,
          29,
          27172,
          33006,
          97560
         ]
        },
        {
         "branchvalues": "total",
         "domain": {
          "x": [
           0,
           1
          ],
          "y": [
           0,
           1
          ]
         },
         "hovertemplate": "<b>%{label} </b> <br> Sightings: %{value}",
         "labels": [
          "AK",
          "AL",
          "AR",
          "AZ",
          "CA",
          "CO",
          "CT",
          "DC",
          "DE",
          "FL",
          "GA",
          "HI",
          "IA",
          "ID",
          "IL",
          "IN",
          "KS",
          "KY",
          "LA",
          "MA",
          "MD",
          "ME",
          "MI",
          "MN",
          "MO",
          "MS",
          "MT",
          "NC",
          "ND",
          "NE",
          "NH",
          "NJ",
          "NM",
          "NV",
          "NY",
          "OH",
          "OK",
          "OR",
          "PA",
          "PR",
          "RI",
          "SC",
          "SD",
          "TN",
          "TX",
          "UT",
          "VA",
          "VI",
          "VT",
          "WA",
          "WI",
          "WV",
          "WY",
          "East",
          "Midwest",
          "North",
          "Other",
          "South",
          "West",
          "total"
         ],
         "marker": {
          "cmid": 0.5310344827586206,
          "colors": [
           "#A8DFF7",
           "#57899C",
           "#57899C",
           "#A8DFF7",
           "#A8DFF7",
           "#A8DFF7",
           "#25536D",
           "#25536D",
           "#25536D",
           "#57899C",
           "#57899C",
           "#A8DFF7",
           "#B5D1D4",
           "#A8DFF7",
           "#B5D1D4",
           "#B5D1D4",
           "#B5D1D4",
           "#57899C",
           "#57899C",
           "#25536D",
           "#25536D",
           "#3E93AB",
           "#B5D1D4",
           "#B5D1D4",
           "#B5D1D4",
           "#57899C",
           "#A8DFF7",
           "#57899C",
           "#B5D1D4",
           "#B5D1D4",
           "#3E93AB",
           "#25536D",
           "#A8DFF7",
           "#A8DFF7",
           "#25536D",
           "#B5D1D4",
           "#57899C",
           "#A8DFF7",
           "#25536D",
           "#2F4E48",
           "#3E93AB",
           "#57899C",
           "#B5D1D4",
           "#57899C",
           "#57899C",
           "#A8DFF7",
           "#57899C",
           "#2F4E48",
           "#3E93AB",
           "#A8DFF7",
           "#B5D1D4",
           "#57899C",
           "#A8DFF7",
           "#25536D",
           "#B5D1D4",
           "#3E93AB",
           "#2F4E48",
           "#57899C",
           "#A8DFF7",
           "white"
          ],
          "colorscale": [
           [
            0,
            "rgb(103,0,31)"
           ],
           [
            0.1,
            "rgb(178,24,43)"
           ],
           [
            0.2,
            "rgb(214,96,77)"
           ],
           [
            0.3,
            "rgb(244,165,130)"
           ],
           [
            0.4,
            "rgb(253,219,199)"
           ],
           [
            0.5,
            "rgb(247,247,247)"
           ],
           [
            0.6,
            "rgb(209,229,240)"
           ],
           [
            0.7,
            "rgb(146,197,222)"
           ],
           [
            0.8,
            "rgb(67,147,195)"
           ],
           [
            0.9,
            "rgb(33,102,172)"
           ],
           [
            1,
            "rgb(5,48,97)"
           ]
          ]
         },
         "name": "",
         "parents": [
          "West",
          "South",
          "South",
          "West",
          "West",
          "West",
          "East",
          "East",
          "East",
          "South",
          "South",
          "West",
          "Midwest",
          "West",
          "Midwest",
          "Midwest",
          "Midwest",
          "South",
          "South",
          "East",
          "East",
          "North",
          "Midwest",
          "Midwest",
          "Midwest",
          "South",
          "West",
          "South",
          "Midwest",
          "Midwest",
          "North",
          "East",
          "West",
          "West",
          "East",
          "Midwest",
          "South",
          "West",
          "East",
          "Other",
          "North",
          "South",
          "Midwest",
          "South",
          "South",
          "West",
          "South",
          "Other",
          "North",
          "West",
          "Midwest",
          "South",
          "West",
          "total",
          "total",
          "total",
          "total",
          "total",
          "total",
          ""
         ],
         "type": "sunburst",
         "values": [
          484,
          1002,
          862,
          3741,
          12361,
          2380,
          1396,
          100,
          310,
          6196,
          1977,
          519,
          917,
          1011,
          3214,
          1784,
          895,
          1248,
          843,
          1995,
          1354,
          881,
          2683,
          1593,
          2045,
          562,
          708,
          2790,
          194,
          518,
          895,
          2122,
          1169,
          1254,
          4333,
          3276,
          1123,
          2658,
          3705,
          28,
          465,
          1730,
          287,
          1710,
          4470,
          1171,
          1994,
          1,
          482,
          5260,
          1909,
          665,
          290,
          15315,
          19315,
          2723,
          29,
          27172,
          33006,
          97560
         ]
        },
        {
         "branchvalues": "total",
         "domain": {
          "x": [
           0,
           1
          ],
          "y": [
           0,
           1
          ]
         },
         "hovertemplate": "<b>%{label} </b> <br> Sightings: %{value}",
         "labels": [
          "AK",
          "AL",
          "AR",
          "AZ",
          "CA",
          "CO",
          "CT",
          "DC",
          "DE",
          "FL",
          "GA",
          "HI",
          "IA",
          "ID",
          "IL",
          "IN",
          "KS",
          "KY",
          "LA",
          "MA",
          "MD",
          "ME",
          "MI",
          "MN",
          "MO",
          "MS",
          "MT",
          "NC",
          "ND",
          "NE",
          "NH",
          "NJ",
          "NM",
          "NV",
          "NY",
          "OH",
          "OK",
          "OR",
          "PA",
          "PR",
          "RI",
          "SC",
          "SD",
          "TN",
          "TX",
          "UT",
          "VA",
          "VI",
          "VT",
          "WA",
          "WI",
          "WV",
          "WY",
          "East",
          "Midwest",
          "North",
          "Other",
          "South",
          "West",
          "total"
         ],
         "marker": {
          "cmid": 0.5310344827586206,
          "colors": [
           "#A8DFF7",
           "#57899C",
           "#57899C",
           "#A8DFF7",
           "#A8DFF7",
           "#A8DFF7",
           "#25536D",
           "#25536D",
           "#25536D",
           "#57899C",
           "#57899C",
           "#A8DFF7",
           "#B5D1D4",
           "#A8DFF7",
           "#B5D1D4",
           "#B5D1D4",
           "#B5D1D4",
           "#57899C",
           "#57899C",
           "#25536D",
           "#25536D",
           "#3E93AB",
           "#B5D1D4",
           "#B5D1D4",
           "#B5D1D4",
           "#57899C",
           "#A8DFF7",
           "#57899C",
           "#B5D1D4",
           "#B5D1D4",
           "#3E93AB",
           "#25536D",
           "#A8DFF7",
           "#A8DFF7",
           "#25536D",
           "#B5D1D4",
           "#57899C",
           "#A8DFF7",
           "#25536D",
           "#2F4E48",
           "#3E93AB",
           "#57899C",
           "#B5D1D4",
           "#57899C",
           "#57899C",
           "#A8DFF7",
           "#57899C",
           "#2F4E48",
           "#3E93AB",
           "#A8DFF7",
           "#B5D1D4",
           "#57899C",
           "#A8DFF7",
           "#25536D",
           "#B5D1D4",
           "#3E93AB",
           "#2F4E48",
           "#57899C",
           "#A8DFF7",
           "white"
          ],
          "colorscale": [
           [
            0,
            "rgb(103,0,31)"
           ],
           [
            0.1,
            "rgb(178,24,43)"
           ],
           [
            0.2,
            "rgb(214,96,77)"
           ],
           [
            0.3,
            "rgb(244,165,130)"
           ],
           [
            0.4,
            "rgb(253,219,199)"
           ],
           [
            0.5,
            "rgb(247,247,247)"
           ],
           [
            0.6,
            "rgb(209,229,240)"
           ],
           [
            0.7,
            "rgb(146,197,222)"
           ],
           [
            0.8,
            "rgb(67,147,195)"
           ],
           [
            0.9,
            "rgb(33,102,172)"
           ],
           [
            1,
            "rgb(5,48,97)"
           ]
          ]
         },
         "name": "",
         "parents": [
          "West",
          "South",
          "South",
          "West",
          "West",
          "West",
          "East",
          "East",
          "East",
          "South",
          "South",
          "West",
          "Midwest",
          "West",
          "Midwest",
          "Midwest",
          "Midwest",
          "South",
          "South",
          "East",
          "East",
          "North",
          "Midwest",
          "Midwest",
          "Midwest",
          "South",
          "West",
          "South",
          "Midwest",
          "Midwest",
          "North",
          "East",
          "West",
          "West",
          "East",
          "Midwest",
          "South",
          "West",
          "East",
          "Other",
          "North",
          "South",
          "Midwest",
          "South",
          "South",
          "West",
          "South",
          "Other",
          "North",
          "West",
          "Midwest",
          "South",
          "West",
          "total",
          "total",
          "total",
          "total",
          "total",
          "total",
          ""
         ],
         "type": "sunburst",
         "values": [
          484,
          1002,
          862,
          3741,
          12361,
          2380,
          1396,
          100,
          310,
          6196,
          1977,
          519,
          917,
          1011,
          3214,
          1784,
          895,
          1248,
          843,
          1995,
          1354,
          881,
          2683,
          1593,
          2045,
          562,
          708,
          2790,
          194,
          518,
          895,
          2122,
          1169,
          1254,
          4333,
          3276,
          1123,
          2658,
          3705,
          28,
          465,
          1730,
          287,
          1710,
          4470,
          1171,
          1994,
          1,
          482,
          5260,
          1909,
          665,
          290,
          15315,
          19315,
          2723,
          29,
          27172,
          33006,
          97560
         ]
        },
        {
         "branchvalues": "total",
         "domain": {
          "x": [
           0,
           1
          ],
          "y": [
           0,
           1
          ]
         },
         "hovertemplate": "<b>%{label} </b> <br> Sightings: %{value}",
         "labels": [
          "AK",
          "AL",
          "AR",
          "AZ",
          "CA",
          "CO",
          "CT",
          "DC",
          "DE",
          "FL",
          "GA",
          "HI",
          "IA",
          "ID",
          "IL",
          "IN",
          "KS",
          "KY",
          "LA",
          "MA",
          "MD",
          "ME",
          "MI",
          "MN",
          "MO",
          "MS",
          "MT",
          "NC",
          "ND",
          "NE",
          "NH",
          "NJ",
          "NM",
          "NV",
          "NY",
          "OH",
          "OK",
          "OR",
          "PA",
          "PR",
          "RI",
          "SC",
          "SD",
          "TN",
          "TX",
          "UT",
          "VA",
          "VI",
          "VT",
          "WA",
          "WI",
          "WV",
          "WY",
          "East",
          "Midwest",
          "North",
          "Other",
          "South",
          "West",
          "total"
         ],
         "marker": {
          "cmid": 0.5310344827586206,
          "colors": [
           "#A8DFF7",
           "#57899C",
           "#57899C",
           "#A8DFF7",
           "#A8DFF7",
           "#A8DFF7",
           "#25536D",
           "#25536D",
           "#25536D",
           "#57899C",
           "#57899C",
           "#A8DFF7",
           "#B5D1D4",
           "#A8DFF7",
           "#B5D1D4",
           "#B5D1D4",
           "#B5D1D4",
           "#57899C",
           "#57899C",
           "#25536D",
           "#25536D",
           "#3E93AB",
           "#B5D1D4",
           "#B5D1D4",
           "#B5D1D4",
           "#57899C",
           "#A8DFF7",
           "#57899C",
           "#B5D1D4",
           "#B5D1D4",
           "#3E93AB",
           "#25536D",
           "#A8DFF7",
           "#A8DFF7",
           "#25536D",
           "#B5D1D4",
           "#57899C",
           "#A8DFF7",
           "#25536D",
           "#2F4E48",
           "#3E93AB",
           "#57899C",
           "#B5D1D4",
           "#57899C",
           "#57899C",
           "#A8DFF7",
           "#57899C",
           "#2F4E48",
           "#3E93AB",
           "#A8DFF7",
           "#B5D1D4",
           "#57899C",
           "#A8DFF7",
           "#25536D",
           "#B5D1D4",
           "#3E93AB",
           "#2F4E48",
           "#57899C",
           "#A8DFF7",
           "white"
          ],
          "colorscale": [
           [
            0,
            "rgb(103,0,31)"
           ],
           [
            0.1,
            "rgb(178,24,43)"
           ],
           [
            0.2,
            "rgb(214,96,77)"
           ],
           [
            0.3,
            "rgb(244,165,130)"
           ],
           [
            0.4,
            "rgb(253,219,199)"
           ],
           [
            0.5,
            "rgb(247,247,247)"
           ],
           [
            0.6,
            "rgb(209,229,240)"
           ],
           [
            0.7,
            "rgb(146,197,222)"
           ],
           [
            0.8,
            "rgb(67,147,195)"
           ],
           [
            0.9,
            "rgb(33,102,172)"
           ],
           [
            1,
            "rgb(5,48,97)"
           ]
          ]
         },
         "name": "",
         "parents": [
          "West",
          "South",
          "South",
          "West",
          "West",
          "West",
          "East",
          "East",
          "East",
          "South",
          "South",
          "West",
          "Midwest",
          "West",
          "Midwest",
          "Midwest",
          "Midwest",
          "South",
          "South",
          "East",
          "East",
          "North",
          "Midwest",
          "Midwest",
          "Midwest",
          "South",
          "West",
          "South",
          "Midwest",
          "Midwest",
          "North",
          "East",
          "West",
          "West",
          "East",
          "Midwest",
          "South",
          "West",
          "East",
          "Other",
          "North",
          "South",
          "Midwest",
          "South",
          "South",
          "West",
          "South",
          "Other",
          "North",
          "West",
          "Midwest",
          "South",
          "West",
          "total",
          "total",
          "total",
          "total",
          "total",
          "total",
          ""
         ],
         "type": "sunburst",
         "values": [
          484,
          1002,
          862,
          3741,
          12361,
          2380,
          1396,
          100,
          310,
          6196,
          1977,
          519,
          917,
          1011,
          3214,
          1784,
          895,
          1248,
          843,
          1995,
          1354,
          881,
          2683,
          1593,
          2045,
          562,
          708,
          2790,
          194,
          518,
          895,
          2122,
          1169,
          1254,
          4333,
          3276,
          1123,
          2658,
          3705,
          28,
          465,
          1730,
          287,
          1710,
          4470,
          1171,
          1994,
          1,
          482,
          5260,
          1909,
          665,
          290,
          15315,
          19315,
          2723,
          29,
          27172,
          33006,
          97560
         ]
        },
        {
         "branchvalues": "total",
         "domain": {
          "x": [
           0,
           1
          ],
          "y": [
           0,
           1
          ]
         },
         "hovertemplate": "<b>%{label} </b> <br> Sightings: %{value}",
         "labels": [
          "AK",
          "AL",
          "AR",
          "AZ",
          "CA",
          "CO",
          "CT",
          "DC",
          "DE",
          "FL",
          "GA",
          "HI",
          "IA",
          "ID",
          "IL",
          "IN",
          "KS",
          "KY",
          "LA",
          "MA",
          "MD",
          "ME",
          "MI",
          "MN",
          "MO",
          "MS",
          "MT",
          "NC",
          "ND",
          "NE",
          "NH",
          "NJ",
          "NM",
          "NV",
          "NY",
          "OH",
          "OK",
          "OR",
          "PA",
          "PR",
          "RI",
          "SC",
          "SD",
          "TN",
          "TX",
          "UT",
          "VA",
          "VI",
          "VT",
          "WA",
          "WI",
          "WV",
          "WY",
          "East",
          "Midwest",
          "North",
          "Other",
          "South",
          "West",
          "total"
         ],
         "marker": {
          "cmid": 0.5310344827586206,
          "colors": [
           "#A8DFF7",
           "#57899C",
           "#57899C",
           "#A8DFF7",
           "#A8DFF7",
           "#A8DFF7",
           "#25536D",
           "#25536D",
           "#25536D",
           "#57899C",
           "#57899C",
           "#A8DFF7",
           "#B5D1D4",
           "#A8DFF7",
           "#B5D1D4",
           "#B5D1D4",
           "#B5D1D4",
           "#57899C",
           "#57899C",
           "#25536D",
           "#25536D",
           "#3E93AB",
           "#B5D1D4",
           "#B5D1D4",
           "#B5D1D4",
           "#57899C",
           "#A8DFF7",
           "#57899C",
           "#B5D1D4",
           "#B5D1D4",
           "#3E93AB",
           "#25536D",
           "#A8DFF7",
           "#A8DFF7",
           "#25536D",
           "#B5D1D4",
           "#57899C",
           "#A8DFF7",
           "#25536D",
           "#2F4E48",
           "#3E93AB",
           "#57899C",
           "#B5D1D4",
           "#57899C",
           "#57899C",
           "#A8DFF7",
           "#57899C",
           "#2F4E48",
           "#3E93AB",
           "#A8DFF7",
           "#B5D1D4",
           "#57899C",
           "#A8DFF7",
           "#25536D",
           "#B5D1D4",
           "#3E93AB",
           "#2F4E48",
           "#57899C",
           "#A8DFF7",
           "white"
          ],
          "colorscale": [
           [
            0,
            "rgb(103,0,31)"
           ],
           [
            0.1,
            "rgb(178,24,43)"
           ],
           [
            0.2,
            "rgb(214,96,77)"
           ],
           [
            0.3,
            "rgb(244,165,130)"
           ],
           [
            0.4,
            "rgb(253,219,199)"
           ],
           [
            0.5,
            "rgb(247,247,247)"
           ],
           [
            0.6,
            "rgb(209,229,240)"
           ],
           [
            0.7,
            "rgb(146,197,222)"
           ],
           [
            0.8,
            "rgb(67,147,195)"
           ],
           [
            0.9,
            "rgb(33,102,172)"
           ],
           [
            1,
            "rgb(5,48,97)"
           ]
          ]
         },
         "name": "",
         "parents": [
          "West",
          "South",
          "South",
          "West",
          "West",
          "West",
          "East",
          "East",
          "East",
          "South",
          "South",
          "West",
          "Midwest",
          "West",
          "Midwest",
          "Midwest",
          "Midwest",
          "South",
          "South",
          "East",
          "East",
          "North",
          "Midwest",
          "Midwest",
          "Midwest",
          "South",
          "West",
          "South",
          "Midwest",
          "Midwest",
          "North",
          "East",
          "West",
          "West",
          "East",
          "Midwest",
          "South",
          "West",
          "East",
          "Other",
          "North",
          "South",
          "Midwest",
          "South",
          "South",
          "West",
          "South",
          "Other",
          "North",
          "West",
          "Midwest",
          "South",
          "West",
          "total",
          "total",
          "total",
          "total",
          "total",
          "total",
          ""
         ],
         "type": "sunburst",
         "values": [
          484,
          1002,
          862,
          3741,
          12361,
          2380,
          1396,
          100,
          310,
          6196,
          1977,
          519,
          917,
          1011,
          3214,
          1784,
          895,
          1248,
          843,
          1995,
          1354,
          881,
          2683,
          1593,
          2045,
          562,
          708,
          2790,
          194,
          518,
          895,
          2122,
          1169,
          1254,
          4333,
          3276,
          1123,
          2658,
          3705,
          28,
          465,
          1730,
          287,
          1710,
          4470,
          1171,
          1994,
          1,
          482,
          5260,
          1909,
          665,
          290,
          15315,
          19315,
          2723,
          29,
          27172,
          33006,
          97560
         ]
        },
        {
         "branchvalues": "total",
         "domain": {
          "x": [
           0,
           1
          ],
          "y": [
           0,
           1
          ]
         },
         "hovertemplate": "<b>%{label} </b> <br> Sightings: %{value}",
         "labels": [
          "AK",
          "AL",
          "AR",
          "AZ",
          "CA",
          "CO",
          "CT",
          "DC",
          "DE",
          "FL",
          "GA",
          "HI",
          "IA",
          "ID",
          "IL",
          "IN",
          "KS",
          "KY",
          "LA",
          "MA",
          "MD",
          "ME",
          "MI",
          "MN",
          "MO",
          "MS",
          "MT",
          "NC",
          "ND",
          "NE",
          "NH",
          "NJ",
          "NM",
          "NV",
          "NY",
          "OH",
          "OK",
          "OR",
          "PA",
          "PR",
          "RI",
          "SC",
          "SD",
          "TN",
          "TX",
          "UT",
          "VA",
          "VI",
          "VT",
          "WA",
          "WI",
          "WV",
          "WY",
          "East",
          "Midwest",
          "North",
          "Other",
          "South",
          "West",
          "total"
         ],
         "marker": {
          "cmid": 0.5310344827586206,
          "colors": [
           "#A8DFF7",
           "#57899C",
           "#57899C",
           "#A8DFF7",
           "#A8DFF7",
           "#A8DFF7",
           "#25536D",
           "#25536D",
           "#25536D",
           "#57899C",
           "#57899C",
           "#A8DFF7",
           "#B5D1D4",
           "#A8DFF7",
           "#B5D1D4",
           "#B5D1D4",
           "#B5D1D4",
           "#57899C",
           "#57899C",
           "#25536D",
           "#25536D",
           "#3E93AB",
           "#B5D1D4",
           "#B5D1D4",
           "#B5D1D4",
           "#57899C",
           "#A8DFF7",
           "#57899C",
           "#B5D1D4",
           "#B5D1D4",
           "#3E93AB",
           "#25536D",
           "#A8DFF7",
           "#A8DFF7",
           "#25536D",
           "#B5D1D4",
           "#57899C",
           "#A8DFF7",
           "#25536D",
           "#2F4E48",
           "#3E93AB",
           "#57899C",
           "#B5D1D4",
           "#57899C",
           "#57899C",
           "#A8DFF7",
           "#57899C",
           "#2F4E48",
           "#3E93AB",
           "#A8DFF7",
           "#B5D1D4",
           "#57899C",
           "#A8DFF7",
           "#25536D",
           "#B5D1D4",
           "#3E93AB",
           "#2F4E48",
           "#57899C",
           "#A8DFF7",
           "white"
          ],
          "colorscale": [
           [
            0,
            "rgb(103,0,31)"
           ],
           [
            0.1,
            "rgb(178,24,43)"
           ],
           [
            0.2,
            "rgb(214,96,77)"
           ],
           [
            0.3,
            "rgb(244,165,130)"
           ],
           [
            0.4,
            "rgb(253,219,199)"
           ],
           [
            0.5,
            "rgb(247,247,247)"
           ],
           [
            0.6,
            "rgb(209,229,240)"
           ],
           [
            0.7,
            "rgb(146,197,222)"
           ],
           [
            0.8,
            "rgb(67,147,195)"
           ],
           [
            0.9,
            "rgb(33,102,172)"
           ],
           [
            1,
            "rgb(5,48,97)"
           ]
          ]
         },
         "name": "",
         "parents": [
          "West",
          "South",
          "South",
          "West",
          "West",
          "West",
          "East",
          "East",
          "East",
          "South",
          "South",
          "West",
          "Midwest",
          "West",
          "Midwest",
          "Midwest",
          "Midwest",
          "South",
          "South",
          "East",
          "East",
          "North",
          "Midwest",
          "Midwest",
          "Midwest",
          "South",
          "West",
          "South",
          "Midwest",
          "Midwest",
          "North",
          "East",
          "West",
          "West",
          "East",
          "Midwest",
          "South",
          "West",
          "East",
          "Other",
          "North",
          "South",
          "Midwest",
          "South",
          "South",
          "West",
          "South",
          "Other",
          "North",
          "West",
          "Midwest",
          "South",
          "West",
          "total",
          "total",
          "total",
          "total",
          "total",
          "total",
          ""
         ],
         "type": "sunburst",
         "values": [
          484,
          1002,
          862,
          3741,
          12361,
          2380,
          1396,
          100,
          310,
          6196,
          1977,
          519,
          917,
          1011,
          3214,
          1784,
          895,
          1248,
          843,
          1995,
          1354,
          881,
          2683,
          1593,
          2045,
          562,
          708,
          2790,
          194,
          518,
          895,
          2122,
          1169,
          1254,
          4333,
          3276,
          1123,
          2658,
          3705,
          28,
          465,
          1730,
          287,
          1710,
          4470,
          1171,
          1994,
          1,
          482,
          5260,
          1909,
          665,
          290,
          15315,
          19315,
          2723,
          29,
          27172,
          33006,
          97560
         ]
        },
        {
         "branchvalues": "total",
         "domain": {
          "x": [
           0,
           1
          ],
          "y": [
           0,
           1
          ]
         },
         "hovertemplate": "<b>%{label} </b> <br> Sightings: %{value}",
         "labels": [
          "AK",
          "AL",
          "AR",
          "AZ",
          "CA",
          "CO",
          "CT",
          "DC",
          "DE",
          "FL",
          "GA",
          "HI",
          "IA",
          "ID",
          "IL",
          "IN",
          "KS",
          "KY",
          "LA",
          "MA",
          "MD",
          "ME",
          "MI",
          "MN",
          "MO",
          "MS",
          "MT",
          "NC",
          "ND",
          "NE",
          "NH",
          "NJ",
          "NM",
          "NV",
          "NY",
          "OH",
          "OK",
          "OR",
          "PA",
          "PR",
          "RI",
          "SC",
          "SD",
          "TN",
          "TX",
          "UT",
          "VA",
          "VI",
          "VT",
          "WA",
          "WI",
          "WV",
          "WY",
          "East",
          "Midwest",
          "North",
          "Other",
          "South",
          "West",
          "total"
         ],
         "marker": {
          "cmid": 0.5310344827586206,
          "colors": [
           "#A8DFF7",
           "#57899C",
           "#57899C",
           "#A8DFF7",
           "#A8DFF7",
           "#A8DFF7",
           "#25536D",
           "#25536D",
           "#25536D",
           "#57899C",
           "#57899C",
           "#A8DFF7",
           "#B5D1D4",
           "#A8DFF7",
           "#B5D1D4",
           "#B5D1D4",
           "#B5D1D4",
           "#57899C",
           "#57899C",
           "#25536D",
           "#25536D",
           "#3E93AB",
           "#B5D1D4",
           "#B5D1D4",
           "#B5D1D4",
           "#57899C",
           "#A8DFF7",
           "#57899C",
           "#B5D1D4",
           "#B5D1D4",
           "#3E93AB",
           "#25536D",
           "#A8DFF7",
           "#A8DFF7",
           "#25536D",
           "#B5D1D4",
           "#57899C",
           "#A8DFF7",
           "#25536D",
           "#2F4E48",
           "#3E93AB",
           "#57899C",
           "#B5D1D4",
           "#57899C",
           "#57899C",
           "#A8DFF7",
           "#57899C",
           "#2F4E48",
           "#3E93AB",
           "#A8DFF7",
           "#B5D1D4",
           "#57899C",
           "#A8DFF7",
           "#25536D",
           "#B5D1D4",
           "#3E93AB",
           "#2F4E48",
           "#57899C",
           "#A8DFF7",
           "white"
          ],
          "colorscale": [
           [
            0,
            "rgb(103,0,31)"
           ],
           [
            0.1,
            "rgb(178,24,43)"
           ],
           [
            0.2,
            "rgb(214,96,77)"
           ],
           [
            0.3,
            "rgb(244,165,130)"
           ],
           [
            0.4,
            "rgb(253,219,199)"
           ],
           [
            0.5,
            "rgb(247,247,247)"
           ],
           [
            0.6,
            "rgb(209,229,240)"
           ],
           [
            0.7,
            "rgb(146,197,222)"
           ],
           [
            0.8,
            "rgb(67,147,195)"
           ],
           [
            0.9,
            "rgb(33,102,172)"
           ],
           [
            1,
            "rgb(5,48,97)"
           ]
          ]
         },
         "name": "",
         "parents": [
          "West",
          "South",
          "South",
          "West",
          "West",
          "West",
          "East",
          "East",
          "East",
          "South",
          "South",
          "West",
          "Midwest",
          "West",
          "Midwest",
          "Midwest",
          "Midwest",
          "South",
          "South",
          "East",
          "East",
          "North",
          "Midwest",
          "Midwest",
          "Midwest",
          "South",
          "West",
          "South",
          "Midwest",
          "Midwest",
          "North",
          "East",
          "West",
          "West",
          "East",
          "Midwest",
          "South",
          "West",
          "East",
          "Other",
          "North",
          "South",
          "Midwest",
          "South",
          "South",
          "West",
          "South",
          "Other",
          "North",
          "West",
          "Midwest",
          "South",
          "West",
          "total",
          "total",
          "total",
          "total",
          "total",
          "total",
          ""
         ],
         "type": "sunburst",
         "values": [
          484,
          1002,
          862,
          3741,
          12361,
          2380,
          1396,
          100,
          310,
          6196,
          1977,
          519,
          917,
          1011,
          3214,
          1784,
          895,
          1248,
          843,
          1995,
          1354,
          881,
          2683,
          1593,
          2045,
          562,
          708,
          2790,
          194,
          518,
          895,
          2122,
          1169,
          1254,
          4333,
          3276,
          1123,
          2658,
          3705,
          28,
          465,
          1730,
          287,
          1710,
          4470,
          1171,
          1994,
          1,
          482,
          5260,
          1909,
          665,
          290,
          15315,
          19315,
          2723,
          29,
          27172,
          33006,
          97560
         ]
        },
        {
         "branchvalues": "total",
         "domain": {
          "x": [
           0,
           1
          ],
          "y": [
           0,
           1
          ]
         },
         "hovertemplate": "<b>%{label} </b> <br> Sightings: %{value}",
         "labels": [
          "AK",
          "AL",
          "AR",
          "AZ",
          "CA",
          "CO",
          "CT",
          "DC",
          "DE",
          "FL",
          "GA",
          "HI",
          "IA",
          "ID",
          "IL",
          "IN",
          "KS",
          "KY",
          "LA",
          "MA",
          "MD",
          "ME",
          "MI",
          "MN",
          "MO",
          "MS",
          "MT",
          "NC",
          "ND",
          "NE",
          "NH",
          "NJ",
          "NM",
          "NV",
          "NY",
          "OH",
          "OK",
          "OR",
          "PA",
          "PR",
          "RI",
          "SC",
          "SD",
          "TN",
          "TX",
          "UT",
          "VA",
          "VI",
          "VT",
          "WA",
          "WI",
          "WV",
          "WY",
          "East",
          "Midwest",
          "North",
          "Other",
          "South",
          "West",
          "total"
         ],
         "marker": {
          "cmid": 0.5310344827586206,
          "colors": [
           "#A8DFF7",
           "#57899C",
           "#57899C",
           "#A8DFF7",
           "#A8DFF7",
           "#A8DFF7",
           "#25536D",
           "#25536D",
           "#25536D",
           "#57899C",
           "#57899C",
           "#A8DFF7",
           "#B5D1D4",
           "#A8DFF7",
           "#B5D1D4",
           "#B5D1D4",
           "#B5D1D4",
           "#57899C",
           "#57899C",
           "#25536D",
           "#25536D",
           "#3E93AB",
           "#B5D1D4",
           "#B5D1D4",
           "#B5D1D4",
           "#57899C",
           "#A8DFF7",
           "#57899C",
           "#B5D1D4",
           "#B5D1D4",
           "#3E93AB",
           "#25536D",
           "#A8DFF7",
           "#A8DFF7",
           "#25536D",
           "#B5D1D4",
           "#57899C",
           "#A8DFF7",
           "#25536D",
           "#2F4E48",
           "#3E93AB",
           "#57899C",
           "#B5D1D4",
           "#57899C",
           "#57899C",
           "#A8DFF7",
           "#57899C",
           "#2F4E48",
           "#3E93AB",
           "#A8DFF7",
           "#B5D1D4",
           "#57899C",
           "#A8DFF7",
           "#25536D",
           "#B5D1D4",
           "#3E93AB",
           "#2F4E48",
           "#57899C",
           "#A8DFF7",
           "white"
          ],
          "colorscale": [
           [
            0,
            "rgb(103,0,31)"
           ],
           [
            0.1,
            "rgb(178,24,43)"
           ],
           [
            0.2,
            "rgb(214,96,77)"
           ],
           [
            0.3,
            "rgb(244,165,130)"
           ],
           [
            0.4,
            "rgb(253,219,199)"
           ],
           [
            0.5,
            "rgb(247,247,247)"
           ],
           [
            0.6,
            "rgb(209,229,240)"
           ],
           [
            0.7,
            "rgb(146,197,222)"
           ],
           [
            0.8,
            "rgb(67,147,195)"
           ],
           [
            0.9,
            "rgb(33,102,172)"
           ],
           [
            1,
            "rgb(5,48,97)"
           ]
          ]
         },
         "name": "",
         "parents": [
          "West",
          "South",
          "South",
          "West",
          "West",
          "West",
          "East",
          "East",
          "East",
          "South",
          "South",
          "West",
          "Midwest",
          "West",
          "Midwest",
          "Midwest",
          "Midwest",
          "South",
          "South",
          "East",
          "East",
          "North",
          "Midwest",
          "Midwest",
          "Midwest",
          "South",
          "West",
          "South",
          "Midwest",
          "Midwest",
          "North",
          "East",
          "West",
          "West",
          "East",
          "Midwest",
          "South",
          "West",
          "East",
          "Other",
          "North",
          "South",
          "Midwest",
          "South",
          "South",
          "West",
          "South",
          "Other",
          "North",
          "West",
          "Midwest",
          "South",
          "West",
          "total",
          "total",
          "total",
          "total",
          "total",
          "total",
          ""
         ],
         "type": "sunburst",
         "values": [
          484,
          1002,
          862,
          3741,
          12361,
          2380,
          1396,
          100,
          310,
          6196,
          1977,
          519,
          917,
          1011,
          3214,
          1784,
          895,
          1248,
          843,
          1995,
          1354,
          881,
          2683,
          1593,
          2045,
          562,
          708,
          2790,
          194,
          518,
          895,
          2122,
          1169,
          1254,
          4333,
          3276,
          1123,
          2658,
          3705,
          28,
          465,
          1730,
          287,
          1710,
          4470,
          1171,
          1994,
          1,
          482,
          5260,
          1909,
          665,
          290,
          15315,
          19315,
          2723,
          29,
          27172,
          33006,
          97560
         ]
        },
        {
         "branchvalues": "total",
         "domain": {
          "x": [
           0,
           1
          ],
          "y": [
           0,
           1
          ]
         },
         "hovertemplate": "<b>%{label} </b> <br> Sightings: %{value}",
         "labels": [
          "AK",
          "AL",
          "AR",
          "AZ",
          "CA",
          "CO",
          "CT",
          "DC",
          "DE",
          "FL",
          "GA",
          "HI",
          "IA",
          "ID",
          "IL",
          "IN",
          "KS",
          "KY",
          "LA",
          "MA",
          "MD",
          "ME",
          "MI",
          "MN",
          "MO",
          "MS",
          "MT",
          "NC",
          "ND",
          "NE",
          "NH",
          "NJ",
          "NM",
          "NV",
          "NY",
          "OH",
          "OK",
          "OR",
          "PA",
          "PR",
          "RI",
          "SC",
          "SD",
          "TN",
          "TX",
          "UT",
          "VA",
          "VI",
          "VT",
          "WA",
          "WI",
          "WV",
          "WY",
          "East",
          "Midwest",
          "North",
          "Other",
          "South",
          "West",
          "total"
         ],
         "marker": {
          "cmid": 0.5310344827586206,
          "colors": [
           "#A8DFF7",
           "#57899C",
           "#57899C",
           "#A8DFF7",
           "#A8DFF7",
           "#A8DFF7",
           "#25536D",
           "#25536D",
           "#25536D",
           "#57899C",
           "#57899C",
           "#A8DFF7",
           "#B5D1D4",
           "#A8DFF7",
           "#B5D1D4",
           "#B5D1D4",
           "#B5D1D4",
           "#57899C",
           "#57899C",
           "#25536D",
           "#25536D",
           "#3E93AB",
           "#B5D1D4",
           "#B5D1D4",
           "#B5D1D4",
           "#57899C",
           "#A8DFF7",
           "#57899C",
           "#B5D1D4",
           "#B5D1D4",
           "#3E93AB",
           "#25536D",
           "#A8DFF7",
           "#A8DFF7",
           "#25536D",
           "#B5D1D4",
           "#57899C",
           "#A8DFF7",
           "#25536D",
           "#2F4E48",
           "#3E93AB",
           "#57899C",
           "#B5D1D4",
           "#57899C",
           "#57899C",
           "#A8DFF7",
           "#57899C",
           "#2F4E48",
           "#3E93AB",
           "#A8DFF7",
           "#B5D1D4",
           "#57899C",
           "#A8DFF7",
           "#25536D",
           "#B5D1D4",
           "#3E93AB",
           "#2F4E48",
           "#57899C",
           "#A8DFF7",
           "white"
          ],
          "colorscale": [
           [
            0,
            "rgb(103,0,31)"
           ],
           [
            0.1,
            "rgb(178,24,43)"
           ],
           [
            0.2,
            "rgb(214,96,77)"
           ],
           [
            0.3,
            "rgb(244,165,130)"
           ],
           [
            0.4,
            "rgb(253,219,199)"
           ],
           [
            0.5,
            "rgb(247,247,247)"
           ],
           [
            0.6,
            "rgb(209,229,240)"
           ],
           [
            0.7,
            "rgb(146,197,222)"
           ],
           [
            0.8,
            "rgb(67,147,195)"
           ],
           [
            0.9,
            "rgb(33,102,172)"
           ],
           [
            1,
            "rgb(5,48,97)"
           ]
          ]
         },
         "name": "",
         "parents": [
          "West",
          "South",
          "South",
          "West",
          "West",
          "West",
          "East",
          "East",
          "East",
          "South",
          "South",
          "West",
          "Midwest",
          "West",
          "Midwest",
          "Midwest",
          "Midwest",
          "South",
          "South",
          "East",
          "East",
          "North",
          "Midwest",
          "Midwest",
          "Midwest",
          "South",
          "West",
          "South",
          "Midwest",
          "Midwest",
          "North",
          "East",
          "West",
          "West",
          "East",
          "Midwest",
          "South",
          "West",
          "East",
          "Other",
          "North",
          "South",
          "Midwest",
          "South",
          "South",
          "West",
          "South",
          "Other",
          "North",
          "West",
          "Midwest",
          "South",
          "West",
          "total",
          "total",
          "total",
          "total",
          "total",
          "total",
          ""
         ],
         "type": "sunburst",
         "values": [
          484,
          1002,
          862,
          3741,
          12361,
          2380,
          1396,
          100,
          310,
          6196,
          1977,
          519,
          917,
          1011,
          3214,
          1784,
          895,
          1248,
          843,
          1995,
          1354,
          881,
          2683,
          1593,
          2045,
          562,
          708,
          2790,
          194,
          518,
          895,
          2122,
          1169,
          1254,
          4333,
          3276,
          1123,
          2658,
          3705,
          28,
          465,
          1730,
          287,
          1710,
          4470,
          1171,
          1994,
          1,
          482,
          5260,
          1909,
          665,
          290,
          15315,
          19315,
          2723,
          29,
          27172,
          33006,
          97560
         ]
        }
       ],
       "layout": {
        "margin": {
         "b": 10,
         "l": 0,
         "r": 10,
         "t": 10
        },
        "template": {
         "data": {
          "bar": [
           {
            "error_x": {
             "color": "#2a3f5f"
            },
            "error_y": {
             "color": "#2a3f5f"
            },
            "marker": {
             "line": {
              "color": "#E5ECF6",
              "width": 0.5
             },
             "pattern": {
              "fillmode": "overlay",
              "size": 10,
              "solidity": 0.2
             }
            },
            "type": "bar"
           }
          ],
          "barpolar": [
           {
            "marker": {
             "line": {
              "color": "#E5ECF6",
              "width": 0.5
             },
             "pattern": {
              "fillmode": "overlay",
              "size": 10,
              "solidity": 0.2
             }
            },
            "type": "barpolar"
           }
          ],
          "carpet": [
           {
            "aaxis": {
             "endlinecolor": "#2a3f5f",
             "gridcolor": "white",
             "linecolor": "white",
             "minorgridcolor": "white",
             "startlinecolor": "#2a3f5f"
            },
            "baxis": {
             "endlinecolor": "#2a3f5f",
             "gridcolor": "white",
             "linecolor": "white",
             "minorgridcolor": "white",
             "startlinecolor": "#2a3f5f"
            },
            "type": "carpet"
           }
          ],
          "choropleth": [
           {
            "colorbar": {
             "outlinewidth": 0,
             "ticks": ""
            },
            "type": "choropleth"
           }
          ],
          "contour": [
           {
            "colorbar": {
             "outlinewidth": 0,
             "ticks": ""
            },
            "colorscale": [
             [
              0,
              "#0d0887"
             ],
             [
              0.1111111111111111,
              "#46039f"
             ],
             [
              0.2222222222222222,
              "#7201a8"
             ],
             [
              0.3333333333333333,
              "#9c179e"
             ],
             [
              0.4444444444444444,
              "#bd3786"
             ],
             [
              0.5555555555555556,
              "#d8576b"
             ],
             [
              0.6666666666666666,
              "#ed7953"
             ],
             [
              0.7777777777777778,
              "#fb9f3a"
             ],
             [
              0.8888888888888888,
              "#fdca26"
             ],
             [
              1,
              "#f0f921"
             ]
            ],
            "type": "contour"
           }
          ],
          "contourcarpet": [
           {
            "colorbar": {
             "outlinewidth": 0,
             "ticks": ""
            },
            "type": "contourcarpet"
           }
          ],
          "heatmap": [
           {
            "colorbar": {
             "outlinewidth": 0,
             "ticks": ""
            },
            "colorscale": [
             [
              0,
              "#0d0887"
             ],
             [
              0.1111111111111111,
              "#46039f"
             ],
             [
              0.2222222222222222,
              "#7201a8"
             ],
             [
              0.3333333333333333,
              "#9c179e"
             ],
             [
              0.4444444444444444,
              "#bd3786"
             ],
             [
              0.5555555555555556,
              "#d8576b"
             ],
             [
              0.6666666666666666,
              "#ed7953"
             ],
             [
              0.7777777777777778,
              "#fb9f3a"
             ],
             [
              0.8888888888888888,
              "#fdca26"
             ],
             [
              1,
              "#f0f921"
             ]
            ],
            "type": "heatmap"
           }
          ],
          "heatmapgl": [
           {
            "colorbar": {
             "outlinewidth": 0,
             "ticks": ""
            },
            "colorscale": [
             [
              0,
              "#0d0887"
             ],
             [
              0.1111111111111111,
              "#46039f"
             ],
             [
              0.2222222222222222,
              "#7201a8"
             ],
             [
              0.3333333333333333,
              "#9c179e"
             ],
             [
              0.4444444444444444,
              "#bd3786"
             ],
             [
              0.5555555555555556,
              "#d8576b"
             ],
             [
              0.6666666666666666,
              "#ed7953"
             ],
             [
              0.7777777777777778,
              "#fb9f3a"
             ],
             [
              0.8888888888888888,
              "#fdca26"
             ],
             [
              1,
              "#f0f921"
             ]
            ],
            "type": "heatmapgl"
           }
          ],
          "histogram": [
           {
            "marker": {
             "pattern": {
              "fillmode": "overlay",
              "size": 10,
              "solidity": 0.2
             }
            },
            "type": "histogram"
           }
          ],
          "histogram2d": [
           {
            "colorbar": {
             "outlinewidth": 0,
             "ticks": ""
            },
            "colorscale": [
             [
              0,
              "#0d0887"
             ],
             [
              0.1111111111111111,
              "#46039f"
             ],
             [
              0.2222222222222222,
              "#7201a8"
             ],
             [
              0.3333333333333333,
              "#9c179e"
             ],
             [
              0.4444444444444444,
              "#bd3786"
             ],
             [
              0.5555555555555556,
              "#d8576b"
             ],
             [
              0.6666666666666666,
              "#ed7953"
             ],
             [
              0.7777777777777778,
              "#fb9f3a"
             ],
             [
              0.8888888888888888,
              "#fdca26"
             ],
             [
              1,
              "#f0f921"
             ]
            ],
            "type": "histogram2d"
           }
          ],
          "histogram2dcontour": [
           {
            "colorbar": {
             "outlinewidth": 0,
             "ticks": ""
            },
            "colorscale": [
             [
              0,
              "#0d0887"
             ],
             [
              0.1111111111111111,
              "#46039f"
             ],
             [
              0.2222222222222222,
              "#7201a8"
             ],
             [
              0.3333333333333333,
              "#9c179e"
             ],
             [
              0.4444444444444444,
              "#bd3786"
             ],
             [
              0.5555555555555556,
              "#d8576b"
             ],
             [
              0.6666666666666666,
              "#ed7953"
             ],
             [
              0.7777777777777778,
              "#fb9f3a"
             ],
             [
              0.8888888888888888,
              "#fdca26"
             ],
             [
              1,
              "#f0f921"
             ]
            ],
            "type": "histogram2dcontour"
           }
          ],
          "mesh3d": [
           {
            "colorbar": {
             "outlinewidth": 0,
             "ticks": ""
            },
            "type": "mesh3d"
           }
          ],
          "parcoords": [
           {
            "line": {
             "colorbar": {
              "outlinewidth": 0,
              "ticks": ""
             }
            },
            "type": "parcoords"
           }
          ],
          "pie": [
           {
            "automargin": true,
            "type": "pie"
           }
          ],
          "scatter": [
           {
            "fillpattern": {
             "fillmode": "overlay",
             "size": 10,
             "solidity": 0.2
            },
            "type": "scatter"
           }
          ],
          "scatter3d": [
           {
            "line": {
             "colorbar": {
              "outlinewidth": 0,
              "ticks": ""
             }
            },
            "marker": {
             "colorbar": {
              "outlinewidth": 0,
              "ticks": ""
             }
            },
            "type": "scatter3d"
           }
          ],
          "scattercarpet": [
           {
            "marker": {
             "colorbar": {
              "outlinewidth": 0,
              "ticks": ""
             }
            },
            "type": "scattercarpet"
           }
          ],
          "scattergeo": [
           {
            "marker": {
             "colorbar": {
              "outlinewidth": 0,
              "ticks": ""
             }
            },
            "type": "scattergeo"
           }
          ],
          "scattergl": [
           {
            "marker": {
             "colorbar": {
              "outlinewidth": 0,
              "ticks": ""
             }
            },
            "type": "scattergl"
           }
          ],
          "scattermapbox": [
           {
            "marker": {
             "colorbar": {
              "outlinewidth": 0,
              "ticks": ""
             }
            },
            "type": "scattermapbox"
           }
          ],
          "scatterpolar": [
           {
            "marker": {
             "colorbar": {
              "outlinewidth": 0,
              "ticks": ""
             }
            },
            "type": "scatterpolar"
           }
          ],
          "scatterpolargl": [
           {
            "marker": {
             "colorbar": {
              "outlinewidth": 0,
              "ticks": ""
             }
            },
            "type": "scatterpolargl"
           }
          ],
          "scatterternary": [
           {
            "marker": {
             "colorbar": {
              "outlinewidth": 0,
              "ticks": ""
             }
            },
            "type": "scatterternary"
           }
          ],
          "surface": [
           {
            "colorbar": {
             "outlinewidth": 0,
             "ticks": ""
            },
            "colorscale": [
             [
              0,
              "#0d0887"
             ],
             [
              0.1111111111111111,
              "#46039f"
             ],
             [
              0.2222222222222222,
              "#7201a8"
             ],
             [
              0.3333333333333333,
              "#9c179e"
             ],
             [
              0.4444444444444444,
              "#bd3786"
             ],
             [
              0.5555555555555556,
              "#d8576b"
             ],
             [
              0.6666666666666666,
              "#ed7953"
             ],
             [
              0.7777777777777778,
              "#fb9f3a"
             ],
             [
              0.8888888888888888,
              "#fdca26"
             ],
             [
              1,
              "#f0f921"
             ]
            ],
            "type": "surface"
           }
          ],
          "table": [
           {
            "cells": {
             "fill": {
              "color": "#EBF0F8"
             },
             "line": {
              "color": "white"
             }
            },
            "header": {
             "fill": {
              "color": "#C8D4E3"
             },
             "line": {
              "color": "white"
             }
            },
            "type": "table"
           }
          ]
         },
         "layout": {
          "annotationdefaults": {
           "arrowcolor": "#2a3f5f",
           "arrowhead": 0,
           "arrowwidth": 1
          },
          "autotypenumbers": "strict",
          "coloraxis": {
           "colorbar": {
            "outlinewidth": 0,
            "ticks": ""
           }
          },
          "colorscale": {
           "diverging": [
            [
             0,
             "#8e0152"
            ],
            [
             0.1,
             "#c51b7d"
            ],
            [
             0.2,
             "#de77ae"
            ],
            [
             0.3,
             "#f1b6da"
            ],
            [
             0.4,
             "#fde0ef"
            ],
            [
             0.5,
             "#f7f7f7"
            ],
            [
             0.6,
             "#e6f5d0"
            ],
            [
             0.7,
             "#b8e186"
            ],
            [
             0.8,
             "#7fbc41"
            ],
            [
             0.9,
             "#4d9221"
            ],
            [
             1,
             "#276419"
            ]
           ],
           "sequential": [
            [
             0,
             "#0d0887"
            ],
            [
             0.1111111111111111,
             "#46039f"
            ],
            [
             0.2222222222222222,
             "#7201a8"
            ],
            [
             0.3333333333333333,
             "#9c179e"
            ],
            [
             0.4444444444444444,
             "#bd3786"
            ],
            [
             0.5555555555555556,
             "#d8576b"
            ],
            [
             0.6666666666666666,
             "#ed7953"
            ],
            [
             0.7777777777777778,
             "#fb9f3a"
            ],
            [
             0.8888888888888888,
             "#fdca26"
            ],
            [
             1,
             "#f0f921"
            ]
           ],
           "sequentialminus": [
            [
             0,
             "#0d0887"
            ],
            [
             0.1111111111111111,
             "#46039f"
            ],
            [
             0.2222222222222222,
             "#7201a8"
            ],
            [
             0.3333333333333333,
             "#9c179e"
            ],
            [
             0.4444444444444444,
             "#bd3786"
            ],
            [
             0.5555555555555556,
             "#d8576b"
            ],
            [
             0.6666666666666666,
             "#ed7953"
            ],
            [
             0.7777777777777778,
             "#fb9f3a"
            ],
            [
             0.8888888888888888,
             "#fdca26"
            ],
            [
             1,
             "#f0f921"
            ]
           ]
          },
          "colorway": [
           "#636efa",
           "#EF553B",
           "#00cc96",
           "#ab63fa",
           "#FFA15A",
           "#19d3f3",
           "#FF6692",
           "#B6E880",
           "#FF97FF",
           "#FECB52"
          ],
          "font": {
           "color": "#2a3f5f"
          },
          "geo": {
           "bgcolor": "white",
           "lakecolor": "white",
           "landcolor": "#E5ECF6",
           "showlakes": true,
           "showland": true,
           "subunitcolor": "white"
          },
          "hoverlabel": {
           "align": "left"
          },
          "hovermode": "closest",
          "mapbox": {
           "style": "light"
          },
          "paper_bgcolor": "white",
          "plot_bgcolor": "#E5ECF6",
          "polar": {
           "angularaxis": {
            "gridcolor": "white",
            "linecolor": "white",
            "ticks": ""
           },
           "bgcolor": "#E5ECF6",
           "radialaxis": {
            "gridcolor": "white",
            "linecolor": "white",
            "ticks": ""
           }
          },
          "scene": {
           "xaxis": {
            "backgroundcolor": "#E5ECF6",
            "gridcolor": "white",
            "gridwidth": 2,
            "linecolor": "white",
            "showbackground": true,
            "ticks": "",
            "zerolinecolor": "white"
           },
           "yaxis": {
            "backgroundcolor": "#E5ECF6",
            "gridcolor": "white",
            "gridwidth": 2,
            "linecolor": "white",
            "showbackground": true,
            "ticks": "",
            "zerolinecolor": "white"
           },
           "zaxis": {
            "backgroundcolor": "#E5ECF6",
            "gridcolor": "white",
            "gridwidth": 2,
            "linecolor": "white",
            "showbackground": true,
            "ticks": "",
            "zerolinecolor": "white"
           }
          },
          "shapedefaults": {
           "line": {
            "color": "#2a3f5f"
           }
          },
          "ternary": {
           "aaxis": {
            "gridcolor": "white",
            "linecolor": "white",
            "ticks": ""
           },
           "baxis": {
            "gridcolor": "white",
            "linecolor": "white",
            "ticks": ""
           },
           "bgcolor": "#E5ECF6",
           "caxis": {
            "gridcolor": "white",
            "linecolor": "white",
            "ticks": ""
           }
          },
          "title": {
           "x": 0.05
          },
          "xaxis": {
           "automargin": true,
           "gridcolor": "white",
           "linecolor": "white",
           "ticks": "",
           "title": {
            "standoff": 15
           },
           "zerolinecolor": "white",
           "zerolinewidth": 2
          },
          "yaxis": {
           "automargin": true,
           "gridcolor": "white",
           "linecolor": "white",
           "ticks": "",
           "title": {
            "standoff": 15
           },
           "zerolinecolor": "white",
           "zerolinewidth": 2
          }
         }
        },
        "xaxis": {
         "range": [
          -1,
          1
         ]
        },
        "yaxis": {
         "range": [
          -1,
          1
         ]
        }
       }
      }
     },
     "metadata": {},
     "output_type": "display_data"
    }
   ],
   "source": [
    "import plotly.graph_objects as go\n",
    "from plotly.subplots import make_subplots\n",
    "import pandas as pd\n",
    "\n",
    "levels = ['state', 'region'] # levels used for the hierarchical chart\n",
    "color_columns = ['city', 'city']\n",
    "value_column = 'city'\n",
    "\n",
    "# define a color palette for the regions\n",
    "region_colors = {'North': '#3E93AB', \n",
    "                 'West': '#A8DFF7', \n",
    "                 'East': '#25536D', \n",
    "                 'South': '#57899C', \n",
    "                 'Midwest': '#B5D1D4', \n",
    "                 'Other': '#2F4E48'}\n",
    "\n",
    "\n",
    "def build_hierarchical_dataframe(df, levels, value_column, color_columns=None):\n",
    "    \"\"\"\n",
    "    Build a hierarchy of levels for Sunburst or Treemap charts.\n",
    "\n",
    "    Levels are given starting from the bottom to the top of the hierarchy,\n",
    "    ie the last level corresponds to the root.\n",
    "    \"\"\"\n",
    "    df_all_trees = pd.DataFrame(columns=['id', 'parent', 'value', 'color'])\n",
    "    state_region_map = dict(zip(df['state'], df['region'])) # create a dictionary mapping each state to its parent region\n",
    "    for i, level in enumerate(levels):\n",
    "        df_tree = pd.DataFrame(columns=['id', 'parent', 'value', 'color'])\n",
    "        dfg = df.groupby(levels[i:]).sum()\n",
    "        dfg = dfg.reset_index()\n",
    "        df_tree['id'] = dfg[level].copy()\n",
    "        if i < len(levels) - 1:\n",
    "            df_tree['parent'] = dfg[levels[i+1]].copy()\n",
    "        else:\n",
    "            df_tree['parent'] = 'total'\n",
    "        df_tree['value'] = dfg[value_column]\n",
    "        if level == 'region':\n",
    "            # assign a unique color to each region\n",
    "            df_tree['color'] = [region_colors[r] for r in df_tree['id']]\n",
    "        else:\n",
    "            # assign the same color to each state within a region as its parent region\n",
    "            df_tree['color'] = [region_colors[state_region_map[s]] for s in df_tree['id']]\n",
    "        df_all_trees = df_all_trees.append(df_tree, ignore_index=True)\n",
    "    total = pd.Series(dict(id='total', parent='',\n",
    "                              value=df[value_column].sum(),\n",
    "                              color='white'))\n",
    "    df_all_trees = df_all_trees.append(total, ignore_index=True)\n",
    "    return df_all_trees\n",
    "\n",
    "\n",
    "\n",
    "df_all_trees = build_hierarchical_dataframe(grouped, levels, value_column, color_columns)\n",
    "#average_score = grouped['sales'].sum() / grouped['calls'].sum()\n",
    "\n",
    "#fig = make_subplots(1, 2, specs=[[{\"type\": \"domain\"}, {\"type\": \"domain\"}]],)\n",
    "\n",
    "# Add a Sunburst trace to the figure with labels, parents, values, marker, hovertemplate, and name\n",
    "fig.add_trace(go.Sunburst(\n",
    "    labels=df_all_trees['id'],\n",
    "    parents=df_all_trees['parent'],\n",
    "    values=df_all_trees['value'],\n",
    "    branchvalues='total',\n",
    "    marker=dict(\n",
    "        colors=df_all_trees['color'],\n",
    "        colorscale='RdBu',\n",
    "        cmid=average_score),\n",
    "    hovertemplate='<b>%{label} </b> <br> Sightings: %{value}',\n",
    "    name=''\n",
    "))\n",
    "\n",
    "# Update the domain for the Sunburst trace to set it to [0, 1] for both x and y axes\n",
    "fig.update_traces(domain=dict(x=[0, 1], y=[0, 1]))\n",
    "\n",
    "# fig.add_trace(go.Sunburst(\n",
    "#     labels=df_all_trees['id'],\n",
    "#     parents=df_all_trees['parent'],\n",
    "#     values=df_all_trees['value'],\n",
    "#     branchvalues='total',\n",
    "#     marker=dict(\n",
    "#         colors=df_all_trees['color'],\n",
    "#         colorscale='RdBu',\n",
    "#         cmid=average_score),\n",
    "#         hovertemplate='<b>%{label} </b> <br> Sightings: %{value}',\n",
    "#         maxdepth=2\n",
    "#     ), 1, 2)\n",
    "\n",
    "# Update the layout to set the x and y axis ranges to [-1, 1] to center the plot\n",
    "fig.update_layout(xaxis=dict(range=[-1, 1]), yaxis=dict(range=[-1, 1]))\n",
    "fig\n"
   ]
  },
  {
   "cell_type": "code",
   "execution_count": 53,
   "metadata": {},
   "outputs": [],
   "source": [
    "# Save the figure to an HTML file\n",
    "fig.write_html('sunburst_plot.html', auto_open=True)"
   ]
  },
  {
   "cell_type": "code",
   "execution_count": 49,
   "metadata": {},
   "outputs": [
    {
     "data": {
      "text/plain": [
       "'https://plotly.com/~tg693/1/'"
      ]
     },
     "execution_count": 49,
     "metadata": {},
     "output_type": "execute_result"
    }
   ],
   "source": [
    "import chart_studio.plotly as py\n",
    "import chart_studio.tools as tls\n",
    "\n",
    "username = 'tg693'\n",
    "api_key = 'mvFr26LyXJcmY7jxvs1h'\n",
    "\n",
    "tls.set_credentials_file(username=username, api_key=api_key)\n",
    "py.plot(fig, filename='sunburst_plot', auto_open=True)\n",
    "\n",
    "# <iframe width=\"900\" height=\"800\" frameborder=\"0\" scrolling=\"no\" src=\"//plotly.com/~tg693/1.embed\"></iframe>"
   ]
  },
  {
   "cell_type": "code",
   "execution_count": null,
   "metadata": {},
   "outputs": [],
   "source": []
  }
 ],
 "metadata": {
  "kernelspec": {
   "display_name": "anly503",
   "language": "python",
   "name": "python3"
  },
  "language_info": {
   "codemirror_mode": {
    "name": "ipython",
    "version": 3
   },
   "file_extension": ".py",
   "mimetype": "text/x-python",
   "name": "python",
   "nbconvert_exporter": "python",
   "pygments_lexer": "ipython3",
   "version": "3.10.8"
  },
  "orig_nbformat": 4
 },
 "nbformat": 4,
 "nbformat_minor": 2
}
