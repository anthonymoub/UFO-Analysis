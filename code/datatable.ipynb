{
 "cells": [
  {
   "attachments": {},
   "cell_type": "markdown",
   "metadata": {},
   "source": [
    "# Imports"
   ]
  },
  {
   "cell_type": "code",
   "execution_count": 1,
   "metadata": {},
   "outputs": [],
   "source": [
    "import plotly.graph_objects as go\n",
    "import plotly.io as pio\n",
    "import pandas as pd\n",
    "import os\n",
    "\n",
    "pio.renderers.default = \"plotly_mimetype+notebook_connected\"\n",
    "pio.templates.default = \"none\""
   ]
  },
  {
   "attachments": {},
   "cell_type": "markdown",
   "metadata": {},
   "source": [
    "# Data Transformation"
   ]
  },
  {
   "cell_type": "code",
   "execution_count": 2,
   "metadata": {},
   "outputs": [
    {
     "name": "stderr",
     "output_type": "stream",
     "text": [
      "/var/folders/80/kkd433150p52z36v9dx3c_p00000gn/T/ipykernel_7327/3194987156.py:1: DtypeWarning:\n",
      "\n",
      "Columns (8) have mixed types. Specify dtype option on import or set low_memory=False.\n",
      "\n"
     ]
    },
    {
     "data": {
      "text/html": [
       "<div>\n",
       "<style scoped>\n",
       "    .dataframe tbody tr th:only-of-type {\n",
       "        vertical-align: middle;\n",
       "    }\n",
       "\n",
       "    .dataframe tbody tr th {\n",
       "        vertical-align: top;\n",
       "    }\n",
       "\n",
       "    .dataframe thead th {\n",
       "        text-align: right;\n",
       "    }\n",
       "</style>\n",
       "<table border=\"1\" class=\"dataframe\">\n",
       "  <thead>\n",
       "    <tr style=\"text-align: right;\">\n",
       "      <th></th>\n",
       "      <th>posted</th>\n",
       "      <th>date</th>\n",
       "      <th>time</th>\n",
       "      <th>city</th>\n",
       "      <th>state</th>\n",
       "      <th>shape</th>\n",
       "      <th>duration</th>\n",
       "      <th>summary</th>\n",
       "      <th>images</th>\n",
       "    </tr>\n",
       "  </thead>\n",
       "  <tbody>\n",
       "    <tr>\n",
       "      <th>0</th>\n",
       "      <td>12/22/22</td>\n",
       "      <td>12/22/22</td>\n",
       "      <td>09:29:00</td>\n",
       "      <td>Newark</td>\n",
       "      <td>DE</td>\n",
       "      <td>Light</td>\n",
       "      <td>30 secomds</td>\n",
       "      <td>I saw a light that was not flashing moving the...</td>\n",
       "      <td>NaN</td>\n",
       "    </tr>\n",
       "    <tr>\n",
       "      <th>1</th>\n",
       "      <td>12/22/22</td>\n",
       "      <td>12/21/22</td>\n",
       "      <td>21:33:00</td>\n",
       "      <td>Columbus</td>\n",
       "      <td>OH</td>\n",
       "      <td>Light</td>\n",
       "      <td>1-2 minutes</td>\n",
       "      <td>4-5 orange balls of light in a straight line</td>\n",
       "      <td>NaN</td>\n",
       "    </tr>\n",
       "    <tr>\n",
       "      <th>2</th>\n",
       "      <td>12/22/22</td>\n",
       "      <td>12/21/22</td>\n",
       "      <td>04:11:00</td>\n",
       "      <td>Franklin</td>\n",
       "      <td>ME</td>\n",
       "      <td>Light</td>\n",
       "      <td>2 hours</td>\n",
       "      <td>Hovering bright light with satellite lights ex...</td>\n",
       "      <td>NaN</td>\n",
       "    </tr>\n",
       "    <tr>\n",
       "      <th>3</th>\n",
       "      <td>12/22/22</td>\n",
       "      <td>12/20/22</td>\n",
       "      <td>23:30:00</td>\n",
       "      <td>East Greenwich</td>\n",
       "      <td>RI</td>\n",
       "      <td>Light</td>\n",
       "      <td>3 seconds maybe even less</td>\n",
       "      <td>I was driving the interstate at night with my ...</td>\n",
       "      <td>NaN</td>\n",
       "    </tr>\n",
       "    <tr>\n",
       "      <th>4</th>\n",
       "      <td>12/22/22</td>\n",
       "      <td>12/20/22</td>\n",
       "      <td>21:58:00</td>\n",
       "      <td>Mentor Headlands</td>\n",
       "      <td>OH</td>\n",
       "      <td>Cylinder</td>\n",
       "      <td>A few minutes</td>\n",
       "      <td>Looked cylindrical from the lights, changing c...</td>\n",
       "      <td>NaN</td>\n",
       "    </tr>\n",
       "  </tbody>\n",
       "</table>\n",
       "</div>"
      ],
      "text/plain": [
       "     posted      date      time              city state     shape  \\\n",
       "0  12/22/22  12/22/22  09:29:00            Newark    DE     Light   \n",
       "1  12/22/22  12/21/22  21:33:00          Columbus    OH     Light   \n",
       "2  12/22/22  12/21/22  04:11:00          Franklin    ME     Light   \n",
       "3  12/22/22  12/20/22  23:30:00    East Greenwich    RI     Light   \n",
       "4  12/22/22  12/20/22  21:58:00  Mentor Headlands    OH  Cylinder   \n",
       "\n",
       "                    duration  \\\n",
       "0                 30 secomds   \n",
       "1                1-2 minutes   \n",
       "2                    2 hours   \n",
       "3  3 seconds maybe even less   \n",
       "4              A few minutes   \n",
       "\n",
       "                                             summary images  \n",
       "0  I saw a light that was not flashing moving the...    NaN  \n",
       "1       4-5 orange balls of light in a straight line    NaN  \n",
       "2  Hovering bright light with satellite lights ex...    NaN  \n",
       "3  I was driving the interstate at night with my ...    NaN  \n",
       "4  Looked cylindrical from the lights, changing c...    NaN  "
      ]
     },
     "execution_count": 2,
     "metadata": {},
     "output_type": "execute_result"
    }
   ],
   "source": [
    "df = pd.read_csv('../data/ufo_data_nuforc.csv')\n",
    "df.head()"
   ]
  },
  {
   "attachments": {},
   "cell_type": "markdown",
   "metadata": {},
   "source": [
    "# Data Tables"
   ]
  },
  {
   "attachments": {},
   "cell_type": "markdown",
   "metadata": {},
   "source": [
    "## Helper Functions"
   ]
  },
  {
   "cell_type": "code",
   "execution_count": 3,
   "metadata": {},
   "outputs": [],
   "source": [
    "fig = go.Figure(\n",
    "    data=[go.Table(\n",
    "        header=dict(values=list(df.columns),\n",
    "                    fill_color='#092959',\n",
    "                    font=dict(color='white'),\n",
    "                    align='center'),\n",
    "        cells=dict(values=[df[col] for col in df.columns],\n",
    "                fill_color='#a4c3da',\n",
    "                font=dict(color='black'),\n",
    "                align='left'))\n",
    "])\n",
    "\n",
    "fig.update_layout(\n",
    "    plot_bgcolor='rgb(255, 255, 255)',\n",
    "    paper_bgcolor='rgb(255, 255, 255)'\n",
    ")\n",
    "\n",
    "#fig.show()\n",
    "\n",
    "def export_dt(dt, name):\n",
    "    output_dir = '../data/'\n",
    "    if not os.path.exists(output_dir):\n",
    "        os.makedirs(output_dir)\n",
    "    output_file = f\"{name}.html\"\n",
    "    \n",
    "    pio.write_html(dt, file=output_dir + output_file, auto_open=False)\n",
    "    \n",
    "export_dt(fig, \"nuforce_dt\")"
   ]
  }
 ],
 "metadata": {
  "kernelspec": {
   "display_name": "anly503",
   "language": "python",
   "name": "python3"
  },
  "language_info": {
   "codemirror_mode": {
    "name": "ipython",
    "version": 3
   },
   "file_extension": ".py",
   "mimetype": "text/x-python",
   "name": "python",
   "nbconvert_exporter": "python",
   "pygments_lexer": "ipython3",
   "version": "3.10.8"
  },
  "orig_nbformat": 4
 },
 "nbformat": 4,
 "nbformat_minor": 2
}
