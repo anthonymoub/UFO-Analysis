{
 "cells": [
  {
   "attachments": {},
   "cell_type": "markdown",
   "metadata": {},
   "source": [
    "# Import dfs"
   ]
  },
  {
   "cell_type": "code",
   "execution_count": 176,
   "metadata": {},
   "outputs": [
    {
     "data": {
      "text/html": [
       "<div>\n",
       "<style scoped>\n",
       "    .dataframe tbody tr th:only-of-type {\n",
       "        vertical-align: middle;\n",
       "    }\n",
       "\n",
       "    .dataframe tbody tr th {\n",
       "        vertical-align: top;\n",
       "    }\n",
       "\n",
       "    .dataframe thead th {\n",
       "        text-align: right;\n",
       "    }\n",
       "</style>\n",
       "<table border=\"1\" class=\"dataframe\">\n",
       "  <thead>\n",
       "    <tr style=\"text-align: right;\">\n",
       "      <th></th>\n",
       "      <th>posted</th>\n",
       "      <th>date</th>\n",
       "      <th>time</th>\n",
       "      <th>city</th>\n",
       "      <th>state</th>\n",
       "      <th>shape</th>\n",
       "      <th>duration</th>\n",
       "      <th>summary</th>\n",
       "      <th>images</th>\n",
       "      <th>year</th>\n",
       "      <th>Keyword</th>\n",
       "    </tr>\n",
       "  </thead>\n",
       "  <tbody>\n",
       "    <tr>\n",
       "      <th>0</th>\n",
       "      <td>03/11/06</td>\n",
       "      <td>1973-01-08</td>\n",
       "      <td>21:00:00</td>\n",
       "      <td>Muscle Shoals</td>\n",
       "      <td>AL</td>\n",
       "      <td>Oval</td>\n",
       "      <td>20 seconds</td>\n",
       "      <td>Glowing orange detailess object with outline s...</td>\n",
       "      <td>NaN</td>\n",
       "      <td>1973</td>\n",
       "      <td>['orange', 'object', 'moving', 'sky']</td>\n",
       "    </tr>\n",
       "    <tr>\n",
       "      <th>1</th>\n",
       "      <td>11/20/02</td>\n",
       "      <td>1973-01-12</td>\n",
       "      <td>03:00:00</td>\n",
       "      <td>Farmington (SE of, deserted area, Hwy 44)</td>\n",
       "      <td>NM</td>\n",
       "      <td>Light</td>\n",
       "      <td>aprox:2-3 min</td>\n",
       "      <td>A large bright light apeared seemingly from no...</td>\n",
       "      <td>NaN</td>\n",
       "      <td>1973</td>\n",
       "      <td>['large', 'bright', 'light']</td>\n",
       "    </tr>\n",
       "    <tr>\n",
       "      <th>2</th>\n",
       "      <td>02/14/08</td>\n",
       "      <td>1973-01-14</td>\n",
       "      <td>19:00:00</td>\n",
       "      <td>Scranton</td>\n",
       "      <td>PA</td>\n",
       "      <td>Rectangle</td>\n",
       "      <td>10 seconds</td>\n",
       "      <td>Rectangular object moving at a very high rate ...</td>\n",
       "      <td>NaN</td>\n",
       "      <td>1973</td>\n",
       "      <td>['object', 'moving']</td>\n",
       "    </tr>\n",
       "    <tr>\n",
       "      <th>3</th>\n",
       "      <td>01/05/16</td>\n",
       "      <td>1973-02-10</td>\n",
       "      <td>02:00:00</td>\n",
       "      <td>Moundville</td>\n",
       "      <td>AL</td>\n",
       "      <td>Cigar</td>\n",
       "      <td>90 seconds</td>\n",
       "      <td>Cigar-shaped low flying after heavy snow storm.</td>\n",
       "      <td>NaN</td>\n",
       "      <td>1973</td>\n",
       "      <td>['flying']</td>\n",
       "    </tr>\n",
       "    <tr>\n",
       "      <th>4</th>\n",
       "      <td>10/30/06</td>\n",
       "      <td>1973-03-01</td>\n",
       "      <td>06:00:00</td>\n",
       "      <td>Winston-Salem</td>\n",
       "      <td>NC</td>\n",
       "      <td>Light</td>\n",
       "      <td>15 sec.</td>\n",
       "      <td>Saw a fast moving light that perfomed an insta...</td>\n",
       "      <td>NaN</td>\n",
       "      <td>1973</td>\n",
       "      <td>['moving', 'light']</td>\n",
       "    </tr>\n",
       "  </tbody>\n",
       "</table>\n",
       "</div>"
      ],
      "text/plain": [
       "     posted        date      time                                       city  \\\n",
       "0  03/11/06  1973-01-08  21:00:00                              Muscle Shoals   \n",
       "1  11/20/02  1973-01-12  03:00:00  Farmington (SE of, deserted area, Hwy 44)   \n",
       "2  02/14/08  1973-01-14  19:00:00                                   Scranton   \n",
       "3  01/05/16  1973-02-10  02:00:00                                 Moundville   \n",
       "4  10/30/06  1973-03-01  06:00:00                              Winston-Salem   \n",
       "\n",
       "  state      shape       duration  \\\n",
       "0    AL       Oval     20 seconds   \n",
       "1    NM      Light  aprox:2-3 min   \n",
       "2    PA  Rectangle     10 seconds   \n",
       "3    AL      Cigar     90 seconds   \n",
       "4    NC      Light        15 sec.   \n",
       "\n",
       "                                             summary images  year  \\\n",
       "0  Glowing orange detailess object with outline s...    NaN  1973   \n",
       "1  A large bright light apeared seemingly from no...    NaN  1973   \n",
       "2  Rectangular object moving at a very high rate ...    NaN  1973   \n",
       "3    Cigar-shaped low flying after heavy snow storm.    NaN  1973   \n",
       "4  Saw a fast moving light that perfomed an insta...    NaN  1973   \n",
       "\n",
       "                                 Keyword  \n",
       "0  ['orange', 'object', 'moving', 'sky']  \n",
       "1           ['large', 'bright', 'light']  \n",
       "2                   ['object', 'moving']  \n",
       "3                             ['flying']  \n",
       "4                    ['moving', 'light']  "
      ]
     },
     "execution_count": 176,
     "metadata": {},
     "output_type": "execute_result"
    }
   ],
   "source": [
    "import requests\n",
    "import json\n",
    "import pandas as pd\n",
    "\n",
    "df_main = pd.read_csv('../data/cleaned_summary.csv', index_col = [0]).reset_index(drop = True)\n",
    "df_geo = pd.read_csv('../data/address_coords.csv')\n",
    "df_main.head()"
   ]
  },
  {
   "cell_type": "code",
   "execution_count": 177,
   "metadata": {},
   "outputs": [
    {
     "data": {
      "text/html": [
       "<div>\n",
       "<style scoped>\n",
       "    .dataframe tbody tr th:only-of-type {\n",
       "        vertical-align: middle;\n",
       "    }\n",
       "\n",
       "    .dataframe tbody tr th {\n",
       "        vertical-align: top;\n",
       "    }\n",
       "\n",
       "    .dataframe thead th {\n",
       "        text-align: right;\n",
       "    }\n",
       "</style>\n",
       "<table border=\"1\" class=\"dataframe\">\n",
       "  <thead>\n",
       "    <tr style=\"text-align: right;\">\n",
       "      <th></th>\n",
       "      <th>Address</th>\n",
       "      <th>Latitude</th>\n",
       "      <th>Longitude</th>\n",
       "    </tr>\n",
       "  </thead>\n",
       "  <tbody>\n",
       "    <tr>\n",
       "      <th>0</th>\n",
       "      <td>Newark, DE</td>\n",
       "      <td>39.683748</td>\n",
       "      <td>-75.749642</td>\n",
       "    </tr>\n",
       "    <tr>\n",
       "      <th>1</th>\n",
       "      <td>Columbus, OH</td>\n",
       "      <td>39.961195</td>\n",
       "      <td>-82.998805</td>\n",
       "    </tr>\n",
       "    <tr>\n",
       "      <th>2</th>\n",
       "      <td>Franklin, ME</td>\n",
       "      <td>44.587511</td>\n",
       "      <td>-68.231624</td>\n",
       "    </tr>\n",
       "    <tr>\n",
       "      <th>3</th>\n",
       "      <td>East Greenwich, RI</td>\n",
       "      <td>41.634267</td>\n",
       "      <td>-71.513032</td>\n",
       "    </tr>\n",
       "    <tr>\n",
       "      <th>4</th>\n",
       "      <td>Mentor Headlands, OH</td>\n",
       "      <td>41.739739</td>\n",
       "      <td>-81.311756</td>\n",
       "    </tr>\n",
       "  </tbody>\n",
       "</table>\n",
       "</div>"
      ],
      "text/plain": [
       "                Address   Latitude  Longitude\n",
       "0            Newark, DE  39.683748 -75.749642\n",
       "1          Columbus, OH  39.961195 -82.998805\n",
       "2          Franklin, ME  44.587511 -68.231624\n",
       "3    East Greenwich, RI  41.634267 -71.513032\n",
       "4  Mentor Headlands, OH  41.739739 -81.311756"
      ]
     },
     "execution_count": 177,
     "metadata": {},
     "output_type": "execute_result"
    }
   ],
   "source": [
    "df_geo.head()"
   ]
  },
  {
   "cell_type": "code",
   "execution_count": 178,
   "metadata": {},
   "outputs": [],
   "source": [
    "# combine city and state\n",
    "\n",
    "df_main['Address'] = df_main['city'] + ', ' + df_main['state']\n",
    "\n",
    "# drop city and state columns\n",
    "\n",
    "#df_main.drop(['city', 'state'], axis = 1, inplace = True)"
   ]
  },
  {
   "cell_type": "code",
   "execution_count": 179,
   "metadata": {},
   "outputs": [
    {
     "data": {
      "text/html": [
       "<div>\n",
       "<style scoped>\n",
       "    .dataframe tbody tr th:only-of-type {\n",
       "        vertical-align: middle;\n",
       "    }\n",
       "\n",
       "    .dataframe tbody tr th {\n",
       "        vertical-align: top;\n",
       "    }\n",
       "\n",
       "    .dataframe thead th {\n",
       "        text-align: right;\n",
       "    }\n",
       "</style>\n",
       "<table border=\"1\" class=\"dataframe\">\n",
       "  <thead>\n",
       "    <tr style=\"text-align: right;\">\n",
       "      <th></th>\n",
       "      <th>Address</th>\n",
       "      <th>Latitude</th>\n",
       "      <th>Longitude</th>\n",
       "    </tr>\n",
       "  </thead>\n",
       "  <tbody>\n",
       "    <tr>\n",
       "      <th>0</th>\n",
       "      <td>Newark, DE</td>\n",
       "      <td>39.683748</td>\n",
       "      <td>-75.749642</td>\n",
       "    </tr>\n",
       "    <tr>\n",
       "      <th>1</th>\n",
       "      <td>Columbus, OH</td>\n",
       "      <td>39.961195</td>\n",
       "      <td>-82.998805</td>\n",
       "    </tr>\n",
       "    <tr>\n",
       "      <th>2</th>\n",
       "      <td>Franklin, ME</td>\n",
       "      <td>44.587511</td>\n",
       "      <td>-68.231624</td>\n",
       "    </tr>\n",
       "    <tr>\n",
       "      <th>3</th>\n",
       "      <td>East Greenwich, RI</td>\n",
       "      <td>41.634267</td>\n",
       "      <td>-71.513032</td>\n",
       "    </tr>\n",
       "    <tr>\n",
       "      <th>4</th>\n",
       "      <td>Mentor Headlands, OH</td>\n",
       "      <td>41.739739</td>\n",
       "      <td>-81.311756</td>\n",
       "    </tr>\n",
       "  </tbody>\n",
       "</table>\n",
       "</div>"
      ],
      "text/plain": [
       "                Address   Latitude  Longitude\n",
       "0            Newark, DE  39.683748 -75.749642\n",
       "1          Columbus, OH  39.961195 -82.998805\n",
       "2          Franklin, ME  44.587511 -68.231624\n",
       "3    East Greenwich, RI  41.634267 -71.513032\n",
       "4  Mentor Headlands, OH  41.739739 -81.311756"
      ]
     },
     "execution_count": 179,
     "metadata": {},
     "output_type": "execute_result"
    }
   ],
   "source": [
    "df_geo.head()"
   ]
  },
  {
   "cell_type": "code",
   "execution_count": 180,
   "metadata": {},
   "outputs": [
    {
     "name": "stdout",
     "output_type": "stream",
     "text": [
      "CA    9504\n",
      "FL    4785\n",
      "WA    4051\n",
      "NY    3487\n",
      "TX    3472\n",
      "PA    3065\n",
      "AZ    2784\n",
      "OH    2582\n",
      "IL    2519\n",
      "NC    2211\n",
      "Name: state, dtype: int64\n",
      "38460\n"
     ]
    }
   ],
   "source": [
    "top_states = df_main['state'].value_counts().nlargest(10)\n",
    "\n",
    "print(top_states)\n",
    "print(sum(top_states))"
   ]
  },
  {
   "cell_type": "code",
   "execution_count": 164,
   "metadata": {},
   "outputs": [
    {
     "name": "stdout",
     "output_type": "stream",
     "text": [
      "Phoenix, AZ        416\n",
      "Seattle, WA        402\n",
      "Las Vegas, NV      349\n",
      "Portland, OR       323\n",
      "San Diego, CA      316\n",
      "Los Angeles, CA    308\n",
      "Tucson, AZ         269\n",
      "Orlando, FL        242\n",
      "Albuquerque, NM    236\n",
      "Chicago, IL        234\n",
      "Name: Address, dtype: int64\n",
      "3095\n"
     ]
    }
   ],
   "source": [
    "# get value counts of cities and select top 10\n",
    "top_cities = df_main['Address'].value_counts().nlargest(10)\n",
    "\n",
    "print(top_cities)\n",
    "print(sum(top_cities))"
   ]
  },
  {
   "cell_type": "code",
   "execution_count": 165,
   "metadata": {},
   "outputs": [],
   "source": [
    "# get 1979-2019 data for top 10 cities\n",
    "## filter df to only include top 10 cities\n",
    "df_top_cities = df_main[df_main['Address'].isin(top_cities.index)]\n",
    "\n",
    "## filter df to only include 1979-2019\n",
    "df_top_cities = df_top_cities[df_top_cities['year'].isin(range(1979, 2020))]\n",
    "df_top_cities.head()\n",
    "\n",
    "## combine date and time to unix timestamp\n",
    "# df_top_cities['date'] = pd.to_datetime(df_top_cities['date'])\n",
    "# df_top_cities['time'] = pd.to_datetime(df_top_cities['time'])\n",
    "# df_top_cities['timestamp'] = df_top_cities['date'] + df_top_cities['time']\n",
    "# df_top_cities['date'] = pd.to_datetime(df_top_cities['date'])\n",
    "# df_top_cities['time'] = pd.to_datetime(df_top_cities['time'], format='%H:%M:%S')\n",
    "\n",
    "# Concatenate the date and time columns into a single column\n",
    "df_top_cities['datetime'] = pd.to_datetime(df_top_cities['date'] + ' ' + df_top_cities['time'])\n",
    "\n",
    "# Convert the datetime objects to Unix timestamps\n",
    "df_top_cities['unix_timestamp'] = df_top_cities['datetime'].apply(lambda x: int(x.timestamp()))\n"
   ]
  },
  {
   "cell_type": "code",
   "execution_count": 166,
   "metadata": {},
   "outputs": [
    {
     "data": {
      "text/html": [
       "<div>\n",
       "<style scoped>\n",
       "    .dataframe tbody tr th:only-of-type {\n",
       "        vertical-align: middle;\n",
       "    }\n",
       "\n",
       "    .dataframe tbody tr th {\n",
       "        vertical-align: top;\n",
       "    }\n",
       "\n",
       "    .dataframe thead th {\n",
       "        text-align: right;\n",
       "    }\n",
       "</style>\n",
       "<table border=\"1\" class=\"dataframe\">\n",
       "  <thead>\n",
       "    <tr style=\"text-align: right;\">\n",
       "      <th></th>\n",
       "      <th>posted</th>\n",
       "      <th>date</th>\n",
       "      <th>time</th>\n",
       "      <th>shape</th>\n",
       "      <th>duration</th>\n",
       "      <th>summary</th>\n",
       "      <th>images</th>\n",
       "      <th>year</th>\n",
       "      <th>Keyword</th>\n",
       "      <th>Address</th>\n",
       "      <th>datetime</th>\n",
       "      <th>unix_timestamp</th>\n",
       "      <th>Latitude</th>\n",
       "      <th>Longitude</th>\n",
       "    </tr>\n",
       "  </thead>\n",
       "  <tbody>\n",
       "    <tr>\n",
       "      <th>0</th>\n",
       "      <td>08/22/14</td>\n",
       "      <td>1979-06-23</td>\n",
       "      <td>00:00:00</td>\n",
       "      <td>Unknown</td>\n",
       "      <td>unknown</td>\n",
       "      <td>Loss of time, and white to blue cloud.</td>\n",
       "      <td>NaN</td>\n",
       "      <td>1979</td>\n",
       "      <td>['white']</td>\n",
       "      <td>Las Vegas, NV</td>\n",
       "      <td>1979-06-23 00:00:00</td>\n",
       "      <td>298944000</td>\n",
       "      <td>36.171573</td>\n",
       "      <td>-115.139123</td>\n",
       "    </tr>\n",
       "    <tr>\n",
       "      <th>1</th>\n",
       "      <td>05/15/06</td>\n",
       "      <td>1979-08-20</td>\n",
       "      <td>21:00:00</td>\n",
       "      <td>Disk</td>\n",
       "      <td>5 minutes</td>\n",
       "      <td>Mother and two children recall ufo experience</td>\n",
       "      <td>NaN</td>\n",
       "      <td>1979</td>\n",
       "      <td>['two', 'ufo']</td>\n",
       "      <td>Phoenix, AZ</td>\n",
       "      <td>1979-08-20 21:00:00</td>\n",
       "      <td>304030800</td>\n",
       "      <td>33.448379</td>\n",
       "      <td>-112.074018</td>\n",
       "    </tr>\n",
       "    <tr>\n",
       "      <th>2</th>\n",
       "      <td>02/01/07</td>\n",
       "      <td>1979-12-08</td>\n",
       "      <td>20:30:00</td>\n",
       "      <td>Circle</td>\n",
       "      <td>10-minutes</td>\n",
       "      <td>The night when I saw the disk UFO!</td>\n",
       "      <td>NaN</td>\n",
       "      <td>1979</td>\n",
       "      <td>['night']</td>\n",
       "      <td>Albuquerque, NM</td>\n",
       "      <td>1979-12-08 20:30:00</td>\n",
       "      <td>313533000</td>\n",
       "      <td>35.084413</td>\n",
       "      <td>-106.650428</td>\n",
       "    </tr>\n",
       "    <tr>\n",
       "      <th>3</th>\n",
       "      <td>07/05/08</td>\n",
       "      <td>1980-05-05</td>\n",
       "      <td>04:00:00</td>\n",
       "      <td>Light</td>\n",
       "      <td>5 seconds</td>\n",
       "      <td>Los Angeles CA. 28 years ago. Spheric light tr...</td>\n",
       "      <td>NaN</td>\n",
       "      <td>1980</td>\n",
       "      <td>['light']</td>\n",
       "      <td>Los Angeles, CA</td>\n",
       "      <td>1980-05-05 04:00:00</td>\n",
       "      <td>326347200</td>\n",
       "      <td>34.052221</td>\n",
       "      <td>-118.243706</td>\n",
       "    </tr>\n",
       "    <tr>\n",
       "      <th>4</th>\n",
       "      <td>02/01/07</td>\n",
       "      <td>1981-12-01</td>\n",
       "      <td>21:00:00</td>\n",
       "      <td>Light</td>\n",
       "      <td>15 minutes</td>\n",
       "      <td>17 lights that appeared they were playing tag ...</td>\n",
       "      <td>NaN</td>\n",
       "      <td>1981</td>\n",
       "      <td>['night']</td>\n",
       "      <td>Orlando, FL</td>\n",
       "      <td>1981-12-01 21:00:00</td>\n",
       "      <td>376088400</td>\n",
       "      <td>28.538372</td>\n",
       "      <td>-81.378941</td>\n",
       "    </tr>\n",
       "  </tbody>\n",
       "</table>\n",
       "</div>"
      ],
      "text/plain": [
       "     posted        date      time    shape    duration  \\\n",
       "0  08/22/14  1979-06-23  00:00:00  Unknown     unknown   \n",
       "1  05/15/06  1979-08-20  21:00:00     Disk   5 minutes   \n",
       "2  02/01/07  1979-12-08  20:30:00   Circle  10-minutes   \n",
       "3  07/05/08  1980-05-05  04:00:00    Light   5 seconds   \n",
       "4  02/01/07  1981-12-01  21:00:00    Light  15 minutes   \n",
       "\n",
       "                                             summary images  year  \\\n",
       "0             Loss of time, and white to blue cloud.    NaN  1979   \n",
       "1      Mother and two children recall ufo experience    NaN  1979   \n",
       "2                 The night when I saw the disk UFO!    NaN  1979   \n",
       "3  Los Angeles CA. 28 years ago. Spheric light tr...    NaN  1980   \n",
       "4  17 lights that appeared they were playing tag ...    NaN  1981   \n",
       "\n",
       "          Keyword          Address            datetime  unix_timestamp  \\\n",
       "0       ['white']    Las Vegas, NV 1979-06-23 00:00:00       298944000   \n",
       "1  ['two', 'ufo']      Phoenix, AZ 1979-08-20 21:00:00       304030800   \n",
       "2       ['night']  Albuquerque, NM 1979-12-08 20:30:00       313533000   \n",
       "3       ['light']  Los Angeles, CA 1980-05-05 04:00:00       326347200   \n",
       "4       ['night']      Orlando, FL 1981-12-01 21:00:00       376088400   \n",
       "\n",
       "    Latitude   Longitude  \n",
       "0  36.171573 -115.139123  \n",
       "1  33.448379 -112.074018  \n",
       "2  35.084413 -106.650428  \n",
       "3  34.052221 -118.243706  \n",
       "4  28.538372  -81.378941  "
      ]
     },
     "execution_count": 166,
     "metadata": {},
     "output_type": "execute_result"
    }
   ],
   "source": [
    "# merge with geo data\n",
    "\n",
    "df_top_cities = df_top_cities.merge(df_geo, on = 'Address', how = 'left')\n",
    "df_top_cities.head()"
   ]
  },
  {
   "cell_type": "code",
   "execution_count": 167,
   "metadata": {},
   "outputs": [],
   "source": [
    "# Select the 'Latitude' and 'Longitude' columns from the dataframe\n",
    "lat_lon_df = df_top_cities[['Address', 'Latitude', 'Longitude', 'year']]\n",
    "\n",
    "# Drop duplicate rows to get unique combinations of latitude and longitude\n",
    "unique_lat_lon_df = lat_lon_df.drop_duplicates()\n",
    "\n",
    "# Optionally, you can reset the index of the resulting dataframe\n",
    "unique_lat_lon_df = unique_lat_lon_df.reset_index(drop=True)\n",
    "\n",
    "unique_lat_lon_df.rename({'Address': 'Custom ID'}, axis=1, inplace=True)"
   ]
  },
  {
   "cell_type": "code",
   "execution_count": 168,
   "metadata": {},
   "outputs": [],
   "source": [
    "unique_lat_lon_df.to_csv('../data/unique_lat_lon.csv')"
   ]
  },
  {
   "cell_type": "code",
   "execution_count": 169,
   "metadata": {},
   "outputs": [
    {
     "data": {
      "text/html": [
       "<div>\n",
       "<style scoped>\n",
       "    .dataframe tbody tr th:only-of-type {\n",
       "        vertical-align: middle;\n",
       "    }\n",
       "\n",
       "    .dataframe tbody tr th {\n",
       "        vertical-align: top;\n",
       "    }\n",
       "\n",
       "    .dataframe thead th {\n",
       "        text-align: right;\n",
       "    }\n",
       "</style>\n",
       "<table border=\"1\" class=\"dataframe\">\n",
       "  <thead>\n",
       "    <tr style=\"text-align: right;\">\n",
       "      <th></th>\n",
       "      <th>Custom ID</th>\n",
       "      <th>Latitude</th>\n",
       "      <th>Longitude</th>\n",
       "      <th>year</th>\n",
       "    </tr>\n",
       "  </thead>\n",
       "  <tbody>\n",
       "    <tr>\n",
       "      <th>0</th>\n",
       "      <td>Las Vegas, NV</td>\n",
       "      <td>36.171573</td>\n",
       "      <td>-115.139123</td>\n",
       "      <td>1979</td>\n",
       "    </tr>\n",
       "    <tr>\n",
       "      <th>1</th>\n",
       "      <td>Phoenix, AZ</td>\n",
       "      <td>33.448379</td>\n",
       "      <td>-112.074018</td>\n",
       "      <td>1979</td>\n",
       "    </tr>\n",
       "    <tr>\n",
       "      <th>2</th>\n",
       "      <td>Albuquerque, NM</td>\n",
       "      <td>35.084413</td>\n",
       "      <td>-106.650428</td>\n",
       "      <td>1979</td>\n",
       "    </tr>\n",
       "    <tr>\n",
       "      <th>3</th>\n",
       "      <td>Los Angeles, CA</td>\n",
       "      <td>34.052221</td>\n",
       "      <td>-118.243706</td>\n",
       "      <td>1980</td>\n",
       "    </tr>\n",
       "    <tr>\n",
       "      <th>4</th>\n",
       "      <td>Orlando, FL</td>\n",
       "      <td>28.538372</td>\n",
       "      <td>-81.378941</td>\n",
       "      <td>1981</td>\n",
       "    </tr>\n",
       "    <tr>\n",
       "      <th>...</th>\n",
       "      <td>...</td>\n",
       "      <td>...</td>\n",
       "      <td>...</td>\n",
       "      <td>...</td>\n",
       "    </tr>\n",
       "    <tr>\n",
       "      <th>292</th>\n",
       "      <td>Los Angeles, CA</td>\n",
       "      <td>34.052221</td>\n",
       "      <td>-118.243706</td>\n",
       "      <td>2019</td>\n",
       "    </tr>\n",
       "    <tr>\n",
       "      <th>293</th>\n",
       "      <td>Seattle, WA</td>\n",
       "      <td>47.606197</td>\n",
       "      <td>-122.332076</td>\n",
       "      <td>2019</td>\n",
       "    </tr>\n",
       "    <tr>\n",
       "      <th>294</th>\n",
       "      <td>Phoenix, AZ</td>\n",
       "      <td>33.448379</td>\n",
       "      <td>-112.074018</td>\n",
       "      <td>2019</td>\n",
       "    </tr>\n",
       "    <tr>\n",
       "      <th>295</th>\n",
       "      <td>Albuquerque, NM</td>\n",
       "      <td>35.084413</td>\n",
       "      <td>-106.650428</td>\n",
       "      <td>2019</td>\n",
       "    </tr>\n",
       "    <tr>\n",
       "      <th>296</th>\n",
       "      <td>Chicago, IL</td>\n",
       "      <td>41.878133</td>\n",
       "      <td>-87.629782</td>\n",
       "      <td>2019</td>\n",
       "    </tr>\n",
       "  </tbody>\n",
       "</table>\n",
       "<p>297 rows × 4 columns</p>\n",
       "</div>"
      ],
      "text/plain": [
       "           Custom ID   Latitude   Longitude  year\n",
       "0      Las Vegas, NV  36.171573 -115.139123  1979\n",
       "1        Phoenix, AZ  33.448379 -112.074018  1979\n",
       "2    Albuquerque, NM  35.084413 -106.650428  1979\n",
       "3    Los Angeles, CA  34.052221 -118.243706  1980\n",
       "4        Orlando, FL  28.538372  -81.378941  1981\n",
       "..               ...        ...         ...   ...\n",
       "292  Los Angeles, CA  34.052221 -118.243706  2019\n",
       "293      Seattle, WA  47.606197 -122.332076  2019\n",
       "294      Phoenix, AZ  33.448379 -112.074018  2019\n",
       "295  Albuquerque, NM  35.084413 -106.650428  2019\n",
       "296      Chicago, IL  41.878133  -87.629782  2019\n",
       "\n",
       "[297 rows x 4 columns]"
      ]
     },
     "execution_count": 169,
     "metadata": {},
     "output_type": "execute_result"
    }
   ],
   "source": [
    "unique_lat_lon_df"
   ]
  },
  {
   "cell_type": "code",
   "execution_count": 37,
   "metadata": {},
   "outputs": [],
   "source": [
    "unique_years = unique_lat_lon_df.groupby('Custom ID')['year'].unique()\n",
    "unique_years_df = unique_years.reset_index()\n",
    "unique_years_df.to_csv('../data/unique_years_top_10_cities.csv')"
   ]
  },
  {
   "cell_type": "code",
   "execution_count": 44,
   "metadata": {},
   "outputs": [
    {
     "data": {
      "text/plain": [
       "array([1979, 1981, 1989, 1992, 1993, 1994, 1995, 1997, 1998, 1999, 2000,\n",
       "       2001, 2002, 2003, 2004, 2005, 2006, 2007, 2008, 2009, 2010, 2011,\n",
       "       2012, 2013, 2014, 2015, 2016, 2017, 2018, 2019])"
      ]
     },
     "execution_count": 44,
     "metadata": {},
     "output_type": "execute_result"
    }
   ],
   "source": [
    "unique_years_df.iloc[0:9, 1][0]"
   ]
  },
  {
   "cell_type": "code",
   "execution_count": 29,
   "metadata": {},
   "outputs": [],
   "source": [
    "year_count_Vegas = df_top_cities.loc[df_top_cities['Address']=='Las Vegas, NV']['year'].value_counts()\n",
    "\n",
    "#print(top_cities)\n",
    "#print(sum(top_cities))"
   ]
  },
  {
   "cell_type": "code",
   "execution_count": 30,
   "metadata": {},
   "outputs": [
    {
     "data": {
      "text/plain": [
       "2015    32\n",
       "2012    29\n",
       "2014    24\n",
       "2007    20\n",
       "2016    16\n",
       "2010    16\n",
       "2002    16\n",
       "2019    14\n",
       "2018    13\n",
       "2017    12\n",
       "2001    12\n",
       "2006    11\n",
       "2013    11\n",
       "2011    11\n",
       "2005     9\n",
       "2000     9\n",
       "2004     8\n",
       "2003     8\n",
       "2008     8\n",
       "1999     8\n",
       "2009     7\n",
       "1998     6\n",
       "1997     5\n",
       "1995     4\n",
       "1992     2\n",
       "1991     2\n",
       "1982     1\n",
       "1994     1\n",
       "1987     1\n",
       "1979     1\n",
       "Name: year, dtype: int64"
      ]
     },
     "execution_count": 30,
     "metadata": {},
     "output_type": "execute_result"
    }
   ],
   "source": [
    "year_count_Vegas"
   ]
  },
  {
   "attachments": {},
   "cell_type": "markdown",
   "metadata": {},
   "source": [
    "# Pheonix Data Gathering 1979 to 2005"
   ]
  },
  {
   "cell_type": "code",
   "execution_count": 196,
   "metadata": {},
   "outputs": [
    {
     "name": "stdout",
     "output_type": "stream",
     "text": [
      "working on year 1979\n",
      "working on year 1980\n",
      "working on year 1981\n",
      "working on year 1982\n",
      "working on year 1983\n",
      "working on year 1984\n",
      "working on year 1985\n",
      "working on year 1986\n",
      "working on year 1987\n",
      "working on year 1988\n",
      "working on year 1989\n",
      "working on year 1990\n",
      "working on year 1991\n",
      "working on year 1992\n",
      "working on year 1993\n",
      "working on year 1994\n",
      "working on year 1995\n",
      "working on year 1996\n",
      "working on year 1997\n",
      "working on year 1998\n",
      "working on year 1999\n",
      "working on year 2000\n",
      "working on year 2001\n",
      "working on year 2002\n",
      "working on year 2003\n",
      "working on year 2004\n",
      "working on year 2005\n"
     ]
    }
   ],
   "source": [
    "#needed to make web requests\n",
    "import requests\n",
    "\n",
    "#store the data we get as a dataframe\n",
    "import pandas as pd\n",
    "\n",
    "#convert the response as a strcuctured json\n",
    "import json\n",
    "\n",
    "#mathematical operations on lists\n",
    "import numpy as np\n",
    "\n",
    "#parse the datetimes we get from NOAA\n",
    "from datetime import datetime\n",
    "\n",
    "#add the access token you got from NOAA\n",
    "Token = 'vxUAXWnUSMTKcRGtnOmJHDdlKVwyKzag'\n",
    "\n",
    "#Phoenix Sky Harbor International Airport station ID\n",
    "station_id = 'GHCND:USW00023183'\n",
    "dates_temp = []\n",
    "dates_prcp = []\n",
    "temps = []\n",
    "prcp = []\n",
    "\n",
    "# for each year from 1979-2006 ... (token limit reached -> 5 per second)\n",
    "for year in range(1979, 2006):\n",
    "    year = str(year)\n",
    "    print('working on year ' + year)\n",
    "\n",
    "    # make the api call\n",
    "    r = requests.get('https://www.ncdc.noaa.gov/cdo-web/api/v2/data?datasetid=GHCND&datatypeid=WT01,WT02,WT03,WT04,WT05,WT06,WT07,WT08,WT09,WT10,WT11,WT12,WT13,WT14,WT15,WT16,WT17,WT18,WV01,WV03,WV07,WV18,WV20&limit=1000&stationid=GHCND:USW00023183&startdate=' + year + '-01-01&enddate=' + year + '-12-31', headers={'token':Token})\n",
    "    # load the api response as a json\n",
    "    d = json.loads(r.text)\n",
    "\n",
    "    # get all items in the response which are weather descriptions (1,0)\n",
    "    weather_types = ['WT01', 'WT02', 'WT03', 'WT04', 'WT05', 'WT06', 'WT07', 'WT08', 'WT09', 'WT10', 'WT11', 'WT12', 'WT13','WT14', 'WT15', 'WT16', 'WT17', 'WT18', 'WV01','WV03','WV07','WV18','WV20']\n",
    "    weather_data = {}\n",
    "    for wt in weather_types:\n",
    "        weather_data[wt] = [item for item in d['results'] if item['datatype'] == wt]\n",
    "\n",
    "        # get the date field from all readings\n",
    "        dates_temp += [item['date'] for item in weather_data[wt]]\n",
    "\n",
    "# initialize dataframe\n",
    "df_pheonix_79_05 = pd.DataFrame()\n",
    "\n",
    "# populate date and weather descriptions fields (cast string date to datetime and add other fields)\n",
    "df_pheonix_79_05['date'] = [datetime.strptime(d, \"%Y-%m-%dT%H:%M:%S\") for d in dates_temp]\n",
    "for wt in weather_types:\n",
    "    df_pheonix_79_05[wt] = [next((item['value'] for item in weather_data[wt] if item['date'] == d), None) for d in dates_temp]\n"
   ]
  },
  {
   "attachments": {},
   "cell_type": "markdown",
   "metadata": {},
   "source": [
    "# Pheonix Data Gathering 2006 to 2010"
   ]
  },
  {
   "cell_type": "code",
   "execution_count": 199,
   "metadata": {},
   "outputs": [
    {
     "name": "stdout",
     "output_type": "stream",
     "text": [
      "working on year 2006\n",
      "working on year 2007\n",
      "working on year 2008\n",
      "working on year 2009\n",
      "working on year 2010\n"
     ]
    }
   ],
   "source": [
    "#Phoenix Sky Harbor International Airport station ID\n",
    "station_id = 'GHCND:USW00023183'\n",
    "dates_temp = []\n",
    "dates_prcp = []\n",
    "temps = []\n",
    "prcp = []\n",
    "\n",
    "# for each year from 2006-2010 ... (token limit reached -> 5 per second)\n",
    "for year in range(2006, 2011):\n",
    "    year = str(year)\n",
    "    print('working on year ' + year)\n",
    "\n",
    "    # make the api call\n",
    "    r = requests.get('https://www.ncdc.noaa.gov/cdo-web/api/v2/data?datasetid=GHCND&datatypeid=WT01,WT02,WT03,WT04,WT05,WT06,WT07,WT08,WT09,WT10,WT11,WT12,WT13,WT14,WT15,WT16,WT17,WT18,WV01,WV03,WV07,WV18,WV20&limit=1000&stationid=GHCND:USW00023183&startdate=' + year + '-01-01&enddate=' + year + '-12-31', headers={'token':Token})\n",
    "    # load the api response as a json\n",
    "    d = json.loads(r.text)\n",
    "\n",
    "    # get all items in the response which are weather descriptions (1,0)\n",
    "    weather_types = ['WT01', 'WT02', 'WT03', 'WT04', 'WT05', 'WT06', 'WT07', 'WT08', 'WT09', 'WT10', 'WT11', 'WT12', 'WT13','WT14', 'WT15', 'WT16', 'WT17', 'WT18', 'WV01','WV03','WV07','WV18','WV20']\n",
    "    weather_data = {}\n",
    "    for wt in weather_types:\n",
    "        weather_data[wt] = [item for item in d['results'] if item['datatype'] == wt]\n",
    "\n",
    "        # get the date field from all readings\n",
    "        dates_temp += [item['date'] for item in weather_data[wt]]\n",
    "\n",
    "# initialize dataframe\n",
    "df_pheonix_06_10 = pd.DataFrame()\n",
    "\n",
    "# populate date and weather descriptions fields (cast string date to datetime and add other fields)\n",
    "df_pheonix_06_10['date'] = [datetime.strptime(d, \"%Y-%m-%dT%H:%M:%S\") for d in dates_temp]\n",
    "for wt in weather_types:\n",
    "    df_pheonix_06_10[wt] = [next((item['value'] for item in weather_data[wt] if item['date'] == d), None) for d in dates_temp]"
   ]
  },
  {
   "attachments": {},
   "cell_type": "markdown",
   "metadata": {},
   "source": [
    "# Pheonix Data Gathering 2011 to 2015"
   ]
  },
  {
   "cell_type": "code",
   "execution_count": 202,
   "metadata": {},
   "outputs": [
    {
     "name": "stdout",
     "output_type": "stream",
     "text": [
      "working on year 2011\n",
      "working on year 2012\n",
      "working on year 2013\n",
      "working on year 2014\n",
      "working on year 2015\n"
     ]
    }
   ],
   "source": [
    "#Phoenix Sky Harbor International Airport station ID\n",
    "station_id = 'GHCND:USW00023183'\n",
    "dates_temp = []\n",
    "dates_prcp = []\n",
    "temps = []\n",
    "prcp = []\n",
    "\n",
    "# for each year from 2011-2015 ... (token limit reached -> 5 per second)\n",
    "for year in range(2011, 2016):\n",
    "    year = str(year)\n",
    "    print('working on year ' + year)\n",
    "\n",
    "    # make the api call\n",
    "    r = requests.get('https://www.ncdc.noaa.gov/cdo-web/api/v2/data?datasetid=GHCND&datatypeid=WT01,WT02,WT03,WT04,WT05,WT06,WT07,WT08,WT09,WT10,WT11,WT12,WT13,WT14,WT15,WT16,WT17,WT18,WV01,WV03,WV07,WV18,WV20&limit=1000&stationid=GHCND:USW00023183&startdate=' + year + '-01-01&enddate=' + year + '-12-31', headers={'token':Token})\n",
    "    # load the api response as a json\n",
    "    d = json.loads(r.text)\n",
    "\n",
    "    # get all items in the response which are weather descriptions (1,0)\n",
    "    weather_types = ['WT01', 'WT02', 'WT03', 'WT04', 'WT05', 'WT06', 'WT07', 'WT08', 'WT09', 'WT10', 'WT11', 'WT12', 'WT13','WT14', 'WT15', 'WT16', 'WT17', 'WT18', 'WV01','WV03','WV07','WV18','WV20']\n",
    "    weather_data = {}\n",
    "    for wt in weather_types:\n",
    "        weather_data[wt] = [item for item in d['results'] if item['datatype'] == wt]\n",
    "\n",
    "        # get the date field from all readings\n",
    "        dates_temp += [item['date'] for item in weather_data[wt]]\n",
    "\n",
    "# initialize dataframe\n",
    "df_pheonix_11_15 = pd.DataFrame()\n",
    "\n",
    "# populate date and weather descriptions fields (cast string date to datetime and add other fields)\n",
    "df_pheonix_11_15['date'] = [datetime.strptime(d, \"%Y-%m-%dT%H:%M:%S\") for d in dates_temp]\n",
    "for wt in weather_types:\n",
    "    df_pheonix_11_15[wt] = [next((item['value'] for item in weather_data[wt] if item['date'] == d), None) for d in dates_temp]"
   ]
  },
  {
   "attachments": {},
   "cell_type": "markdown",
   "metadata": {},
   "source": [
    "# Pheonix Data Gathering 2016 to 2019"
   ]
  },
  {
   "cell_type": "code",
   "execution_count": 204,
   "metadata": {},
   "outputs": [
    {
     "name": "stdout",
     "output_type": "stream",
     "text": [
      "working on year 2016\n",
      "working on year 2017\n",
      "working on year 2018\n",
      "working on year 2019\n"
     ]
    }
   ],
   "source": [
    "#Phoenix Sky Harbor International Airport station ID\n",
    "station_id = 'GHCND:USW00023183'\n",
    "dates_temp = []\n",
    "dates_prcp = []\n",
    "temps = []\n",
    "prcp = []\n",
    "\n",
    "# for each year from 2016-2019 ... (token limit reached -> 5 per second)\n",
    "for year in range(2016, 2020):\n",
    "    year = str(year)\n",
    "    print('working on year ' + year)\n",
    "\n",
    "    # make the api call\n",
    "    r = requests.get('https://www.ncdc.noaa.gov/cdo-web/api/v2/data?datasetid=GHCND&datatypeid=WT01,WT02,WT03,WT04,WT05,WT06,WT07,WT08,WT09,WT10,WT11,WT12,WT13,WT14,WT15,WT16,WT17,WT18,WV01,WV03,WV07,WV18,WV20&limit=1000&stationid=GHCND:USW00023183&startdate=' + year + '-01-01&enddate=' + year + '-12-31', headers={'token':Token})\n",
    "    # load the api response as a json\n",
    "    d = json.loads(r.text)\n",
    "\n",
    "    # get all items in the response which are weather descriptions (1,0)\n",
    "    weather_types = ['WT01', 'WT02', 'WT03', 'WT04', 'WT05', 'WT06', 'WT07', 'WT08', 'WT09', 'WT10', 'WT11', 'WT12', 'WT13','WT14', 'WT15', 'WT16', 'WT17', 'WT18', 'WV01','WV03','WV07','WV18','WV20']\n",
    "    weather_data = {}\n",
    "    for wt in weather_types:\n",
    "        weather_data[wt] = [item for item in d['results'] if item['datatype'] == wt]\n",
    "\n",
    "        # get the date field from all readings\n",
    "        dates_temp += [item['date'] for item in weather_data[wt]]\n",
    "\n",
    "# initialize dataframe\n",
    "df_pheonix_16_19 = pd.DataFrame()\n",
    "\n",
    "# populate date and weather descriptions fields (cast string date to datetime and add other fields)\n",
    "df_pheonix_16_19['date'] = [datetime.strptime(d, \"%Y-%m-%dT%H:%M:%S\") for d in dates_temp]\n",
    "for wt in weather_types:\n",
    "    df_pheonix_16_19[wt] = [next((item['value'] for item in weather_data[wt] if item['date'] == d), None) for d in dates_temp]"
   ]
  },
  {
   "attachments": {},
   "cell_type": "markdown",
   "metadata": {},
   "source": [
    "# Pheonix Data Gathering 2020 to 2022"
   ]
  },
  {
   "cell_type": "code",
   "execution_count": 205,
   "metadata": {},
   "outputs": [
    {
     "name": "stdout",
     "output_type": "stream",
     "text": [
      "working on year 2020\n",
      "working on year 2021\n",
      "working on year 2022\n"
     ]
    }
   ],
   "source": [
    "#Phoenix Sky Harbor International Airport station ID\n",
    "station_id = 'GHCND:USW00023183'\n",
    "dates_temp = []\n",
    "dates_prcp = []\n",
    "temps = []\n",
    "prcp = []\n",
    "\n",
    "# for each year from 2020-2022 ... (token limit reached -> 5 per second)\n",
    "for year in range(2020, 2023):\n",
    "    year = str(year)\n",
    "    print('working on year ' + year)\n",
    "\n",
    "    # make the api call\n",
    "    r = requests.get('https://www.ncdc.noaa.gov/cdo-web/api/v2/data?datasetid=GHCND&datatypeid=WT01,WT02,WT03,WT04,WT05,WT06,WT07,WT08,WT09,WT10,WT11,WT12,WT13,WT14,WT15,WT16,WT17,WT18,WV01,WV03,WV07,WV18,WV20&limit=1000&stationid=GHCND:USW00023183&startdate=' + year + '-01-01&enddate=' + year + '-12-31', headers={'token':Token})\n",
    "    # load the api response as a json\n",
    "    d = json.loads(r.text)\n",
    "\n",
    "    # get all items in the response which are weather descriptions (1,0)\n",
    "    weather_types = ['WT01', 'WT02', 'WT03', 'WT04', 'WT05', 'WT06', 'WT07', 'WT08', 'WT09', 'WT10', 'WT11', 'WT12', 'WT13','WT14', 'WT15', 'WT16', 'WT17', 'WT18', 'WV01','WV03','WV07','WV18','WV20']\n",
    "    weather_data = {}\n",
    "    for wt in weather_types:\n",
    "        weather_data[wt] = [item for item in d['results'] if item['datatype'] == wt]\n",
    "\n",
    "        # get the date field from all readings\n",
    "        dates_temp += [item['date'] for item in weather_data[wt]]\n",
    "\n",
    "# initialize dataframe\n",
    "df_pheonix_20_22 = pd.DataFrame()\n",
    "\n",
    "# populate date and weather descriptions fields (cast string date to datetime and add other fields)\n",
    "df_pheonix_20_22['date'] = [datetime.strptime(d, \"%Y-%m-%dT%H:%M:%S\") for d in dates_temp]\n",
    "for wt in weather_types:\n",
    "    df_pheonix_20_22[wt] = [next((item['value'] for item in weather_data[wt] if item['date'] == d), None) for d in dates_temp]"
   ]
  },
  {
   "attachments": {},
   "cell_type": "markdown",
   "metadata": {},
   "source": [
    "# Concatenate all Phoenix, AZ, dataframes"
   ]
  },
  {
   "cell_type": "code",
   "execution_count": 206,
   "metadata": {},
   "outputs": [],
   "source": [
    "# concatenate all Phoenix, AZ, dataframes\n",
    "df_pheonix = pd.concat([df_pheonix_79_05, df_pheonix_06_10, df_pheonix_11_15, df_pheonix_16_20, df_pheonix_20_22], ignore_index=True)"
   ]
  },
  {
   "cell_type": "code",
   "execution_count": 208,
   "metadata": {},
   "outputs": [],
   "source": [
    "df_pheonix.to_csv('../data/Weather/df_pheonix_api.csv', index=False)"
   ]
  },
  {
   "attachments": {},
   "cell_type": "markdown",
   "metadata": {},
   "source": [
    "# Albuquerque Data Gathering 1992 to 1996"
   ]
  },
  {
   "cell_type": "code",
   "execution_count": 209,
   "metadata": {},
   "outputs": [
    {
     "name": "stdout",
     "output_type": "stream",
     "text": [
      "working on year 1992\n",
      "working on year 1993\n",
      "working on year 1994\n",
      "working on year 1995\n",
      "working on year 1996\n"
     ]
    }
   ],
   "source": [
    "# Albuquerque International Sunport station ID\n",
    "station_id = 'GHCND:USW00023050'  \n",
    "dates_temp = []\n",
    "dates_prcp = []\n",
    "temps = []\n",
    "prcp = []\n",
    "\n",
    "# for each year from 1992-1996 ... (token limit reached -> 5 per second)\n",
    "for year in range(1992, 1997):\n",
    "    year = str(year)\n",
    "    print('working on year ' + year)\n",
    "\n",
    "    # make the api call\n",
    "    r = requests.get('https://www.ncdc.noaa.gov/cdo-web/api/v2/data?datasetid=GHCND&datatypeid=WT01,WT02,WT03,WT04,WT05,WT06,WT07,WT08,WT09,WT10,WT11,WT12,WT13,WT14,WT15,WT16,WT17,WT18,WV01,WV03,WV07,WV18,WV20&limit=1000&stationid=GHCND:USW00023050&startdate=' + year + '-01-01&enddate=' + year + '-12-31', headers={'token':Token})\n",
    "    # load the api response as a json\n",
    "    d = json.loads(r.text)\n",
    "\n",
    "    # get all items in the response which are weather descriptions (1,0)\n",
    "    weather_types = ['WT01', 'WT02', 'WT03', 'WT04', 'WT05', 'WT06', 'WT07', 'WT08', 'WT09', 'WT10', 'WT11', 'WT12', 'WT13','WT14', 'WT15', 'WT16', 'WT17', 'WT18', 'WV01','WV03','WV07','WV18','WV20']\n",
    "    weather_data = {}\n",
    "    for wt in weather_types:\n",
    "        weather_data[wt] = [item for item in d['results'] if item['datatype'] == wt]\n",
    "\n",
    "        # get the date field from all readings\n",
    "        dates_temp += [item['date'] for item in weather_data[wt]]\n",
    "\n",
    "# initialize dataframe\n",
    "df_albuquerque_92_96 = pd.DataFrame()\n",
    "\n",
    "# populate date and weather descriptions fields (cast string date to datetime and add other fields)\n",
    "df_albuquerque_92_96['date'] = [datetime.strptime(d, \"%Y-%m-%dT%H:%M:%S\") for d in dates_temp]\n",
    "for wt in weather_types:\n",
    "    df_albuquerque_92_96[wt] = [next((item['value'] for item in weather_data[wt] if item['date'] == d), None) for d in dates_temp]"
   ]
  },
  {
   "attachments": {},
   "cell_type": "markdown",
   "metadata": {},
   "source": [
    "# Albuquerque Data Gathering 1997 to 2001"
   ]
  },
  {
   "cell_type": "code",
   "execution_count": 210,
   "metadata": {},
   "outputs": [
    {
     "name": "stdout",
     "output_type": "stream",
     "text": [
      "working on year 1997\n",
      "working on year 1998\n",
      "working on year 1999\n",
      "working on year 2000\n",
      "working on year 2001\n"
     ]
    }
   ],
   "source": [
    "# Albuquerque International Sunport station ID\n",
    "station_id = 'GHCND:USW00023050'  \n",
    "dates_temp = []\n",
    "dates_prcp = []\n",
    "temps = []\n",
    "prcp = []\n",
    "\n",
    "# for each year from 1997-2001 ... (token limit reached -> 5 per second)\n",
    "for year in range(1997, 2002):\n",
    "    year = str(year)\n",
    "    print('working on year ' + year)\n",
    "\n",
    "    # make the api call\n",
    "    r = requests.get('https://www.ncdc.noaa.gov/cdo-web/api/v2/data?datasetid=GHCND&datatypeid=WT01,WT02,WT03,WT04,WT05,WT06,WT07,WT08,WT09,WT10,WT11,WT12,WT13,WT14,WT15,WT16,WT17,WT18,WV01,WV03,WV07,WV18,WV20&limit=1000&stationid=GHCND:USW00023050&startdate=' + year + '-01-01&enddate=' + year + '-12-31', headers={'token':Token})\n",
    "    # load the api response as a json\n",
    "    d = json.loads(r.text)\n",
    "\n",
    "    # get all items in the response which are weather descriptions (1,0)\n",
    "    weather_types = ['WT01', 'WT02', 'WT03', 'WT04', 'WT05', 'WT06', 'WT07', 'WT08', 'WT09', 'WT10', 'WT11', 'WT12', 'WT13','WT14', 'WT15', 'WT16', 'WT17', 'WT18', 'WV01','WV03','WV07','WV18','WV20']\n",
    "    weather_data = {}\n",
    "    for wt in weather_types:\n",
    "        weather_data[wt] = [item for item in d['results'] if item['datatype'] == wt]\n",
    "\n",
    "        # get the date field from all readings\n",
    "        dates_temp += [item['date'] for item in weather_data[wt]]\n",
    "\n",
    "# initialize dataframe\n",
    "df_albuquerque_97_01 = pd.DataFrame()\n",
    "\n",
    "# populate date and weather descriptions fields (cast string date to datetime and add other fields)\n",
    "df_albuquerque_97_01['date'] = [datetime.strptime(d, \"%Y-%m-%dT%H:%M:%S\") for d in dates_temp]\n",
    "for wt in weather_types:\n",
    "    df_albuquerque_97_01[wt] = [next((item['value'] for item in weather_data[wt] if item['date'] == d), None) for d in dates_temp]"
   ]
  },
  {
   "attachments": {},
   "cell_type": "markdown",
   "metadata": {},
   "source": [
    "# Albuquerque Data Gathering 2002 to 2006"
   ]
  },
  {
   "cell_type": "code",
   "execution_count": 211,
   "metadata": {},
   "outputs": [
    {
     "name": "stdout",
     "output_type": "stream",
     "text": [
      "working on year 2002\n",
      "working on year 2003\n",
      "working on year 2004\n",
      "working on year 2005\n",
      "working on year 2006\n"
     ]
    }
   ],
   "source": [
    "# Albuquerque International Sunport station ID\n",
    "station_id = 'GHCND:USW00023050'  \n",
    "dates_temp = []\n",
    "dates_prcp = []\n",
    "temps = []\n",
    "prcp = []\n",
    "\n",
    "# for each year from 2002-2006 ... (token limit reached -> 5 per second)\n",
    "for year in range(2002, 2007):\n",
    "    year = str(year)\n",
    "    print('working on year ' + year)\n",
    "\n",
    "    # make the api call\n",
    "    r = requests.get('https://www.ncdc.noaa.gov/cdo-web/api/v2/data?datasetid=GHCND&datatypeid=WT01,WT02,WT03,WT04,WT05,WT06,WT07,WT08,WT09,WT10,WT11,WT12,WT13,WT14,WT15,WT16,WT17,WT18,WV01,WV03,WV07,WV18,WV20&limit=1000&stationid=GHCND:USW00023050&startdate=' + year + '-01-01&enddate=' + year + '-12-31', headers={'token':Token})\n",
    "    # load the api response as a json\n",
    "    d = json.loads(r.text)\n",
    "\n",
    "    # get all items in the response which are weather descriptions (1,0)\n",
    "    weather_types = ['WT01', 'WT02', 'WT03', 'WT04', 'WT05', 'WT06', 'WT07', 'WT08', 'WT09', 'WT10', 'WT11', 'WT12', 'WT13','WT14', 'WT15', 'WT16', 'WT17', 'WT18', 'WV01','WV03','WV07','WV18','WV20']\n",
    "    weather_data = {}\n",
    "    for wt in weather_types:\n",
    "        weather_data[wt] = [item for item in d['results'] if item['datatype'] == wt]\n",
    "\n",
    "        # get the date field from all readings\n",
    "        dates_temp += [item['date'] for item in weather_data[wt]]\n",
    "\n",
    "# initialize dataframe\n",
    "df_albuquerque_02_06 = pd.DataFrame()\n",
    "\n",
    "# populate date and weather descriptions fields (cast string date to datetime and add other fields)\n",
    "df_albuquerque_02_06['date'] = [datetime.strptime(d, \"%Y-%m-%dT%H:%M:%S\") for d in dates_temp]\n",
    "for wt in weather_types:\n",
    "    df_albuquerque_02_06[wt] = [next((item['value'] for item in weather_data[wt] if item['date'] == d), None) for d in dates_temp]"
   ]
  },
  {
   "attachments": {},
   "cell_type": "markdown",
   "metadata": {},
   "source": [
    "# Albuquerque Data Gathering 2007 to 2011"
   ]
  },
  {
   "cell_type": "code",
   "execution_count": 212,
   "metadata": {},
   "outputs": [
    {
     "name": "stdout",
     "output_type": "stream",
     "text": [
      "working on year 2007\n",
      "working on year 2008\n",
      "working on year 2009\n",
      "working on year 2010\n",
      "working on year 2011\n"
     ]
    }
   ],
   "source": [
    "# Albuquerque International Sunport station ID\n",
    "station_id = 'GHCND:USW00023050'  \n",
    "dates_temp = []\n",
    "dates_prcp = []\n",
    "temps = []\n",
    "prcp = []\n",
    "\n",
    "# for each year from 2007-2011 ... (token limit reached -> 5 per second)\n",
    "for year in range(2007, 2012):\n",
    "    year = str(year)\n",
    "    print('working on year ' + year)\n",
    "\n",
    "    # make the api call\n",
    "    r = requests.get('https://www.ncdc.noaa.gov/cdo-web/api/v2/data?datasetid=GHCND&datatypeid=WT01,WT02,WT03,WT04,WT05,WT06,WT07,WT08,WT09,WT10,WT11,WT12,WT13,WT14,WT15,WT16,WT17,WT18,WV01,WV03,WV07,WV18,WV20&limit=1000&stationid=GHCND:USW00023050&startdate=' + year + '-01-01&enddate=' + year + '-12-31', headers={'token':Token})\n",
    "    # load the api response as a json\n",
    "    d = json.loads(r.text)\n",
    "\n",
    "    # get all items in the response which are weather descriptions (1,0)\n",
    "    weather_types = ['WT01', 'WT02', 'WT03', 'WT04', 'WT05', 'WT06', 'WT07', 'WT08', 'WT09', 'WT10', 'WT11', 'WT12', 'WT13','WT14', 'WT15', 'WT16', 'WT17', 'WT18', 'WV01','WV03','WV07','WV18','WV20']\n",
    "    weather_data = {}\n",
    "    for wt in weather_types:\n",
    "        weather_data[wt] = [item for item in d['results'] if item['datatype'] == wt]\n",
    "\n",
    "        # get the date field from all readings\n",
    "        dates_temp += [item['date'] for item in weather_data[wt]]\n",
    "\n",
    "# initialize dataframe\n",
    "df_albuquerque_07_11 = pd.DataFrame()\n",
    "\n",
    "# populate date and weather descriptions fields (cast string date to datetime and add other fields)\n",
    "df_albuquerque_07_11['date'] = [datetime.strptime(d, \"%Y-%m-%dT%H:%M:%S\") for d in dates_temp]\n",
    "for wt in weather_types:\n",
    "    df_albuquerque_07_11[wt] = [next((item['value'] for item in weather_data[wt] if item['date'] == d), None) for d in dates_temp]"
   ]
  },
  {
   "attachments": {},
   "cell_type": "markdown",
   "metadata": {},
   "source": [
    "# Albuquerque Data Gathering 2012 to 2016"
   ]
  },
  {
   "cell_type": "code",
   "execution_count": 213,
   "metadata": {},
   "outputs": [
    {
     "name": "stdout",
     "output_type": "stream",
     "text": [
      "working on year 2012\n",
      "working on year 2013\n",
      "working on year 2014\n",
      "working on year 2015\n",
      "working on year 2016\n"
     ]
    }
   ],
   "source": [
    "# Albuquerque International Sunport station ID\n",
    "station_id = 'GHCND:USW00023050'  \n",
    "dates_temp = []\n",
    "dates_prcp = []\n",
    "temps = []\n",
    "prcp = []\n",
    "\n",
    "# for each year from 2012-2016 ... (token limit reached -> 5 per second)\n",
    "for year in range(2012, 2017):\n",
    "    year = str(year)\n",
    "    print('working on year ' + year)\n",
    "\n",
    "    # make the api call\n",
    "    r = requests.get('https://www.ncdc.noaa.gov/cdo-web/api/v2/data?datasetid=GHCND&datatypeid=WT01,WT02,WT03,WT04,WT05,WT06,WT07,WT08,WT09,WT10,WT11,WT12,WT13,WT14,WT15,WT16,WT17,WT18,WV01,WV03,WV07,WV18,WV20&limit=1000&stationid=GHCND:USW00023050&startdate=' + year + '-01-01&enddate=' + year + '-12-31', headers={'token':Token})\n",
    "    # load the api response as a json\n",
    "    d = json.loads(r.text)\n",
    "\n",
    "    # get all items in the response which are weather descriptions (1,0)\n",
    "    weather_types = ['WT01', 'WT02', 'WT03', 'WT04', 'WT05', 'WT06', 'WT07', 'WT08', 'WT09', 'WT10', 'WT11', 'WT12', 'WT13','WT14', 'WT15', 'WT16', 'WT17', 'WT18', 'WV01','WV03','WV07','WV18','WV20']\n",
    "    weather_data = {}\n",
    "    for wt in weather_types:\n",
    "        weather_data[wt] = [item for item in d['results'] if item['datatype'] == wt]\n",
    "\n",
    "        # get the date field from all readings\n",
    "        dates_temp += [item['date'] for item in weather_data[wt]]\n",
    "\n",
    "# initialize dataframe\n",
    "df_albuquerque_12_16 = pd.DataFrame()\n",
    "\n",
    "# populate date and weather descriptions fields (cast string date to datetime and add other fields)\n",
    "df_albuquerque_12_16['date'] = [datetime.strptime(d, \"%Y-%m-%dT%H:%M:%S\") for d in dates_temp]\n",
    "for wt in weather_types:\n",
    "    df_albuquerque_12_16[wt] = [next((item['value'] for item in weather_data[wt] if item['date'] == d), None) for d in dates_temp]"
   ]
  },
  {
   "attachments": {},
   "cell_type": "markdown",
   "metadata": {},
   "source": [
    "# Albuquerque Data Gathering 2017 to 2019"
   ]
  },
  {
   "cell_type": "code",
   "execution_count": 214,
   "metadata": {},
   "outputs": [
    {
     "name": "stdout",
     "output_type": "stream",
     "text": [
      "working on year 2017\n",
      "working on year 2018\n",
      "working on year 2019\n"
     ]
    }
   ],
   "source": [
    "# Albuquerque International Sunport station ID\n",
    "station_id = 'GHCND:USW00023050'  \n",
    "dates_temp = []\n",
    "dates_prcp = []\n",
    "temps = []\n",
    "prcp = []\n",
    "\n",
    "# for each year from 2017-2019 ... (token limit reached -> 5 per second)\n",
    "for year in range(2017, 2020):\n",
    "    year = str(year)\n",
    "    print('working on year ' + year)\n",
    "\n",
    "    # make the api call\n",
    "    r = requests.get('https://www.ncdc.noaa.gov/cdo-web/api/v2/data?datasetid=GHCND&datatypeid=WT01,WT02,WT03,WT04,WT05,WT06,WT07,WT08,WT09,WT10,WT11,WT12,WT13,WT14,WT15,WT16,WT17,WT18,WV01,WV03,WV07,WV18,WV20&limit=1000&stationid=GHCND:USW00023050&startdate=' + year + '-01-01&enddate=' + year + '-12-31', headers={'token':Token})\n",
    "    # load the api response as a json\n",
    "    d = json.loads(r.text)\n",
    "\n",
    "    # get all items in the response which are weather descriptions (1,0)\n",
    "    weather_types = ['WT01', 'WT02', 'WT03', 'WT04', 'WT05', 'WT06', 'WT07', 'WT08', 'WT09', 'WT10', 'WT11', 'WT12', 'WT13','WT14', 'WT15', 'WT16', 'WT17', 'WT18', 'WV01','WV03','WV07','WV18','WV20']\n",
    "    weather_data = {}\n",
    "    for wt in weather_types:\n",
    "        weather_data[wt] = [item for item in d['results'] if item['datatype'] == wt]\n",
    "\n",
    "        # get the date field from all readings\n",
    "        dates_temp += [item['date'] for item in weather_data[wt]]\n",
    "\n",
    "# initialize dataframe\n",
    "df_albuquerque_17_19 = pd.DataFrame()\n",
    "\n",
    "# populate date and weather descriptions fields (cast string date to datetime and add other fields)\n",
    "df_albuquerque_17_19['date'] = [datetime.strptime(d, \"%Y-%m-%dT%H:%M:%S\") for d in dates_temp]\n",
    "for wt in weather_types:\n",
    "    df_albuquerque_17_19[wt] = [next((item['value'] for item in weather_data[wt] if item['date'] == d), None) for d in dates_temp]"
   ]
  },
  {
   "attachments": {},
   "cell_type": "markdown",
   "metadata": {},
   "source": [
    "# Albuquerque Data Gathering 2020 to 2022"
   ]
  },
  {
   "cell_type": "code",
   "execution_count": 215,
   "metadata": {},
   "outputs": [
    {
     "name": "stdout",
     "output_type": "stream",
     "text": [
      "working on year 2020\n",
      "working on year 2021\n",
      "working on year 2022\n"
     ]
    }
   ],
   "source": [
    "# Albuquerque International Sunport station ID\n",
    "station_id = 'GHCND:USW00023050'  \n",
    "dates_temp = []\n",
    "dates_prcp = []\n",
    "temps = []\n",
    "prcp = []\n",
    "\n",
    "# for each year from 2020-2022 ... (token limit reached -> 5 per second)\n",
    "for year in range(2020, 2023):\n",
    "    year = str(year)\n",
    "    print('working on year ' + year)\n",
    "\n",
    "    # make the api call\n",
    "    r = requests.get('https://www.ncdc.noaa.gov/cdo-web/api/v2/data?datasetid=GHCND&datatypeid=WT01,WT02,WT03,WT04,WT05,WT06,WT07,WT08,WT09,WT10,WT11,WT12,WT13,WT14,WT15,WT16,WT17,WT18,WV01,WV03,WV07,WV18,WV20&limit=1000&stationid=GHCND:USW00023050&startdate=' + year + '-01-01&enddate=' + year + '-12-31', headers={'token':Token})\n",
    "    # load the api response as a json\n",
    "    d = json.loads(r.text)\n",
    "\n",
    "    # get all items in the response which are weather descriptions (1,0)\n",
    "    weather_types = ['WT01', 'WT02', 'WT03', 'WT04', 'WT05', 'WT06', 'WT07', 'WT08', 'WT09', 'WT10', 'WT11', 'WT12', 'WT13','WT14', 'WT15', 'WT16', 'WT17', 'WT18', 'WV01','WV03','WV07','WV18','WV20']\n",
    "    weather_data = {}\n",
    "    for wt in weather_types:\n",
    "        weather_data[wt] = [item for item in d['results'] if item['datatype'] == wt]\n",
    "\n",
    "        # get the date field from all readings\n",
    "        dates_temp += [item['date'] for item in weather_data[wt]]\n",
    "\n",
    "# initialize dataframe\n",
    "df_albuquerque_20_22 = pd.DataFrame()\n",
    "\n",
    "# populate date and weather descriptions fields (cast string date to datetime and add other fields)\n",
    "df_albuquerque_20_22['date'] = [datetime.strptime(d, \"%Y-%m-%dT%H:%M:%S\") for d in dates_temp]\n",
    "for wt in weather_types:\n",
    "    df_albuquerque_20_22[wt] = [next((item['value'] for item in weather_data[wt] if item['date'] == d), None) for d in dates_temp]"
   ]
  },
  {
   "attachments": {},
   "cell_type": "markdown",
   "metadata": {},
   "source": [
    "# Concatenate all Albuquerque, NM, dataframes"
   ]
  },
  {
   "cell_type": "code",
   "execution_count": 216,
   "metadata": {},
   "outputs": [],
   "source": [
    "# concatenate all Albuquerque, NM, dataframes\n",
    "df_albuquerque = pd.concat([df_albuquerque_92_96, df_albuquerque_97_01, df_albuquerque_02_06, df_albuquerque_07_11, df_albuquerque_12_16, df_albuquerque_17_19, df_albuquerque_20_22], ignore_index=True)\n",
    "df_albuquerque.to_csv('../data/Weather/df_albuquerque_api.csv', index=False)"
   ]
  },
  {
   "attachments": {},
   "cell_type": "markdown",
   "metadata": {},
   "source": [
    "# Los Angeles Data Gathering 1980 to 1984"
   ]
  },
  {
   "cell_type": "code",
   "execution_count": 217,
   "metadata": {},
   "outputs": [
    {
     "name": "stdout",
     "output_type": "stream",
     "text": [
      "working on year 1980\n",
      "working on year 1981\n",
      "working on year 1982\n",
      "working on year 1983\n",
      "working on year 1984\n"
     ]
    }
   ],
   "source": [
    "# Los Angeles LAX station ID\n",
    "station_id = 'GHCND:USW00023174'  \n",
    "dates_temp = []\n",
    "dates_prcp = []\n",
    "temps = []\n",
    "prcp = []\n",
    "\n",
    "# for each year from 1980-1984 ... (token limit reached -> 5 per second)\n",
    "for year in range(1980, 1985):\n",
    "    year = str(year)\n",
    "    print('working on year ' + year)\n",
    "\n",
    "    # make the api call\n",
    "    r = requests.get('https://www.ncdc.noaa.gov/cdo-web/api/v2/data?datasetid=GHCND&datatypeid=WT01,WT02,WT03,WT04,WT05,WT06,WT07,WT08,WT09,WT10,WT11,WT12,WT13,WT14,WT15,WT16,WT17,WT18,WV01,WV03,WV07,WV18,WV20&limit=1000&stationid=GHCND:USW00023174&startdate=' + year + '-01-01&enddate=' + year + '-12-31', headers={'token':Token})\n",
    "    # load the api response as a json\n",
    "    d = json.loads(r.text)\n",
    "\n",
    "    # get all items in the response which are weather descriptions (1,0)\n",
    "    weather_types = ['WT01', 'WT02', 'WT03', 'WT04', 'WT05', 'WT06', 'WT07', 'WT08', 'WT09', 'WT10', 'WT11', 'WT12', 'WT13','WT14', 'WT15', 'WT16', 'WT17', 'WT18', 'WV01','WV03','WV07','WV18','WV20']\n",
    "    weather_data = {}\n",
    "    for wt in weather_types:\n",
    "        weather_data[wt] = [item for item in d['results'] if item['datatype'] == wt]\n",
    "\n",
    "        # get the date field from all readings\n",
    "        dates_temp += [item['date'] for item in weather_data[wt]]\n",
    "\n",
    "# initialize dataframe\n",
    "df_losangeles_80_84 = pd.DataFrame()\n",
    "\n",
    "# populate date and weather descriptions fields (cast string date to datetime and add other fields)\n",
    "df_losangeles_80_84['date'] = [datetime.strptime(d, \"%Y-%m-%dT%H:%M:%S\") for d in dates_temp]\n",
    "for wt in weather_types:\n",
    "    df_losangeles_80_84[wt] = [next((item['value'] for item in weather_data[wt] if item['date'] == d), None) for d in dates_temp]"
   ]
  },
  {
   "attachments": {},
   "cell_type": "markdown",
   "metadata": {},
   "source": [
    "# Los Angeles Data Gathering 1986 to 1990 (ufo dataset doesnt contain 1985)"
   ]
  },
  {
   "cell_type": "code",
   "execution_count": 218,
   "metadata": {},
   "outputs": [
    {
     "name": "stdout",
     "output_type": "stream",
     "text": [
      "working on year 1986\n",
      "working on year 1987\n",
      "working on year 1988\n",
      "working on year 1989\n",
      "working on year 1990\n"
     ]
    }
   ],
   "source": [
    "# Los Angeles LAX station ID\n",
    "station_id = 'GHCND:USW00023174'  \n",
    "dates_temp = []\n",
    "dates_prcp = []\n",
    "temps = []\n",
    "prcp = []\n",
    "\n",
    "# for each year from 1986-1990 ... (token limit reached -> 5 per second)\n",
    "for year in range(1986, 1991):\n",
    "    year = str(year)\n",
    "    print('working on year ' + year)\n",
    "\n",
    "    # make the api call\n",
    "    r = requests.get('https://www.ncdc.noaa.gov/cdo-web/api/v2/data?datasetid=GHCND&datatypeid=WT01,WT02,WT03,WT04,WT05,WT06,WT07,WT08,WT09,WT10,WT11,WT12,WT13,WT14,WT15,WT16,WT17,WT18,WV01,WV03,WV07,WV18,WV20&limit=1000&stationid=GHCND:USW00023174&startdate=' + year + '-01-01&enddate=' + year + '-12-31', headers={'token':Token})\n",
    "    # load the api response as a json\n",
    "    d = json.loads(r.text)\n",
    "\n",
    "    # get all items in the response which are weather descriptions (1,0)\n",
    "    weather_types = ['WT01', 'WT02', 'WT03', 'WT04', 'WT05', 'WT06', 'WT07', 'WT08', 'WT09', 'WT10', 'WT11', 'WT12', 'WT13','WT14', 'WT15', 'WT16', 'WT17', 'WT18', 'WV01','WV03','WV07','WV18','WV20']\n",
    "    weather_data = {}\n",
    "    for wt in weather_types:\n",
    "        weather_data[wt] = [item for item in d['results'] if item['datatype'] == wt]\n",
    "\n",
    "        # get the date field from all readings\n",
    "        dates_temp += [item['date'] for item in weather_data[wt]]\n",
    "\n",
    "# initialize dataframe\n",
    "df_losangeles_86_90 = pd.DataFrame()\n",
    "\n",
    "# populate date and weather descriptions fields (cast string date to datetime and add other fields)\n",
    "df_losangeles_86_90['date'] = [datetime.strptime(d, \"%Y-%m-%dT%H:%M:%S\") for d in dates_temp]\n",
    "for wt in weather_types:\n",
    "    df_losangeles_86_90[wt] = [next((item['value'] for item in weather_data[wt] if item['date'] == d), None) for d in dates_temp]"
   ]
  },
  {
   "attachments": {},
   "cell_type": "markdown",
   "metadata": {},
   "source": [
    "# Los Angeles Data Gathering 1992 to 1996 (ufo dataset doesnt contain 1991)"
   ]
  },
  {
   "cell_type": "code",
   "execution_count": 220,
   "metadata": {},
   "outputs": [
    {
     "name": "stdout",
     "output_type": "stream",
     "text": [
      "working on year 1992\n",
      "working on year 1993\n",
      "working on year 1994\n",
      "working on year 1995\n",
      "working on year 1996\n"
     ]
    }
   ],
   "source": [
    "# Los Angeles LAX station ID\n",
    "station_id = 'GHCND:USW00023174'  \n",
    "dates_temp = []\n",
    "dates_prcp = []\n",
    "temps = []\n",
    "prcp = []\n",
    "\n",
    "# for each year from 1992-1996 ... (token limit reached -> 5 per second)\n",
    "for year in range(1992, 1997):\n",
    "    year = str(year)\n",
    "    print('working on year ' + year)\n",
    "\n",
    "    # make the api call\n",
    "    r = requests.get('https://www.ncdc.noaa.gov/cdo-web/api/v2/data?datasetid=GHCND&datatypeid=WT01,WT02,WT03,WT04,WT05,WT06,WT07,WT08,WT09,WT10,WT11,WT12,WT13,WT14,WT15,WT16,WT17,WT18,WV01,WV03,WV07,WV18,WV20&limit=1000&stationid=GHCND:USW00023174&startdate=' + year + '-01-01&enddate=' + year + '-12-31', headers={'token':Token})\n",
    "    # load the api response as a json\n",
    "    d = json.loads(r.text)\n",
    "\n",
    "    # get all items in the response which are weather descriptions (1,0)\n",
    "    weather_types = ['WT01', 'WT02', 'WT03', 'WT04', 'WT05', 'WT06', 'WT07', 'WT08', 'WT09', 'WT10', 'WT11', 'WT12', 'WT13','WT14', 'WT15', 'WT16', 'WT17', 'WT18', 'WV01','WV03','WV07','WV18','WV20']\n",
    "    weather_data = {}\n",
    "    for wt in weather_types:\n",
    "        weather_data[wt] = [item for item in d['results'] if item['datatype'] == wt]\n",
    "\n",
    "        # get the date field from all readings\n",
    "        dates_temp += [item['date'] for item in weather_data[wt]]\n",
    "\n",
    "# initialize dataframe\n",
    "df_losangeles_92_96 = pd.DataFrame()\n",
    "\n",
    "# populate date and weather descriptions fields (cast string date to datetime and add other fields)\n",
    "df_losangeles_92_96['date'] = [datetime.strptime(d, \"%Y-%m-%dT%H:%M:%S\") for d in dates_temp]\n",
    "for wt in weather_types:\n",
    "    df_losangeles_92_96[wt] = [next((item['value'] for item in weather_data[wt] if item['date'] == d), None) for d in dates_temp]"
   ]
  },
  {
   "attachments": {},
   "cell_type": "markdown",
   "metadata": {},
   "source": [
    "# Los Angeles Data Gathering 1997 to 2003"
   ]
  },
  {
   "cell_type": "code",
   "execution_count": 221,
   "metadata": {},
   "outputs": [
    {
     "name": "stdout",
     "output_type": "stream",
     "text": [
      "working on year 1997\n",
      "working on year 1998\n",
      "working on year 1999\n",
      "working on year 2000\n",
      "working on year 2001\n",
      "working on year 2002\n",
      "working on year 2003\n"
     ]
    }
   ],
   "source": [
    "# Los Angeles LAX station ID\n",
    "station_id = 'GHCND:USW00023174'  \n",
    "dates_temp = []\n",
    "dates_prcp = []\n",
    "temps = []\n",
    "prcp = []\n",
    "\n",
    "# for each year from 1997-2003 ... (token limit reached -> 5 per second)\n",
    "for year in range(1997, 2004):\n",
    "    year = str(year)\n",
    "    print('working on year ' + year)\n",
    "\n",
    "    # make the api call\n",
    "    r = requests.get('https://www.ncdc.noaa.gov/cdo-web/api/v2/data?datasetid=GHCND&datatypeid=WT01,WT02,WT03,WT04,WT05,WT06,WT07,WT08,WT09,WT10,WT11,WT12,WT13,WT14,WT15,WT16,WT17,WT18,WV01,WV03,WV07,WV18,WV20&limit=1000&stationid=GHCND:USW00023174&startdate=' + year + '-01-01&enddate=' + year + '-12-31', headers={'token':Token})\n",
    "    # load the api response as a json\n",
    "    d = json.loads(r.text)\n",
    "\n",
    "    # get all items in the response which are weather descriptions (1,0)\n",
    "    weather_types = ['WT01', 'WT02', 'WT03', 'WT04', 'WT05', 'WT06', 'WT07', 'WT08', 'WT09', 'WT10', 'WT11', 'WT12', 'WT13','WT14', 'WT15', 'WT16', 'WT17', 'WT18', 'WV01','WV03','WV07','WV18','WV20']\n",
    "    weather_data = {}\n",
    "    for wt in weather_types:\n",
    "        weather_data[wt] = [item for item in d['results'] if item['datatype'] == wt]\n",
    "\n",
    "        # get the date field from all readings\n",
    "        dates_temp += [item['date'] for item in weather_data[wt]]\n",
    "\n",
    "# initialize dataframe\n",
    "df_losangeles_97_03 = pd.DataFrame()\n",
    "\n",
    "# populate date and weather descriptions fields (cast string date to datetime and add other fields)\n",
    "df_losangeles_97_03['date'] = [datetime.strptime(d, \"%Y-%m-%dT%H:%M:%S\") for d in dates_temp]\n",
    "for wt in weather_types:\n",
    "    df_losangeles_97_03[wt] = [next((item['value'] for item in weather_data[wt] if item['date'] == d), None) for d in dates_temp]"
   ]
  },
  {
   "attachments": {},
   "cell_type": "markdown",
   "metadata": {},
   "source": [
    "# Los Angeles Data Gathering 2004 to 2008"
   ]
  },
  {
   "cell_type": "code",
   "execution_count": 222,
   "metadata": {},
   "outputs": [
    {
     "name": "stdout",
     "output_type": "stream",
     "text": [
      "working on year 2004\n",
      "working on year 2005\n",
      "working on year 2006\n",
      "working on year 2007\n",
      "working on year 2008\n"
     ]
    }
   ],
   "source": [
    "# Los Angeles LAX station ID\n",
    "station_id = 'GHCND:USW00023174'  \n",
    "dates_temp = []\n",
    "dates_prcp = []\n",
    "temps = []\n",
    "prcp = []\n",
    "\n",
    "# for each year from 2004-2008 ... (token limit reached -> 5 per second)\n",
    "for year in range(2004, 2009):\n",
    "    year = str(year)\n",
    "    print('working on year ' + year)\n",
    "\n",
    "    # make the api call\n",
    "    r = requests.get('https://www.ncdc.noaa.gov/cdo-web/api/v2/data?datasetid=GHCND&datatypeid=WT01,WT02,WT03,WT04,WT05,WT06,WT07,WT08,WT09,WT10,WT11,WT12,WT13,WT14,WT15,WT16,WT17,WT18,WV01,WV03,WV07,WV18,WV20&limit=1000&stationid=GHCND:USW00023174&startdate=' + year + '-01-01&enddate=' + year + '-12-31', headers={'token':Token})\n",
    "    # load the api response as a json\n",
    "    d = json.loads(r.text)\n",
    "\n",
    "    # get all items in the response which are weather descriptions (1,0)\n",
    "    weather_types = ['WT01', 'WT02', 'WT03', 'WT04', 'WT05', 'WT06', 'WT07', 'WT08', 'WT09', 'WT10', 'WT11', 'WT12', 'WT13','WT14', 'WT15', 'WT16', 'WT17', 'WT18', 'WV01','WV03','WV07','WV18','WV20']\n",
    "    weather_data = {}\n",
    "    for wt in weather_types:\n",
    "        weather_data[wt] = [item for item in d['results'] if item['datatype'] == wt]\n",
    "\n",
    "        # get the date field from all readings\n",
    "        dates_temp += [item['date'] for item in weather_data[wt]]\n",
    "\n",
    "# initialize dataframe\n",
    "df_losangeles_04_08 = pd.DataFrame()\n",
    "\n",
    "# populate date and weather descriptions fields (cast string date to datetime and add other fields)\n",
    "df_losangeles_04_08['date'] = [datetime.strptime(d, \"%Y-%m-%dT%H:%M:%S\") for d in dates_temp]\n",
    "for wt in weather_types:\n",
    "    df_losangeles_04_08[wt] = [next((item['value'] for item in weather_data[wt] if item['date'] == d), None) for d in dates_temp]"
   ]
  },
  {
   "attachments": {},
   "cell_type": "markdown",
   "metadata": {},
   "source": [
    "# Los Angeles Data Gathering 2009 to 2013"
   ]
  },
  {
   "cell_type": "code",
   "execution_count": 223,
   "metadata": {},
   "outputs": [
    {
     "name": "stdout",
     "output_type": "stream",
     "text": [
      "working on year 2009\n",
      "working on year 2010\n",
      "working on year 2011\n",
      "working on year 2012\n",
      "working on year 2013\n"
     ]
    }
   ],
   "source": [
    "# Los Angeles LAX station ID\n",
    "station_id = 'GHCND:USW00023174'  \n",
    "dates_temp = []\n",
    "dates_prcp = []\n",
    "temps = []\n",
    "prcp = []\n",
    "\n",
    "# for each year from 2009-2013 ... (token limit reached -> 5 per second)\n",
    "for year in range(2009, 2014):\n",
    "    year = str(year)\n",
    "    print('working on year ' + year)\n",
    "\n",
    "    # make the api call\n",
    "    r = requests.get('https://www.ncdc.noaa.gov/cdo-web/api/v2/data?datasetid=GHCND&datatypeid=WT01,WT02,WT03,WT04,WT05,WT06,WT07,WT08,WT09,WT10,WT11,WT12,WT13,WT14,WT15,WT16,WT17,WT18,WV01,WV03,WV07,WV18,WV20&limit=1000&stationid=GHCND:USW00023174&startdate=' + year + '-01-01&enddate=' + year + '-12-31', headers={'token':Token})\n",
    "    # load the api response as a json\n",
    "    d = json.loads(r.text)\n",
    "\n",
    "    # get all items in the response which are weather descriptions (1,0)\n",
    "    weather_types = ['WT01', 'WT02', 'WT03', 'WT04', 'WT05', 'WT06', 'WT07', 'WT08', 'WT09', 'WT10', 'WT11', 'WT12', 'WT13','WT14', 'WT15', 'WT16', 'WT17', 'WT18', 'WV01','WV03','WV07','WV18','WV20']\n",
    "    weather_data = {}\n",
    "    for wt in weather_types:\n",
    "        weather_data[wt] = [item for item in d['results'] if item['datatype'] == wt]\n",
    "\n",
    "        # get the date field from all readings\n",
    "        dates_temp += [item['date'] for item in weather_data[wt]]\n",
    "\n",
    "# initialize dataframe\n",
    "df_losangeles_09_13 = pd.DataFrame()\n",
    "\n",
    "# populate date and weather descriptions fields (cast string date to datetime and add other fields)\n",
    "df_losangeles_09_13['date'] = [datetime.strptime(d, \"%Y-%m-%dT%H:%M:%S\") for d in dates_temp]\n",
    "for wt in weather_types:\n",
    "    df_losangeles_09_13[wt] = [next((item['value'] for item in weather_data[wt] if item['date'] == d), None) for d in dates_temp]"
   ]
  },
  {
   "attachments": {},
   "cell_type": "markdown",
   "metadata": {},
   "source": [
    "# Los Angeles Data Gathering 2014 to 2018"
   ]
  },
  {
   "cell_type": "code",
   "execution_count": 224,
   "metadata": {},
   "outputs": [
    {
     "name": "stdout",
     "output_type": "stream",
     "text": [
      "working on year 2014\n",
      "working on year 2015\n",
      "working on year 2016\n",
      "working on year 2017\n",
      "working on year 2018\n"
     ]
    }
   ],
   "source": [
    "# Los Angeles LAX station ID\n",
    "station_id = 'GHCND:USW00023174'  \n",
    "dates_temp = []\n",
    "dates_prcp = []\n",
    "temps = []\n",
    "prcp = []\n",
    "\n",
    "# for each year from 2014-2018 ... (token limit reached -> 5 per second)\n",
    "for year in range(2014, 2019):\n",
    "    year = str(year)\n",
    "    print('working on year ' + year)\n",
    "\n",
    "    # make the api call\n",
    "    r = requests.get('https://www.ncdc.noaa.gov/cdo-web/api/v2/data?datasetid=GHCND&datatypeid=WT01,WT02,WT03,WT04,WT05,WT06,WT07,WT08,WT09,WT10,WT11,WT12,WT13,WT14,WT15,WT16,WT17,WT18,WV01,WV03,WV07,WV18,WV20&limit=1000&stationid=GHCND:USW00023174&startdate=' + year + '-01-01&enddate=' + year + '-12-31', headers={'token':Token})\n",
    "    # load the api response as a json\n",
    "    d = json.loads(r.text)\n",
    "\n",
    "    # get all items in the response which are weather descriptions (1,0)\n",
    "    weather_types = ['WT01', 'WT02', 'WT03', 'WT04', 'WT05', 'WT06', 'WT07', 'WT08', 'WT09', 'WT10', 'WT11', 'WT12', 'WT13','WT14', 'WT15', 'WT16', 'WT17', 'WT18', 'WV01','WV03','WV07','WV18','WV20']\n",
    "    weather_data = {}\n",
    "    for wt in weather_types:\n",
    "        weather_data[wt] = [item for item in d['results'] if item['datatype'] == wt]\n",
    "\n",
    "        # get the date field from all readings\n",
    "        dates_temp += [item['date'] for item in weather_data[wt]]\n",
    "\n",
    "# initialize dataframe\n",
    "df_losangeles_14_18 = pd.DataFrame()\n",
    "\n",
    "# populate date and weather descriptions fields (cast string date to datetime and add other fields)\n",
    "df_losangeles_14_18['date'] = [datetime.strptime(d, \"%Y-%m-%dT%H:%M:%S\") for d in dates_temp]\n",
    "for wt in weather_types:\n",
    "    df_losangeles_14_18[wt] = [next((item['value'] for item in weather_data[wt] if item['date'] == d), None) for d in dates_temp]"
   ]
  },
  {
   "attachments": {},
   "cell_type": "markdown",
   "metadata": {},
   "source": [
    "# Los Angeles Data Gathering 2019 to 2022"
   ]
  },
  {
   "cell_type": "code",
   "execution_count": 225,
   "metadata": {},
   "outputs": [
    {
     "name": "stdout",
     "output_type": "stream",
     "text": [
      "working on year 2019\n",
      "working on year 2020\n",
      "working on year 2021\n",
      "working on year 2022\n"
     ]
    }
   ],
   "source": [
    "# Los Angeles LAX station ID\n",
    "station_id = 'GHCND:USW00023174'  \n",
    "dates_temp = []\n",
    "dates_prcp = []\n",
    "temps = []\n",
    "prcp = []\n",
    "\n",
    "# for each year from 2019-2022... (token limit reached -> 5 per second)\n",
    "for year in range(2019, 2023):\n",
    "    year = str(year)\n",
    "    print('working on year ' + year)\n",
    "\n",
    "    # make the api call\n",
    "    r = requests.get('https://www.ncdc.noaa.gov/cdo-web/api/v2/data?datasetid=GHCND&datatypeid=WT01,WT02,WT03,WT04,WT05,WT06,WT07,WT08,WT09,WT10,WT11,WT12,WT13,WT14,WT15,WT16,WT17,WT18,WV01,WV03,WV07,WV18,WV20&limit=1000&stationid=GHCND:USW00023174&startdate=' + year + '-01-01&enddate=' + year + '-12-31', headers={'token':Token})\n",
    "    # load the api response as a json\n",
    "    d = json.loads(r.text)\n",
    "\n",
    "    # get all items in the response which are weather descriptions (1,0)\n",
    "    weather_types = ['WT01', 'WT02', 'WT03', 'WT04', 'WT05', 'WT06', 'WT07', 'WT08', 'WT09', 'WT10', 'WT11', 'WT12', 'WT13','WT14', 'WT15', 'WT16', 'WT17', 'WT18', 'WV01','WV03','WV07','WV18','WV20']\n",
    "    weather_data = {}\n",
    "    for wt in weather_types:\n",
    "        weather_data[wt] = [item for item in d['results'] if item['datatype'] == wt]\n",
    "\n",
    "        # get the date field from all readings\n",
    "        dates_temp += [item['date'] for item in weather_data[wt]]\n",
    "\n",
    "# initialize dataframe\n",
    "df_losangeles_19_22 = pd.DataFrame()\n",
    "\n",
    "# populate date and weather descriptions fields (cast string date to datetime and add other fields)\n",
    "df_losangeles_19_22['date'] = [datetime.strptime(d, \"%Y-%m-%dT%H:%M:%S\") for d in dates_temp]\n",
    "for wt in weather_types:\n",
    "    df_losangeles_19_22[wt] = [next((item['value'] for item in weather_data[wt] if item['date'] == d), None) for d in dates_temp]"
   ]
  },
  {
   "attachments": {},
   "cell_type": "markdown",
   "metadata": {},
   "source": [
    "# Concatenate all Los Angeles, CA, dataframes"
   ]
  },
  {
   "cell_type": "code",
   "execution_count": 226,
   "metadata": {},
   "outputs": [],
   "source": [
    "# concatenate all Los Angeles, CA, dataframes\n",
    "df_losangeles = pd.concat([df_losangeles_80_84, df_losangeles_86_90, df_losangeles_92_96, df_losangeles_97_03, df_losangeles_04_08, df_losangeles_09_13, df_losangeles_14_18, df_losangeles_19_22], ignore_index=True)\n",
    "df_losangeles.to_csv('../data/Weather/df_losangeles_api.csv', index=False)"
   ]
  },
  {
   "attachments": {},
   "cell_type": "markdown",
   "metadata": {},
   "source": [
    "# Portland, OR, Data Gathering 1983 to 1985"
   ]
  },
  {
   "cell_type": "code",
   "execution_count": 227,
   "metadata": {},
   "outputs": [
    {
     "name": "stdout",
     "output_type": "stream",
     "text": [
      "working on year 1983\n",
      "working on year 1984\n",
      "working on year 1985\n"
     ]
    }
   ],
   "source": [
    "# Portland, OR, Intl Airport station ID\n",
    "station_id = 'GHCND:USW00024229'  \n",
    "dates_temp = []\n",
    "dates_prcp = []\n",
    "temps = []\n",
    "prcp = []\n",
    "\n",
    "# for each year from 1983-1985 ... (token limit reached -> 5 per second)\n",
    "for year in range(1983, 1986):\n",
    "    year = str(year)\n",
    "    print('working on year ' + year)\n",
    "\n",
    "    # make the api call\n",
    "    r = requests.get('https://www.ncdc.noaa.gov/cdo-web/api/v2/data?datasetid=GHCND&datatypeid=WT01,WT02,WT03,WT04,WT05,WT06,WT07,WT08,WT09,WT10,WT11,WT12,WT13,WT14,WT15,WT16,WT17,WT18,WV01,WV03,WV07,WV18,WV20&limit=1000&stationid=GHCND:USW00024229&startdate=' + year + '-01-01&enddate=' + year + '-12-31', headers={'token':Token})\n",
    "    # load the api response as a json\n",
    "    d = json.loads(r.text)\n",
    "\n",
    "    # get all items in the response which are weather descriptions (1,0)\n",
    "    weather_types = ['WT01', 'WT02', 'WT03', 'WT04', 'WT05', 'WT06', 'WT07', 'WT08', 'WT09', 'WT10', 'WT11', 'WT12', 'WT13','WT14', 'WT15', 'WT16', 'WT17', 'WT18', 'WV01','WV03','WV07','WV18','WV20']\n",
    "    weather_data = {}\n",
    "    for wt in weather_types:\n",
    "        weather_data[wt] = [item for item in d['results'] if item['datatype'] == wt]\n",
    "\n",
    "        # get the date field from all readings\n",
    "        dates_temp += [item['date'] for item in weather_data[wt]]\n",
    "\n",
    "# initialize dataframe\n",
    "df_portland_83_85 = pd.DataFrame()\n",
    "\n",
    "# populate date and weather descriptions fields (cast string date to datetime and add other fields)\n",
    "df_portland_83_85['date'] = [datetime.strptime(d, \"%Y-%m-%dT%H:%M:%S\") for d in dates_temp]\n",
    "for wt in weather_types:\n",
    "    df_portland_83_85[wt] = [next((item['value'] for item in weather_data[wt] if item['date'] == d), None) for d in dates_temp]"
   ]
  },
  {
   "attachments": {},
   "cell_type": "markdown",
   "metadata": {},
   "source": [
    "# Portland, OR, Data Gathering 1991 to 1994 ('86 to '90 not in UFO)"
   ]
  },
  {
   "cell_type": "code",
   "execution_count": 228,
   "metadata": {},
   "outputs": [
    {
     "name": "stdout",
     "output_type": "stream",
     "text": [
      "working on year 1991\n",
      "working on year 1992\n",
      "working on year 1993\n",
      "working on year 1994\n"
     ]
    }
   ],
   "source": [
    "# Portland, OR, Intl Airport station ID\n",
    "station_id = 'GHCND:USW00024229'  \n",
    "dates_temp = []\n",
    "dates_prcp = []\n",
    "temps = []\n",
    "prcp = []\n",
    "\n",
    "# for each year from 1991-1994 ... (token limit reached -> 5 per second)\n",
    "for year in range(1991, 1995):\n",
    "    year = str(year)\n",
    "    print('working on year ' + year)\n",
    "\n",
    "    # make the api call\n",
    "    r = requests.get('https://www.ncdc.noaa.gov/cdo-web/api/v2/data?datasetid=GHCND&datatypeid=WT01,WT02,WT03,WT04,WT05,WT06,WT07,WT08,WT09,WT10,WT11,WT12,WT13,WT14,WT15,WT16,WT17,WT18,WV01,WV03,WV07,WV18,WV20&limit=1000&stationid=GHCND:USW00024229&startdate=' + year + '-01-01&enddate=' + year + '-12-31', headers={'token':Token})\n",
    "    # load the api response as a json\n",
    "    d = json.loads(r.text)\n",
    "\n",
    "    # get all items in the response which are weather descriptions (1,0)\n",
    "    weather_types = ['WT01', 'WT02', 'WT03', 'WT04', 'WT05', 'WT06', 'WT07', 'WT08', 'WT09', 'WT10', 'WT11', 'WT12', 'WT13','WT14', 'WT15', 'WT16', 'WT17', 'WT18', 'WV01','WV03','WV07','WV18','WV20']\n",
    "    weather_data = {}\n",
    "    for wt in weather_types:\n",
    "        weather_data[wt] = [item for item in d['results'] if item['datatype'] == wt]\n",
    "\n",
    "        # get the date field from all readings\n",
    "        dates_temp += [item['date'] for item in weather_data[wt]]\n",
    "\n",
    "# initialize dataframe\n",
    "df_portland_91_94 = pd.DataFrame()\n",
    "\n",
    "# populate date and weather descriptions fields (cast string date to datetime and add other fields)\n",
    "df_portland_91_94['date'] = [datetime.strptime(d, \"%Y-%m-%dT%H:%M:%S\") for d in dates_temp]\n",
    "for wt in weather_types:\n",
    "    df_portland_91_94[wt] = [next((item['value'] for item in weather_data[wt] if item['date'] == d), None) for d in dates_temp]"
   ]
  },
  {
   "attachments": {},
   "cell_type": "markdown",
   "metadata": {},
   "source": [
    "# Portland, OR, Data Gathering 1996 to 2000 (1995 not in UFO)"
   ]
  },
  {
   "cell_type": "code",
   "execution_count": 229,
   "metadata": {},
   "outputs": [
    {
     "name": "stdout",
     "output_type": "stream",
     "text": [
      "working on year 1996\n",
      "working on year 1997\n",
      "working on year 1998\n",
      "working on year 1999\n",
      "working on year 2000\n"
     ]
    }
   ],
   "source": [
    "# Portland, OR, Intl Airport station ID\n",
    "station_id = 'GHCND:USW00024229'  \n",
    "dates_temp = []\n",
    "dates_prcp = []\n",
    "temps = []\n",
    "prcp = []\n",
    "\n",
    "# for each year from 1996-2000 ... (token limit reached -> 5 per second)\n",
    "for year in range(1996, 2001):\n",
    "    year = str(year)\n",
    "    print('working on year ' + year)\n",
    "\n",
    "    # make the api call\n",
    "    r = requests.get('https://www.ncdc.noaa.gov/cdo-web/api/v2/data?datasetid=GHCND&datatypeid=WT01,WT02,WT03,WT04,WT05,WT06,WT07,WT08,WT09,WT10,WT11,WT12,WT13,WT14,WT15,WT16,WT17,WT18,WV01,WV03,WV07,WV18,WV20&limit=1000&stationid=GHCND:USW00024229&startdate=' + year + '-01-01&enddate=' + year + '-12-31', headers={'token':Token})\n",
    "    # load the api response as a json\n",
    "    d = json.loads(r.text)\n",
    "\n",
    "    # get all items in the response which are weather descriptions (1,0)\n",
    "    weather_types = ['WT01', 'WT02', 'WT03', 'WT04', 'WT05', 'WT06', 'WT07', 'WT08', 'WT09', 'WT10', 'WT11', 'WT12', 'WT13','WT14', 'WT15', 'WT16', 'WT17', 'WT18', 'WV01','WV03','WV07','WV18','WV20']\n",
    "    weather_data = {}\n",
    "    for wt in weather_types:\n",
    "        weather_data[wt] = [item for item in d['results'] if item['datatype'] == wt]\n",
    "\n",
    "        # get the date field from all readings\n",
    "        dates_temp += [item['date'] for item in weather_data[wt]]\n",
    "\n",
    "# initialize dataframe\n",
    "df_portland_96_00 = pd.DataFrame()\n",
    "\n",
    "# populate date and weather descriptions fields (cast string date to datetime and add other fields)\n",
    "df_portland_96_00['date'] = [datetime.strptime(d, \"%Y-%m-%dT%H:%M:%S\") for d in dates_temp]\n",
    "for wt in weather_types:\n",
    "    df_portland_96_00[wt] = [next((item['value'] for item in weather_data[wt] if item['date'] == d), None) for d in dates_temp]"
   ]
  },
  {
   "attachments": {},
   "cell_type": "markdown",
   "metadata": {},
   "source": [
    "# Portland, OR, Data Gathering 2001 to 2005"
   ]
  },
  {
   "cell_type": "code",
   "execution_count": 230,
   "metadata": {},
   "outputs": [
    {
     "name": "stdout",
     "output_type": "stream",
     "text": [
      "working on year 2001\n",
      "working on year 2002\n",
      "working on year 2003\n",
      "working on year 2004\n",
      "working on year 2005\n"
     ]
    }
   ],
   "source": [
    "# Portland, OR, Intl Airport station ID\n",
    "station_id = 'GHCND:USW00024229'  \n",
    "dates_temp = []\n",
    "dates_prcp = []\n",
    "temps = []\n",
    "prcp = []\n",
    "\n",
    "# for each year from 2001-2005 ... (token limit reached -> 5 per second)\n",
    "for year in range(2001, 2006):\n",
    "    year = str(year)\n",
    "    print('working on year ' + year)\n",
    "\n",
    "    # make the api call\n",
    "    r = requests.get('https://www.ncdc.noaa.gov/cdo-web/api/v2/data?datasetid=GHCND&datatypeid=WT01,WT02,WT03,WT04,WT05,WT06,WT07,WT08,WT09,WT10,WT11,WT12,WT13,WT14,WT15,WT16,WT17,WT18,WV01,WV03,WV07,WV18,WV20&limit=1000&stationid=GHCND:USW00024229&startdate=' + year + '-01-01&enddate=' + year + '-12-31', headers={'token':Token})\n",
    "    # load the api response as a json\n",
    "    d = json.loads(r.text)\n",
    "\n",
    "    # get all items in the response which are weather descriptions (1,0)\n",
    "    weather_types = ['WT01', 'WT02', 'WT03', 'WT04', 'WT05', 'WT06', 'WT07', 'WT08', 'WT09', 'WT10', 'WT11', 'WT12', 'WT13','WT14', 'WT15', 'WT16', 'WT17', 'WT18', 'WV01','WV03','WV07','WV18','WV20']\n",
    "    weather_data = {}\n",
    "    for wt in weather_types:\n",
    "        weather_data[wt] = [item for item in d['results'] if item['datatype'] == wt]\n",
    "\n",
    "        # get the date field from all readings\n",
    "        dates_temp += [item['date'] for item in weather_data[wt]]\n",
    "\n",
    "# initialize dataframe\n",
    "df_portland_01_05 = pd.DataFrame()\n",
    "\n",
    "# populate date and weather descriptions fields (cast string date to datetime and add other fields)\n",
    "df_portland_01_05['date'] = [datetime.strptime(d, \"%Y-%m-%dT%H:%M:%S\") for d in dates_temp]\n",
    "for wt in weather_types:\n",
    "    df_portland_01_05[wt] = [next((item['value'] for item in weather_data[wt] if item['date'] == d), None) for d in dates_temp]"
   ]
  },
  {
   "attachments": {},
   "cell_type": "markdown",
   "metadata": {},
   "source": [
    "# Portland, OR, Data Gathering 2006 to 2010"
   ]
  },
  {
   "cell_type": "code",
   "execution_count": 231,
   "metadata": {},
   "outputs": [
    {
     "name": "stdout",
     "output_type": "stream",
     "text": [
      "working on year 2006\n",
      "working on year 2007\n",
      "working on year 2008\n",
      "working on year 2009\n",
      "working on year 2010\n"
     ]
    }
   ],
   "source": [
    "# Portland, OR, Intl Airport station ID\n",
    "station_id = 'GHCND:USW00024229'  \n",
    "dates_temp = []\n",
    "dates_prcp = []\n",
    "temps = []\n",
    "prcp = []\n",
    "\n",
    "# for each year from 2006-2010 ... (token limit reached -> 5 per second)\n",
    "for year in range(2006, 2011):\n",
    "    year = str(year)\n",
    "    print('working on year ' + year)\n",
    "\n",
    "    # make the api call\n",
    "    r = requests.get('https://www.ncdc.noaa.gov/cdo-web/api/v2/data?datasetid=GHCND&datatypeid=WT01,WT02,WT03,WT04,WT05,WT06,WT07,WT08,WT09,WT10,WT11,WT12,WT13,WT14,WT15,WT16,WT17,WT18,WV01,WV03,WV07,WV18,WV20&limit=1000&stationid=GHCND:USW00024229&startdate=' + year + '-01-01&enddate=' + year + '-12-31', headers={'token':Token})\n",
    "    # load the api response as a json\n",
    "    d = json.loads(r.text)\n",
    "\n",
    "    # get all items in the response which are weather descriptions (1,0)\n",
    "    weather_types = ['WT01', 'WT02', 'WT03', 'WT04', 'WT05', 'WT06', 'WT07', 'WT08', 'WT09', 'WT10', 'WT11', 'WT12', 'WT13','WT14', 'WT15', 'WT16', 'WT17', 'WT18', 'WV01','WV03','WV07','WV18','WV20']\n",
    "    weather_data = {}\n",
    "    for wt in weather_types:\n",
    "        weather_data[wt] = [item for item in d['results'] if item['datatype'] == wt]\n",
    "\n",
    "        # get the date field from all readings\n",
    "        dates_temp += [item['date'] for item in weather_data[wt]]\n",
    "\n",
    "# initialize dataframe\n",
    "df_portland_06_10 = pd.DataFrame()\n",
    "\n",
    "# populate date and weather descriptions fields (cast string date to datetime and add other fields)\n",
    "df_portland_06_10['date'] = [datetime.strptime(d, \"%Y-%m-%dT%H:%M:%S\") for d in dates_temp]\n",
    "for wt in weather_types:\n",
    "    df_portland_06_10[wt] = [next((item['value'] for item in weather_data[wt] if item['date'] == d), None) for d in dates_temp]"
   ]
  },
  {
   "attachments": {},
   "cell_type": "markdown",
   "metadata": {},
   "source": [
    "# Portland, OR, Data Gathering 2011 to 2015"
   ]
  },
  {
   "cell_type": "code",
   "execution_count": 232,
   "metadata": {},
   "outputs": [
    {
     "name": "stdout",
     "output_type": "stream",
     "text": [
      "working on year 2011\n",
      "working on year 2012\n",
      "working on year 2013\n",
      "working on year 2014\n",
      "working on year 2015\n"
     ]
    }
   ],
   "source": [
    "# Portland, OR, Intl Airport station ID\n",
    "station_id = 'GHCND:USW00024229'  \n",
    "dates_temp = []\n",
    "dates_prcp = []\n",
    "temps = []\n",
    "prcp = []\n",
    "\n",
    "# for each year from 2011-2015 ... (token limit reached -> 5 per second)\n",
    "for year in range(2011, 2016):\n",
    "    year = str(year)\n",
    "    print('working on year ' + year)\n",
    "\n",
    "    # make the api call\n",
    "    r = requests.get('https://www.ncdc.noaa.gov/cdo-web/api/v2/data?datasetid=GHCND&datatypeid=WT01,WT02,WT03,WT04,WT05,WT06,WT07,WT08,WT09,WT10,WT11,WT12,WT13,WT14,WT15,WT16,WT17,WT18,WV01,WV03,WV07,WV18,WV20&limit=1000&stationid=GHCND:USW00024229&startdate=' + year + '-01-01&enddate=' + year + '-12-31', headers={'token':Token})\n",
    "    # load the api response as a json\n",
    "    d = json.loads(r.text)\n",
    "\n",
    "    # get all items in the response which are weather descriptions (1,0)\n",
    "    weather_types = ['WT01', 'WT02', 'WT03', 'WT04', 'WT05', 'WT06', 'WT07', 'WT08', 'WT09', 'WT10', 'WT11', 'WT12', 'WT13','WT14', 'WT15', 'WT16', 'WT17', 'WT18', 'WV01','WV03','WV07','WV18','WV20']\n",
    "    weather_data = {}\n",
    "    for wt in weather_types:\n",
    "        weather_data[wt] = [item for item in d['results'] if item['datatype'] == wt]\n",
    "\n",
    "        # get the date field from all readings\n",
    "        dates_temp += [item['date'] for item in weather_data[wt]]\n",
    "\n",
    "# initialize dataframe\n",
    "df_portland_11_15 = pd.DataFrame()\n",
    "\n",
    "# populate date and weather descriptions fields (cast string date to datetime and add other fields)\n",
    "df_portland_11_15['date'] = [datetime.strptime(d, \"%Y-%m-%dT%H:%M:%S\") for d in dates_temp]\n",
    "for wt in weather_types:\n",
    "    df_portland_11_15[wt] = [next((item['value'] for item in weather_data[wt] if item['date'] == d), None) for d in dates_temp]"
   ]
  },
  {
   "attachments": {},
   "cell_type": "markdown",
   "metadata": {},
   "source": [
    "# Portland, OR, Data Gathering 2016 to 2019"
   ]
  },
  {
   "cell_type": "code",
   "execution_count": 233,
   "metadata": {},
   "outputs": [
    {
     "name": "stdout",
     "output_type": "stream",
     "text": [
      "working on year 2016\n",
      "working on year 2017\n",
      "working on year 2018\n",
      "working on year 2019\n"
     ]
    }
   ],
   "source": [
    "# Portland, OR, Intl Airport station ID\n",
    "station_id = 'GHCND:USW00024229'  \n",
    "dates_temp = []\n",
    "dates_prcp = []\n",
    "temps = []\n",
    "prcp = []\n",
    "\n",
    "# for each year from 2016-2019 ... (token limit reached -> 5 per second)\n",
    "for year in range(2016, 2020):\n",
    "    year = str(year)\n",
    "    print('working on year ' + year)\n",
    "\n",
    "    # make the api call\n",
    "    r = requests.get('https://www.ncdc.noaa.gov/cdo-web/api/v2/data?datasetid=GHCND&datatypeid=WT01,WT02,WT03,WT04,WT05,WT06,WT07,WT08,WT09,WT10,WT11,WT12,WT13,WT14,WT15,WT16,WT17,WT18,WV01,WV03,WV07,WV18,WV20&limit=1000&stationid=GHCND:USW00024229&startdate=' + year + '-01-01&enddate=' + year + '-12-31', headers={'token':Token})\n",
    "    # load the api response as a json\n",
    "    d = json.loads(r.text)\n",
    "\n",
    "    # get all items in the response which are weather descriptions (1,0)\n",
    "    weather_types = ['WT01', 'WT02', 'WT03', 'WT04', 'WT05', 'WT06', 'WT07', 'WT08', 'WT09', 'WT10', 'WT11', 'WT12', 'WT13','WT14', 'WT15', 'WT16', 'WT17', 'WT18', 'WV01','WV03','WV07','WV18','WV20']\n",
    "    weather_data = {}\n",
    "    for wt in weather_types:\n",
    "        weather_data[wt] = [item for item in d['results'] if item['datatype'] == wt]\n",
    "\n",
    "        # get the date field from all readings\n",
    "        dates_temp += [item['date'] for item in weather_data[wt]]\n",
    "\n",
    "# initialize dataframe\n",
    "df_portland_16_19 = pd.DataFrame()\n",
    "\n",
    "# populate date and weather descriptions fields (cast string date to datetime and add other fields)\n",
    "df_portland_16_19['date'] = [datetime.strptime(d, \"%Y-%m-%dT%H:%M:%S\") for d in dates_temp]\n",
    "for wt in weather_types:\n",
    "    df_portland_16_19[wt] = [next((item['value'] for item in weather_data[wt] if item['date'] == d), None) for d in dates_temp]"
   ]
  },
  {
   "attachments": {},
   "cell_type": "markdown",
   "metadata": {},
   "source": [
    "# Portland, OR, Data Gathering 2020 to 2022"
   ]
  },
  {
   "cell_type": "code",
   "execution_count": 234,
   "metadata": {},
   "outputs": [
    {
     "name": "stdout",
     "output_type": "stream",
     "text": [
      "working on year 2020\n",
      "working on year 2021\n",
      "working on year 2022\n"
     ]
    }
   ],
   "source": [
    "# Portland, OR, Intl Airport station ID\n",
    "station_id = 'GHCND:USW00024229'  \n",
    "dates_temp = []\n",
    "dates_prcp = []\n",
    "temps = []\n",
    "prcp = []\n",
    "\n",
    "# for each year from 2020-2022 ... (token limit reached -> 5 per second)\n",
    "for year in range(2020, 2023):\n",
    "    year = str(year)\n",
    "    print('working on year ' + year)\n",
    "\n",
    "    # make the api call\n",
    "    r = requests.get('https://www.ncdc.noaa.gov/cdo-web/api/v2/data?datasetid=GHCND&datatypeid=WT01,WT02,WT03,WT04,WT05,WT06,WT07,WT08,WT09,WT10,WT11,WT12,WT13,WT14,WT15,WT16,WT17,WT18,WV01,WV03,WV07,WV18,WV20&limit=1000&stationid=GHCND:USW00024229&startdate=' + year + '-01-01&enddate=' + year + '-12-31', headers={'token':Token})\n",
    "    # load the api response as a json\n",
    "    d = json.loads(r.text)\n",
    "\n",
    "    # get all items in the response which are weather descriptions (1,0)\n",
    "    weather_types = ['WT01', 'WT02', 'WT03', 'WT04', 'WT05', 'WT06', 'WT07', 'WT08', 'WT09', 'WT10', 'WT11', 'WT12', 'WT13','WT14', 'WT15', 'WT16', 'WT17', 'WT18', 'WV01','WV03','WV07','WV18','WV20']\n",
    "    weather_data = {}\n",
    "    for wt in weather_types:\n",
    "        weather_data[wt] = [item for item in d['results'] if item['datatype'] == wt]\n",
    "\n",
    "        # get the date field from all readings\n",
    "        dates_temp += [item['date'] for item in weather_data[wt]]\n",
    "\n",
    "# initialize dataframe\n",
    "df_portland_20_22 = pd.DataFrame()\n",
    "\n",
    "# populate date and weather descriptions fields (cast string date to datetime and add other fields)\n",
    "df_portland_20_22['date'] = [datetime.strptime(d, \"%Y-%m-%dT%H:%M:%S\") for d in dates_temp]\n",
    "for wt in weather_types:\n",
    "    df_portland_20_22[wt] = [next((item['value'] for item in weather_data[wt] if item['date'] == d), None) for d in dates_temp]"
   ]
  },
  {
   "attachments": {},
   "cell_type": "markdown",
   "metadata": {},
   "source": [
    "# Concatenate all Portland, OR, dataframes"
   ]
  },
  {
   "cell_type": "code",
   "execution_count": 235,
   "metadata": {},
   "outputs": [],
   "source": [
    "# concatenate all Portland, OR, dataframes\n",
    "df_portland = pd.concat([df_portland_83_85, df_portland_91_94, df_portland_96_00, df_portland_01_05, df_portland_06_10, df_portland_11_15, df_portland_16_19, df_portland_20_22], ignore_index=True)\n",
    "df_portland.to_csv('../data/Weather/df_portland_api.csv', index=False)"
   ]
  },
  {
   "attachments": {},
   "cell_type": "markdown",
   "metadata": {},
   "source": [
    "# San Diego, CA, Data Gathering 1983 to 1985"
   ]
  },
  {
   "cell_type": "code",
   "execution_count": 237,
   "metadata": {},
   "outputs": [
    {
     "name": "stdout",
     "output_type": "stream",
     "text": [
      "working on year 1983\n",
      "working on year 1984\n",
      "working on year 1985\n"
     ]
    }
   ],
   "source": [
    "# San Diego, CA, Intl Airport station ID\n",
    "station_id = 'GHCND:USW00023188'  \n",
    "dates_temp = []\n",
    "dates_prcp = []\n",
    "temps = []\n",
    "prcp = []\n",
    "\n",
    "# for each year from 1983-1985 ... (token limit reached -> 5 per second)\n",
    "for year in range(1983, 1986):\n",
    "    year = str(year)\n",
    "    print('working on year ' + year)\n",
    "\n",
    "    # make the api call\n",
    "    r = requests.get('https://www.ncdc.noaa.gov/cdo-web/api/v2/data?datasetid=GHCND&datatypeid=WT01,WT02,WT03,WT04,WT05,WT06,WT07,WT08,WT09,WT10,WT11,WT12,WT13,WT14,WT15,WT16,WT17,WT18,WV01,WV03,WV07,WV18,WV20&limit=1000&stationid=GHCND:USW00023188&startdate=' + year + '-01-01&enddate=' + year + '-12-31', headers={'token':Token})\n",
    "    # load the api response as a json\n",
    "    d = json.loads(r.text)\n",
    "\n",
    "    # get all items in the response which are weather descriptions (1,0)\n",
    "    weather_types = ['WT01', 'WT02', 'WT03', 'WT04', 'WT05', 'WT06', 'WT07', 'WT08', 'WT09', 'WT10', 'WT11', 'WT12', 'WT13','WT14', 'WT15', 'WT16', 'WT17', 'WT18', 'WV01','WV03','WV07','WV18','WV20']\n",
    "    weather_data = {}\n",
    "    for wt in weather_types:\n",
    "        weather_data[wt] = [item for item in d['results'] if item['datatype'] == wt]\n",
    "\n",
    "        # get the date field from all readings\n",
    "        dates_temp += [item['date'] for item in weather_data[wt]]\n",
    "\n",
    "# initialize dataframe\n",
    "df_sandiego_83_85 = pd.DataFrame()\n",
    "\n",
    "# populate date and weather descriptions fields (cast string date to datetime and add other fields)\n",
    "df_sandiego_83_85['date'] = [datetime.strptime(d, \"%Y-%m-%dT%H:%M:%S\") for d in dates_temp]\n",
    "for wt in weather_types:\n",
    "    df_sandiego_83_85[wt] = [next((item['value'] for item in weather_data[wt] if item['date'] == d), None) for d in dates_temp]"
   ]
  },
  {
   "attachments": {},
   "cell_type": "markdown",
   "metadata": {},
   "source": [
    "# San Diego, CA, Data Gathering 1989 to 1993"
   ]
  },
  {
   "cell_type": "code",
   "execution_count": 238,
   "metadata": {},
   "outputs": [
    {
     "name": "stdout",
     "output_type": "stream",
     "text": [
      "working on year 1989\n",
      "working on year 1990\n",
      "working on year 1991\n",
      "working on year 1992\n",
      "working on year 1993\n"
     ]
    }
   ],
   "source": [
    "# San Diego, CA, Intl Airport station ID\n",
    "station_id = 'GHCND:USW00023188'  \n",
    "dates_temp = []\n",
    "dates_prcp = []\n",
    "temps = []\n",
    "prcp = []\n",
    "\n",
    "# for each year from 1989-1993 ... (token limit reached -> 5 per second)\n",
    "for year in range(1989, 1994):\n",
    "    year = str(year)\n",
    "    print('working on year ' + year)\n",
    "\n",
    "    # make the api call\n",
    "    r = requests.get('https://www.ncdc.noaa.gov/cdo-web/api/v2/data?datasetid=GHCND&datatypeid=WT01,WT02,WT03,WT04,WT05,WT06,WT07,WT08,WT09,WT10,WT11,WT12,WT13,WT14,WT15,WT16,WT17,WT18,WV01,WV03,WV07,WV18,WV20&limit=1000&stationid=GHCND:USW00023188&startdate=' + year + '-01-01&enddate=' + year + '-12-31', headers={'token':Token})\n",
    "    # load the api response as a json\n",
    "    d = json.loads(r.text)\n",
    "\n",
    "    # get all items in the response which are weather descriptions (1,0)\n",
    "    weather_types = ['WT01', 'WT02', 'WT03', 'WT04', 'WT05', 'WT06', 'WT07', 'WT08', 'WT09', 'WT10', 'WT11', 'WT12', 'WT13','WT14', 'WT15', 'WT16', 'WT17', 'WT18', 'WV01','WV03','WV07','WV18','WV20']\n",
    "    weather_data = {}\n",
    "    for wt in weather_types:\n",
    "        weather_data[wt] = [item for item in d['results'] if item['datatype'] == wt]\n",
    "\n",
    "        # get the date field from all readings\n",
    "        dates_temp += [item['date'] for item in weather_data[wt]]\n",
    "\n",
    "# initialize dataframe\n",
    "df_sandiego_89_93 = pd.DataFrame()\n",
    "\n",
    "# populate date and weather descriptions fields (cast string date to datetime and add other fields)\n",
    "df_sandiego_89_93['date'] = [datetime.strptime(d, \"%Y-%m-%dT%H:%M:%S\") for d in dates_temp]\n",
    "for wt in weather_types:\n",
    "    df_sandiego_89_93[wt] = [next((item['value'] for item in weather_data[wt] if item['date'] == d), None) for d in dates_temp]"
   ]
  },
  {
   "attachments": {},
   "cell_type": "markdown",
   "metadata": {},
   "source": [
    "# San Diego, CA, Data Gathering 1994 to 1998"
   ]
  },
  {
   "cell_type": "code",
   "execution_count": 239,
   "metadata": {},
   "outputs": [
    {
     "name": "stdout",
     "output_type": "stream",
     "text": [
      "working on year 1994\n",
      "working on year 1995\n",
      "working on year 1996\n",
      "working on year 1997\n",
      "working on year 1998\n"
     ]
    }
   ],
   "source": [
    "# San Diego, CA, Intl Airport station ID\n",
    "station_id = 'GHCND:USW00023188'  \n",
    "dates_temp = []\n",
    "dates_prcp = []\n",
    "temps = []\n",
    "prcp = []\n",
    "\n",
    "# for each year from 1994-1998 ... (token limit reached -> 5 per second)\n",
    "for year in range(1994, 1999):\n",
    "    year = str(year)\n",
    "    print('working on year ' + year)\n",
    "\n",
    "    # make the api call\n",
    "    r = requests.get('https://www.ncdc.noaa.gov/cdo-web/api/v2/data?datasetid=GHCND&datatypeid=WT01,WT02,WT03,WT04,WT05,WT06,WT07,WT08,WT09,WT10,WT11,WT12,WT13,WT14,WT15,WT16,WT17,WT18,WV01,WV03,WV07,WV18,WV20&limit=1000&stationid=GHCND:USW00023188&startdate=' + year + '-01-01&enddate=' + year + '-12-31', headers={'token':Token})\n",
    "    # load the api response as a json\n",
    "    d = json.loads(r.text)\n",
    "\n",
    "    # get all items in the response which are weather descriptions (1,0)\n",
    "    weather_types = ['WT01', 'WT02', 'WT03', 'WT04', 'WT05', 'WT06', 'WT07', 'WT08', 'WT09', 'WT10', 'WT11', 'WT12', 'WT13','WT14', 'WT15', 'WT16', 'WT17', 'WT18', 'WV01','WV03','WV07','WV18','WV20']\n",
    "    weather_data = {}\n",
    "    for wt in weather_types:\n",
    "        weather_data[wt] = [item for item in d['results'] if item['datatype'] == wt]\n",
    "\n",
    "        # get the date field from all readings\n",
    "        dates_temp += [item['date'] for item in weather_data[wt]]\n",
    "\n",
    "# initialize dataframe\n",
    "df_sandiego_94_98 = pd.DataFrame()\n",
    "\n",
    "# populate date and weather descriptions fields (cast string date to datetime and add other fields)\n",
    "df_sandiego_94_98['date'] = [datetime.strptime(d, \"%Y-%m-%dT%H:%M:%S\") for d in dates_temp]\n",
    "for wt in weather_types:\n",
    "    df_sandiego_94_98[wt] = [next((item['value'] for item in weather_data[wt] if item['date'] == d), None) for d in dates_temp]"
   ]
  },
  {
   "attachments": {},
   "cell_type": "markdown",
   "metadata": {},
   "source": [
    "# San Diego, CA, Data Gathering 1999 to 2003"
   ]
  },
  {
   "cell_type": "code",
   "execution_count": 240,
   "metadata": {},
   "outputs": [
    {
     "name": "stdout",
     "output_type": "stream",
     "text": [
      "working on year 1999\n",
      "working on year 2000\n",
      "working on year 2001\n",
      "working on year 2002\n",
      "working on year 2003\n"
     ]
    }
   ],
   "source": [
    "# San Diego, CA, Intl Airport station ID\n",
    "station_id = 'GHCND:USW00023188'  \n",
    "dates_temp = []\n",
    "dates_prcp = []\n",
    "temps = []\n",
    "prcp = []\n",
    "\n",
    "# for each year from 1999-2003 ... (token limit reached -> 5 per second)\n",
    "for year in range(1999, 2004):\n",
    "    year = str(year)\n",
    "    print('working on year ' + year)\n",
    "\n",
    "    # make the api call\n",
    "    r = requests.get('https://www.ncdc.noaa.gov/cdo-web/api/v2/data?datasetid=GHCND&datatypeid=WT01,WT02,WT03,WT04,WT05,WT06,WT07,WT08,WT09,WT10,WT11,WT12,WT13,WT14,WT15,WT16,WT17,WT18,WV01,WV03,WV07,WV18,WV20&limit=1000&stationid=GHCND:USW00023188&startdate=' + year + '-01-01&enddate=' + year + '-12-31', headers={'token':Token})\n",
    "    # load the api response as a json\n",
    "    d = json.loads(r.text)\n",
    "\n",
    "    # get all items in the response which are weather descriptions (1,0)\n",
    "    weather_types = ['WT01', 'WT02', 'WT03', 'WT04', 'WT05', 'WT06', 'WT07', 'WT08', 'WT09', 'WT10', 'WT11', 'WT12', 'WT13','WT14', 'WT15', 'WT16', 'WT17', 'WT18', 'WV01','WV03','WV07','WV18','WV20']\n",
    "    weather_data = {}\n",
    "    for wt in weather_types:\n",
    "        weather_data[wt] = [item for item in d['results'] if item['datatype'] == wt]\n",
    "\n",
    "        # get the date field from all readings\n",
    "        dates_temp += [item['date'] for item in weather_data[wt]]\n",
    "\n",
    "# initialize dataframe\n",
    "df_sandiego_99_03 = pd.DataFrame()\n",
    "\n",
    "# populate date and weather descriptions fields (cast string date to datetime and add other fields)\n",
    "df_sandiego_99_03['date'] = [datetime.strptime(d, \"%Y-%m-%dT%H:%M:%S\") for d in dates_temp]\n",
    "for wt in weather_types:\n",
    "    df_sandiego_99_03[wt] = [next((item['value'] for item in weather_data[wt] if item['date'] == d), None) for d in dates_temp]"
   ]
  },
  {
   "attachments": {},
   "cell_type": "markdown",
   "metadata": {},
   "source": [
    "# San Diego, CA, Data Gathering 2004 to 2008"
   ]
  },
  {
   "cell_type": "code",
   "execution_count": 241,
   "metadata": {},
   "outputs": [
    {
     "name": "stdout",
     "output_type": "stream",
     "text": [
      "working on year 2004\n",
      "working on year 2005\n",
      "working on year 2006\n",
      "working on year 2007\n",
      "working on year 2008\n"
     ]
    }
   ],
   "source": [
    "# San Diego, CA, Intl Airport station ID\n",
    "station_id = 'GHCND:USW00023188'  \n",
    "dates_temp = []\n",
    "dates_prcp = []\n",
    "temps = []\n",
    "prcp = []\n",
    "\n",
    "# for each year from 2004-2008 ... (token limit reached -> 5 per second)\n",
    "for year in range(2004, 2009):\n",
    "    year = str(year)\n",
    "    print('working on year ' + year)\n",
    "\n",
    "    # make the api call\n",
    "    r = requests.get('https://www.ncdc.noaa.gov/cdo-web/api/v2/data?datasetid=GHCND&datatypeid=WT01,WT02,WT03,WT04,WT05,WT06,WT07,WT08,WT09,WT10,WT11,WT12,WT13,WT14,WT15,WT16,WT17,WT18,WV01,WV03,WV07,WV18,WV20&limit=1000&stationid=GHCND:USW00023188&startdate=' + year + '-01-01&enddate=' + year + '-12-31', headers={'token':Token})\n",
    "    # load the api response as a json\n",
    "    d = json.loads(r.text)\n",
    "\n",
    "    # get all items in the response which are weather descriptions (1,0)\n",
    "    weather_types = ['WT01', 'WT02', 'WT03', 'WT04', 'WT05', 'WT06', 'WT07', 'WT08', 'WT09', 'WT10', 'WT11', 'WT12', 'WT13','WT14', 'WT15', 'WT16', 'WT17', 'WT18', 'WV01','WV03','WV07','WV18','WV20']\n",
    "    weather_data = {}\n",
    "    for wt in weather_types:\n",
    "        weather_data[wt] = [item for item in d['results'] if item['datatype'] == wt]\n",
    "\n",
    "        # get the date field from all readings\n",
    "        dates_temp += [item['date'] for item in weather_data[wt]]\n",
    "\n",
    "# initialize dataframe\n",
    "df_sandiego_04_08 = pd.DataFrame()\n",
    "\n",
    "# populate date and weather descriptions fields (cast string date to datetime and add other fields)\n",
    "df_sandiego_04_08['date'] = [datetime.strptime(d, \"%Y-%m-%dT%H:%M:%S\") for d in dates_temp]\n",
    "for wt in weather_types:\n",
    "    df_sandiego_04_08[wt] = [next((item['value'] for item in weather_data[wt] if item['date'] == d), None) for d in dates_temp]"
   ]
  },
  {
   "attachments": {},
   "cell_type": "markdown",
   "metadata": {},
   "source": [
    "# San Diego, CA, Data Gathering 2009 to 2013"
   ]
  },
  {
   "cell_type": "code",
   "execution_count": 242,
   "metadata": {},
   "outputs": [
    {
     "name": "stdout",
     "output_type": "stream",
     "text": [
      "working on year 2009\n",
      "working on year 2010\n",
      "working on year 2011\n",
      "working on year 2012\n",
      "working on year 2013\n"
     ]
    }
   ],
   "source": [
    "# San Diego, CA, Intl Airport station ID\n",
    "station_id = 'GHCND:USW00023188'  \n",
    "dates_temp = []\n",
    "dates_prcp = []\n",
    "temps = []\n",
    "prcp = []\n",
    "\n",
    "# for each year from 2009-2013 ... (token limit reached -> 5 per second)\n",
    "for year in range(2009, 2014):\n",
    "    year = str(year)\n",
    "    print('working on year ' + year)\n",
    "\n",
    "    # make the api call\n",
    "    r = requests.get('https://www.ncdc.noaa.gov/cdo-web/api/v2/data?datasetid=GHCND&datatypeid=WT01,WT02,WT03,WT04,WT05,WT06,WT07,WT08,WT09,WT10,WT11,WT12,WT13,WT14,WT15,WT16,WT17,WT18,WV01,WV03,WV07,WV18,WV20&limit=1000&stationid=GHCND:USW00023188&startdate=' + year + '-01-01&enddate=' + year + '-12-31', headers={'token':Token})\n",
    "    # load the api response as a json\n",
    "    d = json.loads(r.text)\n",
    "\n",
    "    # get all items in the response which are weather descriptions (1,0)\n",
    "    weather_types = ['WT01', 'WT02', 'WT03', 'WT04', 'WT05', 'WT06', 'WT07', 'WT08', 'WT09', 'WT10', 'WT11', 'WT12', 'WT13','WT14', 'WT15', 'WT16', 'WT17', 'WT18', 'WV01','WV03','WV07','WV18','WV20']\n",
    "    weather_data = {}\n",
    "    for wt in weather_types:\n",
    "        weather_data[wt] = [item for item in d['results'] if item['datatype'] == wt]\n",
    "\n",
    "        # get the date field from all readings\n",
    "        dates_temp += [item['date'] for item in weather_data[wt]]\n",
    "\n",
    "# initialize dataframe\n",
    "df_sandiego_09_13 = pd.DataFrame()\n",
    "\n",
    "# populate date and weather descriptions fields (cast string date to datetime and add other fields)\n",
    "df_sandiego_09_13['date'] = [datetime.strptime(d, \"%Y-%m-%dT%H:%M:%S\") for d in dates_temp]\n",
    "for wt in weather_types:\n",
    "    df_sandiego_09_13[wt] = [next((item['value'] for item in weather_data[wt] if item['date'] == d), None) for d in dates_temp]"
   ]
  },
  {
   "attachments": {},
   "cell_type": "markdown",
   "metadata": {},
   "source": [
    "# San Diego, CA, Data Gathering 2014 to 2018"
   ]
  },
  {
   "cell_type": "code",
   "execution_count": 243,
   "metadata": {},
   "outputs": [
    {
     "name": "stdout",
     "output_type": "stream",
     "text": [
      "working on year 2014\n",
      "working on year 2015\n",
      "working on year 2016\n",
      "working on year 2017\n",
      "working on year 2018\n"
     ]
    }
   ],
   "source": [
    "# San Diego, CA, Intl Airport station ID\n",
    "station_id = 'GHCND:USW00023188'  \n",
    "dates_temp = []\n",
    "dates_prcp = []\n",
    "temps = []\n",
    "prcp = []\n",
    "\n",
    "# for each year from 2014-2018 ... (token limit reached -> 5 per second)\n",
    "for year in range(2014, 2019):\n",
    "    year = str(year)\n",
    "    print('working on year ' + year)\n",
    "\n",
    "    # make the api call\n",
    "    r = requests.get('https://www.ncdc.noaa.gov/cdo-web/api/v2/data?datasetid=GHCND&datatypeid=WT01,WT02,WT03,WT04,WT05,WT06,WT07,WT08,WT09,WT10,WT11,WT12,WT13,WT14,WT15,WT16,WT17,WT18,WV01,WV03,WV07,WV18,WV20&limit=1000&stationid=GHCND:USW00023188&startdate=' + year + '-01-01&enddate=' + year + '-12-31', headers={'token':Token})\n",
    "    # load the api response as a json\n",
    "    d = json.loads(r.text)\n",
    "\n",
    "    # get all items in the response which are weather descriptions (1,0)\n",
    "    weather_types = ['WT01', 'WT02', 'WT03', 'WT04', 'WT05', 'WT06', 'WT07', 'WT08', 'WT09', 'WT10', 'WT11', 'WT12', 'WT13','WT14', 'WT15', 'WT16', 'WT17', 'WT18', 'WV01','WV03','WV07','WV18','WV20']\n",
    "    weather_data = {}\n",
    "    for wt in weather_types:\n",
    "        weather_data[wt] = [item for item in d['results'] if item['datatype'] == wt]\n",
    "\n",
    "        # get the date field from all readings\n",
    "        dates_temp += [item['date'] for item in weather_data[wt]]\n",
    "\n",
    "# initialize dataframe\n",
    "df_sandiego_14_18 = pd.DataFrame()\n",
    "\n",
    "# populate date and weather descriptions fields (cast string date to datetime and add other fields)\n",
    "df_sandiego_14_18['date'] = [datetime.strptime(d, \"%Y-%m-%dT%H:%M:%S\") for d in dates_temp]\n",
    "for wt in weather_types:\n",
    "    df_sandiego_14_18[wt] = [next((item['value'] for item in weather_data[wt] if item['date'] == d), None) for d in dates_temp]"
   ]
  },
  {
   "attachments": {},
   "cell_type": "markdown",
   "metadata": {},
   "source": [
    "# San Diego, CA, Data Gathering 2019 to 2022"
   ]
  },
  {
   "cell_type": "code",
   "execution_count": 244,
   "metadata": {},
   "outputs": [
    {
     "name": "stdout",
     "output_type": "stream",
     "text": [
      "working on year 2019\n",
      "working on year 2020\n",
      "working on year 2021\n",
      "working on year 2022\n"
     ]
    }
   ],
   "source": [
    "# San Diego, CA, Intl Airport station ID\n",
    "station_id = 'GHCND:USW00023188'  \n",
    "dates_temp = []\n",
    "dates_prcp = []\n",
    "temps = []\n",
    "prcp = []\n",
    "\n",
    "# for each year from 2019-2022 ... (token limit reached -> 5 per second)\n",
    "for year in range(2019, 2023):\n",
    "    year = str(year)\n",
    "    print('working on year ' + year)\n",
    "\n",
    "    # make the api call\n",
    "    r = requests.get('https://www.ncdc.noaa.gov/cdo-web/api/v2/data?datasetid=GHCND&datatypeid=WT01,WT02,WT03,WT04,WT05,WT06,WT07,WT08,WT09,WT10,WT11,WT12,WT13,WT14,WT15,WT16,WT17,WT18,WV01,WV03,WV07,WV18,WV20&limit=1000&stationid=GHCND:USW00023188&startdate=' + year + '-01-01&enddate=' + year + '-12-31', headers={'token':Token})\n",
    "    # load the api response as a json\n",
    "    d = json.loads(r.text)\n",
    "\n",
    "    # get all items in the response which are weather descriptions (1,0)\n",
    "    weather_types = ['WT01', 'WT02', 'WT03', 'WT04', 'WT05', 'WT06', 'WT07', 'WT08', 'WT09', 'WT10', 'WT11', 'WT12', 'WT13','WT14', 'WT15', 'WT16', 'WT17', 'WT18', 'WV01','WV03','WV07','WV18','WV20']\n",
    "    weather_data = {}\n",
    "    for wt in weather_types:\n",
    "        weather_data[wt] = [item for item in d['results'] if item['datatype'] == wt]\n",
    "\n",
    "        # get the date field from all readings\n",
    "        dates_temp += [item['date'] for item in weather_data[wt]]\n",
    "\n",
    "# initialize dataframe\n",
    "df_sandiego_19_22 = pd.DataFrame()\n",
    "\n",
    "# populate date and weather descriptions fields (cast string date to datetime and add other fields)\n",
    "df_sandiego_19_22['date'] = [datetime.strptime(d, \"%Y-%m-%dT%H:%M:%S\") for d in dates_temp]\n",
    "for wt in weather_types:\n",
    "    df_sandiego_19_22[wt] = [next((item['value'] for item in weather_data[wt] if item['date'] == d), None) for d in dates_temp]"
   ]
  },
  {
   "attachments": {},
   "cell_type": "markdown",
   "metadata": {},
   "source": [
    "# Concatenate all San Diego, CA, dataframes"
   ]
  },
  {
   "cell_type": "code",
   "execution_count": 245,
   "metadata": {},
   "outputs": [],
   "source": [
    "# concatenate all San Diego, CA, dataframes\n",
    "df_sandiego = pd.concat([df_sandiego_83_85, df_sandiego_89_93, df_sandiego_94_98, df_sandiego_99_03, df_sandiego_04_08, df_sandiego_09_13, df_sandiego_14_18, df_sandiego_19_22], ignore_index=True)\n",
    "df_sandiego.to_csv('../data/Weather/df_sandiego_api.csv', index=False)"
   ]
  },
  {
   "attachments": {},
   "cell_type": "markdown",
   "metadata": {},
   "source": [
    "# Tucson, AZ, Data Gathering 1988-1992"
   ]
  },
  {
   "cell_type": "code",
   "execution_count": 248,
   "metadata": {},
   "outputs": [
    {
     "name": "stdout",
     "output_type": "stream",
     "text": [
      "working on year 1988\n",
      "working on year 1989\n",
      "working on year 1990\n",
      "working on year 1991\n",
      "working on year 1992\n"
     ]
    }
   ],
   "source": [
    "# Tucson, AZ, Intl Airport station ID\n",
    "station_id = 'GHCND:USW00023160'  \n",
    "dates_temp = []\n",
    "dates_prcp = []\n",
    "temps = []\n",
    "prcp = []\n",
    "\n",
    "# for each year from 1988-1992 ... (token limit reached -> 5 per second)\n",
    "for year in range(1988, 1993):\n",
    "    year = str(year)\n",
    "    print('working on year ' + year)\n",
    "\n",
    "    # make the api call\n",
    "    r = requests.get('https://www.ncdc.noaa.gov/cdo-web/api/v2/data?datasetid=GHCND&datatypeid=WT01,WT02,WT03,WT04,WT05,WT06,WT07,WT08,WT09,WT10,WT11,WT12,WT13,WT14,WT15,WT16,WT17,WT18,WV01,WV03,WV07,WV18,WV20&limit=1000&stationid=GHCND:USW00023160&startdate=' + year + '-01-01&enddate=' + year + '-12-31', headers={'token':Token})\n",
    "    # load the api response as a json\n",
    "    d = json.loads(r.text)\n",
    "\n",
    "    # get all items in the response which are weather descriptions (1,0)\n",
    "    weather_types = ['WT01', 'WT02', 'WT03', 'WT04', 'WT05', 'WT06', 'WT07', 'WT08', 'WT09', 'WT10', 'WT11', 'WT12', 'WT13','WT14', 'WT15', 'WT16', 'WT17', 'WT18', 'WV01','WV03','WV07','WV18','WV20']\n",
    "    weather_data = {}\n",
    "    for wt in weather_types:\n",
    "        weather_data[wt] = [item for item in d['results'] if item['datatype'] == wt]\n",
    "\n",
    "        # get the date field from all readings\n",
    "        dates_temp += [item['date'] for item in weather_data[wt]]\n",
    "\n",
    "# initialize dataframe\n",
    "df_tucson_88_92 = pd.DataFrame()\n",
    "\n",
    "# populate date and weather descriptions fields (cast string date to datetime and add other fields)\n",
    "df_tucson_88_92['date'] = [datetime.strptime(d, \"%Y-%m-%dT%H:%M:%S\") for d in dates_temp]\n",
    "for wt in weather_types:\n",
    "    df_tucson_88_92[wt] = [next((item['value'] for item in weather_data[wt] if item['date'] == d), None) for d in dates_temp]"
   ]
  },
  {
   "attachments": {},
   "cell_type": "markdown",
   "metadata": {},
   "source": [
    "# Tucson, AZ, Data Gathering 1993-1997"
   ]
  },
  {
   "cell_type": "code",
   "execution_count": 249,
   "metadata": {},
   "outputs": [
    {
     "name": "stdout",
     "output_type": "stream",
     "text": [
      "working on year 1993\n",
      "working on year 1994\n",
      "working on year 1995\n",
      "working on year 1996\n",
      "working on year 1997\n"
     ]
    }
   ],
   "source": [
    "# Tucson, AZ, Intl Airport station ID\n",
    "station_id = 'GHCND:USW00023160'  \n",
    "dates_temp = []\n",
    "dates_prcp = []\n",
    "temps = []\n",
    "prcp = []\n",
    "\n",
    "# for each year from 1993-1997 ... (token limit reached -> 5 per second)\n",
    "for year in range(1993, 1998):\n",
    "    year = str(year)\n",
    "    print('working on year ' + year)\n",
    "\n",
    "    # make the api call\n",
    "    r = requests.get('https://www.ncdc.noaa.gov/cdo-web/api/v2/data?datasetid=GHCND&datatypeid=WT01,WT02,WT03,WT04,WT05,WT06,WT07,WT08,WT09,WT10,WT11,WT12,WT13,WT14,WT15,WT16,WT17,WT18,WV01,WV03,WV07,WV18,WV20&limit=1000&stationid=GHCND:USW00023160&startdate=' + year + '-01-01&enddate=' + year + '-12-31', headers={'token':Token})\n",
    "    # load the api response as a json\n",
    "    d = json.loads(r.text)\n",
    "\n",
    "    # get all items in the response which are weather descriptions (1,0)\n",
    "    weather_types = ['WT01', 'WT02', 'WT03', 'WT04', 'WT05', 'WT06', 'WT07', 'WT08', 'WT09', 'WT10', 'WT11', 'WT12', 'WT13','WT14', 'WT15', 'WT16', 'WT17', 'WT18', 'WV01','WV03','WV07','WV18','WV20']\n",
    "    weather_data = {}\n",
    "    for wt in weather_types:\n",
    "        weather_data[wt] = [item for item in d['results'] if item['datatype'] == wt]\n",
    "\n",
    "        # get the date field from all readings\n",
    "        dates_temp += [item['date'] for item in weather_data[wt]]\n",
    "\n",
    "# initialize dataframe\n",
    "df_tucson_93_97 = pd.DataFrame()\n",
    "\n",
    "# populate date and weather descriptions fields (cast string date to datetime and add other fields)\n",
    "df_tucson_93_97['date'] = [datetime.strptime(d, \"%Y-%m-%dT%H:%M:%S\") for d in dates_temp]\n",
    "for wt in weather_types:\n",
    "    df_tucson_93_97[wt] = [next((item['value'] for item in weather_data[wt] if item['date'] == d), None) for d in dates_temp]"
   ]
  },
  {
   "attachments": {},
   "cell_type": "markdown",
   "metadata": {},
   "source": [
    "# Tucson, AZ, Data Gathering 1998-2002"
   ]
  },
  {
   "cell_type": "code",
   "execution_count": 251,
   "metadata": {},
   "outputs": [
    {
     "name": "stdout",
     "output_type": "stream",
     "text": [
      "working on year 1998\n",
      "working on year 1999\n",
      "working on year 2000\n",
      "working on year 2001\n",
      "working on year 2002\n"
     ]
    }
   ],
   "source": [
    "# Tucson, AZ, Intl Airport station ID\n",
    "station_id = 'GHCND:USW00023160'  \n",
    "dates_temp = []\n",
    "dates_prcp = []\n",
    "temps = []\n",
    "prcp = []\n",
    "\n",
    "# for each year from 1998-2002 ... (token limit reached -> 5 per second)\n",
    "for year in range(1998, 2003):\n",
    "    year = str(year)\n",
    "    print('working on year ' + year)\n",
    "\n",
    "    # make the api call\n",
    "    r = requests.get('https://www.ncdc.noaa.gov/cdo-web/api/v2/data?datasetid=GHCND&datatypeid=WT01,WT02,WT03,WT04,WT05,WT06,WT07,WT08,WT09,WT10,WT11,WT12,WT13,WT14,WT15,WT16,WT17,WT18,WV01,WV03,WV07,WV18,WV20&limit=1000&stationid=GHCND:USW00023160&startdate=' + year + '-01-01&enddate=' + year + '-12-31', headers={'token':Token})\n",
    "    # load the api response as a json\n",
    "    d = json.loads(r.text)\n",
    "\n",
    "    # get all items in the response which are weather descriptions (1,0)\n",
    "    weather_types = ['WT01', 'WT02', 'WT03', 'WT04', 'WT05', 'WT06', 'WT07', 'WT08', 'WT09', 'WT10', 'WT11', 'WT12', 'WT13','WT14', 'WT15', 'WT16', 'WT17', 'WT18', 'WV01','WV03','WV07','WV18','WV20']\n",
    "    weather_data = {}\n",
    "    for wt in weather_types:\n",
    "        weather_data[wt] = [item for item in d['results'] if item['datatype'] == wt]\n",
    "\n",
    "        # get the date field from all readings\n",
    "        dates_temp += [item['date'] for item in weather_data[wt]]\n",
    "\n",
    "# initialize dataframe\n",
    "df_tucson_98_02 = pd.DataFrame()\n",
    "\n",
    "# populate date and weather descriptions fields (cast string date to datetime and add other fields)\n",
    "df_tucson_98_02['date'] = [datetime.strptime(d, \"%Y-%m-%dT%H:%M:%S\") for d in dates_temp]\n",
    "for wt in weather_types:\n",
    "    df_tucson_98_02[wt] = [next((item['value'] for item in weather_data[wt] if item['date'] == d), None) for d in dates_temp]"
   ]
  },
  {
   "attachments": {},
   "cell_type": "markdown",
   "metadata": {},
   "source": [
    "# Tucson, AZ, Data Gathering 2003-2007"
   ]
  },
  {
   "cell_type": "code",
   "execution_count": 252,
   "metadata": {},
   "outputs": [
    {
     "name": "stdout",
     "output_type": "stream",
     "text": [
      "working on year 2003\n",
      "working on year 2004\n",
      "working on year 2005\n",
      "working on year 2006\n",
      "working on year 2007\n"
     ]
    }
   ],
   "source": [
    "# Tucson, AZ, Intl Airport station ID\n",
    "station_id = 'GHCND:USW00023160'  \n",
    "dates_temp = []\n",
    "dates_prcp = []\n",
    "temps = []\n",
    "prcp = []\n",
    "\n",
    "# for each year from 2003-2007 ... (token limit reached -> 5 per second)\n",
    "for year in range(2003, 2008):\n",
    "    year = str(year)\n",
    "    print('working on year ' + year)\n",
    "\n",
    "    # make the api call\n",
    "    r = requests.get('https://www.ncdc.noaa.gov/cdo-web/api/v2/data?datasetid=GHCND&datatypeid=WT01,WT02,WT03,WT04,WT05,WT06,WT07,WT08,WT09,WT10,WT11,WT12,WT13,WT14,WT15,WT16,WT17,WT18,WV01,WV03,WV07,WV18,WV20&limit=1000&stationid=GHCND:USW00023160&startdate=' + year + '-01-01&enddate=' + year + '-12-31', headers={'token':Token})\n",
    "    # load the api response as a json\n",
    "    d = json.loads(r.text)\n",
    "\n",
    "    # get all items in the response which are weather descriptions (1,0)\n",
    "    weather_types = ['WT01', 'WT02', 'WT03', 'WT04', 'WT05', 'WT06', 'WT07', 'WT08', 'WT09', 'WT10', 'WT11', 'WT12', 'WT13','WT14', 'WT15', 'WT16', 'WT17', 'WT18', 'WV01','WV03','WV07','WV18','WV20']\n",
    "    weather_data = {}\n",
    "    for wt in weather_types:\n",
    "        weather_data[wt] = [item for item in d['results'] if item['datatype'] == wt]\n",
    "\n",
    "        # get the date field from all readings\n",
    "        dates_temp += [item['date'] for item in weather_data[wt]]\n",
    "\n",
    "# initialize dataframe\n",
    "df_tucson_03_07 = pd.DataFrame()\n",
    "\n",
    "# populate date and weather descriptions fields (cast string date to datetime and add other fields)\n",
    "df_tucson_03_07['date'] = [datetime.strptime(d, \"%Y-%m-%dT%H:%M:%S\") for d in dates_temp]\n",
    "for wt in weather_types:\n",
    "    df_tucson_03_07[wt] = [next((item['value'] for item in weather_data[wt] if item['date'] == d), None) for d in dates_temp]"
   ]
  },
  {
   "attachments": {},
   "cell_type": "markdown",
   "metadata": {},
   "source": [
    "# Tucson, AZ, Data Gathering 2008-2012"
   ]
  },
  {
   "cell_type": "code",
   "execution_count": 253,
   "metadata": {},
   "outputs": [
    {
     "name": "stdout",
     "output_type": "stream",
     "text": [
      "working on year 2008\n",
      "working on year 2009\n",
      "working on year 2010\n",
      "working on year 2011\n",
      "working on year 2012\n"
     ]
    }
   ],
   "source": [
    "# Tucson, AZ, Intl Airport station ID\n",
    "station_id = 'GHCND:USW00023160'  \n",
    "dates_temp = []\n",
    "dates_prcp = []\n",
    "temps = []\n",
    "prcp = []\n",
    "\n",
    "# for each year from 2008-2012 ... (token limit reached -> 5 per second)\n",
    "for year in range(2008, 2013):\n",
    "    year = str(year)\n",
    "    print('working on year ' + year)\n",
    "\n",
    "    # make the api call\n",
    "    r = requests.get('https://www.ncdc.noaa.gov/cdo-web/api/v2/data?datasetid=GHCND&datatypeid=WT01,WT02,WT03,WT04,WT05,WT06,WT07,WT08,WT09,WT10,WT11,WT12,WT13,WT14,WT15,WT16,WT17,WT18,WV01,WV03,WV07,WV18,WV20&limit=1000&stationid=GHCND:USW00023160&startdate=' + year + '-01-01&enddate=' + year + '-12-31', headers={'token':Token})\n",
    "    # load the api response as a json\n",
    "    d = json.loads(r.text)\n",
    "\n",
    "    # get all items in the response which are weather descriptions (1,0)\n",
    "    weather_types = ['WT01', 'WT02', 'WT03', 'WT04', 'WT05', 'WT06', 'WT07', 'WT08', 'WT09', 'WT10', 'WT11', 'WT12', 'WT13','WT14', 'WT15', 'WT16', 'WT17', 'WT18', 'WV01','WV03','WV07','WV18','WV20']\n",
    "    weather_data = {}\n",
    "    for wt in weather_types:\n",
    "        weather_data[wt] = [item for item in d['results'] if item['datatype'] == wt]\n",
    "\n",
    "        # get the date field from all readings\n",
    "        dates_temp += [item['date'] for item in weather_data[wt]]\n",
    "\n",
    "# initialize dataframe\n",
    "df_tucson_08_12 = pd.DataFrame()\n",
    "\n",
    "# populate date and weather descriptions fields (cast string date to datetime and add other fields)\n",
    "df_tucson_08_12['date'] = [datetime.strptime(d, \"%Y-%m-%dT%H:%M:%S\") for d in dates_temp]\n",
    "for wt in weather_types:\n",
    "    df_tucson_08_12[wt] = [next((item['value'] for item in weather_data[wt] if item['date'] == d), None) for d in dates_temp]"
   ]
  },
  {
   "attachments": {},
   "cell_type": "markdown",
   "metadata": {},
   "source": [
    "# Tucson, AZ, Data Gathering 2013-2017"
   ]
  },
  {
   "cell_type": "code",
   "execution_count": 254,
   "metadata": {},
   "outputs": [
    {
     "name": "stdout",
     "output_type": "stream",
     "text": [
      "working on year 2013\n",
      "working on year 2014\n",
      "working on year 2015\n",
      "working on year 2016\n",
      "working on year 2017\n"
     ]
    }
   ],
   "source": [
    "# Tucson, AZ, Intl Airport station ID\n",
    "station_id = 'GHCND:USW00023160'  \n",
    "dates_temp = []\n",
    "dates_prcp = []\n",
    "temps = []\n",
    "prcp = []\n",
    "\n",
    "# for each year from 2013-2017 ... (token limit reached -> 5 per second)\n",
    "for year in range(2013, 2018):\n",
    "    year = str(year)\n",
    "    print('working on year ' + year)\n",
    "\n",
    "    # make the api call\n",
    "    r = requests.get('https://www.ncdc.noaa.gov/cdo-web/api/v2/data?datasetid=GHCND&datatypeid=WT01,WT02,WT03,WT04,WT05,WT06,WT07,WT08,WT09,WT10,WT11,WT12,WT13,WT14,WT15,WT16,WT17,WT18,WV01,WV03,WV07,WV18,WV20&limit=1000&stationid=GHCND:USW00023160&startdate=' + year + '-01-01&enddate=' + year + '-12-31', headers={'token':Token})\n",
    "    # load the api response as a json\n",
    "    d = json.loads(r.text)\n",
    "\n",
    "    # get all items in the response which are weather descriptions (1,0)\n",
    "    weather_types = ['WT01', 'WT02', 'WT03', 'WT04', 'WT05', 'WT06', 'WT07', 'WT08', 'WT09', 'WT10', 'WT11', 'WT12', 'WT13','WT14', 'WT15', 'WT16', 'WT17', 'WT18', 'WV01','WV03','WV07','WV18','WV20']\n",
    "    weather_data = {}\n",
    "    for wt in weather_types:\n",
    "        weather_data[wt] = [item for item in d['results'] if item['datatype'] == wt]\n",
    "\n",
    "        # get the date field from all readings\n",
    "        dates_temp += [item['date'] for item in weather_data[wt]]\n",
    "\n",
    "# initialize dataframe\n",
    "df_tucson_13_17 = pd.DataFrame()\n",
    "\n",
    "# populate date and weather descriptions fields (cast string date to datetime and add other fields)\n",
    "df_tucson_13_17['date'] = [datetime.strptime(d, \"%Y-%m-%dT%H:%M:%S\") for d in dates_temp]\n",
    "for wt in weather_types:\n",
    "    df_tucson_13_17[wt] = [next((item['value'] for item in weather_data[wt] if item['date'] == d), None) for d in dates_temp]"
   ]
  },
  {
   "attachments": {},
   "cell_type": "markdown",
   "metadata": {},
   "source": [
    "# Tucson, AZ, Data Gathering 2018-2022"
   ]
  },
  {
   "cell_type": "code",
   "execution_count": 255,
   "metadata": {},
   "outputs": [
    {
     "name": "stdout",
     "output_type": "stream",
     "text": [
      "working on year 2018\n",
      "working on year 2019\n",
      "working on year 2020\n",
      "working on year 2021\n",
      "working on year 2022\n"
     ]
    }
   ],
   "source": [
    "# Tucson, AZ, Intl Airport station ID\n",
    "station_id = 'GHCND:USW00023160'  \n",
    "dates_temp = []\n",
    "dates_prcp = []\n",
    "temps = []\n",
    "prcp = []\n",
    "\n",
    "# for each year from 2018-2022 ... (token limit reached -> 5 per second)\n",
    "for year in range(2018, 2023):\n",
    "    year = str(year)\n",
    "    print('working on year ' + year)\n",
    "\n",
    "    # make the api call\n",
    "    r = requests.get('https://www.ncdc.noaa.gov/cdo-web/api/v2/data?datasetid=GHCND&datatypeid=WT01,WT02,WT03,WT04,WT05,WT06,WT07,WT08,WT09,WT10,WT11,WT12,WT13,WT14,WT15,WT16,WT17,WT18,WV01,WV03,WV07,WV18,WV20&limit=1000&stationid=GHCND:USW00023160&startdate=' + year + '-01-01&enddate=' + year + '-12-31', headers={'token':Token})\n",
    "    # load the api response as a json\n",
    "    d = json.loads(r.text)\n",
    "\n",
    "    # get all items in the response which are weather descriptions (1,0)\n",
    "    weather_types = ['WT01', 'WT02', 'WT03', 'WT04', 'WT05', 'WT06', 'WT07', 'WT08', 'WT09', 'WT10', 'WT11', 'WT12', 'WT13','WT14', 'WT15', 'WT16', 'WT17', 'WT18', 'WV01','WV03','WV07','WV18','WV20']\n",
    "    weather_data = {}\n",
    "    for wt in weather_types:\n",
    "        weather_data[wt] = [item for item in d['results'] if item['datatype'] == wt]\n",
    "\n",
    "        # get the date field from all readings\n",
    "        dates_temp += [item['date'] for item in weather_data[wt]]\n",
    "\n",
    "# initialize dataframe\n",
    "df_tucson_18_22 = pd.DataFrame()\n",
    "\n",
    "# populate date and weather descriptions fields (cast string date to datetime and add other fields)\n",
    "df_tucson_18_22['date'] = [datetime.strptime(d, \"%Y-%m-%dT%H:%M:%S\") for d in dates_temp]\n",
    "for wt in weather_types:\n",
    "    df_tucson_18_22[wt] = [next((item['value'] for item in weather_data[wt] if item['date'] == d), None) for d in dates_temp]"
   ]
  },
  {
   "attachments": {},
   "cell_type": "markdown",
   "metadata": {},
   "source": [
    "# Concatenate all Tucson, AZ, dataframes"
   ]
  },
  {
   "cell_type": "code",
   "execution_count": 256,
   "metadata": {},
   "outputs": [],
   "source": [
    "# concatenate all Tucson, AZ, dataframes\n",
    "df_tucson = pd.concat([df_tucson_88_92, df_tucson_93_97, df_tucson_98_02, df_tucson_03_07, df_tucson_08_12, df_tucson_13_17, df_tucson_18_22], ignore_index=True)\n",
    "df_tucson.to_csv('../data/Weather/df_tucson_api.csv', index=False)"
   ]
  },
  {
   "attachments": {},
   "cell_type": "markdown",
   "metadata": {},
   "source": [
    "# Seattle, WA, Data Gathering 1982-1987"
   ]
  },
  {
   "cell_type": "code",
   "execution_count": 257,
   "metadata": {},
   "outputs": [
    {
     "name": "stdout",
     "output_type": "stream",
     "text": [
      "working on year 1982\n",
      "working on year 1983\n",
      "working on year 1984\n",
      "working on year 1985\n",
      "working on year 1986\n",
      "working on year 1987\n"
     ]
    }
   ],
   "source": [
    "# Seattle Tacoma Intl Airport station ID\n",
    "station_id = 'GHCND:USW00024233'  \n",
    "dates_temp = []\n",
    "dates_prcp = []\n",
    "temps = []\n",
    "prcp = []\n",
    "\n",
    "# for each year from 1982-1987 ... (token limit reached -> 5 per second)\n",
    "for year in range(1982, 1988):\n",
    "    year = str(year)\n",
    "    print('working on year ' + year)\n",
    "\n",
    "    # make the api call\n",
    "    r = requests.get('https://www.ncdc.noaa.gov/cdo-web/api/v2/data?datasetid=GHCND&datatypeid=WT01,WT02,WT03,WT04,WT05,WT06,WT07,WT08,WT09,WT10,WT11,WT12,WT13,WT14,WT15,WT16,WT17,WT18,WV01,WV03,WV07,WV18,WV20&limit=1000&stationid=GHCND:USW00024233&startdate=' + year + '-01-01&enddate=' + year + '-12-31', headers={'token':Token})\n",
    "    # load the api response as a json\n",
    "    d = json.loads(r.text)\n",
    "\n",
    "    # get all items in the response which are weather descriptions (1,0)\n",
    "    weather_types = ['WT01', 'WT02', 'WT03', 'WT04', 'WT05', 'WT06', 'WT07', 'WT08', 'WT09', 'WT10', 'WT11', 'WT12', 'WT13','WT14', 'WT15', 'WT16', 'WT17', 'WT18', 'WV01','WV03','WV07','WV18','WV20']\n",
    "    weather_data = {}\n",
    "    for wt in weather_types:\n",
    "        weather_data[wt] = [item for item in d['results'] if item['datatype'] == wt]\n",
    "\n",
    "        # get the date field from all readings\n",
    "        dates_temp += [item['date'] for item in weather_data[wt]]\n",
    "\n",
    "# initialize dataframe\n",
    "df_seattle_82_87 = pd.DataFrame()\n",
    "\n",
    "# populate date and weather descriptions fields (cast string date to datetime and add other fields)\n",
    "df_seattle_82_87['date'] = [datetime.strptime(d, \"%Y-%m-%dT%H:%M:%S\") for d in dates_temp]\n",
    "for wt in weather_types:\n",
    "    df_seattle_82_87[wt] = [next((item['value'] for item in weather_data[wt] if item['date'] == d), None) for d in dates_temp]"
   ]
  },
  {
   "attachments": {},
   "cell_type": "markdown",
   "metadata": {},
   "source": [
    "# Seattle, WA, Data Gathering 1992-1997"
   ]
  },
  {
   "cell_type": "code",
   "execution_count": 258,
   "metadata": {},
   "outputs": [
    {
     "name": "stdout",
     "output_type": "stream",
     "text": [
      "working on year 1992\n",
      "working on year 1993\n",
      "working on year 1994\n",
      "working on year 1995\n",
      "working on year 1996\n",
      "working on year 1997\n"
     ]
    }
   ],
   "source": [
    "# Seattle Tacoma Intl Airport station ID\n",
    "station_id = 'GHCND:USW00024233'  \n",
    "dates_temp = []\n",
    "dates_prcp = []\n",
    "temps = []\n",
    "prcp = []\n",
    "\n",
    "# for each year from 1992-1997 ... (token limit reached -> 5 per second)\n",
    "for year in range(1992, 1998):\n",
    "    year = str(year)\n",
    "    print('working on year ' + year)\n",
    "\n",
    "    # make the api call\n",
    "    r = requests.get('https://www.ncdc.noaa.gov/cdo-web/api/v2/data?datasetid=GHCND&datatypeid=WT01,WT02,WT03,WT04,WT05,WT06,WT07,WT08,WT09,WT10,WT11,WT12,WT13,WT14,WT15,WT16,WT17,WT18,WV01,WV03,WV07,WV18,WV20&limit=1000&stationid=GHCND:USW00024233&startdate=' + year + '-01-01&enddate=' + year + '-12-31', headers={'token':Token})\n",
    "    # load the api response as a json\n",
    "    d = json.loads(r.text)\n",
    "\n",
    "    # get all items in the response which are weather descriptions (1,0)\n",
    "    weather_types = ['WT01', 'WT02', 'WT03', 'WT04', 'WT05', 'WT06', 'WT07', 'WT08', 'WT09', 'WT10', 'WT11', 'WT12', 'WT13','WT14', 'WT15', 'WT16', 'WT17', 'WT18', 'WV01','WV03','WV07','WV18','WV20']\n",
    "    weather_data = {}\n",
    "    for wt in weather_types:\n",
    "        weather_data[wt] = [item for item in d['results'] if item['datatype'] == wt]\n",
    "\n",
    "        # get the date field from all readings\n",
    "        dates_temp += [item['date'] for item in weather_data[wt]]\n",
    "\n",
    "# initialize dataframe\n",
    "df_seattle_92_97 = pd.DataFrame()\n",
    "\n",
    "# populate date and weather descriptions fields (cast string date to datetime and add other fields)\n",
    "df_seattle_92_97['date'] = [datetime.strptime(d, \"%Y-%m-%dT%H:%M:%S\") for d in dates_temp]\n",
    "for wt in weather_types:\n",
    "    df_seattle_92_97[wt] = [next((item['value'] for item in weather_data[wt] if item['date'] == d), None) for d in dates_temp]"
   ]
  },
  {
   "attachments": {},
   "cell_type": "markdown",
   "metadata": {},
   "source": [
    "# Seattle, WA, Data Gathering 1998-2003"
   ]
  },
  {
   "cell_type": "code",
   "execution_count": 259,
   "metadata": {},
   "outputs": [
    {
     "name": "stdout",
     "output_type": "stream",
     "text": [
      "working on year 1998\n",
      "working on year 1999\n",
      "working on year 2000\n",
      "working on year 2001\n",
      "working on year 2002\n",
      "working on year 2003\n"
     ]
    }
   ],
   "source": [
    "# Seattle Tacoma Intl Airport station ID\n",
    "station_id = 'GHCND:USW00024233'  \n",
    "dates_temp = []\n",
    "dates_prcp = []\n",
    "temps = []\n",
    "prcp = []\n",
    "\n",
    "# for each year from 1998-2003 ... (token limit reached -> 5 per second)\n",
    "for year in range(1998, 2004):\n",
    "    year = str(year)\n",
    "    print('working on year ' + year)\n",
    "\n",
    "    # make the api call\n",
    "    r = requests.get('https://www.ncdc.noaa.gov/cdo-web/api/v2/data?datasetid=GHCND&datatypeid=WT01,WT02,WT03,WT04,WT05,WT06,WT07,WT08,WT09,WT10,WT11,WT12,WT13,WT14,WT15,WT16,WT17,WT18,WV01,WV03,WV07,WV18,WV20&limit=1000&stationid=GHCND:USW00024233&startdate=' + year + '-01-01&enddate=' + year + '-12-31', headers={'token':Token})\n",
    "    # load the api response as a json\n",
    "    d = json.loads(r.text)\n",
    "\n",
    "    # get all items in the response which are weather descriptions (1,0)\n",
    "    weather_types = ['WT01', 'WT02', 'WT03', 'WT04', 'WT05', 'WT06', 'WT07', 'WT08', 'WT09', 'WT10', 'WT11', 'WT12', 'WT13','WT14', 'WT15', 'WT16', 'WT17', 'WT18', 'WV01','WV03','WV07','WV18','WV20']\n",
    "    weather_data = {}\n",
    "    for wt in weather_types:\n",
    "        weather_data[wt] = [item for item in d['results'] if item['datatype'] == wt]\n",
    "\n",
    "        # get the date field from all readings\n",
    "        dates_temp += [item['date'] for item in weather_data[wt]]\n",
    "\n",
    "# initialize dataframe\n",
    "df_seattle_98_03 = pd.DataFrame()\n",
    "\n",
    "# populate date and weather descriptions fields (cast string date to datetime and add other fields)\n",
    "df_seattle_98_03['date'] = [datetime.strptime(d, \"%Y-%m-%dT%H:%M:%S\") for d in dates_temp]\n",
    "for wt in weather_types:\n",
    "    df_seattle_98_03[wt] = [next((item['value'] for item in weather_data[wt] if item['date'] == d), None) for d in dates_temp]"
   ]
  },
  {
   "attachments": {},
   "cell_type": "markdown",
   "metadata": {},
   "source": [
    "# Seattle, WA, Data Gathering 2004-2008"
   ]
  },
  {
   "cell_type": "code",
   "execution_count": 260,
   "metadata": {},
   "outputs": [
    {
     "name": "stdout",
     "output_type": "stream",
     "text": [
      "working on year 2004\n",
      "working on year 2005\n",
      "working on year 2006\n",
      "working on year 2007\n",
      "working on year 2008\n"
     ]
    }
   ],
   "source": [
    "# Seattle Tacoma Intl Airport station ID\n",
    "station_id = 'GHCND:USW00024233'  \n",
    "dates_temp = []\n",
    "dates_prcp = []\n",
    "temps = []\n",
    "prcp = []\n",
    "\n",
    "# for each year from 2004-2008 ... (token limit reached -> 5 per second)\n",
    "for year in range(2004, 2009):\n",
    "    year = str(year)\n",
    "    print('working on year ' + year)\n",
    "\n",
    "    # make the api call\n",
    "    r = requests.get('https://www.ncdc.noaa.gov/cdo-web/api/v2/data?datasetid=GHCND&datatypeid=WT01,WT02,WT03,WT04,WT05,WT06,WT07,WT08,WT09,WT10,WT11,WT12,WT13,WT14,WT15,WT16,WT17,WT18,WV01,WV03,WV07,WV18,WV20&limit=1000&stationid=GHCND:USW00024233&startdate=' + year + '-01-01&enddate=' + year + '-12-31', headers={'token':Token})\n",
    "    # load the api response as a json\n",
    "    d = json.loads(r.text)\n",
    "\n",
    "    # get all items in the response which are weather descriptions (1,0)\n",
    "    weather_types = ['WT01', 'WT02', 'WT03', 'WT04', 'WT05', 'WT06', 'WT07', 'WT08', 'WT09', 'WT10', 'WT11', 'WT12', 'WT13','WT14', 'WT15', 'WT16', 'WT17', 'WT18', 'WV01','WV03','WV07','WV18','WV20']\n",
    "    weather_data = {}\n",
    "    for wt in weather_types:\n",
    "        weather_data[wt] = [item for item in d['results'] if item['datatype'] == wt]\n",
    "\n",
    "        # get the date field from all readings\n",
    "        dates_temp += [item['date'] for item in weather_data[wt]]\n",
    "\n",
    "# initialize dataframe\n",
    "df_seattle_04_08 = pd.DataFrame()\n",
    "\n",
    "# populate date and weather descriptions fields (cast string date to datetime and add other fields)\n",
    "df_seattle_04_08['date'] = [datetime.strptime(d, \"%Y-%m-%dT%H:%M:%S\") for d in dates_temp]\n",
    "for wt in weather_types:\n",
    "    df_seattle_04_08[wt] = [next((item['value'] for item in weather_data[wt] if item['date'] == d), None) for d in dates_temp]"
   ]
  },
  {
   "attachments": {},
   "cell_type": "markdown",
   "metadata": {},
   "source": [
    "# Seattle, WA, Data Gathering 2009-2013"
   ]
  },
  {
   "cell_type": "code",
   "execution_count": 261,
   "metadata": {},
   "outputs": [
    {
     "name": "stdout",
     "output_type": "stream",
     "text": [
      "working on year 2009\n",
      "working on year 2010\n",
      "working on year 2011\n",
      "working on year 2012\n",
      "working on year 2013\n"
     ]
    }
   ],
   "source": [
    "# Seattle Tacoma Intl Airport station ID\n",
    "station_id = 'GHCND:USW00024233'  \n",
    "dates_temp = []\n",
    "dates_prcp = []\n",
    "temps = []\n",
    "prcp = []\n",
    "\n",
    "# for each year from 2009-2013 ... (token limit reached -> 5 per second)\n",
    "for year in range(2009, 2014):\n",
    "    year = str(year)\n",
    "    print('working on year ' + year)\n",
    "\n",
    "    # make the api call\n",
    "    r = requests.get('https://www.ncdc.noaa.gov/cdo-web/api/v2/data?datasetid=GHCND&datatypeid=WT01,WT02,WT03,WT04,WT05,WT06,WT07,WT08,WT09,WT10,WT11,WT12,WT13,WT14,WT15,WT16,WT17,WT18,WV01,WV03,WV07,WV18,WV20&limit=1000&stationid=GHCND:USW00024233&startdate=' + year + '-01-01&enddate=' + year + '-12-31', headers={'token':Token})\n",
    "    # load the api response as a json\n",
    "    d = json.loads(r.text)\n",
    "\n",
    "    # get all items in the response which are weather descriptions (1,0)\n",
    "    weather_types = ['WT01', 'WT02', 'WT03', 'WT04', 'WT05', 'WT06', 'WT07', 'WT08', 'WT09', 'WT10', 'WT11', 'WT12', 'WT13','WT14', 'WT15', 'WT16', 'WT17', 'WT18', 'WV01','WV03','WV07','WV18','WV20']\n",
    "    weather_data = {}\n",
    "    for wt in weather_types:\n",
    "        weather_data[wt] = [item for item in d['results'] if item['datatype'] == wt]\n",
    "\n",
    "        # get the date field from all readings\n",
    "        dates_temp += [item['date'] for item in weather_data[wt]]\n",
    "\n",
    "# initialize dataframe\n",
    "df_seattle_09_13 = pd.DataFrame()\n",
    "\n",
    "# populate date and weather descriptions fields (cast string date to datetime and add other fields)\n",
    "df_seattle_09_13['date'] = [datetime.strptime(d, \"%Y-%m-%dT%H:%M:%S\") for d in dates_temp]\n",
    "for wt in weather_types:\n",
    "    df_seattle_09_13[wt] = [next((item['value'] for item in weather_data[wt] if item['date'] == d), None) for d in dates_temp]"
   ]
  },
  {
   "attachments": {},
   "cell_type": "markdown",
   "metadata": {},
   "source": [
    "# Seattle, WA, Data Gathering 2014-2017"
   ]
  },
  {
   "cell_type": "code",
   "execution_count": 262,
   "metadata": {},
   "outputs": [
    {
     "name": "stdout",
     "output_type": "stream",
     "text": [
      "working on year 2014\n",
      "working on year 2015\n",
      "working on year 2016\n",
      "working on year 2017\n"
     ]
    }
   ],
   "source": [
    "# Seattle Tacoma Intl Airport station ID\n",
    "station_id = 'GHCND:USW00024233'  \n",
    "dates_temp = []\n",
    "dates_prcp = []\n",
    "temps = []\n",
    "prcp = []\n",
    "\n",
    "# for each year from 2014-2017 ... (token limit reached -> 5 per second)\n",
    "for year in range(2014, 2018):\n",
    "    year = str(year)\n",
    "    print('working on year ' + year)\n",
    "\n",
    "    # make the api call\n",
    "    r = requests.get('https://www.ncdc.noaa.gov/cdo-web/api/v2/data?datasetid=GHCND&datatypeid=WT01,WT02,WT03,WT04,WT05,WT06,WT07,WT08,WT09,WT10,WT11,WT12,WT13,WT14,WT15,WT16,WT17,WT18,WV01,WV03,WV07,WV18,WV20&limit=1000&stationid=GHCND:USW00024233&startdate=' + year + '-01-01&enddate=' + year + '-12-31', headers={'token':Token})\n",
    "    # load the api response as a json\n",
    "    d = json.loads(r.text)\n",
    "\n",
    "    # get all items in the response which are weather descriptions (1,0)\n",
    "    weather_types = ['WT01', 'WT02', 'WT03', 'WT04', 'WT05', 'WT06', 'WT07', 'WT08', 'WT09', 'WT10', 'WT11', 'WT12', 'WT13','WT14', 'WT15', 'WT16', 'WT17', 'WT18', 'WV01','WV03','WV07','WV18','WV20']\n",
    "    weather_data = {}\n",
    "    for wt in weather_types:\n",
    "        weather_data[wt] = [item for item in d['results'] if item['datatype'] == wt]\n",
    "\n",
    "        # get the date field from all readings\n",
    "        dates_temp += [item['date'] for item in weather_data[wt]]\n",
    "\n",
    "# initialize dataframe\n",
    "df_seattle_14_17 = pd.DataFrame()\n",
    "\n",
    "# populate date and weather descriptions fields (cast string date to datetime and add other fields)\n",
    "df_seattle_14_17['date'] = [datetime.strptime(d, \"%Y-%m-%dT%H:%M:%S\") for d in dates_temp]\n",
    "for wt in weather_types:\n",
    "    df_seattle_14_17[wt] = [next((item['value'] for item in weather_data[wt] if item['date'] == d), None) for d in dates_temp]"
   ]
  },
  {
   "attachments": {},
   "cell_type": "markdown",
   "metadata": {},
   "source": [
    "# Seattle, WA, Data Gathering 2018-2022"
   ]
  },
  {
   "cell_type": "code",
   "execution_count": 263,
   "metadata": {},
   "outputs": [
    {
     "name": "stdout",
     "output_type": "stream",
     "text": [
      "working on year 2018\n",
      "working on year 2019\n",
      "working on year 2020\n",
      "working on year 2021\n",
      "working on year 2022\n"
     ]
    }
   ],
   "source": [
    "# Seattle Tacoma Intl Airport station ID\n",
    "station_id = 'GHCND:USW00024233'  \n",
    "dates_temp = []\n",
    "dates_prcp = []\n",
    "temps = []\n",
    "prcp = []\n",
    "\n",
    "# for each year from 2018-2022 ... (token limit reached -> 5 per second)\n",
    "for year in range(2018, 2023):\n",
    "    year = str(year)\n",
    "    print('working on year ' + year)\n",
    "\n",
    "    # make the api call\n",
    "    r = requests.get('https://www.ncdc.noaa.gov/cdo-web/api/v2/data?datasetid=GHCND&datatypeid=WT01,WT02,WT03,WT04,WT05,WT06,WT07,WT08,WT09,WT10,WT11,WT12,WT13,WT14,WT15,WT16,WT17,WT18,WV01,WV03,WV07,WV18,WV20&limit=1000&stationid=GHCND:USW00024233&startdate=' + year + '-01-01&enddate=' + year + '-12-31', headers={'token':Token})\n",
    "    # load the api response as a json\n",
    "    d = json.loads(r.text)\n",
    "\n",
    "    # get all items in the response which are weather descriptions (1,0)\n",
    "    weather_types = ['WT01', 'WT02', 'WT03', 'WT04', 'WT05', 'WT06', 'WT07', 'WT08', 'WT09', 'WT10', 'WT11', 'WT12', 'WT13','WT14', 'WT15', 'WT16', 'WT17', 'WT18', 'WV01','WV03','WV07','WV18','WV20']\n",
    "    weather_data = {}\n",
    "    for wt in weather_types:\n",
    "        weather_data[wt] = [item for item in d['results'] if item['datatype'] == wt]\n",
    "\n",
    "        # get the date field from all readings\n",
    "        dates_temp += [item['date'] for item in weather_data[wt]]\n",
    "\n",
    "# initialize dataframe\n",
    "df_seattle_18_22 = pd.DataFrame()\n",
    "\n",
    "# populate date and weather descriptions fields (cast string date to datetime and add other fields)\n",
    "df_seattle_18_22['date'] = [datetime.strptime(d, \"%Y-%m-%dT%H:%M:%S\") for d in dates_temp]\n",
    "for wt in weather_types:\n",
    "    df_seattle_18_22[wt] = [next((item['value'] for item in weather_data[wt] if item['date'] == d), None) for d in dates_temp]"
   ]
  },
  {
   "attachments": {},
   "cell_type": "markdown",
   "metadata": {},
   "source": [
    "# Concatenate all Seattle, WA, dataframes"
   ]
  },
  {
   "cell_type": "code",
   "execution_count": 264,
   "metadata": {},
   "outputs": [],
   "source": [
    "# concatenate all Seattle, WA, dataframes\n",
    "df_seattle = pd.concat([df_seattle_82_87, df_seattle_92_97, df_seattle_98_03, df_seattle_04_08, df_seattle_09_13, df_seattle_14_17, df_seattle_18_22], ignore_index=True)\n",
    "df_seattle.to_csv('../data/Weather/df_seattle_api.csv', index=False)"
   ]
  },
  {
   "attachments": {},
   "cell_type": "markdown",
   "metadata": {},
   "source": [
    "# Orlando, FL, Data Gathering 1981-1985"
   ]
  },
  {
   "cell_type": "code",
   "execution_count": 269,
   "metadata": {},
   "outputs": [
    {
     "name": "stdout",
     "output_type": "stream",
     "text": [
      "working on year 1981\n",
      "working on year 1982\n",
      "working on year 1983\n",
      "working on year 1984\n",
      "working on year 1985\n"
     ]
    }
   ],
   "source": [
    "# Orlando Intl Airport station ID\n",
    "station_id = 'GHCND:USW00012815'  \n",
    "dates_temp = []\n",
    "dates_prcp = []\n",
    "temps = []\n",
    "prcp = []\n",
    "\n",
    "# for each year from 1981-1985 ... (token limit reached -> 5 per second)\n",
    "for year in range(1981, 1986):\n",
    "    year = str(year)\n",
    "    print('working on year ' + year)\n",
    "\n",
    "    # make the api call\n",
    "    r = requests.get('https://www.ncdc.noaa.gov/cdo-web/api/v2/data?datasetid=GHCND&datatypeid=WT01,WT02,WT03,WT04,WT05,WT06,WT07,WT08,WT09,WT10,WT11,WT12,WT13,WT14,WT15,WT16,WT17,WT18,WV01,WV03,WV07,WV18,WV20&limit=1000&stationid=GHCND:USW00012815&startdate=' + year + '-01-01&enddate=' + year + '-12-31', headers={'token':Token})\n",
    "    # load the api response as a json\n",
    "    d = json.loads(r.text)\n",
    "\n",
    "    # get all items in the response which are weather descriptions (1,0)\n",
    "    weather_types = ['WT01', 'WT02', 'WT03', 'WT04', 'WT05', 'WT06', 'WT07', 'WT08', 'WT09', 'WT10', 'WT11', 'WT12', 'WT13','WT14', 'WT15', 'WT16', 'WT17', 'WT18', 'WV01','WV03','WV07','WV18','WV20']\n",
    "    weather_data = {}\n",
    "    for wt in weather_types:\n",
    "        weather_data[wt] = [item for item in d['results'] if item['datatype'] == wt]\n",
    "\n",
    "        # get the date field from all readings\n",
    "        dates_temp += [item['date'] for item in weather_data[wt]]\n",
    "\n",
    "# initialize dataframe\n",
    "df_orlando_81_85 = pd.DataFrame()\n",
    "\n",
    "# populate date and weather descriptions fields (cast string date to datetime and add other fields)\n",
    "df_orlando_81_85['date'] = [datetime.strptime(d, \"%Y-%m-%dT%H:%M:%S\") for d in dates_temp]\n",
    "for wt in weather_types:\n",
    "    df_orlando_81_85[wt] = [next((item['value'] for item in weather_data[wt] if item['date'] == d), None) for d in dates_temp]"
   ]
  },
  {
   "attachments": {},
   "cell_type": "markdown",
   "metadata": {},
   "source": [
    "# Orlando, FL, Data Gathering 1995-2000"
   ]
  },
  {
   "cell_type": "code",
   "execution_count": 270,
   "metadata": {},
   "outputs": [
    {
     "name": "stdout",
     "output_type": "stream",
     "text": [
      "working on year 1995\n",
      "working on year 1996\n",
      "working on year 1997\n",
      "working on year 1998\n",
      "working on year 1999\n",
      "working on year 2000\n"
     ]
    }
   ],
   "source": [
    "# Orlando Intl Airport station ID\n",
    "station_id = 'GHCND:USW00012815'  \n",
    "dates_temp = []\n",
    "dates_prcp = []\n",
    "temps = []\n",
    "prcp = []\n",
    "\n",
    "# for each year from 1995-2000 ... (token limit reached -> 5 per second)\n",
    "for year in range(1995, 2001):\n",
    "    year = str(year)\n",
    "    print('working on year ' + year)\n",
    "\n",
    "    # make the api call\n",
    "    r = requests.get('https://www.ncdc.noaa.gov/cdo-web/api/v2/data?datasetid=GHCND&datatypeid=WT01,WT02,WT03,WT04,WT05,WT06,WT07,WT08,WT09,WT10,WT11,WT12,WT13,WT14,WT15,WT16,WT17,WT18,WV01,WV03,WV07,WV18,WV20&limit=1000&stationid=GHCND:USW00012815&startdate=' + year + '-01-01&enddate=' + year + '-12-31', headers={'token':Token})\n",
    "    # load the api response as a json\n",
    "    d = json.loads(r.text)\n",
    "\n",
    "    # get all items in the response which are weather descriptions (1,0)\n",
    "    weather_types = ['WT01', 'WT02', 'WT03', 'WT04', 'WT05', 'WT06', 'WT07', 'WT08', 'WT09', 'WT10', 'WT11', 'WT12', 'WT13','WT14', 'WT15', 'WT16', 'WT17', 'WT18', 'WV01','WV03','WV07','WV18','WV20']\n",
    "    weather_data = {}\n",
    "    for wt in weather_types:\n",
    "        weather_data[wt] = [item for item in d['results'] if item['datatype'] == wt]\n",
    "\n",
    "        # get the date field from all readings\n",
    "        dates_temp += [item['date'] for item in weather_data[wt]]\n",
    "\n",
    "# initialize dataframe\n",
    "df_orlando_95_00 = pd.DataFrame()\n",
    "\n",
    "# populate date and weather descriptions fields (cast string date to datetime and add other fields)\n",
    "df_orlando_95_00['date'] = [datetime.strptime(d, \"%Y-%m-%dT%H:%M:%S\") for d in dates_temp]\n",
    "for wt in weather_types:\n",
    "    df_orlando_95_00[wt] = [next((item['value'] for item in weather_data[wt] if item['date'] == d), None) for d in dates_temp]"
   ]
  },
  {
   "attachments": {},
   "cell_type": "markdown",
   "metadata": {},
   "source": [
    "# Orlando, FL, Data Gathering 2001-2006"
   ]
  },
  {
   "cell_type": "code",
   "execution_count": 271,
   "metadata": {},
   "outputs": [
    {
     "name": "stdout",
     "output_type": "stream",
     "text": [
      "working on year 2001\n",
      "working on year 2002\n",
      "working on year 2003\n",
      "working on year 2004\n",
      "working on year 2005\n",
      "working on year 2006\n"
     ]
    }
   ],
   "source": [
    "# Orlando Intl Airport station ID\n",
    "station_id = 'GHCND:USW00012815'  \n",
    "dates_temp = []\n",
    "dates_prcp = []\n",
    "temps = []\n",
    "prcp = []\n",
    "\n",
    "# for each year from 2001-2006 ... (token limit reached -> 5 per second)\n",
    "for year in range(2001, 2007):\n",
    "    year = str(year)\n",
    "    print('working on year ' + year)\n",
    "\n",
    "    # make the api call\n",
    "    r = requests.get('https://www.ncdc.noaa.gov/cdo-web/api/v2/data?datasetid=GHCND&datatypeid=WT01,WT02,WT03,WT04,WT05,WT06,WT07,WT08,WT09,WT10,WT11,WT12,WT13,WT14,WT15,WT16,WT17,WT18,WV01,WV03,WV07,WV18,WV20&limit=1000&stationid=GHCND:USW00012815&startdate=' + year + '-01-01&enddate=' + year + '-12-31', headers={'token':Token})\n",
    "    # load the api response as a json\n",
    "    d = json.loads(r.text)\n",
    "\n",
    "    # get all items in the response which are weather descriptions (1,0)\n",
    "    weather_types = ['WT01', 'WT02', 'WT03', 'WT04', 'WT05', 'WT06', 'WT07', 'WT08', 'WT09', 'WT10', 'WT11', 'WT12', 'WT13','WT14', 'WT15', 'WT16', 'WT17', 'WT18', 'WV01','WV03','WV07','WV18','WV20']\n",
    "    weather_data = {}\n",
    "    for wt in weather_types:\n",
    "        weather_data[wt] = [item for item in d['results'] if item['datatype'] == wt]\n",
    "\n",
    "        # get the date field from all readings\n",
    "        dates_temp += [item['date'] for item in weather_data[wt]]\n",
    "\n",
    "# initialize dataframe\n",
    "df_orlando_01_06 = pd.DataFrame()\n",
    "\n",
    "# populate date and weather descriptions fields (cast string date to datetime and add other fields)\n",
    "df_orlando_01_06['date'] = [datetime.strptime(d, \"%Y-%m-%dT%H:%M:%S\") for d in dates_temp]\n",
    "for wt in weather_types:\n",
    "    df_orlando_01_06[wt] = [next((item['value'] for item in weather_data[wt] if item['date'] == d), None) for d in dates_temp]"
   ]
  },
  {
   "attachments": {},
   "cell_type": "markdown",
   "metadata": {},
   "source": [
    "# Orlando, FL, Data Gathering 2007-2012"
   ]
  },
  {
   "cell_type": "code",
   "execution_count": 273,
   "metadata": {},
   "outputs": [
    {
     "name": "stdout",
     "output_type": "stream",
     "text": [
      "working on year 2007\n",
      "working on year 2008\n",
      "working on year 2009\n",
      "working on year 2010\n",
      "working on year 2011\n",
      "working on year 2012\n"
     ]
    }
   ],
   "source": [
    "# Orlando Intl Airport station ID\n",
    "station_id = 'GHCND:USW00012815'  \n",
    "dates_temp = []\n",
    "dates_prcp = []\n",
    "temps = []\n",
    "prcp = []\n",
    "\n",
    "# for each year from 2007-2012 ... (token limit reached -> 5 per second)\n",
    "for year in range(2007, 2013):\n",
    "    year = str(year)\n",
    "    print('working on year ' + year)\n",
    "\n",
    "    # make the api call\n",
    "    r = requests.get('https://www.ncdc.noaa.gov/cdo-web/api/v2/data?datasetid=GHCND&datatypeid=WT01,WT02,WT03,WT04,WT05,WT06,WT07,WT08,WT09,WT10,WT11,WT12,WT13,WT14,WT15,WT16,WT17,WT18,WV01,WV03,WV07,WV18,WV20&limit=1000&stationid=GHCND:USW00012815&startdate=' + year + '-01-01&enddate=' + year + '-12-31', headers={'token':Token})\n",
    "    # load the api response as a json\n",
    "    d = json.loads(r.text)\n",
    "\n",
    "    # get all items in the response which are weather descriptions (1,0)\n",
    "    weather_types = ['WT01', 'WT02', 'WT03', 'WT04', 'WT05', 'WT06', 'WT07', 'WT08', 'WT09', 'WT10', 'WT11', 'WT12', 'WT13','WT14', 'WT15', 'WT16', 'WT17', 'WT18', 'WV01','WV03','WV07','WV18','WV20']\n",
    "    weather_data = {}\n",
    "    for wt in weather_types:\n",
    "        weather_data[wt] = [item for item in d['results'] if item['datatype'] == wt]\n",
    "\n",
    "        # get the date field from all readings\n",
    "        dates_temp += [item['date'] for item in weather_data[wt]]\n",
    "\n",
    "# initialize dataframe\n",
    "df_orlando_07_12 = pd.DataFrame()\n",
    "\n",
    "# populate date and weather descriptions fields (cast string date to datetime and add other fields)\n",
    "df_orlando_07_12['date'] = [datetime.strptime(d, \"%Y-%m-%dT%H:%M:%S\") for d in dates_temp]\n",
    "for wt in weather_types:\n",
    "    df_orlando_07_12[wt] = [next((item['value'] for item in weather_data[wt] if item['date'] == d), None) for d in dates_temp]"
   ]
  },
  {
   "attachments": {},
   "cell_type": "markdown",
   "metadata": {},
   "source": [
    "# Orlando, FL, Data Gathering 2013-2017"
   ]
  },
  {
   "cell_type": "code",
   "execution_count": 279,
   "metadata": {},
   "outputs": [
    {
     "name": "stdout",
     "output_type": "stream",
     "text": [
      "working on year 2013\n",
      "working on year 2014\n",
      "working on year 2015\n",
      "working on year 2016\n",
      "working on year 2017\n"
     ]
    }
   ],
   "source": [
    "# Orlando Intl Airport station ID\n",
    "station_id = 'GHCND:USW00012815'  \n",
    "dates_temp = []\n",
    "dates_prcp = []\n",
    "temps = []\n",
    "prcp = []\n",
    "\n",
    "# for each year from 2013-2017 ... (token limit reached -> 5 per second)\n",
    "for year in range(2013, 2018):\n",
    "    year = str(year)\n",
    "    print('working on year ' + year)\n",
    "\n",
    "    # make the api call\n",
    "    r = requests.get('https://www.ncdc.noaa.gov/cdo-web/api/v2/data?datasetid=GHCND&datatypeid=WT01,WT02,WT03,WT04,WT05,WT06,WT07,WT08,WT09,WT10,WT11,WT12,WT13,WT14,WT15,WT16,WT17,WT18,WV01,WV03,WV07,WV18,WV20&limit=1000&stationid=GHCND:USW00012815&startdate=' + year + '-01-01&enddate=' + year + '-12-31', headers={'token':Token})\n",
    "    # load the api response as a json\n",
    "    d = json.loads(r.text)\n",
    "\n",
    "    # get all items in the response which are weather descriptions (1,0)\n",
    "    weather_types = ['WT01', 'WT02', 'WT03', 'WT04', 'WT05', 'WT06', 'WT07', 'WT08', 'WT09', 'WT10', 'WT11', 'WT12', 'WT13','WT14', 'WT15', 'WT16', 'WT17', 'WT18', 'WV01','WV03','WV07','WV18','WV20']\n",
    "    weather_data = {}\n",
    "    for wt in weather_types:\n",
    "        weather_data[wt] = [item for item in d['results'] if item['datatype'] == wt]\n",
    "\n",
    "        # get the date field from all readings\n",
    "        dates_temp += [item['date'] for item in weather_data[wt]]\n",
    "\n",
    "# initialize dataframe\n",
    "df_orlando_13_17 = pd.DataFrame()\n",
    "\n",
    "# populate date and weather descriptions fields (cast string date to datetime and add other fields)\n",
    "df_orlando_13_17['date'] = [datetime.strptime(d, \"%Y-%m-%dT%H:%M:%S\") for d in dates_temp]\n",
    "for wt in weather_types:\n",
    "    df_orlando_13_17[wt] = [next((item['value'] for item in weather_data[wt] if item['date'] == d), None) for d in dates_temp]"
   ]
  },
  {
   "attachments": {},
   "cell_type": "markdown",
   "metadata": {},
   "source": [
    "# Orlando, FL, Data Gathering 2018-2022"
   ]
  },
  {
   "cell_type": "code",
   "execution_count": 280,
   "metadata": {},
   "outputs": [
    {
     "name": "stdout",
     "output_type": "stream",
     "text": [
      "working on year 2018\n",
      "working on year 2019\n",
      "working on year 2020\n",
      "working on year 2021\n",
      "working on year 2022\n"
     ]
    }
   ],
   "source": [
    "# Orlando Intl Airport station ID\n",
    "station_id = 'GHCND:USW00012815'  \n",
    "dates_temp = []\n",
    "dates_prcp = []\n",
    "temps = []\n",
    "prcp = []\n",
    "\n",
    "# for each year from 2018-2022 ... (token limit reached -> 5 per second)\n",
    "for year in range(2018, 2023):\n",
    "    year = str(year)\n",
    "    print('working on year ' + year)\n",
    "\n",
    "    # make the api call\n",
    "    r = requests.get('https://www.ncdc.noaa.gov/cdo-web/api/v2/data?datasetid=GHCND&datatypeid=WT01,WT02,WT03,WT04,WT05,WT06,WT07,WT08,WT09,WT10,WT11,WT12,WT13,WT14,WT15,WT16,WT17,WT18,WV01,WV03,WV07,WV18,WV20&limit=1000&stationid=GHCND:USW00012815&startdate=' + year + '-01-01&enddate=' + year + '-12-31', headers={'token':Token})\n",
    "    # load the api response as a json\n",
    "    d = json.loads(r.text)\n",
    "\n",
    "    # get all items in the response which are weather descriptions (1,0)\n",
    "    weather_types = ['WT01', 'WT02', 'WT03', 'WT04', 'WT05', 'WT06', 'WT07', 'WT08', 'WT09', 'WT10', 'WT11', 'WT12', 'WT13','WT14', 'WT15', 'WT16', 'WT17', 'WT18', 'WV01','WV03','WV07','WV18','WV20']\n",
    "    weather_data = {}\n",
    "    for wt in weather_types:\n",
    "        weather_data[wt] = [item for item in d['results'] if item['datatype'] == wt]\n",
    "\n",
    "        # get the date field from all readings\n",
    "        dates_temp += [item['date'] for item in weather_data[wt]]\n",
    "\n",
    "# initialize dataframe\n",
    "df_orlando_18_22 = pd.DataFrame()\n",
    "\n",
    "# populate date and weather descriptions fields (cast string date to datetime and add other fields)\n",
    "df_orlando_18_22['date'] = [datetime.strptime(d, \"%Y-%m-%dT%H:%M:%S\") for d in dates_temp]\n",
    "for wt in weather_types:\n",
    "    df_orlando_18_22[wt] = [next((item['value'] for item in weather_data[wt] if item['date'] == d), None) for d in dates_temp]"
   ]
  },
  {
   "attachments": {},
   "cell_type": "markdown",
   "metadata": {},
   "source": [
    "# Concatenate all Orlando, FL, dataframes"
   ]
  },
  {
   "cell_type": "code",
   "execution_count": 281,
   "metadata": {},
   "outputs": [],
   "source": [
    "# concatenate all Orlando, FL, dataframes\n",
    "df_orlando = pd.concat([df_orlando_81_85, df_orlando_95_00, df_orlando_01_06, df_orlando_07_12, df_orlando_13_17, df_orlando_18_22], ignore_index=True)\n",
    "df_orlando.to_csv('../data/Weather/df_orlando_api.csv', index=False)"
   ]
  },
  {
   "attachments": {},
   "cell_type": "markdown",
   "metadata": {},
   "source": [
    "# Las Vegas, NV, Data Gathering 2020-2022"
   ]
  },
  {
   "cell_type": "code",
   "execution_count": 285,
   "metadata": {},
   "outputs": [
    {
     "name": "stdout",
     "output_type": "stream",
     "text": [
      "working on year 2020\n",
      "working on year 2021\n",
      "working on year 2022\n"
     ]
    }
   ],
   "source": [
    "# North Las Vegas North Airport station ID\n",
    "station_id = 'GHCND:USW00053123'  \n",
    "dates_temp = []\n",
    "dates_prcp = []\n",
    "temps = []\n",
    "prcp = []\n",
    "\n",
    "# for each year from 2020-2022 ... (token limit reached -> 5 per second)\n",
    "for year in range(2020, 2023):\n",
    "    year = str(year)\n",
    "    print('working on year ' + year)\n",
    "\n",
    "    # make the api call\n",
    "    r = requests.get('https://www.ncdc.noaa.gov/cdo-web/api/v2/data?datasetid=GHCND&datatypeid=WT01,WT02,WT03,WT04,WT05,WT06,WT07,WT08,WT09,WT10,WT11,WT12,WT13,WT14,WT15,WT16,WT17,WT18,WV01,WV03,WV07,WV18,WV20&limit=1000&stationid=GHCND:USW00053123&startdate=' + year + '-01-01&enddate=' + year + '-12-31', headers={'token':Token})\n",
    "    # load the api response as a json\n",
    "    d = json.loads(r.text)\n",
    "\n",
    "    # get all items in the response which are weather descriptions (1,0)\n",
    "    weather_types = ['WT01', 'WT02', 'WT03', 'WT04', 'WT05', 'WT06', 'WT07', 'WT08', 'WT09', 'WT10', 'WT11', 'WT12', 'WT13','WT14', 'WT15', 'WT16', 'WT17', 'WT18', 'WV01','WV03','WV07','WV18','WV20']\n",
    "    weather_data = {}\n",
    "    for wt in weather_types:\n",
    "        weather_data[wt] = [item for item in d['results'] if item['datatype'] == wt]\n",
    "\n",
    "        # get the date field from all readings\n",
    "        dates_temp += [item['date'] for item in weather_data[wt]]\n",
    "\n",
    "# initialize dataframe\n",
    "df_vegas_20_22 = pd.DataFrame()\n",
    "\n",
    "# populate date and weather descriptions fields (cast string date to datetime and add other fields)\n",
    "df_vegas_20_22['date'] = [datetime.strptime(d, \"%Y-%m-%dT%H:%M:%S\") for d in dates_temp]\n",
    "for wt in weather_types:\n",
    "    df_vegas_20_22[wt] = [next((item['value'] for item in weather_data[wt] if item['date'] == d), None) for d in dates_temp]\n",
    "\n",
    "df_vegas_20_22.to_csv('../data/Weather/df_vegas_api.csv', index=False)"
   ]
  },
  {
   "attachments": {},
   "cell_type": "markdown",
   "metadata": {},
   "source": [
    "# Chicago, IL, Data Gathering 2020-2022"
   ]
  },
  {
   "cell_type": "code",
   "execution_count": 286,
   "metadata": {},
   "outputs": [
    {
     "name": "stdout",
     "output_type": "stream",
     "text": [
      "working on year 2020\n",
      "working on year 2021\n",
      "working on year 2022\n"
     ]
    }
   ],
   "source": [
    "# Chicago Ohare Airport station ID\n",
    "station_id = 'GHCND:USW00094846'  \n",
    "dates_temp = []\n",
    "dates_prcp = []\n",
    "temps = []\n",
    "prcp = []\n",
    "\n",
    "# for each year from 2020-2022 ... (token limit reached -> 5 per second)\n",
    "for year in range(2020, 2023):\n",
    "    year = str(year)\n",
    "    print('working on year ' + year)\n",
    "\n",
    "    # make the api call\n",
    "    r = requests.get('https://www.ncdc.noaa.gov/cdo-web/api/v2/data?datasetid=GHCND&datatypeid=WT01,WT02,WT03,WT04,WT05,WT06,WT07,WT08,WT09,WT10,WT11,WT12,WT13,WT14,WT15,WT16,WT17,WT18,WV01,WV03,WV07,WV18,WV20&limit=1000&stationid=GHCND:USW00094846&startdate=' + year + '-01-01&enddate=' + year + '-12-31', headers={'token':Token})\n",
    "    # load the api response as a json\n",
    "    d = json.loads(r.text)\n",
    "\n",
    "    # get all items in the response which are weather descriptions (1,0)\n",
    "    weather_types = ['WT01', 'WT02', 'WT03', 'WT04', 'WT05', 'WT06', 'WT07', 'WT08', 'WT09', 'WT10', 'WT11', 'WT12', 'WT13','WT14', 'WT15', 'WT16', 'WT17', 'WT18', 'WV01','WV03','WV07','WV18','WV20']\n",
    "    weather_data = {}\n",
    "    for wt in weather_types:\n",
    "        weather_data[wt] = [item for item in d['results'] if item['datatype'] == wt]\n",
    "\n",
    "        # get the date field from all readings\n",
    "        dates_temp += [item['date'] for item in weather_data[wt]]\n",
    "\n",
    "# initialize dataframe\n",
    "df_chicago_20_22 = pd.DataFrame()\n",
    "\n",
    "# populate date and weather descriptions fields (cast string date to datetime and add other fields)\n",
    "df_chicago_20_22['date'] = [datetime.strptime(d, \"%Y-%m-%dT%H:%M:%S\") for d in dates_temp]\n",
    "for wt in weather_types:\n",
    "    df_chicago_20_22[wt] = [next((item['value'] for item in weather_data[wt] if item['date'] == d), None) for d in dates_temp]\n",
    "\n",
    "df_chicago_20_22.to_csv('../data/Weather/df_chicago_api.csv', index=False)"
   ]
  }
 ],
 "metadata": {
  "kernelspec": {
   "display_name": "ANLY501",
   "language": "python",
   "name": "python3"
  },
  "language_info": {
   "codemirror_mode": {
    "name": "ipython",
    "version": 3
   },
   "file_extension": ".py",
   "mimetype": "text/x-python",
   "name": "python",
   "nbconvert_exporter": "python",
   "pygments_lexer": "ipython3",
   "version": "3.9.13"
  },
  "orig_nbformat": 4
 },
 "nbformat": 4,
 "nbformat_minor": 2
}
