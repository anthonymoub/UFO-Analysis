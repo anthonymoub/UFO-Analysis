{
 "cells": [
  {
   "cell_type": "code",
   "execution_count": 1,
   "metadata": {},
   "outputs": [],
   "source": [
    "import pandas as pd\n",
    "import matplotlib.pyplot as plt\n",
    "import seaborn as sns\n"
   ]
  },
  {
   "cell_type": "code",
   "execution_count": 2,
   "metadata": {},
   "outputs": [
    {
     "name": "stderr",
     "output_type": "stream",
     "text": [
      "/var/folders/r_/fklxc5m54kl125_d3kkyjzp40000gn/T/ipykernel_30139/335015039.py:1: DtypeWarning: Columns (8) have mixed types. Specify dtype option on import or set low_memory=False.\n",
      "  df = pd.read_csv(\"/Users/anthonymoubarak/Desktop/Data_Viz/2023-anly503-am4315/Project/ufo_data_nuforc.csv\")\n"
     ]
    },
    {
     "data": {
      "text/html": [
       "<div>\n",
       "<style scoped>\n",
       "    .dataframe tbody tr th:only-of-type {\n",
       "        vertical-align: middle;\n",
       "    }\n",
       "\n",
       "    .dataframe tbody tr th {\n",
       "        vertical-align: top;\n",
       "    }\n",
       "\n",
       "    .dataframe thead th {\n",
       "        text-align: right;\n",
       "    }\n",
       "</style>\n",
       "<table border=\"1\" class=\"dataframe\">\n",
       "  <thead>\n",
       "    <tr style=\"text-align: right;\">\n",
       "      <th></th>\n",
       "      <th>posted</th>\n",
       "      <th>date</th>\n",
       "      <th>time</th>\n",
       "      <th>city</th>\n",
       "      <th>state</th>\n",
       "      <th>shape</th>\n",
       "      <th>duration</th>\n",
       "      <th>summary</th>\n",
       "      <th>images</th>\n",
       "      <th>year</th>\n",
       "    </tr>\n",
       "  </thead>\n",
       "  <tbody>\n",
       "    <tr>\n",
       "      <th>113584</th>\n",
       "      <td>12/16/99</td>\n",
       "      <td>1973-01-01</td>\n",
       "      <td>23:30:00</td>\n",
       "      <td>Chattanooga</td>\n",
       "      <td>TN</td>\n",
       "      <td>Oval</td>\n",
       "      <td>30 sec.</td>\n",
       "      <td>3 objects in a tri-angle formation also in sta...</td>\n",
       "      <td>NaN</td>\n",
       "      <td>1973</td>\n",
       "    </tr>\n",
       "    <tr>\n",
       "      <th>90658</th>\n",
       "      <td>03/11/06</td>\n",
       "      <td>1973-01-08</td>\n",
       "      <td>21:00:00</td>\n",
       "      <td>Muscle Shoals</td>\n",
       "      <td>AL</td>\n",
       "      <td>Oval</td>\n",
       "      <td>20 seconds</td>\n",
       "      <td>Glowing orange detailess object with outline s...</td>\n",
       "      <td>NaN</td>\n",
       "      <td>1973</td>\n",
       "    </tr>\n",
       "    <tr>\n",
       "      <th>104522</th>\n",
       "      <td>11/20/02</td>\n",
       "      <td>1973-01-12</td>\n",
       "      <td>03:00:00</td>\n",
       "      <td>Farmington (SE of, deserted area, Hwy 44)</td>\n",
       "      <td>NM</td>\n",
       "      <td>Light</td>\n",
       "      <td>aprox:2-3 min</td>\n",
       "      <td>A large bright light apeared seemingly from no...</td>\n",
       "      <td>NaN</td>\n",
       "      <td>1973</td>\n",
       "    </tr>\n",
       "    <tr>\n",
       "      <th>82505</th>\n",
       "      <td>02/14/08</td>\n",
       "      <td>1973-01-14</td>\n",
       "      <td>19:00:00</td>\n",
       "      <td>Scranton</td>\n",
       "      <td>PA</td>\n",
       "      <td>Rectangle</td>\n",
       "      <td>10 seconds</td>\n",
       "      <td>Rectangular object moving at a very high rate ...</td>\n",
       "      <td>NaN</td>\n",
       "      <td>1973</td>\n",
       "    </tr>\n",
       "    <tr>\n",
       "      <th>113583</th>\n",
       "      <td>12/16/99</td>\n",
       "      <td>1973-01-28</td>\n",
       "      <td>23:38:00</td>\n",
       "      <td>Glendora</td>\n",
       "      <td>CA</td>\n",
       "      <td>Disk</td>\n",
       "      <td>5-10 mins</td>\n",
       "      <td>An illuminated Saucer hovers over my back pati...</td>\n",
       "      <td>NaN</td>\n",
       "      <td>1973</td>\n",
       "    </tr>\n",
       "    <tr>\n",
       "      <th>...</th>\n",
       "      <td>...</td>\n",
       "      <td>...</td>\n",
       "      <td>...</td>\n",
       "      <td>...</td>\n",
       "      <td>...</td>\n",
       "      <td>...</td>\n",
       "      <td>...</td>\n",
       "      <td>...</td>\n",
       "      <td>...</td>\n",
       "      <td>...</td>\n",
       "    </tr>\n",
       "    <tr>\n",
       "      <th>106609</th>\n",
       "      <td>06/12/02</td>\n",
       "      <td>2023-01-11</td>\n",
       "      <td>21:00:00</td>\n",
       "      <td>Pasadena</td>\n",
       "      <td>CA</td>\n",
       "      <td>Circle</td>\n",
       "      <td>20 seconds</td>\n",
       "      <td>THESE OBJECTS SEEM TO MAKE OBVIOUS ATTEMPTS AT...</td>\n",
       "      <td>NaN</td>\n",
       "      <td>2023</td>\n",
       "    </tr>\n",
       "    <tr>\n",
       "      <th>11791</th>\n",
       "      <td>06/25/20</td>\n",
       "      <td>2023-01-11</td>\n",
       "      <td>21:00:00</td>\n",
       "      <td>New London</td>\n",
       "      <td>WI</td>\n",
       "      <td>Light</td>\n",
       "      <td>2-3 minutes</td>\n",
       "      <td>It was a disembodied blinking light. At first ...</td>\n",
       "      <td>NaN</td>\n",
       "      <td>2023</td>\n",
       "    </tr>\n",
       "    <tr>\n",
       "      <th>11790</th>\n",
       "      <td>06/25/20</td>\n",
       "      <td>2023-01-11</td>\n",
       "      <td>23:00:00</td>\n",
       "      <td>Manning</td>\n",
       "      <td>SC</td>\n",
       "      <td>Sphere</td>\n",
       "      <td>2 minutes</td>\n",
       "      <td>The object was metallic in color. Spherical in...</td>\n",
       "      <td>NaN</td>\n",
       "      <td>2023</td>\n",
       "    </tr>\n",
       "    <tr>\n",
       "      <th>13944</th>\n",
       "      <td>01/31/20</td>\n",
       "      <td>2023-01-11</td>\n",
       "      <td>17:00:00</td>\n",
       "      <td>Philadelphia</td>\n",
       "      <td>PA</td>\n",
       "      <td>Circle</td>\n",
       "      <td>10 minutes</td>\n",
       "      <td>Sighting of 4 circular lights that were in for...</td>\n",
       "      <td>NaN</td>\n",
       "      <td>2023</td>\n",
       "    </tr>\n",
       "    <tr>\n",
       "      <th>7158</th>\n",
       "      <td>03/02/21</td>\n",
       "      <td>2023-01-11</td>\n",
       "      <td>12:00:00</td>\n",
       "      <td>Harding</td>\n",
       "      <td>NJ</td>\n",
       "      <td>Circle</td>\n",
       "      <td>1 hour</td>\n",
       "      <td>Round small yellow saucer idled in/above the w...</td>\n",
       "      <td>NaN</td>\n",
       "      <td>2023</td>\n",
       "    </tr>\n",
       "  </tbody>\n",
       "</table>\n",
       "<p>117829 rows × 10 columns</p>\n",
       "</div>"
      ],
      "text/plain": [
       "          posted       date      time  \\\n",
       "113584  12/16/99 1973-01-01  23:30:00   \n",
       "90658   03/11/06 1973-01-08  21:00:00   \n",
       "104522  11/20/02 1973-01-12  03:00:00   \n",
       "82505   02/14/08 1973-01-14  19:00:00   \n",
       "113583  12/16/99 1973-01-28  23:38:00   \n",
       "...          ...        ...       ...   \n",
       "106609  06/12/02 2023-01-11  21:00:00   \n",
       "11791   06/25/20 2023-01-11  21:00:00   \n",
       "11790   06/25/20 2023-01-11  23:00:00   \n",
       "13944   01/31/20 2023-01-11  17:00:00   \n",
       "7158    03/02/21 2023-01-11  12:00:00   \n",
       "\n",
       "                                             city state      shape  \\\n",
       "113584                                Chattanooga    TN       Oval   \n",
       "90658                               Muscle Shoals    AL       Oval   \n",
       "104522  Farmington (SE of, deserted area, Hwy 44)    NM      Light   \n",
       "82505                                    Scranton    PA  Rectangle   \n",
       "113583                                   Glendora    CA       Disk   \n",
       "...                                           ...   ...        ...   \n",
       "106609                                   Pasadena    CA     Circle   \n",
       "11791                                  New London    WI      Light   \n",
       "11790                                     Manning    SC     Sphere   \n",
       "13944                                Philadelphia    PA     Circle   \n",
       "7158                                      Harding    NJ     Circle   \n",
       "\n",
       "             duration                                            summary  \\\n",
       "113584        30 sec.  3 objects in a tri-angle formation also in sta...   \n",
       "90658      20 seconds  Glowing orange detailess object with outline s...   \n",
       "104522  aprox:2-3 min  A large bright light apeared seemingly from no...   \n",
       "82505      10 seconds  Rectangular object moving at a very high rate ...   \n",
       "113583      5-10 mins  An illuminated Saucer hovers over my back pati...   \n",
       "...               ...                                                ...   \n",
       "106609     20 seconds  THESE OBJECTS SEEM TO MAKE OBVIOUS ATTEMPTS AT...   \n",
       "11791     2-3 minutes  It was a disembodied blinking light. At first ...   \n",
       "11790       2 minutes  The object was metallic in color. Spherical in...   \n",
       "13944      10 minutes  Sighting of 4 circular lights that were in for...   \n",
       "7158           1 hour  Round small yellow saucer idled in/above the w...   \n",
       "\n",
       "       images  year  \n",
       "113584    NaN  1973  \n",
       "90658     NaN  1973  \n",
       "104522    NaN  1973  \n",
       "82505     NaN  1973  \n",
       "113583    NaN  1973  \n",
       "...       ...   ...  \n",
       "106609    NaN  2023  \n",
       "11791     NaN  2023  \n",
       "11790     NaN  2023  \n",
       "13944     NaN  2023  \n",
       "7158      NaN  2023  \n",
       "\n",
       "[117829 rows x 10 columns]"
      ]
     },
     "execution_count": 2,
     "metadata": {},
     "output_type": "execute_result"
    }
   ],
   "source": [
    "df = pd.read_csv(\"/Users/anthonymoubarak/Desktop/Data_Viz/2023-anly503-am4315/Project/ufo_data_nuforc.csv\")\n",
    "\n",
    "# convert date column to datetime format\n",
    "df['date'] = pd.to_datetime(df['date'], format='%m/%d/%y')\n",
    "\n",
    "df['date'] = pd.to_datetime(df['date'], format='%m/%d/%y', errors='coerce')\n",
    "df['year'] = df['date'].dt.strftime('%Y')\n",
    "df = df.sort_values(by=['date'], ascending=True)\n",
    "\n",
    "df = df.sort_values(by=['date'] , ascending = True)\n",
    "\n",
    "df"
   ]
  },
  {
   "cell_type": "code",
   "execution_count": 3,
   "metadata": {},
   "outputs": [
    {
     "data": {
      "text/plain": [
       "[<matplotlib.lines.Line2D at 0x1728c36a0>]"
      ]
     },
     "execution_count": 3,
     "metadata": {},
     "output_type": "execute_result"
    },
    {
     "data": {
      "image/png": "[encoded data removed]",
      "text/plain": [
       "<Figure size 640x480 with 1 Axes>"
      ]
     },
     "metadata": {},
     "output_type": "display_data"
    }
   ],
   "source": [
    "# Filter data to number of sightings per year\n",
    "df_grouped = df.groupby(df['year']).size().reset_index(name='count')\n",
    "df_grouped['year'] = df_grouped['year'].astype('int')\n",
    "df_grouped = df_grouped[df_grouped['year'] != 2023]\n",
    "\n",
    "# Set the x-axis intervals to 10 years\n",
    "years = range(df_grouped['year'].min(), df_grouped['year'].max()+1, 5)\n",
    "plt.xticks(years)\n",
    "\n",
    "plt.plot(df_grouped['year'], df_grouped['count'])\n"
   ]
  },
  {
   "cell_type": "code",
   "execution_count": 4,
   "metadata": {},
   "outputs": [],
   "source": [
    "# Group sightings by state and year \n",
    "#Exclude 2023 \n",
    "ufo_state_year = df.groupby(['year', 'state']).count().reset_index()\n",
    "ufo_state_year = ufo_state_year[['year', 'state', 'posted']].rename(columns={'posted': 'count'})\n",
    "ufo_state_year = ufo_state_year[ufo_state_year['year'] != '2023']\n"
   ]
  },
  {
   "cell_type": "code",
   "execution_count": 5,
   "metadata": {},
   "outputs": [],
   "source": [
    "import plotly.graph_objs as go\n",
    "import pandas as pd\n",
    "\n",
    "data = {'state': ['Alabama', 'Alaska', 'Arizona', 'Arkansas', 'California'],\n",
    "        'count': [10, 20, 30, 40, 50],\n",
    "        'lat': [32.8067, 61.3850, 33.7298, 34.9697, 36.7783],\n",
    "        'lon': [-86.7911, -152.2683, -111.4312, -92.3731, -119.4179]}\n",
    "df = pd.DataFrame(data)\n",
    "\n"
   ]
  },
  {
   "cell_type": "code",
   "execution_count": 6,
   "metadata": {},
   "outputs": [],
   "source": [
    "# Center (lat,long) of every US state, which will be used to plot the UFOs\n",
    "\n",
    "state_centers = {\n",
    "    'AK': [63.588753, -154.493062],\n",
    "    'AL': [32.318230, -86.902298],\n",
    "    'AR': [35.201050, -91.831833],\n",
    "    'AZ': [34.048927, -111.093735],\n",
    "    'CA': [36.778261, -119.417932],\n",
    "    'CO': [39.550051, -105.782067],\n",
    "    'CT': [41.603221, -73.087749],\n",
    "    'DC': [38.905985, -77.033418],\n",
    "    'DE': [38.910832, -75.527670],\n",
    "    'FL': [27.994402, -81.760254],\n",
    "    'GA': [33.247875, -83.441162],\n",
    "    'HI': [19.741755, -155.844437],\n",
    "    'IA': [41.878003, -93.097702],\n",
    "    'ID': [44.068202, -114.742041],\n",
    "    'IL': [40.633125, -89.398529],\n",
    "    'IN': [40.551217, -85.602364],\n",
    "    'KS': [39.011902, -98.484246],\n",
    "    'KY': [37.839333, -84.270020],\n",
    "    'LA': [31.244823, -92.145024],\n",
    "    'MA': [42.407211, -71.382437],\n",
    "    'MD': [39.045753, -76.641273],\n",
    "    'ME': [45.253783, -69.445469],\n",
    "    'MI': [44.314844, -85.602364],\n",
    "    'MN': [46.729553, -94.685900],\n",
    "    'MO': [37.964253, -91.831833],\n",
    "    'MS': [32.354668, -89.398529],\n",
    "    'MT': [46.879682, -110.362566],\n",
    "    'NC': [35.759573, -79.019300],\n",
    "    'ND': [47.551493, -101.002012],\n",
    "    'NE': [41.492537, -99.901810],\n",
    "    'NH': [43.193852, -71.572395],\n",
    "    'NJ': [40.058324, -74.405661],\n",
    "    'NM': [34.972730, -105.032363],\n",
    "    'NV': [38.802610, -116.419389],\n",
    "    'NY': [43.299428, -74.217933],\n",
    "    'OH': [40.417287, -82.907123],\n",
    "    'OK': [35.007752, -97.092877],\n",
    "    'OR': [43.804133, -120.554201],\n",
    "    'PA': [41.203323, -77.194527],\n",
    "    'PR': [18.2208, 66.5901],\n",
    "    'RI': [41.580095, -71.477429],\n",
    "    'SC': [33.836081, -81.163725],\n",
    "    'SD': [43.969515, -99.901810],\n",
    "    'TN': [35.517491, -86.580447],\n",
    "    'TX': [31.968599, -99.901810],\n",
    "    'UT': [39.320980, -111.093731],\n",
    "    'VA': [37.431573, -78.656894],\n",
    "    'VI': [17.7460  , 64.7445],\n",
    "    'VT': [44.558803, -72.577841],\n",
    "    'WA': [47.751076, -120.740135],\n",
    "    'WI': [44.268543, -89.616508],\n",
    "    'WV': [38.597626, -80.454903],\n",
    "    'WY': [43.075968, -107.290284]}\n",
    "    \n"
   ]
  },
  {
   "cell_type": "code",
   "execution_count": 7,
   "metadata": {},
   "outputs": [
    {
     "data": {
      "text/html": [
       "<div>\n",
       "<style scoped>\n",
       "    .dataframe tbody tr th:only-of-type {\n",
       "        vertical-align: middle;\n",
       "    }\n",
       "\n",
       "    .dataframe tbody tr th {\n",
       "        vertical-align: top;\n",
       "    }\n",
       "\n",
       "    .dataframe thead th {\n",
       "        text-align: right;\n",
       "    }\n",
       "</style>\n",
       "<table border=\"1\" class=\"dataframe\">\n",
       "  <thead>\n",
       "    <tr style=\"text-align: right;\">\n",
       "      <th></th>\n",
       "      <th>year</th>\n",
       "      <th>state</th>\n",
       "      <th>count</th>\n",
       "      <th>long</th>\n",
       "      <th>lat</th>\n",
       "    </tr>\n",
       "  </thead>\n",
       "  <tbody>\n",
       "    <tr>\n",
       "      <th>0</th>\n",
       "      <td>1973</td>\n",
       "      <td>AK</td>\n",
       "      <td>1</td>\n",
       "      <td>-154.493062</td>\n",
       "      <td>63.588753</td>\n",
       "    </tr>\n",
       "    <tr>\n",
       "      <th>1</th>\n",
       "      <td>1973</td>\n",
       "      <td>AL</td>\n",
       "      <td>14</td>\n",
       "      <td>-86.902298</td>\n",
       "      <td>32.31823</td>\n",
       "    </tr>\n",
       "    <tr>\n",
       "      <th>2</th>\n",
       "      <td>1973</td>\n",
       "      <td>AR</td>\n",
       "      <td>6</td>\n",
       "      <td>-91.831833</td>\n",
       "      <td>35.20105</td>\n",
       "    </tr>\n",
       "    <tr>\n",
       "      <th>3</th>\n",
       "      <td>1973</td>\n",
       "      <td>AZ</td>\n",
       "      <td>3</td>\n",
       "      <td>-111.093735</td>\n",
       "      <td>34.048927</td>\n",
       "    </tr>\n",
       "    <tr>\n",
       "      <th>4</th>\n",
       "      <td>1973</td>\n",
       "      <td>CA</td>\n",
       "      <td>16</td>\n",
       "      <td>-119.417932</td>\n",
       "      <td>36.778261</td>\n",
       "    </tr>\n",
       "    <tr>\n",
       "      <th>...</th>\n",
       "      <td>...</td>\n",
       "      <td>...</td>\n",
       "      <td>...</td>\n",
       "      <td>...</td>\n",
       "      <td>...</td>\n",
       "    </tr>\n",
       "    <tr>\n",
       "      <th>2429</th>\n",
       "      <td>2022</td>\n",
       "      <td>VT</td>\n",
       "      <td>21</td>\n",
       "      <td>-72.577841</td>\n",
       "      <td>44.558803</td>\n",
       "    </tr>\n",
       "    <tr>\n",
       "      <th>2430</th>\n",
       "      <td>2022</td>\n",
       "      <td>WA</td>\n",
       "      <td>143</td>\n",
       "      <td>-120.740135</td>\n",
       "      <td>47.751076</td>\n",
       "    </tr>\n",
       "    <tr>\n",
       "      <th>2431</th>\n",
       "      <td>2022</td>\n",
       "      <td>WI</td>\n",
       "      <td>70</td>\n",
       "      <td>-89.616508</td>\n",
       "      <td>44.268543</td>\n",
       "    </tr>\n",
       "    <tr>\n",
       "      <th>2432</th>\n",
       "      <td>2022</td>\n",
       "      <td>WV</td>\n",
       "      <td>23</td>\n",
       "      <td>-80.454903</td>\n",
       "      <td>38.597626</td>\n",
       "    </tr>\n",
       "    <tr>\n",
       "      <th>2433</th>\n",
       "      <td>2022</td>\n",
       "      <td>WY</td>\n",
       "      <td>12</td>\n",
       "      <td>-107.290284</td>\n",
       "      <td>43.075968</td>\n",
       "    </tr>\n",
       "  </tbody>\n",
       "</table>\n",
       "<p>2434 rows × 5 columns</p>\n",
       "</div>"
      ],
      "text/plain": [
       "      year state  count        long        lat\n",
       "0     1973    AK      1 -154.493062  63.588753\n",
       "1     1973    AL     14  -86.902298   32.31823\n",
       "2     1973    AR      6  -91.831833   35.20105\n",
       "3     1973    AZ      3 -111.093735  34.048927\n",
       "4     1973    CA     16 -119.417932  36.778261\n",
       "...    ...   ...    ...         ...        ...\n",
       "2429  2022    VT     21  -72.577841  44.558803\n",
       "2430  2022    WA    143 -120.740135  47.751076\n",
       "2431  2022    WI     70  -89.616508  44.268543\n",
       "2432  2022    WV     23  -80.454903  38.597626\n",
       "2433  2022    WY     12 -107.290284  43.075968\n",
       "\n",
       "[2434 rows x 5 columns]"
      ]
     },
     "execution_count": 7,
     "metadata": {},
     "output_type": "execute_result"
    }
   ],
   "source": [
    "ufo_state_year['long'] = ''\n",
    "ufo_state_year['lat'] = ''\n",
    "\n",
    "\n",
    "# Loop over the state column and assign X and Y values\n",
    "for index, row in ufo_state_year.iterrows():\n",
    "    state_code = row['state']\n",
    "    x, y = state_centers[state_code]\n",
    "    ufo_state_year.at[index, 'long'] = y\n",
    "    ufo_state_year.at[index, 'lat'] = x\n",
    "ufo_state_year"
   ]
  },
  {
   "cell_type": "code",
   "execution_count": 8,
   "metadata": {},
   "outputs": [],
   "source": [
    "# Normalize the count column \n",
    "\n",
    "ufo_state_year['count_normalized'] = (ufo_state_year['count'] - ufo_state_year['count'].min()) / (ufo_state_year['count'].max() - ufo_state_year['count'].min())\n"
   ]
  },
  {
   "attachments": {},
   "cell_type": "markdown",
   "metadata": {},
   "source": [
    "# GIF Plot"
   ]
  },
  {
   "attachments": {},
   "cell_type": "markdown",
   "metadata": {},
   "source": [
    "## Testing notebooks"
   ]
  },
  {
   "cell_type": "code",
   "execution_count": 9,
   "metadata": {},
   "outputs": [
    {
     "data": {
      "application/vnd.plotly.v1+json": {
       "config": {
        "plotlyServerURL": "https://plot.ly"
       },
       "data": [
        {
         "lat": [
          32.31823,
          34.048927,
          36.778261,
          39.550051,
          41.603221,
          27.994402,
          33.247875,
          41.878003,
          44.068202,
          40.633125,
          40.551217,
          39.011902,
          37.839333,
          31.244823,
          42.407211,
          39.045753,
          45.253783,
          44.314844,
          46.729553,
          37.964253,
          32.354668,
          46.879682,
          35.759573,
          43.193852,
          40.058324,
          34.97273,
          38.80261,
          43.299428,
          40.417287,
          35.007752,
          43.804133,
          41.203323,
          41.580095,
          33.836081,
          35.517491,
          31.968599,
          39.32098,
          37.431573,
          47.751076,
          44.268543,
          38.597626
         ],
         "lon": [
          -86.902298,
          -111.093735,
          -119.417932,
          -105.782067,
          -73.087749,
          -81.760254,
          -83.441162,
          -93.097702,
          -114.742041,
          -89.398529,
          -85.602364,
          -98.484246,
          -84.27002,
          -92.145024,
          -71.382437,
          -76.641273,
          -69.445469,
          -85.602364,
          -94.6859,
          -91.831833,
          -89.398529,
          -110.362566,
          -79.0193,
          -71.572395,
          -74.405661,
          -105.032363,
          -116.419389,
          -74.217933,
          -82.907123,
          -97.092877,
          -120.554201,
          -77.194527,
          -71.477429,
          -81.163725,
          -86.580447,
          -99.90181,
          -111.093731,
          -78.656894,
          -120.740135,
          -89.616508,
          -80.454903
         ],
         "mode": "text",
         "text": "🛸",
         "textfont": {
          "size": [
           5.903187721369539,
           10.625737898465172,
           25.974025974025977,
           4.7225501770956315,
           11.806375442739078,
           23.612750885478157,
           5.903187721369539,
           3.541912632821724,
           2.3612750885478158,
           11.806375442739078,
           10.625737898465172,
           3.541912632821724,
           8.264462809917356,
           2.3612750885478158,
           9.445100354191263,
           8.264462809917356,
           3.541912632821724,
           10.625737898465172,
           9.445100354191263,
           2.3612750885478158,
           5.903187721369539,
           1.1806375442739079,
           8.264462809917356,
           1.1806375442739079,
           11.806375442739078,
           3.541912632821724,
           5.903187721369539,
           27.15466351829988,
           11.806375442739078,
           2.3612750885478158,
           1.1806375442739079,
           16.528925619834713,
           2.3612750885478158,
           8.264462809917356,
           2.3612750885478158,
           24.793388429752067,
           1.1806375442739079,
           10.625737898465172,
           17.70956316410862,
           10.625737898465172,
           1.1806375442739079
          ]
         },
         "type": "scattergeo"
        }
       ],
       "layout": {
        "annotations": [
         {
          "font": {
           "color": "black",
           "size": 27
          },
          "showarrow": false,
          "text": "1975",
          "x": 1,
          "xref": "paper",
          "y": 0.3,
          "yref": "paper"
         },
         {
          "font": {
           "color": "black",
           "size": 17
          },
          "showarrow": false,
          "text": "Number of UFO sighted",
          "x": 1.2,
          "xref": "paper",
          "y": 0.85,
          "yref": "paper"
         },
         {
          "font": {
           "color": "black",
           "size": 27
          },
          "showarrow": false,
          "text": "🛸",
          "x": 1.14,
          "xref": "paper",
          "y": 0.786,
          "yref": "paper"
         },
         {
          "font": {
           "color": "black",
           "size": 13
          },
          "showarrow": false,
          "text": "5",
          "x": 1.05,
          "xref": "paper",
          "y": 0.77,
          "yref": "paper"
         },
         {
          "font": {
           "color": "black",
           "size": 50
          },
          "showarrow": false,
          "text": "🛸",
          "x": 1.16,
          "xref": "paper",
          "y": 0.72,
          "yref": "paper"
         },
         {
          "font": {
           "color": "black",
           "size": 13
          },
          "showarrow": false,
          "text": "75",
          "x": 1.05,
          "xref": "paper",
          "y": 0.67,
          "yref": "paper"
         },
         {
          "font": {
           "color": "black",
           "size": 65
          },
          "showarrow": false,
          "text": "🛸",
          "x": 1.17,
          "xref": "paper",
          "y": 0.55,
          "yref": "paper"
         },
         {
          "font": {
           "color": "black",
           "size": 13
          },
          "showarrow": false,
          "text": "125",
          "x": 1.05,
          "xref": "paper",
          "y": 0.55,
          "yref": "paper"
         }
        ],
        "geo": {
         "bgcolor": "#B5D6E3",
         "landcolor": "#D8D8D8",
         "scope": "usa",
         "showsubunits": true,
         "subunitcolor": "black"
        },
        "height": 550,
        "margin": {
         "b": 0,
         "l": 0,
         "r": 180,
         "t": 30
        },
        "paper_bgcolor": "#B5D6E3",
        "plot_bgcolor": "#B5D6E3",
        "template": {
         "data": {
          "bar": [
           {
            "error_x": {
             "color": "#2a3f5f"
            },
            "error_y": {
             "color": "#2a3f5f"
            },
            "marker": {
             "line": {
              "color": "#E5ECF6",
              "width": 0.5
             },
             "pattern": {
              "fillmode": "overlay",
              "size": 10,
              "solidity": 0.2
             }
            },
            "type": "bar"
           }
          ],
          "barpolar": [
           {
            "marker": {
             "line": {
              "color": "#E5ECF6",
              "width": 0.5
             },
             "pattern": {
              "fillmode": "overlay",
              "size": 10,
              "solidity": 0.2
             }
            },
            "type": "barpolar"
           }
          ],
          "carpet": [
           {
            "aaxis": {
             "endlinecolor": "#2a3f5f",
             "gridcolor": "white",
             "linecolor": "white",
             "minorgridcolor": "white",
             "startlinecolor": "#2a3f5f"
            },
            "baxis": {
             "endlinecolor": "#2a3f5f",
             "gridcolor": "white",
             "linecolor": "white",
             "minorgridcolor": "white",
             "startlinecolor": "#2a3f5f"
            },
            "type": "carpet"
           }
          ],
          "choropleth": [
           {
            "colorbar": {
             "outlinewidth": 0,
             "ticks": ""
            },
            "type": "choropleth"
           }
          ],
          "contour": [
           {
            "colorbar": {
             "outlinewidth": 0,
             "ticks": ""
            },
            "colorscale": [
             [
              0,
              "#0d0887"
             ],
             [
              0.1111111111111111,
              "#46039f"
             ],
             [
              0.2222222222222222,
              "#7201a8"
             ],
             [
              0.3333333333333333,
              "#9c179e"
             ],
             [
              0.4444444444444444,
              "#bd3786"
             ],
             [
              0.5555555555555556,
              "#d8576b"
             ],
             [
              0.6666666666666666,
              "#ed7953"
             ],
             [
              0.7777777777777778,
              "#fb9f3a"
             ],
             [
              0.8888888888888888,
              "#fdca26"
             ],
             [
              1,
              "#f0f921"
             ]
            ],
            "type": "contour"
           }
          ],
          "contourcarpet": [
           {
            "colorbar": {
             "outlinewidth": 0,
             "ticks": ""
            },
            "type": "contourcarpet"
           }
          ],
          "heatmap": [
           {
            "colorbar": {
             "outlinewidth": 0,
             "ticks": ""
            },
            "colorscale": [
             [
              0,
              "#0d0887"
             ],
             [
              0.1111111111111111,
              "#46039f"
             ],
             [
              0.2222222222222222,
              "#7201a8"
             ],
             [
              0.3333333333333333,
              "#9c179e"
             ],
             [
              0.4444444444444444,
              "#bd3786"
             ],
             [
              0.5555555555555556,
              "#d8576b"
             ],
             [
              0.6666666666666666,
              "#ed7953"
             ],
             [
              0.7777777777777778,
              "#fb9f3a"
             ],
             [
              0.8888888888888888,
              "#fdca26"
             ],
             [
              1,
              "#f0f921"
             ]
            ],
            "type": "heatmap"
           }
          ],
          "heatmapgl": [
           {
            "colorbar": {
             "outlinewidth": 0,
             "ticks": ""
            },
            "colorscale": [
             [
              0,
              "#0d0887"
             ],
             [
              0.1111111111111111,
              "#46039f"
             ],
             [
              0.2222222222222222,
              "#7201a8"
             ],
             [
              0.3333333333333333,
              "#9c179e"
             ],
             [
              0.4444444444444444,
              "#bd3786"
             ],
             [
              0.5555555555555556,
              "#d8576b"
             ],
             [
              0.6666666666666666,
              "#ed7953"
             ],
             [
              0.7777777777777778,
              "#fb9f3a"
             ],
             [
              0.8888888888888888,
              "#fdca26"
             ],
             [
              1,
              "#f0f921"
             ]
            ],
            "type": "heatmapgl"
           }
          ],
          "histogram": [
           {
            "marker": {
             "pattern": {
              "fillmode": "overlay",
              "size": 10,
              "solidity": 0.2
             }
            },
            "type": "histogram"
           }
          ],
          "histogram2d": [
           {
            "colorbar": {
             "outlinewidth": 0,
             "ticks": ""
            },
            "colorscale": [
             [
              0,
              "#0d0887"
             ],
             [
              0.1111111111111111,
              "#46039f"
             ],
             [
              0.2222222222222222,
              "#7201a8"
             ],
             [
              0.3333333333333333,
              "#9c179e"
             ],
             [
              0.4444444444444444,
              "#bd3786"
             ],
             [
              0.5555555555555556,
              "#d8576b"
             ],
             [
              0.6666666666666666,
              "#ed7953"
             ],
             [
              0.7777777777777778,
              "#fb9f3a"
             ],
             [
              0.8888888888888888,
              "#fdca26"
             ],
             [
              1,
              "#f0f921"
             ]
            ],
            "type": "histogram2d"
           }
          ],
          "histogram2dcontour": [
           {
            "colorbar": {
             "outlinewidth": 0,
             "ticks": ""
            },
            "colorscale": [
             [
              0,
              "#0d0887"
             ],
             [
              0.1111111111111111,
              "#46039f"
             ],
             [
              0.2222222222222222,
              "#7201a8"
             ],
             [
              0.3333333333333333,
              "#9c179e"
             ],
             [
              0.4444444444444444,
              "#bd3786"
             ],
             [
              0.5555555555555556,
              "#d8576b"
             ],
             [
              0.6666666666666666,
              "#ed7953"
             ],
             [
              0.7777777777777778,
              "#fb9f3a"
             ],
             [
              0.8888888888888888,
              "#fdca26"
             ],
             [
              1,
              "#f0f921"
             ]
            ],
            "type": "histogram2dcontour"
           }
          ],
          "mesh3d": [
           {
            "colorbar": {
             "outlinewidth": 0,
             "ticks": ""
            },
            "type": "mesh3d"
           }
          ],
          "parcoords": [
           {
            "line": {
             "colorbar": {
              "outlinewidth": 0,
              "ticks": ""
             }
            },
            "type": "parcoords"
           }
          ],
          "pie": [
           {
            "automargin": true,
            "type": "pie"
           }
          ],
          "scatter": [
           {
            "fillpattern": {
             "fillmode": "overlay",
             "size": 10,
             "solidity": 0.2
            },
            "type": "scatter"
           }
          ],
          "scatter3d": [
           {
            "line": {
             "colorbar": {
              "outlinewidth": 0,
              "ticks": ""
             }
            },
            "marker": {
             "colorbar": {
              "outlinewidth": 0,
              "ticks": ""
             }
            },
            "type": "scatter3d"
           }
          ],
          "scattercarpet": [
           {
            "marker": {
             "colorbar": {
              "outlinewidth": 0,
              "ticks": ""
             }
            },
            "type": "scattercarpet"
           }
          ],
          "scattergeo": [
           {
            "marker": {
             "colorbar": {
              "outlinewidth": 0,
              "ticks": ""
             }
            },
            "type": "scattergeo"
           }
          ],
          "scattergl": [
           {
            "marker": {
             "colorbar": {
              "outlinewidth": 0,
              "ticks": ""
             }
            },
            "type": "scattergl"
           }
          ],
          "scattermapbox": [
           {
            "marker": {
             "colorbar": {
              "outlinewidth": 0,
              "ticks": ""
             }
            },
            "type": "scattermapbox"
           }
          ],
          "scatterpolar": [
           {
            "marker": {
             "colorbar": {
              "outlinewidth": 0,
              "ticks": ""
             }
            },
            "type": "scatterpolar"
           }
          ],
          "scatterpolargl": [
           {
            "marker": {
             "colorbar": {
              "outlinewidth": 0,
              "ticks": ""
             }
            },
            "type": "scatterpolargl"
           }
          ],
          "scatterternary": [
           {
            "marker": {
             "colorbar": {
              "outlinewidth": 0,
              "ticks": ""
             }
            },
            "type": "scatterternary"
           }
          ],
          "surface": [
           {
            "colorbar": {
             "outlinewidth": 0,
             "ticks": ""
            },
            "colorscale": [
             [
              0,
              "#0d0887"
             ],
             [
              0.1111111111111111,
              "#46039f"
             ],
             [
              0.2222222222222222,
              "#7201a8"
             ],
             [
              0.3333333333333333,
              "#9c179e"
             ],
             [
              0.4444444444444444,
              "#bd3786"
             ],
             [
              0.5555555555555556,
              "#d8576b"
             ],
             [
              0.6666666666666666,
              "#ed7953"
             ],
             [
              0.7777777777777778,
              "#fb9f3a"
             ],
             [
              0.8888888888888888,
              "#fdca26"
             ],
             [
              1,
              "#f0f921"
             ]
            ],
            "type": "surface"
           }
          ],
          "table": [
           {
            "cells": {
             "fill": {
              "color": "#EBF0F8"
             },
             "line": {
              "color": "white"
             }
            },
            "header": {
             "fill": {
              "color": "#C8D4E3"
             },
             "line": {
              "color": "white"
             }
            },
            "type": "table"
           }
          ]
         },
         "layout": {
          "annotationdefaults": {
           "arrowcolor": "#2a3f5f",
           "arrowhead": 0,
           "arrowwidth": 1
          },
          "autotypenumbers": "strict",
          "coloraxis": {
           "colorbar": {
            "outlinewidth": 0,
            "ticks": ""
           }
          },
          "colorscale": {
           "diverging": [
            [
             0,
             "#8e0152"
            ],
            [
             0.1,
             "#c51b7d"
            ],
            [
             0.2,
             "#de77ae"
            ],
            [
             0.3,
             "#f1b6da"
            ],
            [
             0.4,
             "#fde0ef"
            ],
            [
             0.5,
             "#f7f7f7"
            ],
            [
             0.6,
             "#e6f5d0"
            ],
            [
             0.7,
             "#b8e186"
            ],
            [
             0.8,
             "#7fbc41"
            ],
            [
             0.9,
             "#4d9221"
            ],
            [
             1,
             "#276419"
            ]
           ],
           "sequential": [
            [
             0,
             "#0d0887"
            ],
            [
             0.1111111111111111,
             "#46039f"
            ],
            [
             0.2222222222222222,
             "#7201a8"
            ],
            [
             0.3333333333333333,
             "#9c179e"
            ],
            [
             0.4444444444444444,
             "#bd3786"
            ],
            [
             0.5555555555555556,
             "#d8576b"
            ],
            [
             0.6666666666666666,
             "#ed7953"
            ],
            [
             0.7777777777777778,
             "#fb9f3a"
            ],
            [
             0.8888888888888888,
             "#fdca26"
            ],
            [
             1,
             "#f0f921"
            ]
           ],
           "sequentialminus": [
            [
             0,
             "#0d0887"
            ],
            [
             0.1111111111111111,
             "#46039f"
            ],
            [
             0.2222222222222222,
             "#7201a8"
            ],
            [
             0.3333333333333333,
             "#9c179e"
            ],
            [
             0.4444444444444444,
             "#bd3786"
            ],
            [
             0.5555555555555556,
             "#d8576b"
            ],
            [
             0.6666666666666666,
             "#ed7953"
            ],
            [
             0.7777777777777778,
             "#fb9f3a"
            ],
            [
             0.8888888888888888,
             "#fdca26"
            ],
            [
             1,
             "#f0f921"
            ]
           ]
          },
          "colorway": [
           "#636efa",
           "#EF553B",
           "#00cc96",
           "#ab63fa",
           "#FFA15A",
           "#19d3f3",
           "#FF6692",
           "#B6E880",
           "#FF97FF",
           "#FECB52"
          ],
          "font": {
           "color": "#2a3f5f"
          },
          "geo": {
           "bgcolor": "white",
           "lakecolor": "white",
           "landcolor": "#E5ECF6",
           "showlakes": true,
           "showland": true,
           "subunitcolor": "white"
          },
          "hoverlabel": {
           "align": "left"
          },
          "hovermode": "closest",
          "mapbox": {
           "style": "light"
          },
          "paper_bgcolor": "white",
          "plot_bgcolor": "#E5ECF6",
          "polar": {
           "angularaxis": {
            "gridcolor": "white",
            "linecolor": "white",
            "ticks": ""
           },
           "bgcolor": "#E5ECF6",
           "radialaxis": {
            "gridcolor": "white",
            "linecolor": "white",
            "ticks": ""
           }
          },
          "scene": {
           "xaxis": {
            "backgroundcolor": "#E5ECF6",
            "gridcolor": "white",
            "gridwidth": 2,
            "linecolor": "white",
            "showbackground": true,
            "ticks": "",
            "zerolinecolor": "white"
           },
           "yaxis": {
            "backgroundcolor": "#E5ECF6",
            "gridcolor": "white",
            "gridwidth": 2,
            "linecolor": "white",
            "showbackground": true,
            "ticks": "",
            "zerolinecolor": "white"
           },
           "zaxis": {
            "backgroundcolor": "#E5ECF6",
            "gridcolor": "white",
            "gridwidth": 2,
            "linecolor": "white",
            "showbackground": true,
            "ticks": "",
            "zerolinecolor": "white"
           }
          },
          "shapedefaults": {
           "line": {
            "color": "#2a3f5f"
           }
          },
          "ternary": {
           "aaxis": {
            "gridcolor": "white",
            "linecolor": "white",
            "ticks": ""
           },
           "baxis": {
            "gridcolor": "white",
            "linecolor": "white",
            "ticks": ""
           },
           "bgcolor": "#E5ECF6",
           "caxis": {
            "gridcolor": "white",
            "linecolor": "white",
            "ticks": ""
           }
          },
          "title": {
           "x": 0.05
          },
          "xaxis": {
           "automargin": true,
           "gridcolor": "white",
           "linecolor": "white",
           "ticks": "",
           "title": {
            "standoff": 15
           },
           "zerolinecolor": "white",
           "zerolinewidth": 2
          },
          "yaxis": {
           "automargin": true,
           "gridcolor": "white",
           "linecolor": "white",
           "ticks": "",
           "title": {
            "standoff": 15
           },
           "zerolinecolor": "white",
           "zerolinewidth": 2
          }
         }
        },
        "title": {
         "text": "Number of UFO Sightings in the US across the years"
        },
        "width": 1000
       }
      }
     },
     "metadata": {},
     "output_type": "display_data"
    }
   ],
   "source": [
    "# Filter to year 1975\n",
    "\n",
    "ufo_state_year_1975 = ufo_state_year[ufo_state_year['year'] == '1975']\n",
    "ufo_state_year_1975 = ufo_state_year_1975.drop(ufo_state_year_1975[ufo_state_year_1975['count_normalized'] == 0].index)\n",
    "ufo_state_year_1975\n",
    "# set scale\n",
    "scale = 1000\n",
    "\n",
    "# create figure\n",
    "fig = go.Figure(\n",
    "    go.Scattergeo(\n",
    "        lon = ufo_state_year_1975['long'],\n",
    "        lat = ufo_state_year_1975['lat'],\n",
    "        mode = 'text',\n",
    "        text = '🛸',\n",
    "        textfont_size = scale*(ufo_state_year_1975['count_normalized'])\n",
    "    )\n",
    ")\n",
    "\n",
    "fig.add_annotation(\n",
    "    x= 1,y=0.3,\n",
    "    xref = 'paper',\n",
    "    yref='paper',\n",
    "    text=\"1975\",\n",
    "    showarrow=False,\n",
    "    font=dict(size=27, color='black'),\n",
    ")\n",
    "\n",
    "# Start of legend\n",
    "fig.add_annotation(\n",
    "    x=1.2,y=0.85,\n",
    "    xref = 'paper',\n",
    "    yref='paper',\n",
    "    text=\"Number of UFO sighted\",\n",
    "    showarrow=False,\n",
    "    font=dict(size=17, color='black'),\n",
    ")\n",
    "\n",
    "# Legend entry 1\n",
    "fig.add_annotation(\n",
    "    x=1.14,y=0.786,\n",
    "    xref = 'paper',\n",
    "    yref='paper',\n",
    "    text=\"🛸\",\n",
    "    showarrow=False,\n",
    "    font=dict(size=27, color='black'),\n",
    ")\n",
    "fig.add_annotation(\n",
    "    x=1.05,y=0.77,\n",
    "    xref = 'paper',\n",
    "    yref='paper',\n",
    "    text=\"5\",\n",
    "    showarrow=False,\n",
    "    font=dict(size=13, color='black'),\n",
    ")\n",
    "\n",
    "# Legend entry 2\n",
    "fig.add_annotation(\n",
    "    x=1.16,y=0.72,\n",
    "    xref = 'paper',\n",
    "    yref='paper',\n",
    "    text=\"🛸\",\n",
    "    showarrow=False,\n",
    "    font=dict(size=50, color='black'),\n",
    ")\n",
    "fig.add_annotation(\n",
    "    x=1.05,y=0.67,\n",
    "    xref = 'paper',\n",
    "    yref='paper',\n",
    "    text=\"75\",\n",
    "    showarrow=False,\n",
    "    font=dict(size=13, color='black'),\n",
    ")\n",
    "\n",
    "# Legend entry 3\n",
    "fig.add_annotation(\n",
    "    x=1.17,y=0.55,\n",
    "    xref = 'paper',\n",
    "    yref='paper',\n",
    "    text=\"🛸\",\n",
    "    showarrow=False,\n",
    "    font=dict(size=65, color='black'),\n",
    ")\n",
    "fig.add_annotation(\n",
    "    x=1.05,y=0.55,\n",
    "    xref = 'paper',\n",
    "    yref='paper',\n",
    "    text=\"125\",\n",
    "    showarrow=False,\n",
    "    font=dict(size=13, color='black'),\n",
    ")\n",
    "\n",
    "\n",
    "\n",
    "fig.update_geos(landcolor='#D8D8D8')\n",
    "\n",
    "\n",
    "fig.update_layout(\n",
    "    title = 'Number of UFO Sightings in the US across the years',\n",
    "    geo_scope='usa',\n",
    "    width=1000,\n",
    "    height=550,\n",
    "    margin={\"r\":180,\"t\":30,\"l\":0,\"b\":0},\n",
    "    plot_bgcolor='#B5D6E3',  # set background color outside of the map\n",
    "    paper_bgcolor='#B5D6E3',\n",
    "    geo=dict(bgcolor='#B5D6E3' , showsubunits=True, subunitcolor='black')  # set background color of the map\n",
    ")\n",
    "\n",
    "fig.write_image(\"x.png\")\n",
    "fig.show()\n"
   ]
  },
  {
   "cell_type": "code",
   "execution_count": 10,
   "metadata": {},
   "outputs": [
    {
     "data": {
      "application/vnd.plotly.v1+json": {
       "config": {
        "plotlyServerURL": "https://plot.ly"
       },
       "data": [
        {
         "lat": [
          63.588753,
          32.31823,
          35.20105,
          34.048927,
          36.778261,
          39.550051,
          41.603221,
          27.994402,
          33.247875,
          19.741755,
          40.633125,
          40.551217,
          39.011902,
          31.244823,
          42.407211,
          44.314844,
          46.729553,
          37.964253,
          35.759573,
          41.492537,
          43.193852,
          40.058324,
          34.97273,
          38.80261,
          43.299428,
          40.417287,
          35.007752,
          43.804133,
          41.203323,
          33.836081,
          35.517491,
          31.968599,
          39.32098,
          37.431573,
          47.751076,
          44.268543,
          38.597626,
          43.075968
         ],
         "lon": [
          -154.493062,
          -86.902298,
          -91.831833,
          -111.093735,
          -119.417932,
          -105.782067,
          -73.087749,
          -81.760254,
          -83.441162,
          -155.844437,
          -89.398529,
          -85.602364,
          -98.484246,
          -92.145024,
          -71.382437,
          -85.602364,
          -94.6859,
          -91.831833,
          -79.0193,
          -99.90181,
          -71.572395,
          -74.405661,
          -105.032363,
          -116.419389,
          -74.217933,
          -82.907123,
          -97.092877,
          -120.554201,
          -77.194527,
          -81.163725,
          -86.580447,
          -99.90181,
          -111.093731,
          -78.656894,
          -120.740135,
          -89.616508,
          -80.454903,
          -107.290284
         ],
         "mode": "text",
         "text": "🛸",
         "textfont": {
          "size": [
           1.1806375442739079,
           3.541912632821724,
           4.7225501770956315,
           4.7225501770956315,
           34.23848878394333,
           1.1806375442739079,
           8.264462809917356,
           20.070838252656433,
           4.7225501770956315,
           2.3612750885478158,
           3.541912632821724,
           2.3612750885478158,
           3.541912632821724,
           3.541912632821724,
           2.3612750885478158,
           2.3612750885478158,
           1.1806375442739079,
           7.083825265643448,
           9.445100354191263,
           2.3612750885478158,
           1.1806375442739079,
           7.083825265643448,
           1.1806375442739079,
           1.1806375442739079,
           25.974025974025977,
           8.264462809917356,
           1.1806375442739079,
           5.903187721369539,
           9.445100354191263,
           2.3612750885478158,
           1.1806375442739079,
           18.890200708382526,
           1.1806375442739079,
           5.903187721369539,
           7.083825265643448,
           5.903187721369539,
           2.3612750885478158,
           1.1806375442739079
          ]
         },
         "type": "scattergeo"
        }
       ],
       "layout": {
        "annotations": [
         {
          "font": {
           "color": "black",
           "size": 27
          },
          "showarrow": false,
          "text": "1985",
          "x": 0.9,
          "xref": "paper",
          "y": 0.3,
          "yref": "paper"
         }
        ],
        "geo": {
         "bgcolor": "#B5D6E3",
         "landcolor": "#D8D8D8",
         "scope": "usa",
         "showsubunits": true,
         "subunitcolor": "black"
        },
        "height": 550,
        "margin": {
         "b": 0,
         "l": 0,
         "r": 0,
         "t": 0
        },
        "plot_bgcolor": "#B5D6E3",
        "template": {
         "data": {
          "bar": [
           {
            "error_x": {
             "color": "#2a3f5f"
            },
            "error_y": {
             "color": "#2a3f5f"
            },
            "marker": {
             "line": {
              "color": "#E5ECF6",
              "width": 0.5
             },
             "pattern": {
              "fillmode": "overlay",
              "size": 10,
              "solidity": 0.2
             }
            },
            "type": "bar"
           }
          ],
          "barpolar": [
           {
            "marker": {
             "line": {
              "color": "#E5ECF6",
              "width": 0.5
             },
             "pattern": {
              "fillmode": "overlay",
              "size": 10,
              "solidity": 0.2
             }
            },
            "type": "barpolar"
           }
          ],
          "carpet": [
           {
            "aaxis": {
             "endlinecolor": "#2a3f5f",
             "gridcolor": "white",
             "linecolor": "white",
             "minorgridcolor": "white",
             "startlinecolor": "#2a3f5f"
            },
            "baxis": {
             "endlinecolor": "#2a3f5f",
             "gridcolor": "white",
             "linecolor": "white",
             "minorgridcolor": "white",
             "startlinecolor": "#2a3f5f"
            },
            "type": "carpet"
           }
          ],
          "choropleth": [
           {
            "colorbar": {
             "outlinewidth": 0,
             "ticks": ""
            },
            "type": "choropleth"
           }
          ],
          "contour": [
           {
            "colorbar": {
             "outlinewidth": 0,
             "ticks": ""
            },
            "colorscale": [
             [
              0,
              "#0d0887"
             ],
             [
              0.1111111111111111,
              "#46039f"
             ],
             [
              0.2222222222222222,
              "#7201a8"
             ],
             [
              0.3333333333333333,
              "#9c179e"
             ],
             [
              0.4444444444444444,
              "#bd3786"
             ],
             [
              0.5555555555555556,
              "#d8576b"
             ],
             [
              0.6666666666666666,
              "#ed7953"
             ],
             [
              0.7777777777777778,
              "#fb9f3a"
             ],
             [
              0.8888888888888888,
              "#fdca26"
             ],
             [
              1,
              "#f0f921"
             ]
            ],
            "type": "contour"
           }
          ],
          "contourcarpet": [
           {
            "colorbar": {
             "outlinewidth": 0,
             "ticks": ""
            },
            "type": "contourcarpet"
           }
          ],
          "heatmap": [
           {
            "colorbar": {
             "outlinewidth": 0,
             "ticks": ""
            },
            "colorscale": [
             [
              0,
              "#0d0887"
             ],
             [
              0.1111111111111111,
              "#46039f"
             ],
             [
              0.2222222222222222,
              "#7201a8"
             ],
             [
              0.3333333333333333,
              "#9c179e"
             ],
             [
              0.4444444444444444,
              "#bd3786"
             ],
             [
              0.5555555555555556,
              "#d8576b"
             ],
             [
              0.6666666666666666,
              "#ed7953"
             ],
             [
              0.7777777777777778,
              "#fb9f3a"
             ],
             [
              0.8888888888888888,
              "#fdca26"
             ],
             [
              1,
              "#f0f921"
             ]
            ],
            "type": "heatmap"
           }
          ],
          "heatmapgl": [
           {
            "colorbar": {
             "outlinewidth": 0,
             "ticks": ""
            },
            "colorscale": [
             [
              0,
              "#0d0887"
             ],
             [
              0.1111111111111111,
              "#46039f"
             ],
             [
              0.2222222222222222,
              "#7201a8"
             ],
             [
              0.3333333333333333,
              "#9c179e"
             ],
             [
              0.4444444444444444,
              "#bd3786"
             ],
             [
              0.5555555555555556,
              "#d8576b"
             ],
             [
              0.6666666666666666,
              "#ed7953"
             ],
             [
              0.7777777777777778,
              "#fb9f3a"
             ],
             [
              0.8888888888888888,
              "#fdca26"
             ],
             [
              1,
              "#f0f921"
             ]
            ],
            "type": "heatmapgl"
           }
          ],
          "histogram": [
           {
            "marker": {
             "pattern": {
              "fillmode": "overlay",
              "size": 10,
              "solidity": 0.2
             }
            },
            "type": "histogram"
           }
          ],
          "histogram2d": [
           {
            "colorbar": {
             "outlinewidth": 0,
             "ticks": ""
            },
            "colorscale": [
             [
              0,
              "#0d0887"
             ],
             [
              0.1111111111111111,
              "#46039f"
             ],
             [
              0.2222222222222222,
              "#7201a8"
             ],
             [
              0.3333333333333333,
              "#9c179e"
             ],
             [
              0.4444444444444444,
              "#bd3786"
             ],
             [
              0.5555555555555556,
              "#d8576b"
             ],
             [
              0.6666666666666666,
              "#ed7953"
             ],
             [
              0.7777777777777778,
              "#fb9f3a"
             ],
             [
              0.8888888888888888,
              "#fdca26"
             ],
             [
              1,
              "#f0f921"
             ]
            ],
            "type": "histogram2d"
           }
          ],
          "histogram2dcontour": [
           {
            "colorbar": {
             "outlinewidth": 0,
             "ticks": ""
            },
            "colorscale": [
             [
              0,
              "#0d0887"
             ],
             [
              0.1111111111111111,
              "#46039f"
             ],
             [
              0.2222222222222222,
              "#7201a8"
             ],
             [
              0.3333333333333333,
              "#9c179e"
             ],
             [
              0.4444444444444444,
              "#bd3786"
             ],
             [
              0.5555555555555556,
              "#d8576b"
             ],
             [
              0.6666666666666666,
              "#ed7953"
             ],
             [
              0.7777777777777778,
              "#fb9f3a"
             ],
             [
              0.8888888888888888,
              "#fdca26"
             ],
             [
              1,
              "#f0f921"
             ]
            ],
            "type": "histogram2dcontour"
           }
          ],
          "mesh3d": [
           {
            "colorbar": {
             "outlinewidth": 0,
             "ticks": ""
            },
            "type": "mesh3d"
           }
          ],
          "parcoords": [
           {
            "line": {
             "colorbar": {
              "outlinewidth": 0,
              "ticks": ""
             }
            },
            "type": "parcoords"
           }
          ],
          "pie": [
           {
            "automargin": true,
            "type": "pie"
           }
          ],
          "scatter": [
           {
            "fillpattern": {
             "fillmode": "overlay",
             "size": 10,
             "solidity": 0.2
            },
            "type": "scatter"
           }
          ],
          "scatter3d": [
           {
            "line": {
             "colorbar": {
              "outlinewidth": 0,
              "ticks": ""
             }
            },
            "marker": {
             "colorbar": {
              "outlinewidth": 0,
              "ticks": ""
             }
            },
            "type": "scatter3d"
           }
          ],
          "scattercarpet": [
           {
            "marker": {
             "colorbar": {
              "outlinewidth": 0,
              "ticks": ""
             }
            },
            "type": "scattercarpet"
           }
          ],
          "scattergeo": [
           {
            "marker": {
             "colorbar": {
              "outlinewidth": 0,
              "ticks": ""
             }
            },
            "type": "scattergeo"
           }
          ],
          "scattergl": [
           {
            "marker": {
             "colorbar": {
              "outlinewidth": 0,
              "ticks": ""
             }
            },
            "type": "scattergl"
           }
          ],
          "scattermapbox": [
           {
            "marker": {
             "colorbar": {
              "outlinewidth": 0,
              "ticks": ""
             }
            },
            "type": "scattermapbox"
           }
          ],
          "scatterpolar": [
           {
            "marker": {
             "colorbar": {
              "outlinewidth": 0,
              "ticks": ""
             }
            },
            "type": "scatterpolar"
           }
          ],
          "scatterpolargl": [
           {
            "marker": {
             "colorbar": {
              "outlinewidth": 0,
              "ticks": ""
             }
            },
            "type": "scatterpolargl"
           }
          ],
          "scatterternary": [
           {
            "marker": {
             "colorbar": {
              "outlinewidth": 0,
              "ticks": ""
             }
            },
            "type": "scatterternary"
           }
          ],
          "surface": [
           {
            "colorbar": {
             "outlinewidth": 0,
             "ticks": ""
            },
            "colorscale": [
             [
              0,
              "#0d0887"
             ],
             [
              0.1111111111111111,
              "#46039f"
             ],
             [
              0.2222222222222222,
              "#7201a8"
             ],
             [
              0.3333333333333333,
              "#9c179e"
             ],
             [
              0.4444444444444444,
              "#bd3786"
             ],
             [
              0.5555555555555556,
              "#d8576b"
             ],
             [
              0.6666666666666666,
              "#ed7953"
             ],
             [
              0.7777777777777778,
              "#fb9f3a"
             ],
             [
              0.8888888888888888,
              "#fdca26"
             ],
             [
              1,
              "#f0f921"
             ]
            ],
            "type": "surface"
           }
          ],
          "table": [
           {
            "cells": {
             "fill": {
              "color": "#EBF0F8"
             },
             "line": {
              "color": "white"
             }
            },
            "header": {
             "fill": {
              "color": "#C8D4E3"
             },
             "line": {
              "color": "white"
             }
            },
            "type": "table"
           }
          ]
         },
         "layout": {
          "annotationdefaults": {
           "arrowcolor": "#2a3f5f",
           "arrowhead": 0,
           "arrowwidth": 1
          },
          "autotypenumbers": "strict",
          "coloraxis": {
           "colorbar": {
            "outlinewidth": 0,
            "ticks": ""
           }
          },
          "colorscale": {
           "diverging": [
            [
             0,
             "#8e0152"
            ],
            [
             0.1,
             "#c51b7d"
            ],
            [
             0.2,
             "#de77ae"
            ],
            [
             0.3,
             "#f1b6da"
            ],
            [
             0.4,
             "#fde0ef"
            ],
            [
             0.5,
             "#f7f7f7"
            ],
            [
             0.6,
             "#e6f5d0"
            ],
            [
             0.7,
             "#b8e186"
            ],
            [
             0.8,
             "#7fbc41"
            ],
            [
             0.9,
             "#4d9221"
            ],
            [
             1,
             "#276419"
            ]
           ],
           "sequential": [
            [
             0,
             "#0d0887"
            ],
            [
             0.1111111111111111,
             "#46039f"
            ],
            [
             0.2222222222222222,
             "#7201a8"
            ],
            [
             0.3333333333333333,
             "#9c179e"
            ],
            [
             0.4444444444444444,
             "#bd3786"
            ],
            [
             0.5555555555555556,
             "#d8576b"
            ],
            [
             0.6666666666666666,
             "#ed7953"
            ],
            [
             0.7777777777777778,
             "#fb9f3a"
            ],
            [
             0.8888888888888888,
             "#fdca26"
            ],
            [
             1,
             "#f0f921"
            ]
           ],
           "sequentialminus": [
            [
             0,
             "#0d0887"
            ],
            [
             0.1111111111111111,
             "#46039f"
            ],
            [
             0.2222222222222222,
             "#7201a8"
            ],
            [
             0.3333333333333333,
             "#9c179e"
            ],
            [
             0.4444444444444444,
             "#bd3786"
            ],
            [
             0.5555555555555556,
             "#d8576b"
            ],
            [
             0.6666666666666666,
             "#ed7953"
            ],
            [
             0.7777777777777778,
             "#fb9f3a"
            ],
            [
             0.8888888888888888,
             "#fdca26"
            ],
            [
             1,
             "#f0f921"
            ]
           ]
          },
          "colorway": [
           "#636efa",
           "#EF553B",
           "#00cc96",
           "#ab63fa",
           "#FFA15A",
           "#19d3f3",
           "#FF6692",
           "#B6E880",
           "#FF97FF",
           "#FECB52"
          ],
          "font": {
           "color": "#2a3f5f"
          },
          "geo": {
           "bgcolor": "white",
           "lakecolor": "white",
           "landcolor": "#E5ECF6",
           "showlakes": true,
           "showland": true,
           "subunitcolor": "white"
          },
          "hoverlabel": {
           "align": "left"
          },
          "hovermode": "closest",
          "mapbox": {
           "style": "light"
          },
          "paper_bgcolor": "white",
          "plot_bgcolor": "#E5ECF6",
          "polar": {
           "angularaxis": {
            "gridcolor": "white",
            "linecolor": "white",
            "ticks": ""
           },
           "bgcolor": "#E5ECF6",
           "radialaxis": {
            "gridcolor": "white",
            "linecolor": "white",
            "ticks": ""
           }
          },
          "scene": {
           "xaxis": {
            "backgroundcolor": "#E5ECF6",
            "gridcolor": "white",
            "gridwidth": 2,
            "linecolor": "white",
            "showbackground": true,
            "ticks": "",
            "zerolinecolor": "white"
           },
           "yaxis": {
            "backgroundcolor": "#E5ECF6",
            "gridcolor": "white",
            "gridwidth": 2,
            "linecolor": "white",
            "showbackground": true,
            "ticks": "",
            "zerolinecolor": "white"
           },
           "zaxis": {
            "backgroundcolor": "#E5ECF6",
            "gridcolor": "white",
            "gridwidth": 2,
            "linecolor": "white",
            "showbackground": true,
            "ticks": "",
            "zerolinecolor": "white"
           }
          },
          "shapedefaults": {
           "line": {
            "color": "#2a3f5f"
           }
          },
          "ternary": {
           "aaxis": {
            "gridcolor": "white",
            "linecolor": "white",
            "ticks": ""
           },
           "baxis": {
            "gridcolor": "white",
            "linecolor": "white",
            "ticks": ""
           },
           "bgcolor": "#E5ECF6",
           "caxis": {
            "gridcolor": "white",
            "linecolor": "white",
            "ticks": ""
           }
          },
          "title": {
           "x": 0.05
          },
          "xaxis": {
           "automargin": true,
           "gridcolor": "white",
           "linecolor": "white",
           "ticks": "",
           "title": {
            "standoff": 15
           },
           "zerolinecolor": "white",
           "zerolinewidth": 2
          },
          "yaxis": {
           "automargin": true,
           "gridcolor": "white",
           "linecolor": "white",
           "ticks": "",
           "title": {
            "standoff": 15
           },
           "zerolinecolor": "white",
           "zerolinewidth": 2
          }
         }
        },
        "title": {
         "text": "UFO Sightings"
        },
        "width": 1000
       }
      }
     },
     "metadata": {},
     "output_type": "display_data"
    }
   ],
   "source": [
    "# Filter to year 1985\n",
    "\n",
    "ufo_state_year_1985 = ufo_state_year[ufo_state_year['year'] == '1985']\n",
    "ufo_state_year_1985 = ufo_state_year_1985.drop(ufo_state_year_1985[ufo_state_year_1985['count_normalized'] == 0].index)\n",
    "ufo_state_year_1985\n",
    "# set scale\n",
    "scale = 1000\n",
    "\n",
    "# create figure\n",
    "fig = go.Figure(\n",
    "    go.Scattergeo(\n",
    "        lon = ufo_state_year_1985['long'],\n",
    "        lat = ufo_state_year_1985['lat'],\n",
    "        mode = 'text',\n",
    "        text = '🛸',\n",
    "        textfont_size = scale*(ufo_state_year_1985['count_normalized'])\n",
    "    )\n",
    ")\n",
    "\n",
    "fig.update_geos(landcolor='#D8D8D8')\n",
    "\n",
    "fig.add_annotation(\n",
    "    x=0.9,y=0.3,\n",
    "    xref = 'paper',\n",
    "    yref='paper',\n",
    "    text=\"1985\",\n",
    "    showarrow=False,\n",
    "    font=dict(size=27, color='black'),\n",
    ")\n",
    "\n",
    "\n",
    "\n",
    "fig.update_layout(\n",
    "    title = 'UFO Sightings',\n",
    "    geo_scope='usa',\n",
    "    width=1000,\n",
    "    height=550,\n",
    "    margin={\"r\":0,\"t\":0,\"l\":0,\"b\":0},\n",
    "    plot_bgcolor='#B5D6E3',  # set background color outside of the map\n",
    "    geo=dict(bgcolor='#B5D6E3' , showsubunits=True, subunitcolor='black')  # set background color of the map\n",
    ")\n",
    "\n",
    "fig.show()\n"
   ]
  },
  {
   "cell_type": "code",
   "execution_count": 11,
   "metadata": {},
   "outputs": [
    {
     "data": {
      "application/vnd.plotly.v1+json": {
       "config": {
        "plotlyServerURL": "https://plot.ly"
       },
       "data": [
        {
         "lat": [
          63.588753,
          32.31823,
          35.20105,
          34.048927,
          36.778261,
          39.550051,
          41.603221,
          38.910832,
          27.994402,
          33.247875,
          19.741755,
          44.068202,
          40.633125,
          40.551217,
          39.011902,
          37.839333,
          31.244823,
          42.407211,
          39.045753,
          45.253783,
          44.314844,
          46.729553,
          37.964253,
          32.354668,
          46.879682,
          35.759573,
          47.551493,
          41.492537,
          43.193852,
          40.058324,
          34.97273,
          38.80261,
          43.299428,
          40.417287,
          35.007752,
          43.804133,
          41.203323,
          18.2208,
          33.836081,
          43.969515,
          35.517491,
          31.968599,
          39.32098,
          37.431573,
          47.751076,
          44.268543,
          38.597626
         ],
         "lon": [
          -154.493062,
          -86.902298,
          -91.831833,
          -111.093735,
          -119.417932,
          -105.782067,
          -73.087749,
          -75.52767,
          -81.760254,
          -83.441162,
          -155.844437,
          -114.742041,
          -89.398529,
          -85.602364,
          -98.484246,
          -84.27002,
          -92.145024,
          -71.382437,
          -76.641273,
          -69.445469,
          -85.602364,
          -94.6859,
          -91.831833,
          -89.398529,
          -110.362566,
          -79.0193,
          -101.002012,
          -99.90181,
          -71.572395,
          -74.405661,
          -105.032363,
          -116.419389,
          -74.217933,
          -82.907123,
          -97.092877,
          -120.554201,
          -77.194527,
          66.5901,
          -81.163725,
          -99.90181,
          -86.580447,
          -99.90181,
          -111.093731,
          -78.656894,
          -120.740135,
          -89.616508,
          -80.454903
         ],
         "mode": "text",
         "text": "🛸",
         "textfont": {
          "size": [
           5.903187721369539,
           7.083825265643448,
           3.541912632821724,
           27.15466351829988,
           80.28335301062573,
           15.348288075560802,
           8.264462809917356,
           1.1806375442739079,
           22.43211334120425,
           11.806375442739078,
           1.1806375442739079,
           1.1806375442739079,
           15.348288075560802,
           5.903187721369539,
           1.1806375442739079,
           10.625737898465172,
           2.3612750885478158,
           15.348288075560802,
           9.445100354191263,
           4.7225501770956315,
           28.33530106257379,
           2.3612750885478158,
           9.445100354191263,
           7.083825265643448,
           5.903187721369539,
           12.987012987012989,
           2.3612750885478158,
           4.7225501770956315,
           4.7225501770956315,
           5.903187721369539,
           7.083825265643448,
           15.348288075560802,
           36.599763872491145,
           30.696576151121604,
           8.264462809917356,
           14.167650531286895,
           23.612750885478157,
           1.1806375442739079,
           8.264462809917356,
           2.3612750885478158,
           7.083825265643448,
           40.141676505312866,
           7.083825265643448,
           9.445100354191263,
           48.40613931523023,
           17.70956316410862,
           2.3612750885478158
          ]
         },
         "type": "scattergeo"
        }
       ],
       "layout": {
        "annotations": [
         {
          "font": {
           "color": "black",
           "size": 27
          },
          "showarrow": false,
          "text": "1995",
          "x": 0.9,
          "xref": "paper",
          "y": 0.3,
          "yref": "paper"
         }
        ],
        "geo": {
         "bgcolor": "#B5D6E3",
         "landcolor": "#D8D8D8",
         "scope": "usa",
         "showsubunits": true,
         "subunitcolor": "black"
        },
        "height": 550,
        "margin": {
         "b": 0,
         "l": 0,
         "r": 0,
         "t": 0
        },
        "plot_bgcolor": "#B5D6E3",
        "template": {
         "data": {
          "bar": [
           {
            "error_x": {
             "color": "#2a3f5f"
            },
            "error_y": {
             "color": "#2a3f5f"
            },
            "marker": {
             "line": {
              "color": "#E5ECF6",
              "width": 0.5
             },
             "pattern": {
              "fillmode": "overlay",
              "size": 10,
              "solidity": 0.2
             }
            },
            "type": "bar"
           }
          ],
          "barpolar": [
           {
            "marker": {
             "line": {
              "color": "#E5ECF6",
              "width": 0.5
             },
             "pattern": {
              "fillmode": "overlay",
              "size": 10,
              "solidity": 0.2
             }
            },
            "type": "barpolar"
           }
          ],
          "carpet": [
           {
            "aaxis": {
             "endlinecolor": "#2a3f5f",
             "gridcolor": "white",
             "linecolor": "white",
             "minorgridcolor": "white",
             "startlinecolor": "#2a3f5f"
            },
            "baxis": {
             "endlinecolor": "#2a3f5f",
             "gridcolor": "white",
             "linecolor": "white",
             "minorgridcolor": "white",
             "startlinecolor": "#2a3f5f"
            },
            "type": "carpet"
           }
          ],
          "choropleth": [
           {
            "colorbar": {
             "outlinewidth": 0,
             "ticks": ""
            },
            "type": "choropleth"
           }
          ],
          "contour": [
           {
            "colorbar": {
             "outlinewidth": 0,
             "ticks": ""
            },
            "colorscale": [
             [
              0,
              "#0d0887"
             ],
             [
              0.1111111111111111,
              "#46039f"
             ],
             [
              0.2222222222222222,
              "#7201a8"
             ],
             [
              0.3333333333333333,
              "#9c179e"
             ],
             [
              0.4444444444444444,
              "#bd3786"
             ],
             [
              0.5555555555555556,
              "#d8576b"
             ],
             [
              0.6666666666666666,
              "#ed7953"
             ],
             [
              0.7777777777777778,
              "#fb9f3a"
             ],
             [
              0.8888888888888888,
              "#fdca26"
             ],
             [
              1,
              "#f0f921"
             ]
            ],
            "type": "contour"
           }
          ],
          "contourcarpet": [
           {
            "colorbar": {
             "outlinewidth": 0,
             "ticks": ""
            },
            "type": "contourcarpet"
           }
          ],
          "heatmap": [
           {
            "colorbar": {
             "outlinewidth": 0,
             "ticks": ""
            },
            "colorscale": [
             [
              0,
              "#0d0887"
             ],
             [
              0.1111111111111111,
              "#46039f"
             ],
             [
              0.2222222222222222,
              "#7201a8"
             ],
             [
              0.3333333333333333,
              "#9c179e"
             ],
             [
              0.4444444444444444,
              "#bd3786"
             ],
             [
              0.5555555555555556,
              "#d8576b"
             ],
             [
              0.6666666666666666,
              "#ed7953"
             ],
             [
              0.7777777777777778,
              "#fb9f3a"
             ],
             [
              0.8888888888888888,
              "#fdca26"
             ],
             [
              1,
              "#f0f921"
             ]
            ],
            "type": "heatmap"
           }
          ],
          "heatmapgl": [
           {
            "colorbar": {
             "outlinewidth": 0,
             "ticks": ""
            },
            "colorscale": [
             [
              0,
              "#0d0887"
             ],
             [
              0.1111111111111111,
              "#46039f"
             ],
             [
              0.2222222222222222,
              "#7201a8"
             ],
             [
              0.3333333333333333,
              "#9c179e"
             ],
             [
              0.4444444444444444,
              "#bd3786"
             ],
             [
              0.5555555555555556,
              "#d8576b"
             ],
             [
              0.6666666666666666,
              "#ed7953"
             ],
             [
              0.7777777777777778,
              "#fb9f3a"
             ],
             [
              0.8888888888888888,
              "#fdca26"
             ],
             [
              1,
              "#f0f921"
             ]
            ],
            "type": "heatmapgl"
           }
          ],
          "histogram": [
           {
            "marker": {
             "pattern": {
              "fillmode": "overlay",
              "size": 10,
              "solidity": 0.2
             }
            },
            "type": "histogram"
           }
          ],
          "histogram2d": [
           {
            "colorbar": {
             "outlinewidth": 0,
             "ticks": ""
            },
            "colorscale": [
             [
              0,
              "#0d0887"
             ],
             [
              0.1111111111111111,
              "#46039f"
             ],
             [
              0.2222222222222222,
              "#7201a8"
             ],
             [
              0.3333333333333333,
              "#9c179e"
             ],
             [
              0.4444444444444444,
              "#bd3786"
             ],
             [
              0.5555555555555556,
              "#d8576b"
             ],
             [
              0.6666666666666666,
              "#ed7953"
             ],
             [
              0.7777777777777778,
              "#fb9f3a"
             ],
             [
              0.8888888888888888,
              "#fdca26"
             ],
             [
              1,
              "#f0f921"
             ]
            ],
            "type": "histogram2d"
           }
          ],
          "histogram2dcontour": [
           {
            "colorbar": {
             "outlinewidth": 0,
             "ticks": ""
            },
            "colorscale": [
             [
              0,
              "#0d0887"
             ],
             [
              0.1111111111111111,
              "#46039f"
             ],
             [
              0.2222222222222222,
              "#7201a8"
             ],
             [
              0.3333333333333333,
              "#9c179e"
             ],
             [
              0.4444444444444444,
              "#bd3786"
             ],
             [
              0.5555555555555556,
              "#d8576b"
             ],
             [
              0.6666666666666666,
              "#ed7953"
             ],
             [
              0.7777777777777778,
              "#fb9f3a"
             ],
             [
              0.8888888888888888,
              "#fdca26"
             ],
             [
              1,
              "#f0f921"
             ]
            ],
            "type": "histogram2dcontour"
           }
          ],
          "mesh3d": [
           {
            "colorbar": {
             "outlinewidth": 0,
             "ticks": ""
            },
            "type": "mesh3d"
           }
          ],
          "parcoords": [
           {
            "line": {
             "colorbar": {
              "outlinewidth": 0,
              "ticks": ""
             }
            },
            "type": "parcoords"
           }
          ],
          "pie": [
           {
            "automargin": true,
            "type": "pie"
           }
          ],
          "scatter": [
           {
            "fillpattern": {
             "fillmode": "overlay",
             "size": 10,
             "solidity": 0.2
            },
            "type": "scatter"
           }
          ],
          "scatter3d": [
           {
            "line": {
             "colorbar": {
              "outlinewidth": 0,
              "ticks": ""
             }
            },
            "marker": {
             "colorbar": {
              "outlinewidth": 0,
              "ticks": ""
             }
            },
            "type": "scatter3d"
           }
          ],
          "scattercarpet": [
           {
            "marker": {
             "colorbar": {
              "outlinewidth": 0,
              "ticks": ""
             }
            },
            "type": "scattercarpet"
           }
          ],
          "scattergeo": [
           {
            "marker": {
             "colorbar": {
              "outlinewidth": 0,
              "ticks": ""
             }
            },
            "type": "scattergeo"
           }
          ],
          "scattergl": [
           {
            "marker": {
             "colorbar": {
              "outlinewidth": 0,
              "ticks": ""
             }
            },
            "type": "scattergl"
           }
          ],
          "scattermapbox": [
           {
            "marker": {
             "colorbar": {
              "outlinewidth": 0,
              "ticks": ""
             }
            },
            "type": "scattermapbox"
           }
          ],
          "scatterpolar": [
           {
            "marker": {
             "colorbar": {
              "outlinewidth": 0,
              "ticks": ""
             }
            },
            "type": "scatterpolar"
           }
          ],
          "scatterpolargl": [
           {
            "marker": {
             "colorbar": {
              "outlinewidth": 0,
              "ticks": ""
             }
            },
            "type": "scatterpolargl"
           }
          ],
          "scatterternary": [
           {
            "marker": {
             "colorbar": {
              "outlinewidth": 0,
              "ticks": ""
             }
            },
            "type": "scatterternary"
           }
          ],
          "surface": [
           {
            "colorbar": {
             "outlinewidth": 0,
             "ticks": ""
            },
            "colorscale": [
             [
              0,
              "#0d0887"
             ],
             [
              0.1111111111111111,
              "#46039f"
             ],
             [
              0.2222222222222222,
              "#7201a8"
             ],
             [
              0.3333333333333333,
              "#9c179e"
             ],
             [
              0.4444444444444444,
              "#bd3786"
             ],
             [
              0.5555555555555556,
              "#d8576b"
             ],
             [
              0.6666666666666666,
              "#ed7953"
             ],
             [
              0.7777777777777778,
              "#fb9f3a"
             ],
             [
              0.8888888888888888,
              "#fdca26"
             ],
             [
              1,
              "#f0f921"
             ]
            ],
            "type": "surface"
           }
          ],
          "table": [
           {
            "cells": {
             "fill": {
              "color": "#EBF0F8"
             },
             "line": {
              "color": "white"
             }
            },
            "header": {
             "fill": {
              "color": "#C8D4E3"
             },
             "line": {
              "color": "white"
             }
            },
            "type": "table"
           }
          ]
         },
         "layout": {
          "annotationdefaults": {
           "arrowcolor": "#2a3f5f",
           "arrowhead": 0,
           "arrowwidth": 1
          },
          "autotypenumbers": "strict",
          "coloraxis": {
           "colorbar": {
            "outlinewidth": 0,
            "ticks": ""
           }
          },
          "colorscale": {
           "diverging": [
            [
             0,
             "#8e0152"
            ],
            [
             0.1,
             "#c51b7d"
            ],
            [
             0.2,
             "#de77ae"
            ],
            [
             0.3,
             "#f1b6da"
            ],
            [
             0.4,
             "#fde0ef"
            ],
            [
             0.5,
             "#f7f7f7"
            ],
            [
             0.6,
             "#e6f5d0"
            ],
            [
             0.7,
             "#b8e186"
            ],
            [
             0.8,
             "#7fbc41"
            ],
            [
             0.9,
             "#4d9221"
            ],
            [
             1,
             "#276419"
            ]
           ],
           "sequential": [
            [
             0,
             "#0d0887"
            ],
            [
             0.1111111111111111,
             "#46039f"
            ],
            [
             0.2222222222222222,
             "#7201a8"
            ],
            [
             0.3333333333333333,
             "#9c179e"
            ],
            [
             0.4444444444444444,
             "#bd3786"
            ],
            [
             0.5555555555555556,
             "#d8576b"
            ],
            [
             0.6666666666666666,
             "#ed7953"
            ],
            [
             0.7777777777777778,
             "#fb9f3a"
            ],
            [
             0.8888888888888888,
             "#fdca26"
            ],
            [
             1,
             "#f0f921"
            ]
           ],
           "sequentialminus": [
            [
             0,
             "#0d0887"
            ],
            [
             0.1111111111111111,
             "#46039f"
            ],
            [
             0.2222222222222222,
             "#7201a8"
            ],
            [
             0.3333333333333333,
             "#9c179e"
            ],
            [
             0.4444444444444444,
             "#bd3786"
            ],
            [
             0.5555555555555556,
             "#d8576b"
            ],
            [
             0.6666666666666666,
             "#ed7953"
            ],
            [
             0.7777777777777778,
             "#fb9f3a"
            ],
            [
             0.8888888888888888,
             "#fdca26"
            ],
            [
             1,
             "#f0f921"
            ]
           ]
          },
          "colorway": [
           "#636efa",
           "#EF553B",
           "#00cc96",
           "#ab63fa",
           "#FFA15A",
           "#19d3f3",
           "#FF6692",
           "#B6E880",
           "#FF97FF",
           "#FECB52"
          ],
          "font": {
           "color": "#2a3f5f"
          },
          "geo": {
           "bgcolor": "white",
           "lakecolor": "white",
           "landcolor": "#E5ECF6",
           "showlakes": true,
           "showland": true,
           "subunitcolor": "white"
          },
          "hoverlabel": {
           "align": "left"
          },
          "hovermode": "closest",
          "mapbox": {
           "style": "light"
          },
          "paper_bgcolor": "white",
          "plot_bgcolor": "#E5ECF6",
          "polar": {
           "angularaxis": {
            "gridcolor": "white",
            "linecolor": "white",
            "ticks": ""
           },
           "bgcolor": "#E5ECF6",
           "radialaxis": {
            "gridcolor": "white",
            "linecolor": "white",
            "ticks": ""
           }
          },
          "scene": {
           "xaxis": {
            "backgroundcolor": "#E5ECF6",
            "gridcolor": "white",
            "gridwidth": 2,
            "linecolor": "white",
            "showbackground": true,
            "ticks": "",
            "zerolinecolor": "white"
           },
           "yaxis": {
            "backgroundcolor": "#E5ECF6",
            "gridcolor": "white",
            "gridwidth": 2,
            "linecolor": "white",
            "showbackground": true,
            "ticks": "",
            "zerolinecolor": "white"
           },
           "zaxis": {
            "backgroundcolor": "#E5ECF6",
            "gridcolor": "white",
            "gridwidth": 2,
            "linecolor": "white",
            "showbackground": true,
            "ticks": "",
            "zerolinecolor": "white"
           }
          },
          "shapedefaults": {
           "line": {
            "color": "#2a3f5f"
           }
          },
          "ternary": {
           "aaxis": {
            "gridcolor": "white",
            "linecolor": "white",
            "ticks": ""
           },
           "baxis": {
            "gridcolor": "white",
            "linecolor": "white",
            "ticks": ""
           },
           "bgcolor": "#E5ECF6",
           "caxis": {
            "gridcolor": "white",
            "linecolor": "white",
            "ticks": ""
           }
          },
          "title": {
           "x": 0.05
          },
          "xaxis": {
           "automargin": true,
           "gridcolor": "white",
           "linecolor": "white",
           "ticks": "",
           "title": {
            "standoff": 15
           },
           "zerolinecolor": "white",
           "zerolinewidth": 2
          },
          "yaxis": {
           "automargin": true,
           "gridcolor": "white",
           "linecolor": "white",
           "ticks": "",
           "title": {
            "standoff": 15
           },
           "zerolinecolor": "white",
           "zerolinewidth": 2
          }
         }
        },
        "title": {
         "text": "UFO Sightings"
        },
        "width": 1000
       }
      }
     },
     "metadata": {},
     "output_type": "display_data"
    }
   ],
   "source": [
    "# Filter to year 1995\n",
    "\n",
    "ufo_state_year_1995 = ufo_state_year[ufo_state_year['year'] == '1995']\n",
    "ufo_state_year_1995 = ufo_state_year_1995.drop(ufo_state_year_1995[ufo_state_year_1995['count_normalized'] == 0].index)\n",
    "ufo_state_year_1995\n",
    "# set scale\n",
    "scale = 1000\n",
    "\n",
    "# create figure\n",
    "fig = go.Figure(\n",
    "    go.Scattergeo(\n",
    "        lon = ufo_state_year_1995['long'],\n",
    "        lat = ufo_state_year_1995['lat'],\n",
    "        mode = 'text',\n",
    "        text = '🛸',\n",
    "        textfont_size = scale*(ufo_state_year_1995['count_normalized'])\n",
    "    )\n",
    ")\n",
    "\n",
    "fig.update_geos(landcolor='#D8D8D8')\n",
    "\n",
    "fig.add_annotation(\n",
    "    x=0.9,y=0.3,\n",
    "    xref = 'paper',\n",
    "    yref='paper',\n",
    "    text=\"1995\",\n",
    "    showarrow=False,\n",
    "    font=dict(size=27, color='black'),\n",
    ")\n",
    "\n",
    "\n",
    "\n",
    "fig.update_layout(\n",
    "    title = 'UFO Sightings',\n",
    "    geo_scope='usa',\n",
    "    width=1000,\n",
    "    height=550,\n",
    "    margin={\"r\":0,\"t\":0,\"l\":0,\"b\":0},\n",
    "    plot_bgcolor='#B5D6E3',  # set background color outside of the map\n",
    "    geo=dict(bgcolor='#B5D6E3' , showsubunits=True, subunitcolor='black')  # set background color of the map\n",
    ")\n",
    "\n",
    "fig.show()\n"
   ]
  },
  {
   "cell_type": "code",
   "execution_count": 12,
   "metadata": {},
   "outputs": [
    {
     "data": {
      "application/vnd.plotly.v1+json": {
       "config": {
        "plotlyServerURL": "https://plot.ly"
       },
       "data": [
        {
         "lat": [
          63.588753,
          32.31823,
          35.20105,
          34.048927,
          36.778261,
          39.550051,
          41.603221,
          38.905985,
          38.910832,
          27.994402,
          33.247875,
          19.741755,
          41.878003,
          44.068202,
          40.633125,
          40.551217,
          39.011902,
          37.839333,
          31.244823,
          42.407211,
          39.045753,
          45.253783,
          44.314844,
          46.729553,
          37.964253,
          32.354668,
          46.879682,
          35.759573,
          47.551493,
          41.492537,
          43.193852,
          40.058324,
          34.97273,
          38.80261,
          43.299428,
          40.417287,
          35.007752,
          43.804133,
          41.203323,
          41.580095,
          33.836081,
          43.969515,
          35.517491,
          31.968599,
          39.32098,
          37.431573,
          44.558803,
          47.751076,
          44.268543,
          38.597626,
          43.075968
         ],
         "lon": [
          -154.493062,
          -86.902298,
          -91.831833,
          -111.093735,
          -119.417932,
          -105.782067,
          -73.087749,
          -77.033418,
          -75.52767,
          -81.760254,
          -83.441162,
          -155.844437,
          -93.097702,
          -114.742041,
          -89.398529,
          -85.602364,
          -98.484246,
          -84.27002,
          -92.145024,
          -71.382437,
          -76.641273,
          -69.445469,
          -85.602364,
          -94.6859,
          -91.831833,
          -89.398529,
          -110.362566,
          -79.0193,
          -101.002012,
          -99.90181,
          -71.572395,
          -74.405661,
          -105.032363,
          -116.419389,
          -74.217933,
          -82.907123,
          -97.092877,
          -120.554201,
          -77.194527,
          -71.477429,
          -81.163725,
          -99.90181,
          -86.580447,
          -99.90181,
          -111.093731,
          -78.656894,
          -72.577841,
          -120.740135,
          -89.616508,
          -80.454903,
          -107.290284
         ],
         "mode": "text",
         "text": "🛸",
         "textfont": {
          "size": [
           10.661157024793388,
           20.306965761511215,
           17.260920897284535,
           102.04250295159386,
           267.5442739079103,
           39.09090909090909,
           14.214876033057852,
           1.5230224321133412,
           5.076741440377804,
           119.81109799291617,
           37.06021251475797,
           8.630460448642268,
           21.82998819362456,
           15.230224321133413,
           104.58087367178277,
           42.13695395513577,
           21.82998819362456,
           29.445100354191265,
           14.214876033057852,
           29.952774498229044,
           19.799291617473436,
           11.676505312868949,
           46.19834710743802,
           37.06021251475797,
           38.58323494687131,
           10.661157024793388,
           13.19952774498229,
           52.79811097992916,
           1.5230224321133412,
           6.599763872491145,
           19.799291617473436,
           43.15230224321133,
           15.737898465171192,
           26.39905548996458,
           80.72018890200708,
           43.65997638724912,
           20.814639905548997,
           52.79811097992916,
           52.290436835891384,
           7.6151121605667065,
           25.8913813459268,
           3.553719008264463,
           25.38370720188902,
           106.61157024793388,
           14.722550177095632,
           37.06021251475797,
           7.6151121605667065,
           95.44273907910271,
           32.49114521841794,
           11.16883116883117,
           5.584415584415585
          ]
         },
         "type": "scattergeo"
        }
       ],
       "layout": {
        "annotations": [
         {
          "font": {
           "color": "black",
           "size": 27
          },
          "showarrow": false,
          "text": "2005",
          "x": 0.9,
          "xref": "paper",
          "y": 0.3,
          "yref": "paper"
         }
        ],
        "geo": {
         "bgcolor": "#B5D6E3",
         "landcolor": "#D8D8D8",
         "scope": "usa",
         "showsubunits": true,
         "subunitcolor": "black"
        },
        "height": 550,
        "margin": {
         "b": 0,
         "l": 0,
         "r": 0,
         "t": 0
        },
        "plot_bgcolor": "#B5D6E3",
        "template": {
         "data": {
          "bar": [
           {
            "error_x": {
             "color": "#2a3f5f"
            },
            "error_y": {
             "color": "#2a3f5f"
            },
            "marker": {
             "line": {
              "color": "#E5ECF6",
              "width": 0.5
             },
             "pattern": {
              "fillmode": "overlay",
              "size": 10,
              "solidity": 0.2
             }
            },
            "type": "bar"
           }
          ],
          "barpolar": [
           {
            "marker": {
             "line": {
              "color": "#E5ECF6",
              "width": 0.5
             },
             "pattern": {
              "fillmode": "overlay",
              "size": 10,
              "solidity": 0.2
             }
            },
            "type": "barpolar"
           }
          ],
          "carpet": [
           {
            "aaxis": {
             "endlinecolor": "#2a3f5f",
             "gridcolor": "white",
             "linecolor": "white",
             "minorgridcolor": "white",
             "startlinecolor": "#2a3f5f"
            },
            "baxis": {
             "endlinecolor": "#2a3f5f",
             "gridcolor": "white",
             "linecolor": "white",
             "minorgridcolor": "white",
             "startlinecolor": "#2a3f5f"
            },
            "type": "carpet"
           }
          ],
          "choropleth": [
           {
            "colorbar": {
             "outlinewidth": 0,
             "ticks": ""
            },
            "type": "choropleth"
           }
          ],
          "contour": [
           {
            "colorbar": {
             "outlinewidth": 0,
             "ticks": ""
            },
            "colorscale": [
             [
              0,
              "#0d0887"
             ],
             [
              0.1111111111111111,
              "#46039f"
             ],
             [
              0.2222222222222222,
              "#7201a8"
             ],
             [
              0.3333333333333333,
              "#9c179e"
             ],
             [
              0.4444444444444444,
              "#bd3786"
             ],
             [
              0.5555555555555556,
              "#d8576b"
             ],
             [
              0.6666666666666666,
              "#ed7953"
             ],
             [
              0.7777777777777778,
              "#fb9f3a"
             ],
             [
              0.8888888888888888,
              "#fdca26"
             ],
             [
              1,
              "#f0f921"
             ]
            ],
            "type": "contour"
           }
          ],
          "contourcarpet": [
           {
            "colorbar": {
             "outlinewidth": 0,
             "ticks": ""
            },
            "type": "contourcarpet"
           }
          ],
          "heatmap": [
           {
            "colorbar": {
             "outlinewidth": 0,
             "ticks": ""
            },
            "colorscale": [
             [
              0,
              "#0d0887"
             ],
             [
              0.1111111111111111,
              "#46039f"
             ],
             [
              0.2222222222222222,
              "#7201a8"
             ],
             [
              0.3333333333333333,
              "#9c179e"
             ],
             [
              0.4444444444444444,
              "#bd3786"
             ],
             [
              0.5555555555555556,
              "#d8576b"
             ],
             [
              0.6666666666666666,
              "#ed7953"
             ],
             [
              0.7777777777777778,
              "#fb9f3a"
             ],
             [
              0.8888888888888888,
              "#fdca26"
             ],
             [
              1,
              "#f0f921"
             ]
            ],
            "type": "heatmap"
           }
          ],
          "heatmapgl": [
           {
            "colorbar": {
             "outlinewidth": 0,
             "ticks": ""
            },
            "colorscale": [
             [
              0,
              "#0d0887"
             ],
             [
              0.1111111111111111,
              "#46039f"
             ],
             [
              0.2222222222222222,
              "#7201a8"
             ],
             [
              0.3333333333333333,
              "#9c179e"
             ],
             [
              0.4444444444444444,
              "#bd3786"
             ],
             [
              0.5555555555555556,
              "#d8576b"
             ],
             [
              0.6666666666666666,
              "#ed7953"
             ],
             [
              0.7777777777777778,
              "#fb9f3a"
             ],
             [
              0.8888888888888888,
              "#fdca26"
             ],
             [
              1,
              "#f0f921"
             ]
            ],
            "type": "heatmapgl"
           }
          ],
          "histogram": [
           {
            "marker": {
             "pattern": {
              "fillmode": "overlay",
              "size": 10,
              "solidity": 0.2
             }
            },
            "type": "histogram"
           }
          ],
          "histogram2d": [
           {
            "colorbar": {
             "outlinewidth": 0,
             "ticks": ""
            },
            "colorscale": [
             [
              0,
              "#0d0887"
             ],
             [
              0.1111111111111111,
              "#46039f"
             ],
             [
              0.2222222222222222,
              "#7201a8"
             ],
             [
              0.3333333333333333,
              "#9c179e"
             ],
             [
              0.4444444444444444,
              "#bd3786"
             ],
             [
              0.5555555555555556,
              "#d8576b"
             ],
             [
              0.6666666666666666,
              "#ed7953"
             ],
             [
              0.7777777777777778,
              "#fb9f3a"
             ],
             [
              0.8888888888888888,
              "#fdca26"
             ],
             [
              1,
              "#f0f921"
             ]
            ],
            "type": "histogram2d"
           }
          ],
          "histogram2dcontour": [
           {
            "colorbar": {
             "outlinewidth": 0,
             "ticks": ""
            },
            "colorscale": [
             [
              0,
              "#0d0887"
             ],
             [
              0.1111111111111111,
              "#46039f"
             ],
             [
              0.2222222222222222,
              "#7201a8"
             ],
             [
              0.3333333333333333,
              "#9c179e"
             ],
             [
              0.4444444444444444,
              "#bd3786"
             ],
             [
              0.5555555555555556,
              "#d8576b"
             ],
             [
              0.6666666666666666,
              "#ed7953"
             ],
             [
              0.7777777777777778,
              "#fb9f3a"
             ],
             [
              0.8888888888888888,
              "#fdca26"
             ],
             [
              1,
              "#f0f921"
             ]
            ],
            "type": "histogram2dcontour"
           }
          ],
          "mesh3d": [
           {
            "colorbar": {
             "outlinewidth": 0,
             "ticks": ""
            },
            "type": "mesh3d"
           }
          ],
          "parcoords": [
           {
            "line": {
             "colorbar": {
              "outlinewidth": 0,
              "ticks": ""
             }
            },
            "type": "parcoords"
           }
          ],
          "pie": [
           {
            "automargin": true,
            "type": "pie"
           }
          ],
          "scatter": [
           {
            "fillpattern": {
             "fillmode": "overlay",
             "size": 10,
             "solidity": 0.2
            },
            "type": "scatter"
           }
          ],
          "scatter3d": [
           {
            "line": {
             "colorbar": {
              "outlinewidth": 0,
              "ticks": ""
             }
            },
            "marker": {
             "colorbar": {
              "outlinewidth": 0,
              "ticks": ""
             }
            },
            "type": "scatter3d"
           }
          ],
          "scattercarpet": [
           {
            "marker": {
             "colorbar": {
              "outlinewidth": 0,
              "ticks": ""
             }
            },
            "type": "scattercarpet"
           }
          ],
          "scattergeo": [
           {
            "marker": {
             "colorbar": {
              "outlinewidth": 0,
              "ticks": ""
             }
            },
            "type": "scattergeo"
           }
          ],
          "scattergl": [
           {
            "marker": {
             "colorbar": {
              "outlinewidth": 0,
              "ticks": ""
             }
            },
            "type": "scattergl"
           }
          ],
          "scattermapbox": [
           {
            "marker": {
             "colorbar": {
              "outlinewidth": 0,
              "ticks": ""
             }
            },
            "type": "scattermapbox"
           }
          ],
          "scatterpolar": [
           {
            "marker": {
             "colorbar": {
              "outlinewidth": 0,
              "ticks": ""
             }
            },
            "type": "scatterpolar"
           }
          ],
          "scatterpolargl": [
           {
            "marker": {
             "colorbar": {
              "outlinewidth": 0,
              "ticks": ""
             }
            },
            "type": "scatterpolargl"
           }
          ],
          "scatterternary": [
           {
            "marker": {
             "colorbar": {
              "outlinewidth": 0,
              "ticks": ""
             }
            },
            "type": "scatterternary"
           }
          ],
          "surface": [
           {
            "colorbar": {
             "outlinewidth": 0,
             "ticks": ""
            },
            "colorscale": [
             [
              0,
              "#0d0887"
             ],
             [
              0.1111111111111111,
              "#46039f"
             ],
             [
              0.2222222222222222,
              "#7201a8"
             ],
             [
              0.3333333333333333,
              "#9c179e"
             ],
             [
              0.4444444444444444,
              "#bd3786"
             ],
             [
              0.5555555555555556,
              "#d8576b"
             ],
             [
              0.6666666666666666,
              "#ed7953"
             ],
             [
              0.7777777777777778,
              "#fb9f3a"
             ],
             [
              0.8888888888888888,
              "#fdca26"
             ],
             [
              1,
              "#f0f921"
             ]
            ],
            "type": "surface"
           }
          ],
          "table": [
           {
            "cells": {
             "fill": {
              "color": "#EBF0F8"
             },
             "line": {
              "color": "white"
             }
            },
            "header": {
             "fill": {
              "color": "#C8D4E3"
             },
             "line": {
              "color": "white"
             }
            },
            "type": "table"
           }
          ]
         },
         "layout": {
          "annotationdefaults": {
           "arrowcolor": "#2a3f5f",
           "arrowhead": 0,
           "arrowwidth": 1
          },
          "autotypenumbers": "strict",
          "coloraxis": {
           "colorbar": {
            "outlinewidth": 0,
            "ticks": ""
           }
          },
          "colorscale": {
           "diverging": [
            [
             0,
             "#8e0152"
            ],
            [
             0.1,
             "#c51b7d"
            ],
            [
             0.2,
             "#de77ae"
            ],
            [
             0.3,
             "#f1b6da"
            ],
            [
             0.4,
             "#fde0ef"
            ],
            [
             0.5,
             "#f7f7f7"
            ],
            [
             0.6,
             "#e6f5d0"
            ],
            [
             0.7,
             "#b8e186"
            ],
            [
             0.8,
             "#7fbc41"
            ],
            [
             0.9,
             "#4d9221"
            ],
            [
             1,
             "#276419"
            ]
           ],
           "sequential": [
            [
             0,
             "#0d0887"
            ],
            [
             0.1111111111111111,
             "#46039f"
            ],
            [
             0.2222222222222222,
             "#7201a8"
            ],
            [
             0.3333333333333333,
             "#9c179e"
            ],
            [
             0.4444444444444444,
             "#bd3786"
            ],
            [
             0.5555555555555556,
             "#d8576b"
            ],
            [
             0.6666666666666666,
             "#ed7953"
            ],
            [
             0.7777777777777778,
             "#fb9f3a"
            ],
            [
             0.8888888888888888,
             "#fdca26"
            ],
            [
             1,
             "#f0f921"
            ]
           ],
           "sequentialminus": [
            [
             0,
             "#0d0887"
            ],
            [
             0.1111111111111111,
             "#46039f"
            ],
            [
             0.2222222222222222,
             "#7201a8"
            ],
            [
             0.3333333333333333,
             "#9c179e"
            ],
            [
             0.4444444444444444,
             "#bd3786"
            ],
            [
             0.5555555555555556,
             "#d8576b"
            ],
            [
             0.6666666666666666,
             "#ed7953"
            ],
            [
             0.7777777777777778,
             "#fb9f3a"
            ],
            [
             0.8888888888888888,
             "#fdca26"
            ],
            [
             1,
             "#f0f921"
            ]
           ]
          },
          "colorway": [
           "#636efa",
           "#EF553B",
           "#00cc96",
           "#ab63fa",
           "#FFA15A",
           "#19d3f3",
           "#FF6692",
           "#B6E880",
           "#FF97FF",
           "#FECB52"
          ],
          "font": {
           "color": "#2a3f5f"
          },
          "geo": {
           "bgcolor": "white",
           "lakecolor": "white",
           "landcolor": "#E5ECF6",
           "showlakes": true,
           "showland": true,
           "subunitcolor": "white"
          },
          "hoverlabel": {
           "align": "left"
          },
          "hovermode": "closest",
          "mapbox": {
           "style": "light"
          },
          "paper_bgcolor": "white",
          "plot_bgcolor": "#E5ECF6",
          "polar": {
           "angularaxis": {
            "gridcolor": "white",
            "linecolor": "white",
            "ticks": ""
           },
           "bgcolor": "#E5ECF6",
           "radialaxis": {
            "gridcolor": "white",
            "linecolor": "white",
            "ticks": ""
           }
          },
          "scene": {
           "xaxis": {
            "backgroundcolor": "#E5ECF6",
            "gridcolor": "white",
            "gridwidth": 2,
            "linecolor": "white",
            "showbackground": true,
            "ticks": "",
            "zerolinecolor": "white"
           },
           "yaxis": {
            "backgroundcolor": "#E5ECF6",
            "gridcolor": "white",
            "gridwidth": 2,
            "linecolor": "white",
            "showbackground": true,
            "ticks": "",
            "zerolinecolor": "white"
           },
           "zaxis": {
            "backgroundcolor": "#E5ECF6",
            "gridcolor": "white",
            "gridwidth": 2,
            "linecolor": "white",
            "showbackground": true,
            "ticks": "",
            "zerolinecolor": "white"
           }
          },
          "shapedefaults": {
           "line": {
            "color": "#2a3f5f"
           }
          },
          "ternary": {
           "aaxis": {
            "gridcolor": "white",
            "linecolor": "white",
            "ticks": ""
           },
           "baxis": {
            "gridcolor": "white",
            "linecolor": "white",
            "ticks": ""
           },
           "bgcolor": "#E5ECF6",
           "caxis": {
            "gridcolor": "white",
            "linecolor": "white",
            "ticks": ""
           }
          },
          "title": {
           "x": 0.05
          },
          "xaxis": {
           "automargin": true,
           "gridcolor": "white",
           "linecolor": "white",
           "ticks": "",
           "title": {
            "standoff": 15
           },
           "zerolinecolor": "white",
           "zerolinewidth": 2
          },
          "yaxis": {
           "automargin": true,
           "gridcolor": "white",
           "linecolor": "white",
           "ticks": "",
           "title": {
            "standoff": 15
           },
           "zerolinecolor": "white",
           "zerolinewidth": 2
          }
         }
        },
        "title": {
         "text": "UFO Sightings"
        },
        "width": 1000
       }
      }
     },
     "metadata": {},
     "output_type": "display_data"
    }
   ],
   "source": [
    "# Filter to year 1995\n",
    "\n",
    "ufo_state_year_2005 = ufo_state_year[ufo_state_year['year'] == '2005']\n",
    "ufo_state_year_2005 = ufo_state_year_2005.drop(ufo_state_year_2005[ufo_state_year_2005['count_normalized'] == 0].index)\n",
    "ufo_state_year_2005\n",
    "# set scale\n",
    "scale = 430\n",
    "\n",
    "# create figure\n",
    "fig = go.Figure(\n",
    "    go.Scattergeo(\n",
    "        lon = ufo_state_year_2005['long'],\n",
    "        lat = ufo_state_year_2005['lat'],\n",
    "        mode = 'text',\n",
    "        text = '🛸',\n",
    "        textfont_size = scale*(ufo_state_year_2005['count_normalized'])\n",
    "    )\n",
    ")\n",
    "\n",
    "fig.add_annotation(\n",
    "    x=0.9,y=0.3,\n",
    "    xref = 'paper',\n",
    "    yref='paper',\n",
    "    text=\"2005\",\n",
    "    showarrow=False,\n",
    "    font=dict(size=27, color='black'),\n",
    ")\n",
    "\n",
    "\n",
    "fig.update_geos(landcolor='#D8D8D8')\n",
    "\n",
    "\n",
    "fig.update_layout(\n",
    "    title = 'UFO Sightings',\n",
    "    geo_scope='usa',\n",
    "    width=1000,\n",
    "    height=550,\n",
    "    margin={\"r\":0,\"t\":0,\"l\":0,\"b\":0},\n",
    "    plot_bgcolor='#B5D6E3',  # set background color outside of the map\n",
    "    geo=dict(bgcolor='#B5D6E3' , showsubunits=True, subunitcolor='black')  # set background color of the map\n",
    ")\n",
    "\n",
    "fig.show()\n"
   ]
  },
  {
   "cell_type": "code",
   "execution_count": 13,
   "metadata": {},
   "outputs": [
    {
     "data": {
      "application/vnd.plotly.v1+json": {
       "config": {
        "plotlyServerURL": "https://plot.ly"
       },
       "data": [
        {
         "lat": [
          63.588753,
          32.31823,
          35.20105,
          34.048927,
          36.778261,
          39.550051,
          41.603221,
          38.905985,
          38.910832,
          27.994402,
          33.247875,
          19.741755,
          41.878003,
          44.068202,
          40.633125,
          40.551217,
          39.011902,
          37.839333,
          31.244823,
          42.407211,
          39.045753,
          45.253783,
          44.314844,
          46.729553,
          37.964253,
          32.354668,
          46.879682,
          35.759573,
          47.551493,
          41.492537,
          43.193852,
          40.058324,
          34.97273,
          38.80261,
          43.299428,
          40.417287,
          35.007752,
          43.804133,
          41.203323,
          41.580095,
          33.836081,
          43.969515,
          35.517491,
          31.968599,
          39.32098,
          37.431573,
          44.558803,
          47.751076,
          44.268543,
          38.597626,
          43.075968
         ],
         "lon": [
          -154.493062,
          -86.902298,
          -91.831833,
          -111.093735,
          -119.417932,
          -105.782067,
          -73.087749,
          -77.033418,
          -75.52767,
          -81.760254,
          -83.441162,
          -155.844437,
          -93.097702,
          -114.742041,
          -89.398529,
          -85.602364,
          -98.484246,
          -84.27002,
          -92.145024,
          -71.382437,
          -76.641273,
          -69.445469,
          -85.602364,
          -94.6859,
          -91.831833,
          -89.398529,
          -110.362566,
          -79.0193,
          -101.002012,
          -99.90181,
          -71.572395,
          -74.405661,
          -105.032363,
          -116.419389,
          -74.217933,
          -82.907123,
          -97.092877,
          -120.554201,
          -77.194527,
          -71.477429,
          -81.163725,
          -99.90181,
          -86.580447,
          -99.90181,
          -111.093731,
          -78.656894,
          -72.577841,
          -120.740135,
          -89.616508,
          -80.454903,
          -107.290284
         ],
         "mode": "text",
         "text": "🛸",
         "textfont": {
          "size": [
           18.565525383707204,
           32.1133412042503,
           21.074380165289256,
           136.98347107438016,
           401.9185360094451,
           81.28689492325857,
           41.14521841794569,
           1.0035419126328218,
           14.049586776859504,
           232.31995277449826,
           67.73907910271546,
           12.544273907910272,
           22.57969303423849,
           46.66469893742621,
           90.82054309327036,
           39.63990554899646,
           22.07792207792208,
           34.62219598583235,
           30.106257378984655,
           70.74970484061393,
           56.70011806375443,
           28.60094451003542,
           93.32939787485242,
           72.75678866587957,
           49.17355371900827,
           20.070838252656433,
           28.60094451003542,
           92.82762691853601,
           5.017709563164108,
           11.03896103896104,
           42.650531286894925,
           64.728453364817,
           37.632821723730814,
           54.19126328217237,
           145.01180637544275,
           105.87367178276268,
           35.62573789846517,
           106.37544273907912,
           120.42502951593862,
           24.08500590318772,
           53.68949232585596,
           7.024793388429752,
           54.19126328217237,
           90.82054309327036,
           37.13105076741441,
           73.25855962219599,
           22.07792207792208,
           135.47815820543093,
           63.22314049586777,
           26.092089728453363,
           9.533648170011805
          ]
         },
         "type": "scattergeo"
        }
       ],
       "layout": {
        "annotations": [
         {
          "font": {
           "color": "black",
           "size": 27
          },
          "showarrow": false,
          "text": "2015",
          "x": 0.9,
          "xref": "paper",
          "y": 0.3,
          "yref": "paper"
         }
        ],
        "geo": {
         "bgcolor": "#B5D6E3",
         "landcolor": "#D8D8D8",
         "scope": "usa",
         "showsubunits": true,
         "subunitcolor": "black"
        },
        "height": 550,
        "margin": {
         "b": 0,
         "l": 0,
         "r": 0,
         "t": 0
        },
        "plot_bgcolor": "#B5D6E3",
        "template": {
         "data": {
          "bar": [
           {
            "error_x": {
             "color": "#2a3f5f"
            },
            "error_y": {
             "color": "#2a3f5f"
            },
            "marker": {
             "line": {
              "color": "#E5ECF6",
              "width": 0.5
             },
             "pattern": {
              "fillmode": "overlay",
              "size": 10,
              "solidity": 0.2
             }
            },
            "type": "bar"
           }
          ],
          "barpolar": [
           {
            "marker": {
             "line": {
              "color": "#E5ECF6",
              "width": 0.5
             },
             "pattern": {
              "fillmode": "overlay",
              "size": 10,
              "solidity": 0.2
             }
            },
            "type": "barpolar"
           }
          ],
          "carpet": [
           {
            "aaxis": {
             "endlinecolor": "#2a3f5f",
             "gridcolor": "white",
             "linecolor": "white",
             "minorgridcolor": "white",
             "startlinecolor": "#2a3f5f"
            },
            "baxis": {
             "endlinecolor": "#2a3f5f",
             "gridcolor": "white",
             "linecolor": "white",
             "minorgridcolor": "white",
             "startlinecolor": "#2a3f5f"
            },
            "type": "carpet"
           }
          ],
          "choropleth": [
           {
            "colorbar": {
             "outlinewidth": 0,
             "ticks": ""
            },
            "type": "choropleth"
           }
          ],
          "contour": [
           {
            "colorbar": {
             "outlinewidth": 0,
             "ticks": ""
            },
            "colorscale": [
             [
              0,
              "#0d0887"
             ],
             [
              0.1111111111111111,
              "#46039f"
             ],
             [
              0.2222222222222222,
              "#7201a8"
             ],
             [
              0.3333333333333333,
              "#9c179e"
             ],
             [
              0.4444444444444444,
              "#bd3786"
             ],
             [
              0.5555555555555556,
              "#d8576b"
             ],
             [
              0.6666666666666666,
              "#ed7953"
             ],
             [
              0.7777777777777778,
              "#fb9f3a"
             ],
             [
              0.8888888888888888,
              "#fdca26"
             ],
             [
              1,
              "#f0f921"
             ]
            ],
            "type": "contour"
           }
          ],
          "contourcarpet": [
           {
            "colorbar": {
             "outlinewidth": 0,
             "ticks": ""
            },
            "type": "contourcarpet"
           }
          ],
          "heatmap": [
           {
            "colorbar": {
             "outlinewidth": 0,
             "ticks": ""
            },
            "colorscale": [
             [
              0,
              "#0d0887"
             ],
             [
              0.1111111111111111,
              "#46039f"
             ],
             [
              0.2222222222222222,
              "#7201a8"
             ],
             [
              0.3333333333333333,
              "#9c179e"
             ],
             [
              0.4444444444444444,
              "#bd3786"
             ],
             [
              0.5555555555555556,
              "#d8576b"
             ],
             [
              0.6666666666666666,
              "#ed7953"
             ],
             [
              0.7777777777777778,
              "#fb9f3a"
             ],
             [
              0.8888888888888888,
              "#fdca26"
             ],
             [
              1,
              "#f0f921"
             ]
            ],
            "type": "heatmap"
           }
          ],
          "heatmapgl": [
           {
            "colorbar": {
             "outlinewidth": 0,
             "ticks": ""
            },
            "colorscale": [
             [
              0,
              "#0d0887"
             ],
             [
              0.1111111111111111,
              "#46039f"
             ],
             [
              0.2222222222222222,
              "#7201a8"
             ],
             [
              0.3333333333333333,
              "#9c179e"
             ],
             [
              0.4444444444444444,
              "#bd3786"
             ],
             [
              0.5555555555555556,
              "#d8576b"
             ],
             [
              0.6666666666666666,
              "#ed7953"
             ],
             [
              0.7777777777777778,
              "#fb9f3a"
             ],
             [
              0.8888888888888888,
              "#fdca26"
             ],
             [
              1,
              "#f0f921"
             ]
            ],
            "type": "heatmapgl"
           }
          ],
          "histogram": [
           {
            "marker": {
             "pattern": {
              "fillmode": "overlay",
              "size": 10,
              "solidity": 0.2
             }
            },
            "type": "histogram"
           }
          ],
          "histogram2d": [
           {
            "colorbar": {
             "outlinewidth": 0,
             "ticks": ""
            },
            "colorscale": [
             [
              0,
              "#0d0887"
             ],
             [
              0.1111111111111111,
              "#46039f"
             ],
             [
              0.2222222222222222,
              "#7201a8"
             ],
             [
              0.3333333333333333,
              "#9c179e"
             ],
             [
              0.4444444444444444,
              "#bd3786"
             ],
             [
              0.5555555555555556,
              "#d8576b"
             ],
             [
              0.6666666666666666,
              "#ed7953"
             ],
             [
              0.7777777777777778,
              "#fb9f3a"
             ],
             [
              0.8888888888888888,
              "#fdca26"
             ],
             [
              1,
              "#f0f921"
             ]
            ],
            "type": "histogram2d"
           }
          ],
          "histogram2dcontour": [
           {
            "colorbar": {
             "outlinewidth": 0,
             "ticks": ""
            },
            "colorscale": [
             [
              0,
              "#0d0887"
             ],
             [
              0.1111111111111111,
              "#46039f"
             ],
             [
              0.2222222222222222,
              "#7201a8"
             ],
             [
              0.3333333333333333,
              "#9c179e"
             ],
             [
              0.4444444444444444,
              "#bd3786"
             ],
             [
              0.5555555555555556,
              "#d8576b"
             ],
             [
              0.6666666666666666,
              "#ed7953"
             ],
             [
              0.7777777777777778,
              "#fb9f3a"
             ],
             [
              0.8888888888888888,
              "#fdca26"
             ],
             [
              1,
              "#f0f921"
             ]
            ],
            "type": "histogram2dcontour"
           }
          ],
          "mesh3d": [
           {
            "colorbar": {
             "outlinewidth": 0,
             "ticks": ""
            },
            "type": "mesh3d"
           }
          ],
          "parcoords": [
           {
            "line": {
             "colorbar": {
              "outlinewidth": 0,
              "ticks": ""
             }
            },
            "type": "parcoords"
           }
          ],
          "pie": [
           {
            "automargin": true,
            "type": "pie"
           }
          ],
          "scatter": [
           {
            "fillpattern": {
             "fillmode": "overlay",
             "size": 10,
             "solidity": 0.2
            },
            "type": "scatter"
           }
          ],
          "scatter3d": [
           {
            "line": {
             "colorbar": {
              "outlinewidth": 0,
              "ticks": ""
             }
            },
            "marker": {
             "colorbar": {
              "outlinewidth": 0,
              "ticks": ""
             }
            },
            "type": "scatter3d"
           }
          ],
          "scattercarpet": [
           {
            "marker": {
             "colorbar": {
              "outlinewidth": 0,
              "ticks": ""
             }
            },
            "type": "scattercarpet"
           }
          ],
          "scattergeo": [
           {
            "marker": {
             "colorbar": {
              "outlinewidth": 0,
              "ticks": ""
             }
            },
            "type": "scattergeo"
           }
          ],
          "scattergl": [
           {
            "marker": {
             "colorbar": {
              "outlinewidth": 0,
              "ticks": ""
             }
            },
            "type": "scattergl"
           }
          ],
          "scattermapbox": [
           {
            "marker": {
             "colorbar": {
              "outlinewidth": 0,
              "ticks": ""
             }
            },
            "type": "scattermapbox"
           }
          ],
          "scatterpolar": [
           {
            "marker": {
             "colorbar": {
              "outlinewidth": 0,
              "ticks": ""
             }
            },
            "type": "scatterpolar"
           }
          ],
          "scatterpolargl": [
           {
            "marker": {
             "colorbar": {
              "outlinewidth": 0,
              "ticks": ""
             }
            },
            "type": "scatterpolargl"
           }
          ],
          "scatterternary": [
           {
            "marker": {
             "colorbar": {
              "outlinewidth": 0,
              "ticks": ""
             }
            },
            "type": "scatterternary"
           }
          ],
          "surface": [
           {
            "colorbar": {
             "outlinewidth": 0,
             "ticks": ""
            },
            "colorscale": [
             [
              0,
              "#0d0887"
             ],
             [
              0.1111111111111111,
              "#46039f"
             ],
             [
              0.2222222222222222,
              "#7201a8"
             ],
             [
              0.3333333333333333,
              "#9c179e"
             ],
             [
              0.4444444444444444,
              "#bd3786"
             ],
             [
              0.5555555555555556,
              "#d8576b"
             ],
             [
              0.6666666666666666,
              "#ed7953"
             ],
             [
              0.7777777777777778,
              "#fb9f3a"
             ],
             [
              0.8888888888888888,
              "#fdca26"
             ],
             [
              1,
              "#f0f921"
             ]
            ],
            "type": "surface"
           }
          ],
          "table": [
           {
            "cells": {
             "fill": {
              "color": "#EBF0F8"
             },
             "line": {
              "color": "white"
             }
            },
            "header": {
             "fill": {
              "color": "#C8D4E3"
             },
             "line": {
              "color": "white"
             }
            },
            "type": "table"
           }
          ]
         },
         "layout": {
          "annotationdefaults": {
           "arrowcolor": "#2a3f5f",
           "arrowhead": 0,
           "arrowwidth": 1
          },
          "autotypenumbers": "strict",
          "coloraxis": {
           "colorbar": {
            "outlinewidth": 0,
            "ticks": ""
           }
          },
          "colorscale": {
           "diverging": [
            [
             0,
             "#8e0152"
            ],
            [
             0.1,
             "#c51b7d"
            ],
            [
             0.2,
             "#de77ae"
            ],
            [
             0.3,
             "#f1b6da"
            ],
            [
             0.4,
             "#fde0ef"
            ],
            [
             0.5,
             "#f7f7f7"
            ],
            [
             0.6,
             "#e6f5d0"
            ],
            [
             0.7,
             "#b8e186"
            ],
            [
             0.8,
             "#7fbc41"
            ],
            [
             0.9,
             "#4d9221"
            ],
            [
             1,
             "#276419"
            ]
           ],
           "sequential": [
            [
             0,
             "#0d0887"
            ],
            [
             0.1111111111111111,
             "#46039f"
            ],
            [
             0.2222222222222222,
             "#7201a8"
            ],
            [
             0.3333333333333333,
             "#9c179e"
            ],
            [
             0.4444444444444444,
             "#bd3786"
            ],
            [
             0.5555555555555556,
             "#d8576b"
            ],
            [
             0.6666666666666666,
             "#ed7953"
            ],
            [
             0.7777777777777778,
             "#fb9f3a"
            ],
            [
             0.8888888888888888,
             "#fdca26"
            ],
            [
             1,
             "#f0f921"
            ]
           ],
           "sequentialminus": [
            [
             0,
             "#0d0887"
            ],
            [
             0.1111111111111111,
             "#46039f"
            ],
            [
             0.2222222222222222,
             "#7201a8"
            ],
            [
             0.3333333333333333,
             "#9c179e"
            ],
            [
             0.4444444444444444,
             "#bd3786"
            ],
            [
             0.5555555555555556,
             "#d8576b"
            ],
            [
             0.6666666666666666,
             "#ed7953"
            ],
            [
             0.7777777777777778,
             "#fb9f3a"
            ],
            [
             0.8888888888888888,
             "#fdca26"
            ],
            [
             1,
             "#f0f921"
            ]
           ]
          },
          "colorway": [
           "#636efa",
           "#EF553B",
           "#00cc96",
           "#ab63fa",
           "#FFA15A",
           "#19d3f3",
           "#FF6692",
           "#B6E880",
           "#FF97FF",
           "#FECB52"
          ],
          "font": {
           "color": "#2a3f5f"
          },
          "geo": {
           "bgcolor": "white",
           "lakecolor": "white",
           "landcolor": "#E5ECF6",
           "showlakes": true,
           "showland": true,
           "subunitcolor": "white"
          },
          "hoverlabel": {
           "align": "left"
          },
          "hovermode": "closest",
          "mapbox": {
           "style": "light"
          },
          "paper_bgcolor": "white",
          "plot_bgcolor": "#E5ECF6",
          "polar": {
           "angularaxis": {
            "gridcolor": "white",
            "linecolor": "white",
            "ticks": ""
           },
           "bgcolor": "#E5ECF6",
           "radialaxis": {
            "gridcolor": "white",
            "linecolor": "white",
            "ticks": ""
           }
          },
          "scene": {
           "xaxis": {
            "backgroundcolor": "#E5ECF6",
            "gridcolor": "white",
            "gridwidth": 2,
            "linecolor": "white",
            "showbackground": true,
            "ticks": "",
            "zerolinecolor": "white"
           },
           "yaxis": {
            "backgroundcolor": "#E5ECF6",
            "gridcolor": "white",
            "gridwidth": 2,
            "linecolor": "white",
            "showbackground": true,
            "ticks": "",
            "zerolinecolor": "white"
           },
           "zaxis": {
            "backgroundcolor": "#E5ECF6",
            "gridcolor": "white",
            "gridwidth": 2,
            "linecolor": "white",
            "showbackground": true,
            "ticks": "",
            "zerolinecolor": "white"
           }
          },
          "shapedefaults": {
           "line": {
            "color": "#2a3f5f"
           }
          },
          "ternary": {
           "aaxis": {
            "gridcolor": "white",
            "linecolor": "white",
            "ticks": ""
           },
           "baxis": {
            "gridcolor": "white",
            "linecolor": "white",
            "ticks": ""
           },
           "bgcolor": "#E5ECF6",
           "caxis": {
            "gridcolor": "white",
            "linecolor": "white",
            "ticks": ""
           }
          },
          "title": {
           "x": 0.05
          },
          "xaxis": {
           "automargin": true,
           "gridcolor": "white",
           "linecolor": "white",
           "ticks": "",
           "title": {
            "standoff": 15
           },
           "zerolinecolor": "white",
           "zerolinewidth": 2
          },
          "yaxis": {
           "automargin": true,
           "gridcolor": "white",
           "linecolor": "white",
           "ticks": "",
           "title": {
            "standoff": 15
           },
           "zerolinecolor": "white",
           "zerolinewidth": 2
          }
         }
        },
        "title": {
         "text": "UFO Sightings"
        },
        "width": 1000
       }
      }
     },
     "metadata": {},
     "output_type": "display_data"
    }
   ],
   "source": [
    "# Filter to year 2015\n",
    "\n",
    "ufo_state_year_2015 = ufo_state_year[ufo_state_year['year'] == '2015']\n",
    "ufo_state_year_2015 = ufo_state_year_2015.drop(ufo_state_year_2015[ufo_state_year_2015['count_normalized'] == 0].index)\n",
    "ufo_state_year_2015\n",
    "# set scale\n",
    "scale = 425\n",
    "\n",
    "# create figure\n",
    "fig = go.Figure(\n",
    "    go.Scattergeo(\n",
    "        lon = ufo_state_year_2015['long'],\n",
    "        lat = ufo_state_year_2015['lat'],\n",
    "        mode = 'text',\n",
    "        text = '🛸',\n",
    "        textfont_size = scale*(ufo_state_year_2015['count_normalized'])\n",
    "    )\n",
    ")\n",
    "\n",
    "fig.add_annotation(\n",
    "    x=0.9,y=0.3,\n",
    "    xref = 'paper',\n",
    "    yref='paper',\n",
    "    text=\"2015\",\n",
    "    showarrow=False,\n",
    "    font=dict(size=27, color='black'),\n",
    ")\n",
    "\n",
    "\n",
    "fig.update_geos(landcolor='#D8D8D8')\n",
    "\n",
    "\n",
    "fig.update_layout(\n",
    "    title = 'UFO Sightings',\n",
    "    geo_scope='usa',\n",
    "    width=1000,\n",
    "    height=550,\n",
    "    margin={\"r\":0,\"t\":0,\"l\":0,\"b\":0},\n",
    "    plot_bgcolor='#B5D6E3',  # set background color outside of the map\n",
    "    geo=dict(bgcolor='#B5D6E3' , showsubunits=True, subunitcolor='black')  # set background color of the map\n",
    ")\n",
    "\n",
    "fig.show()\n"
   ]
  },
  {
   "cell_type": "code",
   "execution_count": 14,
   "metadata": {},
   "outputs": [
    {
     "data": {
      "application/vnd.plotly.v1+json": {
       "config": {
        "plotlyServerURL": "https://plot.ly"
       },
       "data": [
        {
         "lat": [
          63.588753,
          32.31823,
          35.20105,
          34.048927,
          36.778261,
          39.550051,
          41.603221,
          38.905985,
          38.910832,
          27.994402,
          33.247875,
          19.741755,
          41.878003,
          44.068202,
          40.633125,
          40.551217,
          39.011902,
          37.839333,
          31.244823,
          42.407211,
          39.045753,
          45.253783,
          44.314844,
          46.729553,
          37.964253,
          32.354668,
          46.879682,
          35.759573,
          47.551493,
          41.492537,
          43.193852,
          40.058324,
          34.97273,
          38.80261,
          43.299428,
          40.417287,
          35.007752,
          43.804133,
          41.203323,
          41.580095,
          33.836081,
          43.969515,
          35.517491,
          31.968599,
          39.32098,
          37.431573,
          44.558803,
          47.751076,
          44.268543,
          38.597626,
          43.075968
         ],
         "lon": [
          -154.493062,
          -86.902298,
          -91.831833,
          -111.093735,
          -119.417932,
          -105.782067,
          -73.087749,
          -77.033418,
          -75.52767,
          -81.760254,
          -83.441162,
          -155.844437,
          -93.097702,
          -114.742041,
          -89.398529,
          -85.602364,
          -98.484246,
          -84.27002,
          -92.145024,
          -71.382437,
          -76.641273,
          -69.445469,
          -85.602364,
          -94.6859,
          -91.831833,
          -89.398529,
          -110.362566,
          -79.0193,
          -101.002012,
          -99.90181,
          -71.572395,
          -74.405661,
          -105.032363,
          -116.419389,
          -74.217933,
          -82.907123,
          -97.092877,
          -120.554201,
          -77.194527,
          -71.477429,
          -81.163725,
          -99.90181,
          -86.580447,
          -99.90181,
          -111.093731,
          -78.656894,
          -72.577841,
          -120.740135,
          -89.616508,
          -80.454903,
          -107.290284
         ],
         "mode": "text",
         "text": "🛸",
         "textfont": {
          "size": [
           4.061393152302243,
           25.38370720188902,
           15.230224321133413,
           63.459268004722546,
           189.3624557260921,
           52.79811097992916,
           29.445100354191265,
           1.5230224321133412,
           10.153482880755607,
           143.1641086186541,
           38.07556080283353,
           8.122786304604485,
           13.19952774498229,
           22.845336481700116,
           43.65997638724912,
           30.968122786304605,
           13.707201889020071,
           24.87603305785124,
           14.214876033057852,
           47.21369539551358,
           25.38370720188902,
           18.276269185360096,
           44.167650531286895,
           33.506493506493506,
           31.983471074380166,
           9.645808736717827,
           12.18417945690673,
           62.443919716646995,
           1.0153482880755607,
           6.092089728453365,
           18.783943329397875,
           40.61393152302243,
           21.322314049586776,
           19.799291617473436,
           88.84297520661157,
           57.36717827626919,
           20.306965761511215,
           43.15230224321133,
           95.9504132231405,
           7.107438016528926,
           27.922077922077918,
           9.645808736717827,
           40.10625737898465,
           81.73553719008265,
           19.799291617473436,
           36.04486422668241,
           10.153482880755607,
           72.08972845336481,
           35.02951593860684,
           11.16883116883117,
           5.584415584415585
          ]
         },
         "type": "scattergeo"
        }
       ],
       "layout": {
        "annotations": [
         {
          "font": {
           "color": "black",
           "size": 27
          },
          "showarrow": false,
          "text": "2022",
          "x": 0.9,
          "xref": "paper",
          "y": 0.3,
          "yref": "paper"
         }
        ],
        "geo": {
         "bgcolor": "#B5D6E3",
         "landcolor": "#D8D8D8",
         "scope": "usa",
         "showsubunits": true,
         "subunitcolor": "black"
        },
        "height": 550,
        "margin": {
         "b": 0,
         "l": 0,
         "r": 0,
         "t": 0
        },
        "plot_bgcolor": "#B5D6E3",
        "template": {
         "data": {
          "bar": [
           {
            "error_x": {
             "color": "#2a3f5f"
            },
            "error_y": {
             "color": "#2a3f5f"
            },
            "marker": {
             "line": {
              "color": "#E5ECF6",
              "width": 0.5
             },
             "pattern": {
              "fillmode": "overlay",
              "size": 10,
              "solidity": 0.2
             }
            },
            "type": "bar"
           }
          ],
          "barpolar": [
           {
            "marker": {
             "line": {
              "color": "#E5ECF6",
              "width": 0.5
             },
             "pattern": {
              "fillmode": "overlay",
              "size": 10,
              "solidity": 0.2
             }
            },
            "type": "barpolar"
           }
          ],
          "carpet": [
           {
            "aaxis": {
             "endlinecolor": "#2a3f5f",
             "gridcolor": "white",
             "linecolor": "white",
             "minorgridcolor": "white",
             "startlinecolor": "#2a3f5f"
            },
            "baxis": {
             "endlinecolor": "#2a3f5f",
             "gridcolor": "white",
             "linecolor": "white",
             "minorgridcolor": "white",
             "startlinecolor": "#2a3f5f"
            },
            "type": "carpet"
           }
          ],
          "choropleth": [
           {
            "colorbar": {
             "outlinewidth": 0,
             "ticks": ""
            },
            "type": "choropleth"
           }
          ],
          "contour": [
           {
            "colorbar": {
             "outlinewidth": 0,
             "ticks": ""
            },
            "colorscale": [
             [
              0,
              "#0d0887"
             ],
             [
              0.1111111111111111,
              "#46039f"
             ],
             [
              0.2222222222222222,
              "#7201a8"
             ],
             [
              0.3333333333333333,
              "#9c179e"
             ],
             [
              0.4444444444444444,
              "#bd3786"
             ],
             [
              0.5555555555555556,
              "#d8576b"
             ],
             [
              0.6666666666666666,
              "#ed7953"
             ],
             [
              0.7777777777777778,
              "#fb9f3a"
             ],
             [
              0.8888888888888888,
              "#fdca26"
             ],
             [
              1,
              "#f0f921"
             ]
            ],
            "type": "contour"
           }
          ],
          "contourcarpet": [
           {
            "colorbar": {
             "outlinewidth": 0,
             "ticks": ""
            },
            "type": "contourcarpet"
           }
          ],
          "heatmap": [
           {
            "colorbar": {
             "outlinewidth": 0,
             "ticks": ""
            },
            "colorscale": [
             [
              0,
              "#0d0887"
             ],
             [
              0.1111111111111111,
              "#46039f"
             ],
             [
              0.2222222222222222,
              "#7201a8"
             ],
             [
              0.3333333333333333,
              "#9c179e"
             ],
             [
              0.4444444444444444,
              "#bd3786"
             ],
             [
              0.5555555555555556,
              "#d8576b"
             ],
             [
              0.6666666666666666,
              "#ed7953"
             ],
             [
              0.7777777777777778,
              "#fb9f3a"
             ],
             [
              0.8888888888888888,
              "#fdca26"
             ],
             [
              1,
              "#f0f921"
             ]
            ],
            "type": "heatmap"
           }
          ],
          "heatmapgl": [
           {
            "colorbar": {
             "outlinewidth": 0,
             "ticks": ""
            },
            "colorscale": [
             [
              0,
              "#0d0887"
             ],
             [
              0.1111111111111111,
              "#46039f"
             ],
             [
              0.2222222222222222,
              "#7201a8"
             ],
             [
              0.3333333333333333,
              "#9c179e"
             ],
             [
              0.4444444444444444,
              "#bd3786"
             ],
             [
              0.5555555555555556,
              "#d8576b"
             ],
             [
              0.6666666666666666,
              "#ed7953"
             ],
             [
              0.7777777777777778,
              "#fb9f3a"
             ],
             [
              0.8888888888888888,
              "#fdca26"
             ],
             [
              1,
              "#f0f921"
             ]
            ],
            "type": "heatmapgl"
           }
          ],
          "histogram": [
           {
            "marker": {
             "pattern": {
              "fillmode": "overlay",
              "size": 10,
              "solidity": 0.2
             }
            },
            "type": "histogram"
           }
          ],
          "histogram2d": [
           {
            "colorbar": {
             "outlinewidth": 0,
             "ticks": ""
            },
            "colorscale": [
             [
              0,
              "#0d0887"
             ],
             [
              0.1111111111111111,
              "#46039f"
             ],
             [
              0.2222222222222222,
              "#7201a8"
             ],
             [
              0.3333333333333333,
              "#9c179e"
             ],
             [
              0.4444444444444444,
              "#bd3786"
             ],
             [
              0.5555555555555556,
              "#d8576b"
             ],
             [
              0.6666666666666666,
              "#ed7953"
             ],
             [
              0.7777777777777778,
              "#fb9f3a"
             ],
             [
              0.8888888888888888,
              "#fdca26"
             ],
             [
              1,
              "#f0f921"
             ]
            ],
            "type": "histogram2d"
           }
          ],
          "histogram2dcontour": [
           {
            "colorbar": {
             "outlinewidth": 0,
             "ticks": ""
            },
            "colorscale": [
             [
              0,
              "#0d0887"
             ],
             [
              0.1111111111111111,
              "#46039f"
             ],
             [
              0.2222222222222222,
              "#7201a8"
             ],
             [
              0.3333333333333333,
              "#9c179e"
             ],
             [
              0.4444444444444444,
              "#bd3786"
             ],
             [
              0.5555555555555556,
              "#d8576b"
             ],
             [
              0.6666666666666666,
              "#ed7953"
             ],
             [
              0.7777777777777778,
              "#fb9f3a"
             ],
             [
              0.8888888888888888,
              "#fdca26"
             ],
             [
              1,
              "#f0f921"
             ]
            ],
            "type": "histogram2dcontour"
           }
          ],
          "mesh3d": [
           {
            "colorbar": {
             "outlinewidth": 0,
             "ticks": ""
            },
            "type": "mesh3d"
           }
          ],
          "parcoords": [
           {
            "line": {
             "colorbar": {
              "outlinewidth": 0,
              "ticks": ""
             }
            },
            "type": "parcoords"
           }
          ],
          "pie": [
           {
            "automargin": true,
            "type": "pie"
           }
          ],
          "scatter": [
           {
            "fillpattern": {
             "fillmode": "overlay",
             "size": 10,
             "solidity": 0.2
            },
            "type": "scatter"
           }
          ],
          "scatter3d": [
           {
            "line": {
             "colorbar": {
              "outlinewidth": 0,
              "ticks": ""
             }
            },
            "marker": {
             "colorbar": {
              "outlinewidth": 0,
              "ticks": ""
             }
            },
            "type": "scatter3d"
           }
          ],
          "scattercarpet": [
           {
            "marker": {
             "colorbar": {
              "outlinewidth": 0,
              "ticks": ""
             }
            },
            "type": "scattercarpet"
           }
          ],
          "scattergeo": [
           {
            "marker": {
             "colorbar": {
              "outlinewidth": 0,
              "ticks": ""
             }
            },
            "type": "scattergeo"
           }
          ],
          "scattergl": [
           {
            "marker": {
             "colorbar": {
              "outlinewidth": 0,
              "ticks": ""
             }
            },
            "type": "scattergl"
           }
          ],
          "scattermapbox": [
           {
            "marker": {
             "colorbar": {
              "outlinewidth": 0,
              "ticks": ""
             }
            },
            "type": "scattermapbox"
           }
          ],
          "scatterpolar": [
           {
            "marker": {
             "colorbar": {
              "outlinewidth": 0,
              "ticks": ""
             }
            },
            "type": "scatterpolar"
           }
          ],
          "scatterpolargl": [
           {
            "marker": {
             "colorbar": {
              "outlinewidth": 0,
              "ticks": ""
             }
            },
            "type": "scatterpolargl"
           }
          ],
          "scatterternary": [
           {
            "marker": {
             "colorbar": {
              "outlinewidth": 0,
              "ticks": ""
             }
            },
            "type": "scatterternary"
           }
          ],
          "surface": [
           {
            "colorbar": {
             "outlinewidth": 0,
             "ticks": ""
            },
            "colorscale": [
             [
              0,
              "#0d0887"
             ],
             [
              0.1111111111111111,
              "#46039f"
             ],
             [
              0.2222222222222222,
              "#7201a8"
             ],
             [
              0.3333333333333333,
              "#9c179e"
             ],
             [
              0.4444444444444444,
              "#bd3786"
             ],
             [
              0.5555555555555556,
              "#d8576b"
             ],
             [
              0.6666666666666666,
              "#ed7953"
             ],
             [
              0.7777777777777778,
              "#fb9f3a"
             ],
             [
              0.8888888888888888,
              "#fdca26"
             ],
             [
              1,
              "#f0f921"
             ]
            ],
            "type": "surface"
           }
          ],
          "table": [
           {
            "cells": {
             "fill": {
              "color": "#EBF0F8"
             },
             "line": {
              "color": "white"
             }
            },
            "header": {
             "fill": {
              "color": "#C8D4E3"
             },
             "line": {
              "color": "white"
             }
            },
            "type": "table"
           }
          ]
         },
         "layout": {
          "annotationdefaults": {
           "arrowcolor": "#2a3f5f",
           "arrowhead": 0,
           "arrowwidth": 1
          },
          "autotypenumbers": "strict",
          "coloraxis": {
           "colorbar": {
            "outlinewidth": 0,
            "ticks": ""
           }
          },
          "colorscale": {
           "diverging": [
            [
             0,
             "#8e0152"
            ],
            [
             0.1,
             "#c51b7d"
            ],
            [
             0.2,
             "#de77ae"
            ],
            [
             0.3,
             "#f1b6da"
            ],
            [
             0.4,
             "#fde0ef"
            ],
            [
             0.5,
             "#f7f7f7"
            ],
            [
             0.6,
             "#e6f5d0"
            ],
            [
             0.7,
             "#b8e186"
            ],
            [
             0.8,
             "#7fbc41"
            ],
            [
             0.9,
             "#4d9221"
            ],
            [
             1,
             "#276419"
            ]
           ],
           "sequential": [
            [
             0,
             "#0d0887"
            ],
            [
             0.1111111111111111,
             "#46039f"
            ],
            [
             0.2222222222222222,
             "#7201a8"
            ],
            [
             0.3333333333333333,
             "#9c179e"
            ],
            [
             0.4444444444444444,
             "#bd3786"
            ],
            [
             0.5555555555555556,
             "#d8576b"
            ],
            [
             0.6666666666666666,
             "#ed7953"
            ],
            [
             0.7777777777777778,
             "#fb9f3a"
            ],
            [
             0.8888888888888888,
             "#fdca26"
            ],
            [
             1,
             "#f0f921"
            ]
           ],
           "sequentialminus": [
            [
             0,
             "#0d0887"
            ],
            [
             0.1111111111111111,
             "#46039f"
            ],
            [
             0.2222222222222222,
             "#7201a8"
            ],
            [
             0.3333333333333333,
             "#9c179e"
            ],
            [
             0.4444444444444444,
             "#bd3786"
            ],
            [
             0.5555555555555556,
             "#d8576b"
            ],
            [
             0.6666666666666666,
             "#ed7953"
            ],
            [
             0.7777777777777778,
             "#fb9f3a"
            ],
            [
             0.8888888888888888,
             "#fdca26"
            ],
            [
             1,
             "#f0f921"
            ]
           ]
          },
          "colorway": [
           "#636efa",
           "#EF553B",
           "#00cc96",
           "#ab63fa",
           "#FFA15A",
           "#19d3f3",
           "#FF6692",
           "#B6E880",
           "#FF97FF",
           "#FECB52"
          ],
          "font": {
           "color": "#2a3f5f"
          },
          "geo": {
           "bgcolor": "white",
           "lakecolor": "white",
           "landcolor": "#E5ECF6",
           "showlakes": true,
           "showland": true,
           "subunitcolor": "white"
          },
          "hoverlabel": {
           "align": "left"
          },
          "hovermode": "closest",
          "mapbox": {
           "style": "light"
          },
          "paper_bgcolor": "white",
          "plot_bgcolor": "#E5ECF6",
          "polar": {
           "angularaxis": {
            "gridcolor": "white",
            "linecolor": "white",
            "ticks": ""
           },
           "bgcolor": "#E5ECF6",
           "radialaxis": {
            "gridcolor": "white",
            "linecolor": "white",
            "ticks": ""
           }
          },
          "scene": {
           "xaxis": {
            "backgroundcolor": "#E5ECF6",
            "gridcolor": "white",
            "gridwidth": 2,
            "linecolor": "white",
            "showbackground": true,
            "ticks": "",
            "zerolinecolor": "white"
           },
           "yaxis": {
            "backgroundcolor": "#E5ECF6",
            "gridcolor": "white",
            "gridwidth": 2,
            "linecolor": "white",
            "showbackground": true,
            "ticks": "",
            "zerolinecolor": "white"
           },
           "zaxis": {
            "backgroundcolor": "#E5ECF6",
            "gridcolor": "white",
            "gridwidth": 2,
            "linecolor": "white",
            "showbackground": true,
            "ticks": "",
            "zerolinecolor": "white"
           }
          },
          "shapedefaults": {
           "line": {
            "color": "#2a3f5f"
           }
          },
          "ternary": {
           "aaxis": {
            "gridcolor": "white",
            "linecolor": "white",
            "ticks": ""
           },
           "baxis": {
            "gridcolor": "white",
            "linecolor": "white",
            "ticks": ""
           },
           "bgcolor": "#E5ECF6",
           "caxis": {
            "gridcolor": "white",
            "linecolor": "white",
            "ticks": ""
           }
          },
          "title": {
           "x": 0.05
          },
          "xaxis": {
           "automargin": true,
           "gridcolor": "white",
           "linecolor": "white",
           "ticks": "",
           "title": {
            "standoff": 15
           },
           "zerolinecolor": "white",
           "zerolinewidth": 2
          },
          "yaxis": {
           "automargin": true,
           "gridcolor": "white",
           "linecolor": "white",
           "ticks": "",
           "title": {
            "standoff": 15
           },
           "zerolinecolor": "white",
           "zerolinewidth": 2
          }
         }
        },
        "title": {
         "text": "UFO Sightings"
        },
        "width": 1000
       }
      }
     },
     "metadata": {},
     "output_type": "display_data"
    }
   ],
   "source": [
    "# Filter to year 2022 for trial\n",
    "\n",
    "ufo_state_year_2022 = ufo_state_year[ufo_state_year['year'] == '2022']\n",
    "\n",
    "# set scale\n",
    "scale = 430\n",
    "\n",
    "# create figure\n",
    "fig = go.Figure(\n",
    "    go.Scattergeo(\n",
    "        lon = ufo_state_year_2022['long'],\n",
    "        lat = ufo_state_year_2022['lat'],\n",
    "        mode = 'text',\n",
    "        text = '🛸',\n",
    "        textfont_size = scale*(ufo_state_year_2022['count_normalized'])\n",
    "    )\n",
    ")\n",
    "\n",
    "fig.add_annotation(\n",
    "    x=0.9,y=0.3,\n",
    "    xref = 'paper',\n",
    "    yref='paper',\n",
    "    text=\"2022\",\n",
    "    showarrow=False,\n",
    "    font=dict(size=27, color='black'),\n",
    ")\n",
    "\n",
    "\n",
    "fig.update_geos(landcolor='#D8D8D8')\n",
    "\n",
    "\n",
    "\n",
    "fig.update_layout(\n",
    "    title = 'UFO Sightings',\n",
    "    geo_scope='usa',\n",
    "    width=1000,\n",
    "    height=550,\n",
    "    margin={\"r\":0,\"t\":0,\"l\":0,\"b\":0},\n",
    "    plot_bgcolor='#B5D6E3',  # set background color outside of the map\n",
    "    geo=dict(bgcolor='#B5D6E3' , showsubunits=True, subunitcolor='black')  # set background color of the map\n",
    ")\n",
    "\n",
    "fig.show()\n"
   ]
  },
  {
   "attachments": {},
   "cell_type": "markdown",
   "metadata": {},
   "source": [
    "## Creating Gif"
   ]
  },
  {
   "cell_type": "code",
   "execution_count": 15,
   "metadata": {},
   "outputs": [],
   "source": [
    "import imageio"
   ]
  },
  {
   "cell_type": "code",
   "execution_count": 16,
   "metadata": {},
   "outputs": [],
   "source": [
    "import plotly.graph_objects as go\n",
    "\n",
    "def plot_ufo_sightings(ufo_state_year, year):\n",
    "    # Filter to the specified year\n",
    "    ufo_state_year_year = ufo_state_year[ufo_state_year['year'] == year]\n",
    "\n",
    "    # Drop 0\n",
    "    ufo_state_year_year = ufo_state_year_year.drop(ufo_state_year_year[ufo_state_year_year['count_normalized'] == 0].index)\n",
    "    \n",
    "    # Set scale (different years require different scales)\n",
    "    if (year == '2022') | (year == \"2005\"):\n",
    "        scale = 430\n",
    "    elif (year == '2015'):\n",
    "        scale = 425\n",
    "    else:\n",
    "        scale = 1000\n",
    "\n",
    "    # Create figure\n",
    "    fig = go.Figure(\n",
    "        go.Scattergeo(\n",
    "            lon = ufo_state_year_year['long'],\n",
    "            lat = ufo_state_year_year['lat'],\n",
    "            mode = 'text',\n",
    "            text = '🛸',\n",
    "            textfont_size = scale*(ufo_state_year_year['count_normalized'])\n",
    "        )\n",
    "    )\n",
    "\n",
    "    fig.add_annotation(\n",
    "        x=1, y=0.3,\n",
    "        xref='paper',\n",
    "        yref='paper',\n",
    "        text=year,\n",
    "        showarrow=False,\n",
    "        font=dict(size=27, color='black'),\n",
    "    )\n",
    "    # Start of legend\n",
    "    fig.add_annotation(\n",
    "        x=1.2,y=0.85,\n",
    "        xref = 'paper',\n",
    "        yref='paper',\n",
    "        text=\"Number of UFO sighted\",\n",
    "        showarrow=False,\n",
    "        font=dict(size=17, color='black'),\n",
    "    )\n",
    "\n",
    "    # Legend entry 1\n",
    "    fig.add_annotation(\n",
    "        x=1.14,y=0.786,\n",
    "        xref = 'paper',\n",
    "        yref='paper',\n",
    "        text=\"🛸\",\n",
    "        showarrow=False,\n",
    "        font=dict(size=27, color='black'),\n",
    "    )\n",
    "    fig.add_annotation(\n",
    "        x=1.05,y=0.77,\n",
    "        xref = 'paper',\n",
    "        yref='paper',\n",
    "        text=\"5\",\n",
    "        showarrow=False,\n",
    "        font=dict(size=13, color='black'),\n",
    "    )\n",
    "\n",
    "    # Legend entry 2\n",
    "    fig.add_annotation(\n",
    "        x=1.16,y=0.72,\n",
    "        xref = 'paper',\n",
    "        yref='paper',\n",
    "        text=\"🛸\",\n",
    "        showarrow=False,\n",
    "        font=dict(size=50, color='black'),\n",
    "    )\n",
    "    fig.add_annotation(\n",
    "        x=1.05,y=0.67,\n",
    "        xref = 'paper',\n",
    "        yref='paper',\n",
    "        text=\"75\",\n",
    "        showarrow=False,\n",
    "        font=dict(size=13, color='black'),\n",
    "    )\n",
    "\n",
    "    # Legend entry 3\n",
    "    fig.add_annotation(\n",
    "        x=1.17,y=0.55,\n",
    "        xref = 'paper',\n",
    "        yref='paper',\n",
    "        text=\"🛸\",\n",
    "        showarrow=False,\n",
    "        font=dict(size=65, color='black'),\n",
    "    )\n",
    "    fig.add_annotation(\n",
    "        x=1.05,y=0.55,\n",
    "        xref = 'paper',\n",
    "        yref='paper',\n",
    "        text=\"125\",\n",
    "        showarrow=False,\n",
    "        font=dict(size=13, color='black'),\n",
    "    )\n",
    "    fig.update_geos(landcolor='#D8D8D8')\n",
    "\n",
    "    fig.update_layout(\n",
    "        title = 'Number of UFO Sightings in the US across the years',\n",
    "        title_x = 3,\n",
    "        geo_scope='usa',\n",
    "        width=1000,\n",
    "        height=550,\n",
    "        margin={\"r\":180,\"t\":30,\"l\":0,\"b\":0},\n",
    "        plot_bgcolor='#B5D6E3',  # set background color outside of the map\n",
    "        paper_bgcolor='#B5D6E3',\n",
    "        geo=dict(bgcolor='#B5D6E3', showsubunits=True, subunitcolor='black')  # set background color of the map\n",
    "    )\n",
    "\n",
    "    # Save the plot locally\n",
    "    fig.write_image(f\"plot_{year}.png\")\n",
    "    return fig\n",
    "\n"
   ]
  },
  {
   "cell_type": "code",
   "execution_count": 18,
   "metadata": {},
   "outputs": [
    {
     "name": "stderr",
     "output_type": "stream",
     "text": [
      "/var/folders/r_/fklxc5m54kl125_d3kkyjzp40000gn/T/ipykernel_30139/459707815.py:16: DeprecationWarning:\n",
      "\n",
      "Starting with ImageIO v3 the behavior of this function will switch to that of iio.v3.imread. To keep the current behavior (and make this warning disappear) use `import imageio.v2 as imageio` or call `imageio.v2.imread` directly.\n",
      "\n"
     ]
    }
   ],
   "source": [
    "import imageio\n",
    "import os\n",
    "\n",
    "# Collect filenames of all png files in the directory\n",
    "filenames = []\n",
    "for file in os.listdir():\n",
    "    if file.endswith(\".png\") and file.startswith(\"plot_\"):\n",
    "        filenames.append(file)\n",
    "\n",
    "# Sort the filenames by year\n",
    "filenames.sort(key=lambda x: int(x.split(\"_\")[1].split(\".\")[0]))\n",
    "\n",
    "# Create a list of images from the png files\n",
    "images = []\n",
    "for filename in filenames:\n",
    "    images.append(imageio.imread(filename))\n",
    "\n",
    "# Write the images to a gif file\n",
    "imageio.mimsave(\"ufo_sightings.gif\", images, duration=0.9)\n"
   ]
  },
  {
   "cell_type": "code",
   "execution_count": null,
   "metadata": {},
   "outputs": [],
   "source": []
  }
 ],
 "metadata": {
  "kernelspec": {
   "display_name": "anly503",
   "language": "python",
   "name": "python3"
  },
  "language_info": {
   "codemirror_mode": {
    "name": "ipython",
    "version": 3
   },
   "file_extension": ".py",
   "mimetype": "text/x-python",
   "name": "python",
   "nbconvert_exporter": "python",
   "pygments_lexer": "ipython3",
   "version": "3.10.8"
  },
  "orig_nbformat": 4,
  "vscode": {
   "interpreter": {
    "hash": "1131b2acca1f1a48cb0059b591daabbc768eb29103e0163d085c85270440c73c"
   }
  }
 },
 "nbformat": 4,
 "nbformat_minor": 2
}
