{
 "cells": [
  {
   "attachments": {},
   "cell_type": "markdown",
   "metadata": {},
   "source": [
    "# Concatenate/Join All Weather Data"
   ]
  },
  {
   "cell_type": "code",
   "execution_count": 315,
   "metadata": {},
   "outputs": [],
   "source": [
    "# import packages\n",
    "\n",
    "import requests\n",
    "import json\n",
    "import pandas as pd\n",
    "import warnings\n",
    "warnings.filterwarnings('ignore')"
   ]
  },
  {
   "attachments": {},
   "cell_type": "markdown",
   "metadata": {},
   "source": [
    "## Phoenix, Arizona (no concatenation needed)"
   ]
  },
  {
   "cell_type": "code",
   "execution_count": 316,
   "metadata": {},
   "outputs": [],
   "source": [
    "phoenix_df = pd.read_csv('../data/Weather/df_pheonix_api.csv')\n",
    "\n",
    "# Add 'Address' column to tucson_df for when analysing with main dataframe\n",
    "\n",
    "phoenix_df['Address'] = 'Phoenix, AZ'"
   ]
  },
  {
   "cell_type": "code",
   "execution_count": 317,
   "metadata": {},
   "outputs": [
    {
     "data": {
      "text/plain": [
       "Index(['date', 'WT01', 'WT02', 'WT03', 'WT04', 'WT05', 'WT06', 'WT07', 'WT08',\n",
       "       'WT09', 'WT10', 'WT11', 'WT12', 'WT13', 'WT14', 'WT15', 'WT16', 'WT17',\n",
       "       'WT18', 'WV01', 'WV03', 'WV07', 'WV18', 'WV20', 'Address'],\n",
       "      dtype='object')"
      ]
     },
     "execution_count": 317,
     "metadata": {},
     "output_type": "execute_result"
    }
   ],
   "source": [
    "phoenix_df.columns"
   ]
  },
  {
   "attachments": {},
   "cell_type": "markdown",
   "metadata": {},
   "source": [
    "## Tucson, Arizona (no concatenation needed)"
   ]
  },
  {
   "cell_type": "code",
   "execution_count": 318,
   "metadata": {},
   "outputs": [],
   "source": [
    "tucson_df = pd.read_csv('../data/Weather/df_tucson_api.csv')\n",
    "\n",
    "# Add 'Address' column to tucson_df for when analysing with main dataframe\n",
    "\n",
    "tucson_df['Address'] = 'Tucson, AZ'"
   ]
  },
  {
   "cell_type": "code",
   "execution_count": 319,
   "metadata": {},
   "outputs": [
    {
     "data": {
      "text/plain": [
       "(4914, 25)"
      ]
     },
     "execution_count": 319,
     "metadata": {},
     "output_type": "execute_result"
    }
   ],
   "source": [
    "tucson_df.shape"
   ]
  },
  {
   "attachments": {},
   "cell_type": "markdown",
   "metadata": {},
   "source": [
    "## Portland, Oregon (no concatenation needed)"
   ]
  },
  {
   "cell_type": "code",
   "execution_count": 320,
   "metadata": {},
   "outputs": [],
   "source": [
    "portland_df = pd.read_csv('../data/Weather/df_portland_api.csv')\n",
    "\n",
    "# Add 'Address' column to portland_df for when analysing with main dataframe\n",
    "\n",
    "portland_df['Address'] = 'Portland, OR'"
   ]
  },
  {
   "attachments": {},
   "cell_type": "markdown",
   "metadata": {},
   "source": [
    "## San Diego, California (no concatenation needed)"
   ]
  },
  {
   "cell_type": "code",
   "execution_count": 321,
   "metadata": {},
   "outputs": [],
   "source": [
    "sandiego_df = pd.read_csv('../data/Weather/df_sandiego_api.csv')\n",
    "\n",
    "# Add 'Address' column to sandiego_df for when analysing with main dataframe\n",
    "\n",
    "sandiego_df['Address'] = 'San Diego, CA'"
   ]
  },
  {
   "attachments": {},
   "cell_type": "markdown",
   "metadata": {},
   "source": [
    "## Albuquerque, New Mexico (concatenation/join needed)"
   ]
  },
  {
   "cell_type": "code",
   "execution_count": 322,
   "metadata": {},
   "outputs": [],
   "source": [
    "albuquerque_df_92_22 = pd.read_csv('../data/Weather/df_albuquerque_api.csv')\n",
    "\n",
    "albuquerque_df_79 = pd.read_csv('../data/Weather/albuquerque_1979.csv')\n",
    "\n",
    "albuquerque_df_81 = pd.read_csv('../data/Weather/albuquerque_1981.csv')\n",
    "\n",
    "albuquerque_df_89 = pd.read_csv('../data/Weather/albuquerque_1989.csv')\n",
    "\n",
    "# Drop unnecessary columns from albuquerque_df_79, albuquerque_df_81, albuquerque_df_89\n",
    "\n",
    "albuquerque_df_79.drop(['STATION', 'NAME', 'LATITUDE', 'LONGITUDE', 'ELEVATION'], axis=1, inplace=True)\n",
    "albuquerque_df_81.drop(['STATION', 'NAME', 'LATITUDE', 'LONGITUDE', 'ELEVATION'], axis=1, inplace=True)\n",
    "albuquerque_df_89.drop(['STATION', 'NAME', 'LATITUDE', 'LONGITUDE', 'ELEVATION'], axis=1, inplace=True)\n",
    "\n",
    "# Rename 'date' column in albuquerque_df_92_22 to 'DATE'\n",
    "\n",
    "albuquerque_df_92_22.rename(columns={'date': 'DATE'}, inplace=True)\n",
    "\n",
    "# Add 'WT12','WT13','WT15','WT17', 'WV01', 'WV03', 'WV07', 'WV18', 'WV20' column of NaNs to albuquerque_df_79, albuquerque_df_81 and all aforementioned cols except 'WT17' to albuquerque_df_89\n",
    "\n",
    "# List of columns to add\n",
    "columns_to_add = ['WT12', 'WT13', 'WT15', 'WV01', 'WV03', 'WV07', 'WV18', 'WV20']\n",
    "\n",
    "# Add columns with NaN values to albuquerque_df_79\n",
    "albuquerque_df_79 = albuquerque_df_79.reindex(columns=[*albuquerque_df_79.columns, *columns_to_add])\n",
    "albuquerque_df_79[columns_to_add] = None\n",
    "\n",
    "# Add columns with NaN values to albuquerque_df_81\n",
    "albuquerque_df_81 = albuquerque_df_81.reindex(columns=[*albuquerque_df_81.columns, *columns_to_add])\n",
    "albuquerque_df_81[columns_to_add] = None\n",
    "\n",
    "# Add columns with NaN values to albuquerque_df_89 except 'WT17'\n",
    "columns_to_add_without_WT17 = [col for col in columns_to_add if col != 'WT17']\n",
    "albuquerque_df_89 = albuquerque_df_89.reindex(columns=[*albuquerque_df_89.columns, *columns_to_add_without_WT17])\n",
    "albuquerque_df_89[columns_to_add_without_WT17] = None\n",
    "\n",
    "# Concatenate albuquerque_df_79, albuquerque_df_81, albuquerque_df_89, albuquerque_df_92_22\n",
    "\n",
    "albuquerque_df = pd.concat([albuquerque_df_79, albuquerque_df_81, albuquerque_df_89, albuquerque_df_92_22], ignore_index=True)\n",
    "\n",
    "# Add 'Address' column to albuquerque_df for when analysing with main dataframe\n",
    "\n",
    "albuquerque_df['Address'] = 'Albuquerque, NM'\n",
    "\n",
    "# Rename 'DATE' back to 'date' for when analysing with main dataframe\n",
    "\n",
    "albuquerque_df.rename(columns={'DATE': 'date'}, inplace=True)"
   ]
  },
  {
   "cell_type": "code",
   "execution_count": 323,
   "metadata": {},
   "outputs": [
    {
     "data": {
      "text/html": [
       "<div>\n",
       "<style scoped>\n",
       "    .dataframe tbody tr th:only-of-type {\n",
       "        vertical-align: middle;\n",
       "    }\n",
       "\n",
       "    .dataframe tbody tr th {\n",
       "        vertical-align: top;\n",
       "    }\n",
       "\n",
       "    .dataframe thead th {\n",
       "        text-align: right;\n",
       "    }\n",
       "</style>\n",
       "<table border=\"1\" class=\"dataframe\">\n",
       "  <thead>\n",
       "    <tr style=\"text-align: right;\">\n",
       "      <th></th>\n",
       "      <th>date</th>\n",
       "      <th>WT01</th>\n",
       "      <th>WT02</th>\n",
       "      <th>WT03</th>\n",
       "      <th>WT04</th>\n",
       "      <th>WT05</th>\n",
       "      <th>WT06</th>\n",
       "      <th>WT07</th>\n",
       "      <th>WT08</th>\n",
       "      <th>WT09</th>\n",
       "      <th>...</th>\n",
       "      <th>WT12</th>\n",
       "      <th>WT13</th>\n",
       "      <th>WT15</th>\n",
       "      <th>WV01</th>\n",
       "      <th>WV03</th>\n",
       "      <th>WV07</th>\n",
       "      <th>WV18</th>\n",
       "      <th>WV20</th>\n",
       "      <th>WT17</th>\n",
       "      <th>Address</th>\n",
       "    </tr>\n",
       "  </thead>\n",
       "  <tbody>\n",
       "    <tr>\n",
       "      <th>0</th>\n",
       "      <td>1979-01-01</td>\n",
       "      <td>NaN</td>\n",
       "      <td>NaN</td>\n",
       "      <td>NaN</td>\n",
       "      <td>NaN</td>\n",
       "      <td>NaN</td>\n",
       "      <td>NaN</td>\n",
       "      <td>NaN</td>\n",
       "      <td>NaN</td>\n",
       "      <td>NaN</td>\n",
       "      <td>...</td>\n",
       "      <td>None</td>\n",
       "      <td>NaN</td>\n",
       "      <td>None</td>\n",
       "      <td>None</td>\n",
       "      <td>NaN</td>\n",
       "      <td>None</td>\n",
       "      <td>None</td>\n",
       "      <td>None</td>\n",
       "      <td>NaN</td>\n",
       "      <td>Albuquerque, NM</td>\n",
       "    </tr>\n",
       "    <tr>\n",
       "      <th>1</th>\n",
       "      <td>1979-01-02</td>\n",
       "      <td>NaN</td>\n",
       "      <td>NaN</td>\n",
       "      <td>NaN</td>\n",
       "      <td>NaN</td>\n",
       "      <td>NaN</td>\n",
       "      <td>NaN</td>\n",
       "      <td>NaN</td>\n",
       "      <td>NaN</td>\n",
       "      <td>NaN</td>\n",
       "      <td>...</td>\n",
       "      <td>None</td>\n",
       "      <td>NaN</td>\n",
       "      <td>None</td>\n",
       "      <td>None</td>\n",
       "      <td>NaN</td>\n",
       "      <td>None</td>\n",
       "      <td>None</td>\n",
       "      <td>None</td>\n",
       "      <td>NaN</td>\n",
       "      <td>Albuquerque, NM</td>\n",
       "    </tr>\n",
       "    <tr>\n",
       "      <th>2</th>\n",
       "      <td>1979-01-03</td>\n",
       "      <td>NaN</td>\n",
       "      <td>NaN</td>\n",
       "      <td>NaN</td>\n",
       "      <td>NaN</td>\n",
       "      <td>NaN</td>\n",
       "      <td>NaN</td>\n",
       "      <td>NaN</td>\n",
       "      <td>NaN</td>\n",
       "      <td>NaN</td>\n",
       "      <td>...</td>\n",
       "      <td>None</td>\n",
       "      <td>NaN</td>\n",
       "      <td>None</td>\n",
       "      <td>None</td>\n",
       "      <td>NaN</td>\n",
       "      <td>None</td>\n",
       "      <td>None</td>\n",
       "      <td>None</td>\n",
       "      <td>NaN</td>\n",
       "      <td>Albuquerque, NM</td>\n",
       "    </tr>\n",
       "    <tr>\n",
       "      <th>3</th>\n",
       "      <td>1979-01-04</td>\n",
       "      <td>NaN</td>\n",
       "      <td>NaN</td>\n",
       "      <td>NaN</td>\n",
       "      <td>NaN</td>\n",
       "      <td>NaN</td>\n",
       "      <td>NaN</td>\n",
       "      <td>NaN</td>\n",
       "      <td>NaN</td>\n",
       "      <td>NaN</td>\n",
       "      <td>...</td>\n",
       "      <td>None</td>\n",
       "      <td>NaN</td>\n",
       "      <td>None</td>\n",
       "      <td>None</td>\n",
       "      <td>NaN</td>\n",
       "      <td>None</td>\n",
       "      <td>None</td>\n",
       "      <td>None</td>\n",
       "      <td>NaN</td>\n",
       "      <td>Albuquerque, NM</td>\n",
       "    </tr>\n",
       "    <tr>\n",
       "      <th>4</th>\n",
       "      <td>1979-01-05</td>\n",
       "      <td>NaN</td>\n",
       "      <td>NaN</td>\n",
       "      <td>NaN</td>\n",
       "      <td>NaN</td>\n",
       "      <td>NaN</td>\n",
       "      <td>NaN</td>\n",
       "      <td>NaN</td>\n",
       "      <td>NaN</td>\n",
       "      <td>NaN</td>\n",
       "      <td>...</td>\n",
       "      <td>None</td>\n",
       "      <td>NaN</td>\n",
       "      <td>None</td>\n",
       "      <td>None</td>\n",
       "      <td>NaN</td>\n",
       "      <td>None</td>\n",
       "      <td>None</td>\n",
       "      <td>None</td>\n",
       "      <td>NaN</td>\n",
       "      <td>Albuquerque, NM</td>\n",
       "    </tr>\n",
       "    <tr>\n",
       "      <th>...</th>\n",
       "      <td>...</td>\n",
       "      <td>...</td>\n",
       "      <td>...</td>\n",
       "      <td>...</td>\n",
       "      <td>...</td>\n",
       "      <td>...</td>\n",
       "      <td>...</td>\n",
       "      <td>...</td>\n",
       "      <td>...</td>\n",
       "      <td>...</td>\n",
       "      <td>...</td>\n",
       "      <td>...</td>\n",
       "      <td>...</td>\n",
       "      <td>...</td>\n",
       "      <td>...</td>\n",
       "      <td>...</td>\n",
       "      <td>...</td>\n",
       "      <td>...</td>\n",
       "      <td>...</td>\n",
       "      <td>...</td>\n",
       "      <td>...</td>\n",
       "    </tr>\n",
       "    <tr>\n",
       "      <th>12173</th>\n",
       "      <td>2022-09-25</td>\n",
       "      <td>NaN</td>\n",
       "      <td>NaN</td>\n",
       "      <td>NaN</td>\n",
       "      <td>NaN</td>\n",
       "      <td>NaN</td>\n",
       "      <td>NaN</td>\n",
       "      <td>NaN</td>\n",
       "      <td>1.0</td>\n",
       "      <td>NaN</td>\n",
       "      <td>...</td>\n",
       "      <td>NaN</td>\n",
       "      <td>NaN</td>\n",
       "      <td>NaN</td>\n",
       "      <td>NaN</td>\n",
       "      <td>NaN</td>\n",
       "      <td>NaN</td>\n",
       "      <td>NaN</td>\n",
       "      <td>NaN</td>\n",
       "      <td>NaN</td>\n",
       "      <td>Albuquerque, NM</td>\n",
       "    </tr>\n",
       "    <tr>\n",
       "      <th>12174</th>\n",
       "      <td>2022-10-31</td>\n",
       "      <td>NaN</td>\n",
       "      <td>NaN</td>\n",
       "      <td>NaN</td>\n",
       "      <td>NaN</td>\n",
       "      <td>NaN</td>\n",
       "      <td>NaN</td>\n",
       "      <td>NaN</td>\n",
       "      <td>1.0</td>\n",
       "      <td>NaN</td>\n",
       "      <td>...</td>\n",
       "      <td>NaN</td>\n",
       "      <td>NaN</td>\n",
       "      <td>NaN</td>\n",
       "      <td>NaN</td>\n",
       "      <td>NaN</td>\n",
       "      <td>NaN</td>\n",
       "      <td>NaN</td>\n",
       "      <td>NaN</td>\n",
       "      <td>NaN</td>\n",
       "      <td>Albuquerque, NM</td>\n",
       "    </tr>\n",
       "    <tr>\n",
       "      <th>12175</th>\n",
       "      <td>2022-11-04</td>\n",
       "      <td>1.0</td>\n",
       "      <td>NaN</td>\n",
       "      <td>NaN</td>\n",
       "      <td>NaN</td>\n",
       "      <td>NaN</td>\n",
       "      <td>NaN</td>\n",
       "      <td>NaN</td>\n",
       "      <td>1.0</td>\n",
       "      <td>NaN</td>\n",
       "      <td>...</td>\n",
       "      <td>NaN</td>\n",
       "      <td>NaN</td>\n",
       "      <td>NaN</td>\n",
       "      <td>NaN</td>\n",
       "      <td>NaN</td>\n",
       "      <td>NaN</td>\n",
       "      <td>NaN</td>\n",
       "      <td>NaN</td>\n",
       "      <td>NaN</td>\n",
       "      <td>Albuquerque, NM</td>\n",
       "    </tr>\n",
       "    <tr>\n",
       "      <th>12176</th>\n",
       "      <td>2022-11-13</td>\n",
       "      <td>NaN</td>\n",
       "      <td>NaN</td>\n",
       "      <td>NaN</td>\n",
       "      <td>NaN</td>\n",
       "      <td>NaN</td>\n",
       "      <td>NaN</td>\n",
       "      <td>NaN</td>\n",
       "      <td>1.0</td>\n",
       "      <td>NaN</td>\n",
       "      <td>...</td>\n",
       "      <td>NaN</td>\n",
       "      <td>NaN</td>\n",
       "      <td>NaN</td>\n",
       "      <td>NaN</td>\n",
       "      <td>NaN</td>\n",
       "      <td>NaN</td>\n",
       "      <td>NaN</td>\n",
       "      <td>NaN</td>\n",
       "      <td>NaN</td>\n",
       "      <td>Albuquerque, NM</td>\n",
       "    </tr>\n",
       "    <tr>\n",
       "      <th>12177</th>\n",
       "      <td>2022-02-02</td>\n",
       "      <td>1.0</td>\n",
       "      <td>NaN</td>\n",
       "      <td>NaN</td>\n",
       "      <td>NaN</td>\n",
       "      <td>NaN</td>\n",
       "      <td>NaN</td>\n",
       "      <td>NaN</td>\n",
       "      <td>NaN</td>\n",
       "      <td>1.0</td>\n",
       "      <td>...</td>\n",
       "      <td>NaN</td>\n",
       "      <td>NaN</td>\n",
       "      <td>NaN</td>\n",
       "      <td>NaN</td>\n",
       "      <td>NaN</td>\n",
       "      <td>NaN</td>\n",
       "      <td>NaN</td>\n",
       "      <td>NaN</td>\n",
       "      <td>NaN</td>\n",
       "      <td>Albuquerque, NM</td>\n",
       "    </tr>\n",
       "  </tbody>\n",
       "</table>\n",
       "<p>12178 rows × 25 columns</p>\n",
       "</div>"
      ],
      "text/plain": [
       "             date  WT01  WT02  WT03  WT04  WT05  WT06  WT07  WT08  WT09  ...  \\\n",
       "0      1979-01-01   NaN   NaN   NaN   NaN   NaN   NaN   NaN   NaN   NaN  ...   \n",
       "1      1979-01-02   NaN   NaN   NaN   NaN   NaN   NaN   NaN   NaN   NaN  ...   \n",
       "2      1979-01-03   NaN   NaN   NaN   NaN   NaN   NaN   NaN   NaN   NaN  ...   \n",
       "3      1979-01-04   NaN   NaN   NaN   NaN   NaN   NaN   NaN   NaN   NaN  ...   \n",
       "4      1979-01-05   NaN   NaN   NaN   NaN   NaN   NaN   NaN   NaN   NaN  ...   \n",
       "...           ...   ...   ...   ...   ...   ...   ...   ...   ...   ...  ...   \n",
       "12173  2022-09-25   NaN   NaN   NaN   NaN   NaN   NaN   NaN   1.0   NaN  ...   \n",
       "12174  2022-10-31   NaN   NaN   NaN   NaN   NaN   NaN   NaN   1.0   NaN  ...   \n",
       "12175  2022-11-04   1.0   NaN   NaN   NaN   NaN   NaN   NaN   1.0   NaN  ...   \n",
       "12176  2022-11-13   NaN   NaN   NaN   NaN   NaN   NaN   NaN   1.0   NaN  ...   \n",
       "12177  2022-02-02   1.0   NaN   NaN   NaN   NaN   NaN   NaN   NaN   1.0  ...   \n",
       "\n",
       "       WT12  WT13  WT15  WV01  WV03  WV07  WV18  WV20 WT17          Address  \n",
       "0      None   NaN  None  None   NaN  None  None  None  NaN  Albuquerque, NM  \n",
       "1      None   NaN  None  None   NaN  None  None  None  NaN  Albuquerque, NM  \n",
       "2      None   NaN  None  None   NaN  None  None  None  NaN  Albuquerque, NM  \n",
       "3      None   NaN  None  None   NaN  None  None  None  NaN  Albuquerque, NM  \n",
       "4      None   NaN  None  None   NaN  None  None  None  NaN  Albuquerque, NM  \n",
       "...     ...   ...   ...   ...   ...   ...   ...   ...  ...              ...  \n",
       "12173   NaN   NaN   NaN   NaN   NaN   NaN   NaN   NaN  NaN  Albuquerque, NM  \n",
       "12174   NaN   NaN   NaN   NaN   NaN   NaN   NaN   NaN  NaN  Albuquerque, NM  \n",
       "12175   NaN   NaN   NaN   NaN   NaN   NaN   NaN   NaN  NaN  Albuquerque, NM  \n",
       "12176   NaN   NaN   NaN   NaN   NaN   NaN   NaN   NaN  NaN  Albuquerque, NM  \n",
       "12177   NaN   NaN   NaN   NaN   NaN   NaN   NaN   NaN  NaN  Albuquerque, NM  \n",
       "\n",
       "[12178 rows x 25 columns]"
      ]
     },
     "execution_count": 323,
     "metadata": {},
     "output_type": "execute_result"
    }
   ],
   "source": [
    "albuquerque_df"
   ]
  },
  {
   "attachments": {},
   "cell_type": "markdown",
   "metadata": {},
   "source": [
    "## Los Angeles, California (no concatenation needed)"
   ]
  },
  {
   "cell_type": "code",
   "execution_count": 324,
   "metadata": {},
   "outputs": [],
   "source": [
    "losangeles_df = pd.read_csv('../data/Weather/df_losangeles_api.csv')\n",
    "\n",
    "# Add 'Address' column to sandiego_df for when analysing with main dataframe\n",
    "\n",
    "losangeles_df['Address'] = 'Los Angeles, CA'"
   ]
  },
  {
   "attachments": {},
   "cell_type": "markdown",
   "metadata": {},
   "source": [
    "## Orlando, Florida (no concatenation needed)"
   ]
  },
  {
   "cell_type": "code",
   "execution_count": 325,
   "metadata": {},
   "outputs": [],
   "source": [
    "orlando_df = pd.read_csv('../data/Weather/df_orlando_api.csv')\n",
    "\n",
    "# Add 'Address' column to sandiego_df for when analysing with main dataframe\n",
    "\n",
    "orlando_df['Address'] = 'Orlando, FL'"
   ]
  },
  {
   "attachments": {},
   "cell_type": "markdown",
   "metadata": {},
   "source": [
    "## Seattle, Washington (no concatenation needed)"
   ]
  },
  {
   "cell_type": "code",
   "execution_count": 326,
   "metadata": {},
   "outputs": [],
   "source": [
    "seattle_df = pd.read_csv('../data/Weather/df_seattle_api.csv')\n",
    "\n",
    "# Add 'Address' column to sandiego_df for when analysing with main dataframe\n",
    "\n",
    "seattle_df['Address'] = 'Seattle, WA'"
   ]
  },
  {
   "attachments": {},
   "cell_type": "markdown",
   "metadata": {},
   "source": [
    "## Las Vegas, Nevada (concatenation needed)"
   ]
  },
  {
   "cell_type": "code",
   "execution_count": 327,
   "metadata": {},
   "outputs": [],
   "source": [
    "vegas_df_20_22 = pd.read_csv('../data/Weather/df_vegas_api.csv')\n",
    "\n",
    "vegas_df_73_83 = pd.read_csv('../data/Weather/vegas_1973_1983.csv')\n",
    "\n",
    "vegas_df_84_94 = pd.read_csv('../data/Weather/vegas_1984_1994.csv')\n",
    "\n",
    "vegas_df_95_03 = pd.read_csv('../data/Weather/vegas_1995_2003.csv')\n",
    "\n",
    "vegas_df_04_19 = pd.read_csv('../data/Weather/vegas_2004_2019.csv')\n",
    "\n",
    "# Drop unnecessary columns from vegas_df_73_83, vegas_df_84_94, vegas_df_95_03, vegas_df_04_19\n",
    "\n",
    "vegas_df_73_83.drop(['STATION', 'NAME', 'LATITUDE', 'LONGITUDE', 'ELEVATION'], axis=1, inplace=True)\n",
    "vegas_df_84_94.drop(['STATION', 'NAME', 'LATITUDE', 'LONGITUDE', 'ELEVATION'], axis=1, inplace=True)\n",
    "vegas_df_95_03.drop(['STATION', 'NAME', 'LATITUDE', 'LONGITUDE', 'ELEVATION', 'WT21'], axis=1, inplace=True)\n",
    "vegas_df_04_19.drop(['STATION', 'NAME', 'PGTM', 'PRCP', 'SNOW', 'SNWD', 'TSUN'], axis=1, inplace=True)\n",
    "\n",
    "# Rename 'date' column in vegas_df_20_22 to 'DATE'\n",
    "\n",
    "vegas_df_20_22.rename(columns={'date': 'DATE'}, inplace=True)\n",
    "\n",
    "# Add 'WT10', 'WT12', 'WT13', 'WT15', 'WT17', 'WV01', 'WV03', 'WV07', 'WV18', 'WV20' column of NaNs \n",
    "\n",
    "# List of columns to add\n",
    "columns_to_add = ['WT10', 'WT12', 'WT13', 'WT15', 'WT17', 'WV01', 'WV03', 'WV07', 'WV18', 'WV20']\n",
    "\n",
    "# Add columns with NaN values to vegas_df_73_83\n",
    "vegas_df_73_83 = vegas_df_73_83.reindex(columns=[*vegas_df_73_83.columns, *columns_to_add])\n",
    "vegas_df_73_83[columns_to_add] = None\n",
    "\n",
    "# Add columns with NaN values to vegas_df_84_94\n",
    "vegas_df_84_94 = vegas_df_84_94.reindex(columns=[*vegas_df_84_94.columns, *columns_to_add])\n",
    "vegas_df_84_94[columns_to_add] = None\n",
    "\n",
    "# Add columns with NaN values to vegas_df_95_03 except 'WT13', 'WV01', 'WV03', 'WV07'\n",
    "columns_to_add_without_4 = [col for col in columns_to_add if col not in ['WT13', 'WV01', 'WV03', 'WV07']]\n",
    "vegas_df_95_03 = vegas_df_95_03.reindex(columns=[*vegas_df_95_03.columns, *columns_to_add_without_4])\n",
    "vegas_df_95_03[columns_to_add_without_4] = None\n",
    "\n",
    "# Add columns with NaN values to vegas_df_04_19 except 'WT10', 'WT13', 'WV03'\n",
    "columns_to_add_without_2 = [col for col in columns_to_add if col not in ['WT10', 'WT13', 'WV03']]\n",
    "vegas_df_04_19 = vegas_df_04_19.reindex(columns=[*vegas_df_04_19.columns, *columns_to_add_without_2])\n",
    "vegas_df_04_19[columns_to_add_without_2] = None\n",
    "\n",
    "# Concatenate albuquerque_df_79, albuquerque_df_81, albuquerque_df_89, albuquerque_df_92_22\n",
    "\n",
    "vegas_df = pd.concat([vegas_df_73_83, vegas_df_84_94, vegas_df_95_03, vegas_df_04_19, vegas_df_20_22], ignore_index=True)\n",
    "\n",
    "# Add 'Address' column to albuquerque_df for when analysing with main dataframe\n",
    "\n",
    "vegas_df['Address'] = 'Las Vegas, NV'\n",
    "\n",
    "# Rename 'DATE' back to 'date' for when analysing with main dataframe\n",
    "\n",
    "vegas_df.rename(columns={'DATE': 'date'}, inplace=True)"
   ]
  },
  {
   "cell_type": "code",
   "execution_count": 328,
   "metadata": {},
   "outputs": [
    {
     "data": {
      "text/html": [
       "<div>\n",
       "<style scoped>\n",
       "    .dataframe tbody tr th:only-of-type {\n",
       "        vertical-align: middle;\n",
       "    }\n",
       "\n",
       "    .dataframe tbody tr th {\n",
       "        vertical-align: top;\n",
       "    }\n",
       "\n",
       "    .dataframe thead th {\n",
       "        text-align: right;\n",
       "    }\n",
       "</style>\n",
       "<table border=\"1\" class=\"dataframe\">\n",
       "  <thead>\n",
       "    <tr style=\"text-align: right;\">\n",
       "      <th></th>\n",
       "      <th>date</th>\n",
       "      <th>WT01</th>\n",
       "      <th>WT02</th>\n",
       "      <th>WT03</th>\n",
       "      <th>WT04</th>\n",
       "      <th>WT05</th>\n",
       "      <th>WT06</th>\n",
       "      <th>WT07</th>\n",
       "      <th>WT08</th>\n",
       "      <th>WT09</th>\n",
       "      <th>...</th>\n",
       "      <th>WT12</th>\n",
       "      <th>WT13</th>\n",
       "      <th>WT15</th>\n",
       "      <th>WT17</th>\n",
       "      <th>WV01</th>\n",
       "      <th>WV03</th>\n",
       "      <th>WV07</th>\n",
       "      <th>WV18</th>\n",
       "      <th>WV20</th>\n",
       "      <th>Address</th>\n",
       "    </tr>\n",
       "  </thead>\n",
       "  <tbody>\n",
       "    <tr>\n",
       "      <th>0</th>\n",
       "      <td>1980-05-01</td>\n",
       "      <td>NaN</td>\n",
       "      <td>NaN</td>\n",
       "      <td>NaN</td>\n",
       "      <td>NaN</td>\n",
       "      <td>NaN</td>\n",
       "      <td>NaN</td>\n",
       "      <td>NaN</td>\n",
       "      <td>NaN</td>\n",
       "      <td>NaN</td>\n",
       "      <td>...</td>\n",
       "      <td>None</td>\n",
       "      <td>NaN</td>\n",
       "      <td>None</td>\n",
       "      <td>None</td>\n",
       "      <td>NaN</td>\n",
       "      <td>NaN</td>\n",
       "      <td>NaN</td>\n",
       "      <td>None</td>\n",
       "      <td>None</td>\n",
       "      <td>Las Vegas, NV</td>\n",
       "    </tr>\n",
       "    <tr>\n",
       "      <th>1</th>\n",
       "      <td>1980-05-02</td>\n",
       "      <td>NaN</td>\n",
       "      <td>NaN</td>\n",
       "      <td>NaN</td>\n",
       "      <td>NaN</td>\n",
       "      <td>NaN</td>\n",
       "      <td>NaN</td>\n",
       "      <td>NaN</td>\n",
       "      <td>NaN</td>\n",
       "      <td>NaN</td>\n",
       "      <td>...</td>\n",
       "      <td>None</td>\n",
       "      <td>NaN</td>\n",
       "      <td>None</td>\n",
       "      <td>None</td>\n",
       "      <td>NaN</td>\n",
       "      <td>NaN</td>\n",
       "      <td>NaN</td>\n",
       "      <td>None</td>\n",
       "      <td>None</td>\n",
       "      <td>Las Vegas, NV</td>\n",
       "    </tr>\n",
       "    <tr>\n",
       "      <th>2</th>\n",
       "      <td>1980-05-03</td>\n",
       "      <td>NaN</td>\n",
       "      <td>NaN</td>\n",
       "      <td>NaN</td>\n",
       "      <td>NaN</td>\n",
       "      <td>NaN</td>\n",
       "      <td>NaN</td>\n",
       "      <td>NaN</td>\n",
       "      <td>NaN</td>\n",
       "      <td>NaN</td>\n",
       "      <td>...</td>\n",
       "      <td>None</td>\n",
       "      <td>NaN</td>\n",
       "      <td>None</td>\n",
       "      <td>None</td>\n",
       "      <td>NaN</td>\n",
       "      <td>NaN</td>\n",
       "      <td>NaN</td>\n",
       "      <td>None</td>\n",
       "      <td>None</td>\n",
       "      <td>Las Vegas, NV</td>\n",
       "    </tr>\n",
       "    <tr>\n",
       "      <th>3</th>\n",
       "      <td>1980-05-04</td>\n",
       "      <td>NaN</td>\n",
       "      <td>NaN</td>\n",
       "      <td>NaN</td>\n",
       "      <td>NaN</td>\n",
       "      <td>NaN</td>\n",
       "      <td>NaN</td>\n",
       "      <td>NaN</td>\n",
       "      <td>NaN</td>\n",
       "      <td>NaN</td>\n",
       "      <td>...</td>\n",
       "      <td>None</td>\n",
       "      <td>NaN</td>\n",
       "      <td>None</td>\n",
       "      <td>None</td>\n",
       "      <td>NaN</td>\n",
       "      <td>NaN</td>\n",
       "      <td>NaN</td>\n",
       "      <td>None</td>\n",
       "      <td>None</td>\n",
       "      <td>Las Vegas, NV</td>\n",
       "    </tr>\n",
       "    <tr>\n",
       "      <th>4</th>\n",
       "      <td>1980-05-05</td>\n",
       "      <td>NaN</td>\n",
       "      <td>NaN</td>\n",
       "      <td>NaN</td>\n",
       "      <td>NaN</td>\n",
       "      <td>NaN</td>\n",
       "      <td>NaN</td>\n",
       "      <td>NaN</td>\n",
       "      <td>NaN</td>\n",
       "      <td>NaN</td>\n",
       "      <td>...</td>\n",
       "      <td>None</td>\n",
       "      <td>NaN</td>\n",
       "      <td>None</td>\n",
       "      <td>None</td>\n",
       "      <td>NaN</td>\n",
       "      <td>NaN</td>\n",
       "      <td>NaN</td>\n",
       "      <td>None</td>\n",
       "      <td>None</td>\n",
       "      <td>Las Vegas, NV</td>\n",
       "    </tr>\n",
       "    <tr>\n",
       "      <th>...</th>\n",
       "      <td>...</td>\n",
       "      <td>...</td>\n",
       "      <td>...</td>\n",
       "      <td>...</td>\n",
       "      <td>...</td>\n",
       "      <td>...</td>\n",
       "      <td>...</td>\n",
       "      <td>...</td>\n",
       "      <td>...</td>\n",
       "      <td>...</td>\n",
       "      <td>...</td>\n",
       "      <td>...</td>\n",
       "      <td>...</td>\n",
       "      <td>...</td>\n",
       "      <td>...</td>\n",
       "      <td>...</td>\n",
       "      <td>...</td>\n",
       "      <td>...</td>\n",
       "      <td>...</td>\n",
       "      <td>...</td>\n",
       "      <td>...</td>\n",
       "    </tr>\n",
       "    <tr>\n",
       "      <th>213922</th>\n",
       "      <td>2022-09-09</td>\n",
       "      <td>NaN</td>\n",
       "      <td>NaN</td>\n",
       "      <td>NaN</td>\n",
       "      <td>NaN</td>\n",
       "      <td>NaN</td>\n",
       "      <td>NaN</td>\n",
       "      <td>NaN</td>\n",
       "      <td>1.0</td>\n",
       "      <td>NaN</td>\n",
       "      <td>...</td>\n",
       "      <td>NaN</td>\n",
       "      <td>NaN</td>\n",
       "      <td>NaN</td>\n",
       "      <td>NaN</td>\n",
       "      <td>NaN</td>\n",
       "      <td>NaN</td>\n",
       "      <td>NaN</td>\n",
       "      <td>NaN</td>\n",
       "      <td>NaN</td>\n",
       "      <td>Las Vegas, NV</td>\n",
       "    </tr>\n",
       "    <tr>\n",
       "      <th>213923</th>\n",
       "      <td>2022-10-15</td>\n",
       "      <td>NaN</td>\n",
       "      <td>NaN</td>\n",
       "      <td>NaN</td>\n",
       "      <td>NaN</td>\n",
       "      <td>NaN</td>\n",
       "      <td>NaN</td>\n",
       "      <td>NaN</td>\n",
       "      <td>1.0</td>\n",
       "      <td>NaN</td>\n",
       "      <td>...</td>\n",
       "      <td>NaN</td>\n",
       "      <td>NaN</td>\n",
       "      <td>NaN</td>\n",
       "      <td>NaN</td>\n",
       "      <td>NaN</td>\n",
       "      <td>NaN</td>\n",
       "      <td>NaN</td>\n",
       "      <td>NaN</td>\n",
       "      <td>NaN</td>\n",
       "      <td>Las Vegas, NV</td>\n",
       "    </tr>\n",
       "    <tr>\n",
       "      <th>213924</th>\n",
       "      <td>2022-10-19</td>\n",
       "      <td>NaN</td>\n",
       "      <td>NaN</td>\n",
       "      <td>NaN</td>\n",
       "      <td>NaN</td>\n",
       "      <td>NaN</td>\n",
       "      <td>NaN</td>\n",
       "      <td>NaN</td>\n",
       "      <td>1.0</td>\n",
       "      <td>NaN</td>\n",
       "      <td>...</td>\n",
       "      <td>NaN</td>\n",
       "      <td>NaN</td>\n",
       "      <td>NaN</td>\n",
       "      <td>NaN</td>\n",
       "      <td>NaN</td>\n",
       "      <td>NaN</td>\n",
       "      <td>NaN</td>\n",
       "      <td>NaN</td>\n",
       "      <td>NaN</td>\n",
       "      <td>Las Vegas, NV</td>\n",
       "    </tr>\n",
       "    <tr>\n",
       "      <th>213925</th>\n",
       "      <td>2022-10-22</td>\n",
       "      <td>NaN</td>\n",
       "      <td>NaN</td>\n",
       "      <td>NaN</td>\n",
       "      <td>NaN</td>\n",
       "      <td>NaN</td>\n",
       "      <td>NaN</td>\n",
       "      <td>NaN</td>\n",
       "      <td>1.0</td>\n",
       "      <td>NaN</td>\n",
       "      <td>...</td>\n",
       "      <td>NaN</td>\n",
       "      <td>NaN</td>\n",
       "      <td>NaN</td>\n",
       "      <td>NaN</td>\n",
       "      <td>NaN</td>\n",
       "      <td>NaN</td>\n",
       "      <td>NaN</td>\n",
       "      <td>NaN</td>\n",
       "      <td>NaN</td>\n",
       "      <td>Las Vegas, NV</td>\n",
       "    </tr>\n",
       "    <tr>\n",
       "      <th>213926</th>\n",
       "      <td>2022-11-20</td>\n",
       "      <td>NaN</td>\n",
       "      <td>NaN</td>\n",
       "      <td>NaN</td>\n",
       "      <td>NaN</td>\n",
       "      <td>NaN</td>\n",
       "      <td>NaN</td>\n",
       "      <td>NaN</td>\n",
       "      <td>1.0</td>\n",
       "      <td>NaN</td>\n",
       "      <td>...</td>\n",
       "      <td>NaN</td>\n",
       "      <td>NaN</td>\n",
       "      <td>NaN</td>\n",
       "      <td>NaN</td>\n",
       "      <td>NaN</td>\n",
       "      <td>NaN</td>\n",
       "      <td>NaN</td>\n",
       "      <td>NaN</td>\n",
       "      <td>NaN</td>\n",
       "      <td>Las Vegas, NV</td>\n",
       "    </tr>\n",
       "  </tbody>\n",
       "</table>\n",
       "<p>213927 rows × 25 columns</p>\n",
       "</div>"
      ],
      "text/plain": [
       "              date  WT01  WT02  WT03  WT04  WT05  WT06  WT07  WT08  WT09  ...  \\\n",
       "0       1980-05-01   NaN   NaN   NaN   NaN   NaN   NaN   NaN   NaN   NaN  ...   \n",
       "1       1980-05-02   NaN   NaN   NaN   NaN   NaN   NaN   NaN   NaN   NaN  ...   \n",
       "2       1980-05-03   NaN   NaN   NaN   NaN   NaN   NaN   NaN   NaN   NaN  ...   \n",
       "3       1980-05-04   NaN   NaN   NaN   NaN   NaN   NaN   NaN   NaN   NaN  ...   \n",
       "4       1980-05-05   NaN   NaN   NaN   NaN   NaN   NaN   NaN   NaN   NaN  ...   \n",
       "...            ...   ...   ...   ...   ...   ...   ...   ...   ...   ...  ...   \n",
       "213922  2022-09-09   NaN   NaN   NaN   NaN   NaN   NaN   NaN   1.0   NaN  ...   \n",
       "213923  2022-10-15   NaN   NaN   NaN   NaN   NaN   NaN   NaN   1.0   NaN  ...   \n",
       "213924  2022-10-19   NaN   NaN   NaN   NaN   NaN   NaN   NaN   1.0   NaN  ...   \n",
       "213925  2022-10-22   NaN   NaN   NaN   NaN   NaN   NaN   NaN   1.0   NaN  ...   \n",
       "213926  2022-11-20   NaN   NaN   NaN   NaN   NaN   NaN   NaN   1.0   NaN  ...   \n",
       "\n",
       "        WT12  WT13  WT15  WT17  WV01 WV03  WV07  WV18  WV20        Address  \n",
       "0       None   NaN  None  None   NaN  NaN   NaN  None  None  Las Vegas, NV  \n",
       "1       None   NaN  None  None   NaN  NaN   NaN  None  None  Las Vegas, NV  \n",
       "2       None   NaN  None  None   NaN  NaN   NaN  None  None  Las Vegas, NV  \n",
       "3       None   NaN  None  None   NaN  NaN   NaN  None  None  Las Vegas, NV  \n",
       "4       None   NaN  None  None   NaN  NaN   NaN  None  None  Las Vegas, NV  \n",
       "...      ...   ...   ...   ...   ...  ...   ...   ...   ...            ...  \n",
       "213922   NaN   NaN   NaN   NaN   NaN  NaN   NaN   NaN   NaN  Las Vegas, NV  \n",
       "213923   NaN   NaN   NaN   NaN   NaN  NaN   NaN   NaN   NaN  Las Vegas, NV  \n",
       "213924   NaN   NaN   NaN   NaN   NaN  NaN   NaN   NaN   NaN  Las Vegas, NV  \n",
       "213925   NaN   NaN   NaN   NaN   NaN  NaN   NaN   NaN   NaN  Las Vegas, NV  \n",
       "213926   NaN   NaN   NaN   NaN   NaN  NaN   NaN   NaN   NaN  Las Vegas, NV  \n",
       "\n",
       "[213927 rows x 25 columns]"
      ]
     },
     "execution_count": 328,
     "metadata": {},
     "output_type": "execute_result"
    }
   ],
   "source": [
    "vegas_df"
   ]
  },
  {
   "attachments": {},
   "cell_type": "markdown",
   "metadata": {},
   "source": [
    "## Chicago, Illinois (concatenation needed)"
   ]
  },
  {
   "cell_type": "code",
   "execution_count": 329,
   "metadata": {},
   "outputs": [],
   "source": [
    "import glob\n",
    "\n",
    "# Get list of CSV files in the directory with filenames starting with \"chicago_1985_\"\n",
    "csv_files = glob.glob('../data/Weather/chicago_*.csv')\n",
    "\n",
    "# Create a dictionary to store DataFrames for each year\n",
    "chicago_dfs = {}\n",
    "\n",
    "# Loop through the CSV files and read them into separate DataFrames\n",
    "for csv_file in csv_files:\n",
    "    # Extract the year from the file name\n",
    "    year = csv_file.split('_')[1].split('.')[0]\n",
    "    # Read CSV file into a DataFrame with the year as the key\n",
    "    chicago_dfs[f'chicago_{year}'] = pd.read_csv(csv_file)\n",
    "\n",
    "chicago_85_86 = chicago_dfs['chicago_1985']\n",
    "chicago_87_88 = chicago_dfs['chicago_1987']\n",
    "chicago_97_98 = chicago_dfs['chicago_1997']\n",
    "chicago_99_00 = chicago_dfs['chicago_1999']\n",
    "chicago_01_02 = chicago_dfs['chicago_2001']\n",
    "chicago_03_04 = chicago_dfs['chicago_2003']\n",
    "chicago_05_06 = chicago_dfs['chicago_2005']\n",
    "chicago_07_08 = chicago_dfs['chicago_2007']\n",
    "chicago_09_10 = chicago_dfs['chicago_2009']\n",
    "chicago_11_12 = chicago_dfs['chicago_2011']\n",
    "chicago_13_14 = chicago_dfs['chicago_2013']\n",
    "chicago_15 = chicago_dfs['chicago_2015']\n",
    "chicago_16_17 = chicago_dfs['chicago_2016']\n",
    "chicago_18_19 = chicago_dfs['chicago_2018']\n",
    "chicago_20_22 = pd.read_csv('../data/Weather/df_chicago_api.csv')\n",
    "\n",
    "\n",
    "# Drop unnecessary columns ('STATION', 'NAME', 'LATITUDE', 'LONGITUDE', 'ELEVATION') from chicago dfs \n",
    "\n",
    "# List of DataFrame names\n",
    "dfs_to_join = ['chicago_85_86', 'chicago_87_88', 'chicago_97_98', 'chicago_99_00', 'chicago_01_02',\n",
    "           'chicago_03_04', 'chicago_05_06', 'chicago_07_08', 'chicago_09_10', 'chicago_11_12',\n",
    "           'chicago_13_14', 'chicago_15', 'chicago_16_17', 'chicago_18_19']\n",
    "\n",
    "# Drop specified columns from each DataFrame\n",
    "columns_to_drop = ['STATION', 'NAME', 'LATITUDE', 'LONGITUDE', 'ELEVATION']\n",
    "for df_name in dfs_to_join:\n",
    "    if df_name in globals():\n",
    "        globals()[df_name] = globals()[df_name].drop(columns=columns_to_drop)\n",
    "\n",
    "chicago_20_22.drop(['WV01', 'WV03', 'WV07', 'WV18', 'WV20'], axis=1, inplace=True) # only NaN values in these columns\n",
    "\n",
    "# Rename 'date' column in chicago_20_22 to 'DATE'\n",
    "\n",
    "chicago_20_22.rename(columns={'date': 'DATE'}, inplace=True)\n",
    "\n",
    "# Join chicago_20_22 on common columns\n",
    "\n",
    "# Add missing columns with NaN values to all dfs apart from chicago_20_22\n",
    "\n",
    "for df_name in dfs_to_join:\n",
    "    df = globals()[df_name]\n",
    "    columns_to_add = list(set(chicago_20_22.columns) - set(df.columns))\n",
    "    if columns_to_add:\n",
    "        for col in columns_to_add:\n",
    "            df[col] = None\n",
    "\n",
    "# Concatenate vegas dfs\n",
    "\n",
    "chicago_df = pd.concat([chicago_85_86, chicago_87_88, chicago_97_98, chicago_99_00,\n",
    "                            chicago_01_02, chicago_03_04, chicago_05_06, chicago_07_08,\n",
    "                            chicago_09_10, chicago_11_12, chicago_13_14, chicago_15,\n",
    "                            chicago_16_17, chicago_18_19, chicago_20_22], ignore_index=True)\n",
    "\n",
    "# Add 'Address' column to albuquerque_df for when analysing with main dataframe\n",
    "\n",
    "chicago_df['Address'] = 'Chicago, IL'\n",
    "\n",
    "# Rename 'DATE' back to 'date' for when analysing with main dataframe\n",
    "\n",
    "chicago_df.rename(columns={'DATE': 'date'}, inplace=True)"
   ]
  },
  {
   "attachments": {},
   "cell_type": "markdown",
   "metadata": {},
   "source": [
    "# Master Weather DataFrame"
   ]
  },
  {
   "cell_type": "code",
   "execution_count": 330,
   "metadata": {},
   "outputs": [],
   "source": [
    "# concatenate all final state weather dfs\n",
    "\n",
    "weather_df = pd.concat([albuquerque_df, phoenix_df, vegas_df, chicago_df, tucson_df, portland_df, sandiego_df, seattle_df, orlando_df, losangeles_df], ignore_index=True)"
   ]
  },
  {
   "cell_type": "code",
   "execution_count": 331,
   "metadata": {},
   "outputs": [],
   "source": [
    "weather_df.to_csv('../data/Weather/weather_master_df.csv', index=False)"
   ]
  },
  {
   "cell_type": "code",
   "execution_count": 347,
   "metadata": {},
   "outputs": [
    {
     "data": {
      "text/plain": [
       "Index(['date', 'WT01', 'WT02', 'WT03', 'WT04', 'WT05', 'WT06', 'WT07', 'WT08',\n",
       "       'WT09', 'WT10', 'WT11', 'WT14', 'WT16', 'WT18', 'WT12', 'WT13', 'WT15',\n",
       "       'WV01', 'WV03', 'WV07', 'WV18', 'WV20', 'WT17', 'Address', 'WT22',\n",
       "       'WT19', 'WT21'],\n",
       "      dtype='object')"
      ]
     },
     "execution_count": 347,
     "metadata": {},
     "output_type": "execute_result"
    }
   ],
   "source": [
    "weather_df.columns"
   ]
  },
  {
   "attachments": {},
   "cell_type": "markdown",
   "metadata": {},
   "source": [
    "# Begin Analysis"
   ]
  },
  {
   "cell_type": "code",
   "execution_count": 332,
   "metadata": {},
   "outputs": [],
   "source": [
    "# convert date to datetime\n",
    "\n",
    "weather_df['date'] = pd.to_datetime(weather_df['date'])"
   ]
  },
  {
   "cell_type": "code",
   "execution_count": 333,
   "metadata": {},
   "outputs": [
    {
     "data": {
      "text/html": [
       "<div>\n",
       "<style scoped>\n",
       "    .dataframe tbody tr th:only-of-type {\n",
       "        vertical-align: middle;\n",
       "    }\n",
       "\n",
       "    .dataframe tbody tr th {\n",
       "        vertical-align: top;\n",
       "    }\n",
       "\n",
       "    .dataframe thead th {\n",
       "        text-align: right;\n",
       "    }\n",
       "</style>\n",
       "<table border=\"1\" class=\"dataframe\">\n",
       "  <thead>\n",
       "    <tr style=\"text-align: right;\">\n",
       "      <th></th>\n",
       "      <th>index</th>\n",
       "      <th>posted</th>\n",
       "      <th>date</th>\n",
       "      <th>time</th>\n",
       "      <th>city</th>\n",
       "      <th>state</th>\n",
       "      <th>shape</th>\n",
       "      <th>duration</th>\n",
       "      <th>summary</th>\n",
       "      <th>images</th>\n",
       "      <th>Minutes</th>\n",
       "    </tr>\n",
       "  </thead>\n",
       "  <tbody>\n",
       "    <tr>\n",
       "      <th>0</th>\n",
       "      <td>0</td>\n",
       "      <td>12/22/22</td>\n",
       "      <td>12/22/22</td>\n",
       "      <td>09:29:00</td>\n",
       "      <td>Newark</td>\n",
       "      <td>DE</td>\n",
       "      <td>Light</td>\n",
       "      <td>30 seconds</td>\n",
       "      <td>I saw a light that was not flashing moving the...</td>\n",
       "      <td>NaN</td>\n",
       "      <td>0.5</td>\n",
       "    </tr>\n",
       "    <tr>\n",
       "      <th>1</th>\n",
       "      <td>1</td>\n",
       "      <td>12/22/22</td>\n",
       "      <td>12/21/22</td>\n",
       "      <td>21:33:00</td>\n",
       "      <td>Columbus</td>\n",
       "      <td>OH</td>\n",
       "      <td>Light</td>\n",
       "      <td>2 minutes</td>\n",
       "      <td>4-5 orange balls of light in a straight line</td>\n",
       "      <td>NaN</td>\n",
       "      <td>2</td>\n",
       "    </tr>\n",
       "    <tr>\n",
       "      <th>2</th>\n",
       "      <td>2</td>\n",
       "      <td>12/22/22</td>\n",
       "      <td>12/21/22</td>\n",
       "      <td>04:11:00</td>\n",
       "      <td>Franklin</td>\n",
       "      <td>ME</td>\n",
       "      <td>Light</td>\n",
       "      <td>2 hours</td>\n",
       "      <td>Hovering bright light with satellite lights ex...</td>\n",
       "      <td>NaN</td>\n",
       "      <td>120</td>\n",
       "    </tr>\n",
       "    <tr>\n",
       "      <th>3</th>\n",
       "      <td>3</td>\n",
       "      <td>12/22/22</td>\n",
       "      <td>12/20/22</td>\n",
       "      <td>23:30:00</td>\n",
       "      <td>East Greenwich</td>\n",
       "      <td>RI</td>\n",
       "      <td>Light</td>\n",
       "      <td>3 seconds</td>\n",
       "      <td>I was driving the interstate at night with my ...</td>\n",
       "      <td>NaN</td>\n",
       "      <td>0.05</td>\n",
       "    </tr>\n",
       "    <tr>\n",
       "      <th>4</th>\n",
       "      <td>5</td>\n",
       "      <td>12/22/22</td>\n",
       "      <td>12/20/22</td>\n",
       "      <td>02:30:00</td>\n",
       "      <td>Washington DC</td>\n",
       "      <td>WA</td>\n",
       "      <td>Triangle</td>\n",
       "      <td>2 minutes</td>\n",
       "      <td>Object hovering 1-2 minutes, then disappeared ...</td>\n",
       "      <td>NaN</td>\n",
       "      <td>2</td>\n",
       "    </tr>\n",
       "    <tr>\n",
       "      <th>...</th>\n",
       "      <td>...</td>\n",
       "      <td>...</td>\n",
       "      <td>...</td>\n",
       "      <td>...</td>\n",
       "      <td>...</td>\n",
       "      <td>...</td>\n",
       "      <td>...</td>\n",
       "      <td>...</td>\n",
       "      <td>...</td>\n",
       "      <td>...</td>\n",
       "      <td>...</td>\n",
       "    </tr>\n",
       "    <tr>\n",
       "      <th>99212</th>\n",
       "      <td>117823</td>\n",
       "      <td>03/07/98</td>\n",
       "      <td>08/15/79</td>\n",
       "      <td>22:10:00</td>\n",
       "      <td>Beach Haven Terrace (Long Beach Island)</td>\n",
       "      <td>NJ</td>\n",
       "      <td>Fireball</td>\n",
       "      <td>5 seconds</td>\n",
       "      <td>Fireball flying parellel with the horizen,then...</td>\n",
       "      <td>NaN</td>\n",
       "      <td>0.083333</td>\n",
       "    </tr>\n",
       "    <tr>\n",
       "      <th>99213</th>\n",
       "      <td>117824</td>\n",
       "      <td>03/07/98</td>\n",
       "      <td>07/01/79</td>\n",
       "      <td>03:00:00</td>\n",
       "      <td>Chico</td>\n",
       "      <td>CA</td>\n",
       "      <td>Rectangle</td>\n",
       "      <td>7 minutes</td>\n",
       "      <td>A huge solid black mass, silently glided direc...</td>\n",
       "      <td>NaN</td>\n",
       "      <td>7</td>\n",
       "    </tr>\n",
       "    <tr>\n",
       "      <th>99214</th>\n",
       "      <td>117825</td>\n",
       "      <td>03/07/98</td>\n",
       "      <td>12/20/78</td>\n",
       "      <td>17:00:00</td>\n",
       "      <td>Huntington Park</td>\n",
       "      <td>CA</td>\n",
       "      <td>Disk</td>\n",
       "      <td>20 minutes</td>\n",
       "      <td>My Father and I watched a silver object, shape...</td>\n",
       "      <td>NaN</td>\n",
       "      <td>20</td>\n",
       "    </tr>\n",
       "    <tr>\n",
       "      <th>99215</th>\n",
       "      <td>117827</td>\n",
       "      <td>03/07/98</td>\n",
       "      <td>08/01/73</td>\n",
       "      <td>04:00:00</td>\n",
       "      <td>Kittery</td>\n",
       "      <td>ME</td>\n",
       "      <td>Formation</td>\n",
       "      <td>10 seconds</td>\n",
       "      <td>A VERY fast light point object that was viewed...</td>\n",
       "      <td>NaN</td>\n",
       "      <td>0.166667</td>\n",
       "    </tr>\n",
       "    <tr>\n",
       "      <th>99216</th>\n",
       "      <td>117828</td>\n",
       "      <td>03/07/98</td>\n",
       "      <td>07/24/73</td>\n",
       "      <td>02:24:00</td>\n",
       "      <td>Blackfoot</td>\n",
       "      <td>ID</td>\n",
       "      <td>Triangle</td>\n",
       "      <td>4 minutes</td>\n",
       "      <td>Smooth, rounded triangular object, stone grey,...</td>\n",
       "      <td>NaN</td>\n",
       "      <td>4</td>\n",
       "    </tr>\n",
       "  </tbody>\n",
       "</table>\n",
       "<p>99217 rows × 11 columns</p>\n",
       "</div>"
      ],
      "text/plain": [
       "        index    posted      date      time  \\\n",
       "0           0  12/22/22  12/22/22  09:29:00   \n",
       "1           1  12/22/22  12/21/22  21:33:00   \n",
       "2           2  12/22/22  12/21/22  04:11:00   \n",
       "3           3  12/22/22  12/20/22  23:30:00   \n",
       "4           5  12/22/22  12/20/22  02:30:00   \n",
       "...       ...       ...       ...       ...   \n",
       "99212  117823  03/07/98  08/15/79  22:10:00   \n",
       "99213  117824  03/07/98  07/01/79  03:00:00   \n",
       "99214  117825  03/07/98  12/20/78  17:00:00   \n",
       "99215  117827  03/07/98  08/01/73  04:00:00   \n",
       "99216  117828  03/07/98  07/24/73  02:24:00   \n",
       "\n",
       "                                          city state      shape    duration  \\\n",
       "0                                       Newark    DE      Light  30 seconds   \n",
       "1                                     Columbus    OH      Light   2 minutes   \n",
       "2                                     Franklin    ME      Light     2 hours   \n",
       "3                               East Greenwich    RI      Light   3 seconds   \n",
       "4                                Washington DC    WA   Triangle   2 minutes   \n",
       "...                                        ...   ...        ...         ...   \n",
       "99212  Beach Haven Terrace (Long Beach Island)    NJ   Fireball   5 seconds   \n",
       "99213                                    Chico    CA  Rectangle   7 minutes   \n",
       "99214                          Huntington Park    CA       Disk  20 minutes   \n",
       "99215                                  Kittery    ME  Formation  10 seconds   \n",
       "99216                                Blackfoot    ID   Triangle   4 minutes   \n",
       "\n",
       "                                                 summary images   Minutes  \n",
       "0      I saw a light that was not flashing moving the...    NaN       0.5  \n",
       "1           4-5 orange balls of light in a straight line    NaN         2  \n",
       "2      Hovering bright light with satellite lights ex...    NaN       120  \n",
       "3      I was driving the interstate at night with my ...    NaN      0.05  \n",
       "4      Object hovering 1-2 minutes, then disappeared ...    NaN         2  \n",
       "...                                                  ...    ...       ...  \n",
       "99212  Fireball flying parellel with the horizen,then...    NaN  0.083333  \n",
       "99213  A huge solid black mass, silently glided direc...    NaN         7  \n",
       "99214  My Father and I watched a silver object, shape...    NaN        20  \n",
       "99215  A VERY fast light point object that was viewed...    NaN  0.166667  \n",
       "99216  Smooth, rounded triangular object, stone grey,...    NaN         4  \n",
       "\n",
       "[99217 rows x 11 columns]"
      ]
     },
     "execution_count": 333,
     "metadata": {},
     "output_type": "execute_result"
    }
   ],
   "source": [
    "# Import data \n",
    "\n",
    "df = pd.read_csv(\"../data/ufo_data_nuforc.csv\")\n",
    "\n",
    "df['duration'] = df['duration'].str.replace(r'[-.]', ' ')\n",
    "# drop NaN values from the 'duration' column\n",
    "df = df.dropna(subset=['duration'])\n",
    "\n",
    "# Clean duration column \n",
    "\n",
    "import re\n",
    "\n",
    "# define regular expression patterns to extract duration information\n",
    "pattern_minutes = re.compile(r'(\\d+[\\.\\d]*)\\s*(min|mins|minutes)', re.IGNORECASE)\n",
    "pattern_seconds = re.compile(r'(\\d+[\\.\\d]*)\\s*(sec|secs|seconds)', re.IGNORECASE)\n",
    "pattern_hours = re.compile(r'(\\d+[\\.\\d]*)\\s*(hr|hrs|hours)', re.IGNORECASE)\n",
    "\n",
    "# loop over rows of the dataframe\n",
    "for index, row in df.iterrows():\n",
    "    # extract duration information from the 'duration' column using regular expressions\n",
    "    matches_minutes = pattern_minutes.findall(row['duration'])\n",
    "    matches_seconds = pattern_seconds.findall(row['duration'])\n",
    "    matches_hours = pattern_hours.findall(row['duration'])\n",
    "    \n",
    "    # keep only the last duration element found in the row\n",
    "    duration = ''\n",
    "    if matches_minutes:\n",
    "        duration = matches_minutes[-1][0] + ' minutes'\n",
    "    elif matches_seconds:\n",
    "        duration = matches_seconds[-1][0] + ' seconds'\n",
    "    elif matches_hours:\n",
    "        duration = matches_hours[-1][0] + ' hours'\n",
    "    \n",
    "    # update the 'duration' column with the cleaned duration value\n",
    "    df.at[index, 'duration'] = duration\n",
    "\n",
    "# drop rows that don't have any number in the 'duration' column\n",
    "df = df[df['duration'].str.contains(r'\\d')]\n",
    "\n",
    "# Convert duration column to numeric values (minutes scale)\n",
    "\n",
    "df= df.reset_index()\n",
    "\n",
    "# Create a new column for that \n",
    "\n",
    "df['Minutes'] = ''\n",
    "\n",
    "for i in range(0,len(df)):\n",
    "    try:\n",
    "        duration = df['duration'][i].split()\n",
    "\n",
    "        if duration[1][0] == 's':\n",
    "            scaler = 1/60\n",
    "        elif duration[1][0] == 'm':\n",
    "            scaler = 1\n",
    "        else:\n",
    "            scaler = 60\n",
    "\n",
    "        minutes = int(duration[0]) * scaler\n",
    "        df.at[i, 'Minutes'] = minutes\n",
    "    except:\n",
    "        df.drop(i, inplace=True)\n",
    "\n",
    "df"
   ]
  },
  {
   "cell_type": "code",
   "execution_count": 334,
   "metadata": {},
   "outputs": [],
   "source": [
    "# combine city and state\n",
    "\n",
    "df['Address'] = df['city'] + ', ' + df['state']\n",
    "\n",
    "# drop city and state columns\n",
    "\n",
    "df.drop(['city', 'state', 'index', 'time', 'summary', 'images', 'posted'], axis = 1, inplace = True)"
   ]
  },
  {
   "cell_type": "code",
   "execution_count": 335,
   "metadata": {},
   "outputs": [],
   "source": [
    "# filter top 10 cities \n",
    "\n",
    "top_10_cities = ['Las Vegas, NV', 'Phoenix, AZ', 'Portland, OR', 'Seattle, WA', 'San Diego, CA', 'Los Angeles, CA', 'Albuquerque, NM', 'Tucson, AZ', 'Orlando, FL', 'Chicago, IL']\n",
    "\n",
    "df = df[df['Address'].isin(top_10_cities)]\n",
    "\n",
    "# convert date to datetime\n",
    "\n",
    "df['date'] = pd.to_datetime(weather_df['date'])"
   ]
  },
  {
   "attachments": {},
   "cell_type": "markdown",
   "metadata": {},
   "source": [
    "# Joining weather and ufo dataframes on date and address"
   ]
  },
  {
   "cell_type": "code",
   "execution_count": 336,
   "metadata": {},
   "outputs": [],
   "source": [
    "# join weather and ufo dataframes on date and address\n",
    "\n",
    "df_weather_ufo = weather_df.merge(df, on=['date', 'Address'], how='left')"
   ]
  },
  {
   "cell_type": "code",
   "execution_count": 337,
   "metadata": {},
   "outputs": [],
   "source": [
    "# create a function to map the duration to a duration slot\n",
    "def map_duration(duration):\n",
    "    \n",
    "    if duration < 5:\n",
    "        return \"Less than 5 minutes\"\n",
    "    elif duration < 20:\n",
    "        return \"Between 5 and 20 minutes\"\n",
    "    elif duration < 40:\n",
    "        return \"Between 20 and 40 minutes\"\n",
    "    else:\n",
    "        return \"Greater than 40 minutes\"\n",
    "\n",
    "# apply the function to the 'Minutes' column\n",
    "df_weather_ufo['Duration_slot'] = df_weather_ufo['Minutes'].apply(map_duration)\n",
    "\n",
    "# drop the 'Minutes' column\n",
    "\n",
    "df_weather_ufo.drop(['Minutes', 'duration'], axis=1, inplace=True)"
   ]
  },
  {
   "cell_type": "code",
   "execution_count": 338,
   "metadata": {},
   "outputs": [],
   "source": [
    "# Replace NaNs with 0\n",
    "\n",
    "df_weather_ufo.fillna(0, inplace=True)"
   ]
  },
  {
   "attachments": {},
   "cell_type": "markdown",
   "metadata": {},
   "source": [
    "# Plot 1 Column Chart \n",
    "\n",
    "WT** = Weather Type where ** has one of the following values: \n",
    " 01 = Fog, ice fog, or freezing fog (may include heavy fog)\n",
    " 02 = Heavy fog or heaving freezing fog (not always\n",
    " distinguished from fog)\n",
    " 03 = Thunder\n",
    " 04 = Ice pellets, sleet, snow pellets, or small hail\n",
    " 05 = Hail (may include small hail)\n",
    " 06 = Glaze or rime\n",
    " 07 = Dust, volcanic ash, blowing dust, blowing sand, or blowing obstruction\n",
    " 08 = Smoke or haze\n",
    " 09 = Blowing or drifting snow\n",
    " 10 = Tornado, waterspout, or funnel cloud\n",
    " 11 = High or damaging winds\n",
    " 12 = Blowing spray\n",
    " 13 = Mist\n",
    " 14 = Drizzle\n",
    " 15 = Freezing drizzle\n",
    " 16 = Rain (may include freezing rain, drizzle, and freezing drizzle)\n",
    " 17 = Freezing rain\n",
    " 18 = Snow, snow pellets, snow grains, or ice crystals\n",
    " 19 = Unknown source of precipitation\n",
    " 21 = Ground fog\n",
    " 22 = Ice fog or freezing fog\n",
    "\n",
    "WVxx = Weather in the Vicinity where “xx” has one of the following values\n",
    "01 = Fog, ice fog, or freezing fog (may include heavy fog)\n",
    "03 = Thunder\n",
    "07 = Ash, dust, sand, or other blowing obstruction\n",
    "18 = Snow or ice crystals\n",
    "20 = Rain or snow shower"
   ]
  },
  {
   "cell_type": "code",
   "execution_count": 283,
   "metadata": {},
   "outputs": [
    {
     "data": {
      "application/vnd.plotly.v1+json": {
       "config": {
        "plotlyServerURL": "https://plotly.com"
       },
       "data": [
        {
         "alignmentgroup": "True",
         "hovertemplate": "Weather=WT01<br>Address=%{x}<br>Number_of_Sightings=%{y}<extra></extra>",
         "legendgroup": "WT01",
         "marker": {
          "color": "rgb(102, 197, 204)",
          "pattern": {
           "shape": ""
          }
         },
         "name": "WT01",
         "offsetgroup": "WT01",
         "orientation": "v",
         "showlegend": true,
         "textposition": "auto",
         "type": "bar",
         "x": [
          "Albuquerque, NM",
          "Las Vegas, NV",
          "Los Angeles, CA",
          "Orlando, FL",
          "Phoenix, AZ",
          "Portland, OR",
          "San Diego, CA",
          "Seattle, WA",
          "Tucson, AZ"
         ],
         "xaxis": "x",
         "y": [
          558,
          13706,
          2724,
          2235,
          237,
          2739,
          2422,
          2680,
          284
         ],
         "yaxis": "y"
        },
        {
         "alignmentgroup": "True",
         "hovertemplate": "Weather=WT07<br>Address=%{x}<br>Number_of_Sightings=%{y}<extra></extra>",
         "legendgroup": "WT07",
         "marker": {
          "color": "rgb(246, 207, 113)",
          "pattern": {
           "shape": ""
          }
         },
         "name": "WT07",
         "offsetgroup": "WT07",
         "orientation": "v",
         "showlegend": true,
         "textposition": "auto",
         "type": "bar",
         "x": [
          "Albuquerque, NM",
          "Las Vegas, NV",
          "Los Angeles, CA",
          "Orlando, FL",
          "Phoenix, AZ",
          "Portland, OR",
          "San Diego, CA",
          "Seattle, WA",
          "Tucson, AZ"
         ],
         "xaxis": "x",
         "y": [
          128,
          237,
          439,
          0,
          96,
          3,
          388,
          37,
          6
         ],
         "yaxis": "y"
        },
        {
         "alignmentgroup": "True",
         "hovertemplate": "Weather=WT08<br>Address=%{x}<br>Number_of_Sightings=%{y}<extra></extra>",
         "legendgroup": "WT08",
         "marker": {
          "color": "rgb(248, 156, 116)",
          "pattern": {
           "shape": ""
          }
         },
         "name": "WT08",
         "offsetgroup": "WT08",
         "orientation": "v",
         "showlegend": true,
         "textposition": "auto",
         "type": "bar",
         "x": [
          "Albuquerque, NM",
          "Las Vegas, NV",
          "Los Angeles, CA",
          "Orlando, FL",
          "Phoenix, AZ",
          "Portland, OR",
          "San Diego, CA",
          "Seattle, WA",
          "Tucson, AZ"
         ],
         "xaxis": "x",
         "y": [
          365,
          4944,
          2673,
          671,
          178,
          482,
          2096,
          454,
          231
         ],
         "yaxis": "y"
        },
        {
         "alignmentgroup": "True",
         "hovertemplate": "Weather=WT11<br>Address=%{x}<br>Number_of_Sightings=%{y}<extra></extra>",
         "legendgroup": "WT11",
         "marker": {
          "color": "rgb(220, 176, 242)",
          "pattern": {
           "shape": ""
          }
         },
         "name": "WT11",
         "offsetgroup": "WT11",
         "orientation": "v",
         "showlegend": true,
         "textposition": "auto",
         "type": "bar",
         "x": [
          "Albuquerque, NM",
          "Las Vegas, NV",
          "Los Angeles, CA",
          "Orlando, FL",
          "Phoenix, AZ",
          "Portland, OR",
          "San Diego, CA",
          "Seattle, WA",
          "Tucson, AZ"
         ],
         "xaxis": "x",
         "y": [
          44,
          444,
          0,
          43,
          19,
          0,
          0,
          0,
          21
         ],
         "yaxis": "y"
        },
        {
         "alignmentgroup": "True",
         "hovertemplate": "Weather=WT21<br>Address=%{x}<br>Number_of_Sightings=%{y}<extra></extra>",
         "legendgroup": "WT21",
         "marker": {
          "color": "rgb(135, 197, 95)",
          "pattern": {
           "shape": ""
          }
         },
         "name": "WT21",
         "offsetgroup": "WT21",
         "orientation": "v",
         "showlegend": true,
         "textposition": "auto",
         "type": "bar",
         "x": [
          "Albuquerque, NM",
          "Las Vegas, NV",
          "Los Angeles, CA",
          "Orlando, FL",
          "Phoenix, AZ",
          "Portland, OR",
          "San Diego, CA",
          "Seattle, WA",
          "Tucson, AZ"
         ],
         "xaxis": "x",
         "y": [
          0,
          31,
          0,
          0,
          0,
          0,
          0,
          0,
          0
         ],
         "yaxis": "y"
        }
       ],
       "layout": {
        "barmode": "relative",
        "legend": {
         "title": {
          "text": "Weather"
         },
         "tracegroupgap": 0
        },
        "margin": {
         "t": 60
        },
        "template": {
         "data": {
          "bar": [
           {
            "error_x": {
             "color": "#2a3f5f"
            },
            "error_y": {
             "color": "#2a3f5f"
            },
            "marker": {
             "line": {
              "color": "#E5ECF6",
              "width": 0.5
             },
             "pattern": {
              "fillmode": "overlay",
              "size": 10,
              "solidity": 0.2
             }
            },
            "type": "bar"
           }
          ],
          "barpolar": [
           {
            "marker": {
             "line": {
              "color": "#E5ECF6",
              "width": 0.5
             },
             "pattern": {
              "fillmode": "overlay",
              "size": 10,
              "solidity": 0.2
             }
            },
            "type": "barpolar"
           }
          ],
          "carpet": [
           {
            "aaxis": {
             "endlinecolor": "#2a3f5f",
             "gridcolor": "white",
             "linecolor": "white",
             "minorgridcolor": "white",
             "startlinecolor": "#2a3f5f"
            },
            "baxis": {
             "endlinecolor": "#2a3f5f",
             "gridcolor": "white",
             "linecolor": "white",
             "minorgridcolor": "white",
             "startlinecolor": "#2a3f5f"
            },
            "type": "carpet"
           }
          ],
          "choropleth": [
           {
            "colorbar": {
             "outlinewidth": 0,
             "ticks": ""
            },
            "type": "choropleth"
           }
          ],
          "contour": [
           {
            "colorbar": {
             "outlinewidth": 0,
             "ticks": ""
            },
            "colorscale": [
             [
              0,
              "#0d0887"
             ],
             [
              0.1111111111111111,
              "#46039f"
             ],
             [
              0.2222222222222222,
              "#7201a8"
             ],
             [
              0.3333333333333333,
              "#9c179e"
             ],
             [
              0.4444444444444444,
              "#bd3786"
             ],
             [
              0.5555555555555556,
              "#d8576b"
             ],
             [
              0.6666666666666666,
              "#ed7953"
             ],
             [
              0.7777777777777778,
              "#fb9f3a"
             ],
             [
              0.8888888888888888,
              "#fdca26"
             ],
             [
              1,
              "#f0f921"
             ]
            ],
            "type": "contour"
           }
          ],
          "contourcarpet": [
           {
            "colorbar": {
             "outlinewidth": 0,
             "ticks": ""
            },
            "type": "contourcarpet"
           }
          ],
          "heatmap": [
           {
            "colorbar": {
             "outlinewidth": 0,
             "ticks": ""
            },
            "colorscale": [
             [
              0,
              "#0d0887"
             ],
             [
              0.1111111111111111,
              "#46039f"
             ],
             [
              0.2222222222222222,
              "#7201a8"
             ],
             [
              0.3333333333333333,
              "#9c179e"
             ],
             [
              0.4444444444444444,
              "#bd3786"
             ],
             [
              0.5555555555555556,
              "#d8576b"
             ],
             [
              0.6666666666666666,
              "#ed7953"
             ],
             [
              0.7777777777777778,
              "#fb9f3a"
             ],
             [
              0.8888888888888888,
              "#fdca26"
             ],
             [
              1,
              "#f0f921"
             ]
            ],
            "type": "heatmap"
           }
          ],
          "heatmapgl": [
           {
            "colorbar": {
             "outlinewidth": 0,
             "ticks": ""
            },
            "colorscale": [
             [
              0,
              "#0d0887"
             ],
             [
              0.1111111111111111,
              "#46039f"
             ],
             [
              0.2222222222222222,
              "#7201a8"
             ],
             [
              0.3333333333333333,
              "#9c179e"
             ],
             [
              0.4444444444444444,
              "#bd3786"
             ],
             [
              0.5555555555555556,
              "#d8576b"
             ],
             [
              0.6666666666666666,
              "#ed7953"
             ],
             [
              0.7777777777777778,
              "#fb9f3a"
             ],
             [
              0.8888888888888888,
              "#fdca26"
             ],
             [
              1,
              "#f0f921"
             ]
            ],
            "type": "heatmapgl"
           }
          ],
          "histogram": [
           {
            "marker": {
             "pattern": {
              "fillmode": "overlay",
              "size": 10,
              "solidity": 0.2
             }
            },
            "type": "histogram"
           }
          ],
          "histogram2d": [
           {
            "colorbar": {
             "outlinewidth": 0,
             "ticks": ""
            },
            "colorscale": [
             [
              0,
              "#0d0887"
             ],
             [
              0.1111111111111111,
              "#46039f"
             ],
             [
              0.2222222222222222,
              "#7201a8"
             ],
             [
              0.3333333333333333,
              "#9c179e"
             ],
             [
              0.4444444444444444,
              "#bd3786"
             ],
             [
              0.5555555555555556,
              "#d8576b"
             ],
             [
              0.6666666666666666,
              "#ed7953"
             ],
             [
              0.7777777777777778,
              "#fb9f3a"
             ],
             [
              0.8888888888888888,
              "#fdca26"
             ],
             [
              1,
              "#f0f921"
             ]
            ],
            "type": "histogram2d"
           }
          ],
          "histogram2dcontour": [
           {
            "colorbar": {
             "outlinewidth": 0,
             "ticks": ""
            },
            "colorscale": [
             [
              0,
              "#0d0887"
             ],
             [
              0.1111111111111111,
              "#46039f"
             ],
             [
              0.2222222222222222,
              "#7201a8"
             ],
             [
              0.3333333333333333,
              "#9c179e"
             ],
             [
              0.4444444444444444,
              "#bd3786"
             ],
             [
              0.5555555555555556,
              "#d8576b"
             ],
             [
              0.6666666666666666,
              "#ed7953"
             ],
             [
              0.7777777777777778,
              "#fb9f3a"
             ],
             [
              0.8888888888888888,
              "#fdca26"
             ],
             [
              1,
              "#f0f921"
             ]
            ],
            "type": "histogram2dcontour"
           }
          ],
          "mesh3d": [
           {
            "colorbar": {
             "outlinewidth": 0,
             "ticks": ""
            },
            "type": "mesh3d"
           }
          ],
          "parcoords": [
           {
            "line": {
             "colorbar": {
              "outlinewidth": 0,
              "ticks": ""
             }
            },
            "type": "parcoords"
           }
          ],
          "pie": [
           {
            "automargin": true,
            "type": "pie"
           }
          ],
          "scatter": [
           {
            "fillpattern": {
             "fillmode": "overlay",
             "size": 10,
             "solidity": 0.2
            },
            "type": "scatter"
           }
          ],
          "scatter3d": [
           {
            "line": {
             "colorbar": {
              "outlinewidth": 0,
              "ticks": ""
             }
            },
            "marker": {
             "colorbar": {
              "outlinewidth": 0,
              "ticks": ""
             }
            },
            "type": "scatter3d"
           }
          ],
          "scattercarpet": [
           {
            "marker": {
             "colorbar": {
              "outlinewidth": 0,
              "ticks": ""
             }
            },
            "type": "scattercarpet"
           }
          ],
          "scattergeo": [
           {
            "marker": {
             "colorbar": {
              "outlinewidth": 0,
              "ticks": ""
             }
            },
            "type": "scattergeo"
           }
          ],
          "scattergl": [
           {
            "marker": {
             "colorbar": {
              "outlinewidth": 0,
              "ticks": ""
             }
            },
            "type": "scattergl"
           }
          ],
          "scattermapbox": [
           {
            "marker": {
             "colorbar": {
              "outlinewidth": 0,
              "ticks": ""
             }
            },
            "type": "scattermapbox"
           }
          ],
          "scatterpolar": [
           {
            "marker": {
             "colorbar": {
              "outlinewidth": 0,
              "ticks": ""
             }
            },
            "type": "scatterpolar"
           }
          ],
          "scatterpolargl": [
           {
            "marker": {
             "colorbar": {
              "outlinewidth": 0,
              "ticks": ""
             }
            },
            "type": "scatterpolargl"
           }
          ],
          "scatterternary": [
           {
            "marker": {
             "colorbar": {
              "outlinewidth": 0,
              "ticks": ""
             }
            },
            "type": "scatterternary"
           }
          ],
          "surface": [
           {
            "colorbar": {
             "outlinewidth": 0,
             "ticks": ""
            },
            "colorscale": [
             [
              0,
              "#0d0887"
             ],
             [
              0.1111111111111111,
              "#46039f"
             ],
             [
              0.2222222222222222,
              "#7201a8"
             ],
             [
              0.3333333333333333,
              "#9c179e"
             ],
             [
              0.4444444444444444,
              "#bd3786"
             ],
             [
              0.5555555555555556,
              "#d8576b"
             ],
             [
              0.6666666666666666,
              "#ed7953"
             ],
             [
              0.7777777777777778,
              "#fb9f3a"
             ],
             [
              0.8888888888888888,
              "#fdca26"
             ],
             [
              1,
              "#f0f921"
             ]
            ],
            "type": "surface"
           }
          ],
          "table": [
           {
            "cells": {
             "fill": {
              "color": "#EBF0F8"
             },
             "line": {
              "color": "white"
             }
            },
            "header": {
             "fill": {
              "color": "#C8D4E3"
             },
             "line": {
              "color": "white"
             }
            },
            "type": "table"
           }
          ]
         },
         "layout": {
          "annotationdefaults": {
           "arrowcolor": "#2a3f5f",
           "arrowhead": 0,
           "arrowwidth": 1
          },
          "autotypenumbers": "strict",
          "coloraxis": {
           "colorbar": {
            "outlinewidth": 0,
            "ticks": ""
           }
          },
          "colorscale": {
           "diverging": [
            [
             0,
             "#8e0152"
            ],
            [
             0.1,
             "#c51b7d"
            ],
            [
             0.2,
             "#de77ae"
            ],
            [
             0.3,
             "#f1b6da"
            ],
            [
             0.4,
             "#fde0ef"
            ],
            [
             0.5,
             "#f7f7f7"
            ],
            [
             0.6,
             "#e6f5d0"
            ],
            [
             0.7,
             "#b8e186"
            ],
            [
             0.8,
             "#7fbc41"
            ],
            [
             0.9,
             "#4d9221"
            ],
            [
             1,
             "#276419"
            ]
           ],
           "sequential": [
            [
             0,
             "#0d0887"
            ],
            [
             0.1111111111111111,
             "#46039f"
            ],
            [
             0.2222222222222222,
             "#7201a8"
            ],
            [
             0.3333333333333333,
             "#9c179e"
            ],
            [
             0.4444444444444444,
             "#bd3786"
            ],
            [
             0.5555555555555556,
             "#d8576b"
            ],
            [
             0.6666666666666666,
             "#ed7953"
            ],
            [
             0.7777777777777778,
             "#fb9f3a"
            ],
            [
             0.8888888888888888,
             "#fdca26"
            ],
            [
             1,
             "#f0f921"
            ]
           ],
           "sequentialminus": [
            [
             0,
             "#0d0887"
            ],
            [
             0.1111111111111111,
             "#46039f"
            ],
            [
             0.2222222222222222,
             "#7201a8"
            ],
            [
             0.3333333333333333,
             "#9c179e"
            ],
            [
             0.4444444444444444,
             "#bd3786"
            ],
            [
             0.5555555555555556,
             "#d8576b"
            ],
            [
             0.6666666666666666,
             "#ed7953"
            ],
            [
             0.7777777777777778,
             "#fb9f3a"
            ],
            [
             0.8888888888888888,
             "#fdca26"
            ],
            [
             1,
             "#f0f921"
            ]
           ]
          },
          "colorway": [
           "#636efa",
           "#EF553B",
           "#00cc96",
           "#ab63fa",
           "#FFA15A",
           "#19d3f3",
           "#FF6692",
           "#B6E880",
           "#FF97FF",
           "#FECB52"
          ],
          "font": {
           "color": "#2a3f5f"
          },
          "geo": {
           "bgcolor": "white",
           "lakecolor": "white",
           "landcolor": "#E5ECF6",
           "showlakes": true,
           "showland": true,
           "subunitcolor": "white"
          },
          "hoverlabel": {
           "align": "left"
          },
          "hovermode": "closest",
          "mapbox": {
           "style": "light"
          },
          "paper_bgcolor": "white",
          "plot_bgcolor": "#E5ECF6",
          "polar": {
           "angularaxis": {
            "gridcolor": "white",
            "linecolor": "white",
            "ticks": ""
           },
           "bgcolor": "#E5ECF6",
           "radialaxis": {
            "gridcolor": "white",
            "linecolor": "white",
            "ticks": ""
           }
          },
          "scene": {
           "xaxis": {
            "backgroundcolor": "#E5ECF6",
            "gridcolor": "white",
            "gridwidth": 2,
            "linecolor": "white",
            "showbackground": true,
            "ticks": "",
            "zerolinecolor": "white"
           },
           "yaxis": {
            "backgroundcolor": "#E5ECF6",
            "gridcolor": "white",
            "gridwidth": 2,
            "linecolor": "white",
            "showbackground": true,
            "ticks": "",
            "zerolinecolor": "white"
           },
           "zaxis": {
            "backgroundcolor": "#E5ECF6",
            "gridcolor": "white",
            "gridwidth": 2,
            "linecolor": "white",
            "showbackground": true,
            "ticks": "",
            "zerolinecolor": "white"
           }
          },
          "shapedefaults": {
           "line": {
            "color": "#2a3f5f"
           }
          },
          "ternary": {
           "aaxis": {
            "gridcolor": "white",
            "linecolor": "white",
            "ticks": ""
           },
           "baxis": {
            "gridcolor": "white",
            "linecolor": "white",
            "ticks": ""
           },
           "bgcolor": "#E5ECF6",
           "caxis": {
            "gridcolor": "white",
            "linecolor": "white",
            "ticks": ""
           }
          },
          "title": {
           "x": 0.05
          },
          "xaxis": {
           "automargin": true,
           "gridcolor": "white",
           "linecolor": "white",
           "ticks": "",
           "title": {
            "standoff": 15
           },
           "zerolinecolor": "white",
           "zerolinewidth": 2
          },
          "yaxis": {
           "automargin": true,
           "gridcolor": "white",
           "linecolor": "white",
           "ticks": "",
           "title": {
            "standoff": 15
           },
           "zerolinecolor": "white",
           "zerolinewidth": 2
          }
         }
        },
        "title": {
         "text": "Number of Sightings by City and Weather"
        },
        "updatemenus": [
         {
          "buttons": [
           {
            "args": [
             {
              "visible": [
               true,
               true,
               true,
               true,
               true,
               true,
               true,
               true,
               true,
               false,
               false,
               false,
               false,
               false,
               false,
               false,
               false,
               false,
               false,
               false,
               false,
               false,
               false,
               false,
               false,
               false,
               false,
               false,
               false,
               false,
               false,
               false,
               false,
               false,
               false,
               false,
               false,
               false,
               false,
               false,
               false,
               false,
               false,
               false,
               false
              ]
             }
            ],
            "label": "WT01",
            "method": "update"
           },
           {
            "args": [
             {
              "visible": [
               false,
               false,
               false,
               false,
               false,
               false,
               false,
               false,
               false,
               true,
               true,
               true,
               true,
               true,
               true,
               true,
               true,
               true,
               false,
               false,
               false,
               false,
               false,
               false,
               false,
               false,
               false,
               false,
               false,
               false,
               false,
               false,
               false,
               false,
               false,
               false,
               false,
               false,
               false,
               false,
               false,
               false,
               false,
               false,
               false
              ]
             }
            ],
            "label": "WT07",
            "method": "update"
           },
           {
            "args": [
             {
              "visible": [
               false,
               false,
               false,
               false,
               false,
               false,
               false,
               false,
               false,
               false,
               false,
               false,
               false,
               false,
               false,
               false,
               false,
               false,
               true,
               true,
               true,
               true,
               true,
               true,
               true,
               true,
               true,
               false,
               false,
               false,
               false,
               false,
               false,
               false,
               false,
               false,
               false,
               false,
               false,
               false,
               false,
               false,
               false,
               false,
               false
              ]
             }
            ],
            "label": "WT08",
            "method": "update"
           },
           {
            "args": [
             {
              "visible": [
               false,
               false,
               false,
               false,
               false,
               false,
               false,
               false,
               false,
               false,
               false,
               false,
               false,
               false,
               false,
               false,
               false,
               false,
               false,
               false,
               false,
               false,
               false,
               false,
               false,
               false,
               false,
               true,
               true,
               true,
               true,
               true,
               true,
               true,
               true,
               true,
               false,
               false,
               false,
               false,
               false,
               false,
               false,
               false,
               false
              ]
             }
            ],
            "label": "WT11",
            "method": "update"
           },
           {
            "args": [
             {
              "visible": [
               false,
               false,
               false,
               false,
               false,
               false,
               false,
               false,
               false,
               false,
               false,
               false,
               false,
               false,
               false,
               false,
               false,
               false,
               false,
               false,
               false,
               false,
               false,
               false,
               false,
               false,
               false,
               false,
               false,
               false,
               false,
               false,
               false,
               false,
               false,
               false,
               true,
               true,
               true,
               true,
               true,
               true,
               true,
               true,
               true
              ]
             }
            ],
            "label": "WT21",
            "method": "update"
           }
          ],
          "showactive": false,
          "type": "buttons"
         }
        ],
        "xaxis": {
         "anchor": "y",
         "domain": [
          0,
          1
         ],
         "title": {
          "text": "City"
         }
        },
        "yaxis": {
         "anchor": "x",
         "domain": [
          0,
          1
         ],
         "title": {
          "text": "Number of Sightings"
         }
        }
       }
      }
     },
     "metadata": {},
     "output_type": "display_data"
    }
   ],
   "source": [
    "# column chart with number of sighting on y-axis, city on x-axis and weather (wt: 1,7,8,11,21) on color using plotly with dropdown for weather var\n",
    "\n",
    "# create number of sightings by address and date where WT01 = 1 or WT07 = 1 or WT08 = 1 or WT11 =1 or  WT21 = 1 for each city\n",
    "\n",
    "import plotly.express as px\n",
    "import pandas as pd\n",
    "\n",
    "# Group data by city and calculate the count of sightings for each weather variable\n",
    "df_grouped = df_weather_ufo.groupby(['Address']).sum(numeric_only=True).reset_index()\n",
    "\n",
    "# Convert the wide format to long format for Plotly\n",
    "df_melt = pd.melt(df_grouped, id_vars=['Address'], value_vars=[\"WT01\", \"WT07\", \"WT08\", \"WT11\", \"WT21\"],\n",
    "                  var_name=\"Weather\", value_name=\"Number_of_Sightings\")\n",
    "\n",
    "# Create a column chart with dropdown for weather variables\n",
    "fig = px.bar(df_melt, x=\"Address\", y=\"Number_of_Sightings\", color=\"Weather\", color_discrete_sequence=px.colors.qualitative.Pastel,\n",
    "             category_orders={\"Weather\": [\"WT01\", \"WT07\", \"WT08\", \"WT11\", \"WT21\"]})\n",
    "\n",
    "# Update plot labels and title\n",
    "fig.update_xaxes(title=\"City\")\n",
    "fig.update_yaxes(title=\"Number of Sightings\")\n",
    "fig.update_layout(title=\"Number of Sightings by City and Weather\",\n",
    "                  updatemenus=[dict(type='buttons', showactive=False, buttons=[dict(label=col, method='update', args=[{'visible': [col == weather for weather in df_melt['Weather']]}]) for col in df_melt['Weather'].unique()])])\n",
    "\n",
    "# Show the plot\n",
    "fig.show()\n",
    "\n"
   ]
  },
  {
   "cell_type": "code",
   "execution_count": 339,
   "metadata": {},
   "outputs": [
    {
     "data": {
      "application/vnd.plotly.v1+json": {
       "config": {
        "plotlyServerURL": "https://plotly.com"
       },
       "data": [
        {
         "alignmentgroup": "True",
         "hovertemplate": "Weather=Heavy fog or heaving freezing fog<br>Address=%{x}<br>Number_of_Sightings=%{y}<extra></extra>",
         "legendgroup": "Heavy fog or heaving freezing fog",
         "marker": {
          "color": "rgb(102, 197, 204)",
          "pattern": {
           "shape": ""
          }
         },
         "name": "Heavy fog or heaving freezing fog",
         "offsetgroup": "Heavy fog or heaving freezing fog",
         "orientation": "v",
         "showlegend": true,
         "textposition": "auto",
         "type": "bar",
         "x": [
          "Albuquerque, NM",
          "Chicago, IL",
          "Las Vegas, NV",
          "Los Angeles, CA",
          "Orlando, FL",
          "Phoenix, AZ",
          "Portland, OR",
          "San Diego, CA",
          "Seattle, WA",
          "Tucson, AZ"
         ],
         "xaxis": "x",
         "y": [
          169,
          553,
          35,
          562,
          281,
          13,
          619,
          393,
          481,
          44
         ],
         "yaxis": "y"
        },
        {
         "alignmentgroup": "True",
         "hovertemplate": "Weather=Dust, volcanic ash, blowing dust, blowing sand, or blowing obstruction<br>Address=%{x}<br>Number_of_Sightings=%{y}<extra></extra>",
         "legendgroup": "Dust, volcanic ash, blowing dust, blowing sand, or blowing obstruction",
         "marker": {
          "color": "rgb(246, 207, 113)",
          "pattern": {
           "shape": ""
          }
         },
         "name": "Dust, volcanic ash, blowing dust, blowing sand, or blowing obstruction",
         "offsetgroup": "Dust, volcanic ash, blowing dust, blowing sand, or blowing obstruction",
         "orientation": "v",
         "showlegend": true,
         "textposition": "auto",
         "type": "bar",
         "x": [
          "Albuquerque, NM",
          "Chicago, IL",
          "Las Vegas, NV",
          "Los Angeles, CA",
          "Orlando, FL",
          "Phoenix, AZ",
          "Portland, OR",
          "San Diego, CA",
          "Seattle, WA",
          "Tucson, AZ"
         ],
         "xaxis": "x",
         "y": [
          128,
          90,
          147,
          439,
          0,
          96,
          3,
          388,
          37,
          6
         ],
         "yaxis": "y"
        },
        {
         "alignmentgroup": "True",
         "hovertemplate": "Weather=Smoke or haze<br>Address=%{x}<br>Number_of_Sightings=%{y}<extra></extra>",
         "legendgroup": "Smoke or haze",
         "marker": {
          "color": "rgb(248, 156, 116)",
          "pattern": {
           "shape": ""
          }
         },
         "name": "Smoke or haze",
         "offsetgroup": "Smoke or haze",
         "orientation": "v",
         "showlegend": true,
         "textposition": "auto",
         "type": "bar",
         "x": [
          "Albuquerque, NM",
          "Chicago, IL",
          "Las Vegas, NV",
          "Los Angeles, CA",
          "Orlando, FL",
          "Phoenix, AZ",
          "Portland, OR",
          "San Diego, CA",
          "Seattle, WA",
          "Tucson, AZ"
         ],
         "xaxis": "x",
         "y": [
          365,
          4408,
          536,
          2673,
          671,
          178,
          482,
          2096,
          454,
          231
         ],
         "yaxis": "y"
        },
        {
         "alignmentgroup": "True",
         "hovertemplate": "Weather=High or damaging winds<br>Address=%{x}<br>Number_of_Sightings=%{y}<extra></extra>",
         "legendgroup": "High or damaging winds",
         "marker": {
          "color": "rgb(220, 176, 242)",
          "pattern": {
           "shape": ""
          }
         },
         "name": "High or damaging winds",
         "offsetgroup": "High or damaging winds",
         "orientation": "v",
         "showlegend": true,
         "textposition": "auto",
         "type": "bar",
         "x": [
          "Albuquerque, NM",
          "Chicago, IL",
          "Las Vegas, NV",
          "Los Angeles, CA",
          "Orlando, FL",
          "Phoenix, AZ",
          "Portland, OR",
          "San Diego, CA",
          "Seattle, WA",
          "Tucson, AZ"
         ],
         "xaxis": "x",
         "y": [
          44,
          324,
          120,
          0,
          43,
          19,
          0,
          0,
          0,
          21
         ],
         "yaxis": "y"
        },
        {
         "alignmentgroup": "True",
         "hovertemplate": "Weather=Rain, drizzle, and freezing drizzle<br>Address=%{x}<br>Number_of_Sightings=%{y}<extra></extra>",
         "legendgroup": "Rain, drizzle, and freezing drizzle",
         "marker": {
          "color": "rgb(135, 197, 95)",
          "pattern": {
           "shape": ""
          }
         },
         "name": "Rain, drizzle, and freezing drizzle",
         "offsetgroup": "Rain, drizzle, and freezing drizzle",
         "orientation": "v",
         "showlegend": true,
         "textposition": "auto",
         "type": "bar",
         "x": [
          "Albuquerque, NM",
          "Chicago, IL",
          "Las Vegas, NV",
          "Los Angeles, CA",
          "Orlando, FL",
          "Phoenix, AZ",
          "Portland, OR",
          "San Diego, CA",
          "Seattle, WA",
          "Tucson, AZ"
         ],
         "xaxis": "x",
         "y": [
          1034,
          3212,
          2014,
          651,
          1555,
          269,
          2243,
          824,
          2133,
          753
         ],
         "yaxis": "y"
        }
       ],
       "layout": {
        "barmode": "group",
        "legend": {
         "title": {
          "text": "Weather"
         },
         "tracegroupgap": 0
        },
        "margin": {
         "t": 60
        },
        "template": {
         "data": {
          "bar": [
           {
            "error_x": {
             "color": "#2a3f5f"
            },
            "error_y": {
             "color": "#2a3f5f"
            },
            "marker": {
             "line": {
              "color": "#E5ECF6",
              "width": 0.5
             },
             "pattern": {
              "fillmode": "overlay",
              "size": 10,
              "solidity": 0.2
             }
            },
            "type": "bar"
           }
          ],
          "barpolar": [
           {
            "marker": {
             "line": {
              "color": "#E5ECF6",
              "width": 0.5
             },
             "pattern": {
              "fillmode": "overlay",
              "size": 10,
              "solidity": 0.2
             }
            },
            "type": "barpolar"
           }
          ],
          "carpet": [
           {
            "aaxis": {
             "endlinecolor": "#2a3f5f",
             "gridcolor": "white",
             "linecolor": "white",
             "minorgridcolor": "white",
             "startlinecolor": "#2a3f5f"
            },
            "baxis": {
             "endlinecolor": "#2a3f5f",
             "gridcolor": "white",
             "linecolor": "white",
             "minorgridcolor": "white",
             "startlinecolor": "#2a3f5f"
            },
            "type": "carpet"
           }
          ],
          "choropleth": [
           {
            "colorbar": {
             "outlinewidth": 0,
             "ticks": ""
            },
            "type": "choropleth"
           }
          ],
          "contour": [
           {
            "colorbar": {
             "outlinewidth": 0,
             "ticks": ""
            },
            "colorscale": [
             [
              0,
              "#0d0887"
             ],
             [
              0.1111111111111111,
              "#46039f"
             ],
             [
              0.2222222222222222,
              "#7201a8"
             ],
             [
              0.3333333333333333,
              "#9c179e"
             ],
             [
              0.4444444444444444,
              "#bd3786"
             ],
             [
              0.5555555555555556,
              "#d8576b"
             ],
             [
              0.6666666666666666,
              "#ed7953"
             ],
             [
              0.7777777777777778,
              "#fb9f3a"
             ],
             [
              0.8888888888888888,
              "#fdca26"
             ],
             [
              1,
              "#f0f921"
             ]
            ],
            "type": "contour"
           }
          ],
          "contourcarpet": [
           {
            "colorbar": {
             "outlinewidth": 0,
             "ticks": ""
            },
            "type": "contourcarpet"
           }
          ],
          "heatmap": [
           {
            "colorbar": {
             "outlinewidth": 0,
             "ticks": ""
            },
            "colorscale": [
             [
              0,
              "#0d0887"
             ],
             [
              0.1111111111111111,
              "#46039f"
             ],
             [
              0.2222222222222222,
              "#7201a8"
             ],
             [
              0.3333333333333333,
              "#9c179e"
             ],
             [
              0.4444444444444444,
              "#bd3786"
             ],
             [
              0.5555555555555556,
              "#d8576b"
             ],
             [
              0.6666666666666666,
              "#ed7953"
             ],
             [
              0.7777777777777778,
              "#fb9f3a"
             ],
             [
              0.8888888888888888,
              "#fdca26"
             ],
             [
              1,
              "#f0f921"
             ]
            ],
            "type": "heatmap"
           }
          ],
          "heatmapgl": [
           {
            "colorbar": {
             "outlinewidth": 0,
             "ticks": ""
            },
            "colorscale": [
             [
              0,
              "#0d0887"
             ],
             [
              0.1111111111111111,
              "#46039f"
             ],
             [
              0.2222222222222222,
              "#7201a8"
             ],
             [
              0.3333333333333333,
              "#9c179e"
             ],
             [
              0.4444444444444444,
              "#bd3786"
             ],
             [
              0.5555555555555556,
              "#d8576b"
             ],
             [
              0.6666666666666666,
              "#ed7953"
             ],
             [
              0.7777777777777778,
              "#fb9f3a"
             ],
             [
              0.8888888888888888,
              "#fdca26"
             ],
             [
              1,
              "#f0f921"
             ]
            ],
            "type": "heatmapgl"
           }
          ],
          "histogram": [
           {
            "marker": {
             "pattern": {
              "fillmode": "overlay",
              "size": 10,
              "solidity": 0.2
             }
            },
            "type": "histogram"
           }
          ],
          "histogram2d": [
           {
            "colorbar": {
             "outlinewidth": 0,
             "ticks": ""
            },
            "colorscale": [
             [
              0,
              "#0d0887"
             ],
             [
              0.1111111111111111,
              "#46039f"
             ],
             [
              0.2222222222222222,
              "#7201a8"
             ],
             [
              0.3333333333333333,
              "#9c179e"
             ],
             [
              0.4444444444444444,
              "#bd3786"
             ],
             [
              0.5555555555555556,
              "#d8576b"
             ],
             [
              0.6666666666666666,
              "#ed7953"
             ],
             [
              0.7777777777777778,
              "#fb9f3a"
             ],
             [
              0.8888888888888888,
              "#fdca26"
             ],
             [
              1,
              "#f0f921"
             ]
            ],
            "type": "histogram2d"
           }
          ],
          "histogram2dcontour": [
           {
            "colorbar": {
             "outlinewidth": 0,
             "ticks": ""
            },
            "colorscale": [
             [
              0,
              "#0d0887"
             ],
             [
              0.1111111111111111,
              "#46039f"
             ],
             [
              0.2222222222222222,
              "#7201a8"
             ],
             [
              0.3333333333333333,
              "#9c179e"
             ],
             [
              0.4444444444444444,
              "#bd3786"
             ],
             [
              0.5555555555555556,
              "#d8576b"
             ],
             [
              0.6666666666666666,
              "#ed7953"
             ],
             [
              0.7777777777777778,
              "#fb9f3a"
             ],
             [
              0.8888888888888888,
              "#fdca26"
             ],
             [
              1,
              "#f0f921"
             ]
            ],
            "type": "histogram2dcontour"
           }
          ],
          "mesh3d": [
           {
            "colorbar": {
             "outlinewidth": 0,
             "ticks": ""
            },
            "type": "mesh3d"
           }
          ],
          "parcoords": [
           {
            "line": {
             "colorbar": {
              "outlinewidth": 0,
              "ticks": ""
             }
            },
            "type": "parcoords"
           }
          ],
          "pie": [
           {
            "automargin": true,
            "type": "pie"
           }
          ],
          "scatter": [
           {
            "fillpattern": {
             "fillmode": "overlay",
             "size": 10,
             "solidity": 0.2
            },
            "type": "scatter"
           }
          ],
          "scatter3d": [
           {
            "line": {
             "colorbar": {
              "outlinewidth": 0,
              "ticks": ""
             }
            },
            "marker": {
             "colorbar": {
              "outlinewidth": 0,
              "ticks": ""
             }
            },
            "type": "scatter3d"
           }
          ],
          "scattercarpet": [
           {
            "marker": {
             "colorbar": {
              "outlinewidth": 0,
              "ticks": ""
             }
            },
            "type": "scattercarpet"
           }
          ],
          "scattergeo": [
           {
            "marker": {
             "colorbar": {
              "outlinewidth": 0,
              "ticks": ""
             }
            },
            "type": "scattergeo"
           }
          ],
          "scattergl": [
           {
            "marker": {
             "colorbar": {
              "outlinewidth": 0,
              "ticks": ""
             }
            },
            "type": "scattergl"
           }
          ],
          "scattermapbox": [
           {
            "marker": {
             "colorbar": {
              "outlinewidth": 0,
              "ticks": ""
             }
            },
            "type": "scattermapbox"
           }
          ],
          "scatterpolar": [
           {
            "marker": {
             "colorbar": {
              "outlinewidth": 0,
              "ticks": ""
             }
            },
            "type": "scatterpolar"
           }
          ],
          "scatterpolargl": [
           {
            "marker": {
             "colorbar": {
              "outlinewidth": 0,
              "ticks": ""
             }
            },
            "type": "scatterpolargl"
           }
          ],
          "scatterternary": [
           {
            "marker": {
             "colorbar": {
              "outlinewidth": 0,
              "ticks": ""
             }
            },
            "type": "scatterternary"
           }
          ],
          "surface": [
           {
            "colorbar": {
             "outlinewidth": 0,
             "ticks": ""
            },
            "colorscale": [
             [
              0,
              "#0d0887"
             ],
             [
              0.1111111111111111,
              "#46039f"
             ],
             [
              0.2222222222222222,
              "#7201a8"
             ],
             [
              0.3333333333333333,
              "#9c179e"
             ],
             [
              0.4444444444444444,
              "#bd3786"
             ],
             [
              0.5555555555555556,
              "#d8576b"
             ],
             [
              0.6666666666666666,
              "#ed7953"
             ],
             [
              0.7777777777777778,
              "#fb9f3a"
             ],
             [
              0.8888888888888888,
              "#fdca26"
             ],
             [
              1,
              "#f0f921"
             ]
            ],
            "type": "surface"
           }
          ],
          "table": [
           {
            "cells": {
             "fill": {
              "color": "#EBF0F8"
             },
             "line": {
              "color": "white"
             }
            },
            "header": {
             "fill": {
              "color": "#C8D4E3"
             },
             "line": {
              "color": "white"
             }
            },
            "type": "table"
           }
          ]
         },
         "layout": {
          "annotationdefaults": {
           "arrowcolor": "#2a3f5f",
           "arrowhead": 0,
           "arrowwidth": 1
          },
          "autotypenumbers": "strict",
          "coloraxis": {
           "colorbar": {
            "outlinewidth": 0,
            "ticks": ""
           }
          },
          "colorscale": {
           "diverging": [
            [
             0,
             "#8e0152"
            ],
            [
             0.1,
             "#c51b7d"
            ],
            [
             0.2,
             "#de77ae"
            ],
            [
             0.3,
             "#f1b6da"
            ],
            [
             0.4,
             "#fde0ef"
            ],
            [
             0.5,
             "#f7f7f7"
            ],
            [
             0.6,
             "#e6f5d0"
            ],
            [
             0.7,
             "#b8e186"
            ],
            [
             0.8,
             "#7fbc41"
            ],
            [
             0.9,
             "#4d9221"
            ],
            [
             1,
             "#276419"
            ]
           ],
           "sequential": [
            [
             0,
             "#0d0887"
            ],
            [
             0.1111111111111111,
             "#46039f"
            ],
            [
             0.2222222222222222,
             "#7201a8"
            ],
            [
             0.3333333333333333,
             "#9c179e"
            ],
            [
             0.4444444444444444,
             "#bd3786"
            ],
            [
             0.5555555555555556,
             "#d8576b"
            ],
            [
             0.6666666666666666,
             "#ed7953"
            ],
            [
             0.7777777777777778,
             "#fb9f3a"
            ],
            [
             0.8888888888888888,
             "#fdca26"
            ],
            [
             1,
             "#f0f921"
            ]
           ],
           "sequentialminus": [
            [
             0,
             "#0d0887"
            ],
            [
             0.1111111111111111,
             "#46039f"
            ],
            [
             0.2222222222222222,
             "#7201a8"
            ],
            [
             0.3333333333333333,
             "#9c179e"
            ],
            [
             0.4444444444444444,
             "#bd3786"
            ],
            [
             0.5555555555555556,
             "#d8576b"
            ],
            [
             0.6666666666666666,
             "#ed7953"
            ],
            [
             0.7777777777777778,
             "#fb9f3a"
            ],
            [
             0.8888888888888888,
             "#fdca26"
            ],
            [
             1,
             "#f0f921"
            ]
           ]
          },
          "colorway": [
           "#636efa",
           "#EF553B",
           "#00cc96",
           "#ab63fa",
           "#FFA15A",
           "#19d3f3",
           "#FF6692",
           "#B6E880",
           "#FF97FF",
           "#FECB52"
          ],
          "font": {
           "color": "#2a3f5f"
          },
          "geo": {
           "bgcolor": "white",
           "lakecolor": "white",
           "landcolor": "#E5ECF6",
           "showlakes": true,
           "showland": true,
           "subunitcolor": "white"
          },
          "hoverlabel": {
           "align": "left"
          },
          "hovermode": "closest",
          "mapbox": {
           "style": "light"
          },
          "paper_bgcolor": "white",
          "plot_bgcolor": "#E5ECF6",
          "polar": {
           "angularaxis": {
            "gridcolor": "white",
            "linecolor": "white",
            "ticks": ""
           },
           "bgcolor": "#E5ECF6",
           "radialaxis": {
            "gridcolor": "white",
            "linecolor": "white",
            "ticks": ""
           }
          },
          "scene": {
           "xaxis": {
            "backgroundcolor": "#E5ECF6",
            "gridcolor": "white",
            "gridwidth": 2,
            "linecolor": "white",
            "showbackground": true,
            "ticks": "",
            "zerolinecolor": "white"
           },
           "yaxis": {
            "backgroundcolor": "#E5ECF6",
            "gridcolor": "white",
            "gridwidth": 2,
            "linecolor": "white",
            "showbackground": true,
            "ticks": "",
            "zerolinecolor": "white"
           },
           "zaxis": {
            "backgroundcolor": "#E5ECF6",
            "gridcolor": "white",
            "gridwidth": 2,
            "linecolor": "white",
            "showbackground": true,
            "ticks": "",
            "zerolinecolor": "white"
           }
          },
          "shapedefaults": {
           "line": {
            "color": "#2a3f5f"
           }
          },
          "ternary": {
           "aaxis": {
            "gridcolor": "white",
            "linecolor": "white",
            "ticks": ""
           },
           "baxis": {
            "gridcolor": "white",
            "linecolor": "white",
            "ticks": ""
           },
           "bgcolor": "#E5ECF6",
           "caxis": {
            "gridcolor": "white",
            "linecolor": "white",
            "ticks": ""
           }
          },
          "title": {
           "x": 0.05
          },
          "xaxis": {
           "automargin": true,
           "gridcolor": "white",
           "linecolor": "white",
           "ticks": "",
           "title": {
            "standoff": 15
           },
           "zerolinecolor": "white",
           "zerolinewidth": 2
          },
          "yaxis": {
           "automargin": true,
           "gridcolor": "white",
           "linecolor": "white",
           "ticks": "",
           "title": {
            "standoff": 15
           },
           "zerolinecolor": "white",
           "zerolinewidth": 2
          }
         }
        },
        "title": {
         "text": "Number of Sightings during Inclemental Weather by City"
        },
        "xaxis": {
         "anchor": "y",
         "domain": [
          0,
          1
         ],
         "title": {
          "text": "City"
         }
        },
        "yaxis": {
         "anchor": "x",
         "domain": [
          0,
          1
         ],
         "title": {
          "text": "Number of Sightings"
         }
        }
       }
      }
     },
     "metadata": {},
     "output_type": "display_data"
    }
   ],
   "source": [
    "# Group data by city and calculate the count of sightings for each weather variable\n",
    "df_grouped = df_weather_ufo.groupby(['Address']).sum(numeric_only=True).reset_index()\n",
    "\n",
    "# Convert the wide format to long format for Plotly\n",
    "df_melt = pd.melt(df_grouped, id_vars=['Address'], value_vars=[\"WT02\", \"WT07\", \"WT08\", \"WT11\", \"WT16\"],\n",
    "                  var_name=\"Weather\", value_name=\"Number_of_Sightings\")\n",
    "\n",
    "# Create a dictionary to map weather variable names to the corresponding weather description\n",
    "weather_desc_map = {'WT02': 'Heavy fog or heaving freezing fog', \n",
    "                    'WT07': 'Dust, volcanic ash, blowing dust, blowing sand, or blowing obstruction', \n",
    "                    'WT08': 'Smoke or haze', \n",
    "                    'WT11': 'High or damaging winds', \n",
    "                    'WT16': 'Rain, drizzle, and freezing drizzle'}\n",
    "\n",
    "# Update the legend labels with the corresponding weather descriptions\n",
    "df_melt['Weather'] = df_melt['Weather'].map(weather_desc_map)\n",
    "\n",
    "# Create a column chart with color set to Weather and barmode set to 'group'\n",
    "fig = px.bar(df_melt, x=\"Address\", y=\"Number_of_Sightings\", color=\"Weather\", color_discrete_sequence=px.colors.qualitative.Pastel,\n",
    "             category_orders={\"Weather\": [\"Heavy fog or heaving freezing fog\", \n",
    "                                          \"Dust, volcanic ash, blowing dust, blowing sand, or blowing obstruction\", \n",
    "                                          \"Smoke or haze\", \n",
    "                                          \"High or damaging winds\", \n",
    "                                          \"Rain, drizzle, and freezing drizzle\"]},\n",
    "             barmode='group')\n",
    "\n",
    "# Update plot labels and title\n",
    "fig.update_xaxes(title=\"City\")\n",
    "fig.update_yaxes(title=\"Number of Sightings\")\n",
    "fig.update_layout(title=\"Number of Sightings during Inclemental Weather for Cities with Highest Sightings Count\", updatemenus=[])\n",
    "\n",
    "# Show the plot\n",
    "fig.show()\n"
   ]
  },
  {
   "cell_type": "code",
   "execution_count": 348,
   "metadata": {},
   "outputs": [
    {
     "data": {
      "application/vnd.plotly.v1+json": {
       "config": {
        "plotlyServerURL": "https://plotly.com"
       },
       "data": [
        {
         "alignmentgroup": "True",
         "hovertemplate": "Weather=Heavy fog or heaving freezing fog<br>Address=%{x}<br>Number_of_Sightings=%{y}<extra></extra>",
         "legendgroup": "Heavy fog or heaving freezing fog",
         "marker": {
          "color": "#3E93AB",
          "pattern": {
           "shape": ""
          }
         },
         "name": "Heavy fog or heaving freezing fog",
         "offsetgroup": "Heavy fog or heaving freezing fog",
         "orientation": "v",
         "showlegend": true,
         "textposition": "auto",
         "type": "bar",
         "x": [
          "Albuquerque, NM",
          "Chicago, IL",
          "Las Vegas, NV",
          "Los Angeles, CA",
          "Orlando, FL",
          "Phoenix, AZ",
          "Portland, OR",
          "San Diego, CA",
          "Seattle, WA",
          "Tucson, AZ"
         ],
         "xaxis": "x",
         "y": [
          169,
          553,
          35,
          562,
          281,
          13,
          619,
          393,
          481,
          44
         ],
         "yaxis": "y"
        },
        {
         "alignmentgroup": "True",
         "hovertemplate": "Weather=Dust, volcanic ash, blowing dust/sand, or blowing obstruction<br>Address=%{x}<br>Number_of_Sightings=%{y}<extra></extra>",
         "legendgroup": "Dust, volcanic ash, blowing dust/sand, or blowing obstruction",
         "marker": {
          "color": "#A8DFF7",
          "pattern": {
           "shape": ""
          }
         },
         "name": "Dust, volcanic ash, blowing dust/sand, or blowing obstruction",
         "offsetgroup": "Dust, volcanic ash, blowing dust/sand, or blowing obstruction",
         "orientation": "v",
         "showlegend": true,
         "textposition": "auto",
         "type": "bar",
         "x": [
          "Albuquerque, NM",
          "Chicago, IL",
          "Las Vegas, NV",
          "Los Angeles, CA",
          "Orlando, FL",
          "Phoenix, AZ",
          "Portland, OR",
          "San Diego, CA",
          "Seattle, WA",
          "Tucson, AZ"
         ],
         "xaxis": "x",
         "y": [
          128,
          90,
          147,
          439,
          0,
          96,
          3,
          388,
          37,
          6
         ],
         "yaxis": "y"
        },
        {
         "alignmentgroup": "True",
         "hovertemplate": "Weather=Smoke or haze<br>Address=%{x}<br>Number_of_Sightings=%{y}<extra></extra>",
         "legendgroup": "Smoke or haze",
         "marker": {
          "color": "#25536D",
          "pattern": {
           "shape": ""
          }
         },
         "name": "Smoke or haze",
         "offsetgroup": "Smoke or haze",
         "orientation": "v",
         "showlegend": true,
         "textposition": "auto",
         "type": "bar",
         "x": [
          "Albuquerque, NM",
          "Chicago, IL",
          "Las Vegas, NV",
          "Los Angeles, CA",
          "Orlando, FL",
          "Phoenix, AZ",
          "Portland, OR",
          "San Diego, CA",
          "Seattle, WA",
          "Tucson, AZ"
         ],
         "xaxis": "x",
         "y": [
          365,
          4408,
          536,
          2673,
          671,
          178,
          482,
          2096,
          454,
          231
         ],
         "yaxis": "y"
        },
        {
         "alignmentgroup": "True",
         "hovertemplate": "Weather=High or damaging winds<br>Address=%{x}<br>Number_of_Sightings=%{y}<extra></extra>",
         "legendgroup": "High or damaging winds",
         "marker": {
          "color": "#57899C",
          "pattern": {
           "shape": ""
          }
         },
         "name": "High or damaging winds",
         "offsetgroup": "High or damaging winds",
         "orientation": "v",
         "showlegend": true,
         "textposition": "auto",
         "type": "bar",
         "x": [
          "Albuquerque, NM",
          "Chicago, IL",
          "Las Vegas, NV",
          "Los Angeles, CA",
          "Orlando, FL",
          "Phoenix, AZ",
          "Portland, OR",
          "San Diego, CA",
          "Seattle, WA",
          "Tucson, AZ"
         ],
         "xaxis": "x",
         "y": [
          44,
          324,
          120,
          0,
          43,
          19,
          0,
          0,
          0,
          21
         ],
         "yaxis": "y"
        },
        {
         "alignmentgroup": "True",
         "hovertemplate": "Weather=Rain, drizzle, and freezing drizzle<br>Address=%{x}<br>Number_of_Sightings=%{y}<extra></extra>",
         "legendgroup": "Rain, drizzle, and freezing drizzle",
         "marker": {
          "color": "#B5D1D4",
          "pattern": {
           "shape": ""
          }
         },
         "name": "Rain, drizzle, and freezing drizzle",
         "offsetgroup": "Rain, drizzle, and freezing drizzle",
         "orientation": "v",
         "showlegend": true,
         "textposition": "auto",
         "type": "bar",
         "x": [
          "Albuquerque, NM",
          "Chicago, IL",
          "Las Vegas, NV",
          "Los Angeles, CA",
          "Orlando, FL",
          "Phoenix, AZ",
          "Portland, OR",
          "San Diego, CA",
          "Seattle, WA",
          "Tucson, AZ"
         ],
         "xaxis": "x",
         "y": [
          1034,
          3212,
          2014,
          651,
          1555,
          269,
          2243,
          824,
          2133,
          753
         ],
         "yaxis": "y"
        }
       ],
       "layout": {
        "barmode": "group",
        "legend": {
         "title": {
          "text": "Weather"
         },
         "tracegroupgap": 0
        },
        "margin": {
         "t": 60
        },
        "paper_bgcolor": "white",
        "plot_bgcolor": "white",
        "template": {
         "data": {
          "bar": [
           {
            "error_x": {
             "color": "#2a3f5f"
            },
            "error_y": {
             "color": "#2a3f5f"
            },
            "marker": {
             "line": {
              "color": "#E5ECF6",
              "width": 0.5
             },
             "pattern": {
              "fillmode": "overlay",
              "size": 10,
              "solidity": 0.2
             }
            },
            "type": "bar"
           }
          ],
          "barpolar": [
           {
            "marker": {
             "line": {
              "color": "#E5ECF6",
              "width": 0.5
             },
             "pattern": {
              "fillmode": "overlay",
              "size": 10,
              "solidity": 0.2
             }
            },
            "type": "barpolar"
           }
          ],
          "carpet": [
           {
            "aaxis": {
             "endlinecolor": "#2a3f5f",
             "gridcolor": "white",
             "linecolor": "white",
             "minorgridcolor": "white",
             "startlinecolor": "#2a3f5f"
            },
            "baxis": {
             "endlinecolor": "#2a3f5f",
             "gridcolor": "white",
             "linecolor": "white",
             "minorgridcolor": "white",
             "startlinecolor": "#2a3f5f"
            },
            "type": "carpet"
           }
          ],
          "choropleth": [
           {
            "colorbar": {
             "outlinewidth": 0,
             "ticks": ""
            },
            "type": "choropleth"
           }
          ],
          "contour": [
           {
            "colorbar": {
             "outlinewidth": 0,
             "ticks": ""
            },
            "colorscale": [
             [
              0,
              "#0d0887"
             ],
             [
              0.1111111111111111,
              "#46039f"
             ],
             [
              0.2222222222222222,
              "#7201a8"
             ],
             [
              0.3333333333333333,
              "#9c179e"
             ],
             [
              0.4444444444444444,
              "#bd3786"
             ],
             [
              0.5555555555555556,
              "#d8576b"
             ],
             [
              0.6666666666666666,
              "#ed7953"
             ],
             [
              0.7777777777777778,
              "#fb9f3a"
             ],
             [
              0.8888888888888888,
              "#fdca26"
             ],
             [
              1,
              "#f0f921"
             ]
            ],
            "type": "contour"
           }
          ],
          "contourcarpet": [
           {
            "colorbar": {
             "outlinewidth": 0,
             "ticks": ""
            },
            "type": "contourcarpet"
           }
          ],
          "heatmap": [
           {
            "colorbar": {
             "outlinewidth": 0,
             "ticks": ""
            },
            "colorscale": [
             [
              0,
              "#0d0887"
             ],
             [
              0.1111111111111111,
              "#46039f"
             ],
             [
              0.2222222222222222,
              "#7201a8"
             ],
             [
              0.3333333333333333,
              "#9c179e"
             ],
             [
              0.4444444444444444,
              "#bd3786"
             ],
             [
              0.5555555555555556,
              "#d8576b"
             ],
             [
              0.6666666666666666,
              "#ed7953"
             ],
             [
              0.7777777777777778,
              "#fb9f3a"
             ],
             [
              0.8888888888888888,
              "#fdca26"
             ],
             [
              1,
              "#f0f921"
             ]
            ],
            "type": "heatmap"
           }
          ],
          "heatmapgl": [
           {
            "colorbar": {
             "outlinewidth": 0,
             "ticks": ""
            },
            "colorscale": [
             [
              0,
              "#0d0887"
             ],
             [
              0.1111111111111111,
              "#46039f"
             ],
             [
              0.2222222222222222,
              "#7201a8"
             ],
             [
              0.3333333333333333,
              "#9c179e"
             ],
             [
              0.4444444444444444,
              "#bd3786"
             ],
             [
              0.5555555555555556,
              "#d8576b"
             ],
             [
              0.6666666666666666,
              "#ed7953"
             ],
             [
              0.7777777777777778,
              "#fb9f3a"
             ],
             [
              0.8888888888888888,
              "#fdca26"
             ],
             [
              1,
              "#f0f921"
             ]
            ],
            "type": "heatmapgl"
           }
          ],
          "histogram": [
           {
            "marker": {
             "pattern": {
              "fillmode": "overlay",
              "size": 10,
              "solidity": 0.2
             }
            },
            "type": "histogram"
           }
          ],
          "histogram2d": [
           {
            "colorbar": {
             "outlinewidth": 0,
             "ticks": ""
            },
            "colorscale": [
             [
              0,
              "#0d0887"
             ],
             [
              0.1111111111111111,
              "#46039f"
             ],
             [
              0.2222222222222222,
              "#7201a8"
             ],
             [
              0.3333333333333333,
              "#9c179e"
             ],
             [
              0.4444444444444444,
              "#bd3786"
             ],
             [
              0.5555555555555556,
              "#d8576b"
             ],
             [
              0.6666666666666666,
              "#ed7953"
             ],
             [
              0.7777777777777778,
              "#fb9f3a"
             ],
             [
              0.8888888888888888,
              "#fdca26"
             ],
             [
              1,
              "#f0f921"
             ]
            ],
            "type": "histogram2d"
           }
          ],
          "histogram2dcontour": [
           {
            "colorbar": {
             "outlinewidth": 0,
             "ticks": ""
            },
            "colorscale": [
             [
              0,
              "#0d0887"
             ],
             [
              0.1111111111111111,
              "#46039f"
             ],
             [
              0.2222222222222222,
              "#7201a8"
             ],
             [
              0.3333333333333333,
              "#9c179e"
             ],
             [
              0.4444444444444444,
              "#bd3786"
             ],
             [
              0.5555555555555556,
              "#d8576b"
             ],
             [
              0.6666666666666666,
              "#ed7953"
             ],
             [
              0.7777777777777778,
              "#fb9f3a"
             ],
             [
              0.8888888888888888,
              "#fdca26"
             ],
             [
              1,
              "#f0f921"
             ]
            ],
            "type": "histogram2dcontour"
           }
          ],
          "mesh3d": [
           {
            "colorbar": {
             "outlinewidth": 0,
             "ticks": ""
            },
            "type": "mesh3d"
           }
          ],
          "parcoords": [
           {
            "line": {
             "colorbar": {
              "outlinewidth": 0,
              "ticks": ""
             }
            },
            "type": "parcoords"
           }
          ],
          "pie": [
           {
            "automargin": true,
            "type": "pie"
           }
          ],
          "scatter": [
           {
            "fillpattern": {
             "fillmode": "overlay",
             "size": 10,
             "solidity": 0.2
            },
            "type": "scatter"
           }
          ],
          "scatter3d": [
           {
            "line": {
             "colorbar": {
              "outlinewidth": 0,
              "ticks": ""
             }
            },
            "marker": {
             "colorbar": {
              "outlinewidth": 0,
              "ticks": ""
             }
            },
            "type": "scatter3d"
           }
          ],
          "scattercarpet": [
           {
            "marker": {
             "colorbar": {
              "outlinewidth": 0,
              "ticks": ""
             }
            },
            "type": "scattercarpet"
           }
          ],
          "scattergeo": [
           {
            "marker": {
             "colorbar": {
              "outlinewidth": 0,
              "ticks": ""
             }
            },
            "type": "scattergeo"
           }
          ],
          "scattergl": [
           {
            "marker": {
             "colorbar": {
              "outlinewidth": 0,
              "ticks": ""
             }
            },
            "type": "scattergl"
           }
          ],
          "scattermapbox": [
           {
            "marker": {
             "colorbar": {
              "outlinewidth": 0,
              "ticks": ""
             }
            },
            "type": "scattermapbox"
           }
          ],
          "scatterpolar": [
           {
            "marker": {
             "colorbar": {
              "outlinewidth": 0,
              "ticks": ""
             }
            },
            "type": "scatterpolar"
           }
          ],
          "scatterpolargl": [
           {
            "marker": {
             "colorbar": {
              "outlinewidth": 0,
              "ticks": ""
             }
            },
            "type": "scatterpolargl"
           }
          ],
          "scatterternary": [
           {
            "marker": {
             "colorbar": {
              "outlinewidth": 0,
              "ticks": ""
             }
            },
            "type": "scatterternary"
           }
          ],
          "surface": [
           {
            "colorbar": {
             "outlinewidth": 0,
             "ticks": ""
            },
            "colorscale": [
             [
              0,
              "#0d0887"
             ],
             [
              0.1111111111111111,
              "#46039f"
             ],
             [
              0.2222222222222222,
              "#7201a8"
             ],
             [
              0.3333333333333333,
              "#9c179e"
             ],
             [
              0.4444444444444444,
              "#bd3786"
             ],
             [
              0.5555555555555556,
              "#d8576b"
             ],
             [
              0.6666666666666666,
              "#ed7953"
             ],
             [
              0.7777777777777778,
              "#fb9f3a"
             ],
             [
              0.8888888888888888,
              "#fdca26"
             ],
             [
              1,
              "#f0f921"
             ]
            ],
            "type": "surface"
           }
          ],
          "table": [
           {
            "cells": {
             "fill": {
              "color": "#EBF0F8"
             },
             "line": {
              "color": "white"
             }
            },
            "header": {
             "fill": {
              "color": "#C8D4E3"
             },
             "line": {
              "color": "white"
             }
            },
            "type": "table"
           }
          ]
         },
         "layout": {
          "annotationdefaults": {
           "arrowcolor": "#2a3f5f",
           "arrowhead": 0,
           "arrowwidth": 1
          },
          "autotypenumbers": "strict",
          "coloraxis": {
           "colorbar": {
            "outlinewidth": 0,
            "ticks": ""
           }
          },
          "colorscale": {
           "diverging": [
            [
             0,
             "#8e0152"
            ],
            [
             0.1,
             "#c51b7d"
            ],
            [
             0.2,
             "#de77ae"
            ],
            [
             0.3,
             "#f1b6da"
            ],
            [
             0.4,
             "#fde0ef"
            ],
            [
             0.5,
             "#f7f7f7"
            ],
            [
             0.6,
             "#e6f5d0"
            ],
            [
             0.7,
             "#b8e186"
            ],
            [
             0.8,
             "#7fbc41"
            ],
            [
             0.9,
             "#4d9221"
            ],
            [
             1,
             "#276419"
            ]
           ],
           "sequential": [
            [
             0,
             "#0d0887"
            ],
            [
             0.1111111111111111,
             "#46039f"
            ],
            [
             0.2222222222222222,
             "#7201a8"
            ],
            [
             0.3333333333333333,
             "#9c179e"
            ],
            [
             0.4444444444444444,
             "#bd3786"
            ],
            [
             0.5555555555555556,
             "#d8576b"
            ],
            [
             0.6666666666666666,
             "#ed7953"
            ],
            [
             0.7777777777777778,
             "#fb9f3a"
            ],
            [
             0.8888888888888888,
             "#fdca26"
            ],
            [
             1,
             "#f0f921"
            ]
           ],
           "sequentialminus": [
            [
             0,
             "#0d0887"
            ],
            [
             0.1111111111111111,
             "#46039f"
            ],
            [
             0.2222222222222222,
             "#7201a8"
            ],
            [
             0.3333333333333333,
             "#9c179e"
            ],
            [
             0.4444444444444444,
             "#bd3786"
            ],
            [
             0.5555555555555556,
             "#d8576b"
            ],
            [
             0.6666666666666666,
             "#ed7953"
            ],
            [
             0.7777777777777778,
             "#fb9f3a"
            ],
            [
             0.8888888888888888,
             "#fdca26"
            ],
            [
             1,
             "#f0f921"
            ]
           ]
          },
          "colorway": [
           "#636efa",
           "#EF553B",
           "#00cc96",
           "#ab63fa",
           "#FFA15A",
           "#19d3f3",
           "#FF6692",
           "#B6E880",
           "#FF97FF",
           "#FECB52"
          ],
          "font": {
           "color": "#2a3f5f"
          },
          "geo": {
           "bgcolor": "white",
           "lakecolor": "white",
           "landcolor": "#E5ECF6",
           "showlakes": true,
           "showland": true,
           "subunitcolor": "white"
          },
          "hoverlabel": {
           "align": "left"
          },
          "hovermode": "closest",
          "mapbox": {
           "style": "light"
          },
          "paper_bgcolor": "white",
          "plot_bgcolor": "#E5ECF6",
          "polar": {
           "angularaxis": {
            "gridcolor": "white",
            "linecolor": "white",
            "ticks": ""
           },
           "bgcolor": "#E5ECF6",
           "radialaxis": {
            "gridcolor": "white",
            "linecolor": "white",
            "ticks": ""
           }
          },
          "scene": {
           "xaxis": {
            "backgroundcolor": "#E5ECF6",
            "gridcolor": "white",
            "gridwidth": 2,
            "linecolor": "white",
            "showbackground": true,
            "ticks": "",
            "zerolinecolor": "white"
           },
           "yaxis": {
            "backgroundcolor": "#E5ECF6",
            "gridcolor": "white",
            "gridwidth": 2,
            "linecolor": "white",
            "showbackground": true,
            "ticks": "",
            "zerolinecolor": "white"
           },
           "zaxis": {
            "backgroundcolor": "#E5ECF6",
            "gridcolor": "white",
            "gridwidth": 2,
            "linecolor": "white",
            "showbackground": true,
            "ticks": "",
            "zerolinecolor": "white"
           }
          },
          "shapedefaults": {
           "line": {
            "color": "#2a3f5f"
           }
          },
          "ternary": {
           "aaxis": {
            "gridcolor": "white",
            "linecolor": "white",
            "ticks": ""
           },
           "baxis": {
            "gridcolor": "white",
            "linecolor": "white",
            "ticks": ""
           },
           "bgcolor": "#E5ECF6",
           "caxis": {
            "gridcolor": "white",
            "linecolor": "white",
            "ticks": ""
           }
          },
          "title": {
           "x": 0.05
          },
          "xaxis": {
           "automargin": true,
           "gridcolor": "white",
           "linecolor": "white",
           "ticks": "",
           "title": {
            "standoff": 15
           },
           "zerolinecolor": "white",
           "zerolinewidth": 2
          },
          "yaxis": {
           "automargin": true,
           "gridcolor": "white",
           "linecolor": "white",
           "ticks": "",
           "title": {
            "standoff": 15
           },
           "zerolinecolor": "white",
           "zerolinewidth": 2
          }
         }
        },
        "title": {
         "text": "Number of Sightings during Inclement Weather for Cities with Highest Sightings Count"
        },
        "xaxis": {
         "anchor": "y",
         "domain": [
          0,
          1
         ],
         "title": {
          "text": "City"
         }
        },
        "yaxis": {
         "anchor": "x",
         "domain": [
          0,
          1
         ],
         "dtick": 1000,
         "gridcolor": "lightgray",
         "gridwidth": 0.5,
         "tickmode": "linear",
         "title": {
          "text": "Number of Sightings"
         }
        }
       }
      }
     },
     "metadata": {},
     "output_type": "display_data"
    }
   ],
   "source": [
    "# Filter the dataframe to only include rows where the weather variables are equal to 1\n",
    "df_filtered = df_weather_ufo[(df_weather_ufo['WT02'] == 1) | (df_weather_ufo['WT07'] == 1) | (df_weather_ufo['WT08'] == 1) | (df_weather_ufo['WT11'] == 1) | (df_weather_ufo['WT16'] == 1)]\n",
    "\n",
    "# Group data by city and calculate the count of sightings for each weather variable\n",
    "df_grouped = df_filtered.groupby(['Address']).sum(numeric_only=True).reset_index()\n",
    "\n",
    "# Convert the wide format to long format for Plotly\n",
    "df_melt = pd.melt(df_grouped, id_vars=['Address'], value_vars=[\"WT02\", \"WT07\", \"WT08\", \"WT11\", \"WT16\"],\n",
    "                  var_name=\"Weather\", value_name=\"Number_of_Sightings\")\n",
    "\n",
    "# Create a dictionary to map weather variable names to the corresponding weather description\n",
    "weather_desc_map = {'WT02': 'Heavy fog or heaving freezing fog', \n",
    "                    'WT07': 'Dust, volcanic ash, blowing dust/sand, or blowing obstruction', \n",
    "                    'WT08': 'Smoke or haze', \n",
    "                    'WT11': 'High or damaging winds', \n",
    "                    'WT16': 'Rain, drizzle, and freezing drizzle'}\n",
    "\n",
    "# Update the legend labels with the corresponding weather descriptions\n",
    "df_melt['Weather'] = df_melt['Weather'].map(weather_desc_map)\n",
    "\n",
    "# Define custom color sequence\n",
    "custom_colors = ['#3E93AB', '#A8DFF7', '#25536D', '#57899C', '#B5D1D4', '#2F4E48']\n",
    "\n",
    "# Create a column chart with color set to Weather and barmode set to 'group', and update color sequence\n",
    "fig = px.bar(df_melt, x=\"Address\", y=\"Number_of_Sightings\", color=\"Weather\", color_discrete_sequence=custom_colors,\n",
    "             category_orders={\"Weather\": [\"Heavy fog or heaving freezing fog\", \n",
    "                                          \"Dust, volcanic ash, blowing dust/sand, or blowing obstruction\", \n",
    "                                          \"Smoke or haze\", \n",
    "                                          \"High or damaging winds\", \n",
    "                                          \"Rain, drizzle, and freezing drizzle\"]},\n",
    "             barmode='group')\n",
    "\n",
    "# Update plot labels and title\n",
    "fig.update_xaxes(title=\"City\")\n",
    "fig.update_yaxes(title=\"Number of Sightings\",\n",
    "                tickmode='linear',  # Set tickmode to 'linear'\n",
    "                dtick=1000,         # Set dtick to 1000 to show grid lines at every 1000 value\n",
    "                gridcolor='lightgray',  # Set grid color\n",
    "                gridwidth=0.5)     # Set grid width\n",
    "fig.update_layout(title=\"Number of Sightings during Inclement Weather for Cities with Highest Sightings Count\", updatemenus=[], \n",
    "                  plot_bgcolor='white',\n",
    "                  paper_bgcolor='white')\n",
    "\n",
    "# Show the plot\n",
    "fig.show()"
   ]
  },
  {
   "cell_type": "code",
   "execution_count": 364,
   "metadata": {},
   "outputs": [
    {
     "data": {
      "application/vnd.plotly.v1+json": {
       "config": {
        "plotlyServerURL": "https://plotly.com"
       },
       "data": [
        {
         "colorscale": [
          [
           0,
           "#440154"
          ],
          [
           0.1111111111111111,
           "#482878"
          ],
          [
           0.2222222222222222,
           "#3e4989"
          ],
          [
           0.3333333333333333,
           "#31688e"
          ],
          [
           0.4444444444444444,
           "#26828e"
          ],
          [
           0.5555555555555556,
           "#1f9e89"
          ],
          [
           0.6666666666666666,
           "#35b779"
          ],
          [
           0.7777777777777778,
           "#6ece58"
          ],
          [
           0.8888888888888888,
           "#b5de2b"
          ],
          [
           1,
           "#fde725"
          ]
         ],
         "hovertemplate": "City: %{x}<br>Weather: %{y}<br>Number of Sightings: %{z}<br><extra></extra>",
         "reversescale": true,
         "type": "heatmap",
         "x": [
          "Albuquerque, NM",
          "Chicago, IL",
          "Las Vegas, NV",
          "Los Angeles, CA",
          "Orlando, FL",
          "Phoenix, AZ",
          "Portland, OR",
          "San Diego, CA",
          "Seattle, WA",
          "Tucson, AZ",
          "Albuquerque, NM",
          "Chicago, IL",
          "Las Vegas, NV",
          "Los Angeles, CA",
          "Orlando, FL",
          "Phoenix, AZ",
          "Portland, OR",
          "San Diego, CA",
          "Seattle, WA",
          "Tucson, AZ",
          "Albuquerque, NM",
          "Chicago, IL",
          "Las Vegas, NV",
          "Los Angeles, CA",
          "Orlando, FL",
          "Phoenix, AZ",
          "Portland, OR",
          "San Diego, CA",
          "Seattle, WA",
          "Tucson, AZ",
          "Albuquerque, NM",
          "Chicago, IL",
          "Las Vegas, NV",
          "Los Angeles, CA",
          "Orlando, FL",
          "Phoenix, AZ",
          "Portland, OR",
          "San Diego, CA",
          "Seattle, WA",
          "Tucson, AZ",
          "Albuquerque, NM",
          "Chicago, IL",
          "Las Vegas, NV",
          "Los Angeles, CA",
          "Orlando, FL",
          "Phoenix, AZ",
          "Portland, OR",
          "San Diego, CA",
          "Seattle, WA",
          "Tucson, AZ"
         ],
         "y": [
          "Heavy fog or heaving freezing fog",
          "Heavy fog or heaving freezing fog",
          "Heavy fog or heaving freezing fog",
          "Heavy fog or heaving freezing fog",
          "Heavy fog or heaving freezing fog",
          "Heavy fog or heaving freezing fog",
          "Heavy fog or heaving freezing fog",
          "Heavy fog or heaving freezing fog",
          "Heavy fog or heaving freezing fog",
          "Heavy fog or heaving freezing fog",
          "Dust, volcanic ash, blowing dust/sand, or blowing obstruction",
          "Dust, volcanic ash, blowing dust/sand, or blowing obstruction",
          "Dust, volcanic ash, blowing dust/sand, or blowing obstruction",
          "Dust, volcanic ash, blowing dust/sand, or blowing obstruction",
          "Dust, volcanic ash, blowing dust/sand, or blowing obstruction",
          "Dust, volcanic ash, blowing dust/sand, or blowing obstruction",
          "Dust, volcanic ash, blowing dust/sand, or blowing obstruction",
          "Dust, volcanic ash, blowing dust/sand, or blowing obstruction",
          "Dust, volcanic ash, blowing dust/sand, or blowing obstruction",
          "Dust, volcanic ash, blowing dust/sand, or blowing obstruction",
          "Smoke or haze",
          "Smoke or haze",
          "Smoke or haze",
          "Smoke or haze",
          "Smoke or haze",
          "Smoke or haze",
          "Smoke or haze",
          "Smoke or haze",
          "Smoke or haze",
          "Smoke or haze",
          "High or damaging winds",
          "High or damaging winds",
          "High or damaging winds",
          "High or damaging winds",
          "High or damaging winds",
          "High or damaging winds",
          "High or damaging winds",
          "High or damaging winds",
          "High or damaging winds",
          "High or damaging winds",
          "Rain, drizzle, and freezing drizzle",
          "Rain, drizzle, and freezing drizzle",
          "Rain, drizzle, and freezing drizzle",
          "Rain, drizzle, and freezing drizzle",
          "Rain, drizzle, and freezing drizzle",
          "Rain, drizzle, and freezing drizzle",
          "Rain, drizzle, and freezing drizzle",
          "Rain, drizzle, and freezing drizzle",
          "Rain, drizzle, and freezing drizzle",
          "Rain, drizzle, and freezing drizzle"
         ],
         "z": [
          169,
          553,
          35,
          562,
          281,
          13,
          619,
          393,
          481,
          44,
          128,
          90,
          147,
          439,
          0,
          96,
          3,
          388,
          37,
          6,
          365,
          4408,
          536,
          2673,
          671,
          178,
          482,
          2096,
          454,
          231,
          44,
          324,
          120,
          0,
          43,
          19,
          0,
          0,
          0,
          21,
          1034,
          3212,
          2014,
          651,
          1555,
          269,
          2243,
          824,
          2133,
          753
         ]
        }
       ],
       "layout": {
        "template": {
         "data": {
          "bar": [
           {
            "error_x": {
             "color": "#2a3f5f"
            },
            "error_y": {
             "color": "#2a3f5f"
            },
            "marker": {
             "line": {
              "color": "#E5ECF6",
              "width": 0.5
             },
             "pattern": {
              "fillmode": "overlay",
              "size": 10,
              "solidity": 0.2
             }
            },
            "type": "bar"
           }
          ],
          "barpolar": [
           {
            "marker": {
             "line": {
              "color": "#E5ECF6",
              "width": 0.5
             },
             "pattern": {
              "fillmode": "overlay",
              "size": 10,
              "solidity": 0.2
             }
            },
            "type": "barpolar"
           }
          ],
          "carpet": [
           {
            "aaxis": {
             "endlinecolor": "#2a3f5f",
             "gridcolor": "white",
             "linecolor": "white",
             "minorgridcolor": "white",
             "startlinecolor": "#2a3f5f"
            },
            "baxis": {
             "endlinecolor": "#2a3f5f",
             "gridcolor": "white",
             "linecolor": "white",
             "minorgridcolor": "white",
             "startlinecolor": "#2a3f5f"
            },
            "type": "carpet"
           }
          ],
          "choropleth": [
           {
            "colorbar": {
             "outlinewidth": 0,
             "ticks": ""
            },
            "type": "choropleth"
           }
          ],
          "contour": [
           {
            "colorbar": {
             "outlinewidth": 0,
             "ticks": ""
            },
            "colorscale": [
             [
              0,
              "#0d0887"
             ],
             [
              0.1111111111111111,
              "#46039f"
             ],
             [
              0.2222222222222222,
              "#7201a8"
             ],
             [
              0.3333333333333333,
              "#9c179e"
             ],
             [
              0.4444444444444444,
              "#bd3786"
             ],
             [
              0.5555555555555556,
              "#d8576b"
             ],
             [
              0.6666666666666666,
              "#ed7953"
             ],
             [
              0.7777777777777778,
              "#fb9f3a"
             ],
             [
              0.8888888888888888,
              "#fdca26"
             ],
             [
              1,
              "#f0f921"
             ]
            ],
            "type": "contour"
           }
          ],
          "contourcarpet": [
           {
            "colorbar": {
             "outlinewidth": 0,
             "ticks": ""
            },
            "type": "contourcarpet"
           }
          ],
          "heatmap": [
           {
            "colorbar": {
             "outlinewidth": 0,
             "ticks": ""
            },
            "colorscale": [
             [
              0,
              "#0d0887"
             ],
             [
              0.1111111111111111,
              "#46039f"
             ],
             [
              0.2222222222222222,
              "#7201a8"
             ],
             [
              0.3333333333333333,
              "#9c179e"
             ],
             [
              0.4444444444444444,
              "#bd3786"
             ],
             [
              0.5555555555555556,
              "#d8576b"
             ],
             [
              0.6666666666666666,
              "#ed7953"
             ],
             [
              0.7777777777777778,
              "#fb9f3a"
             ],
             [
              0.8888888888888888,
              "#fdca26"
             ],
             [
              1,
              "#f0f921"
             ]
            ],
            "type": "heatmap"
           }
          ],
          "heatmapgl": [
           {
            "colorbar": {
             "outlinewidth": 0,
             "ticks": ""
            },
            "colorscale": [
             [
              0,
              "#0d0887"
             ],
             [
              0.1111111111111111,
              "#46039f"
             ],
             [
              0.2222222222222222,
              "#7201a8"
             ],
             [
              0.3333333333333333,
              "#9c179e"
             ],
             [
              0.4444444444444444,
              "#bd3786"
             ],
             [
              0.5555555555555556,
              "#d8576b"
             ],
             [
              0.6666666666666666,
              "#ed7953"
             ],
             [
              0.7777777777777778,
              "#fb9f3a"
             ],
             [
              0.8888888888888888,
              "#fdca26"
             ],
             [
              1,
              "#f0f921"
             ]
            ],
            "type": "heatmapgl"
           }
          ],
          "histogram": [
           {
            "marker": {
             "pattern": {
              "fillmode": "overlay",
              "size": 10,
              "solidity": 0.2
             }
            },
            "type": "histogram"
           }
          ],
          "histogram2d": [
           {
            "colorbar": {
             "outlinewidth": 0,
             "ticks": ""
            },
            "colorscale": [
             [
              0,
              "#0d0887"
             ],
             [
              0.1111111111111111,
              "#46039f"
             ],
             [
              0.2222222222222222,
              "#7201a8"
             ],
             [
              0.3333333333333333,
              "#9c179e"
             ],
             [
              0.4444444444444444,
              "#bd3786"
             ],
             [
              0.5555555555555556,
              "#d8576b"
             ],
             [
              0.6666666666666666,
              "#ed7953"
             ],
             [
              0.7777777777777778,
              "#fb9f3a"
             ],
             [
              0.8888888888888888,
              "#fdca26"
             ],
             [
              1,
              "#f0f921"
             ]
            ],
            "type": "histogram2d"
           }
          ],
          "histogram2dcontour": [
           {
            "colorbar": {
             "outlinewidth": 0,
             "ticks": ""
            },
            "colorscale": [
             [
              0,
              "#0d0887"
             ],
             [
              0.1111111111111111,
              "#46039f"
             ],
             [
              0.2222222222222222,
              "#7201a8"
             ],
             [
              0.3333333333333333,
              "#9c179e"
             ],
             [
              0.4444444444444444,
              "#bd3786"
             ],
             [
              0.5555555555555556,
              "#d8576b"
             ],
             [
              0.6666666666666666,
              "#ed7953"
             ],
             [
              0.7777777777777778,
              "#fb9f3a"
             ],
             [
              0.8888888888888888,
              "#fdca26"
             ],
             [
              1,
              "#f0f921"
             ]
            ],
            "type": "histogram2dcontour"
           }
          ],
          "mesh3d": [
           {
            "colorbar": {
             "outlinewidth": 0,
             "ticks": ""
            },
            "type": "mesh3d"
           }
          ],
          "parcoords": [
           {
            "line": {
             "colorbar": {
              "outlinewidth": 0,
              "ticks": ""
             }
            },
            "type": "parcoords"
           }
          ],
          "pie": [
           {
            "automargin": true,
            "type": "pie"
           }
          ],
          "scatter": [
           {
            "fillpattern": {
             "fillmode": "overlay",
             "size": 10,
             "solidity": 0.2
            },
            "type": "scatter"
           }
          ],
          "scatter3d": [
           {
            "line": {
             "colorbar": {
              "outlinewidth": 0,
              "ticks": ""
             }
            },
            "marker": {
             "colorbar": {
              "outlinewidth": 0,
              "ticks": ""
             }
            },
            "type": "scatter3d"
           }
          ],
          "scattercarpet": [
           {
            "marker": {
             "colorbar": {
              "outlinewidth": 0,
              "ticks": ""
             }
            },
            "type": "scattercarpet"
           }
          ],
          "scattergeo": [
           {
            "marker": {
             "colorbar": {
              "outlinewidth": 0,
              "ticks": ""
             }
            },
            "type": "scattergeo"
           }
          ],
          "scattergl": [
           {
            "marker": {
             "colorbar": {
              "outlinewidth": 0,
              "ticks": ""
             }
            },
            "type": "scattergl"
           }
          ],
          "scattermapbox": [
           {
            "marker": {
             "colorbar": {
              "outlinewidth": 0,
              "ticks": ""
             }
            },
            "type": "scattermapbox"
           }
          ],
          "scatterpolar": [
           {
            "marker": {
             "colorbar": {
              "outlinewidth": 0,
              "ticks": ""
             }
            },
            "type": "scatterpolar"
           }
          ],
          "scatterpolargl": [
           {
            "marker": {
             "colorbar": {
              "outlinewidth": 0,
              "ticks": ""
             }
            },
            "type": "scatterpolargl"
           }
          ],
          "scatterternary": [
           {
            "marker": {
             "colorbar": {
              "outlinewidth": 0,
              "ticks": ""
             }
            },
            "type": "scatterternary"
           }
          ],
          "surface": [
           {
            "colorbar": {
             "outlinewidth": 0,
             "ticks": ""
            },
            "colorscale": [
             [
              0,
              "#0d0887"
             ],
             [
              0.1111111111111111,
              "#46039f"
             ],
             [
              0.2222222222222222,
              "#7201a8"
             ],
             [
              0.3333333333333333,
              "#9c179e"
             ],
             [
              0.4444444444444444,
              "#bd3786"
             ],
             [
              0.5555555555555556,
              "#d8576b"
             ],
             [
              0.6666666666666666,
              "#ed7953"
             ],
             [
              0.7777777777777778,
              "#fb9f3a"
             ],
             [
              0.8888888888888888,
              "#fdca26"
             ],
             [
              1,
              "#f0f921"
             ]
            ],
            "type": "surface"
           }
          ],
          "table": [
           {
            "cells": {
             "fill": {
              "color": "#EBF0F8"
             },
             "line": {
              "color": "white"
             }
            },
            "header": {
             "fill": {
              "color": "#C8D4E3"
             },
             "line": {
              "color": "white"
             }
            },
            "type": "table"
           }
          ]
         },
         "layout": {
          "annotationdefaults": {
           "arrowcolor": "#2a3f5f",
           "arrowhead": 0,
           "arrowwidth": 1
          },
          "autotypenumbers": "strict",
          "coloraxis": {
           "colorbar": {
            "outlinewidth": 0,
            "ticks": ""
           }
          },
          "colorscale": {
           "diverging": [
            [
             0,
             "#8e0152"
            ],
            [
             0.1,
             "#c51b7d"
            ],
            [
             0.2,
             "#de77ae"
            ],
            [
             0.3,
             "#f1b6da"
            ],
            [
             0.4,
             "#fde0ef"
            ],
            [
             0.5,
             "#f7f7f7"
            ],
            [
             0.6,
             "#e6f5d0"
            ],
            [
             0.7,
             "#b8e186"
            ],
            [
             0.8,
             "#7fbc41"
            ],
            [
             0.9,
             "#4d9221"
            ],
            [
             1,
             "#276419"
            ]
           ],
           "sequential": [
            [
             0,
             "#0d0887"
            ],
            [
             0.1111111111111111,
             "#46039f"
            ],
            [
             0.2222222222222222,
             "#7201a8"
            ],
            [
             0.3333333333333333,
             "#9c179e"
            ],
            [
             0.4444444444444444,
             "#bd3786"
            ],
            [
             0.5555555555555556,
             "#d8576b"
            ],
            [
             0.6666666666666666,
             "#ed7953"
            ],
            [
             0.7777777777777778,
             "#fb9f3a"
            ],
            [
             0.8888888888888888,
             "#fdca26"
            ],
            [
             1,
             "#f0f921"
            ]
           ],
           "sequentialminus": [
            [
             0,
             "#0d0887"
            ],
            [
             0.1111111111111111,
             "#46039f"
            ],
            [
             0.2222222222222222,
             "#7201a8"
            ],
            [
             0.3333333333333333,
             "#9c179e"
            ],
            [
             0.4444444444444444,
             "#bd3786"
            ],
            [
             0.5555555555555556,
             "#d8576b"
            ],
            [
             0.6666666666666666,
             "#ed7953"
            ],
            [
             0.7777777777777778,
             "#fb9f3a"
            ],
            [
             0.8888888888888888,
             "#fdca26"
            ],
            [
             1,
             "#f0f921"
            ]
           ]
          },
          "colorway": [
           "#636efa",
           "#EF553B",
           "#00cc96",
           "#ab63fa",
           "#FFA15A",
           "#19d3f3",
           "#FF6692",
           "#B6E880",
           "#FF97FF",
           "#FECB52"
          ],
          "font": {
           "color": "#2a3f5f"
          },
          "geo": {
           "bgcolor": "white",
           "lakecolor": "white",
           "landcolor": "#E5ECF6",
           "showlakes": true,
           "showland": true,
           "subunitcolor": "white"
          },
          "hoverlabel": {
           "align": "left"
          },
          "hovermode": "closest",
          "mapbox": {
           "style": "light"
          },
          "paper_bgcolor": "white",
          "plot_bgcolor": "#E5ECF6",
          "polar": {
           "angularaxis": {
            "gridcolor": "white",
            "linecolor": "white",
            "ticks": ""
           },
           "bgcolor": "#E5ECF6",
           "radialaxis": {
            "gridcolor": "white",
            "linecolor": "white",
            "ticks": ""
           }
          },
          "scene": {
           "xaxis": {
            "backgroundcolor": "#E5ECF6",
            "gridcolor": "white",
            "gridwidth": 2,
            "linecolor": "white",
            "showbackground": true,
            "ticks": "",
            "zerolinecolor": "white"
           },
           "yaxis": {
            "backgroundcolor": "#E5ECF6",
            "gridcolor": "white",
            "gridwidth": 2,
            "linecolor": "white",
            "showbackground": true,
            "ticks": "",
            "zerolinecolor": "white"
           },
           "zaxis": {
            "backgroundcolor": "#E5ECF6",
            "gridcolor": "white",
            "gridwidth": 2,
            "linecolor": "white",
            "showbackground": true,
            "ticks": "",
            "zerolinecolor": "white"
           }
          },
          "shapedefaults": {
           "line": {
            "color": "#2a3f5f"
           }
          },
          "ternary": {
           "aaxis": {
            "gridcolor": "white",
            "linecolor": "white",
            "ticks": ""
           },
           "baxis": {
            "gridcolor": "white",
            "linecolor": "white",
            "ticks": ""
           },
           "bgcolor": "#E5ECF6",
           "caxis": {
            "gridcolor": "white",
            "linecolor": "white",
            "ticks": ""
           }
          },
          "title": {
           "x": 0.05
          },
          "xaxis": {
           "automargin": true,
           "gridcolor": "white",
           "linecolor": "white",
           "ticks": "",
           "title": {
            "standoff": 15
           },
           "zerolinecolor": "white",
           "zerolinewidth": 2
          },
          "yaxis": {
           "automargin": true,
           "gridcolor": "white",
           "linecolor": "white",
           "ticks": "",
           "title": {
            "standoff": 15
           },
           "zerolinecolor": "white",
           "zerolinewidth": 2
          }
         }
        },
        "title": {
         "text": "Correlation between Inclement Weather and UFO Sightings in Cities with Highest Sightings Count"
        },
        "xaxis": {
         "anchor": "y",
         "domain": [
          0,
          1
         ],
         "title": {
          "text": "City"
         }
        },
        "yaxis": {
         "anchor": "x",
         "domain": [
          0,
          1
         ],
         "title": {
          "text": "Weather Descriptions"
         }
        }
       }
      }
     },
     "metadata": {},
     "output_type": "display_data"
    }
   ],
   "source": [
    "import plotly.graph_objects as go\n",
    "import plotly.subplots as sp\n",
    "\n",
    "# Filter the dataframe to only include rows where the weather variables are equal to 1\n",
    "df_filtered = df_weather_ufo[(df_weather_ufo['WT02'] == 1) | (df_weather_ufo['WT07'] == 1) | (df_weather_ufo['WT08'] == 1) | (df_weather_ufo['WT11'] == 1) | (df_weather_ufo['WT16'] == 1)]\n",
    "\n",
    "# Group data by city and calculate the count of sightings for each weather variable\n",
    "df_grouped = df_filtered.groupby(['Address']).sum(numeric_only=True).reset_index()\n",
    "\n",
    "# Convert the wide format to long format for Plotly\n",
    "df_melt = pd.melt(df_grouped, id_vars=['Address'], value_vars=[\"WT02\", \"WT07\", \"WT08\", \"WT11\", \"WT16\"],\n",
    "                  var_name=\"Weather\", value_name=\"Number_of_Sightings\")\n",
    "\n",
    "# Assuming your DataFrame is named \"df\" with columns as described in the question\n",
    "# Define weather description mapping\n",
    "weather_desc_map = {'WT02': 'Heavy fog or heaving freezing fog', \n",
    "                    'WT07': 'Dust, volcanic ash, blowing dust/sand, or blowing obstruction', \n",
    "                    'WT08': 'Smoke or haze', \n",
    "                    'WT11': 'High or damaging winds', \n",
    "                    'WT16': 'Rain, drizzle, and freezing drizzle'}\n",
    "\n",
    "# Create a subplot with heatmap\n",
    "fig = sp.make_subplots(rows=1, cols=1)\n",
    "heatmap = go.Heatmap(\n",
    "    z=df_melt.Number_of_Sightings,  # Transpose the DataFrame for proper heatmap orientation\n",
    "    x=df_melt.Address,\n",
    "    y=df_melt.Weather.map(weather_desc_map),  # Use the mapped weather descriptions as y-axis labels\n",
    "    colorscale='Viridis',\n",
    "    reversescale=True,\n",
    "    hovertemplate='City: %{x}<br>' +  # Set tooltip template to show x-axis label\n",
    "                  'Weather: %{y}<br>' +  # Set tooltip template to show y-axis label\n",
    "                  'Number of Sightings: %{z}<br><extra></extra>',  # Set tooltip template to show z-axis label\n",
    ")\n",
    "fig.add_trace(heatmap)\n",
    "fig.update_xaxes(title_text='City')\n",
    "fig.update_yaxes(title_text='Weather Descriptions')\n",
    "fig.update_layout(title_text='Correlation between Inclement Weather and UFO Sightings in Cities with Highest Sightings Count')\n",
    "fig.show()\n",
    "\n"
   ]
  },
  {
   "cell_type": "code",
   "execution_count": 441,
   "metadata": {},
   "outputs": [
    {
     "data": {
      "application/vnd.plotly.v1+json": {
       "config": {
        "displayModeBar": true,
        "plotlyServerURL": "https://plotly.com"
       },
       "data": [
        {
         "marker": {
          "color": "#3E93AB"
         },
         "name": "Foggy",
         "type": "bar",
         "x": [
          "Albuquerque, NM",
          "Chicago, IL",
          "Las Vegas, NV",
          "Los Angeles, CA",
          "Orlando, FL",
          "Phoenix, AZ",
          "Portland, OR",
          "San Diego, CA",
          "Seattle, WA",
          "Tucson, AZ"
         ],
         "y": [
          169,
          553,
          35,
          562,
          281,
          13,
          619,
          393,
          481,
          44
         ]
        },
        {
         "marker": {
          "color": "#A8DFF7"
         },
         "name": "Dusty",
         "type": "bar",
         "x": [
          "Albuquerque, NM",
          "Chicago, IL",
          "Las Vegas, NV",
          "Los Angeles, CA",
          "Orlando, FL",
          "Phoenix, AZ",
          "Portland, OR",
          "San Diego, CA",
          "Seattle, WA",
          "Tucson, AZ"
         ],
         "y": [
          128,
          90,
          147,
          439,
          0,
          96,
          3,
          388,
          37,
          6
         ]
        },
        {
         "marker": {
          "color": "#25536D"
         },
         "name": "Hazey",
         "type": "bar",
         "x": [
          "Albuquerque, NM",
          "Chicago, IL",
          "Las Vegas, NV",
          "Los Angeles, CA",
          "Orlando, FL",
          "Phoenix, AZ",
          "Portland, OR",
          "San Diego, CA",
          "Seattle, WA",
          "Tucson, AZ"
         ],
         "y": [
          365,
          4408,
          536,
          2673,
          671,
          178,
          482,
          2096,
          454,
          231
         ]
        },
        {
         "marker": {
          "color": "#57899C"
         },
         "name": "Windy",
         "type": "bar",
         "x": [
          "Albuquerque, NM",
          "Chicago, IL",
          "Las Vegas, NV",
          "Los Angeles, CA",
          "Orlando, FL",
          "Phoenix, AZ",
          "Portland, OR",
          "San Diego, CA",
          "Seattle, WA",
          "Tucson, AZ"
         ],
         "y": [
          44,
          324,
          120,
          0,
          43,
          19,
          0,
          0,
          0,
          21
         ]
        },
        {
         "marker": {
          "color": "#B5D1D4"
         },
         "name": "Rainy",
         "type": "bar",
         "x": [
          "Albuquerque, NM",
          "Chicago, IL",
          "Las Vegas, NV",
          "Los Angeles, CA",
          "Orlando, FL",
          "Phoenix, AZ",
          "Portland, OR",
          "San Diego, CA",
          "Seattle, WA",
          "Tucson, AZ"
         ],
         "y": [
          1034,
          3212,
          2014,
          651,
          1555,
          269,
          2243,
          824,
          2133,
          753
         ]
        }
       ],
       "layout": {
        "paper_bgcolor": "white",
        "plot_bgcolor": "white",
        "template": {
         "data": {
          "bar": [
           {
            "error_x": {
             "color": "#2a3f5f"
            },
            "error_y": {
             "color": "#2a3f5f"
            },
            "marker": {
             "line": {
              "color": "#E5ECF6",
              "width": 0.5
             },
             "pattern": {
              "fillmode": "overlay",
              "size": 10,
              "solidity": 0.2
             }
            },
            "type": "bar"
           }
          ],
          "barpolar": [
           {
            "marker": {
             "line": {
              "color": "#E5ECF6",
              "width": 0.5
             },
             "pattern": {
              "fillmode": "overlay",
              "size": 10,
              "solidity": 0.2
             }
            },
            "type": "barpolar"
           }
          ],
          "carpet": [
           {
            "aaxis": {
             "endlinecolor": "#2a3f5f",
             "gridcolor": "white",
             "linecolor": "white",
             "minorgridcolor": "white",
             "startlinecolor": "#2a3f5f"
            },
            "baxis": {
             "endlinecolor": "#2a3f5f",
             "gridcolor": "white",
             "linecolor": "white",
             "minorgridcolor": "white",
             "startlinecolor": "#2a3f5f"
            },
            "type": "carpet"
           }
          ],
          "choropleth": [
           {
            "colorbar": {
             "outlinewidth": 0,
             "ticks": ""
            },
            "type": "choropleth"
           }
          ],
          "contour": [
           {
            "colorbar": {
             "outlinewidth": 0,
             "ticks": ""
            },
            "colorscale": [
             [
              0,
              "#0d0887"
             ],
             [
              0.1111111111111111,
              "#46039f"
             ],
             [
              0.2222222222222222,
              "#7201a8"
             ],
             [
              0.3333333333333333,
              "#9c179e"
             ],
             [
              0.4444444444444444,
              "#bd3786"
             ],
             [
              0.5555555555555556,
              "#d8576b"
             ],
             [
              0.6666666666666666,
              "#ed7953"
             ],
             [
              0.7777777777777778,
              "#fb9f3a"
             ],
             [
              0.8888888888888888,
              "#fdca26"
             ],
             [
              1,
              "#f0f921"
             ]
            ],
            "type": "contour"
           }
          ],
          "contourcarpet": [
           {
            "colorbar": {
             "outlinewidth": 0,
             "ticks": ""
            },
            "type": "contourcarpet"
           }
          ],
          "heatmap": [
           {
            "colorbar": {
             "outlinewidth": 0,
             "ticks": ""
            },
            "colorscale": [
             [
              0,
              "#0d0887"
             ],
             [
              0.1111111111111111,
              "#46039f"
             ],
             [
              0.2222222222222222,
              "#7201a8"
             ],
             [
              0.3333333333333333,
              "#9c179e"
             ],
             [
              0.4444444444444444,
              "#bd3786"
             ],
             [
              0.5555555555555556,
              "#d8576b"
             ],
             [
              0.6666666666666666,
              "#ed7953"
             ],
             [
              0.7777777777777778,
              "#fb9f3a"
             ],
             [
              0.8888888888888888,
              "#fdca26"
             ],
             [
              1,
              "#f0f921"
             ]
            ],
            "type": "heatmap"
           }
          ],
          "heatmapgl": [
           {
            "colorbar": {
             "outlinewidth": 0,
             "ticks": ""
            },
            "colorscale": [
             [
              0,
              "#0d0887"
             ],
             [
              0.1111111111111111,
              "#46039f"
             ],
             [
              0.2222222222222222,
              "#7201a8"
             ],
             [
              0.3333333333333333,
              "#9c179e"
             ],
             [
              0.4444444444444444,
              "#bd3786"
             ],
             [
              0.5555555555555556,
              "#d8576b"
             ],
             [
              0.6666666666666666,
              "#ed7953"
             ],
             [
              0.7777777777777778,
              "#fb9f3a"
             ],
             [
              0.8888888888888888,
              "#fdca26"
             ],
             [
              1,
              "#f0f921"
             ]
            ],
            "type": "heatmapgl"
           }
          ],
          "histogram": [
           {
            "marker": {
             "pattern": {
              "fillmode": "overlay",
              "size": 10,
              "solidity": 0.2
             }
            },
            "type": "histogram"
           }
          ],
          "histogram2d": [
           {
            "colorbar": {
             "outlinewidth": 0,
             "ticks": ""
            },
            "colorscale": [
             [
              0,
              "#0d0887"
             ],
             [
              0.1111111111111111,
              "#46039f"
             ],
             [
              0.2222222222222222,
              "#7201a8"
             ],
             [
              0.3333333333333333,
              "#9c179e"
             ],
             [
              0.4444444444444444,
              "#bd3786"
             ],
             [
              0.5555555555555556,
              "#d8576b"
             ],
             [
              0.6666666666666666,
              "#ed7953"
             ],
             [
              0.7777777777777778,
              "#fb9f3a"
             ],
             [
              0.8888888888888888,
              "#fdca26"
             ],
             [
              1,
              "#f0f921"
             ]
            ],
            "type": "histogram2d"
           }
          ],
          "histogram2dcontour": [
           {
            "colorbar": {
             "outlinewidth": 0,
             "ticks": ""
            },
            "colorscale": [
             [
              0,
              "#0d0887"
             ],
             [
              0.1111111111111111,
              "#46039f"
             ],
             [
              0.2222222222222222,
              "#7201a8"
             ],
             [
              0.3333333333333333,
              "#9c179e"
             ],
             [
              0.4444444444444444,
              "#bd3786"
             ],
             [
              0.5555555555555556,
              "#d8576b"
             ],
             [
              0.6666666666666666,
              "#ed7953"
             ],
             [
              0.7777777777777778,
              "#fb9f3a"
             ],
             [
              0.8888888888888888,
              "#fdca26"
             ],
             [
              1,
              "#f0f921"
             ]
            ],
            "type": "histogram2dcontour"
           }
          ],
          "mesh3d": [
           {
            "colorbar": {
             "outlinewidth": 0,
             "ticks": ""
            },
            "type": "mesh3d"
           }
          ],
          "parcoords": [
           {
            "line": {
             "colorbar": {
              "outlinewidth": 0,
              "ticks": ""
             }
            },
            "type": "parcoords"
           }
          ],
          "pie": [
           {
            "automargin": true,
            "type": "pie"
           }
          ],
          "scatter": [
           {
            "fillpattern": {
             "fillmode": "overlay",
             "size": 10,
             "solidity": 0.2
            },
            "type": "scatter"
           }
          ],
          "scatter3d": [
           {
            "line": {
             "colorbar": {
              "outlinewidth": 0,
              "ticks": ""
             }
            },
            "marker": {
             "colorbar": {
              "outlinewidth": 0,
              "ticks": ""
             }
            },
            "type": "scatter3d"
           }
          ],
          "scattercarpet": [
           {
            "marker": {
             "colorbar": {
              "outlinewidth": 0,
              "ticks": ""
             }
            },
            "type": "scattercarpet"
           }
          ],
          "scattergeo": [
           {
            "marker": {
             "colorbar": {
              "outlinewidth": 0,
              "ticks": ""
             }
            },
            "type": "scattergeo"
           }
          ],
          "scattergl": [
           {
            "marker": {
             "colorbar": {
              "outlinewidth": 0,
              "ticks": ""
             }
            },
            "type": "scattergl"
           }
          ],
          "scattermapbox": [
           {
            "marker": {
             "colorbar": {
              "outlinewidth": 0,
              "ticks": ""
             }
            },
            "type": "scattermapbox"
           }
          ],
          "scatterpolar": [
           {
            "marker": {
             "colorbar": {
              "outlinewidth": 0,
              "ticks": ""
             }
            },
            "type": "scatterpolar"
           }
          ],
          "scatterpolargl": [
           {
            "marker": {
             "colorbar": {
              "outlinewidth": 0,
              "ticks": ""
             }
            },
            "type": "scatterpolargl"
           }
          ],
          "scatterternary": [
           {
            "marker": {
             "colorbar": {
              "outlinewidth": 0,
              "ticks": ""
             }
            },
            "type": "scatterternary"
           }
          ],
          "surface": [
           {
            "colorbar": {
             "outlinewidth": 0,
             "ticks": ""
            },
            "colorscale": [
             [
              0,
              "#0d0887"
             ],
             [
              0.1111111111111111,
              "#46039f"
             ],
             [
              0.2222222222222222,
              "#7201a8"
             ],
             [
              0.3333333333333333,
              "#9c179e"
             ],
             [
              0.4444444444444444,
              "#bd3786"
             ],
             [
              0.5555555555555556,
              "#d8576b"
             ],
             [
              0.6666666666666666,
              "#ed7953"
             ],
             [
              0.7777777777777778,
              "#fb9f3a"
             ],
             [
              0.8888888888888888,
              "#fdca26"
             ],
             [
              1,
              "#f0f921"
             ]
            ],
            "type": "surface"
           }
          ],
          "table": [
           {
            "cells": {
             "fill": {
              "color": "#EBF0F8"
             },
             "line": {
              "color": "white"
             }
            },
            "header": {
             "fill": {
              "color": "#C8D4E3"
             },
             "line": {
              "color": "white"
             }
            },
            "type": "table"
           }
          ]
         },
         "layout": {
          "annotationdefaults": {
           "arrowcolor": "#2a3f5f",
           "arrowhead": 0,
           "arrowwidth": 1
          },
          "autotypenumbers": "strict",
          "coloraxis": {
           "colorbar": {
            "outlinewidth": 0,
            "ticks": ""
           }
          },
          "colorscale": {
           "diverging": [
            [
             0,
             "#8e0152"
            ],
            [
             0.1,
             "#c51b7d"
            ],
            [
             0.2,
             "#de77ae"
            ],
            [
             0.3,
             "#f1b6da"
            ],
            [
             0.4,
             "#fde0ef"
            ],
            [
             0.5,
             "#f7f7f7"
            ],
            [
             0.6,
             "#e6f5d0"
            ],
            [
             0.7,
             "#b8e186"
            ],
            [
             0.8,
             "#7fbc41"
            ],
            [
             0.9,
             "#4d9221"
            ],
            [
             1,
             "#276419"
            ]
           ],
           "sequential": [
            [
             0,
             "#0d0887"
            ],
            [
             0.1111111111111111,
             "#46039f"
            ],
            [
             0.2222222222222222,
             "#7201a8"
            ],
            [
             0.3333333333333333,
             "#9c179e"
            ],
            [
             0.4444444444444444,
             "#bd3786"
            ],
            [
             0.5555555555555556,
             "#d8576b"
            ],
            [
             0.6666666666666666,
             "#ed7953"
            ],
            [
             0.7777777777777778,
             "#fb9f3a"
            ],
            [
             0.8888888888888888,
             "#fdca26"
            ],
            [
             1,
             "#f0f921"
            ]
           ],
           "sequentialminus": [
            [
             0,
             "#0d0887"
            ],
            [
             0.1111111111111111,
             "#46039f"
            ],
            [
             0.2222222222222222,
             "#7201a8"
            ],
            [
             0.3333333333333333,
             "#9c179e"
            ],
            [
             0.4444444444444444,
             "#bd3786"
            ],
            [
             0.5555555555555556,
             "#d8576b"
            ],
            [
             0.6666666666666666,
             "#ed7953"
            ],
            [
             0.7777777777777778,
             "#fb9f3a"
            ],
            [
             0.8888888888888888,
             "#fdca26"
            ],
            [
             1,
             "#f0f921"
            ]
           ]
          },
          "colorway": [
           "#636efa",
           "#EF553B",
           "#00cc96",
           "#ab63fa",
           "#FFA15A",
           "#19d3f3",
           "#FF6692",
           "#B6E880",
           "#FF97FF",
           "#FECB52"
          ],
          "font": {
           "color": "#2a3f5f"
          },
          "geo": {
           "bgcolor": "white",
           "lakecolor": "white",
           "landcolor": "#E5ECF6",
           "showlakes": true,
           "showland": true,
           "subunitcolor": "white"
          },
          "hoverlabel": {
           "align": "left"
          },
          "hovermode": "closest",
          "mapbox": {
           "style": "light"
          },
          "paper_bgcolor": "white",
          "plot_bgcolor": "#E5ECF6",
          "polar": {
           "angularaxis": {
            "gridcolor": "white",
            "linecolor": "white",
            "ticks": ""
           },
           "bgcolor": "#E5ECF6",
           "radialaxis": {
            "gridcolor": "white",
            "linecolor": "white",
            "ticks": ""
           }
          },
          "scene": {
           "xaxis": {
            "backgroundcolor": "#E5ECF6",
            "gridcolor": "white",
            "gridwidth": 2,
            "linecolor": "white",
            "showbackground": true,
            "ticks": "",
            "zerolinecolor": "white"
           },
           "yaxis": {
            "backgroundcolor": "#E5ECF6",
            "gridcolor": "white",
            "gridwidth": 2,
            "linecolor": "white",
            "showbackground": true,
            "ticks": "",
            "zerolinecolor": "white"
           },
           "zaxis": {
            "backgroundcolor": "#E5ECF6",
            "gridcolor": "white",
            "gridwidth": 2,
            "linecolor": "white",
            "showbackground": true,
            "ticks": "",
            "zerolinecolor": "white"
           }
          },
          "shapedefaults": {
           "line": {
            "color": "#2a3f5f"
           }
          },
          "ternary": {
           "aaxis": {
            "gridcolor": "white",
            "linecolor": "white",
            "ticks": ""
           },
           "baxis": {
            "gridcolor": "white",
            "linecolor": "white",
            "ticks": ""
           },
           "bgcolor": "#E5ECF6",
           "caxis": {
            "gridcolor": "white",
            "linecolor": "white",
            "ticks": ""
           }
          },
          "title": {
           "x": 0.05
          },
          "xaxis": {
           "automargin": true,
           "gridcolor": "white",
           "linecolor": "white",
           "ticks": "",
           "title": {
            "standoff": 15
           },
           "zerolinecolor": "white",
           "zerolinewidth": 2
          },
          "yaxis": {
           "automargin": true,
           "gridcolor": "white",
           "linecolor": "white",
           "ticks": "",
           "title": {
            "standoff": 15
           },
           "zerolinecolor": "white",
           "zerolinewidth": 2
          }
         }
        },
        "title": {
         "text": "Number of Sightings during Inclement Weather for Cities with Highest Sightings Count"
        },
        "xaxis": {
         "title": {
          "text": "City"
         }
        },
        "yaxis": {
         "dtick": 1000,
         "gridcolor": "lightgray",
         "gridwidth": 0.5,
         "tickmode": "linear",
         "title": {
          "text": "Number of Sightings"
         }
        }
       }
      }
     },
     "metadata": {},
     "output_type": "display_data"
    },
    {
     "data": {
      "application/vnd.plotly.v1+json": {
       "config": {
        "displayModeBar": true,
        "plotlyServerURL": "https://plotly.com"
       },
       "data": [
        {
         "colorscale": [
          [
           0,
           "rgb(247,251,255)"
          ],
          [
           0.125,
           "rgb(222,235,247)"
          ],
          [
           0.25,
           "rgb(198,219,239)"
          ],
          [
           0.375,
           "rgb(158,202,225)"
          ],
          [
           0.5,
           "rgb(107,174,214)"
          ],
          [
           0.625,
           "rgb(66,146,198)"
          ],
          [
           0.75,
           "rgb(33,113,181)"
          ],
          [
           0.875,
           "rgb(8,81,156)"
          ],
          [
           1,
           "rgb(8,48,107)"
          ]
         ],
         "hovertemplate": "City: %{x}<br>Weather: %{y}<br>Number of Sightings: %{z}<br><extra></extra>",
         "reversescale": false,
         "type": "heatmap",
         "x": [
          "Albuquerque, NM",
          "Chicago, IL",
          "Las Vegas, NV",
          "Los Angeles, CA",
          "Orlando, FL",
          "Phoenix, AZ",
          "Portland, OR",
          "San Diego, CA",
          "Seattle, WA",
          "Tucson, AZ",
          "Albuquerque, NM",
          "Chicago, IL",
          "Las Vegas, NV",
          "Los Angeles, CA",
          "Orlando, FL",
          "Phoenix, AZ",
          "Portland, OR",
          "San Diego, CA",
          "Seattle, WA",
          "Tucson, AZ",
          "Albuquerque, NM",
          "Chicago, IL",
          "Las Vegas, NV",
          "Los Angeles, CA",
          "Orlando, FL",
          "Phoenix, AZ",
          "Portland, OR",
          "San Diego, CA",
          "Seattle, WA",
          "Tucson, AZ",
          "Albuquerque, NM",
          "Chicago, IL",
          "Las Vegas, NV",
          "Los Angeles, CA",
          "Orlando, FL",
          "Phoenix, AZ",
          "Portland, OR",
          "San Diego, CA",
          "Seattle, WA",
          "Tucson, AZ",
          "Albuquerque, NM",
          "Chicago, IL",
          "Las Vegas, NV",
          "Los Angeles, CA",
          "Orlando, FL",
          "Phoenix, AZ",
          "Portland, OR",
          "San Diego, CA",
          "Seattle, WA",
          "Tucson, AZ"
         ],
         "y": [
          "Foggy",
          "Foggy",
          "Foggy",
          "Foggy",
          "Foggy",
          "Foggy",
          "Foggy",
          "Foggy",
          "Foggy",
          "Foggy",
          "Dusty",
          "Dusty",
          "Dusty",
          "Dusty",
          "Dusty",
          "Dusty",
          "Dusty",
          "Dusty",
          "Dusty",
          "Dusty",
          "Hazey",
          "Hazey",
          "Hazey",
          "Hazey",
          "Hazey",
          "Hazey",
          "Hazey",
          "Hazey",
          "Hazey",
          "Hazey",
          "Windy",
          "Windy",
          "Windy",
          "Windy",
          "Windy",
          "Windy",
          "Windy",
          "Windy",
          "Windy",
          "Windy",
          "Rainy",
          "Rainy",
          "Rainy",
          "Rainy",
          "Rainy",
          "Rainy",
          "Rainy",
          "Rainy",
          "Rainy",
          "Rainy"
         ],
         "z": [
          169,
          553,
          35,
          562,
          281,
          13,
          619,
          393,
          481,
          44,
          128,
          90,
          147,
          439,
          0,
          96,
          3,
          388,
          37,
          6,
          365,
          4408,
          536,
          2673,
          671,
          178,
          482,
          2096,
          454,
          231,
          44,
          324,
          120,
          0,
          43,
          19,
          0,
          0,
          0,
          21,
          1034,
          3212,
          2014,
          651,
          1555,
          269,
          2243,
          824,
          2133,
          753
         ]
        }
       ],
       "layout": {
        "template": {
         "data": {
          "bar": [
           {
            "error_x": {
             "color": "#2a3f5f"
            },
            "error_y": {
             "color": "#2a3f5f"
            },
            "marker": {
             "line": {
              "color": "#E5ECF6",
              "width": 0.5
             },
             "pattern": {
              "fillmode": "overlay",
              "size": 10,
              "solidity": 0.2
             }
            },
            "type": "bar"
           }
          ],
          "barpolar": [
           {
            "marker": {
             "line": {
              "color": "#E5ECF6",
              "width": 0.5
             },
             "pattern": {
              "fillmode": "overlay",
              "size": 10,
              "solidity": 0.2
             }
            },
            "type": "barpolar"
           }
          ],
          "carpet": [
           {
            "aaxis": {
             "endlinecolor": "#2a3f5f",
             "gridcolor": "white",
             "linecolor": "white",
             "minorgridcolor": "white",
             "startlinecolor": "#2a3f5f"
            },
            "baxis": {
             "endlinecolor": "#2a3f5f",
             "gridcolor": "white",
             "linecolor": "white",
             "minorgridcolor": "white",
             "startlinecolor": "#2a3f5f"
            },
            "type": "carpet"
           }
          ],
          "choropleth": [
           {
            "colorbar": {
             "outlinewidth": 0,
             "ticks": ""
            },
            "type": "choropleth"
           }
          ],
          "contour": [
           {
            "colorbar": {
             "outlinewidth": 0,
             "ticks": ""
            },
            "colorscale": [
             [
              0,
              "#0d0887"
             ],
             [
              0.1111111111111111,
              "#46039f"
             ],
             [
              0.2222222222222222,
              "#7201a8"
             ],
             [
              0.3333333333333333,
              "#9c179e"
             ],
             [
              0.4444444444444444,
              "#bd3786"
             ],
             [
              0.5555555555555556,
              "#d8576b"
             ],
             [
              0.6666666666666666,
              "#ed7953"
             ],
             [
              0.7777777777777778,
              "#fb9f3a"
             ],
             [
              0.8888888888888888,
              "#fdca26"
             ],
             [
              1,
              "#f0f921"
             ]
            ],
            "type": "contour"
           }
          ],
          "contourcarpet": [
           {
            "colorbar": {
             "outlinewidth": 0,
             "ticks": ""
            },
            "type": "contourcarpet"
           }
          ],
          "heatmap": [
           {
            "colorbar": {
             "outlinewidth": 0,
             "ticks": ""
            },
            "colorscale": [
             [
              0,
              "#0d0887"
             ],
             [
              0.1111111111111111,
              "#46039f"
             ],
             [
              0.2222222222222222,
              "#7201a8"
             ],
             [
              0.3333333333333333,
              "#9c179e"
             ],
             [
              0.4444444444444444,
              "#bd3786"
             ],
             [
              0.5555555555555556,
              "#d8576b"
             ],
             [
              0.6666666666666666,
              "#ed7953"
             ],
             [
              0.7777777777777778,
              "#fb9f3a"
             ],
             [
              0.8888888888888888,
              "#fdca26"
             ],
             [
              1,
              "#f0f921"
             ]
            ],
            "type": "heatmap"
           }
          ],
          "heatmapgl": [
           {
            "colorbar": {
             "outlinewidth": 0,
             "ticks": ""
            },
            "colorscale": [
             [
              0,
              "#0d0887"
             ],
             [
              0.1111111111111111,
              "#46039f"
             ],
             [
              0.2222222222222222,
              "#7201a8"
             ],
             [
              0.3333333333333333,
              "#9c179e"
             ],
             [
              0.4444444444444444,
              "#bd3786"
             ],
             [
              0.5555555555555556,
              "#d8576b"
             ],
             [
              0.6666666666666666,
              "#ed7953"
             ],
             [
              0.7777777777777778,
              "#fb9f3a"
             ],
             [
              0.8888888888888888,
              "#fdca26"
             ],
             [
              1,
              "#f0f921"
             ]
            ],
            "type": "heatmapgl"
           }
          ],
          "histogram": [
           {
            "marker": {
             "pattern": {
              "fillmode": "overlay",
              "size": 10,
              "solidity": 0.2
             }
            },
            "type": "histogram"
           }
          ],
          "histogram2d": [
           {
            "colorbar": {
             "outlinewidth": 0,
             "ticks": ""
            },
            "colorscale": [
             [
              0,
              "#0d0887"
             ],
             [
              0.1111111111111111,
              "#46039f"
             ],
             [
              0.2222222222222222,
              "#7201a8"
             ],
             [
              0.3333333333333333,
              "#9c179e"
             ],
             [
              0.4444444444444444,
              "#bd3786"
             ],
             [
              0.5555555555555556,
              "#d8576b"
             ],
             [
              0.6666666666666666,
              "#ed7953"
             ],
             [
              0.7777777777777778,
              "#fb9f3a"
             ],
             [
              0.8888888888888888,
              "#fdca26"
             ],
             [
              1,
              "#f0f921"
             ]
            ],
            "type": "histogram2d"
           }
          ],
          "histogram2dcontour": [
           {
            "colorbar": {
             "outlinewidth": 0,
             "ticks": ""
            },
            "colorscale": [
             [
              0,
              "#0d0887"
             ],
             [
              0.1111111111111111,
              "#46039f"
             ],
             [
              0.2222222222222222,
              "#7201a8"
             ],
             [
              0.3333333333333333,
              "#9c179e"
             ],
             [
              0.4444444444444444,
              "#bd3786"
             ],
             [
              0.5555555555555556,
              "#d8576b"
             ],
             [
              0.6666666666666666,
              "#ed7953"
             ],
             [
              0.7777777777777778,
              "#fb9f3a"
             ],
             [
              0.8888888888888888,
              "#fdca26"
             ],
             [
              1,
              "#f0f921"
             ]
            ],
            "type": "histogram2dcontour"
           }
          ],
          "mesh3d": [
           {
            "colorbar": {
             "outlinewidth": 0,
             "ticks": ""
            },
            "type": "mesh3d"
           }
          ],
          "parcoords": [
           {
            "line": {
             "colorbar": {
              "outlinewidth": 0,
              "ticks": ""
             }
            },
            "type": "parcoords"
           }
          ],
          "pie": [
           {
            "automargin": true,
            "type": "pie"
           }
          ],
          "scatter": [
           {
            "fillpattern": {
             "fillmode": "overlay",
             "size": 10,
             "solidity": 0.2
            },
            "type": "scatter"
           }
          ],
          "scatter3d": [
           {
            "line": {
             "colorbar": {
              "outlinewidth": 0,
              "ticks": ""
             }
            },
            "marker": {
             "colorbar": {
              "outlinewidth": 0,
              "ticks": ""
             }
            },
            "type": "scatter3d"
           }
          ],
          "scattercarpet": [
           {
            "marker": {
             "colorbar": {
              "outlinewidth": 0,
              "ticks": ""
             }
            },
            "type": "scattercarpet"
           }
          ],
          "scattergeo": [
           {
            "marker": {
             "colorbar": {
              "outlinewidth": 0,
              "ticks": ""
             }
            },
            "type": "scattergeo"
           }
          ],
          "scattergl": [
           {
            "marker": {
             "colorbar": {
              "outlinewidth": 0,
              "ticks": ""
             }
            },
            "type": "scattergl"
           }
          ],
          "scattermapbox": [
           {
            "marker": {
             "colorbar": {
              "outlinewidth": 0,
              "ticks": ""
             }
            },
            "type": "scattermapbox"
           }
          ],
          "scatterpolar": [
           {
            "marker": {
             "colorbar": {
              "outlinewidth": 0,
              "ticks": ""
             }
            },
            "type": "scatterpolar"
           }
          ],
          "scatterpolargl": [
           {
            "marker": {
             "colorbar": {
              "outlinewidth": 0,
              "ticks": ""
             }
            },
            "type": "scatterpolargl"
           }
          ],
          "scatterternary": [
           {
            "marker": {
             "colorbar": {
              "outlinewidth": 0,
              "ticks": ""
             }
            },
            "type": "scatterternary"
           }
          ],
          "surface": [
           {
            "colorbar": {
             "outlinewidth": 0,
             "ticks": ""
            },
            "colorscale": [
             [
              0,
              "#0d0887"
             ],
             [
              0.1111111111111111,
              "#46039f"
             ],
             [
              0.2222222222222222,
              "#7201a8"
             ],
             [
              0.3333333333333333,
              "#9c179e"
             ],
             [
              0.4444444444444444,
              "#bd3786"
             ],
             [
              0.5555555555555556,
              "#d8576b"
             ],
             [
              0.6666666666666666,
              "#ed7953"
             ],
             [
              0.7777777777777778,
              "#fb9f3a"
             ],
             [
              0.8888888888888888,
              "#fdca26"
             ],
             [
              1,
              "#f0f921"
             ]
            ],
            "type": "surface"
           }
          ],
          "table": [
           {
            "cells": {
             "fill": {
              "color": "#EBF0F8"
             },
             "line": {
              "color": "white"
             }
            },
            "header": {
             "fill": {
              "color": "#C8D4E3"
             },
             "line": {
              "color": "white"
             }
            },
            "type": "table"
           }
          ]
         },
         "layout": {
          "annotationdefaults": {
           "arrowcolor": "#2a3f5f",
           "arrowhead": 0,
           "arrowwidth": 1
          },
          "autotypenumbers": "strict",
          "coloraxis": {
           "colorbar": {
            "outlinewidth": 0,
            "ticks": ""
           }
          },
          "colorscale": {
           "diverging": [
            [
             0,
             "#8e0152"
            ],
            [
             0.1,
             "#c51b7d"
            ],
            [
             0.2,
             "#de77ae"
            ],
            [
             0.3,
             "#f1b6da"
            ],
            [
             0.4,
             "#fde0ef"
            ],
            [
             0.5,
             "#f7f7f7"
            ],
            [
             0.6,
             "#e6f5d0"
            ],
            [
             0.7,
             "#b8e186"
            ],
            [
             0.8,
             "#7fbc41"
            ],
            [
             0.9,
             "#4d9221"
            ],
            [
             1,
             "#276419"
            ]
           ],
           "sequential": [
            [
             0,
             "#0d0887"
            ],
            [
             0.1111111111111111,
             "#46039f"
            ],
            [
             0.2222222222222222,
             "#7201a8"
            ],
            [
             0.3333333333333333,
             "#9c179e"
            ],
            [
             0.4444444444444444,
             "#bd3786"
            ],
            [
             0.5555555555555556,
             "#d8576b"
            ],
            [
             0.6666666666666666,
             "#ed7953"
            ],
            [
             0.7777777777777778,
             "#fb9f3a"
            ],
            [
             0.8888888888888888,
             "#fdca26"
            ],
            [
             1,
             "#f0f921"
            ]
           ],
           "sequentialminus": [
            [
             0,
             "#0d0887"
            ],
            [
             0.1111111111111111,
             "#46039f"
            ],
            [
             0.2222222222222222,
             "#7201a8"
            ],
            [
             0.3333333333333333,
             "#9c179e"
            ],
            [
             0.4444444444444444,
             "#bd3786"
            ],
            [
             0.5555555555555556,
             "#d8576b"
            ],
            [
             0.6666666666666666,
             "#ed7953"
            ],
            [
             0.7777777777777778,
             "#fb9f3a"
            ],
            [
             0.8888888888888888,
             "#fdca26"
            ],
            [
             1,
             "#f0f921"
            ]
           ]
          },
          "colorway": [
           "#636efa",
           "#EF553B",
           "#00cc96",
           "#ab63fa",
           "#FFA15A",
           "#19d3f3",
           "#FF6692",
           "#B6E880",
           "#FF97FF",
           "#FECB52"
          ],
          "font": {
           "color": "#2a3f5f"
          },
          "geo": {
           "bgcolor": "white",
           "lakecolor": "white",
           "landcolor": "#E5ECF6",
           "showlakes": true,
           "showland": true,
           "subunitcolor": "white"
          },
          "hoverlabel": {
           "align": "left"
          },
          "hovermode": "closest",
          "mapbox": {
           "style": "light"
          },
          "paper_bgcolor": "white",
          "plot_bgcolor": "#E5ECF6",
          "polar": {
           "angularaxis": {
            "gridcolor": "white",
            "linecolor": "white",
            "ticks": ""
           },
           "bgcolor": "#E5ECF6",
           "radialaxis": {
            "gridcolor": "white",
            "linecolor": "white",
            "ticks": ""
           }
          },
          "scene": {
           "xaxis": {
            "backgroundcolor": "#E5ECF6",
            "gridcolor": "white",
            "gridwidth": 2,
            "linecolor": "white",
            "showbackground": true,
            "ticks": "",
            "zerolinecolor": "white"
           },
           "yaxis": {
            "backgroundcolor": "#E5ECF6",
            "gridcolor": "white",
            "gridwidth": 2,
            "linecolor": "white",
            "showbackground": true,
            "ticks": "",
            "zerolinecolor": "white"
           },
           "zaxis": {
            "backgroundcolor": "#E5ECF6",
            "gridcolor": "white",
            "gridwidth": 2,
            "linecolor": "white",
            "showbackground": true,
            "ticks": "",
            "zerolinecolor": "white"
           }
          },
          "shapedefaults": {
           "line": {
            "color": "#2a3f5f"
           }
          },
          "ternary": {
           "aaxis": {
            "gridcolor": "white",
            "linecolor": "white",
            "ticks": ""
           },
           "baxis": {
            "gridcolor": "white",
            "linecolor": "white",
            "ticks": ""
           },
           "bgcolor": "#E5ECF6",
           "caxis": {
            "gridcolor": "white",
            "linecolor": "white",
            "ticks": ""
           }
          },
          "title": {
           "x": 0.05
          },
          "xaxis": {
           "automargin": true,
           "gridcolor": "white",
           "linecolor": "white",
           "ticks": "",
           "title": {
            "standoff": 15
           },
           "zerolinecolor": "white",
           "zerolinewidth": 2
          },
          "yaxis": {
           "automargin": true,
           "gridcolor": "white",
           "linecolor": "white",
           "ticks": "",
           "title": {
            "standoff": 15
           },
           "zerolinecolor": "white",
           "zerolinewidth": 2
          }
         }
        },
        "title": {
         "text": "Correlation between Inclement Weather and UFO Sightings in Cities with Highest Sightings Count"
        },
        "xaxis": {
         "anchor": "y",
         "domain": [
          0,
          1
         ],
         "title": {
          "text": "City"
         }
        },
        "yaxis": {
         "anchor": "x",
         "automargin": true,
         "domain": [
          0,
          1
         ],
         "tickmode": "array",
         "ticktext": [
          "Foggy",
          "Foggy",
          "Foggy",
          "Foggy",
          "Foggy",
          "Foggy",
          "Foggy",
          "Foggy",
          "Foggy",
          "Foggy",
          "Dusty",
          "Dusty",
          "Dusty",
          "Dusty",
          "Dusty",
          "Dusty",
          "Dusty",
          "Dusty",
          "Dusty",
          "Dusty",
          "Hazey",
          "Hazey",
          "Hazey",
          "Hazey",
          "Hazey",
          "Hazey",
          "Hazey",
          "Hazey",
          "Hazey",
          "Hazey",
          "Windy",
          "Windy",
          "Windy",
          "Windy",
          "Windy",
          "Windy",
          "Windy",
          "Windy",
          "Windy",
          "Windy",
          "Rainy",
          "Rainy",
          "Rainy",
          "Rainy",
          "Rainy",
          "Rainy",
          "Rainy",
          "Rainy",
          "Rainy",
          "Rainy"
         ],
         "title": {
          "text": "Weather Descriptions"
         }
        }
       }
      }
     },
     "metadata": {},
     "output_type": "display_data"
    }
   ],
   "source": [
    "import plotly.graph_objects as go\n",
    "import plotly.subplots as sp\n",
    "from plotly.subplots import make_subplots\n",
    "import plotly.io as pio\n",
    "\n",
    "# Filter the dataframe to only include rows where the weather variables are equal to 1\n",
    "df_filtered = df_weather_ufo[(df_weather_ufo['WT02'] == 1) | (df_weather_ufo['WT07'] == 1) | (df_weather_ufo['WT08'] == 1) | (df_weather_ufo['WT11'] == 1) | (df_weather_ufo['WT16'] == 1)]\n",
    "\n",
    "# Group data by city and calculate the count of sightings for each weather variable\n",
    "df_grouped = df_filtered.groupby(['Address']).sum(numeric_only=True).reset_index()\n",
    "\n",
    "# map the weather variable names to the corresponding weather description\n",
    "\n",
    "weather_desc_map = {'WT02': 'Foggy',\n",
    "                    'WT07': 'Dusty',\n",
    "                    'WT08': 'Hazey',\n",
    "                    'WT11': 'Windy',\n",
    "                    'WT16': 'Rainy'}\n",
    "\n",
    "# Convert the wide format to long format for Plotly\n",
    "df_melt = pd.melt(df_grouped, id_vars=['Address'], value_vars=[\"WT02\", \"WT07\", \"WT08\", \"WT11\", \"WT16\"],\n",
    "                  var_name=\"Weather\", value_name=\"Number_of_Sightings\")\n",
    "\n",
    "df_melt['weather'] = df_melt['Weather'].map(weather_desc_map)\n",
    "\n",
    "# Define custom color sequence\n",
    "custom_colors = ['#3E93AB', '#A8DFF7', '#25536D', '#57899C', '#B5D1D4', '#2F4E48']\n",
    "\n",
    "# Create a bar chart with color set to Weather and barmode set to 'group', and update color sequence\n",
    "fig = go.Figure()\n",
    "for Weather, color in zip(df_melt['weather'].unique(), custom_colors):\n",
    "    df_filtered_weather = df_melt[df_melt['weather'] == Weather]\n",
    "    fig.add_trace(go.Bar(x=df_filtered_weather['Address'], y=df_filtered_weather['Number_of_Sightings'],\n",
    "                         name=Weather, marker_color=color))\n",
    "fig.update_xaxes(title=\"City\")\n",
    "fig.update_yaxes(title=\"Number of Sightings\",\n",
    "                tickmode='linear',  # Set tickmode to 'linear'\n",
    "                dtick=1000,         # Set dtick to 1000 to show grid lines at every 1000 value\n",
    "                gridcolor='lightgray',  # Set grid color\n",
    "                gridwidth=0.5)     # Set grid width\n",
    "fig.update_layout(title=\"Number of Sightings during Inclement Weather for Cities with Highest Sightings Count\", \n",
    "                  plot_bgcolor='white', paper_bgcolor='white')\n",
    "\n",
    "# Create a subplot with heatmap\n",
    "heatmap_fig = sp.make_subplots(rows=1, cols=1)\n",
    "heatmap = go.Heatmap(\n",
    "    z=df_melt.Number_of_Sightings,  # Transpose the DataFrame for proper heatmap orientation\n",
    "    x=df_melt.Address,\n",
    "    y=df_melt.weather,  # Use the mapped weather descriptions as y-axis labels\n",
    "    colorscale='Blues',\n",
    "    reversescale=False,\n",
    "    hovertemplate='City: %{x}<br>' +  # Set tooltip template to show x-axis label\n",
    "                  'Weather: %{y}<br>' +  # Set tooltip template to show y-axis label\n",
    "                  'Number of Sightings: %{z}<br><extra></extra>',  # Set tooltip template to show z-axis label\n",
    ")\n",
    "heatmap_fig.add_trace(heatmap)\n",
    "heatmap_fig.update_xaxes(title_text='City')\n",
    "heatmap_fig.update_yaxes(title_text='Weather Descriptions', tickmode='array', ticktext=df_melt['weather'],\n",
    "                         automargin=True)\n",
    "heatmap_fig.update_layout(title_text='Correlation between Inclement Weather and UFO Sightings in Cities with Highest Sightings Count')  # Adjust left margin to shift the plot to the left\n",
    "\n",
    "# Enable cross-filter\n",
    "fig.show(config={'displayModeBar': True})\n",
    "heatmap_fig.show(config={'displayModeBar': True})\n",
    "\n",
    "# Save both plots in a single HTML file\n",
    "pio.write_html(fig, 'column_chart.html', config={'displayModeBar': True})\n",
    "pio.write_html(heatmap_fig, 'heatmap.html', config={'displayModeBar': True})\n",
    "\n",
    "# Concatenate the contents of both HTML files into a single file\n",
    "with open('column_chart.html', 'r') as f:\n",
    "    plot1_content = f.read()\n",
    "with open('heatmap.html', 'r') as f:\n",
    "    plot2_content = f.read()\n",
    "\n",
    "with open('combined_plots.html', 'w') as f:\n",
    "    f.write(plot1_content)\n",
    "    f.write(plot2_content)"
   ]
  },
  {
   "cell_type": "code",
   "execution_count": 433,
   "metadata": {},
   "outputs": [
    {
     "data": {
      "application/vnd.plotly.v1+json": {
       "config": {
        "displayModeBar": true,
        "plotlyServerURL": "https://plotly.com"
       },
       "data": [
        {
         "marker": {
          "color": "#3E93AB"
         },
         "name": "Heavy fog or heaving freezing fog",
         "type": "bar",
         "x": [
          "Albuquerque, NM",
          "Chicago, IL",
          "Las Vegas, NV",
          "Los Angeles, CA",
          "Orlando, FL",
          "Phoenix, AZ",
          "Portland, OR",
          "San Diego, CA",
          "Seattle, WA",
          "Tucson, AZ"
         ],
         "y": [
          169,
          553,
          35,
          562,
          281,
          13,
          619,
          393,
          481,
          44
         ]
        },
        {
         "marker": {
          "color": "#A8DFF7"
         },
         "name": "Dust, volcanic ash, blowing dust/sand, or blowing obstruction",
         "type": "bar",
         "x": [
          "Albuquerque, NM",
          "Chicago, IL",
          "Las Vegas, NV",
          "Los Angeles, CA",
          "Orlando, FL",
          "Phoenix, AZ",
          "Portland, OR",
          "San Diego, CA",
          "Seattle, WA",
          "Tucson, AZ"
         ],
         "y": [
          128,
          90,
          147,
          439,
          0,
          96,
          3,
          388,
          37,
          6
         ]
        },
        {
         "marker": {
          "color": "#25536D"
         },
         "name": "Smoke or haze",
         "type": "bar",
         "x": [
          "Albuquerque, NM",
          "Chicago, IL",
          "Las Vegas, NV",
          "Los Angeles, CA",
          "Orlando, FL",
          "Phoenix, AZ",
          "Portland, OR",
          "San Diego, CA",
          "Seattle, WA",
          "Tucson, AZ"
         ],
         "y": [
          365,
          4408,
          536,
          2673,
          671,
          178,
          482,
          2096,
          454,
          231
         ]
        },
        {
         "marker": {
          "color": "#57899C"
         },
         "name": "High or damaging winds",
         "type": "bar",
         "x": [
          "Albuquerque, NM",
          "Chicago, IL",
          "Las Vegas, NV",
          "Los Angeles, CA",
          "Orlando, FL",
          "Phoenix, AZ",
          "Portland, OR",
          "San Diego, CA",
          "Seattle, WA",
          "Tucson, AZ"
         ],
         "y": [
          44,
          324,
          120,
          0,
          43,
          19,
          0,
          0,
          0,
          21
         ]
        },
        {
         "marker": {
          "color": "#B5D1D4"
         },
         "name": "Rain, drizzle, and freezing drizzle",
         "type": "bar",
         "x": [
          "Albuquerque, NM",
          "Chicago, IL",
          "Las Vegas, NV",
          "Los Angeles, CA",
          "Orlando, FL",
          "Phoenix, AZ",
          "Portland, OR",
          "San Diego, CA",
          "Seattle, WA",
          "Tucson, AZ"
         ],
         "y": [
          1034,
          3212,
          2014,
          651,
          1555,
          269,
          2243,
          824,
          2133,
          753
         ]
        }
       ],
       "layout": {
        "paper_bgcolor": "white",
        "plot_bgcolor": "white",
        "template": {
         "data": {
          "bar": [
           {
            "error_x": {
             "color": "#2a3f5f"
            },
            "error_y": {
             "color": "#2a3f5f"
            },
            "marker": {
             "line": {
              "color": "#E5ECF6",
              "width": 0.5
             },
             "pattern": {
              "fillmode": "overlay",
              "size": 10,
              "solidity": 0.2
             }
            },
            "type": "bar"
           }
          ],
          "barpolar": [
           {
            "marker": {
             "line": {
              "color": "#E5ECF6",
              "width": 0.5
             },
             "pattern": {
              "fillmode": "overlay",
              "size": 10,
              "solidity": 0.2
             }
            },
            "type": "barpolar"
           }
          ],
          "carpet": [
           {
            "aaxis": {
             "endlinecolor": "#2a3f5f",
             "gridcolor": "white",
             "linecolor": "white",
             "minorgridcolor": "white",
             "startlinecolor": "#2a3f5f"
            },
            "baxis": {
             "endlinecolor": "#2a3f5f",
             "gridcolor": "white",
             "linecolor": "white",
             "minorgridcolor": "white",
             "startlinecolor": "#2a3f5f"
            },
            "type": "carpet"
           }
          ],
          "choropleth": [
           {
            "colorbar": {
             "outlinewidth": 0,
             "ticks": ""
            },
            "type": "choropleth"
           }
          ],
          "contour": [
           {
            "colorbar": {
             "outlinewidth": 0,
             "ticks": ""
            },
            "colorscale": [
             [
              0,
              "#0d0887"
             ],
             [
              0.1111111111111111,
              "#46039f"
             ],
             [
              0.2222222222222222,
              "#7201a8"
             ],
             [
              0.3333333333333333,
              "#9c179e"
             ],
             [
              0.4444444444444444,
              "#bd3786"
             ],
             [
              0.5555555555555556,
              "#d8576b"
             ],
             [
              0.6666666666666666,
              "#ed7953"
             ],
             [
              0.7777777777777778,
              "#fb9f3a"
             ],
             [
              0.8888888888888888,
              "#fdca26"
             ],
             [
              1,
              "#f0f921"
             ]
            ],
            "type": "contour"
           }
          ],
          "contourcarpet": [
           {
            "colorbar": {
             "outlinewidth": 0,
             "ticks": ""
            },
            "type": "contourcarpet"
           }
          ],
          "heatmap": [
           {
            "colorbar": {
             "outlinewidth": 0,
             "ticks": ""
            },
            "colorscale": [
             [
              0,
              "#0d0887"
             ],
             [
              0.1111111111111111,
              "#46039f"
             ],
             [
              0.2222222222222222,
              "#7201a8"
             ],
             [
              0.3333333333333333,
              "#9c179e"
             ],
             [
              0.4444444444444444,
              "#bd3786"
             ],
             [
              0.5555555555555556,
              "#d8576b"
             ],
             [
              0.6666666666666666,
              "#ed7953"
             ],
             [
              0.7777777777777778,
              "#fb9f3a"
             ],
             [
              0.8888888888888888,
              "#fdca26"
             ],
             [
              1,
              "#f0f921"
             ]
            ],
            "type": "heatmap"
           }
          ],
          "heatmapgl": [
           {
            "colorbar": {
             "outlinewidth": 0,
             "ticks": ""
            },
            "colorscale": [
             [
              0,
              "#0d0887"
             ],
             [
              0.1111111111111111,
              "#46039f"
             ],
             [
              0.2222222222222222,
              "#7201a8"
             ],
             [
              0.3333333333333333,
              "#9c179e"
             ],
             [
              0.4444444444444444,
              "#bd3786"
             ],
             [
              0.5555555555555556,
              "#d8576b"
             ],
             [
              0.6666666666666666,
              "#ed7953"
             ],
             [
              0.7777777777777778,
              "#fb9f3a"
             ],
             [
              0.8888888888888888,
              "#fdca26"
             ],
             [
              1,
              "#f0f921"
             ]
            ],
            "type": "heatmapgl"
           }
          ],
          "histogram": [
           {
            "marker": {
             "pattern": {
              "fillmode": "overlay",
              "size": 10,
              "solidity": 0.2
             }
            },
            "type": "histogram"
           }
          ],
          "histogram2d": [
           {
            "colorbar": {
             "outlinewidth": 0,
             "ticks": ""
            },
            "colorscale": [
             [
              0,
              "#0d0887"
             ],
             [
              0.1111111111111111,
              "#46039f"
             ],
             [
              0.2222222222222222,
              "#7201a8"
             ],
             [
              0.3333333333333333,
              "#9c179e"
             ],
             [
              0.4444444444444444,
              "#bd3786"
             ],
             [
              0.5555555555555556,
              "#d8576b"
             ],
             [
              0.6666666666666666,
              "#ed7953"
             ],
             [
              0.7777777777777778,
              "#fb9f3a"
             ],
             [
              0.8888888888888888,
              "#fdca26"
             ],
             [
              1,
              "#f0f921"
             ]
            ],
            "type": "histogram2d"
           }
          ],
          "histogram2dcontour": [
           {
            "colorbar": {
             "outlinewidth": 0,
             "ticks": ""
            },
            "colorscale": [
             [
              0,
              "#0d0887"
             ],
             [
              0.1111111111111111,
              "#46039f"
             ],
             [
              0.2222222222222222,
              "#7201a8"
             ],
             [
              0.3333333333333333,
              "#9c179e"
             ],
             [
              0.4444444444444444,
              "#bd3786"
             ],
             [
              0.5555555555555556,
              "#d8576b"
             ],
             [
              0.6666666666666666,
              "#ed7953"
             ],
             [
              0.7777777777777778,
              "#fb9f3a"
             ],
             [
              0.8888888888888888,
              "#fdca26"
             ],
             [
              1,
              "#f0f921"
             ]
            ],
            "type": "histogram2dcontour"
           }
          ],
          "mesh3d": [
           {
            "colorbar": {
             "outlinewidth": 0,
             "ticks": ""
            },
            "type": "mesh3d"
           }
          ],
          "parcoords": [
           {
            "line": {
             "colorbar": {
              "outlinewidth": 0,
              "ticks": ""
             }
            },
            "type": "parcoords"
           }
          ],
          "pie": [
           {
            "automargin": true,
            "type": "pie"
           }
          ],
          "scatter": [
           {
            "fillpattern": {
             "fillmode": "overlay",
             "size": 10,
             "solidity": 0.2
            },
            "type": "scatter"
           }
          ],
          "scatter3d": [
           {
            "line": {
             "colorbar": {
              "outlinewidth": 0,
              "ticks": ""
             }
            },
            "marker": {
             "colorbar": {
              "outlinewidth": 0,
              "ticks": ""
             }
            },
            "type": "scatter3d"
           }
          ],
          "scattercarpet": [
           {
            "marker": {
             "colorbar": {
              "outlinewidth": 0,
              "ticks": ""
             }
            },
            "type": "scattercarpet"
           }
          ],
          "scattergeo": [
           {
            "marker": {
             "colorbar": {
              "outlinewidth": 0,
              "ticks": ""
             }
            },
            "type": "scattergeo"
           }
          ],
          "scattergl": [
           {
            "marker": {
             "colorbar": {
              "outlinewidth": 0,
              "ticks": ""
             }
            },
            "type": "scattergl"
           }
          ],
          "scattermapbox": [
           {
            "marker": {
             "colorbar": {
              "outlinewidth": 0,
              "ticks": ""
             }
            },
            "type": "scattermapbox"
           }
          ],
          "scatterpolar": [
           {
            "marker": {
             "colorbar": {
              "outlinewidth": 0,
              "ticks": ""
             }
            },
            "type": "scatterpolar"
           }
          ],
          "scatterpolargl": [
           {
            "marker": {
             "colorbar": {
              "outlinewidth": 0,
              "ticks": ""
             }
            },
            "type": "scatterpolargl"
           }
          ],
          "scatterternary": [
           {
            "marker": {
             "colorbar": {
              "outlinewidth": 0,
              "ticks": ""
             }
            },
            "type": "scatterternary"
           }
          ],
          "surface": [
           {
            "colorbar": {
             "outlinewidth": 0,
             "ticks": ""
            },
            "colorscale": [
             [
              0,
              "#0d0887"
             ],
             [
              0.1111111111111111,
              "#46039f"
             ],
             [
              0.2222222222222222,
              "#7201a8"
             ],
             [
              0.3333333333333333,
              "#9c179e"
             ],
             [
              0.4444444444444444,
              "#bd3786"
             ],
             [
              0.5555555555555556,
              "#d8576b"
             ],
             [
              0.6666666666666666,
              "#ed7953"
             ],
             [
              0.7777777777777778,
              "#fb9f3a"
             ],
             [
              0.8888888888888888,
              "#fdca26"
             ],
             [
              1,
              "#f0f921"
             ]
            ],
            "type": "surface"
           }
          ],
          "table": [
           {
            "cells": {
             "fill": {
              "color": "#EBF0F8"
             },
             "line": {
              "color": "white"
             }
            },
            "header": {
             "fill": {
              "color": "#C8D4E3"
             },
             "line": {
              "color": "white"
             }
            },
            "type": "table"
           }
          ]
         },
         "layout": {
          "annotationdefaults": {
           "arrowcolor": "#2a3f5f",
           "arrowhead": 0,
           "arrowwidth": 1
          },
          "autotypenumbers": "strict",
          "coloraxis": {
           "colorbar": {
            "outlinewidth": 0,
            "ticks": ""
           }
          },
          "colorscale": {
           "diverging": [
            [
             0,
             "#8e0152"
            ],
            [
             0.1,
             "#c51b7d"
            ],
            [
             0.2,
             "#de77ae"
            ],
            [
             0.3,
             "#f1b6da"
            ],
            [
             0.4,
             "#fde0ef"
            ],
            [
             0.5,
             "#f7f7f7"
            ],
            [
             0.6,
             "#e6f5d0"
            ],
            [
             0.7,
             "#b8e186"
            ],
            [
             0.8,
             "#7fbc41"
            ],
            [
             0.9,
             "#4d9221"
            ],
            [
             1,
             "#276419"
            ]
           ],
           "sequential": [
            [
             0,
             "#0d0887"
            ],
            [
             0.1111111111111111,
             "#46039f"
            ],
            [
             0.2222222222222222,
             "#7201a8"
            ],
            [
             0.3333333333333333,
             "#9c179e"
            ],
            [
             0.4444444444444444,
             "#bd3786"
            ],
            [
             0.5555555555555556,
             "#d8576b"
            ],
            [
             0.6666666666666666,
             "#ed7953"
            ],
            [
             0.7777777777777778,
             "#fb9f3a"
            ],
            [
             0.8888888888888888,
             "#fdca26"
            ],
            [
             1,
             "#f0f921"
            ]
           ],
           "sequentialminus": [
            [
             0,
             "#0d0887"
            ],
            [
             0.1111111111111111,
             "#46039f"
            ],
            [
             0.2222222222222222,
             "#7201a8"
            ],
            [
             0.3333333333333333,
             "#9c179e"
            ],
            [
             0.4444444444444444,
             "#bd3786"
            ],
            [
             0.5555555555555556,
             "#d8576b"
            ],
            [
             0.6666666666666666,
             "#ed7953"
            ],
            [
             0.7777777777777778,
             "#fb9f3a"
            ],
            [
             0.8888888888888888,
             "#fdca26"
            ],
            [
             1,
             "#f0f921"
            ]
           ]
          },
          "colorway": [
           "#636efa",
           "#EF553B",
           "#00cc96",
           "#ab63fa",
           "#FFA15A",
           "#19d3f3",
           "#FF6692",
           "#B6E880",
           "#FF97FF",
           "#FECB52"
          ],
          "font": {
           "color": "#2a3f5f"
          },
          "geo": {
           "bgcolor": "white",
           "lakecolor": "white",
           "landcolor": "#E5ECF6",
           "showlakes": true,
           "showland": true,
           "subunitcolor": "white"
          },
          "hoverlabel": {
           "align": "left"
          },
          "hovermode": "closest",
          "mapbox": {
           "style": "light"
          },
          "paper_bgcolor": "white",
          "plot_bgcolor": "#E5ECF6",
          "polar": {
           "angularaxis": {
            "gridcolor": "white",
            "linecolor": "white",
            "ticks": ""
           },
           "bgcolor": "#E5ECF6",
           "radialaxis": {
            "gridcolor": "white",
            "linecolor": "white",
            "ticks": ""
           }
          },
          "scene": {
           "xaxis": {
            "backgroundcolor": "#E5ECF6",
            "gridcolor": "white",
            "gridwidth": 2,
            "linecolor": "white",
            "showbackground": true,
            "ticks": "",
            "zerolinecolor": "white"
           },
           "yaxis": {
            "backgroundcolor": "#E5ECF6",
            "gridcolor": "white",
            "gridwidth": 2,
            "linecolor": "white",
            "showbackground": true,
            "ticks": "",
            "zerolinecolor": "white"
           },
           "zaxis": {
            "backgroundcolor": "#E5ECF6",
            "gridcolor": "white",
            "gridwidth": 2,
            "linecolor": "white",
            "showbackground": true,
            "ticks": "",
            "zerolinecolor": "white"
           }
          },
          "shapedefaults": {
           "line": {
            "color": "#2a3f5f"
           }
          },
          "ternary": {
           "aaxis": {
            "gridcolor": "white",
            "linecolor": "white",
            "ticks": ""
           },
           "baxis": {
            "gridcolor": "white",
            "linecolor": "white",
            "ticks": ""
           },
           "bgcolor": "#E5ECF6",
           "caxis": {
            "gridcolor": "white",
            "linecolor": "white",
            "ticks": ""
           }
          },
          "title": {
           "x": 0.05
          },
          "xaxis": {
           "automargin": true,
           "gridcolor": "white",
           "linecolor": "white",
           "ticks": "",
           "title": {
            "standoff": 15
           },
           "zerolinecolor": "white",
           "zerolinewidth": 2
          },
          "yaxis": {
           "automargin": true,
           "gridcolor": "white",
           "linecolor": "white",
           "ticks": "",
           "title": {
            "standoff": 15
           },
           "zerolinecolor": "white",
           "zerolinewidth": 2
          }
         }
        },
        "title": {
         "text": "Number of Sightings during Inclement Weather for Cities with Highest Sightings Count"
        },
        "xaxis": {
         "title": {
          "text": "City"
         }
        },
        "yaxis": {
         "dtick": 1000,
         "gridcolor": "lightgray",
         "gridwidth": 0.5,
         "tickmode": "linear",
         "title": {
          "text": "Number of Sightings"
         }
        }
       }
      }
     },
     "metadata": {},
     "output_type": "display_data"
    },
    {
     "data": {
      "application/vnd.plotly.v1+json": {
       "config": {
        "displayModeBar": true,
        "plotlyServerURL": "https://plotly.com"
       },
       "data": [
        {
         "colorscale": [
          [
           0,
           "#440154"
          ],
          [
           0.1111111111111111,
           "#482878"
          ],
          [
           0.2222222222222222,
           "#3e4989"
          ],
          [
           0.3333333333333333,
           "#31688e"
          ],
          [
           0.4444444444444444,
           "#26828e"
          ],
          [
           0.5555555555555556,
           "#1f9e89"
          ],
          [
           0.6666666666666666,
           "#35b779"
          ],
          [
           0.7777777777777778,
           "#6ece58"
          ],
          [
           0.8888888888888888,
           "#b5de2b"
          ],
          [
           1,
           "#fde725"
          ]
         ],
         "hovertemplate": "City: %{x}<br>Weather: %{y}<br>Number of Sightings: %{z}<br><extra></extra>",
         "reversescale": true,
         "type": "heatmap",
         "x": [
          "Albuquerque, NM",
          "Chicago, IL",
          "Las Vegas, NV",
          "Los Angeles, CA",
          "Orlando, FL",
          "Phoenix, AZ",
          "Portland, OR",
          "San Diego, CA",
          "Seattle, WA",
          "Tucson, AZ",
          "Albuquerque, NM",
          "Chicago, IL",
          "Las Vegas, NV",
          "Los Angeles, CA",
          "Orlando, FL",
          "Phoenix, AZ",
          "Portland, OR",
          "San Diego, CA",
          "Seattle, WA",
          "Tucson, AZ",
          "Albuquerque, NM",
          "Chicago, IL",
          "Las Vegas, NV",
          "Los Angeles, CA",
          "Orlando, FL",
          "Phoenix, AZ",
          "Portland, OR",
          "San Diego, CA",
          "Seattle, WA",
          "Tucson, AZ",
          "Albuquerque, NM",
          "Chicago, IL",
          "Las Vegas, NV",
          "Los Angeles, CA",
          "Orlando, FL",
          "Phoenix, AZ",
          "Portland, OR",
          "San Diego, CA",
          "Seattle, WA",
          "Tucson, AZ",
          "Albuquerque, NM",
          "Chicago, IL",
          "Las Vegas, NV",
          "Los Angeles, CA",
          "Orlando, FL",
          "Phoenix, AZ",
          "Portland, OR",
          "San Diego, CA",
          "Seattle, WA",
          "Tucson, AZ"
         ],
         "y": [
          "Heavy fog or heaving freezing fog",
          "Heavy fog or heaving freezing fog",
          "Heavy fog or heaving freezing fog",
          "Heavy fog or heaving freezing fog",
          "Heavy fog or heaving freezing fog",
          "Heavy fog or heaving freezing fog",
          "Heavy fog or heaving freezing fog",
          "Heavy fog or heaving freezing fog",
          "Heavy fog or heaving freezing fog",
          "Heavy fog or heaving freezing fog",
          "Dust, volcanic ash, blowing dust/sand, or blowing obstruction",
          "Dust, volcanic ash, blowing dust/sand, or blowing obstruction",
          "Dust, volcanic ash, blowing dust/sand, or blowing obstruction",
          "Dust, volcanic ash, blowing dust/sand, or blowing obstruction",
          "Dust, volcanic ash, blowing dust/sand, or blowing obstruction",
          "Dust, volcanic ash, blowing dust/sand, or blowing obstruction",
          "Dust, volcanic ash, blowing dust/sand, or blowing obstruction",
          "Dust, volcanic ash, blowing dust/sand, or blowing obstruction",
          "Dust, volcanic ash, blowing dust/sand, or blowing obstruction",
          "Dust, volcanic ash, blowing dust/sand, or blowing obstruction",
          "Smoke or haze",
          "Smoke or haze",
          "Smoke or haze",
          "Smoke or haze",
          "Smoke or haze",
          "Smoke or haze",
          "Smoke or haze",
          "Smoke or haze",
          "Smoke or haze",
          "Smoke or haze",
          "High or damaging winds",
          "High or damaging winds",
          "High or damaging winds",
          "High or damaging winds",
          "High or damaging winds",
          "High or damaging winds",
          "High or damaging winds",
          "High or damaging winds",
          "High or damaging winds",
          "High or damaging winds",
          "Rain, drizzle, and freezing drizzle",
          "Rain, drizzle, and freezing drizzle",
          "Rain, drizzle, and freezing drizzle",
          "Rain, drizzle, and freezing drizzle",
          "Rain, drizzle, and freezing drizzle",
          "Rain, drizzle, and freezing drizzle",
          "Rain, drizzle, and freezing drizzle",
          "Rain, drizzle, and freezing drizzle",
          "Rain, drizzle, and freezing drizzle",
          "Rain, drizzle, and freezing drizzle"
         ],
         "z": [
          169,
          553,
          35,
          562,
          281,
          13,
          619,
          393,
          481,
          44,
          128,
          90,
          147,
          439,
          0,
          96,
          3,
          388,
          37,
          6,
          365,
          4408,
          536,
          2673,
          671,
          178,
          482,
          2096,
          454,
          231,
          44,
          324,
          120,
          0,
          43,
          19,
          0,
          0,
          0,
          21,
          1034,
          3212,
          2014,
          651,
          1555,
          269,
          2243,
          824,
          2133,
          753
         ]
        }
       ],
       "layout": {
        "template": {
         "data": {
          "bar": [
           {
            "error_x": {
             "color": "#2a3f5f"
            },
            "error_y": {
             "color": "#2a3f5f"
            },
            "marker": {
             "line": {
              "color": "#E5ECF6",
              "width": 0.5
             },
             "pattern": {
              "fillmode": "overlay",
              "size": 10,
              "solidity": 0.2
             }
            },
            "type": "bar"
           }
          ],
          "barpolar": [
           {
            "marker": {
             "line": {
              "color": "#E5ECF6",
              "width": 0.5
             },
             "pattern": {
              "fillmode": "overlay",
              "size": 10,
              "solidity": 0.2
             }
            },
            "type": "barpolar"
           }
          ],
          "carpet": [
           {
            "aaxis": {
             "endlinecolor": "#2a3f5f",
             "gridcolor": "white",
             "linecolor": "white",
             "minorgridcolor": "white",
             "startlinecolor": "#2a3f5f"
            },
            "baxis": {
             "endlinecolor": "#2a3f5f",
             "gridcolor": "white",
             "linecolor": "white",
             "minorgridcolor": "white",
             "startlinecolor": "#2a3f5f"
            },
            "type": "carpet"
           }
          ],
          "choropleth": [
           {
            "colorbar": {
             "outlinewidth": 0,
             "ticks": ""
            },
            "type": "choropleth"
           }
          ],
          "contour": [
           {
            "colorbar": {
             "outlinewidth": 0,
             "ticks": ""
            },
            "colorscale": [
             [
              0,
              "#0d0887"
             ],
             [
              0.1111111111111111,
              "#46039f"
             ],
             [
              0.2222222222222222,
              "#7201a8"
             ],
             [
              0.3333333333333333,
              "#9c179e"
             ],
             [
              0.4444444444444444,
              "#bd3786"
             ],
             [
              0.5555555555555556,
              "#d8576b"
             ],
             [
              0.6666666666666666,
              "#ed7953"
             ],
             [
              0.7777777777777778,
              "#fb9f3a"
             ],
             [
              0.8888888888888888,
              "#fdca26"
             ],
             [
              1,
              "#f0f921"
             ]
            ],
            "type": "contour"
           }
          ],
          "contourcarpet": [
           {
            "colorbar": {
             "outlinewidth": 0,
             "ticks": ""
            },
            "type": "contourcarpet"
           }
          ],
          "heatmap": [
           {
            "colorbar": {
             "outlinewidth": 0,
             "ticks": ""
            },
            "colorscale": [
             [
              0,
              "#0d0887"
             ],
             [
              0.1111111111111111,
              "#46039f"
             ],
             [
              0.2222222222222222,
              "#7201a8"
             ],
             [
              0.3333333333333333,
              "#9c179e"
             ],
             [
              0.4444444444444444,
              "#bd3786"
             ],
             [
              0.5555555555555556,
              "#d8576b"
             ],
             [
              0.6666666666666666,
              "#ed7953"
             ],
             [
              0.7777777777777778,
              "#fb9f3a"
             ],
             [
              0.8888888888888888,
              "#fdca26"
             ],
             [
              1,
              "#f0f921"
             ]
            ],
            "type": "heatmap"
           }
          ],
          "heatmapgl": [
           {
            "colorbar": {
             "outlinewidth": 0,
             "ticks": ""
            },
            "colorscale": [
             [
              0,
              "#0d0887"
             ],
             [
              0.1111111111111111,
              "#46039f"
             ],
             [
              0.2222222222222222,
              "#7201a8"
             ],
             [
              0.3333333333333333,
              "#9c179e"
             ],
             [
              0.4444444444444444,
              "#bd3786"
             ],
             [
              0.5555555555555556,
              "#d8576b"
             ],
             [
              0.6666666666666666,
              "#ed7953"
             ],
             [
              0.7777777777777778,
              "#fb9f3a"
             ],
             [
              0.8888888888888888,
              "#fdca26"
             ],
             [
              1,
              "#f0f921"
             ]
            ],
            "type": "heatmapgl"
           }
          ],
          "histogram": [
           {
            "marker": {
             "pattern": {
              "fillmode": "overlay",
              "size": 10,
              "solidity": 0.2
             }
            },
            "type": "histogram"
           }
          ],
          "histogram2d": [
           {
            "colorbar": {
             "outlinewidth": 0,
             "ticks": ""
            },
            "colorscale": [
             [
              0,
              "#0d0887"
             ],
             [
              0.1111111111111111,
              "#46039f"
             ],
             [
              0.2222222222222222,
              "#7201a8"
             ],
             [
              0.3333333333333333,
              "#9c179e"
             ],
             [
              0.4444444444444444,
              "#bd3786"
             ],
             [
              0.5555555555555556,
              "#d8576b"
             ],
             [
              0.6666666666666666,
              "#ed7953"
             ],
             [
              0.7777777777777778,
              "#fb9f3a"
             ],
             [
              0.8888888888888888,
              "#fdca26"
             ],
             [
              1,
              "#f0f921"
             ]
            ],
            "type": "histogram2d"
           }
          ],
          "histogram2dcontour": [
           {
            "colorbar": {
             "outlinewidth": 0,
             "ticks": ""
            },
            "colorscale": [
             [
              0,
              "#0d0887"
             ],
             [
              0.1111111111111111,
              "#46039f"
             ],
             [
              0.2222222222222222,
              "#7201a8"
             ],
             [
              0.3333333333333333,
              "#9c179e"
             ],
             [
              0.4444444444444444,
              "#bd3786"
             ],
             [
              0.5555555555555556,
              "#d8576b"
             ],
             [
              0.6666666666666666,
              "#ed7953"
             ],
             [
              0.7777777777777778,
              "#fb9f3a"
             ],
             [
              0.8888888888888888,
              "#fdca26"
             ],
             [
              1,
              "#f0f921"
             ]
            ],
            "type": "histogram2dcontour"
           }
          ],
          "mesh3d": [
           {
            "colorbar": {
             "outlinewidth": 0,
             "ticks": ""
            },
            "type": "mesh3d"
           }
          ],
          "parcoords": [
           {
            "line": {
             "colorbar": {
              "outlinewidth": 0,
              "ticks": ""
             }
            },
            "type": "parcoords"
           }
          ],
          "pie": [
           {
            "automargin": true,
            "type": "pie"
           }
          ],
          "scatter": [
           {
            "fillpattern": {
             "fillmode": "overlay",
             "size": 10,
             "solidity": 0.2
            },
            "type": "scatter"
           }
          ],
          "scatter3d": [
           {
            "line": {
             "colorbar": {
              "outlinewidth": 0,
              "ticks": ""
             }
            },
            "marker": {
             "colorbar": {
              "outlinewidth": 0,
              "ticks": ""
             }
            },
            "type": "scatter3d"
           }
          ],
          "scattercarpet": [
           {
            "marker": {
             "colorbar": {
              "outlinewidth": 0,
              "ticks": ""
             }
            },
            "type": "scattercarpet"
           }
          ],
          "scattergeo": [
           {
            "marker": {
             "colorbar": {
              "outlinewidth": 0,
              "ticks": ""
             }
            },
            "type": "scattergeo"
           }
          ],
          "scattergl": [
           {
            "marker": {
             "colorbar": {
              "outlinewidth": 0,
              "ticks": ""
             }
            },
            "type": "scattergl"
           }
          ],
          "scattermapbox": [
           {
            "marker": {
             "colorbar": {
              "outlinewidth": 0,
              "ticks": ""
             }
            },
            "type": "scattermapbox"
           }
          ],
          "scatterpolar": [
           {
            "marker": {
             "colorbar": {
              "outlinewidth": 0,
              "ticks": ""
             }
            },
            "type": "scatterpolar"
           }
          ],
          "scatterpolargl": [
           {
            "marker": {
             "colorbar": {
              "outlinewidth": 0,
              "ticks": ""
             }
            },
            "type": "scatterpolargl"
           }
          ],
          "scatterternary": [
           {
            "marker": {
             "colorbar": {
              "outlinewidth": 0,
              "ticks": ""
             }
            },
            "type": "scatterternary"
           }
          ],
          "surface": [
           {
            "colorbar": {
             "outlinewidth": 0,
             "ticks": ""
            },
            "colorscale": [
             [
              0,
              "#0d0887"
             ],
             [
              0.1111111111111111,
              "#46039f"
             ],
             [
              0.2222222222222222,
              "#7201a8"
             ],
             [
              0.3333333333333333,
              "#9c179e"
             ],
             [
              0.4444444444444444,
              "#bd3786"
             ],
             [
              0.5555555555555556,
              "#d8576b"
             ],
             [
              0.6666666666666666,
              "#ed7953"
             ],
             [
              0.7777777777777778,
              "#fb9f3a"
             ],
             [
              0.8888888888888888,
              "#fdca26"
             ],
             [
              1,
              "#f0f921"
             ]
            ],
            "type": "surface"
           }
          ],
          "table": [
           {
            "cells": {
             "fill": {
              "color": "#EBF0F8"
             },
             "line": {
              "color": "white"
             }
            },
            "header": {
             "fill": {
              "color": "#C8D4E3"
             },
             "line": {
              "color": "white"
             }
            },
            "type": "table"
           }
          ]
         },
         "layout": {
          "annotationdefaults": {
           "arrowcolor": "#2a3f5f",
           "arrowhead": 0,
           "arrowwidth": 1
          },
          "autotypenumbers": "strict",
          "coloraxis": {
           "colorbar": {
            "outlinewidth": 0,
            "ticks": ""
           }
          },
          "colorscale": {
           "diverging": [
            [
             0,
             "#8e0152"
            ],
            [
             0.1,
             "#c51b7d"
            ],
            [
             0.2,
             "#de77ae"
            ],
            [
             0.3,
             "#f1b6da"
            ],
            [
             0.4,
             "#fde0ef"
            ],
            [
             0.5,
             "#f7f7f7"
            ],
            [
             0.6,
             "#e6f5d0"
            ],
            [
             0.7,
             "#b8e186"
            ],
            [
             0.8,
             "#7fbc41"
            ],
            [
             0.9,
             "#4d9221"
            ],
            [
             1,
             "#276419"
            ]
           ],
           "sequential": [
            [
             0,
             "#0d0887"
            ],
            [
             0.1111111111111111,
             "#46039f"
            ],
            [
             0.2222222222222222,
             "#7201a8"
            ],
            [
             0.3333333333333333,
             "#9c179e"
            ],
            [
             0.4444444444444444,
             "#bd3786"
            ],
            [
             0.5555555555555556,
             "#d8576b"
            ],
            [
             0.6666666666666666,
             "#ed7953"
            ],
            [
             0.7777777777777778,
             "#fb9f3a"
            ],
            [
             0.8888888888888888,
             "#fdca26"
            ],
            [
             1,
             "#f0f921"
            ]
           ],
           "sequentialminus": [
            [
             0,
             "#0d0887"
            ],
            [
             0.1111111111111111,
             "#46039f"
            ],
            [
             0.2222222222222222,
             "#7201a8"
            ],
            [
             0.3333333333333333,
             "#9c179e"
            ],
            [
             0.4444444444444444,
             "#bd3786"
            ],
            [
             0.5555555555555556,
             "#d8576b"
            ],
            [
             0.6666666666666666,
             "#ed7953"
            ],
            [
             0.7777777777777778,
             "#fb9f3a"
            ],
            [
             0.8888888888888888,
             "#fdca26"
            ],
            [
             1,
             "#f0f921"
            ]
           ]
          },
          "colorway": [
           "#636efa",
           "#EF553B",
           "#00cc96",
           "#ab63fa",
           "#FFA15A",
           "#19d3f3",
           "#FF6692",
           "#B6E880",
           "#FF97FF",
           "#FECB52"
          ],
          "font": {
           "color": "#2a3f5f"
          },
          "geo": {
           "bgcolor": "white",
           "lakecolor": "white",
           "landcolor": "#E5ECF6",
           "showlakes": true,
           "showland": true,
           "subunitcolor": "white"
          },
          "hoverlabel": {
           "align": "left"
          },
          "hovermode": "closest",
          "mapbox": {
           "style": "light"
          },
          "paper_bgcolor": "white",
          "plot_bgcolor": "#E5ECF6",
          "polar": {
           "angularaxis": {
            "gridcolor": "white",
            "linecolor": "white",
            "ticks": ""
           },
           "bgcolor": "#E5ECF6",
           "radialaxis": {
            "gridcolor": "white",
            "linecolor": "white",
            "ticks": ""
           }
          },
          "scene": {
           "xaxis": {
            "backgroundcolor": "#E5ECF6",
            "gridcolor": "white",
            "gridwidth": 2,
            "linecolor": "white",
            "showbackground": true,
            "ticks": "",
            "zerolinecolor": "white"
           },
           "yaxis": {
            "backgroundcolor": "#E5ECF6",
            "gridcolor": "white",
            "gridwidth": 2,
            "linecolor": "white",
            "showbackground": true,
            "ticks": "",
            "zerolinecolor": "white"
           },
           "zaxis": {
            "backgroundcolor": "#E5ECF6",
            "gridcolor": "white",
            "gridwidth": 2,
            "linecolor": "white",
            "showbackground": true,
            "ticks": "",
            "zerolinecolor": "white"
           }
          },
          "shapedefaults": {
           "line": {
            "color": "#2a3f5f"
           }
          },
          "ternary": {
           "aaxis": {
            "gridcolor": "white",
            "linecolor": "white",
            "ticks": ""
           },
           "baxis": {
            "gridcolor": "white",
            "linecolor": "white",
            "ticks": ""
           },
           "bgcolor": "#E5ECF6",
           "caxis": {
            "gridcolor": "white",
            "linecolor": "white",
            "ticks": ""
           }
          },
          "title": {
           "x": 0.05
          },
          "xaxis": {
           "automargin": true,
           "gridcolor": "white",
           "linecolor": "white",
           "ticks": "",
           "title": {
            "standoff": 15
           },
           "zerolinecolor": "white",
           "zerolinewidth": 2
          },
          "yaxis": {
           "automargin": true,
           "gridcolor": "white",
           "linecolor": "white",
           "ticks": "",
           "title": {
            "standoff": 15
           },
           "zerolinecolor": "white",
           "zerolinewidth": 2
          }
         }
        },
        "title": {
         "text": "Correlation between Inclement Weather and UFO Sightings in Cities with Highest Sightings Count"
        },
        "xaxis": {
         "anchor": "y",
         "domain": [
          0,
          1
         ],
         "title": {
          "text": "City"
         }
        },
        "yaxis": {
         "anchor": "x",
         "domain": [
          0,
          1
         ],
         "title": {
          "text": "Weather Descriptions"
         }
        }
       }
      }
     },
     "metadata": {},
     "output_type": "display_data"
    },
    {
     "ename": "NameError",
     "evalue": "name 'pio' is not defined",
     "output_type": "error",
     "traceback": [
      "\u001b[0;31m---------------------------------------------------------------------------\u001b[0m",
      "\u001b[0;31mNameError\u001b[0m                                 Traceback (most recent call last)",
      "Cell \u001b[0;32mIn[433], line 41\u001b[0m\n\u001b[1;32m     38\u001b[0m heatmap_fig\u001b[39m.\u001b[39mshow(config\u001b[39m=\u001b[39m{\u001b[39m'\u001b[39m\u001b[39mdisplayModeBar\u001b[39m\u001b[39m'\u001b[39m: \u001b[39mTrue\u001b[39;00m})\n\u001b[1;32m     40\u001b[0m \u001b[39m# Save both plots in a single HTML file\u001b[39;00m\n\u001b[0;32m---> 41\u001b[0m pio\u001b[39m.\u001b[39mwrite_html(fig, \u001b[39m'\u001b[39m\u001b[39mcolumn_chart.html\u001b[39m\u001b[39m'\u001b[39m, config\u001b[39m=\u001b[39m{\u001b[39m'\u001b[39m\u001b[39mdisplayModeBar\u001b[39m\u001b[39m'\u001b[39m: \u001b[39mTrue\u001b[39;00m})\n\u001b[1;32m     42\u001b[0m pio\u001b[39m.\u001b[39mwrite_html(heatmap_fig, \u001b[39m'\u001b[39m\u001b[39mheatmap.html\u001b[39m\u001b[39m'\u001b[39m, config\u001b[39m=\u001b[39m{\u001b[39m'\u001b[39m\u001b[39mdisplayModeBar\u001b[39m\u001b[39m'\u001b[39m: \u001b[39mTrue\u001b[39;00m})\n\u001b[1;32m     44\u001b[0m \u001b[39m# Concatenate the contents of both HTML files into a single file\u001b[39;00m\n",
      "\u001b[0;31mNameError\u001b[0m: name 'pio' is not defined"
     ]
    }
   ],
   "source": [
    "# Define custom color sequence\n",
    "custom_colors = ['#3E93AB', '#A8DFF7', '#25536D', '#57899C', '#B5D1D4', '#2F4E48']\n",
    "\n",
    "# Create a bar chart with color set to Weather and barmode set to 'group', and update color sequence\n",
    "fig = go.Figure()\n",
    "for Weather, color in zip(df_melt['weather'].unique(), custom_colors):\n",
    "    df_filtered_weather = df_melt[df_melt['weather'] == Weather]\n",
    "    fig.add_trace(go.Bar(x=df_filtered_weather['Address'], y=df_filtered_weather['Number_of_Sightings'],\n",
    "                         name=Weather, marker_color=color))\n",
    "fig.update_xaxes(title=\"City\")\n",
    "fig.update_yaxes(title=\"Number of Sightings\",\n",
    "                tickmode='linear',  # Set tickmode to 'linear'\n",
    "                dtick=1000,         # Set dtick to 1000 to show grid lines at every 1000 value\n",
    "                gridcolor='lightgray',  # Set grid color\n",
    "                gridwidth=0.5)     # Set grid width\n",
    "fig.update_layout(title=\"Number of Sightings during Inclement Weather for Cities with Highest Sightings Count\", \n",
    "                  plot_bgcolor='white', paper_bgcolor='white')\n",
    "\n",
    "# Create a subplot with heatmap\n",
    "heatmap_fig = sp.make_subplots(rows=1, cols=1)\n",
    "heatmap = go.Heatmap(\n",
    "    z=df_melt.Number_of_Sightings,  # Transpose the DataFrame for proper heatmap orientation\n",
    "    x=df_melt.Address,\n",
    "    y=df_melt.weather,  # Use the mapped weather descriptions as y-axis labels\n",
    "    colorscale='Viridis',\n",
    "    reversescale=True,\n",
    "    hovertemplate='City: %{x}<br>' +  # Set tooltip template to show x-axis label\n",
    "                  'Weather: %{y}<br>' +  # Set tooltip template to show y-axis label\n",
    "                  'Number of Sightings: %{z}<br><extra></extra>',  # Set tooltip template to show z-axis label\n",
    ")\n",
    "heatmap_fig.add_trace(heatmap)\n",
    "heatmap_fig.update_xaxes(title_text='City')\n",
    "heatmap_fig.update_yaxes(title_text='Weather Descriptions')\n",
    "heatmap_fig.update_layout(title_text='Correlation between Inclement Weather and UFO Sightings in Cities with Highest Sightings Count')\n",
    "\n",
    "# Enable cross-filter\n",
    "fig.show(config={'displayModeBar': True})\n",
    "heatmap_fig.show(config={'displayModeBar': True})\n",
    "\n",
    "# Save both plots in a single HTML file\n",
    "pio.write_html(fig, 'column_chart.html', config={'displayModeBar': True})\n",
    "pio.write_html(heatmap_fig, 'heatmap.html', config={'displayModeBar': True})\n",
    "\n",
    "# Concatenate the contents of both HTML files into a single file\n",
    "with open('column_chart.html', 'r') as f:\n",
    "    plot1_content = f.read()\n",
    "with open('heatmap.html', 'r') as f:\n",
    "    plot2_content = f.read()\n",
    "\n",
    "with open('combined_plots.html', 'w') as f:\n",
    "    f.write(plot1_content)\n",
    "    f.write(plot2_content)"
   ]
  },
  {
   "cell_type": "code",
   "execution_count": 383,
   "metadata": {},
   "outputs": [
    {
     "data": {
      "text/plain": [
       "DataTransformerRegistry.enable('default')"
      ]
     },
     "execution_count": 383,
     "metadata": {},
     "output_type": "execute_result"
    }
   ],
   "source": [
    "alt.data_transformers.enable('default',max_rows=None)\n"
   ]
  },
  {
   "cell_type": "code",
   "execution_count": 407,
   "metadata": {},
   "outputs": [
    {
     "name": "stdout",
     "output_type": "stream",
     "text": [
      "Displaying chart at http://localhost:61990/\n"
     ]
    }
   ],
   "source": [
    "import altair as alt\n",
    "import pandas as pd\n",
    "alt.renderers.enable('default')\n",
    "import altair_viewer\n",
    "\n",
    "# Filter the dataframe to only include rows where the weather variables are equal to 1\n",
    "df_filtered = df_weather_ufo[(df_weather_ufo['WT02'] == 1) | (df_weather_ufo['WT07'] == 1) | (df_weather_ufo['WT08'] == 1) | (df_weather_ufo['WT11'] == 1) | (df_weather_ufo['WT16'] == 1)]\n",
    "\n",
    "# Group data by city and calculate the count of sightings for each weather variable\n",
    "df_grouped = df_filtered.groupby(['Address']).sum(numeric_only=True).reset_index()\n",
    "\n",
    "# Convert the wide format to long format for Altair\n",
    "df_melt = pd.melt(df_grouped, id_vars=['Address'], value_vars=[\"WT02\", \"WT07\", \"WT08\", \"WT11\", \"WT16\"],\n",
    "                  var_name=\"Weather\", value_name=\"Number_of_Sightings\")\n",
    "\n",
    "# Create a dictionary to map weather variable names to the corresponding weather description\n",
    "weather_desc_map = {'WT02': 'Heavy fog or heaving freezing fog', \n",
    "                    'WT07': 'Dust, volcanic ash, blowing dust/sand, or blowing obstruction', \n",
    "                    'WT08': 'Smoke or haze', \n",
    "                    'WT11': 'High or damaging winds', \n",
    "                    'WT16': 'Rain, drizzle, and freezing drizzle'}\n",
    "\n",
    "# Update the Weather column with the corresponding weather descriptions\n",
    "df_melt['Weather'] = df_melt['Weather'].map(weather_desc_map)\n",
    "\n",
    "# Define custom color sequence\n",
    "#custom_colors = ['#3E93AB', '#A8DFF7', '#25536D', '#57899C', '#B5D1D4', '#2F4E48']\n",
    "\n",
    "colors = {\n",
    "    'Heavy fog or heaving freezing fog': '#3E93AB',\n",
    "    'Dust, volcanic ash, blowing dust/sand, or blowing obstruction': '#A8DFF7',\n",
    "    'Smoke or haze': '#25536D',\n",
    "    'High or damaging winds': '#57899C',\n",
    "    'Rain, drizzle, and freezing drizzle': '#B5D1D4'\n",
    "}\n",
    "\n",
    "# Create an interval selection for the x-axis (city) in the heatmap\n",
    "# interval = alt.selection(type='single', fields=['Weather', 'Address'])\n",
    "# color = alt.condition(interval,\n",
    "#                       alt.Color('Weather:N', scale=alt.Scale(domain=list(colors.keys()), range=list(colors.values())), legend=None),\n",
    "#                       alt.value('lightgray'))\n",
    "\n",
    "selection = alt.selection(type='single', fields=['Weather', 'Address'])\n",
    "color = alt.condition(selection, alt.Color('Weather:N', scale=alt.Scale(domain=list(colors.keys()), \n",
    "                      range=list(colors.values())), legend=None),\n",
    "                      alt.value('lightgray'))\n",
    "\n",
    "# Create a heatmap\n",
    "heatmap = alt.Chart(df_melt).mark_rect().encode(\n",
    "    alt.X('Address:N', title=\"City\", axis=alt.Axis(labelAngle=-45, labelAlign='right')),  # Set x-axis title, label angle, and alignment\n",
    "    alt.Y('Weather:N', title=\"Weather Descriptions\"),  # Set y-axis title\n",
    "    alt.Color('Number_of_Sightings:Q', title=\"Number of Sightings\"),  # Set color encoding to Number_of_Sightings\n",
    "    #color=color,\n",
    "    tooltip=['Address:N', 'Weather:N', 'Number_of_Sightings:Q']  # Set tooltip to show Address, Weather, and Number_of_Sightings\n",
    ").add_selection(selection).properties(title=\"Heatmap of UFO Sightings during Inclement Weather in Cities with Highest Sightings Count\") \n",
    "\n",
    "# Create a column chart with filter transform based on the selected interval in the heatmap\n",
    "column_chart = alt.Chart(df_melt).mark_bar().encode(\n",
    "    #alt.Column('Weather:N', title=\"Weather\"),  # Set column encoding to Weather\n",
    "    alt.X('Address:N', title=\"City\"),  # Set x-axis title\n",
    "    alt.Y('sum(Number_of_Sightings):Q', title=\"Number of Sightings\"),  # Set y-axis title\n",
    "    alt.Color('Weather:N', title=\"Weather Descriptions\"),  # Set color encoding to Weather\n",
    "    #color=color,\n",
    "    tooltip=['Address:N', 'Weather:N', 'sum(Number_of_Sightings):Q'],  # Set tooltip to show Address, Weather, and sum of Number_of_Sightings\n",
    "    opacity=alt.condition(selection, alt.value(1), alt.value(0.2))  # Set opacity based on the selected interval in the heatmap\n",
    ").transform_filter(selection).properties(title=\"Stacked Bar Chart\") # Apply filter transform to the column chart\n",
    "(bar_chart | heatmap).resolve_scale(color='independent').show() # Resolve color scale to be independent"
   ]
  },
  {
   "cell_type": "code",
   "execution_count": 403,
   "metadata": {},
   "outputs": [
    {
     "data": {
      "text/html": [
       "<div>\n",
       "<style scoped>\n",
       "    .dataframe tbody tr th:only-of-type {\n",
       "        vertical-align: middle;\n",
       "    }\n",
       "\n",
       "    .dataframe tbody tr th {\n",
       "        vertical-align: top;\n",
       "    }\n",
       "\n",
       "    .dataframe thead th {\n",
       "        text-align: right;\n",
       "    }\n",
       "</style>\n",
       "<table border=\"1\" class=\"dataframe\">\n",
       "  <thead>\n",
       "    <tr style=\"text-align: right;\">\n",
       "      <th></th>\n",
       "      <th>Address</th>\n",
       "      <th>Weather</th>\n",
       "      <th>Number_of_Sightings</th>\n",
       "    </tr>\n",
       "  </thead>\n",
       "  <tbody>\n",
       "    <tr>\n",
       "      <th>0</th>\n",
       "      <td>Albuquerque, NM</td>\n",
       "      <td>Heavy fog or heaving freezing fog</td>\n",
       "      <td>169.0</td>\n",
       "    </tr>\n",
       "    <tr>\n",
       "      <th>1</th>\n",
       "      <td>Chicago, IL</td>\n",
       "      <td>Heavy fog or heaving freezing fog</td>\n",
       "      <td>553.0</td>\n",
       "    </tr>\n",
       "    <tr>\n",
       "      <th>2</th>\n",
       "      <td>Las Vegas, NV</td>\n",
       "      <td>Heavy fog or heaving freezing fog</td>\n",
       "      <td>35.0</td>\n",
       "    </tr>\n",
       "    <tr>\n",
       "      <th>3</th>\n",
       "      <td>Los Angeles, CA</td>\n",
       "      <td>Heavy fog or heaving freezing fog</td>\n",
       "      <td>562.0</td>\n",
       "    </tr>\n",
       "    <tr>\n",
       "      <th>4</th>\n",
       "      <td>Orlando, FL</td>\n",
       "      <td>Heavy fog or heaving freezing fog</td>\n",
       "      <td>281.0</td>\n",
       "    </tr>\n",
       "    <tr>\n",
       "      <th>5</th>\n",
       "      <td>Phoenix, AZ</td>\n",
       "      <td>Heavy fog or heaving freezing fog</td>\n",
       "      <td>13.0</td>\n",
       "    </tr>\n",
       "    <tr>\n",
       "      <th>6</th>\n",
       "      <td>Portland, OR</td>\n",
       "      <td>Heavy fog or heaving freezing fog</td>\n",
       "      <td>619.0</td>\n",
       "    </tr>\n",
       "    <tr>\n",
       "      <th>7</th>\n",
       "      <td>San Diego, CA</td>\n",
       "      <td>Heavy fog or heaving freezing fog</td>\n",
       "      <td>393.0</td>\n",
       "    </tr>\n",
       "    <tr>\n",
       "      <th>8</th>\n",
       "      <td>Seattle, WA</td>\n",
       "      <td>Heavy fog or heaving freezing fog</td>\n",
       "      <td>481.0</td>\n",
       "    </tr>\n",
       "    <tr>\n",
       "      <th>9</th>\n",
       "      <td>Tucson, AZ</td>\n",
       "      <td>Heavy fog or heaving freezing fog</td>\n",
       "      <td>44.0</td>\n",
       "    </tr>\n",
       "    <tr>\n",
       "      <th>10</th>\n",
       "      <td>Albuquerque, NM</td>\n",
       "      <td>Dust, volcanic ash, blowing dust/sand, or blow...</td>\n",
       "      <td>128.0</td>\n",
       "    </tr>\n",
       "    <tr>\n",
       "      <th>11</th>\n",
       "      <td>Chicago, IL</td>\n",
       "      <td>Dust, volcanic ash, blowing dust/sand, or blow...</td>\n",
       "      <td>90.0</td>\n",
       "    </tr>\n",
       "    <tr>\n",
       "      <th>12</th>\n",
       "      <td>Las Vegas, NV</td>\n",
       "      <td>Dust, volcanic ash, blowing dust/sand, or blow...</td>\n",
       "      <td>147.0</td>\n",
       "    </tr>\n",
       "    <tr>\n",
       "      <th>13</th>\n",
       "      <td>Los Angeles, CA</td>\n",
       "      <td>Dust, volcanic ash, blowing dust/sand, or blow...</td>\n",
       "      <td>439.0</td>\n",
       "    </tr>\n",
       "    <tr>\n",
       "      <th>14</th>\n",
       "      <td>Orlando, FL</td>\n",
       "      <td>Dust, volcanic ash, blowing dust/sand, or blow...</td>\n",
       "      <td>0.0</td>\n",
       "    </tr>\n",
       "    <tr>\n",
       "      <th>15</th>\n",
       "      <td>Phoenix, AZ</td>\n",
       "      <td>Dust, volcanic ash, blowing dust/sand, or blow...</td>\n",
       "      <td>96.0</td>\n",
       "    </tr>\n",
       "    <tr>\n",
       "      <th>16</th>\n",
       "      <td>Portland, OR</td>\n",
       "      <td>Dust, volcanic ash, blowing dust/sand, or blow...</td>\n",
       "      <td>3.0</td>\n",
       "    </tr>\n",
       "    <tr>\n",
       "      <th>17</th>\n",
       "      <td>San Diego, CA</td>\n",
       "      <td>Dust, volcanic ash, blowing dust/sand, or blow...</td>\n",
       "      <td>388.0</td>\n",
       "    </tr>\n",
       "    <tr>\n",
       "      <th>18</th>\n",
       "      <td>Seattle, WA</td>\n",
       "      <td>Dust, volcanic ash, blowing dust/sand, or blow...</td>\n",
       "      <td>37.0</td>\n",
       "    </tr>\n",
       "    <tr>\n",
       "      <th>19</th>\n",
       "      <td>Tucson, AZ</td>\n",
       "      <td>Dust, volcanic ash, blowing dust/sand, or blow...</td>\n",
       "      <td>6.0</td>\n",
       "    </tr>\n",
       "    <tr>\n",
       "      <th>20</th>\n",
       "      <td>Albuquerque, NM</td>\n",
       "      <td>Smoke or haze</td>\n",
       "      <td>365.0</td>\n",
       "    </tr>\n",
       "    <tr>\n",
       "      <th>21</th>\n",
       "      <td>Chicago, IL</td>\n",
       "      <td>Smoke or haze</td>\n",
       "      <td>4408.0</td>\n",
       "    </tr>\n",
       "    <tr>\n",
       "      <th>22</th>\n",
       "      <td>Las Vegas, NV</td>\n",
       "      <td>Smoke or haze</td>\n",
       "      <td>536.0</td>\n",
       "    </tr>\n",
       "    <tr>\n",
       "      <th>23</th>\n",
       "      <td>Los Angeles, CA</td>\n",
       "      <td>Smoke or haze</td>\n",
       "      <td>2673.0</td>\n",
       "    </tr>\n",
       "    <tr>\n",
       "      <th>24</th>\n",
       "      <td>Orlando, FL</td>\n",
       "      <td>Smoke or haze</td>\n",
       "      <td>671.0</td>\n",
       "    </tr>\n",
       "    <tr>\n",
       "      <th>25</th>\n",
       "      <td>Phoenix, AZ</td>\n",
       "      <td>Smoke or haze</td>\n",
       "      <td>178.0</td>\n",
       "    </tr>\n",
       "    <tr>\n",
       "      <th>26</th>\n",
       "      <td>Portland, OR</td>\n",
       "      <td>Smoke or haze</td>\n",
       "      <td>482.0</td>\n",
       "    </tr>\n",
       "    <tr>\n",
       "      <th>27</th>\n",
       "      <td>San Diego, CA</td>\n",
       "      <td>Smoke or haze</td>\n",
       "      <td>2096.0</td>\n",
       "    </tr>\n",
       "    <tr>\n",
       "      <th>28</th>\n",
       "      <td>Seattle, WA</td>\n",
       "      <td>Smoke or haze</td>\n",
       "      <td>454.0</td>\n",
       "    </tr>\n",
       "    <tr>\n",
       "      <th>29</th>\n",
       "      <td>Tucson, AZ</td>\n",
       "      <td>Smoke or haze</td>\n",
       "      <td>231.0</td>\n",
       "    </tr>\n",
       "    <tr>\n",
       "      <th>30</th>\n",
       "      <td>Albuquerque, NM</td>\n",
       "      <td>High or damaging winds</td>\n",
       "      <td>44.0</td>\n",
       "    </tr>\n",
       "    <tr>\n",
       "      <th>31</th>\n",
       "      <td>Chicago, IL</td>\n",
       "      <td>High or damaging winds</td>\n",
       "      <td>324.0</td>\n",
       "    </tr>\n",
       "    <tr>\n",
       "      <th>32</th>\n",
       "      <td>Las Vegas, NV</td>\n",
       "      <td>High or damaging winds</td>\n",
       "      <td>120.0</td>\n",
       "    </tr>\n",
       "    <tr>\n",
       "      <th>33</th>\n",
       "      <td>Los Angeles, CA</td>\n",
       "      <td>High or damaging winds</td>\n",
       "      <td>0.0</td>\n",
       "    </tr>\n",
       "    <tr>\n",
       "      <th>34</th>\n",
       "      <td>Orlando, FL</td>\n",
       "      <td>High or damaging winds</td>\n",
       "      <td>43.0</td>\n",
       "    </tr>\n",
       "    <tr>\n",
       "      <th>35</th>\n",
       "      <td>Phoenix, AZ</td>\n",
       "      <td>High or damaging winds</td>\n",
       "      <td>19.0</td>\n",
       "    </tr>\n",
       "    <tr>\n",
       "      <th>36</th>\n",
       "      <td>Portland, OR</td>\n",
       "      <td>High or damaging winds</td>\n",
       "      <td>0.0</td>\n",
       "    </tr>\n",
       "    <tr>\n",
       "      <th>37</th>\n",
       "      <td>San Diego, CA</td>\n",
       "      <td>High or damaging winds</td>\n",
       "      <td>0.0</td>\n",
       "    </tr>\n",
       "    <tr>\n",
       "      <th>38</th>\n",
       "      <td>Seattle, WA</td>\n",
       "      <td>High or damaging winds</td>\n",
       "      <td>0.0</td>\n",
       "    </tr>\n",
       "    <tr>\n",
       "      <th>39</th>\n",
       "      <td>Tucson, AZ</td>\n",
       "      <td>High or damaging winds</td>\n",
       "      <td>21.0</td>\n",
       "    </tr>\n",
       "    <tr>\n",
       "      <th>40</th>\n",
       "      <td>Albuquerque, NM</td>\n",
       "      <td>Rain, drizzle, and freezing drizzle</td>\n",
       "      <td>1034.0</td>\n",
       "    </tr>\n",
       "    <tr>\n",
       "      <th>41</th>\n",
       "      <td>Chicago, IL</td>\n",
       "      <td>Rain, drizzle, and freezing drizzle</td>\n",
       "      <td>3212.0</td>\n",
       "    </tr>\n",
       "    <tr>\n",
       "      <th>42</th>\n",
       "      <td>Las Vegas, NV</td>\n",
       "      <td>Rain, drizzle, and freezing drizzle</td>\n",
       "      <td>2014.0</td>\n",
       "    </tr>\n",
       "    <tr>\n",
       "      <th>43</th>\n",
       "      <td>Los Angeles, CA</td>\n",
       "      <td>Rain, drizzle, and freezing drizzle</td>\n",
       "      <td>651.0</td>\n",
       "    </tr>\n",
       "    <tr>\n",
       "      <th>44</th>\n",
       "      <td>Orlando, FL</td>\n",
       "      <td>Rain, drizzle, and freezing drizzle</td>\n",
       "      <td>1555.0</td>\n",
       "    </tr>\n",
       "    <tr>\n",
       "      <th>45</th>\n",
       "      <td>Phoenix, AZ</td>\n",
       "      <td>Rain, drizzle, and freezing drizzle</td>\n",
       "      <td>269.0</td>\n",
       "    </tr>\n",
       "    <tr>\n",
       "      <th>46</th>\n",
       "      <td>Portland, OR</td>\n",
       "      <td>Rain, drizzle, and freezing drizzle</td>\n",
       "      <td>2243.0</td>\n",
       "    </tr>\n",
       "    <tr>\n",
       "      <th>47</th>\n",
       "      <td>San Diego, CA</td>\n",
       "      <td>Rain, drizzle, and freezing drizzle</td>\n",
       "      <td>824.0</td>\n",
       "    </tr>\n",
       "    <tr>\n",
       "      <th>48</th>\n",
       "      <td>Seattle, WA</td>\n",
       "      <td>Rain, drizzle, and freezing drizzle</td>\n",
       "      <td>2133.0</td>\n",
       "    </tr>\n",
       "    <tr>\n",
       "      <th>49</th>\n",
       "      <td>Tucson, AZ</td>\n",
       "      <td>Rain, drizzle, and freezing drizzle</td>\n",
       "      <td>753.0</td>\n",
       "    </tr>\n",
       "  </tbody>\n",
       "</table>\n",
       "</div>"
      ],
      "text/plain": [
       "            Address                                            Weather  \\\n",
       "0   Albuquerque, NM                  Heavy fog or heaving freezing fog   \n",
       "1       Chicago, IL                  Heavy fog or heaving freezing fog   \n",
       "2     Las Vegas, NV                  Heavy fog or heaving freezing fog   \n",
       "3   Los Angeles, CA                  Heavy fog or heaving freezing fog   \n",
       "4       Orlando, FL                  Heavy fog or heaving freezing fog   \n",
       "5       Phoenix, AZ                  Heavy fog or heaving freezing fog   \n",
       "6      Portland, OR                  Heavy fog or heaving freezing fog   \n",
       "7     San Diego, CA                  Heavy fog or heaving freezing fog   \n",
       "8       Seattle, WA                  Heavy fog or heaving freezing fog   \n",
       "9        Tucson, AZ                  Heavy fog or heaving freezing fog   \n",
       "10  Albuquerque, NM  Dust, volcanic ash, blowing dust/sand, or blow...   \n",
       "11      Chicago, IL  Dust, volcanic ash, blowing dust/sand, or blow...   \n",
       "12    Las Vegas, NV  Dust, volcanic ash, blowing dust/sand, or blow...   \n",
       "13  Los Angeles, CA  Dust, volcanic ash, blowing dust/sand, or blow...   \n",
       "14      Orlando, FL  Dust, volcanic ash, blowing dust/sand, or blow...   \n",
       "15      Phoenix, AZ  Dust, volcanic ash, blowing dust/sand, or blow...   \n",
       "16     Portland, OR  Dust, volcanic ash, blowing dust/sand, or blow...   \n",
       "17    San Diego, CA  Dust, volcanic ash, blowing dust/sand, or blow...   \n",
       "18      Seattle, WA  Dust, volcanic ash, blowing dust/sand, or blow...   \n",
       "19       Tucson, AZ  Dust, volcanic ash, blowing dust/sand, or blow...   \n",
       "20  Albuquerque, NM                                      Smoke or haze   \n",
       "21      Chicago, IL                                      Smoke or haze   \n",
       "22    Las Vegas, NV                                      Smoke or haze   \n",
       "23  Los Angeles, CA                                      Smoke or haze   \n",
       "24      Orlando, FL                                      Smoke or haze   \n",
       "25      Phoenix, AZ                                      Smoke or haze   \n",
       "26     Portland, OR                                      Smoke or haze   \n",
       "27    San Diego, CA                                      Smoke or haze   \n",
       "28      Seattle, WA                                      Smoke or haze   \n",
       "29       Tucson, AZ                                      Smoke or haze   \n",
       "30  Albuquerque, NM                             High or damaging winds   \n",
       "31      Chicago, IL                             High or damaging winds   \n",
       "32    Las Vegas, NV                             High or damaging winds   \n",
       "33  Los Angeles, CA                             High or damaging winds   \n",
       "34      Orlando, FL                             High or damaging winds   \n",
       "35      Phoenix, AZ                             High or damaging winds   \n",
       "36     Portland, OR                             High or damaging winds   \n",
       "37    San Diego, CA                             High or damaging winds   \n",
       "38      Seattle, WA                             High or damaging winds   \n",
       "39       Tucson, AZ                             High or damaging winds   \n",
       "40  Albuquerque, NM                Rain, drizzle, and freezing drizzle   \n",
       "41      Chicago, IL                Rain, drizzle, and freezing drizzle   \n",
       "42    Las Vegas, NV                Rain, drizzle, and freezing drizzle   \n",
       "43  Los Angeles, CA                Rain, drizzle, and freezing drizzle   \n",
       "44      Orlando, FL                Rain, drizzle, and freezing drizzle   \n",
       "45      Phoenix, AZ                Rain, drizzle, and freezing drizzle   \n",
       "46     Portland, OR                Rain, drizzle, and freezing drizzle   \n",
       "47    San Diego, CA                Rain, drizzle, and freezing drizzle   \n",
       "48      Seattle, WA                Rain, drizzle, and freezing drizzle   \n",
       "49       Tucson, AZ                Rain, drizzle, and freezing drizzle   \n",
       "\n",
       "    Number_of_Sightings  \n",
       "0                 169.0  \n",
       "1                 553.0  \n",
       "2                  35.0  \n",
       "3                 562.0  \n",
       "4                 281.0  \n",
       "5                  13.0  \n",
       "6                 619.0  \n",
       "7                 393.0  \n",
       "8                 481.0  \n",
       "9                  44.0  \n",
       "10                128.0  \n",
       "11                 90.0  \n",
       "12                147.0  \n",
       "13                439.0  \n",
       "14                  0.0  \n",
       "15                 96.0  \n",
       "16                  3.0  \n",
       "17                388.0  \n",
       "18                 37.0  \n",
       "19                  6.0  \n",
       "20                365.0  \n",
       "21               4408.0  \n",
       "22                536.0  \n",
       "23               2673.0  \n",
       "24                671.0  \n",
       "25                178.0  \n",
       "26                482.0  \n",
       "27               2096.0  \n",
       "28                454.0  \n",
       "29                231.0  \n",
       "30                 44.0  \n",
       "31                324.0  \n",
       "32                120.0  \n",
       "33                  0.0  \n",
       "34                 43.0  \n",
       "35                 19.0  \n",
       "36                  0.0  \n",
       "37                  0.0  \n",
       "38                  0.0  \n",
       "39                 21.0  \n",
       "40               1034.0  \n",
       "41               3212.0  \n",
       "42               2014.0  \n",
       "43                651.0  \n",
       "44               1555.0  \n",
       "45                269.0  \n",
       "46               2243.0  \n",
       "47                824.0  \n",
       "48               2133.0  \n",
       "49                753.0  "
      ]
     },
     "execution_count": 403,
     "metadata": {},
     "output_type": "execute_result"
    }
   ],
   "source": [
    "df_melt"
   ]
  },
  {
   "cell_type": "code",
   "execution_count": 393,
   "metadata": {},
   "outputs": [
    {
     "data": {
      "text/html": [
       "\n",
       "<div id=\"altair-viz-0bbf3c85476342faacb389df3d25cd7c\"></div>\n",
       "<script type=\"text/javascript\">\n",
       "  var VEGA_DEBUG = (typeof VEGA_DEBUG == \"undefined\") ? {} : VEGA_DEBUG;\n",
       "  (function(spec, embedOpt){\n",
       "    let outputDiv = document.currentScript.previousElementSibling;\n",
       "    if (outputDiv.id !== \"altair-viz-0bbf3c85476342faacb389df3d25cd7c\") {\n",
       "      outputDiv = document.getElementById(\"altair-viz-0bbf3c85476342faacb389df3d25cd7c\");\n",
       "    }\n",
       "    const paths = {\n",
       "      \"vega\": \"https://cdn.jsdelivr.net/npm//vega@5?noext\",\n",
       "      \"vega-lib\": \"https://cdn.jsdelivr.net/npm//vega-lib?noext\",\n",
       "      \"vega-lite\": \"https://cdn.jsdelivr.net/npm//vega-lite@4.17.0?noext\",\n",
       "      \"vega-embed\": \"https://cdn.jsdelivr.net/npm//vega-embed@6?noext\",\n",
       "    };\n",
       "\n",
       "    function maybeLoadScript(lib, version) {\n",
       "      var key = `${lib.replace(\"-\", \"\")}_version`;\n",
       "      return (VEGA_DEBUG[key] == version) ?\n",
       "        Promise.resolve(paths[lib]) :\n",
       "        new Promise(function(resolve, reject) {\n",
       "          var s = document.createElement('script');\n",
       "          document.getElementsByTagName(\"head\")[0].appendChild(s);\n",
       "          s.async = true;\n",
       "          s.onload = () => {\n",
       "            VEGA_DEBUG[key] = version;\n",
       "            return resolve(paths[lib]);\n",
       "          };\n",
       "          s.onerror = () => reject(`Error loading script: ${paths[lib]}`);\n",
       "          s.src = paths[lib];\n",
       "        });\n",
       "    }\n",
       "\n",
       "    function showError(err) {\n",
       "      outputDiv.innerHTML = `<div class=\"error\" style=\"color:red;\">${err}</div>`;\n",
       "      throw err;\n",
       "    }\n",
       "\n",
       "    function displayChart(vegaEmbed) {\n",
       "      vegaEmbed(outputDiv, spec, embedOpt)\n",
       "        .catch(err => showError(`Javascript Error: ${err.message}<br>This usually means there's a typo in your chart specification. See the javascript console for the full traceback.`));\n",
       "    }\n",
       "\n",
       "    if(typeof define === \"function\" && define.amd) {\n",
       "      requirejs.config({paths});\n",
       "      require([\"vega-embed\"], displayChart, err => showError(`Error loading script: ${err.message}`));\n",
       "    } else {\n",
       "      maybeLoadScript(\"vega\", \"5\")\n",
       "        .then(() => maybeLoadScript(\"vega-lite\", \"4.17.0\"))\n",
       "        .then(() => maybeLoadScript(\"vega-embed\", \"6\"))\n",
       "        .catch(showError)\n",
       "        .then(() => displayChart(vegaEmbed));\n",
       "    }\n",
       "  })({\"config\": {\"view\": {\"continuousWidth\": 400, \"continuousHeight\": 300}}, \"hconcat\": [{\"data\": {\"name\": \"data-ff5fac909e998faeb4c30311a0c7b3e0\"}, \"mark\": \"rect\", \"encoding\": {\"color\": {\"field\": \"Number_of_Sightings\", \"title\": \"Number of Sightings\", \"type\": \"quantitative\"}, \"tooltip\": [{\"field\": \"Address\", \"type\": \"nominal\"}, {\"field\": \"Weather\", \"type\": \"nominal\"}, {\"field\": \"Number_of_Sightings\", \"type\": \"quantitative\"}], \"x\": {\"axis\": {\"labelAlign\": \"right\", \"labelAngle\": -45}, \"field\": \"Address\", \"title\": \"City\", \"type\": \"nominal\"}, \"y\": {\"field\": \"Weather\", \"title\": \"Weather Descriptions\", \"type\": \"nominal\"}}, \"selection\": {\"selector016\": {\"type\": \"interval\", \"encodings\": [\"x\"]}}}, {\"data\": {\"name\": \"data-ff5fac909e998faeb4c30311a0c7b3e0\"}, \"mark\": \"bar\", \"encoding\": {\"color\": {\"field\": \"Weather\", \"title\": \"Weather Descriptions\", \"type\": \"nominal\"}, \"opacity\": {\"condition\": {\"value\": 1, \"selection\": \"selector012\"}, \"value\": 0.2}, \"tooltip\": [{\"field\": \"Address\", \"type\": \"nominal\"}, {\"field\": \"Weather\", \"type\": \"nominal\"}, {\"aggregate\": \"sum\", \"field\": \"Number_of_Sightings\", \"type\": \"quantitative\"}], \"x\": {\"field\": \"Address\", \"title\": \"City\", \"type\": \"nominal\"}, \"y\": {\"aggregate\": \"sum\", \"field\": \"Number_of_Sightings\", \"title\": \"Number of Sightings\", \"type\": \"quantitative\"}}, \"transform\": [{\"filter\": {\"selection\": \"selector012\"}}]}], \"resolve\": {\"scale\": {\"color\": \"independent\"}}, \"$schema\": \"https://vega.github.io/schema/vega-lite/v4.17.0.json\", \"datasets\": {\"data-ff5fac909e998faeb4c30311a0c7b3e0\": [{\"Address\": \"Albuquerque, NM\", \"Weather\": \"Heavy fog or heaving freezing fog\", \"Number_of_Sightings\": 169.0}, {\"Address\": \"Chicago, IL\", \"Weather\": \"Heavy fog or heaving freezing fog\", \"Number_of_Sightings\": 553.0}, {\"Address\": \"Las Vegas, NV\", \"Weather\": \"Heavy fog or heaving freezing fog\", \"Number_of_Sightings\": 35.0}, {\"Address\": \"Los Angeles, CA\", \"Weather\": \"Heavy fog or heaving freezing fog\", \"Number_of_Sightings\": 562.0}, {\"Address\": \"Orlando, FL\", \"Weather\": \"Heavy fog or heaving freezing fog\", \"Number_of_Sightings\": 281.0}, {\"Address\": \"Phoenix, AZ\", \"Weather\": \"Heavy fog or heaving freezing fog\", \"Number_of_Sightings\": 13.0}, {\"Address\": \"Portland, OR\", \"Weather\": \"Heavy fog or heaving freezing fog\", \"Number_of_Sightings\": 619.0}, {\"Address\": \"San Diego, CA\", \"Weather\": \"Heavy fog or heaving freezing fog\", \"Number_of_Sightings\": 393.0}, {\"Address\": \"Seattle, WA\", \"Weather\": \"Heavy fog or heaving freezing fog\", \"Number_of_Sightings\": 481.0}, {\"Address\": \"Tucson, AZ\", \"Weather\": \"Heavy fog or heaving freezing fog\", \"Number_of_Sightings\": 44.0}, {\"Address\": \"Albuquerque, NM\", \"Weather\": \"Dust, volcanic ash, blowing dust/sand, or blowing obstruction\", \"Number_of_Sightings\": 128.0}, {\"Address\": \"Chicago, IL\", \"Weather\": \"Dust, volcanic ash, blowing dust/sand, or blowing obstruction\", \"Number_of_Sightings\": 90.0}, {\"Address\": \"Las Vegas, NV\", \"Weather\": \"Dust, volcanic ash, blowing dust/sand, or blowing obstruction\", \"Number_of_Sightings\": 147.0}, {\"Address\": \"Los Angeles, CA\", \"Weather\": \"Dust, volcanic ash, blowing dust/sand, or blowing obstruction\", \"Number_of_Sightings\": 439.0}, {\"Address\": \"Orlando, FL\", \"Weather\": \"Dust, volcanic ash, blowing dust/sand, or blowing obstruction\", \"Number_of_Sightings\": 0.0}, {\"Address\": \"Phoenix, AZ\", \"Weather\": \"Dust, volcanic ash, blowing dust/sand, or blowing obstruction\", \"Number_of_Sightings\": 96.0}, {\"Address\": \"Portland, OR\", \"Weather\": \"Dust, volcanic ash, blowing dust/sand, or blowing obstruction\", \"Number_of_Sightings\": 3.0}, {\"Address\": \"San Diego, CA\", \"Weather\": \"Dust, volcanic ash, blowing dust/sand, or blowing obstruction\", \"Number_of_Sightings\": 388.0}, {\"Address\": \"Seattle, WA\", \"Weather\": \"Dust, volcanic ash, blowing dust/sand, or blowing obstruction\", \"Number_of_Sightings\": 37.0}, {\"Address\": \"Tucson, AZ\", \"Weather\": \"Dust, volcanic ash, blowing dust/sand, or blowing obstruction\", \"Number_of_Sightings\": 6.0}, {\"Address\": \"Albuquerque, NM\", \"Weather\": \"Smoke or haze\", \"Number_of_Sightings\": 365.0}, {\"Address\": \"Chicago, IL\", \"Weather\": \"Smoke or haze\", \"Number_of_Sightings\": 4408.0}, {\"Address\": \"Las Vegas, NV\", \"Weather\": \"Smoke or haze\", \"Number_of_Sightings\": 536.0}, {\"Address\": \"Los Angeles, CA\", \"Weather\": \"Smoke or haze\", \"Number_of_Sightings\": 2673.0}, {\"Address\": \"Orlando, FL\", \"Weather\": \"Smoke or haze\", \"Number_of_Sightings\": 671.0}, {\"Address\": \"Phoenix, AZ\", \"Weather\": \"Smoke or haze\", \"Number_of_Sightings\": 178.0}, {\"Address\": \"Portland, OR\", \"Weather\": \"Smoke or haze\", \"Number_of_Sightings\": 482.0}, {\"Address\": \"San Diego, CA\", \"Weather\": \"Smoke or haze\", \"Number_of_Sightings\": 2096.0}, {\"Address\": \"Seattle, WA\", \"Weather\": \"Smoke or haze\", \"Number_of_Sightings\": 454.0}, {\"Address\": \"Tucson, AZ\", \"Weather\": \"Smoke or haze\", \"Number_of_Sightings\": 231.0}, {\"Address\": \"Albuquerque, NM\", \"Weather\": \"High or damaging winds\", \"Number_of_Sightings\": 44.0}, {\"Address\": \"Chicago, IL\", \"Weather\": \"High or damaging winds\", \"Number_of_Sightings\": 324.0}, {\"Address\": \"Las Vegas, NV\", \"Weather\": \"High or damaging winds\", \"Number_of_Sightings\": 120.0}, {\"Address\": \"Los Angeles, CA\", \"Weather\": \"High or damaging winds\", \"Number_of_Sightings\": 0.0}, {\"Address\": \"Orlando, FL\", \"Weather\": \"High or damaging winds\", \"Number_of_Sightings\": 43.0}, {\"Address\": \"Phoenix, AZ\", \"Weather\": \"High or damaging winds\", \"Number_of_Sightings\": 19.0}, {\"Address\": \"Portland, OR\", \"Weather\": \"High or damaging winds\", \"Number_of_Sightings\": 0.0}, {\"Address\": \"San Diego, CA\", \"Weather\": \"High or damaging winds\", \"Number_of_Sightings\": 0.0}, {\"Address\": \"Seattle, WA\", \"Weather\": \"High or damaging winds\", \"Number_of_Sightings\": 0.0}, {\"Address\": \"Tucson, AZ\", \"Weather\": \"High or damaging winds\", \"Number_of_Sightings\": 21.0}, {\"Address\": \"Albuquerque, NM\", \"Weather\": \"Rain, drizzle, and freezing drizzle\", \"Number_of_Sightings\": 1034.0}, {\"Address\": \"Chicago, IL\", \"Weather\": \"Rain, drizzle, and freezing drizzle\", \"Number_of_Sightings\": 3212.0}, {\"Address\": \"Las Vegas, NV\", \"Weather\": \"Rain, drizzle, and freezing drizzle\", \"Number_of_Sightings\": 2014.0}, {\"Address\": \"Los Angeles, CA\", \"Weather\": \"Rain, drizzle, and freezing drizzle\", \"Number_of_Sightings\": 651.0}, {\"Address\": \"Orlando, FL\", \"Weather\": \"Rain, drizzle, and freezing drizzle\", \"Number_of_Sightings\": 1555.0}, {\"Address\": \"Phoenix, AZ\", \"Weather\": \"Rain, drizzle, and freezing drizzle\", \"Number_of_Sightings\": 269.0}, {\"Address\": \"Portland, OR\", \"Weather\": \"Rain, drizzle, and freezing drizzle\", \"Number_of_Sightings\": 2243.0}, {\"Address\": \"San Diego, CA\", \"Weather\": \"Rain, drizzle, and freezing drizzle\", \"Number_of_Sightings\": 824.0}, {\"Address\": \"Seattle, WA\", \"Weather\": \"Rain, drizzle, and freezing drizzle\", \"Number_of_Sightings\": 2133.0}, {\"Address\": \"Tucson, AZ\", \"Weather\": \"Rain, drizzle, and freezing drizzle\", \"Number_of_Sightings\": 753.0}]}}, {\"mode\": \"vega-lite\"});\n",
       "</script>"
      ],
      "text/plain": [
       "alt.HConcatChart(...)"
      ]
     },
     "metadata": {},
     "output_type": "display_data"
    }
   ],
   "source": [
    "(heatmap | bar_chart).resolve_scale(color='independent').display() # Resolve color scale to be independent"
   ]
  },
  {
   "cell_type": "code",
   "execution_count": null,
   "metadata": {},
   "outputs": [],
   "source": [
    "alt.Chart(df_melt).mark_co"
   ]
  },
  {
   "cell_type": "code",
   "execution_count": 412,
   "metadata": {},
   "outputs": [
    {
     "name": "stdout",
     "output_type": "stream",
     "text": [
      "Displaying chart at http://localhost:61990/\n"
     ]
    },
    {
     "ename": "KeyboardInterrupt",
     "evalue": "",
     "output_type": "error",
     "traceback": [
      "\u001b[0;31m---------------------------------------------------------------------------\u001b[0m",
      "\u001b[0;31mKeyboardInterrupt\u001b[0m                         Traceback (most recent call last)",
      "Cell \u001b[0;32mIn[412], line 46\u001b[0m\n\u001b[1;32m     37\u001b[0m \u001b[39m# Create a bar chart with filter transform based on the selected interval in the heatmap\u001b[39;00m\n\u001b[1;32m     38\u001b[0m bar_chart \u001b[39m=\u001b[39m alt\u001b[39m.\u001b[39mChart(df_melt)\u001b[39m.\u001b[39mmark_bar()\u001b[39m.\u001b[39mencode(\n\u001b[1;32m     39\u001b[0m     x \u001b[39m=\u001b[39m alt\u001b[39m.\u001b[39mX(\u001b[39m'\u001b[39m\u001b[39mAddress:N\u001b[39m\u001b[39m'\u001b[39m, title\u001b[39m=\u001b[39m\u001b[39m\"\u001b[39m\u001b[39mCity\u001b[39m\u001b[39m\"\u001b[39m),  \u001b[39m# Set x-axis title\u001b[39;00m\n\u001b[1;32m     40\u001b[0m     y \u001b[39m=\u001b[39m alt\u001b[39m.\u001b[39mY(\u001b[39m'\u001b[39m\u001b[39msum(Number_of_Sightings):Q\u001b[39m\u001b[39m'\u001b[39m, title\u001b[39m=\u001b[39m\u001b[39m\"\u001b[39m\u001b[39mNumber of Sightings\u001b[39m\u001b[39m\"\u001b[39m),  \u001b[39m# Set y-axis title\u001b[39;00m\n\u001b[0;32m   (...)\u001b[0m\n\u001b[1;32m     44\u001b[0m     opacity\u001b[39m=\u001b[39malt\u001b[39m.\u001b[39mcondition(interval, alt\u001b[39m.\u001b[39mvalue(\u001b[39m1\u001b[39m), alt\u001b[39m.\u001b[39mvalue(\u001b[39m0.2\u001b[39m))  \u001b[39m# Set opacity based on the selected interval in the heatmap\u001b[39;00m\n\u001b[1;32m     45\u001b[0m )\u001b[39m.\u001b[39mtransform_filter(interval)  \u001b[39m# Apply filter transform to the bar chart\u001b[39;00m\n\u001b[0;32m---> 46\u001b[0m (bar_chart \u001b[39m|\u001b[39;49m heatmap)\u001b[39m.\u001b[39;49mresolve_scale(color\u001b[39m=\u001b[39;49m\u001b[39m'\u001b[39;49m\u001b[39mindependent\u001b[39;49m\u001b[39m'\u001b[39;49m)\u001b[39m.\u001b[39;49mshow() \u001b[39m# Resolve color scale to be independent\u001b[39;00m\n",
      "File \u001b[0;32m~/miniforge3/envs/anly503/lib/python3.10/site-packages/altair/vegalite/v4/api.py:1795\u001b[0m, in \u001b[0;36mTopLevelMixin.show\u001b[0;34m(self, embed_opt, open_browser)\u001b[0m\n\u001b[1;32m   1790\u001b[0m \u001b[39mexcept\u001b[39;00m \u001b[39mImportError\u001b[39;00m:\n\u001b[1;32m   1791\u001b[0m     \u001b[39mraise\u001b[39;00m \u001b[39mValueError\u001b[39;00m(\n\u001b[1;32m   1792\u001b[0m         \u001b[39m\"\u001b[39m\u001b[39mshow() method requires the altair_viewer package. \u001b[39m\u001b[39m\"\u001b[39m\n\u001b[1;32m   1793\u001b[0m         \u001b[39m\"\u001b[39m\u001b[39mSee http://github.com/altair-viz/altair_viewer\u001b[39m\u001b[39m\"\u001b[39m\n\u001b[1;32m   1794\u001b[0m     )\n\u001b[0;32m-> 1795\u001b[0m altair_viewer\u001b[39m.\u001b[39;49mshow(\u001b[39mself\u001b[39;49m, embed_opt\u001b[39m=\u001b[39;49membed_opt, open_browser\u001b[39m=\u001b[39;49mopen_browser)\n",
      "File \u001b[0;32m~/miniforge3/envs/anly503/lib/python3.10/site-packages/altair_viewer/_viewer.py:358\u001b[0m, in \u001b[0;36mChartViewer.show\u001b[0;34m(self, chart, embed_opt, open_browser)\u001b[0m\n\u001b[1;32m    356\u001b[0m \u001b[39mprint\u001b[39m(msg)\n\u001b[1;32m    357\u001b[0m \u001b[39mif\u001b[39;00m \u001b[39mself\u001b[39m\u001b[39m.\u001b[39m_provider \u001b[39mis\u001b[39;00m \u001b[39mnot\u001b[39;00m \u001b[39mNone\u001b[39;00m:\n\u001b[0;32m--> 358\u001b[0m     \u001b[39mself\u001b[39;49m\u001b[39m.\u001b[39;49m_provider\u001b[39m.\u001b[39;49m_disconnect_event\u001b[39m.\u001b[39;49mwait()\n",
      "File \u001b[0;32m~/miniforge3/envs/anly503/lib/python3.10/threading.py:607\u001b[0m, in \u001b[0;36mEvent.wait\u001b[0;34m(self, timeout)\u001b[0m\n\u001b[1;32m    605\u001b[0m signaled \u001b[39m=\u001b[39m \u001b[39mself\u001b[39m\u001b[39m.\u001b[39m_flag\n\u001b[1;32m    606\u001b[0m \u001b[39mif\u001b[39;00m \u001b[39mnot\u001b[39;00m signaled:\n\u001b[0;32m--> 607\u001b[0m     signaled \u001b[39m=\u001b[39m \u001b[39mself\u001b[39;49m\u001b[39m.\u001b[39;49m_cond\u001b[39m.\u001b[39;49mwait(timeout)\n\u001b[1;32m    608\u001b[0m \u001b[39mreturn\u001b[39;00m signaled\n",
      "File \u001b[0;32m~/miniforge3/envs/anly503/lib/python3.10/threading.py:320\u001b[0m, in \u001b[0;36mCondition.wait\u001b[0;34m(self, timeout)\u001b[0m\n\u001b[1;32m    318\u001b[0m \u001b[39mtry\u001b[39;00m:    \u001b[39m# restore state no matter what (e.g., KeyboardInterrupt)\u001b[39;00m\n\u001b[1;32m    319\u001b[0m     \u001b[39mif\u001b[39;00m timeout \u001b[39mis\u001b[39;00m \u001b[39mNone\u001b[39;00m:\n\u001b[0;32m--> 320\u001b[0m         waiter\u001b[39m.\u001b[39;49macquire()\n\u001b[1;32m    321\u001b[0m         gotit \u001b[39m=\u001b[39m \u001b[39mTrue\u001b[39;00m\n\u001b[1;32m    322\u001b[0m     \u001b[39melse\u001b[39;00m:\n",
      "\u001b[0;31mKeyboardInterrupt\u001b[0m: "
     ]
    }
   ],
   "source": [
    "# Filter the dataframe to only include rows where the weather variables are equal to 1\n",
    "df_filtered = df_weather_ufo[(df_weather_ufo['WT02'] == 1) | (df_weather_ufo['WT07'] == 1) | (df_weather_ufo['WT08'] == 1) | (df_weather_ufo['WT11'] == 1) | (df_weather_ufo['WT16'] == 1)]\n",
    "\n",
    "# Group data by city and calculate the count of sightings for each weather variable\n",
    "df_grouped = df_filtered.groupby(['Address']).sum(numeric_only=True).reset_index()\n",
    "\n",
    "# Convert the wide format to long format for Altair\n",
    "df_melt = pd.melt(df_grouped, id_vars=['Address'], value_vars=[\"WT02\", \"WT07\", \"WT08\", \"WT11\", \"WT16\"],\n",
    "                  var_name=\"Weather\", value_name=\"Number_of_Sightings\")\n",
    "\n",
    "# Create a dictionary to map weather variable names to the corresponding weather description\n",
    "weather_desc_map = {'WT02': 'Heavy fog or heaving freezing fog', \n",
    "                    'WT07': 'Dust, volcanic ash, blowing dust/sand, or blowing obstruction', \n",
    "                    'WT08': 'Smoke or haze', \n",
    "                    'WT11': 'High or damaging winds', \n",
    "                    'WT16': 'Rain, drizzle, and freezing drizzle'}\n",
    "\n",
    "# Update the Weather column with the corresponding weather descriptions\n",
    "df_melt['Weather'] = df_melt['Weather'].map(weather_desc_map)\n",
    "\n",
    "# Define custom color sequence\n",
    "custom_colors = ['#3E93AB', '#A8DFF7', '#25536D', '#57899C', '#B5D1D4', '#2F4E48']\n",
    "\n",
    "# Create an interval selection for the x-axis (city) in the heatmap\n",
    "interval = alt.selection_single(fields=['Weather'], name = 'Weather')\n",
    "color =  alt.condition(interval, alt.value('#3E93AB'), alt.value('lightgray'))\n",
    "\n",
    "# Create a heatmap\n",
    "heatmap = alt.Chart(df_melt).mark_rect().encode(\n",
    "    x = alt.X('Address:N', title=\"City\", axis=alt.Axis(labelAngle=-45, labelAlign='right')),  # Set x-axis title, label angle, and alignment\n",
    "    y = alt.Y('Weather:N', title=\"Weather Descriptions\"),  # Set y-axis title\n",
    "    # color = alt.Color('Number_of_Sightings:Q', title=\"Number of Sightings\"),  # Set color encoding to Number_of_Sightings\n",
    "    color = color,\n",
    "    tooltip=['Address:N', 'Weather:N', 'Number_of_Sightings:Q']  # Set tooltip to show Address, Weather, and Number_of_Sightings\n",
    ").add_selection(interval)  # Add interval selection to the chart\n",
    "\n",
    "# Create a bar chart with filter transform based on the selected interval in the heatmap\n",
    "bar_chart = alt.Chart(df_melt).mark_bar().encode(\n",
    "    x = alt.X('Address:N', title=\"City\"),  # Set x-axis title\n",
    "    y = alt.Y('sum(Number_of_Sightings):Q', title=\"Number of Sightings\"),  # Set y-axis title\n",
    "    # color = alt.Color('Weather:N', title=\"Weather Descriptions\"),  # Set color encoding to Weather\n",
    "    color = color,\n",
    "    tooltip=['Address:N', 'Weather:N', 'sum(Number_of_Sightings):Q'],  # Set tooltip to show Address, Weather, and sum of Number_of_Sightings\n",
    "    opacity=alt.condition(interval, alt.value(1), alt.value(0.2))  # Set opacity based on the selected interval in the heatmap\n",
    ").transform_filter(interval)  # Apply filter transform to the bar chart\n",
    "(bar_chart | heatmap).resolve_scale(color='independent').show() # Resolve color scale to be independent"
   ]
  },
  {
   "cell_type": "code",
   "execution_count": 414,
   "metadata": {},
   "outputs": [
    {
     "name": "stdout",
     "output_type": "stream",
     "text": [
      "Displaying chart at http://localhost:61990/\n"
     ]
    },
    {
     "ename": "KeyboardInterrupt",
     "evalue": "",
     "output_type": "error",
     "traceback": [
      "\u001b[0;31m---------------------------------------------------------------------------\u001b[0m",
      "\u001b[0;31mKeyboardInterrupt\u001b[0m                         Traceback (most recent call last)",
      "Cell \u001b[0;32mIn[414], line 46\u001b[0m\n\u001b[1;32m     38\u001b[0m \u001b[39m# Create a bar chart with filter transform based on the selected interval in the heatmap\u001b[39;00m\n\u001b[1;32m     39\u001b[0m bar_chart \u001b[39m=\u001b[39m alt\u001b[39m.\u001b[39mChart(df_melt)\u001b[39m.\u001b[39mmark_bar()\u001b[39m.\u001b[39mencode(\n\u001b[1;32m     40\u001b[0m     alt\u001b[39m.\u001b[39mX(\u001b[39m'\u001b[39m\u001b[39mAddress:N\u001b[39m\u001b[39m'\u001b[39m, title\u001b[39m=\u001b[39m\u001b[39m\"\u001b[39m\u001b[39mCity\u001b[39m\u001b[39m\"\u001b[39m),  \u001b[39m# Set x-axis title\u001b[39;00m\n\u001b[1;32m     41\u001b[0m     alt\u001b[39m.\u001b[39mY(\u001b[39m'\u001b[39m\u001b[39msum(Number_of_Sightings):Q\u001b[39m\u001b[39m'\u001b[39m, title\u001b[39m=\u001b[39m\u001b[39m\"\u001b[39m\u001b[39mNumber of Sightings\u001b[39m\u001b[39m\"\u001b[39m),  \u001b[39m# Set y-axis title\u001b[39;00m\n\u001b[0;32m   (...)\u001b[0m\n\u001b[1;32m     44\u001b[0m     opacity\u001b[39m=\u001b[39malt\u001b[39m.\u001b[39mcondition(interval, alt\u001b[39m.\u001b[39mvalue(\u001b[39m1\u001b[39m), alt\u001b[39m.\u001b[39mvalue(\u001b[39m0.2\u001b[39m))  \u001b[39m# Set opacity based on the selected interval in the heatmap\u001b[39;00m\n\u001b[1;32m     45\u001b[0m )\u001b[39m.\u001b[39mtransform_filter(interval)  \u001b[39m# Apply filter transform to the bar chart\u001b[39;00m\n\u001b[0;32m---> 46\u001b[0m (bar_chart \u001b[39m|\u001b[39;49m heatmap)\u001b[39m.\u001b[39;49mresolve_scale(color\u001b[39m=\u001b[39;49m\u001b[39m'\u001b[39;49m\u001b[39mindependent\u001b[39;49m\u001b[39m'\u001b[39;49m)\u001b[39m.\u001b[39;49mshow() \u001b[39m# Resolve color scale to be independent\u001b[39;00m\n",
      "File \u001b[0;32m~/miniforge3/envs/anly503/lib/python3.10/site-packages/altair/vegalite/v4/api.py:1795\u001b[0m, in \u001b[0;36mTopLevelMixin.show\u001b[0;34m(self, embed_opt, open_browser)\u001b[0m\n\u001b[1;32m   1790\u001b[0m \u001b[39mexcept\u001b[39;00m \u001b[39mImportError\u001b[39;00m:\n\u001b[1;32m   1791\u001b[0m     \u001b[39mraise\u001b[39;00m \u001b[39mValueError\u001b[39;00m(\n\u001b[1;32m   1792\u001b[0m         \u001b[39m\"\u001b[39m\u001b[39mshow() method requires the altair_viewer package. \u001b[39m\u001b[39m\"\u001b[39m\n\u001b[1;32m   1793\u001b[0m         \u001b[39m\"\u001b[39m\u001b[39mSee http://github.com/altair-viz/altair_viewer\u001b[39m\u001b[39m\"\u001b[39m\n\u001b[1;32m   1794\u001b[0m     )\n\u001b[0;32m-> 1795\u001b[0m altair_viewer\u001b[39m.\u001b[39;49mshow(\u001b[39mself\u001b[39;49m, embed_opt\u001b[39m=\u001b[39;49membed_opt, open_browser\u001b[39m=\u001b[39;49mopen_browser)\n",
      "File \u001b[0;32m~/miniforge3/envs/anly503/lib/python3.10/site-packages/altair_viewer/_viewer.py:358\u001b[0m, in \u001b[0;36mChartViewer.show\u001b[0;34m(self, chart, embed_opt, open_browser)\u001b[0m\n\u001b[1;32m    356\u001b[0m \u001b[39mprint\u001b[39m(msg)\n\u001b[1;32m    357\u001b[0m \u001b[39mif\u001b[39;00m \u001b[39mself\u001b[39m\u001b[39m.\u001b[39m_provider \u001b[39mis\u001b[39;00m \u001b[39mnot\u001b[39;00m \u001b[39mNone\u001b[39;00m:\n\u001b[0;32m--> 358\u001b[0m     \u001b[39mself\u001b[39;49m\u001b[39m.\u001b[39;49m_provider\u001b[39m.\u001b[39;49m_disconnect_event\u001b[39m.\u001b[39;49mwait()\n",
      "File \u001b[0;32m~/miniforge3/envs/anly503/lib/python3.10/threading.py:607\u001b[0m, in \u001b[0;36mEvent.wait\u001b[0;34m(self, timeout)\u001b[0m\n\u001b[1;32m    605\u001b[0m signaled \u001b[39m=\u001b[39m \u001b[39mself\u001b[39m\u001b[39m.\u001b[39m_flag\n\u001b[1;32m    606\u001b[0m \u001b[39mif\u001b[39;00m \u001b[39mnot\u001b[39;00m signaled:\n\u001b[0;32m--> 607\u001b[0m     signaled \u001b[39m=\u001b[39m \u001b[39mself\u001b[39;49m\u001b[39m.\u001b[39;49m_cond\u001b[39m.\u001b[39;49mwait(timeout)\n\u001b[1;32m    608\u001b[0m \u001b[39mreturn\u001b[39;00m signaled\n",
      "File \u001b[0;32m~/miniforge3/envs/anly503/lib/python3.10/threading.py:320\u001b[0m, in \u001b[0;36mCondition.wait\u001b[0;34m(self, timeout)\u001b[0m\n\u001b[1;32m    318\u001b[0m \u001b[39mtry\u001b[39;00m:    \u001b[39m# restore state no matter what (e.g., KeyboardInterrupt)\u001b[39;00m\n\u001b[1;32m    319\u001b[0m     \u001b[39mif\u001b[39;00m timeout \u001b[39mis\u001b[39;00m \u001b[39mNone\u001b[39;00m:\n\u001b[0;32m--> 320\u001b[0m         waiter\u001b[39m.\u001b[39;49macquire()\n\u001b[1;32m    321\u001b[0m         gotit \u001b[39m=\u001b[39m \u001b[39mTrue\u001b[39;00m\n\u001b[1;32m    322\u001b[0m     \u001b[39melse\u001b[39;00m:\n",
      "\u001b[0;31mKeyboardInterrupt\u001b[0m: "
     ]
    }
   ],
   "source": [
    "import altair as alt\n",
    "import pandas as pd\n",
    "\n",
    "# Filter the dataframe to only include rows where the weather variables are equal to 1\n",
    "df_filtered = df_weather_ufo[(df_weather_ufo['WT02'] == 1) | (df_weather_ufo['WT07'] == 1) | (df_weather_ufo['WT08'] == 1) | (df_weather_ufo['WT11'] == 1) | (df_weather_ufo['WT16'] == 1)]\n",
    "\n",
    "# Group data by city and calculate the count of sightings for each weather variable\n",
    "df_grouped = df_filtered.groupby(['Address']).sum(numeric_only=True).reset_index()\n",
    "\n",
    "# Convert the wide format to long format for Altair\n",
    "df_melt = pd.melt(df_grouped, id_vars=['Address'], value_vars=[\"WT02\", \"WT07\", \"WT08\", \"WT11\", \"WT16\"],\n",
    "                  var_name=\"Weather\", value_name=\"Number_of_Sightings\")\n",
    "\n",
    "# Create a dictionary to map weather variable names to the corresponding weather description\n",
    "weather_desc_map = {'WT02': 'Heavy fog or heaving freezing fog', \n",
    "                    'WT07': 'Dust, volcanic ash, blowing dust/sand, or blowing obstruction', \n",
    "                    'WT08': 'Smoke or haze', \n",
    "                    'WT11': 'High or damaging winds', \n",
    "                    'WT16': 'Rain, drizzle, and freezing drizzle'}\n",
    "\n",
    "# Update the Weather column with the corresponding weather descriptions\n",
    "df_melt['Weather'] = df_melt['Weather'].map(weather_desc_map)\n",
    "\n",
    "# Define custom color sequence\n",
    "custom_colors = ['#3E93AB', '#A8DFF7', '#25536D', '#57899C', '#B5D1D4', '#2F4E48']\n",
    "\n",
    "# Create an interval selection for the x-axis (city) in the heatmap\n",
    "interval = alt.selection_interval(encodings=['x'])\n",
    "\n",
    "# Create a heatmap\n",
    "heatmap = alt.Chart(df_melt).mark_rect().encode(\n",
    "    alt.X('Address:N', title=\"City\", axis=alt.Axis(labelAngle=-45, labelAlign='right')),  # Set x-axis title, label angle, and alignment\n",
    "    alt.Y('Weather:N', title=\"Weather Descriptions\"),  # Set y-axis title\n",
    "    alt.Color('Number_of_Sightings:Q', title=\"Number of Sightings\"),  # Set color encoding to Number_of_Sightings\n",
    "    tooltip=['Address:N', 'Weather:N', 'Number_of_Sightings:Q']  # Set tooltip to show Address, Weather, and Number_of_Sightings\n",
    ").add_selection(interval)  # Add interval selection to the chart\n",
    "\n",
    "# Create a bar chart with filter transform based on the selected interval in the heatmap\n",
    "bar_chart = alt.Chart(df_melt).mark_bar().encode(\n",
    "    alt.X('Address:N', title=\"City\"),  # Set x-axis title\n",
    "    alt.Y('sum(Number_of_Sightings):Q', title=\"Number of Sightings\"),  # Set y-axis title\n",
    "    alt.Color('Weather:N', title=\"Weather Descriptions\"),  # Set color encoding to Weather\n",
    "    tooltip=['Address:N', 'Weather:N', 'sum(Number_of_Sightings):Q'],  # Set tooltip to show Address, Weather, and sum of Number_of_Sightings\n",
    "    opacity=alt.condition(interval, alt.value(1), alt.value(0.2))  # Set opacity based on the selected interval in the heatmap\n",
    ").transform_filter(interval)  # Apply filter transform to the bar chart\n",
    "(bar_chart | heatmap).resolve_scale(color='independent').show() # Resolve color scale to be independent"
   ]
  }
 ],
 "metadata": {
  "kernelspec": {
   "display_name": "anly503",
   "language": "python",
   "name": "python3"
  },
  "language_info": {
   "name": "python",
   "version": "3.10.8"
  },
  "orig_nbformat": 4
 },
 "nbformat": 4,
 "nbformat_minor": 2
}
